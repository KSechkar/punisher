{
 "cells": [
  {
   "cell_type": "code",
   "id": "initial_id",
   "metadata": {
    "collapsed": true,
    "ExecuteTime": {
     "end_time": "2024-09-30T18:49:23.656935Z",
     "start_time": "2024-09-30T18:49:22.945243Z"
    }
   },
   "source": [
    "'''\n",
    "Notebook for FIG S?H - comparing the effects of muttating synthetic and native genes\n",
    "'''\n",
    "# By Kirill Sechkar\n",
    "\n",
    "# PACKAGE IMPORTS ------------------------------------------------------------------------------------------------------\n",
    "import numpy as np\n",
    "import jax\n",
    "import jax.numpy as jnp\n",
    "import functools\n",
    "from diffrax import diffeqsolve, Dopri5, ODETerm, SaveAt, PIDController, SteadyStateEvent\n",
    "import pandas as pd\n",
    "import pickle\n",
    "from bokeh import plotting as bkplot, models as bkmodels, layouts as bklayouts, palettes as bkpalettes, transform as bktransform\n",
    "from math import pi\n",
    "from bokeh import plotting as bkplot, models as bkmodels, layouts as bklayouts, io as bkio\n",
    "from bokeh.colors import RGB as bkRGB\n",
    "from contourpy import contour_generator as cgen\n",
    "import time\n",
    "\n",
    "# set up jax\n",
    "from jax.lib import xla_bridge\n",
    "jax.config.update('jax_platform_name', 'cpu')\n",
    "jax.config.update(\"jax_enable_x64\", True)\n",
    "print(xla_bridge.get_backend().platform)\n",
    "\n",
    "# set up bokeh\n",
    "bkio.reset_output()\n",
    "bkio.output_notebook() \n",
    "\n",
    "# OWN CODE IMPORTS -----------------------------------------------------------------------------------------------------\n",
    "import synthetic_circuits as circuits\n",
    "from cell_model import *\n",
    "from get_steady_state import *\n",
    "from Fig2.design_guidance_tools import *"
   ],
   "outputs": [
    {
     "name": "stderr",
     "output_type": "stream",
     "text": [
      "/tmp/ipykernel_7131/2454757870.py:25: DeprecationWarning: jax.lib.xla_bridge.get_backend is deprecated; use jax.extend.backend.get_backend.\n",
      "  print(xla_bridge.get_backend().platform)\n",
      "An NVIDIA GPU may be present on this machine, but a CUDA-enabled jaxlib is not installed. Falling back to cpu.\n"
     ]
    },
    {
     "name": "stdout",
     "output_type": "stream",
     "text": [
      "cpu\n"
     ]
    },
    {
     "data": {
      "text/html": [
       "    <style>\n",
       "        .bk-notebook-logo {\n",
       "            display: block;\n",
       "            width: 20px;\n",
       "            height: 20px;\n",
       "            background-image: url(data:image/png;base64,iVBORw0KGgoAAAANSUhEUgAAABQAAAAUCAYAAACNiR0NAAAABHNCSVQICAgIfAhkiAAAAAlwSFlzAAALEgAACxIB0t1+/AAAABx0RVh0U29mdHdhcmUAQWRvYmUgRmlyZXdvcmtzIENTNui8sowAAAOkSURBVDiNjZRtaJVlGMd/1/08zzln5zjP1LWcU9N0NkN8m2CYjpgQYQXqSs0I84OLIC0hkEKoPtiH3gmKoiJDU7QpLgoLjLIQCpEsNJ1vqUOdO7ppbuec5+V+rj4ctwzd8IIbbi6u+8f1539dt3A78eXC7QizUF7gyV1fD1Yqg4JWz84yffhm0qkFqBogB9rM8tZdtwVsPUhWhGcFJngGeWrPzHm5oaMmkfEg1usvLFyc8jLRqDOMru7AyC8saQr7GG7f5fvDeH7Ej8CM66nIF+8yngt6HWaKh7k49Soy9nXurCi1o3qUbS3zWfrYeQDTB/Qj6kX6Ybhw4B+bOYoLKCC9H3Nu/leUTZ1JdRWkkn2ldcCamzrcf47KKXdAJllSlxAOkRgyHsGC/zRday5Qld9DyoM4/q/rUoy/CXh3jzOu3bHUVZeU+DEn8FInkPBFlu3+nW3Nw0mk6vCDiWg8CeJaxEwuHS3+z5RgY+YBR6V1Z1nxSOfoaPa4LASWxxdNp+VWTk7+4vzaou8v8PN+xo+KY2xsw6une2frhw05CTYOmQvsEhjhWjn0bmXPjpE1+kplmmkP3suftwTubK9Vq22qKmrBhpY4jvd5afdRA3wGjFAgcnTK2s4hY0/GPNIb0nErGMCRxWOOX64Z8RAC4oCXdklmEvcL8o0BfkNK4lUg9HTl+oPlQxdNo3Mg4Nv175e/1LDGzZen30MEjRUtmXSfiTVu1kK8W4txyV6BMKlbgk3lMwYCiusNy9fVfvvwMxv8Ynl6vxoByANLTWplvuj/nF9m2+PDtt1eiHPBr1oIfhCChQMBw6Aw0UulqTKZdfVvfG7VcfIqLG9bcldL/+pdWTLxLUy8Qq38heUIjh4XlzZxzQm19lLFlr8vdQ97rjZVOLf8nclzckbcD4wxXMidpX30sFd37Fv/GtwwhzhxGVAprjbg0gCAEeIgwCZyTV2Z1REEW8O4py0wsjeloKoMr6iCY6dP92H6Vw/oTyICIthibxjm/DfN9lVz8IqtqKYLUXfoKVMVQVVJOElGjrnnUt9T9wbgp8AyYKaGlqingHZU/uG2NTZSVqwHQTWkx9hxjkpWDaCg6Ckj5qebgBVbT3V3NNXMSiWSDdGV3hrtzla7J+duwPOToIg42ChPQOQjspnSlp1V+Gjdged7+8UN5CRAV7a5EdFNwCjEaBR27b3W890TE7g24NAP/mMDXRWrGoFPQI9ls/MWO2dWFAar/xcOIImbbpA3zgAAAABJRU5ErkJggg==);\n",
       "        }\n",
       "    </style>\n",
       "    <div>\n",
       "        <a href=\"https://bokeh.org\" target=\"_blank\" class=\"bk-notebook-logo\"></a>\n",
       "        <span id=\"b52d5332-c485-4fbf-9d77-833e76f582ae\">Loading BokehJS ...</span>\n",
       "    </div>\n"
      ]
     },
     "metadata": {},
     "output_type": "display_data"
    },
    {
     "data": {
      "application/javascript": "'use strict';\n(function(root) {\n  function now() {\n    return new Date();\n  }\n\n  const force = true;\n\n  if (typeof root._bokeh_onload_callbacks === \"undefined\" || force === true) {\n    root._bokeh_onload_callbacks = [];\n    root._bokeh_is_loading = undefined;\n  }\n\nconst JS_MIME_TYPE = 'application/javascript';\n  const HTML_MIME_TYPE = 'text/html';\n  const EXEC_MIME_TYPE = 'application/vnd.bokehjs_exec.v0+json';\n  const CLASS_NAME = 'output_bokeh rendered_html';\n\n  /**\n   * Render data to the DOM node\n   */\n  function render(props, node) {\n    const script = document.createElement(\"script\");\n    node.appendChild(script);\n  }\n\n  /**\n   * Handle when an output is cleared or removed\n   */\n  function handleClearOutput(event, handle) {\n    function drop(id) {\n      const view = Bokeh.index.get_by_id(id)\n      if (view != null) {\n        view.model.document.clear()\n        Bokeh.index.delete(view)\n      }\n    }\n\n    const cell = handle.cell;\n\n    const id = cell.output_area._bokeh_element_id;\n    const server_id = cell.output_area._bokeh_server_id;\n\n    // Clean up Bokeh references\n    if (id != null) {\n      drop(id)\n    }\n\n    if (server_id !== undefined) {\n      // Clean up Bokeh references\n      const cmd_clean = \"from bokeh.io.state import curstate; print(curstate().uuid_to_server['\" + server_id + \"'].get_sessions()[0].document.roots[0]._id)\";\n      cell.notebook.kernel.execute(cmd_clean, {\n        iopub: {\n          output: function(msg) {\n            const id = msg.content.text.trim()\n            drop(id)\n          }\n        }\n      });\n      // Destroy server and session\n      const cmd_destroy = \"import bokeh.io.notebook as ion; ion.destroy_server('\" + server_id + \"')\";\n      cell.notebook.kernel.execute(cmd_destroy);\n    }\n  }\n\n  /**\n   * Handle when a new output is added\n   */\n  function handleAddOutput(event, handle) {\n    const output_area = handle.output_area;\n    const output = handle.output;\n\n    // limit handleAddOutput to display_data with EXEC_MIME_TYPE content only\n    if ((output.output_type != \"display_data\") || (!Object.prototype.hasOwnProperty.call(output.data, EXEC_MIME_TYPE))) {\n      return\n    }\n\n    const toinsert = output_area.element.find(\".\" + CLASS_NAME.split(' ')[0]);\n\n    if (output.metadata[EXEC_MIME_TYPE][\"id\"] !== undefined) {\n      toinsert[toinsert.length - 1].firstChild.textContent = output.data[JS_MIME_TYPE];\n      // store reference to embed id on output_area\n      output_area._bokeh_element_id = output.metadata[EXEC_MIME_TYPE][\"id\"];\n    }\n    if (output.metadata[EXEC_MIME_TYPE][\"server_id\"] !== undefined) {\n      const bk_div = document.createElement(\"div\");\n      bk_div.innerHTML = output.data[HTML_MIME_TYPE];\n      const script_attrs = bk_div.children[0].attributes;\n      for (let i = 0; i < script_attrs.length; i++) {\n        toinsert[toinsert.length - 1].firstChild.setAttribute(script_attrs[i].name, script_attrs[i].value);\n        toinsert[toinsert.length - 1].firstChild.textContent = bk_div.children[0].textContent\n      }\n      // store reference to server id on output_area\n      output_area._bokeh_server_id = output.metadata[EXEC_MIME_TYPE][\"server_id\"];\n    }\n  }\n\n  function register_renderer(events, OutputArea) {\n\n    function append_mime(data, metadata, element) {\n      // create a DOM node to render to\n      const toinsert = this.create_output_subarea(\n        metadata,\n        CLASS_NAME,\n        EXEC_MIME_TYPE\n      );\n      this.keyboard_manager.register_events(toinsert);\n      // Render to node\n      const props = {data: data, metadata: metadata[EXEC_MIME_TYPE]};\n      render(props, toinsert[toinsert.length - 1]);\n      element.append(toinsert);\n      return toinsert\n    }\n\n    /* Handle when an output is cleared or removed */\n    events.on('clear_output.CodeCell', handleClearOutput);\n    events.on('delete.Cell', handleClearOutput);\n\n    /* Handle when a new output is added */\n    events.on('output_added.OutputArea', handleAddOutput);\n\n    /**\n     * Register the mime type and append_mime function with output_area\n     */\n    OutputArea.prototype.register_mime_type(EXEC_MIME_TYPE, append_mime, {\n      /* Is output safe? */\n      safe: true,\n      /* Index of renderer in `output_area.display_order` */\n      index: 0\n    });\n  }\n\n  // register the mime type if in Jupyter Notebook environment and previously unregistered\n  if (root.Jupyter !== undefined) {\n    const events = require('base/js/events');\n    const OutputArea = require('notebook/js/outputarea').OutputArea;\n\n    if (OutputArea.prototype.mime_types().indexOf(EXEC_MIME_TYPE) == -1) {\n      register_renderer(events, OutputArea);\n    }\n  }\n  if (typeof (root._bokeh_timeout) === \"undefined\" || force === true) {\n    root._bokeh_timeout = Date.now() + 5000;\n    root._bokeh_failed_load = false;\n  }\n\n  const NB_LOAD_WARNING = {'data': {'text/html':\n     \"<div style='background-color: #fdd'>\\n\"+\n     \"<p>\\n\"+\n     \"BokehJS does not appear to have successfully loaded. If loading BokehJS from CDN, this \\n\"+\n     \"may be due to a slow or bad network connection. Possible fixes:\\n\"+\n     \"</p>\\n\"+\n     \"<ul>\\n\"+\n     \"<li>re-rerun `output_notebook()` to attempt to load from CDN again, or</li>\\n\"+\n     \"<li>use INLINE resources instead, as so:</li>\\n\"+\n     \"</ul>\\n\"+\n     \"<code>\\n\"+\n     \"from bokeh.resources import INLINE\\n\"+\n     \"output_notebook(resources=INLINE)\\n\"+\n     \"</code>\\n\"+\n     \"</div>\"}};\n\n  function display_loaded(error = null) {\n    const el = document.getElementById(\"b52d5332-c485-4fbf-9d77-833e76f582ae\");\n    if (el != null) {\n      const html = (() => {\n        if (typeof root.Bokeh === \"undefined\") {\n          if (error == null) {\n            return \"BokehJS is loading ...\";\n          } else {\n            return \"BokehJS failed to load.\";\n          }\n        } else {\n          const prefix = `BokehJS ${root.Bokeh.version}`;\n          if (error == null) {\n            return `${prefix} successfully loaded.`;\n          } else {\n            return `${prefix} <b>encountered errors</b> while loading and may not function as expected.`;\n          }\n        }\n      })();\n      el.innerHTML = html;\n\n      if (error != null) {\n        const wrapper = document.createElement(\"div\");\n        wrapper.style.overflow = \"auto\";\n        wrapper.style.height = \"5em\";\n        wrapper.style.resize = \"vertical\";\n        const content = document.createElement(\"div\");\n        content.style.fontFamily = \"monospace\";\n        content.style.whiteSpace = \"pre-wrap\";\n        content.style.backgroundColor = \"rgb(255, 221, 221)\";\n        content.textContent = error.stack ?? error.toString();\n        wrapper.append(content);\n        el.append(wrapper);\n      }\n    } else if (Date.now() < root._bokeh_timeout) {\n      setTimeout(() => display_loaded(error), 100);\n    }\n  }\n\n  function run_callbacks() {\n    try {\n      root._bokeh_onload_callbacks.forEach(function(callback) {\n        if (callback != null)\n          callback();\n      });\n    } finally {\n      delete root._bokeh_onload_callbacks\n    }\n    console.debug(\"Bokeh: all callbacks have finished\");\n  }\n\n  function load_libs(css_urls, js_urls, callback) {\n    if (css_urls == null) css_urls = [];\n    if (js_urls == null) js_urls = [];\n\n    root._bokeh_onload_callbacks.push(callback);\n    if (root._bokeh_is_loading > 0) {\n      console.debug(\"Bokeh: BokehJS is being loaded, scheduling callback at\", now());\n      return null;\n    }\n    if (js_urls == null || js_urls.length === 0) {\n      run_callbacks();\n      return null;\n    }\n    console.debug(\"Bokeh: BokehJS not loaded, scheduling load and callback at\", now());\n    root._bokeh_is_loading = css_urls.length + js_urls.length;\n\n    function on_load() {\n      root._bokeh_is_loading--;\n      if (root._bokeh_is_loading === 0) {\n        console.debug(\"Bokeh: all BokehJS libraries/stylesheets loaded\");\n        run_callbacks()\n      }\n    }\n\n    function on_error(url) {\n      console.error(\"failed to load \" + url);\n    }\n\n    for (let i = 0; i < css_urls.length; i++) {\n      const url = css_urls[i];\n      const element = document.createElement(\"link\");\n      element.onload = on_load;\n      element.onerror = on_error.bind(null, url);\n      element.rel = \"stylesheet\";\n      element.type = \"text/css\";\n      element.href = url;\n      console.debug(\"Bokeh: injecting link tag for BokehJS stylesheet: \", url);\n      document.body.appendChild(element);\n    }\n\n    for (let i = 0; i < js_urls.length; i++) {\n      const url = js_urls[i];\n      const element = document.createElement('script');\n      element.onload = on_load;\n      element.onerror = on_error.bind(null, url);\n      element.async = false;\n      element.src = url;\n      console.debug(\"Bokeh: injecting script tag for BokehJS library: \", url);\n      document.head.appendChild(element);\n    }\n  };\n\n  function inject_raw_css(css) {\n    const element = document.createElement(\"style\");\n    element.appendChild(document.createTextNode(css));\n    document.body.appendChild(element);\n  }\n\n  const js_urls = [\"https://cdn.bokeh.org/bokeh/release/bokeh-3.4.3.min.js\", \"https://cdn.bokeh.org/bokeh/release/bokeh-gl-3.4.3.min.js\", \"https://cdn.bokeh.org/bokeh/release/bokeh-widgets-3.4.3.min.js\", \"https://cdn.bokeh.org/bokeh/release/bokeh-tables-3.4.3.min.js\", \"https://cdn.bokeh.org/bokeh/release/bokeh-mathjax-3.4.3.min.js\"];\n  const css_urls = [];\n\n  const inline_js = [    function(Bokeh) {\n      Bokeh.set_log_level(\"info\");\n    },\nfunction(Bokeh) {\n    }\n  ];\n\n  function run_inline_js() {\n    if (root.Bokeh !== undefined || force === true) {\n      try {\n            for (let i = 0; i < inline_js.length; i++) {\n      inline_js[i].call(root, root.Bokeh);\n    }\n\n      } catch (error) {display_loaded(error);throw error;\n      }if (force === true) {\n        display_loaded();\n      }} else if (Date.now() < root._bokeh_timeout) {\n      setTimeout(run_inline_js, 100);\n    } else if (!root._bokeh_failed_load) {\n      console.log(\"Bokeh: BokehJS failed to load within specified timeout.\");\n      root._bokeh_failed_load = true;\n    } else if (force !== true) {\n      const cell = $(document.getElementById(\"b52d5332-c485-4fbf-9d77-833e76f582ae\")).parents('.cell').data().cell;\n      cell.output_area.append_execute_result(NB_LOAD_WARNING)\n    }\n  }\n\n  if (root._bokeh_is_loading === 0) {\n    console.debug(\"Bokeh: BokehJS loaded, going straight to plotting\");\n    run_inline_js();\n  } else {\n    load_libs(css_urls, js_urls, function() {\n      console.debug(\"Bokeh: BokehJS plotting callback run at\", now());\n      run_inline_js();\n    });\n  }\n}(window));",
      "application/vnd.bokehjs_load.v0+json": "'use strict';\n(function(root) {\n  function now() {\n    return new Date();\n  }\n\n  const force = true;\n\n  if (typeof root._bokeh_onload_callbacks === \"undefined\" || force === true) {\n    root._bokeh_onload_callbacks = [];\n    root._bokeh_is_loading = undefined;\n  }\n\n\n  if (typeof (root._bokeh_timeout) === \"undefined\" || force === true) {\n    root._bokeh_timeout = Date.now() + 5000;\n    root._bokeh_failed_load = false;\n  }\n\n  const NB_LOAD_WARNING = {'data': {'text/html':\n     \"<div style='background-color: #fdd'>\\n\"+\n     \"<p>\\n\"+\n     \"BokehJS does not appear to have successfully loaded. If loading BokehJS from CDN, this \\n\"+\n     \"may be due to a slow or bad network connection. Possible fixes:\\n\"+\n     \"</p>\\n\"+\n     \"<ul>\\n\"+\n     \"<li>re-rerun `output_notebook()` to attempt to load from CDN again, or</li>\\n\"+\n     \"<li>use INLINE resources instead, as so:</li>\\n\"+\n     \"</ul>\\n\"+\n     \"<code>\\n\"+\n     \"from bokeh.resources import INLINE\\n\"+\n     \"output_notebook(resources=INLINE)\\n\"+\n     \"</code>\\n\"+\n     \"</div>\"}};\n\n  function display_loaded(error = null) {\n    const el = document.getElementById(\"b52d5332-c485-4fbf-9d77-833e76f582ae\");\n    if (el != null) {\n      const html = (() => {\n        if (typeof root.Bokeh === \"undefined\") {\n          if (error == null) {\n            return \"BokehJS is loading ...\";\n          } else {\n            return \"BokehJS failed to load.\";\n          }\n        } else {\n          const prefix = `BokehJS ${root.Bokeh.version}`;\n          if (error == null) {\n            return `${prefix} successfully loaded.`;\n          } else {\n            return `${prefix} <b>encountered errors</b> while loading and may not function as expected.`;\n          }\n        }\n      })();\n      el.innerHTML = html;\n\n      if (error != null) {\n        const wrapper = document.createElement(\"div\");\n        wrapper.style.overflow = \"auto\";\n        wrapper.style.height = \"5em\";\n        wrapper.style.resize = \"vertical\";\n        const content = document.createElement(\"div\");\n        content.style.fontFamily = \"monospace\";\n        content.style.whiteSpace = \"pre-wrap\";\n        content.style.backgroundColor = \"rgb(255, 221, 221)\";\n        content.textContent = error.stack ?? error.toString();\n        wrapper.append(content);\n        el.append(wrapper);\n      }\n    } else if (Date.now() < root._bokeh_timeout) {\n      setTimeout(() => display_loaded(error), 100);\n    }\n  }\n\n  function run_callbacks() {\n    try {\n      root._bokeh_onload_callbacks.forEach(function(callback) {\n        if (callback != null)\n          callback();\n      });\n    } finally {\n      delete root._bokeh_onload_callbacks\n    }\n    console.debug(\"Bokeh: all callbacks have finished\");\n  }\n\n  function load_libs(css_urls, js_urls, callback) {\n    if (css_urls == null) css_urls = [];\n    if (js_urls == null) js_urls = [];\n\n    root._bokeh_onload_callbacks.push(callback);\n    if (root._bokeh_is_loading > 0) {\n      console.debug(\"Bokeh: BokehJS is being loaded, scheduling callback at\", now());\n      return null;\n    }\n    if (js_urls == null || js_urls.length === 0) {\n      run_callbacks();\n      return null;\n    }\n    console.debug(\"Bokeh: BokehJS not loaded, scheduling load and callback at\", now());\n    root._bokeh_is_loading = css_urls.length + js_urls.length;\n\n    function on_load() {\n      root._bokeh_is_loading--;\n      if (root._bokeh_is_loading === 0) {\n        console.debug(\"Bokeh: all BokehJS libraries/stylesheets loaded\");\n        run_callbacks()\n      }\n    }\n\n    function on_error(url) {\n      console.error(\"failed to load \" + url);\n    }\n\n    for (let i = 0; i < css_urls.length; i++) {\n      const url = css_urls[i];\n      const element = document.createElement(\"link\");\n      element.onload = on_load;\n      element.onerror = on_error.bind(null, url);\n      element.rel = \"stylesheet\";\n      element.type = \"text/css\";\n      element.href = url;\n      console.debug(\"Bokeh: injecting link tag for BokehJS stylesheet: \", url);\n      document.body.appendChild(element);\n    }\n\n    for (let i = 0; i < js_urls.length; i++) {\n      const url = js_urls[i];\n      const element = document.createElement('script');\n      element.onload = on_load;\n      element.onerror = on_error.bind(null, url);\n      element.async = false;\n      element.src = url;\n      console.debug(\"Bokeh: injecting script tag for BokehJS library: \", url);\n      document.head.appendChild(element);\n    }\n  };\n\n  function inject_raw_css(css) {\n    const element = document.createElement(\"style\");\n    element.appendChild(document.createTextNode(css));\n    document.body.appendChild(element);\n  }\n\n  const js_urls = [\"https://cdn.bokeh.org/bokeh/release/bokeh-3.4.3.min.js\", \"https://cdn.bokeh.org/bokeh/release/bokeh-gl-3.4.3.min.js\", \"https://cdn.bokeh.org/bokeh/release/bokeh-widgets-3.4.3.min.js\", \"https://cdn.bokeh.org/bokeh/release/bokeh-tables-3.4.3.min.js\", \"https://cdn.bokeh.org/bokeh/release/bokeh-mathjax-3.4.3.min.js\"];\n  const css_urls = [];\n\n  const inline_js = [    function(Bokeh) {\n      Bokeh.set_log_level(\"info\");\n    },\nfunction(Bokeh) {\n    }\n  ];\n\n  function run_inline_js() {\n    if (root.Bokeh !== undefined || force === true) {\n      try {\n            for (let i = 0; i < inline_js.length; i++) {\n      inline_js[i].call(root, root.Bokeh);\n    }\n\n      } catch (error) {display_loaded(error);throw error;\n      }if (force === true) {\n        display_loaded();\n      }} else if (Date.now() < root._bokeh_timeout) {\n      setTimeout(run_inline_js, 100);\n    } else if (!root._bokeh_failed_load) {\n      console.log(\"Bokeh: BokehJS failed to load within specified timeout.\");\n      root._bokeh_failed_load = true;\n    } else if (force !== true) {\n      const cell = $(document.getElementById(\"b52d5332-c485-4fbf-9d77-833e76f582ae\")).parents('.cell').data().cell;\n      cell.output_area.append_execute_result(NB_LOAD_WARNING)\n    }\n  }\n\n  if (root._bokeh_is_loading === 0) {\n    console.debug(\"Bokeh: BokehJS loaded, going straight to plotting\");\n    run_inline_js();\n  } else {\n    load_libs(css_urls, js_urls, function() {\n      console.debug(\"Bokeh: BokehJS plotting callback run at\", now());\n      run_inline_js();\n    });\n  }\n}(window));"
     },
     "metadata": {},
     "output_type": "display_data"
    }
   ],
   "execution_count": 1
  },
  {
   "metadata": {
    "ExecuteTime": {
     "end_time": "2024-09-30T18:49:23.662281Z",
     "start_time": "2024-09-30T18:49:23.659034Z"
    }
   },
   "cell_type": "code",
   "source": [
    " # INITIALISE CELL MODEL, LOAD THE CIRCUIT\n",
    "\n",
    "# initialise cell model\n",
    "cellmodel_auxil = CellModelAuxiliary()  # auxiliary tools for simulating the model and plotting simulation outcomes\n",
    "par = cellmodel_auxil.default_params()  # get default parameter values\n",
    "init_conds = cellmodel_auxil.default_init_conds(par)  # get default initial conditions\n",
    "\n",
    "# load synthetic gene circuit\n",
    "ode_with_circuit, circuit_F_calc, circuit_eff_m_het_div_k_het,  \\\n",
    "    par, init_conds, circuit_genes, circuit_miscs, circuit_name2pos, circuit_styles, _ = cellmodel_auxil.add_circuit(\n",
    "    circuits.punisher_b_initialise,\n",
    "    circuits.punisher_b_ode,\n",
    "    circuits.punisher_b_F_calc,\n",
    "    circuits.punisher_sep_b_eff_m_het_div_k_het,\n",
    "    par, init_conds)  # load the circuit"
   ],
   "id": "db6b037a3a7b3b15",
   "outputs": [],
   "execution_count": 2
  },
  {
   "metadata": {
    "ExecuteTime": {
     "end_time": "2024-09-30T18:49:23.675602Z",
     "start_time": "2024-09-30T18:49:23.663648Z"
    }
   },
   "cell_type": "code",
   "source": [
    "# SPECIFY THE CIRCUIT'S DEFAULT PARAMETERS\n",
    "\n",
    "# BURDENSOME SYNTHETIC GENE\n",
    "par['c_b'] = 1\n",
    "par['a_b'] = 1e5\n",
    "\n",
    "# PUNISHER\n",
    "# switch gene conc\n",
    "par['c_switch'] = 10.0  # gene concentration (nM)\n",
    "par['a_switch'] = 400.0  # promoter strength (unitless)\n",
    "par['d_switch']=0.01836\n",
    "# integrase - expressed from the switch gene's operon, not its own gene => c_int, a_int irrelevant\n",
    "par['k+_int'] = par['k+_switch']/80.0  # RBS weaker than for the switch gene\n",
    "par['d_int'] = 0.0#0.01836 # rate of integrase degradation per protease molecule (1/nM/h)\n",
    "# CAT (antibiotic resistance) gene\n",
    "init_conds['cat_pb'] = 10.0  # gene concentration (nM) - INITIAL CONDITION< NOT PARAMETER as it can be cut out by the integrase\n",
    "par['a_cat'] = 500.0  # promoter strength (unitless)\n",
    "# synthetic protease gene\n",
    "par['c_prot'] = 10.0  # gene concentration (nM)\n",
    "par['a_prot'] = 25.0  # promoter strength (unitless)\n",
    "init_conds['p_prot'] = 1500.0 # if zero at start, the punisher's triggered prematurely\n",
    "\n",
    "# punisher's transcription regulation function\n",
    "par['K_switch'] = 300.0  # Half-saturation constant for the self-activating switch gene promoter (nM)\n",
    "par['eta_switch'] = 2 # Hill coefficient for the self-activating switch gene promoter (unitless)\n",
    "par['baseline_switch'] = 0.025  # Baseline value of the switch gene's transcription activation function\n",
    "par['baseline_switch_alt'] = 0\n",
    "par['p_switch_ac_frac'] = 0.85  # active fraction of protein (i.e. share of molecules bound by the inducer)\n",
    "\n",
    "# CULTURE MEDIUM\n",
    "init_conds['s'] = 0.5\n",
    "par['h_ext'] = 10.5 * (10.0 ** 3)"
   ],
   "id": "b838ab2e01307e1e",
   "outputs": [],
   "execution_count": 3
  },
  {
   "metadata": {
    "ExecuteTime": {
     "end_time": "2024-09-30T18:49:23.687136Z",
     "start_time": "2024-09-30T18:49:23.676387Z"
    }
   },
   "cell_type": "code",
   "source": [
    "# DETERMINISTIC SIMULATION PARAMETERS (FOR FINDING GROWTH RATES)\n",
    "savetimestep = 1  # save time step\n",
    "rtol = 1e-6  # relative tolerance for the ODE solver\n",
    "atol = 1e-6  # absolute tolerance for the ODE solver\n",
    "# simulation time frames\n",
    "tf = (0,50) # time frame for simulation before burdensome gene loss"
   ],
   "id": "82a97328d64f636e",
   "outputs": [],
   "execution_count": 4
  },
  {
   "metadata": {
    "ExecuteTime": {
     "end_time": "2024-09-30T18:49:23.696230Z",
     "start_time": "2024-09-30T18:49:23.688097Z"
    }
   },
   "cell_type": "code",
   "source": [
    "# DEFINE THE COMBINATIONS OF BURDENSOME GENE EXPRESSION AND CULTURE MEDIUM QUALITIES\n",
    "\n",
    "first_a_b_change = -par['a_b']*0.75\n",
    "first_s_change = 0.08\n",
    "second_a_b_change = -par['a_b']*0.2\n",
    "second_s_change = 0.03\n",
    "\n",
    "mutcombs={\n",
    "    'original': {'a_b': par['a_b'], 's': init_conds['s']},    # original engineered cell\n",
    "    'synth mut': {'a_b': par['a_b']+first_a_b_change, 's': init_conds['s']},    # burdensome gene mutated\n",
    "    'nat mut': {'a_b': par['a_b'], 's': init_conds['s']+first_s_change},    # culture medium quality improved\n",
    "    'synth mut, then nat mut': {'a_b': par['a_b']+first_a_b_change, 's': init_conds['s']+second_s_change},    # burdensome gene mutated, then culture medium quality improved\n",
    "    'synth mut, then synth mut': {'a_b': par['a_b']+first_a_b_change+second_a_b_change, 's': init_conds['s']},    # burdensome gene mutated twice\n",
    "    'nat mut, then synth mut': {'a_b': par['a_b']+second_a_b_change, 's': init_conds['s']+first_s_change},    # culture medium quality improved, then burdensome gene mutated\n",
    "    'nat mut, then nat mut': {'a_b': par['a_b'], 's': init_conds['s']+first_s_change+second_s_change}    # culture medium quality improved twice\n",
    "          }"
   ],
   "id": "262949b3c4cda929",
   "outputs": [],
   "execution_count": 5
  },
  {
   "metadata": {
    "ExecuteTime": {
     "end_time": "2024-09-30T18:50:24.310788Z",
     "start_time": "2024-09-30T18:49:23.697157Z"
    }
   },
   "cell_type": "code",
   "source": [
    "# FOR EACH COMBINATION OF BURDENSOME GENE EXPRESSION AND CULTURE MEDIUM QUALITY, FIND THE STEADY-STATE GROWTH RATE AND BURDEN MARGIN\n",
    "\n",
    "DXis = {}\n",
    "l_ss = {}\n",
    "for mutcomb in mutcombs.keys():\n",
    "    cur_par = par.copy() # current parameter dictionary\n",
    "    cur_par['a_b'] = mutcombs[mutcomb]['a_b'] # set the burdensome gene promoter strength\n",
    "    cur_par['k_sxf']=0.0    # not considering punisher action explicitly\n",
    "    cur_inits = init_conds.copy() # current initial conditions\n",
    "    cur_inits['s'] = mutcombs[mutcomb]['s'] # set the nutrient quality\n",
    "    \n",
    "    # get the cellular variables in steady state without burden\n",
    "    e, F_r, h, xis, chis = values_for_analytical(cur_par, ode_with_circuit, cur_inits,\n",
    "                                                 circuit_genes, circuit_miscs,\n",
    "                                                 circuit_name2pos,\n",
    "                                                 circuit_F_calc,\n",
    "                                                 circuit_eff_m_het_div_k_het)\n",
    "    # record the cellular variables\n",
    "    cellvars = {'e': e, 'F_r': F_r, # translation elongation rate and ribosome trnscription regulation\n",
    "                'h': h, # intracellular chlorampenicol concentration\n",
    "                # burden values\n",
    "                'xi_a': xis['a'], 'xi_r': xis['r'], 'xi_other_genes': xis['other'], 'xi_cat': xis['cat'],\n",
    "                'xi_switch_max': xis['switch (max)'], 'xi_int_max': xis['int (max)'], 'xi_prot': xis['prot'],\n",
    "                # protein degradation correction factors for the switch protein and the integrase\n",
    "                'chi_switch': chis['switch'], 'chi_int': chis['int']}\n",
    "    # the burden value xi with the synthetic gene\n",
    "    xi = xis['a'] + xis['r'] + xis['cat'] + xis['prot'] + xis['other']\n",
    "    \n",
    "    # get the threshold burden value for the punisher's switching\n",
    "    _, xi_threshold, _, _, _ = threshold_mfchanges(cur_par, cellvars)\n",
    "    \n",
    "    # record the burden margin\n",
    "    DXis[mutcomb] = np.float64(xi - xi_threshold)\n",
    "    \n",
    "    # get the steady-state growth rate\n",
    "    sol = ode_sim(cur_par,  # dictionary with model parameters\n",
    "              ode_with_circuit,  # ODE function for the cell with synthetic circuit\n",
    "              cellmodel_auxil.x0_from_init_conds(cur_inits, circuit_genes, circuit_miscs),\n",
    "              # initial condition VECTOR\n",
    "              len(circuit_genes), len(circuit_miscs), circuit_name2pos,\n",
    "              # dictionaries with circuit gene and miscellaneous specie names, species name to vector position decoder\n",
    "              cellmodel_auxil.synth_gene_params_for_jax(cur_par, circuit_genes),\n",
    "              # synthetic gene parameters for calculating k values\n",
    "              tf, jnp.arange(tf[0], tf[1], savetimestep),  # time axis for saving the system's state\n",
    "              rtol,\n",
    "              atol)  # simulation parameters: when to save the system's state, relative and absolute tolerances)   # simulation parameters: time frame, save time step, relative and absolute tolerances\n",
    "    ts = np.array(sol.ts)\n",
    "    xs = np.array(sol.ys)\n",
    "    _, ls, _, _, _, _, _, _ = cellmodel_auxil.get_e_l_Fr_nu_psi_T_D_Dnodeg(ts, xs, cur_par, circuit_genes, circuit_miscs, circuit_name2pos,\n",
    "                                                                           circuit_eff_m_het_div_k_het)\n",
    "    # record the growth rate\n",
    "    l_ss[mutcomb]=np.float64(ls[-1])\n",
    "\n",
    "# get the grwoth benefits\n",
    "Dls = {}\n",
    "for mutcomb in mutcombs.keys():\n",
    "    Dls[mutcomb] = l_ss[mutcomb]/l_ss['original']-1"
   ],
   "id": "1ad4973e8615c369",
   "outputs": [],
   "execution_count": 6
  },
  {
   "metadata": {
    "ExecuteTime": {
     "end_time": "2024-09-30T18:50:24.363927Z",
     "start_time": "2024-09-30T18:50:24.311889Z"
    }
   },
   "cell_type": "code",
   "source": [
    "# PLOT\n",
    "\n",
    "# set ranges for the plot\n",
    "gb_plot_range=(0, 0.2)\n",
    "Dxi_plot_range=(-5000, 20000)\n",
    "\n",
    "# calculate label poisitions\n",
    "nat_mut_label_pos = ((Dls['original'] + Dls['nat mut']) / 2,\n",
    "                     (DXis['original'] + DXis['nat mut']) / 2)\n",
    "nat_mut_further_mut_label_pos = ((Dls['nat mut'] + Dls['nat mut, then nat mut']) / 2,\n",
    "                                 (DXis['nat mut'] + DXis['nat mut, then nat mut']) / 2)\n",
    "synth_mut_label_pos = ((Dls['original'] + Dls['synth mut']) / 2,\n",
    "                       (DXis['original'] + DXis['synth mut']) / 2)\n",
    "synth_mut_further_mut_label_pos = ((Dls['synth mut'] + Dls['synth mut, then synth mut']) / 2,\n",
    "                                   (DXis['synth mut'] + DXis['synth mut, then synth mut']) / 2)\n",
    "\n",
    "# set up the figure\n",
    "gbdxi_fig = bkplot.figure(\n",
    "    frame_width=240,\n",
    "    frame_height=180,\n",
    "    x_axis_label=\"Δλ (relative growth benefit)\",\n",
    "    y_axis_label=\"ΔΞ (burden margin)\",\n",
    "    x_range=gb_plot_range,\n",
    "    y_range=Dxi_plot_range,\n",
    "    tools=\"box_zoom,pan,hover,reset,save\"\n",
    ")\n",
    "gbdxi_fig.xaxis.axis_label_text_font_size = '9pt'\n",
    "gbdxi_fig.yaxis.axis_label_text_font_size = '9pt'\n",
    "gbdxi_fig.output_backend = 'svg'\n",
    "# add shading for where punishment is triggered\n",
    "gbdxi_fig.add_layout(\n",
    "    bkmodels.PolyAnnotation(xs=[gb_plot_range[0], gb_plot_range[0], gb_plot_range[1], gb_plot_range[1]],\n",
    "                            ys=[Dxi_plot_range[0], 0, 0, Dxi_plot_range[0]],\n",
    "                            fill_color='gray', fill_alpha=0.5, hatch_pattern='left_diagonal_dash',\n",
    "                            line_color=None)\n",
    ")\n",
    "gbdxi_fig.add_layout(bkmodels.Label(x=gb_plot_range[0], y=Dxi_plot_range[0],\n",
    "                                x_offset=8, y_offset=8,\n",
    "                                text='Punisher triggered',\n",
    "                                text_font_size='10pt',\n",
    "                                background_fill_color='white', background_fill_alpha=1))\n",
    "# define the arrow heads\n",
    "native_head = bkmodels.VeeHead(size=7.5, fill_color='blue', line_color='blue')\n",
    "synth_head = bkmodels.VeeHead(size=7.5, fill_color='red', line_color='red')\n",
    "# plot the native gene mutation and mutations which might follow\n",
    "gbdxi_fig.add_layout(bkmodels.Arrow(x_start=Dls['original'], y_start=DXis['original'], \n",
    "                                    x_end=Dls['nat mut'], y_end=DXis['nat mut'],\n",
    "                                    end=native_head, line_color='blue', \n",
    "                                    line_width=1.5, line_dash='solid')) # first native gene mutation\n",
    "gbdxi_fig.add_layout(bkmodels.Label(x=nat_mut_label_pos[0], y=nat_mut_label_pos[1],\n",
    "                                x_offset=3, y_offset=0,\n",
    "                                text='Native gene mutation',\n",
    "                                text_font_size='8pt',\n",
    "                                text_color='blue',\n",
    "                                background_fill_alpha=0))\n",
    "gbdxi_fig.add_layout(bkmodels.Arrow(x_start=Dls['nat mut'], y_start=DXis['nat mut'],\n",
    "                                    x_end=Dls['nat mut, then nat mut'], y_end=DXis['nat mut, then nat mut'],\n",
    "                                    end=native_head, line_color='blue', \n",
    "                                    line_width=1.5, line_dash='dotted')) # second native gene mutation\n",
    "gbdxi_fig.add_layout(bkmodels.Arrow(x_start=Dls['nat mut'], y_start=DXis['nat mut'],\n",
    "                                    x_end=Dls['nat mut, then synth mut'], y_end=DXis['nat mut, then synth mut'],\n",
    "                                    end=synth_head, line_color='red', \n",
    "                                    line_width=1.5, line_dash='dotted')) # second synthetic gene mutation following the first native gene mutation\n",
    "gbdxi_fig.add_layout(bkmodels.Label(x=nat_mut_further_mut_label_pos[0], y=nat_mut_further_mut_label_pos[1],\n",
    "                                x_offset=3, y_offset=0,\n",
    "                                text='Further mutations',\n",
    "                                text_font_size='8pt',\n",
    "                                background_fill_alpha=0))\n",
    "# plot the synthetic gene mutation and mutations which might follow\n",
    "gbdxi_fig.add_layout(bkmodels.Arrow(x_start=Dls['original'], y_start=DXis['original'], \n",
    "                                    x_end=Dls['synth mut'], y_end=DXis['synth mut'],\n",
    "                                    end=synth_head, line_color='red', \n",
    "                                    line_width=1.5, line_dash='solid')) # first synthetic gene mutation\n",
    "gbdxi_fig.add_layout(bkmodels.Label(x=synth_mut_label_pos[0], y=synth_mut_label_pos[1],\n",
    "                                x_offset=-3, y_offset=-24,\n",
    "                                text_align='right',\n",
    "                                text='Synth. gene\\nmutation',\n",
    "                                text_font_size='8pt',\n",
    "                                text_color='red',\n",
    "                                background_fill_alpha=0))\n",
    "gbdxi_fig.add_layout(bkmodels.Arrow(x_start=Dls['synth mut'], y_start=DXis['synth mut'],\n",
    "                                    x_end=Dls['synth mut, then nat mut'], y_end=DXis['synth mut, then nat mut'],\n",
    "                                    end=native_head, line_color='blue', \n",
    "                                    line_width=1.5, line_dash='dotted')) # second native gene mutation following the first synthetic gene mutation\n",
    "gbdxi_fig.add_layout(bkmodels.Arrow(x_start=Dls['synth mut'], y_start=DXis['synth mut'],\n",
    "                                    x_end=Dls['synth mut, then synth mut'], y_end=DXis['synth mut, then synth mut'],\n",
    "                                    end=synth_head, line_color='red', \n",
    "                                    line_width=1.5, line_dash='dotted')) # second synthetic gene mutation\n",
    "gbdxi_fig.add_layout(bkmodels.Label(x=synth_mut_further_mut_label_pos[0], y=synth_mut_further_mut_label_pos[1],\n",
    "                                x_offset=-16, y_offset=3,\n",
    "                                text_align='right',\n",
    "                                text='Further mutations',\n",
    "                                text_font_size='8pt',\n",
    "                                background_fill_alpha=0))\n",
    "\n",
    "# set up the legend\n",
    "# gbdxi_fig.legend.location = 'top_right'\n",
    "# gbdxi_fig.legend.label_text_font_size = '8pt'\n",
    "# gbdxi_fig.legend.click_policy = 'hide'\n",
    "# gbdxi_fig.legend.title = 'Mutation:'\n",
    "# gbdxi_fig.legend.title_text_font_size = '8pt'\n",
    "# gbdxi_fig.legend.margin = 5\n",
    "# gbdxi_fig.legend.spacing = 5\n",
    "# gbdxi_fig.legend.padding = 5\n",
    "\n",
    "# show the plot\n",
    "bkplot.show(gbdxi_fig)"
   ],
   "id": "c12405675b7c438b",
   "outputs": [
    {
     "data": {
      "text/html": [
       "\n",
       "  <div id=\"f771f320-f93f-45dd-88e3-c58e8fcc5618\" data-root-id=\"p1001\" style=\"display: contents;\"></div>\n"
      ]
     },
     "metadata": {},
     "output_type": "display_data"
    },
    {
     "data": {
      "application/javascript": "(function(root) {\n  function embed_document(root) {\n  const docs_json = {\"e4164e68-22ee-4407-9b7c-bff0356d2d33\":{\"version\":\"3.4.3\",\"title\":\"Bokeh Application\",\"roots\":[{\"type\":\"object\",\"name\":\"Figure\",\"id\":\"p1001\",\"attributes\":{\"x_range\":{\"type\":\"object\",\"name\":\"Range1d\",\"id\":\"p1010\",\"attributes\":{\"end\":0.2}},\"y_range\":{\"type\":\"object\",\"name\":\"Range1d\",\"id\":\"p1011\",\"attributes\":{\"start\":-5000,\"end\":20000}},\"x_scale\":{\"type\":\"object\",\"name\":\"LinearScale\",\"id\":\"p1012\"},\"y_scale\":{\"type\":\"object\",\"name\":\"LinearScale\",\"id\":\"p1013\"},\"title\":{\"type\":\"object\",\"name\":\"Title\",\"id\":\"p1008\"},\"toolbar\":{\"type\":\"object\",\"name\":\"Toolbar\",\"id\":\"p1009\",\"attributes\":{\"tools\":[{\"type\":\"object\",\"name\":\"BoxZoomTool\",\"id\":\"p1024\",\"attributes\":{\"overlay\":{\"type\":\"object\",\"name\":\"BoxAnnotation\",\"id\":\"p1025\",\"attributes\":{\"syncable\":false,\"level\":\"overlay\",\"visible\":false,\"left\":{\"type\":\"number\",\"value\":\"nan\"},\"right\":{\"type\":\"number\",\"value\":\"nan\"},\"top\":{\"type\":\"number\",\"value\":\"nan\"},\"bottom\":{\"type\":\"number\",\"value\":\"nan\"},\"left_units\":\"canvas\",\"right_units\":\"canvas\",\"top_units\":\"canvas\",\"bottom_units\":\"canvas\",\"line_color\":\"black\",\"line_alpha\":1.0,\"line_width\":2,\"line_dash\":[4,4],\"fill_color\":\"lightgrey\",\"fill_alpha\":0.5}}}},{\"type\":\"object\",\"name\":\"PanTool\",\"id\":\"p1030\"},{\"type\":\"object\",\"name\":\"HoverTool\",\"id\":\"p1031\",\"attributes\":{\"renderers\":\"auto\"}},{\"type\":\"object\",\"name\":\"ResetTool\",\"id\":\"p1032\"},{\"type\":\"object\",\"name\":\"SaveTool\",\"id\":\"p1033\"}]}},\"left\":[{\"type\":\"object\",\"name\":\"LinearAxis\",\"id\":\"p1019\",\"attributes\":{\"ticker\":{\"type\":\"object\",\"name\":\"BasicTicker\",\"id\":\"p1020\",\"attributes\":{\"mantissas\":[1,2,5]}},\"formatter\":{\"type\":\"object\",\"name\":\"BasicTickFormatter\",\"id\":\"p1021\"},\"axis_label\":\"\\u0394\\u039e (burden margin)\",\"axis_label_text_font_size\":\"9pt\",\"major_label_policy\":{\"type\":\"object\",\"name\":\"AllLabels\",\"id\":\"p1022\"}}}],\"below\":[{\"type\":\"object\",\"name\":\"LinearAxis\",\"id\":\"p1014\",\"attributes\":{\"ticker\":{\"type\":\"object\",\"name\":\"BasicTicker\",\"id\":\"p1015\",\"attributes\":{\"mantissas\":[1,2,5]}},\"formatter\":{\"type\":\"object\",\"name\":\"BasicTickFormatter\",\"id\":\"p1016\"},\"axis_label\":\"\\u0394\\u03bb (relative growth benefit)\",\"axis_label_text_font_size\":\"9pt\",\"major_label_policy\":{\"type\":\"object\",\"name\":\"AllLabels\",\"id\":\"p1017\"}}}],\"center\":[{\"type\":\"object\",\"name\":\"Grid\",\"id\":\"p1018\",\"attributes\":{\"axis\":{\"id\":\"p1014\"}}},{\"type\":\"object\",\"name\":\"Grid\",\"id\":\"p1023\",\"attributes\":{\"dimension\":1,\"axis\":{\"id\":\"p1019\"}}},{\"type\":\"object\",\"name\":\"PolyAnnotation\",\"id\":\"p1034\",\"attributes\":{\"xs\":[0,0,0.2,0.2],\"ys\":[-5000,0,0,-5000],\"line_color\":null,\"fill_color\":\"gray\",\"fill_alpha\":0.5,\"hatch_pattern\":\"left_diagonal_dash\"}},{\"type\":\"object\",\"name\":\"Label\",\"id\":\"p1035\",\"attributes\":{\"text\":\"Punisher triggered\",\"text_font_size\":\"10pt\",\"background_fill_color\":\"white\",\"x\":0,\"y\":-5000,\"x_offset\":8,\"y_offset\":8}},{\"type\":\"object\",\"name\":\"Arrow\",\"id\":\"p1038\",\"attributes\":{\"source\":{\"type\":\"object\",\"name\":\"ColumnDataSource\",\"id\":\"p1040\",\"attributes\":{\"selected\":{\"type\":\"object\",\"name\":\"Selection\",\"id\":\"p1041\",\"attributes\":{\"indices\":[],\"line_indices\":[]}},\"selection_policy\":{\"type\":\"object\",\"name\":\"UnionRenderers\",\"id\":\"p1042\"},\"data\":{\"type\":\"map\"}}},\"x_start\":{\"type\":\"value\",\"value\":0.0},\"y_start\":{\"type\":\"value\",\"value\":17867.873245757393},\"x_end\":{\"type\":\"value\",\"value\":0.10260613590024548},\"y_end\":{\"type\":\"value\",\"value\":5837.342916458147},\"end\":{\"type\":\"object\",\"name\":\"VeeHead\",\"id\":\"p1036\",\"attributes\":{\"size\":{\"type\":\"value\",\"value\":7.5},\"line_color\":{\"type\":\"value\",\"value\":\"blue\"},\"fill_color\":{\"type\":\"value\",\"value\":\"blue\"}}},\"line_color\":{\"type\":\"value\",\"value\":\"blue\"},\"line_width\":{\"type\":\"value\",\"value\":1.5},\"line_dash\":{\"type\":\"value\",\"value\":\"solid\"}}},{\"type\":\"object\",\"name\":\"Label\",\"id\":\"p1043\",\"attributes\":{\"text\":\"Native gene mutation\",\"text_color\":\"blue\",\"text_font_size\":\"8pt\",\"background_fill_alpha\":0,\"x\":0.05130306795012274,\"y\":11852.60808110777,\"x_offset\":3}},{\"type\":\"object\",\"name\":\"Arrow\",\"id\":\"p1044\",\"attributes\":{\"source\":{\"type\":\"object\",\"name\":\"ColumnDataSource\",\"id\":\"p1046\",\"attributes\":{\"selected\":{\"type\":\"object\",\"name\":\"Selection\",\"id\":\"p1047\",\"attributes\":{\"indices\":[],\"line_indices\":[]}},\"selection_policy\":{\"type\":\"object\",\"name\":\"UnionRenderers\",\"id\":\"p1048\"},\"data\":{\"type\":\"map\"}}},\"x_start\":{\"type\":\"value\",\"value\":0.10260613590024548},\"y_start\":{\"type\":\"value\",\"value\":5837.342916458147},\"x_end\":{\"type\":\"value\",\"value\":0.1383078605740915},\"y_end\":{\"type\":\"value\",\"value\":1643.0859211542993},\"end\":{\"id\":\"p1036\"},\"line_color\":{\"type\":\"value\",\"value\":\"blue\"},\"line_width\":{\"type\":\"value\",\"value\":1.5},\"line_dash\":{\"type\":\"value\",\"value\":\"dotted\"}}},{\"type\":\"object\",\"name\":\"Arrow\",\"id\":\"p1049\",\"attributes\":{\"source\":{\"type\":\"object\",\"name\":\"ColumnDataSource\",\"id\":\"p1051\",\"attributes\":{\"selected\":{\"type\":\"object\",\"name\":\"Selection\",\"id\":\"p1052\",\"attributes\":{\"indices\":[],\"line_indices\":[]}},\"selection_policy\":{\"type\":\"object\",\"name\":\"UnionRenderers\",\"id\":\"p1053\"},\"data\":{\"type\":\"map\"}}},\"x_start\":{\"type\":\"value\",\"value\":0.10260613590024548},\"y_start\":{\"type\":\"value\",\"value\":5837.342916458147},\"x_end\":{\"type\":\"value\",\"value\":0.12960491269300256},\"y_end\":{\"type\":\"value\",\"value\":1620.7619314663752},\"end\":{\"type\":\"object\",\"name\":\"VeeHead\",\"id\":\"p1037\",\"attributes\":{\"size\":{\"type\":\"value\",\"value\":7.5},\"line_color\":{\"type\":\"value\",\"value\":\"red\"},\"fill_color\":{\"type\":\"value\",\"value\":\"red\"}}},\"line_color\":{\"type\":\"value\",\"value\":\"red\"},\"line_width\":{\"type\":\"value\",\"value\":1.5},\"line_dash\":{\"type\":\"value\",\"value\":\"dotted\"}}},{\"type\":\"object\",\"name\":\"Label\",\"id\":\"p1054\",\"attributes\":{\"text\":\"Further mutations\",\"text_font_size\":\"8pt\",\"background_fill_alpha\":0,\"x\":0.12045699823716849,\"y\":3740.214418806223,\"x_offset\":3}},{\"type\":\"object\",\"name\":\"Arrow\",\"id\":\"p1055\",\"attributes\":{\"source\":{\"type\":\"object\",\"name\":\"ColumnDataSource\",\"id\":\"p1057\",\"attributes\":{\"selected\":{\"type\":\"object\",\"name\":\"Selection\",\"id\":\"p1058\",\"attributes\":{\"indices\":[],\"line_indices\":[]}},\"selection_policy\":{\"type\":\"object\",\"name\":\"UnionRenderers\",\"id\":\"p1059\"},\"data\":{\"type\":\"map\"}}},\"x_start\":{\"type\":\"value\",\"value\":0.0},\"y_start\":{\"type\":\"value\",\"value\":17867.873245757393},\"x_end\":{\"type\":\"value\",\"value\":0.1041726384977284},\"y_end\":{\"type\":\"value\",\"value\":1834.8072410121677},\"end\":{\"id\":\"p1037\"},\"line_color\":{\"type\":\"value\",\"value\":\"red\"},\"line_width\":{\"type\":\"value\",\"value\":1.5},\"line_dash\":{\"type\":\"value\",\"value\":\"solid\"}}},{\"type\":\"object\",\"name\":\"Label\",\"id\":\"p1060\",\"attributes\":{\"text\":\"Synth. gene\\nmutation\",\"text_color\":\"red\",\"text_font_size\":\"8pt\",\"text_align\":\"right\",\"background_fill_alpha\":0,\"x\":0.0520863192488642,\"y\":9851.34024338478,\"x_offset\":-3,\"y_offset\":-24}},{\"type\":\"object\",\"name\":\"Arrow\",\"id\":\"p1061\",\"attributes\":{\"source\":{\"type\":\"object\",\"name\":\"ColumnDataSource\",\"id\":\"p1063\",\"attributes\":{\"selected\":{\"type\":\"object\",\"name\":\"Selection\",\"id\":\"p1064\",\"attributes\":{\"indices\":[],\"line_indices\":[]}},\"selection_policy\":{\"type\":\"object\",\"name\":\"UnionRenderers\",\"id\":\"p1065\"},\"data\":{\"type\":\"map\"}}},\"x_start\":{\"type\":\"value\",\"value\":0.1041726384977284},\"y_start\":{\"type\":\"value\",\"value\":1834.8072410121677},\"x_end\":{\"type\":\"value\",\"value\":0.14324115209034716},\"y_end\":{\"type\":\"value\",\"value\":-2738.9381107986555},\"end\":{\"id\":\"p1036\"},\"line_color\":{\"type\":\"value\",\"value\":\"blue\"},\"line_width\":{\"type\":\"value\",\"value\":1.5},\"line_dash\":{\"type\":\"value\",\"value\":\"dotted\"}}},{\"type\":\"object\",\"name\":\"Arrow\",\"id\":\"p1066\",\"attributes\":{\"source\":{\"type\":\"object\",\"name\":\"ColumnDataSource\",\"id\":\"p1068\",\"attributes\":{\"selected\":{\"type\":\"object\",\"name\":\"Selection\",\"id\":\"p1069\",\"attributes\":{\"indices\":[],\"line_indices\":[]}},\"selection_policy\":{\"type\":\"object\",\"name\":\"UnionRenderers\",\"id\":\"p1070\"},\"data\":{\"type\":\"map\"}}},\"x_start\":{\"type\":\"value\",\"value\":0.1041726384977284},\"y_start\":{\"type\":\"value\",\"value\":1834.8072410121677},\"x_end\":{\"type\":\"value\",\"value\":0.13306234395458194},\"y_end\":{\"type\":\"value\",\"value\":-2440.677026919904},\"end\":{\"id\":\"p1037\"},\"line_color\":{\"type\":\"value\",\"value\":\"red\"},\"line_width\":{\"type\":\"value\",\"value\":1.5},\"line_dash\":{\"type\":\"value\",\"value\":\"dotted\"}}},{\"type\":\"object\",\"name\":\"Label\",\"id\":\"p1071\",\"attributes\":{\"text\":\"Further mutations\",\"text_font_size\":\"8pt\",\"text_align\":\"right\",\"background_fill_alpha\":0,\"x\":0.11861749122615517,\"y\":-302.93489295386826,\"x_offset\":-16,\"y_offset\":3}}],\"frame_width\":240,\"frame_height\":180,\"output_backend\":\"svg\"}}]}};\n  const render_items = [{\"docid\":\"e4164e68-22ee-4407-9b7c-bff0356d2d33\",\"roots\":{\"p1001\":\"f771f320-f93f-45dd-88e3-c58e8fcc5618\"},\"root_ids\":[\"p1001\"]}];\n  void root.Bokeh.embed.embed_items_notebook(docs_json, render_items);\n  }\n  if (root.Bokeh !== undefined) {\n    embed_document(root);\n  } else {\n    let attempts = 0;\n    const timer = setInterval(function(root) {\n      if (root.Bokeh !== undefined) {\n        clearInterval(timer);\n        embed_document(root);\n      } else {\n        attempts++;\n        if (attempts > 100) {\n          clearInterval(timer);\n          console.log(\"Bokeh: ERROR: Unable to run BokehJS code because BokehJS library is missing\");\n        }\n      }\n    }, 10, root)\n  }\n})(window);",
      "application/vnd.bokehjs_exec.v0+json": ""
     },
     "metadata": {
      "application/vnd.bokehjs_exec.v0+json": {
       "id": "p1001"
      }
     },
     "output_type": "display_data"
    }
   ],
   "execution_count": 7
  }
 ],
 "metadata": {
  "kernelspec": {
   "display_name": "Python 3",
   "language": "python",
   "name": "python3"
  },
  "language_info": {
   "codemirror_mode": {
    "name": "ipython",
    "version": 2
   },
   "file_extension": ".py",
   "mimetype": "text/x-python",
   "name": "python",
   "nbconvert_exporter": "python",
   "pygments_lexer": "ipython2",
   "version": "2.7.6"
  }
 },
 "nbformat": 4,
 "nbformat_minor": 5
}
