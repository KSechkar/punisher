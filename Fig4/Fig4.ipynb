{
 "cells": [
  {
   "cell_type": "code",
   "id": "initial_id",
   "metadata": {
    "collapsed": true,
    "ExecuteTime": {
     "end_time": "2024-09-25T15:01:06.505998Z",
     "start_time": "2024-09-25T15:01:05.889392Z"
    }
   },
   "source": [
    "'''\n",
    "Notebook for FIG4 - Compare the case of the Punisher circuit with two toggle switches, two toggle switches with essential gene co-expression and two toggle switches only\n",
    "'''\n",
    "# By Kirill Sechkar\n",
    "\n",
    "# PACKAGE IMPORTS \n",
    "import numpy as np\n",
    "import jax\n",
    "import jax.numpy as jnp\n",
    "import functools\n",
    "from diffrax import diffeqsolve, Dopri5, ODETerm, SaveAt, PIDController, SteadyStateEvent\n",
    "import pandas as pd\n",
    "from bokeh import plotting as bkplot, models as bkmodels, layouts as bklayouts, io as bkio, transform as bktransform\n",
    "from bokeh.colors import RGB as bkRGB\n",
    "from math import pi\n",
    "import time\n",
    "\n",
    "# set up jax\n",
    "from jax.lib import xla_bridge\n",
    "jax.config.update('jax_platform_name', 'cpu')\n",
    "jax.config.update(\"jax_enable_x64\", True)\n",
    "print(xla_bridge.get_backend().platform)\n",
    "\n",
    "# set up bokeh\n",
    "bkio.reset_output()\n",
    "bkio.output_notebook() \n",
    "\n",
    "# OWN CODE IMPORTS\n",
    "import synthetic_circuits as circuits\n",
    "from cell_model import *"
   ],
   "outputs": [
    {
     "name": "stderr",
     "output_type": "stream",
     "text": [
      "An NVIDIA GPU may be present on this machine, but a CUDA-enabled jaxlib is not installed. Falling back to cpu.\n"
     ]
    },
    {
     "name": "stdout",
     "output_type": "stream",
     "text": [
      "cpu\n"
     ]
    },
    {
     "data": {
      "text/html": [
       "    <style>\n",
       "        .bk-notebook-logo {\n",
       "            display: block;\n",
       "            width: 20px;\n",
       "            height: 20px;\n",
       "            background-image: url(data:image/png;base64,iVBORw0KGgoAAAANSUhEUgAAABQAAAAUCAYAAACNiR0NAAAABHNCSVQICAgIfAhkiAAAAAlwSFlzAAALEgAACxIB0t1+/AAAABx0RVh0U29mdHdhcmUAQWRvYmUgRmlyZXdvcmtzIENTNui8sowAAAOkSURBVDiNjZRtaJVlGMd/1/08zzln5zjP1LWcU9N0NkN8m2CYjpgQYQXqSs0I84OLIC0hkEKoPtiH3gmKoiJDU7QpLgoLjLIQCpEsNJ1vqUOdO7ppbuec5+V+rj4ctwzd8IIbbi6u+8f1539dt3A78eXC7QizUF7gyV1fD1Yqg4JWz84yffhm0qkFqBogB9rM8tZdtwVsPUhWhGcFJngGeWrPzHm5oaMmkfEg1usvLFyc8jLRqDOMru7AyC8saQr7GG7f5fvDeH7Ej8CM66nIF+8yngt6HWaKh7k49Soy9nXurCi1o3qUbS3zWfrYeQDTB/Qj6kX6Ybhw4B+bOYoLKCC9H3Nu/leUTZ1JdRWkkn2ldcCamzrcf47KKXdAJllSlxAOkRgyHsGC/zRday5Qld9DyoM4/q/rUoy/CXh3jzOu3bHUVZeU+DEn8FInkPBFlu3+nW3Nw0mk6vCDiWg8CeJaxEwuHS3+z5RgY+YBR6V1Z1nxSOfoaPa4LASWxxdNp+VWTk7+4vzaou8v8PN+xo+KY2xsw6une2frhw05CTYOmQvsEhjhWjn0bmXPjpE1+kplmmkP3suftwTubK9Vq22qKmrBhpY4jvd5afdRA3wGjFAgcnTK2s4hY0/GPNIb0nErGMCRxWOOX64Z8RAC4oCXdklmEvcL8o0BfkNK4lUg9HTl+oPlQxdNo3Mg4Nv175e/1LDGzZen30MEjRUtmXSfiTVu1kK8W4txyV6BMKlbgk3lMwYCiusNy9fVfvvwMxv8Ynl6vxoByANLTWplvuj/nF9m2+PDtt1eiHPBr1oIfhCChQMBw6Aw0UulqTKZdfVvfG7VcfIqLG9bcldL/+pdWTLxLUy8Qq38heUIjh4XlzZxzQm19lLFlr8vdQ97rjZVOLf8nclzckbcD4wxXMidpX30sFd37Fv/GtwwhzhxGVAprjbg0gCAEeIgwCZyTV2Z1REEW8O4py0wsjeloKoMr6iCY6dP92H6Vw/oTyICIthibxjm/DfN9lVz8IqtqKYLUXfoKVMVQVVJOElGjrnnUt9T9wbgp8AyYKaGlqingHZU/uG2NTZSVqwHQTWkx9hxjkpWDaCg6Ckj5qebgBVbT3V3NNXMSiWSDdGV3hrtzla7J+duwPOToIg42ChPQOQjspnSlp1V+Gjdged7+8UN5CRAV7a5EdFNwCjEaBR27b3W890TE7g24NAP/mMDXRWrGoFPQI9ls/MWO2dWFAar/xcOIImbbpA3zgAAAABJRU5ErkJggg==);\n",
       "        }\n",
       "    </style>\n",
       "    <div>\n",
       "        <a href=\"https://bokeh.org\" target=\"_blank\" class=\"bk-notebook-logo\"></a>\n",
       "        <span id=\"e150db17-84e0-4b52-9b4f-6b4b64ec0478\">Loading BokehJS ...</span>\n",
       "    </div>\n"
      ]
     },
     "metadata": {},
     "output_type": "display_data"
    },
    {
     "data": {
      "application/javascript": "'use strict';\n(function(root) {\n  function now() {\n    return new Date();\n  }\n\n  const force = true;\n\n  if (typeof root._bokeh_onload_callbacks === \"undefined\" || force === true) {\n    root._bokeh_onload_callbacks = [];\n    root._bokeh_is_loading = undefined;\n  }\n\nconst JS_MIME_TYPE = 'application/javascript';\n  const HTML_MIME_TYPE = 'text/html';\n  const EXEC_MIME_TYPE = 'application/vnd.bokehjs_exec.v0+json';\n  const CLASS_NAME = 'output_bokeh rendered_html';\n\n  /**\n   * Render data to the DOM node\n   */\n  function render(props, node) {\n    const script = document.createElement(\"script\");\n    node.appendChild(script);\n  }\n\n  /**\n   * Handle when an output is cleared or removed\n   */\n  function handleClearOutput(event, handle) {\n    function drop(id) {\n      const view = Bokeh.index.get_by_id(id)\n      if (view != null) {\n        view.model.document.clear()\n        Bokeh.index.delete(view)\n      }\n    }\n\n    const cell = handle.cell;\n\n    const id = cell.output_area._bokeh_element_id;\n    const server_id = cell.output_area._bokeh_server_id;\n\n    // Clean up Bokeh references\n    if (id != null) {\n      drop(id)\n    }\n\n    if (server_id !== undefined) {\n      // Clean up Bokeh references\n      const cmd_clean = \"from bokeh.io.state import curstate; print(curstate().uuid_to_server['\" + server_id + \"'].get_sessions()[0].document.roots[0]._id)\";\n      cell.notebook.kernel.execute(cmd_clean, {\n        iopub: {\n          output: function(msg) {\n            const id = msg.content.text.trim()\n            drop(id)\n          }\n        }\n      });\n      // Destroy server and session\n      const cmd_destroy = \"import bokeh.io.notebook as ion; ion.destroy_server('\" + server_id + \"')\";\n      cell.notebook.kernel.execute(cmd_destroy);\n    }\n  }\n\n  /**\n   * Handle when a new output is added\n   */\n  function handleAddOutput(event, handle) {\n    const output_area = handle.output_area;\n    const output = handle.output;\n\n    // limit handleAddOutput to display_data with EXEC_MIME_TYPE content only\n    if ((output.output_type != \"display_data\") || (!Object.prototype.hasOwnProperty.call(output.data, EXEC_MIME_TYPE))) {\n      return\n    }\n\n    const toinsert = output_area.element.find(\".\" + CLASS_NAME.split(' ')[0]);\n\n    if (output.metadata[EXEC_MIME_TYPE][\"id\"] !== undefined) {\n      toinsert[toinsert.length - 1].firstChild.textContent = output.data[JS_MIME_TYPE];\n      // store reference to embed id on output_area\n      output_area._bokeh_element_id = output.metadata[EXEC_MIME_TYPE][\"id\"];\n    }\n    if (output.metadata[EXEC_MIME_TYPE][\"server_id\"] !== undefined) {\n      const bk_div = document.createElement(\"div\");\n      bk_div.innerHTML = output.data[HTML_MIME_TYPE];\n      const script_attrs = bk_div.children[0].attributes;\n      for (let i = 0; i < script_attrs.length; i++) {\n        toinsert[toinsert.length - 1].firstChild.setAttribute(script_attrs[i].name, script_attrs[i].value);\n        toinsert[toinsert.length - 1].firstChild.textContent = bk_div.children[0].textContent\n      }\n      // store reference to server id on output_area\n      output_area._bokeh_server_id = output.metadata[EXEC_MIME_TYPE][\"server_id\"];\n    }\n  }\n\n  function register_renderer(events, OutputArea) {\n\n    function append_mime(data, metadata, element) {\n      // create a DOM node to render to\n      const toinsert = this.create_output_subarea(\n        metadata,\n        CLASS_NAME,\n        EXEC_MIME_TYPE\n      );\n      this.keyboard_manager.register_events(toinsert);\n      // Render to node\n      const props = {data: data, metadata: metadata[EXEC_MIME_TYPE]};\n      render(props, toinsert[toinsert.length - 1]);\n      element.append(toinsert);\n      return toinsert\n    }\n\n    /* Handle when an output is cleared or removed */\n    events.on('clear_output.CodeCell', handleClearOutput);\n    events.on('delete.Cell', handleClearOutput);\n\n    /* Handle when a new output is added */\n    events.on('output_added.OutputArea', handleAddOutput);\n\n    /**\n     * Register the mime type and append_mime function with output_area\n     */\n    OutputArea.prototype.register_mime_type(EXEC_MIME_TYPE, append_mime, {\n      /* Is output safe? */\n      safe: true,\n      /* Index of renderer in `output_area.display_order` */\n      index: 0\n    });\n  }\n\n  // register the mime type if in Jupyter Notebook environment and previously unregistered\n  if (root.Jupyter !== undefined) {\n    const events = require('base/js/events');\n    const OutputArea = require('notebook/js/outputarea').OutputArea;\n\n    if (OutputArea.prototype.mime_types().indexOf(EXEC_MIME_TYPE) == -1) {\n      register_renderer(events, OutputArea);\n    }\n  }\n  if (typeof (root._bokeh_timeout) === \"undefined\" || force === true) {\n    root._bokeh_timeout = Date.now() + 5000;\n    root._bokeh_failed_load = false;\n  }\n\n  const NB_LOAD_WARNING = {'data': {'text/html':\n     \"<div style='background-color: #fdd'>\\n\"+\n     \"<p>\\n\"+\n     \"BokehJS does not appear to have successfully loaded. If loading BokehJS from CDN, this \\n\"+\n     \"may be due to a slow or bad network connection. Possible fixes:\\n\"+\n     \"</p>\\n\"+\n     \"<ul>\\n\"+\n     \"<li>re-rerun `output_notebook()` to attempt to load from CDN again, or</li>\\n\"+\n     \"<li>use INLINE resources instead, as so:</li>\\n\"+\n     \"</ul>\\n\"+\n     \"<code>\\n\"+\n     \"from bokeh.resources import INLINE\\n\"+\n     \"output_notebook(resources=INLINE)\\n\"+\n     \"</code>\\n\"+\n     \"</div>\"}};\n\n  function display_loaded(error = null) {\n    const el = document.getElementById(\"e150db17-84e0-4b52-9b4f-6b4b64ec0478\");\n    if (el != null) {\n      const html = (() => {\n        if (typeof root.Bokeh === \"undefined\") {\n          if (error == null) {\n            return \"BokehJS is loading ...\";\n          } else {\n            return \"BokehJS failed to load.\";\n          }\n        } else {\n          const prefix = `BokehJS ${root.Bokeh.version}`;\n          if (error == null) {\n            return `${prefix} successfully loaded.`;\n          } else {\n            return `${prefix} <b>encountered errors</b> while loading and may not function as expected.`;\n          }\n        }\n      })();\n      el.innerHTML = html;\n\n      if (error != null) {\n        const wrapper = document.createElement(\"div\");\n        wrapper.style.overflow = \"auto\";\n        wrapper.style.height = \"5em\";\n        wrapper.style.resize = \"vertical\";\n        const content = document.createElement(\"div\");\n        content.style.fontFamily = \"monospace\";\n        content.style.whiteSpace = \"pre-wrap\";\n        content.style.backgroundColor = \"rgb(255, 221, 221)\";\n        content.textContent = error.stack ?? error.toString();\n        wrapper.append(content);\n        el.append(wrapper);\n      }\n    } else if (Date.now() < root._bokeh_timeout) {\n      setTimeout(() => display_loaded(error), 100);\n    }\n  }\n\n  function run_callbacks() {\n    try {\n      root._bokeh_onload_callbacks.forEach(function(callback) {\n        if (callback != null)\n          callback();\n      });\n    } finally {\n      delete root._bokeh_onload_callbacks\n    }\n    console.debug(\"Bokeh: all callbacks have finished\");\n  }\n\n  function load_libs(css_urls, js_urls, callback) {\n    if (css_urls == null) css_urls = [];\n    if (js_urls == null) js_urls = [];\n\n    root._bokeh_onload_callbacks.push(callback);\n    if (root._bokeh_is_loading > 0) {\n      console.debug(\"Bokeh: BokehJS is being loaded, scheduling callback at\", now());\n      return null;\n    }\n    if (js_urls == null || js_urls.length === 0) {\n      run_callbacks();\n      return null;\n    }\n    console.debug(\"Bokeh: BokehJS not loaded, scheduling load and callback at\", now());\n    root._bokeh_is_loading = css_urls.length + js_urls.length;\n\n    function on_load() {\n      root._bokeh_is_loading--;\n      if (root._bokeh_is_loading === 0) {\n        console.debug(\"Bokeh: all BokehJS libraries/stylesheets loaded\");\n        run_callbacks()\n      }\n    }\n\n    function on_error(url) {\n      console.error(\"failed to load \" + url);\n    }\n\n    for (let i = 0; i < css_urls.length; i++) {\n      const url = css_urls[i];\n      const element = document.createElement(\"link\");\n      element.onload = on_load;\n      element.onerror = on_error.bind(null, url);\n      element.rel = \"stylesheet\";\n      element.type = \"text/css\";\n      element.href = url;\n      console.debug(\"Bokeh: injecting link tag for BokehJS stylesheet: \", url);\n      document.body.appendChild(element);\n    }\n\n    for (let i = 0; i < js_urls.length; i++) {\n      const url = js_urls[i];\n      const element = document.createElement('script');\n      element.onload = on_load;\n      element.onerror = on_error.bind(null, url);\n      element.async = false;\n      element.src = url;\n      console.debug(\"Bokeh: injecting script tag for BokehJS library: \", url);\n      document.head.appendChild(element);\n    }\n  };\n\n  function inject_raw_css(css) {\n    const element = document.createElement(\"style\");\n    element.appendChild(document.createTextNode(css));\n    document.body.appendChild(element);\n  }\n\n  const js_urls = [\"https://cdn.bokeh.org/bokeh/release/bokeh-3.4.0.min.js\", \"https://cdn.bokeh.org/bokeh/release/bokeh-gl-3.4.0.min.js\", \"https://cdn.bokeh.org/bokeh/release/bokeh-widgets-3.4.0.min.js\", \"https://cdn.bokeh.org/bokeh/release/bokeh-tables-3.4.0.min.js\", \"https://cdn.bokeh.org/bokeh/release/bokeh-mathjax-3.4.0.min.js\"];\n  const css_urls = [];\n\n  const inline_js = [    function(Bokeh) {\n      Bokeh.set_log_level(\"info\");\n    },\nfunction(Bokeh) {\n    }\n  ];\n\n  function run_inline_js() {\n    if (root.Bokeh !== undefined || force === true) {\n      try {\n            for (let i = 0; i < inline_js.length; i++) {\n      inline_js[i].call(root, root.Bokeh);\n    }\n\n      } catch (error) {display_loaded(error);throw error;\n      }if (force === true) {\n        display_loaded();\n      }} else if (Date.now() < root._bokeh_timeout) {\n      setTimeout(run_inline_js, 100);\n    } else if (!root._bokeh_failed_load) {\n      console.log(\"Bokeh: BokehJS failed to load within specified timeout.\");\n      root._bokeh_failed_load = true;\n    } else if (force !== true) {\n      const cell = $(document.getElementById(\"e150db17-84e0-4b52-9b4f-6b4b64ec0478\")).parents('.cell').data().cell;\n      cell.output_area.append_execute_result(NB_LOAD_WARNING)\n    }\n  }\n\n  if (root._bokeh_is_loading === 0) {\n    console.debug(\"Bokeh: BokehJS loaded, going straight to plotting\");\n    run_inline_js();\n  } else {\n    load_libs(css_urls, js_urls, function() {\n      console.debug(\"Bokeh: BokehJS plotting callback run at\", now());\n      run_inline_js();\n    });\n  }\n}(window));",
      "application/vnd.bokehjs_load.v0+json": "'use strict';\n(function(root) {\n  function now() {\n    return new Date();\n  }\n\n  const force = true;\n\n  if (typeof root._bokeh_onload_callbacks === \"undefined\" || force === true) {\n    root._bokeh_onload_callbacks = [];\n    root._bokeh_is_loading = undefined;\n  }\n\n\n  if (typeof (root._bokeh_timeout) === \"undefined\" || force === true) {\n    root._bokeh_timeout = Date.now() + 5000;\n    root._bokeh_failed_load = false;\n  }\n\n  const NB_LOAD_WARNING = {'data': {'text/html':\n     \"<div style='background-color: #fdd'>\\n\"+\n     \"<p>\\n\"+\n     \"BokehJS does not appear to have successfully loaded. If loading BokehJS from CDN, this \\n\"+\n     \"may be due to a slow or bad network connection. Possible fixes:\\n\"+\n     \"</p>\\n\"+\n     \"<ul>\\n\"+\n     \"<li>re-rerun `output_notebook()` to attempt to load from CDN again, or</li>\\n\"+\n     \"<li>use INLINE resources instead, as so:</li>\\n\"+\n     \"</ul>\\n\"+\n     \"<code>\\n\"+\n     \"from bokeh.resources import INLINE\\n\"+\n     \"output_notebook(resources=INLINE)\\n\"+\n     \"</code>\\n\"+\n     \"</div>\"}};\n\n  function display_loaded(error = null) {\n    const el = document.getElementById(\"e150db17-84e0-4b52-9b4f-6b4b64ec0478\");\n    if (el != null) {\n      const html = (() => {\n        if (typeof root.Bokeh === \"undefined\") {\n          if (error == null) {\n            return \"BokehJS is loading ...\";\n          } else {\n            return \"BokehJS failed to load.\";\n          }\n        } else {\n          const prefix = `BokehJS ${root.Bokeh.version}`;\n          if (error == null) {\n            return `${prefix} successfully loaded.`;\n          } else {\n            return `${prefix} <b>encountered errors</b> while loading and may not function as expected.`;\n          }\n        }\n      })();\n      el.innerHTML = html;\n\n      if (error != null) {\n        const wrapper = document.createElement(\"div\");\n        wrapper.style.overflow = \"auto\";\n        wrapper.style.height = \"5em\";\n        wrapper.style.resize = \"vertical\";\n        const content = document.createElement(\"div\");\n        content.style.fontFamily = \"monospace\";\n        content.style.whiteSpace = \"pre-wrap\";\n        content.style.backgroundColor = \"rgb(255, 221, 221)\";\n        content.textContent = error.stack ?? error.toString();\n        wrapper.append(content);\n        el.append(wrapper);\n      }\n    } else if (Date.now() < root._bokeh_timeout) {\n      setTimeout(() => display_loaded(error), 100);\n    }\n  }\n\n  function run_callbacks() {\n    try {\n      root._bokeh_onload_callbacks.forEach(function(callback) {\n        if (callback != null)\n          callback();\n      });\n    } finally {\n      delete root._bokeh_onload_callbacks\n    }\n    console.debug(\"Bokeh: all callbacks have finished\");\n  }\n\n  function load_libs(css_urls, js_urls, callback) {\n    if (css_urls == null) css_urls = [];\n    if (js_urls == null) js_urls = [];\n\n    root._bokeh_onload_callbacks.push(callback);\n    if (root._bokeh_is_loading > 0) {\n      console.debug(\"Bokeh: BokehJS is being loaded, scheduling callback at\", now());\n      return null;\n    }\n    if (js_urls == null || js_urls.length === 0) {\n      run_callbacks();\n      return null;\n    }\n    console.debug(\"Bokeh: BokehJS not loaded, scheduling load and callback at\", now());\n    root._bokeh_is_loading = css_urls.length + js_urls.length;\n\n    function on_load() {\n      root._bokeh_is_loading--;\n      if (root._bokeh_is_loading === 0) {\n        console.debug(\"Bokeh: all BokehJS libraries/stylesheets loaded\");\n        run_callbacks()\n      }\n    }\n\n    function on_error(url) {\n      console.error(\"failed to load \" + url);\n    }\n\n    for (let i = 0; i < css_urls.length; i++) {\n      const url = css_urls[i];\n      const element = document.createElement(\"link\");\n      element.onload = on_load;\n      element.onerror = on_error.bind(null, url);\n      element.rel = \"stylesheet\";\n      element.type = \"text/css\";\n      element.href = url;\n      console.debug(\"Bokeh: injecting link tag for BokehJS stylesheet: \", url);\n      document.body.appendChild(element);\n    }\n\n    for (let i = 0; i < js_urls.length; i++) {\n      const url = js_urls[i];\n      const element = document.createElement('script');\n      element.onload = on_load;\n      element.onerror = on_error.bind(null, url);\n      element.async = false;\n      element.src = url;\n      console.debug(\"Bokeh: injecting script tag for BokehJS library: \", url);\n      document.head.appendChild(element);\n    }\n  };\n\n  function inject_raw_css(css) {\n    const element = document.createElement(\"style\");\n    element.appendChild(document.createTextNode(css));\n    document.body.appendChild(element);\n  }\n\n  const js_urls = [\"https://cdn.bokeh.org/bokeh/release/bokeh-3.4.0.min.js\", \"https://cdn.bokeh.org/bokeh/release/bokeh-gl-3.4.0.min.js\", \"https://cdn.bokeh.org/bokeh/release/bokeh-widgets-3.4.0.min.js\", \"https://cdn.bokeh.org/bokeh/release/bokeh-tables-3.4.0.min.js\", \"https://cdn.bokeh.org/bokeh/release/bokeh-mathjax-3.4.0.min.js\"];\n  const css_urls = [];\n\n  const inline_js = [    function(Bokeh) {\n      Bokeh.set_log_level(\"info\");\n    },\nfunction(Bokeh) {\n    }\n  ];\n\n  function run_inline_js() {\n    if (root.Bokeh !== undefined || force === true) {\n      try {\n            for (let i = 0; i < inline_js.length; i++) {\n      inline_js[i].call(root, root.Bokeh);\n    }\n\n      } catch (error) {display_loaded(error);throw error;\n      }if (force === true) {\n        display_loaded();\n      }} else if (Date.now() < root._bokeh_timeout) {\n      setTimeout(run_inline_js, 100);\n    } else if (!root._bokeh_failed_load) {\n      console.log(\"Bokeh: BokehJS failed to load within specified timeout.\");\n      root._bokeh_failed_load = true;\n    } else if (force !== true) {\n      const cell = $(document.getElementById(\"e150db17-84e0-4b52-9b4f-6b4b64ec0478\")).parents('.cell').data().cell;\n      cell.output_area.append_execute_result(NB_LOAD_WARNING)\n    }\n  }\n\n  if (root._bokeh_is_loading === 0) {\n    console.debug(\"Bokeh: BokehJS loaded, going straight to plotting\");\n    run_inline_js();\n  } else {\n    load_libs(css_urls, js_urls, function() {\n      console.debug(\"Bokeh: BokehJS plotting callback run at\", now());\n      run_inline_js();\n    });\n  }\n}(window));"
     },
     "metadata": {},
     "output_type": "display_data"
    }
   ],
   "execution_count": 1
  },
  {
   "metadata": {
    "ExecuteTime": {
     "end_time": "2024-09-25T15:01:06.509652Z",
     "start_time": "2024-09-25T15:01:06.507064Z"
    }
   },
   "cell_type": "code",
   "source": [
    "# TWO TOGGLE SWITCHES AND THE PUNISHER\n",
    "# INITIALISE CELL MODEL, LOAD THE CIRCUIT\n",
    "\n",
    "# initialise cell model\n",
    "cellmodel_auxil = CellModelAuxiliary()  # auxiliary tools for simulating the model and plotting simulation outcomes\n",
    "par = cellmodel_auxil.default_params()  # get default parameter values\n",
    "init_conds = cellmodel_auxil.default_init_conds(par)  # get default initial conditions\n",
    "\n",
    "# load synthetic gene circuit\n",
    "ode_with_circuit, circuit_F_calc, circuit_eff_m_het_div_k_het,\\\n",
    "    par, init_conds, circuit_genes, circuit_miscs, circuit_name2pos, circuit_styles, _ = cellmodel_auxil.add_circuit(\n",
    "    circuits.twotoggles_punisher_initialise,\n",
    "    circuits.twotoggles_punisher_ode,\n",
    "    circuits.twotoggles_punisher_F_calc,\n",
    "    circuits.twotoggles_punisher_eff_m_het_div_k_het,\n",
    "    par, init_conds)  # load the circuit"
   ],
   "id": "1d0f85b9f0a9b946",
   "outputs": [],
   "execution_count": 2
  },
  {
   "metadata": {
    "ExecuteTime": {
     "end_time": "2024-09-25T15:01:06.514324Z",
     "start_time": "2024-09-25T15:01:06.510576Z"
    }
   },
   "cell_type": "code",
   "source": [
    "# TWO TOGGLE SWITCHES AND THE PUNISHER\n",
    "# PARAMETERISE THE CIRCUIT (DEFAULT)\n",
    "\n",
    " # TOGGLE SWITCHES\n",
    "for togswitchnum in (1, 2):  # cycle through toggle switches\n",
    "    for toggenenum in (1, 2):  # cycle through the genes of the current switch\n",
    "        par['c_tog' + str(togswitchnum) + str(toggenenum)] = 1  # copy no. (nM)\n",
    "        par['a_tog' + str(togswitchnum) + str(toggenenum)] = 1e5/2 # promoter strength (unitless)\n",
    "\n",
    "        # transcription regulation function\n",
    "        reg_func_string = 'dna(tog' + str(togswitchnum) + str(toggenenum) + '):p_tog' + str(togswitchnum) + str(\n",
    "            (toggenenum - 2) % 2 + 1)  # dna(rep1):p_rep3, dna(rep2):p_rep1 or dna(rep3):p_rep2\n",
    "        par['K_' + reg_func_string] = 2500  # half-saturation constant\n",
    "        par['eta_' + reg_func_string] = 2  # Hill coefficient\n",
    "        par['baseline_tog' + str(togswitchnum) + str(\n",
    "            toggenenum)] = 0.025  # baseline transcription activation due to leakiness\n",
    "        par['p_tog' + str(togswitchnum) + str(\n",
    "            toggenenum) + '_ac_frac'] = 1  # active fraction of protein (i.e. share of molecules not bound by the inducer)\n",
    "    # break symmetry for each of the toggle switches\n",
    "    init_conds['m_tog' + str(togswitchnum) + '1'] = 4000\n",
    "\n",
    "# PUNISHER\n",
    "# switch gene conc\n",
    "par['c_switch'] = 10.0  # gene concentration (nM)\n",
    "par['a_switch'] = 400.0  # promoter strength (unitless)\n",
    "par['d_switch']=0.01836 # rate of protein degradation per protease molecule (1/nM/h)\n",
    "# integrase - expressed from the switch gene's operon, not its own gene => c_int, a_int irrelevant\n",
    "par['k+_int'] = par['k+_switch']/80.0  # RBS weaker than for the switch gene\n",
    "par['d_int'] = 0.0 # rate of integrase degradation per protease molecule (1/nM/h)\n",
    "# CAT (antibiotic resistance) gene\n",
    "init_conds['cat_pb'] = 10.0  # gene concentration (nM) - INITIAL CONDITION< NOT PARAMETER as it can be cut out by the integrase\n",
    "par['a_cat'] = 500.0  # promoter strength (unitless)\n",
    "# synthetic protease gene\n",
    "par['c_prot'] = 10.0  # gene concentration (nM)\n",
    "par['a_prot'] = 25.0  # promoter strength (unitless)\n",
    "init_conds['p_prot'] = 1500.0 # if zero at start, the punisher's triggered prematurely\n",
    "\n",
    "# punisher's transcription regulation function\n",
    "par['K_switch'] = 300.0  # Half-saturation constant for the self-activating switch gene promoter (nM)\n",
    "par['eta_switch'] = 2 # Hill coefficient for the self-activating switch gene promoter (unitless)\n",
    "par['baseline_switch'] = 0.025  # Baseline value of the switch gene's transcription activation function\n",
    "par['p_switch_ac_frac'] = 0.87  # active fraction of protein (i.e. share of molecules bound by the inducer)\n",
    "\n",
    "# CULTURE MEDIUM\n",
    "init_conds['s'] = 0.5   # nutrient quality (unitless)\n",
    "par['h_ext'] = 10.5 * (10.0 ** 3)   # extracellular chloramphenicol concentration (nM)\n",
    "\n",
    "# save parameters and initial conditions\n",
    "par_pun = par.copy()\n",
    "init_conds_pun = init_conds.copy()"
   ],
   "id": "a3eac6bf90e9f8ec",
   "outputs": [],
   "execution_count": 3
  },
  {
   "metadata": {
    "ExecuteTime": {
     "end_time": "2024-09-25T15:01:06.518368Z",
     "start_time": "2024-09-25T15:01:06.515897Z"
    }
   },
   "cell_type": "code",
   "source": [
    "# SET SIMULATION PARAMETERS\n",
    "# diffrax simulator\n",
    "savetimestep = 1  # save time step\n",
    "rtol = 1e-6  # relative tolerance for the ODE solver\n",
    "atol = 1e-6  # absolute tolerance for the ODE solver\n",
    "# simulation time frames\n",
    "tf = (0,50) # time frame for simulation before burdensome gene loss"
   ],
   "id": "20926f077cfc746",
   "outputs": [],
   "execution_count": 4
  },
  {
   "metadata": {
    "ExecuteTime": {
     "end_time": "2024-09-25T15:02:03.714321Z",
     "start_time": "2024-09-25T15:01:06.519423Z"
    }
   },
   "cell_type": "code",
   "source": [
    "# TWO TOGGLE SWITCHES AND THE PUNISHER\n",
    "# GET STEADY STATE GROWTH RATES FOR DIFFERENT MUTATIONS OF THE TOGGLES\n",
    "\n",
    "# all toggles functional\n",
    "#simulate\n",
    "par_nomut=par.copy()\n",
    "sol = ode_sim(par_nomut,  # dictionary with model parameters\n",
    "              ode_with_circuit,  # ODE function for the cell with synthetic circuit\n",
    "              cellmodel_auxil.x0_from_init_conds(init_conds, circuit_genes, circuit_miscs),\n",
    "              # initial condition VECTOR\n",
    "              len(circuit_genes), len(circuit_miscs), circuit_name2pos,\n",
    "              # dictionaries with circuit gene and miscellaneous specie names, species name to vector position decoder\n",
    "              cellmodel_auxil.synth_gene_params_for_jax(par_nomut, circuit_genes),\n",
    "              # synthetic gene parameters for calculating k values\n",
    "              tf, jnp.arange(tf[0], tf[1], savetimestep),  # time axis for saving the system's state\n",
    "              rtol,\n",
    "              atol)  # simulation parameters: when to save the system's state, relative and absolute tolerances)   # simulation parameters: time frame, save time step, relative and absolute tolerances\n",
    "ts = np.array(sol.ts)\n",
    "xs = np.array(sol.ys)\n",
    "# record growth rate\n",
    "_, ls, _, _, _, _, _, _ = cellmodel_auxil.get_e_l_Fr_nu_psi_T_D_Dnodeg(ts, xs, par_nomut, circuit_genes, circuit_miscs, circuit_name2pos,\n",
    "                                                                       circuit_eff_m_het_div_k_het)\n",
    "l_pun_nomut=np.float64(ls[-1])\n",
    "\n",
    "# half of a toggle (tog11 gene) mutated\n",
    "#simulate\n",
    "par_halfmut=par.copy()\n",
    "par_halfmut['func_tog11']=0\n",
    "sol = ode_sim(par_halfmut,  # dictionary with model parameters\n",
    "              ode_with_circuit,  # ODE function for the cell with synthetic circuit\n",
    "              cellmodel_auxil.x0_from_init_conds(init_conds, circuit_genes, circuit_miscs),\n",
    "              # initial condition VECTOR\n",
    "              len(circuit_genes), len(circuit_miscs), circuit_name2pos,\n",
    "              # dictionaries with circuit gene and miscellaneous specie names, species name to vector position decoder\n",
    "              cellmodel_auxil.synth_gene_params_for_jax(par_halfmut, circuit_genes),\n",
    "              # synthetic gene parameters for calculating k values\n",
    "              tf, jnp.arange(tf[0], tf[1], savetimestep),  # time axis for saving the system's state\n",
    "              rtol,\n",
    "              atol)  # simulation parameters: when to save the system's state, relative and absolute tolerances)   # simulation parameters: time frame, save time step, relative and absolute tolerances\n",
    "ts = np.array(sol.ts)\n",
    "xs = np.array(sol.ys)\n",
    "# record growth rate\n",
    "_, ls, _, _, _, _, _, _ = cellmodel_auxil.get_e_l_Fr_nu_psi_T_D_Dnodeg(ts, xs, par_halfmut, circuit_genes, circuit_miscs, circuit_name2pos,\n",
    "                                                                       circuit_eff_m_het_div_k_het)\n",
    "l_pun_halfmut=np.float64(ls[-1])\n",
    "\n",
    "# two halves of a toggle (tog11 and tog21 genes) mutated\n",
    "#simulate\n",
    "par_twohalfmut=par.copy()\n",
    "par_twohalfmut['func_tog11']=0\n",
    "par_twohalfmut['func_tog21']=0\n",
    "sol = ode_sim(par_twohalfmut,  # dictionary with model parameters\n",
    "              ode_with_circuit,  # ODE function for the cell with synthetic circuit\n",
    "              cellmodel_auxil.x0_from_init_conds(init_conds, circuit_genes, circuit_miscs),\n",
    "              # initial condition VECTOR\n",
    "              len(circuit_genes), len(circuit_miscs), circuit_name2pos,\n",
    "              # dictionaries with circuit gene and miscellaneous specie names, species name to vector position decoder\n",
    "              cellmodel_auxil.synth_gene_params_for_jax(par_twohalfmut, circuit_genes),\n",
    "              # synthetic gene parameters for calculating k values\n",
    "              tf, jnp.arange(tf[0], tf[1], savetimestep),  # time axis for saving the system's state\n",
    "              rtol,\n",
    "              atol)  # simulation parameters: when to save the system's state, relative and absolute tolerances)   # simulation parameters: time frame, save time step, relative and absolute tolerances\n",
    "ts = np.array(sol.ts)\n",
    "xs = np.array(sol.ys)\n",
    "# record growth rate\n",
    "_, ls, _, _, _, _, _, _ = cellmodel_auxil.get_e_l_Fr_nu_psi_T_D_Dnodeg(ts, xs, par_twohalfmut, circuit_genes, circuit_miscs, circuit_name2pos,\n",
    "                                                                       circuit_eff_m_het_div_k_het)\n",
    "l_pun_twohalfmut=np.float64(ls[-1])\n",
    "\n",
    "# one toggle (tog11 and tog12 genes) mutated\n",
    "par_onemut=par.copy()\n",
    "par_onemut['func_tog11']=0\n",
    "par_onemut['func_tog12']=0\n",
    "sol = ode_sim(par_onemut,  # dictionary with model parameters\n",
    "              ode_with_circuit,  # ODE function for the cell with synthetic circuit\n",
    "              cellmodel_auxil.x0_from_init_conds(init_conds, circuit_genes, circuit_miscs),\n",
    "              # initial condition VECTOR\n",
    "              len(circuit_genes), len(circuit_miscs), circuit_name2pos,\n",
    "              # dictionaries with circuit gene and miscellaneous specie names, species name to vector position decoder\n",
    "              cellmodel_auxil.synth_gene_params_for_jax(par_onemut, circuit_genes),\n",
    "              # synthetic gene parameters for calculating k values\n",
    "              tf, jnp.arange(tf[0], tf[1], savetimestep),  # time axis for saving the system's state\n",
    "              rtol,\n",
    "              atol)  # simulation parameters: when to save the system's state, relative and absolute tolerances)   # simulation parameters: time frame, save time step, relative and absolute tolerances\n",
    "ts = np.array(sol.ts)\n",
    "xs = np.array(sol.ys)\n",
    "# record growth rate\n",
    "_, ls, _, _, _, _, _, _ = cellmodel_auxil.get_e_l_Fr_nu_psi_T_D_Dnodeg(ts, xs, par_onemut, circuit_genes, circuit_miscs, circuit_name2pos,\n",
    "                                                                       circuit_eff_m_het_div_k_het)\n",
    "l_pun_onemut=np.float64(ls[-1])\n",
    "\n",
    "# one toggle and a half (tog11, tog12 and tog21 genes) mutated\n",
    "par_oneandhalfmut=par.copy()\n",
    "par_oneandhalfmut['func_tog11']=0\n",
    "par_oneandhalfmut['func_tog12']=0\n",
    "par_oneandhalfmut['func_tog21']=0\n",
    "sol = ode_sim(par_oneandhalfmut,  # dictionary with model parameters\n",
    "              ode_with_circuit,  # ODE function for the cell with synthetic circuit\n",
    "              cellmodel_auxil.x0_from_init_conds(init_conds, circuit_genes, circuit_miscs),\n",
    "              # initial condition VECTOR\n",
    "              len(circuit_genes), len(circuit_miscs), circuit_name2pos,\n",
    "              # dictionaries with circuit gene and miscellaneous specie names, species name to vector position decoder\n",
    "              cellmodel_auxil.synth_gene_params_for_jax(par_oneandhalfmut, circuit_genes),\n",
    "              # synthetic gene parameters for calculating k values\n",
    "              tf, jnp.arange(tf[0], tf[1], savetimestep),  # time axis for saving the system's state\n",
    "              rtol,\n",
    "              atol)  # simulation parameters: when to save the system's state, relative and absolute tolerances)   # simulation parameters: time frame, save time step, relative and absolute tolerances\n",
    "ts = np.array(sol.ts)\n",
    "xs = np.array(sol.ys)\n",
    "# record growth rate\n",
    "_, ls, _, _, _, _, _, _ = cellmodel_auxil.get_e_l_Fr_nu_psi_T_D_Dnodeg(ts, xs, par_oneandhalfmut, circuit_genes, circuit_miscs, circuit_name2pos,\n",
    "                                                                       circuit_eff_m_het_div_k_het)\n",
    "l_pun_oneandhalfmut=np.float64(ls[-1])\n",
    "\n",
    "# both toggles (all toggle genes) mutated\n",
    "par_allmut=par.copy()\n",
    "par_allmut['func_tog11']=0\n",
    "par_allmut['func_tog12']=0\n",
    "par_allmut['func_tog21']=0\n",
    "par_allmut['func_tog22']=0\n",
    "sol = ode_sim(par_allmut,  # dictionary with model parameters\n",
    "              ode_with_circuit,  # ODE function for the cell with synthetic circuit\n",
    "              cellmodel_auxil.x0_from_init_conds(init_conds, circuit_genes, circuit_miscs),\n",
    "              # initial condition VECTOR\n",
    "              len(circuit_genes), len(circuit_miscs), circuit_name2pos,\n",
    "              # dictionaries with circuit gene and miscellaneous specie names, species name to vector position decoder\n",
    "              cellmodel_auxil.synth_gene_params_for_jax(par_allmut, circuit_genes),\n",
    "              # synthetic gene parameters for calculating k values\n",
    "              tf, jnp.arange(tf[0], tf[1], savetimestep),  # time axis for saving the system's state\n",
    "              rtol,\n",
    "              atol)  # simulation parameters: when to save the system's state, relative and absolute tolerances)   # simulation parameters: time frame, save time step, relative and absolute tolerances\n",
    "ts = np.array(sol.ts)\n",
    "xs = np.array(sol.ys)\n",
    "# record growth rate\n",
    "_, ls, _, _, _, _, _, _ = cellmodel_auxil.get_e_l_Fr_nu_psi_T_D_Dnodeg(ts, xs, par_allmut, circuit_genes, circuit_miscs, circuit_name2pos,\n",
    "                                                                       circuit_eff_m_het_div_k_het)\n",
    "l_pun_allmut=np.float64(ls[-1])            "
   ],
   "id": "f3881948badabcd5",
   "outputs": [],
   "execution_count": 5
  },
  {
   "metadata": {
    "ExecuteTime": {
     "end_time": "2024-09-25T15:02:03.718676Z",
     "start_time": "2024-09-25T15:02:03.715521Z"
    }
   },
   "cell_type": "code",
   "source": [
    "# TWO TOGGLE SWITCHES ONLY\n",
    "# INITIALISE CELL MODEL, LOAD THE CIRCUIT\n",
    "\n",
    "# initialise cell model\n",
    "cellmodel_auxil = CellModelAuxiliary()  # auxiliary tools for simulating the model and plotting simulation outcomes\n",
    "par = cellmodel_auxil.default_params()  # get default parameter values\n",
    "init_conds = cellmodel_auxil.default_init_conds(par)  # get default initial conditions\n",
    "\n",
    "# load synthetic gene circuit\n",
    "ode_with_circuit, circuit_F_calc, circuit_eff_m_het_div_k_het,\\\n",
    "    par, init_conds, circuit_genes, circuit_miscs, circuit_name2pos, circuit_styles, _ = cellmodel_auxil.add_circuit(\n",
    "    circuits.twotoggles_only_initialise,\n",
    "    circuits.twotoggles_only_ode,\n",
    "    circuits.twotoggles_only_F_calc,\n",
    "    circuits.twotoggles_only_eff_m_het_div_k_het,\n",
    "    par, init_conds)  # load the circuit"
   ],
   "id": "c82f90b4dc63b3d3",
   "outputs": [],
   "execution_count": 6
  },
  {
   "metadata": {
    "ExecuteTime": {
     "end_time": "2024-09-25T15:02:03.725184Z",
     "start_time": "2024-09-25T15:02:03.720080Z"
    }
   },
   "cell_type": "code",
   "source": [
    "# TWO TOGGLE SWITCHES ONLY\n",
    "# PARAMETERISE THE CIRCUIT - SAME VALUES AS TOGGLE SWITCHES WITH THE PUNISHER\n",
    "\n",
    " # TOGGLE SWITCHES\n",
    "for togswitchnum in (1, 2):  # cycle through toggle switches\n",
    "    for toggenenum in (1, 2):  # cycle through the genes of the current switch\n",
    "        par['c_tog' + str(togswitchnum) + str(toggenenum)] = par_pun['c_tog' + str(togswitchnum) + str(toggenenum)]  # copy no. (nM)\n",
    "        par['a_tog' + str(togswitchnum) + str(toggenenum)] = par_pun['a_tog' + str(togswitchnum) + str(toggenenum)]  # promoter strength (unitless)\n",
    "\n",
    "        # transcription regulation function\n",
    "        reg_func_string = 'dna(tog' + str(togswitchnum) + str(toggenenum) + '):p_tog' + str(togswitchnum) + str(\n",
    "            (toggenenum - 2) % 2 + 1)  # dna(rep1):p_rep3, dna(rep2):p_rep1 or dna(rep3):p_rep2\n",
    "        par['K_' + reg_func_string] = par_pun['K_' + reg_func_string]  # half-saturation constant\n",
    "        par['eta_' + reg_func_string] = par_pun['eta_' + reg_func_string]  # Hill coefficient\n",
    "        par['baseline_tog' + str(togswitchnum) + str(\n",
    "            toggenenum)] = par_pun['baseline_tog' + str(togswitchnum) + str(toggenenum)]  # baseline transcription activation due to leakiness\n",
    "        par['p_tog' + str(togswitchnum) + str(\n",
    "            toggenenum) + '_ac_frac'] = par_pun['p_tog' + str(togswitchnum) + str(toggenenum) + '_ac_frac']  # active fraction of protein (i.e. share of molecules not bound by the inducer)\n",
    "    # break symmetry for each of the toggle switches\n",
    "    init_conds['m_tog' + str(togswitchnum) + '1'] = init_conds_pun['m_tog' + str(togswitchnum) + '1']\n",
    "\n",
    "# NO PUNISHER CIRCUIT OR CHLORAMPHENICOL IN THE MEDIUM\n",
    "init_conds['h'] = 0.0  # no chloramphenicol in the medium"
   ],
   "id": "13f67355ea9dc2d4",
   "outputs": [],
   "execution_count": 7
  },
  {
   "metadata": {
    "ExecuteTime": {
     "end_time": "2024-09-25T15:02:37.153384Z",
     "start_time": "2024-09-25T15:02:03.726198Z"
    }
   },
   "cell_type": "code",
   "source": [
    "# TWO TOGGLE SWITCHES ONLY\n",
    "# GET STEADY STATE GROWTH RATES FOR DIFFERENT MUTATIONS OF THE TOGGLES\n",
    "\n",
    "# all toggles functional\n",
    "#simulate\n",
    "par_nomut=par.copy()\n",
    "sol = ode_sim(par_nomut,  # dictionary with model parameters\n",
    "              ode_with_circuit,  # ODE function for the cell with synthetic circuit\n",
    "              cellmodel_auxil.x0_from_init_conds(init_conds, circuit_genes, circuit_miscs),\n",
    "              # initial condition VECTOR\n",
    "              len(circuit_genes), len(circuit_miscs), circuit_name2pos,\n",
    "              # dictionaries with circuit gene and miscellaneous specie names, species name to vector position decoder\n",
    "              cellmodel_auxil.synth_gene_params_for_jax(par_nomut, circuit_genes),\n",
    "              # synthetic gene parameters for calculating k values\n",
    "              tf, jnp.arange(tf[0], tf[1], savetimestep),  # time axis for saving the system's state\n",
    "              rtol,\n",
    "              atol)  # simulation parameters: when to save the system's state, relative and absolute tolerances)   # simulation parameters: time frame, save time step, relative and absolute tolerances\n",
    "ts = np.array(sol.ts)\n",
    "xs = np.array(sol.ys)\n",
    "# record growth rate\n",
    "_, ls, _, _, _, _, _, _ = cellmodel_auxil.get_e_l_Fr_nu_psi_T_D_Dnodeg(ts, xs, par_nomut, circuit_genes, circuit_miscs, circuit_name2pos,\n",
    "                                                                       circuit_eff_m_het_div_k_het)\n",
    "l_only_nomut=np.float64(ls[-1])\n",
    "\n",
    "# half of a toggle (tog11 gene) mutated\n",
    "#simulate\n",
    "par_halfmut=par.copy()\n",
    "par_halfmut['func_tog11']=0\n",
    "sol = ode_sim(par_halfmut,  # dictionary with model parameters\n",
    "              ode_with_circuit,  # ODE function for the cell with synthetic circuit\n",
    "              cellmodel_auxil.x0_from_init_conds(init_conds, circuit_genes, circuit_miscs),\n",
    "              # initial condition VECTOR\n",
    "              len(circuit_genes), len(circuit_miscs), circuit_name2pos,\n",
    "              # dictionaries with circuit gene and miscellaneous specie names, species name to vector position decoder\n",
    "              cellmodel_auxil.synth_gene_params_for_jax(par_halfmut, circuit_genes),\n",
    "              # synthetic gene parameters for calculating k values\n",
    "              tf, jnp.arange(tf[0], tf[1], savetimestep),  # time axis for saving the system's state\n",
    "              rtol,\n",
    "              atol)  # simulation parameters: when to save the system's state, relative and absolute tolerances)   # simulation parameters: time frame, save time step, relative and absolute tolerances\n",
    "ts = np.array(sol.ts)\n",
    "xs = np.array(sol.ys)\n",
    "# record growth rate\n",
    "_, ls, _, _, _, _, _, _ = cellmodel_auxil.get_e_l_Fr_nu_psi_T_D_Dnodeg(ts, xs, par_halfmut, circuit_genes, circuit_miscs, circuit_name2pos,\n",
    "                                                                       circuit_eff_m_het_div_k_het)\n",
    "l_only_halfmut=np.float64(ls[-1])\n",
    "\n",
    "# two halves of a toggle (tog11 and tog21 genes) mutated\n",
    "#simulate\n",
    "par_twohalfmut=par.copy()\n",
    "par_twohalfmut['func_tog11']=0\n",
    "par_twohalfmut['func_tog21']=0\n",
    "sol = ode_sim(par_twohalfmut,  # dictionary with model parameters\n",
    "              ode_with_circuit,  # ODE function for the cell with synthetic circuit\n",
    "              cellmodel_auxil.x0_from_init_conds(init_conds, circuit_genes, circuit_miscs),\n",
    "              # initial condition VECTOR\n",
    "              len(circuit_genes), len(circuit_miscs), circuit_name2pos,\n",
    "              # dictionaries with circuit gene and miscellaneous specie names, species name to vector position decoder\n",
    "              cellmodel_auxil.synth_gene_params_for_jax(par_twohalfmut, circuit_genes),\n",
    "              # synthetic gene parameters for calculating k values\n",
    "              tf, jnp.arange(tf[0], tf[1], savetimestep),  # time axis for saving the system's state\n",
    "              rtol,\n",
    "              atol)  # simulation parameters: when to save the system's state, relative and absolute tolerances)   # simulation parameters: time frame, save time step, relative and absolute tolerances\n",
    "ts = np.array(sol.ts)\n",
    "xs = np.array(sol.ys)\n",
    "# record growth rate\n",
    "_, ls, _, _, _, _, _, _ = cellmodel_auxil.get_e_l_Fr_nu_psi_T_D_Dnodeg(ts, xs, par_twohalfmut, circuit_genes, circuit_miscs, circuit_name2pos,\n",
    "                                                                       circuit_eff_m_het_div_k_het)\n",
    "l_only_twohalfmut=np.float64(ls[-1])\n",
    "\n",
    "# one toggle (tog11 and tog12 genes) mutated\n",
    "par_onemut=par.copy()\n",
    "par_onemut['func_tog11']=0\n",
    "par_onemut['func_tog12']=0\n",
    "sol = ode_sim(par_onemut,  # dictionary with model parameters\n",
    "              ode_with_circuit,  # ODE function for the cell with synthetic circuit\n",
    "              cellmodel_auxil.x0_from_init_conds(init_conds, circuit_genes, circuit_miscs),\n",
    "              # initial condition VECTOR\n",
    "              len(circuit_genes), len(circuit_miscs), circuit_name2pos,\n",
    "              # dictionaries with circuit gene and miscellaneous specie names, species name to vector position decoder\n",
    "              cellmodel_auxil.synth_gene_params_for_jax(par_onemut, circuit_genes),\n",
    "              # synthetic gene parameters for calculating k values\n",
    "              tf, jnp.arange(tf[0], tf[1], savetimestep),  # time axis for saving the system's state\n",
    "              rtol,\n",
    "              atol)  # simulation parameters: when to save the system's state, relative and absolute tolerances)   # simulation parameters: time frame, save time step, relative and absolute tolerances\n",
    "ts = np.array(sol.ts)\n",
    "xs = np.array(sol.ys)\n",
    "# record growth rate\n",
    "_, ls, _, _, _, _, _, _ = cellmodel_auxil.get_e_l_Fr_nu_psi_T_D_Dnodeg(ts, xs, par_onemut, circuit_genes, circuit_miscs, circuit_name2pos,\n",
    "                                                                       circuit_eff_m_het_div_k_het)\n",
    "l_only_onemut=np.float64(ls[-1])\n",
    "\n",
    "# one toggle and a half (tog11, tog12 and tog21 genes) mutated\n",
    "par_oneandhalfmut=par.copy()\n",
    "par_oneandhalfmut['func_tog11']=0\n",
    "par_oneandhalfmut['func_tog12']=0\n",
    "par_oneandhalfmut['func_tog21']=0\n",
    "sol = ode_sim(par_oneandhalfmut,  # dictionary with model parameters\n",
    "              ode_with_circuit,  # ODE function for the cell with synthetic circuit\n",
    "              cellmodel_auxil.x0_from_init_conds(init_conds, circuit_genes, circuit_miscs),\n",
    "              # initial condition VECTOR\n",
    "              len(circuit_genes), len(circuit_miscs), circuit_name2pos,\n",
    "              # dictionaries with circuit gene and miscellaneous specie names, species name to vector position decoder\n",
    "              cellmodel_auxil.synth_gene_params_for_jax(par_oneandhalfmut, circuit_genes),\n",
    "              # synthetic gene parameters for calculating k values\n",
    "              tf, jnp.arange(tf[0], tf[1], savetimestep),  # time axis for saving the system's state\n",
    "              rtol,\n",
    "              atol)  # simulation parameters: when to save the system's state, relative and absolute tolerances)   # simulation parameters: time frame, save time step, relative and absolute tolerances\n",
    "ts = np.array(sol.ts)\n",
    "xs = np.array(sol.ys)\n",
    "# record growth rate\n",
    "_, ls, _, _, _, _, _, _ = cellmodel_auxil.get_e_l_Fr_nu_psi_T_D_Dnodeg(ts, xs, par_oneandhalfmut, circuit_genes, circuit_miscs, circuit_name2pos,\n",
    "                                                                       circuit_eff_m_het_div_k_het)\n",
    "l_only_oneandhalfmut=np.float64(ls[-1])\n",
    "\n",
    "# both toggles (all toggle genes) mutated\n",
    "par_allmut=par.copy()\n",
    "par_allmut['func_tog11']=0\n",
    "par_allmut['func_tog12']=0\n",
    "par_allmut['func_tog21']=0\n",
    "par_allmut['func_tog22']=0\n",
    "sol = ode_sim(par_allmut,  # dictionary with model parameters\n",
    "              ode_with_circuit,  # ODE function for the cell with synthetic circuit\n",
    "              cellmodel_auxil.x0_from_init_conds(init_conds, circuit_genes, circuit_miscs),\n",
    "              # initial condition VECTOR\n",
    "              len(circuit_genes), len(circuit_miscs), circuit_name2pos,\n",
    "              # dictionaries with circuit gene and miscellaneous specie names, species name to vector position decoder\n",
    "              cellmodel_auxil.synth_gene_params_for_jax(par_allmut, circuit_genes),\n",
    "              # synthetic gene parameters for calculating k values\n",
    "              tf, jnp.arange(tf[0], tf[1], savetimestep),  # time axis for saving the system's state\n",
    "              rtol,\n",
    "              atol)  # simulation parameters: when to save the system's state, relative and absolute tolerances)   # simulation parameters: time frame, save time step, relative and absolute tolerances\n",
    "ts = np.array(sol.ts)\n",
    "xs = np.array(sol.ys)\n",
    "# record growth rate\n",
    "_, ls, _, _, _, _, _, _ = cellmodel_auxil.get_e_l_Fr_nu_psi_T_D_Dnodeg(ts, xs, par_allmut, circuit_genes, circuit_miscs, circuit_name2pos,\n",
    "                                                                       circuit_eff_m_het_div_k_het)\n",
    "l_only_allmut=np.float64(ls[-1])            "
   ],
   "id": "928fa64e7e3e4034",
   "outputs": [],
   "execution_count": 8
  },
  {
   "metadata": {
    "ExecuteTime": {
     "end_time": "2024-09-25T15:02:37.157279Z",
     "start_time": "2024-09-25T15:02:37.154572Z"
    }
   },
   "cell_type": "code",
   "source": [
    "# TWO TOGGLE SWITCHES WITH SYNTHETIC ADDICTION\n",
    "# INITIALISE CELL MODEL, LOAD THE CIRCUIT\n",
    "\n",
    "# initialise cell model\n",
    "cellmodel_auxil = CellModelAuxiliary()  # auxiliary tools for simulating the model and plotting simulation outcomes\n",
    "par = cellmodel_auxil.default_params()  # get default parameter values\n",
    "init_conds = cellmodel_auxil.default_init_conds(par)  # get default initial conditions\n",
    "\n",
    "# load synthetic gene circuit\n",
    "ode_with_circuit, circuit_F_calc, circuit_eff_m_het_div_k_het,\\\n",
    "    par, init_conds, circuit_genes, circuit_miscs, circuit_name2pos, circuit_styles, _ = cellmodel_auxil.add_circuit(\n",
    "    circuits.twotoggles_add_initialise,\n",
    "    circuits.twotoggles_add_ode,\n",
    "    circuits.twotoggles_add_F_calc,\n",
    "    circuits.twotoggles_add_eff_m_het_div_k_het,\n",
    "    par, init_conds)  # load the circuit"
   ],
   "id": "ccfdb9621874e2fc",
   "outputs": [],
   "execution_count": 9
  },
  {
   "metadata": {
    "ExecuteTime": {
     "end_time": "2024-09-25T15:02:37.169290Z",
     "start_time": "2024-09-25T15:02:37.159227Z"
    }
   },
   "cell_type": "code",
   "source": [
    "# TWO TOGGLE SWITCHES WITH SYNTHETIC ADDICTION\n",
    "# PARAMETERISE THE CIRCUIT - SAME VALUES AS TOGGLE SWITCHES WITH THE PUNISHER\n",
    "\n",
    " # TOGGLE SWITCHES\n",
    "for togswitchnum in (1, 2):  # cycle through toggle switches\n",
    "    for toggenenum in (1, 2):  # cycle through the genes of the current switch\n",
    "        par['c_tog' + str(togswitchnum) + str(toggenenum)] = par_pun['c_tog' + str(togswitchnum) + str(toggenenum)]  # copy no. (nM)\n",
    "        par['a_tog' + str(togswitchnum) + str(toggenenum)] = par_pun['a_tog' + str(togswitchnum) + str(toggenenum)]  # promoter strength (unitless)\n",
    "    \n",
    "        # transcription regulation function\n",
    "        reg_func_string = 'dna(tog' + str(togswitchnum) + str(toggenenum) + '):p_tog' + str(togswitchnum) + str(\n",
    "            (toggenenum - 2) % 2 + 1)  # dna(rep1):p_rep3, dna(rep2):p_rep1 or dna(rep3):p_rep2\n",
    "        par['K_' + reg_func_string] = par_pun['K_' + reg_func_string]  # half-saturation constant\n",
    "        par['eta_' + reg_func_string] = par_pun['eta_' + reg_func_string]  # Hill coefficient\n",
    "        par['baseline_tog' + str(togswitchnum) + str(\n",
    "            toggenenum)] = par_pun['baseline_tog' + str(togswitchnum) + str(toggenenum)]  # baseline transcription activation due to leakiness\n",
    "        par['p_tog' + str(togswitchnum) + str(\n",
    "            toggenenum) + '_ac_frac'] = par_pun['p_tog' + str(togswitchnum) + str(toggenenum) + '_ac_frac']  # active fraction of protein (i.e. share of molecules not bound by the inducer)\n",
    "    # break symmetry for each of the toggle switches\n",
    "    init_conds['m_tog' + str(togswitchnum) + '1'] = init_conds_pun['m_tog' + str(togswitchnum) + '1']\n",
    "\n",
    "# CO-EXPRESSED CAT (default values)\n",
    "for togswitchnum in (1, 2):  # cycle through toggle switches\n",
    "    for toggenenum in (1, 2):  # cycle through the genes of the current switch\n",
    "        par['k+_cat' + str(togswitchnum) + str(toggenenum)] = 60  # ribosome binding rate (/h/nM)\n",
    "        par['k-_cat' + str(togswitchnum) + str(toggenenum)] = 60  # ribosome unbinding rate (/h)\n",
    "        \n",
    "# CULTURE MEDIUM\n",
    "init_conds['s'] = 0.5\n",
    "par['h_ext'] = 10.5 * (10.0 ** 3)"
   ],
   "id": "456728f5001f0fd9",
   "outputs": [],
   "execution_count": 10
  },
  {
   "metadata": {
    "ExecuteTime": {
     "end_time": "2024-09-25T15:02:37.173022Z",
     "start_time": "2024-09-25T15:02:37.170131Z"
    }
   },
   "cell_type": "code",
   "source": [
    "# TWO TOGGLE SWITCHES WITH SYNTHETIC ADDICTION\n",
    "#  DEFINE RBS STRENTHS TO LOOK AT\n",
    "k_plus_cats = np.logspace(np.log10(60/250), np.log10(60), 50)  # ribosome binding rates (/h/nM) to look at"
   ],
   "id": "378a496cfb14580f",
   "outputs": [],
   "execution_count": 11
  },
  {
   "metadata": {
    "ExecuteTime": {
     "end_time": "2024-09-25T15:03:29.065872Z",
     "start_time": "2024-09-25T15:02:37.174088Z"
    }
   },
   "cell_type": "code",
   "source": [
    "ls_add_nomut = np.zeros_like(k_plus_cats)\n",
    "ls_add_halfmut = np.zeros_like(k_plus_cats)\n",
    "ls_add_twohalfmut = np.zeros_like(k_plus_cats)\n",
    "ls_add_onemut = np.zeros_like(k_plus_cats)\n",
    "ls_add_oneandhalfmut = np.zeros_like(k_plus_cats)\n",
    "ls_add_allmut = np.zeros_like(k_plus_cats)\n",
    "\n",
    "for kplus_cntr in range(0,len(k_plus_cats)):\n",
    "    # set the rbs strengths\n",
    "    for togswitchnum in (1, 2):  # cycle through toggle switches\n",
    "        for toggenenum in (1, 2):  # cycle through the genes of the current switch\n",
    "            par['k+_cat' + str(togswitchnum) + str(toggenenum)] = k_plus_cats[kplus_cntr]  # ribosome binding rate (/h/nM)\n",
    "    \n",
    "    # all toggles functional\n",
    "    #simulate\n",
    "    par_nomut=par.copy()\n",
    "    sol = ode_sim(par_nomut,  # dictionary with model parameters\n",
    "                  ode_with_circuit,  # ODE function for the cell with synthetic circuit\n",
    "                  cellmodel_auxil.x0_from_init_conds(init_conds, circuit_genes, circuit_miscs),\n",
    "                  # initial condition VECTOR\n",
    "                  len(circuit_genes), len(circuit_miscs), circuit_name2pos,\n",
    "                  # dictionaries with circuit gene and miscellaneous specie names, species name to vector position decoder\n",
    "                  cellmodel_auxil.synth_gene_params_for_jax(par_nomut, circuit_genes),\n",
    "                  # synthetic gene parameters for calculating k values\n",
    "                  tf, jnp.arange(tf[0], tf[1], savetimestep),  # time axis for saving the system's state\n",
    "                  rtol,\n",
    "                  atol)  # simulation parameters: when to save the system's state, relative and absolute tolerances)   # simulation parameters: time frame, save time step, relative and absolute tolerances\n",
    "    ts = np.array(sol.ts)\n",
    "    xs = np.array(sol.ys)\n",
    "    # record growth rate\n",
    "    _, ls, _, _, _, _, _, _ = cellmodel_auxil.get_e_l_Fr_nu_psi_T_D_Dnodeg(ts, xs, par_nomut, circuit_genes, circuit_miscs, circuit_name2pos,\n",
    "                                                                           circuit_eff_m_het_div_k_het)\n",
    "    ls_add_nomut[kplus_cntr]=np.float64(ls[-1])\n",
    "    \n",
    "    # half of a toggle (tog11 gene) mutated\n",
    "    #simulate\n",
    "    par_halfmut=par.copy()\n",
    "    par_halfmut['func_tog11']=0\n",
    "    sol = ode_sim(par_halfmut,  # dictionary with model parameters\n",
    "                  ode_with_circuit,  # ODE function for the cell with synthetic circuit\n",
    "                  cellmodel_auxil.x0_from_init_conds(init_conds, circuit_genes, circuit_miscs),\n",
    "                  # initial condition VECTOR\n",
    "                  len(circuit_genes), len(circuit_miscs), circuit_name2pos,\n",
    "                  # dictionaries with circuit gene and miscellaneous specie names, species name to vector position decoder\n",
    "                  cellmodel_auxil.synth_gene_params_for_jax(par_halfmut, circuit_genes),\n",
    "                  # synthetic gene parameters for calculating k values\n",
    "                  tf, jnp.arange(tf[0], tf[1], savetimestep),  # time axis for saving the system's state\n",
    "                  rtol,\n",
    "                  atol)  # simulation parameters: when to save the system's state, relative and absolute tolerances)   # simulation parameters: time frame, save time step, relative and absolute tolerances\n",
    "    ts = np.array(sol.ts)\n",
    "    xs = np.array(sol.ys)\n",
    "    # record growth rate\n",
    "    _, ls, _, _, _, _, _, _ = cellmodel_auxil.get_e_l_Fr_nu_psi_T_D_Dnodeg(ts, xs, par_halfmut, circuit_genes, circuit_miscs, circuit_name2pos,\n",
    "                                                                           circuit_eff_m_het_div_k_het)\n",
    "    ls_add_halfmut[kplus_cntr]=np.float64(ls[-1])\n",
    "    \n",
    "    # two halves of a toggle (tog11 and tog21 genes) mutated\n",
    "    #simulate\n",
    "    par_twohalfmut=par.copy()\n",
    "    par_twohalfmut['func_tog11']=0\n",
    "    par_twohalfmut['func_tog21']=0\n",
    "    sol = ode_sim(par_twohalfmut,  # dictionary with model parameters\n",
    "                  ode_with_circuit,  # ODE function for the cell with synthetic circuit\n",
    "                  cellmodel_auxil.x0_from_init_conds(init_conds, circuit_genes, circuit_miscs),\n",
    "                  # initial condition VECTOR\n",
    "                  len(circuit_genes), len(circuit_miscs), circuit_name2pos,\n",
    "                  # dictionaries with circuit gene and miscellaneous specie names, species name to vector position decoder\n",
    "                  cellmodel_auxil.synth_gene_params_for_jax(par_twohalfmut, circuit_genes),\n",
    "                  # synthetic gene parameters for calculating k values\n",
    "                  tf, jnp.arange(tf[0], tf[1], savetimestep),  # time axis for saving the system's state\n",
    "                  rtol,\n",
    "                  atol)  # simulation parameters: when to save the system's state, relative and absolute tolerances)   # simulation parameters: time frame, save time step, relative and absolute tolerances\n",
    "    ts = np.array(sol.ts)\n",
    "    xs = np.array(sol.ys)\n",
    "    # record growth rate\n",
    "    _, ls, _, _, _, _, _, _ = cellmodel_auxil.get_e_l_Fr_nu_psi_T_D_Dnodeg(ts, xs, par_twohalfmut, circuit_genes, circuit_miscs, circuit_name2pos,\n",
    "                                                                           circuit_eff_m_het_div_k_het)\n",
    "    ls_add_twohalfmut[kplus_cntr]=np.float64(ls[-1])\n",
    "    \n",
    "    # one toggle (tog11 and tog12 genes) mutated\n",
    "    par_onemut=par.copy()\n",
    "    par_onemut['func_tog11']=0\n",
    "    par_onemut['func_tog12']=0\n",
    "    sol = ode_sim(par_onemut,  # dictionary with model parameters\n",
    "                  ode_with_circuit,  # ODE function for the cell with synthetic circuit\n",
    "                  cellmodel_auxil.x0_from_init_conds(init_conds, circuit_genes, circuit_miscs),\n",
    "                  # initial condition VECTOR\n",
    "                  len(circuit_genes), len(circuit_miscs), circuit_name2pos,\n",
    "                  # dictionaries with circuit gene and miscellaneous specie names, species name to vector position decoder\n",
    "                  cellmodel_auxil.synth_gene_params_for_jax(par_onemut, circuit_genes),\n",
    "                  # synthetic gene parameters for calculating k values\n",
    "                  tf, jnp.arange(tf[0], tf[1], savetimestep),  # time axis for saving the system's state\n",
    "                  rtol,\n",
    "                  atol)  # simulation parameters: when to save the system's state, relative and absolute tolerances)   # simulation parameters: time frame, save time step, relative and absolute tolerances\n",
    "    ts = np.array(sol.ts)\n",
    "    xs = np.array(sol.ys)\n",
    "    # record growth rate\n",
    "    _, ls, _, _, _, _, _, _ = cellmodel_auxil.get_e_l_Fr_nu_psi_T_D_Dnodeg(ts, xs, par_onemut, circuit_genes, circuit_miscs, circuit_name2pos,\n",
    "                                                                           circuit_eff_m_het_div_k_het)\n",
    "    ls_add_onemut[kplus_cntr]=np.float64(ls[-1])\n",
    "    \n",
    "    # one toggle and a half (tog11, tog12 and tog21 genes) mutated\n",
    "    par_oneandhalfmut=par.copy()\n",
    "    par_oneandhalfmut['func_tog11']=0\n",
    "    par_oneandhalfmut['func_tog12']=0\n",
    "    par_oneandhalfmut['func_tog21']=0\n",
    "    sol = ode_sim(par_oneandhalfmut,  # dictionary with model parameters\n",
    "                  ode_with_circuit,  # ODE function for the cell with synthetic circuit\n",
    "                  cellmodel_auxil.x0_from_init_conds(init_conds, circuit_genes, circuit_miscs),\n",
    "                  # initial condition VECTOR\n",
    "                  len(circuit_genes), len(circuit_miscs), circuit_name2pos,\n",
    "                  # dictionaries with circuit gene and miscellaneous specie names, species name to vector position decoder\n",
    "                  cellmodel_auxil.synth_gene_params_for_jax(par_oneandhalfmut, circuit_genes),\n",
    "                  # synthetic gene parameters for calculating k values\n",
    "                  tf, jnp.arange(tf[0], tf[1], savetimestep),  # time axis for saving the system's state\n",
    "                  rtol,\n",
    "                  atol)  # simulation parameters: when to save the system's state, relative and absolute tolerances)   # simulation parameters: time frame, save time step, relative and absolute tolerances\n",
    "    ts = np.array(sol.ts)\n",
    "    xs = np.array(sol.ys)\n",
    "    # record growth rate\n",
    "    _, ls, _, _, _, _, _, _ = cellmodel_auxil.get_e_l_Fr_nu_psi_T_D_Dnodeg(ts, xs, par_oneandhalfmut, circuit_genes, circuit_miscs, circuit_name2pos,\n",
    "                                                                           circuit_eff_m_het_div_k_het)\n",
    "    ls_add_oneandhalfmut[kplus_cntr]=np.float64(ls[-1])\n",
    "    \n",
    "    # both toggles (all toggle genes) mutated\n",
    "    par_allmut=par.copy()\n",
    "    par_allmut['func_tog11']=0\n",
    "    par_allmut['func_tog12']=0\n",
    "    par_allmut['func_tog21']=0\n",
    "    par_allmut['func_tog22']=0\n",
    "    sol = ode_sim(par_allmut,  # dictionary with model parameters\n",
    "                  ode_with_circuit,  # ODE function for the cell with synthetic circuit\n",
    "                  cellmodel_auxil.x0_from_init_conds(init_conds, circuit_genes, circuit_miscs),\n",
    "                  # initial condition VECTOR\n",
    "                  len(circuit_genes), len(circuit_miscs), circuit_name2pos,\n",
    "                  # dictionaries with circuit gene and miscellaneous specie names, species name to vector position decoder\n",
    "                  cellmodel_auxil.synth_gene_params_for_jax(par_allmut, circuit_genes),\n",
    "                  # synthetic gene parameters for calculating k values\n",
    "                  tf, jnp.arange(tf[0], tf[1], savetimestep),  # time axis for saving the system's state\n",
    "                  rtol,\n",
    "                  atol)  # simulation parameters: when to save the system's state, relative and absolute tolerances)   # simulation parameters: time frame, save time step, relative and absolute tolerances\n",
    "    ts = np.array(sol.ts)\n",
    "    xs = np.array(sol.ys)\n",
    "    # record growth rate\n",
    "    _, ls, _, _, _, _, _, _ = cellmodel_auxil.get_e_l_Fr_nu_psi_T_D_Dnodeg(ts, xs, par_allmut, circuit_genes, circuit_miscs, circuit_name2pos,\n",
    "                                                                           circuit_eff_m_het_div_k_het)\n",
    "    ls_add_allmut[kplus_cntr]=np.float64(ls[-1])"
   ],
   "id": "8f38ab9158e4d815",
   "outputs": [],
   "execution_count": 12
  },
  {
   "metadata": {
    "ExecuteTime": {
     "end_time": "2024-09-25T15:03:29.070782Z",
     "start_time": "2024-09-25T15:03:29.066801Z"
    }
   },
   "cell_type": "code",
   "source": [
    "# PLOT GROWTH RATES\n",
    "font_size='8pt' # font size for the plots\n",
    "\n",
    "# find region where overlaps fail\n",
    "fail_indices = np.where(\n",
    "    np.logical_or(\n",
    "        np.divide(ls_add_twohalfmut, ls_add_nomut) > 1,\n",
    "        np.logical_or(\n",
    "            np.logical_or(np.divide(ls_add_halfmut, ls_add_nomut) > 1,\n",
    "                          np.divide(ls_add_onemut, ls_add_nomut) > 1),\n",
    "            np.logical_or(np.divide(ls_add_oneandhalfmut, ls_add_nomut) > 1,\n",
    "                          np.divide(ls_add_allmut, ls_add_nomut) > 1)\n",
    "    )))[0]\n",
    "# failure regions are on either side of the functional region as growth rates change monotonically\n",
    "fail_regions=[]\n",
    "for i in range(0,len(fail_indices)):\n",
    "    if(i==0): # first failure index is by definition the left boundary of a new failure region\n",
    "        current_fail_region_left=fail_indices[i]\n",
    "    elif(fail_indices[i]-fail_indices[i-1]>1): # detecting a break between failure regions\n",
    "        fail_regions.append((current_fail_region_left,fail_indices[i-1])) # record the fully traversed failure region\n",
    "        current_fail_region_left=fail_indices[i] # start tracking a new failure region\n",
    "    elif(i==len(fail_indices)-1): # last failure index is by definition the right boundary of a new failure region\n",
    "        fail_regions.append((current_fail_region_left,fail_indices[i])) # record the fully traversed failure region"
   ],
   "id": "43e88a440bcc42e5",
   "outputs": [],
   "execution_count": 13
  },
  {
   "metadata": {
    "ExecuteTime": {
     "end_time": "2024-09-25T15:03:29.107093Z",
     "start_time": "2024-09-25T15:03:29.071811Z"
    }
   },
   "cell_type": "code",
   "source": [
    "#\n",
    "# half a toggle mutated\n",
    "halfmut_fig= bkplot.figure(\n",
    "    frame_width=160,\n",
    "    frame_height=160,\n",
    "    title='tog11 mutated',\n",
    "    x_axis_label=\"kcatyz (cat RBS:ribosome \\n dissoc. rate), 1/(nM*h)\",\n",
    "    y_axis_label=\"Rel. growth rate after mutation\",\n",
    "    x_range=(k_plus_cats[0], k_plus_cats[-1]),\n",
    "    y_range=(0.9,1.05),\n",
    "    x_axis_type=\"log\",\n",
    "    tools=\"box_zoom,pan,hover,reset,save\"\n",
    ")\n",
    "halfmut_fig.output_backend = \"svg\"\n",
    "\n",
    "# shade regions where essential gene co-expression fails\n",
    "for fail_region in fail_regions:\n",
    "    halfmut_fig.add_layout(bkmodels.BoxAnnotation(left=k_plus_cats[fail_region[0]], right=k_plus_cats[fail_region[1]], fill_color='gray', fill_alpha=0.1))\n",
    "\n",
    "# reference at 1\n",
    "halfmut_fig.add_layout(bkmodels.Span(location=1, dimension='width', line_color='black', line_width=2, line_dash='dashed'))\n",
    "\n",
    "# Toggle switches only\n",
    "halfmut_fig.line(k_plus_cats,\n",
    "                l_only_halfmut / l_only_nomut * np.ones(len(k_plus_cats)),\n",
    "                line_color=bkRGB(72, 209, 204), line_width=2, legend_label='Toggles only')\n",
    "\n",
    "# Punisher\n",
    "halfmut_fig.line(k_plus_cats,\n",
    "                l_pun_halfmut / l_pun_nomut * np.ones(len(k_plus_cats)),\n",
    "                line_color=bkRGB(255, 103, 0), line_width=2, legend_label='Punisher')\n",
    "\n",
    "# Essential gene co-expression\n",
    "halfmut_fig.line(k_plus_cats,\n",
    "                np.divide(ls_add_halfmut,ls_add_nomut),\n",
    "                line_color=bkRGB(222, 49, 99), line_width=2, legend_label='Co-expression')\n",
    "\n",
    "# font and axis settings\n",
    "halfmut_fig.xaxis.ticker = bkmodels.LogTicker(desired_num_ticks=5)\n",
    "halfmut_fig.xaxis.axis_label_text_font_size = font_size\n",
    "halfmut_fig.xaxis.major_label_text_font_size = font_size\n",
    "halfmut_fig.yaxis.axis_label_text_font_size = font_size\n",
    "halfmut_fig.yaxis.major_label_text_font_size = font_size\n",
    "halfmut_fig.legend.label_text_font_size = font_size\n",
    "halfmut_fig.title.text_font_size = font_size\n",
    "halfmut_fig.legend.visible=False\n",
    "halfmut_fig.legend.background_fill_alpha = 1\n",
    "halfmut_fig.legend.location = \"bottom_right\"\n",
    "\n",
    "bkplot.show(halfmut_fig)"
   ],
   "id": "ec89f1260eb31b95",
   "outputs": [
    {
     "data": {
      "text/html": [
       "\n",
       "  <div id=\"ef834b9a-cb0b-4544-819b-05708511e601\" data-root-id=\"p1001\" style=\"display: contents;\"></div>\n"
      ]
     },
     "metadata": {},
     "output_type": "display_data"
    },
    {
     "data": {
      "application/javascript": "(function(root) {\n  function embed_document(root) {\n  const docs_json = {\"7d4189fa-c682-4d8d-b6fc-9a55ff204d99\":{\"version\":\"3.4.0\",\"title\":\"Bokeh Application\",\"roots\":[{\"type\":\"object\",\"name\":\"Figure\",\"id\":\"p1001\",\"attributes\":{\"x_range\":{\"type\":\"object\",\"name\":\"Range1d\",\"id\":\"p1011\",\"attributes\":{\"start\":0.24,\"end\":60.0}},\"y_range\":{\"type\":\"object\",\"name\":\"Range1d\",\"id\":\"p1012\",\"attributes\":{\"start\":0.9,\"end\":1.05}},\"x_scale\":{\"type\":\"object\",\"name\":\"LogScale\",\"id\":\"p1013\"},\"y_scale\":{\"type\":\"object\",\"name\":\"LinearScale\",\"id\":\"p1014\"},\"title\":{\"type\":\"object\",\"name\":\"Title\",\"id\":\"p1004\",\"attributes\":{\"text\":\"tog11 mutated\",\"text_font_size\":\"8pt\"}},\"renderers\":[{\"type\":\"object\",\"name\":\"GlyphRenderer\",\"id\":\"p1052\",\"attributes\":{\"data_source\":{\"type\":\"object\",\"name\":\"ColumnDataSource\",\"id\":\"p1046\",\"attributes\":{\"selected\":{\"type\":\"object\",\"name\":\"Selection\",\"id\":\"p1047\",\"attributes\":{\"indices\":[],\"line_indices\":[]}},\"selection_policy\":{\"type\":\"object\",\"name\":\"UnionRenderers\",\"id\":\"p1048\"},\"data\":{\"type\":\"map\",\"entries\":[[\"x\",{\"type\":\"ndarray\",\"array\":{\"type\":\"bytes\",\"data\":\"uB6F61G4zj/4n8gLLTHRP4q2AHwiPtM/E+dhe7WJ1T/mlM3+XRvYPyzliAh4+9o//j/K214z3j9QFG+3xebgPwm4ej/b6uI/3+8/Wn8s5T+iMxiqCbPnP6PRygOyhuo/EbNhLKuw7T+xbMVjoJ3wP2fr9Wv8mPI/Ij01n9zQ9D+aSzfZeEz3P19F113lE/o/rx4xIy0w/T8E+Tyft1UAQFyAq+l/SAJAyGFveMZ2BEDa8hvqo+cGQIxgjIsJowlA5cg2MNuxDEBZDNYPBg8QQBkGM7tf+RFAF3qfMTYeFEBO/L9bg4QWQNuxwSYWNBlALmjT7Ks1HED2D3TlDJMfQCNNEP2VqyFAFHF6MyXHI0DlAJfNDyMmQBEyqO0CxyhAAwkXG5a7K0CwP643ZwovQBM3Q+UcXzFAbG47A41xM0BK0wH/QcM1QHD0LMLHWzhAoPoQpZBDO0AQofvqEIQ+QNBr2cLuE0FAKWQoQmcdQ0AOVMTOEmVFQHR/Xqlc8kdAkrUinJLNSkAAAAAAAABOQA==\"},\"shape\":[50],\"dtype\":\"float64\",\"order\":\"little\"}],[\"y\",{\"type\":\"ndarray\",\"array\":{\"type\":\"bytes\",\"data\":\"MeswhU3H7j8x6zCFTcfuPzHrMIVNx+4/MeswhU3H7j8x6zCFTcfuPzHrMIVNx+4/MeswhU3H7j8x6zCFTcfuPzHrMIVNx+4/MeswhU3H7j8x6zCFTcfuPzHrMIVNx+4/MeswhU3H7j8x6zCFTcfuPzHrMIVNx+4/MeswhU3H7j8x6zCFTcfuPzHrMIVNx+4/MeswhU3H7j8x6zCFTcfuPzHrMIVNx+4/MeswhU3H7j8x6zCFTcfuPzHrMIVNx+4/MeswhU3H7j8x6zCFTcfuPzHrMIVNx+4/MeswhU3H7j8x6zCFTcfuPzHrMIVNx+4/MeswhU3H7j8x6zCFTcfuPzHrMIVNx+4/MeswhU3H7j8x6zCFTcfuPzHrMIVNx+4/MeswhU3H7j8x6zCFTcfuPzHrMIVNx+4/MeswhU3H7j8x6zCFTcfuPzHrMIVNx+4/MeswhU3H7j8x6zCFTcfuPzHrMIVNx+4/MeswhU3H7j8x6zCFTcfuPzHrMIVNx+4/MeswhU3H7j8x6zCFTcfuPw==\"},\"shape\":[50],\"dtype\":\"float64\",\"order\":\"little\"}]]}}},\"view\":{\"type\":\"object\",\"name\":\"CDSView\",\"id\":\"p1053\",\"attributes\":{\"filter\":{\"type\":\"object\",\"name\":\"AllIndices\",\"id\":\"p1054\"}}},\"glyph\":{\"type\":\"object\",\"name\":\"Line\",\"id\":\"p1049\",\"attributes\":{\"x\":{\"type\":\"field\",\"field\":\"x\"},\"y\":{\"type\":\"field\",\"field\":\"y\"},\"line_color\":\"rgb(72, 209, 204)\",\"line_width\":2}},\"nonselection_glyph\":{\"type\":\"object\",\"name\":\"Line\",\"id\":\"p1050\",\"attributes\":{\"x\":{\"type\":\"field\",\"field\":\"x\"},\"y\":{\"type\":\"field\",\"field\":\"y\"},\"line_color\":\"rgb(72, 209, 204)\",\"line_alpha\":0.1,\"line_width\":2}},\"muted_glyph\":{\"type\":\"object\",\"name\":\"Line\",\"id\":\"p1051\",\"attributes\":{\"x\":{\"type\":\"field\",\"field\":\"x\"},\"y\":{\"type\":\"field\",\"field\":\"y\"},\"line_color\":\"rgb(72, 209, 204)\",\"line_alpha\":0.2,\"line_width\":2}}}},{\"type\":\"object\",\"name\":\"GlyphRenderer\",\"id\":\"p1063\",\"attributes\":{\"data_source\":{\"type\":\"object\",\"name\":\"ColumnDataSource\",\"id\":\"p1057\",\"attributes\":{\"selected\":{\"type\":\"object\",\"name\":\"Selection\",\"id\":\"p1058\",\"attributes\":{\"indices\":[],\"line_indices\":[]}},\"selection_policy\":{\"type\":\"object\",\"name\":\"UnionRenderers\",\"id\":\"p1059\"},\"data\":{\"type\":\"map\",\"entries\":[[\"x\",{\"type\":\"ndarray\",\"array\":{\"type\":\"bytes\",\"data\":\"uB6F61G4zj/4n8gLLTHRP4q2AHwiPtM/E+dhe7WJ1T/mlM3+XRvYPyzliAh4+9o//j/K214z3j9QFG+3xebgPwm4ej/b6uI/3+8/Wn8s5T+iMxiqCbPnP6PRygOyhuo/EbNhLKuw7T+xbMVjoJ3wP2fr9Wv8mPI/Ij01n9zQ9D+aSzfZeEz3P19F113lE/o/rx4xIy0w/T8E+Tyft1UAQFyAq+l/SAJAyGFveMZ2BEDa8hvqo+cGQIxgjIsJowlA5cg2MNuxDEBZDNYPBg8QQBkGM7tf+RFAF3qfMTYeFEBO/L9bg4QWQNuxwSYWNBlALmjT7Ks1HED2D3TlDJMfQCNNEP2VqyFAFHF6MyXHI0DlAJfNDyMmQBEyqO0CxyhAAwkXG5a7K0CwP643ZwovQBM3Q+UcXzFAbG47A41xM0BK0wH/QcM1QHD0LMLHWzhAoPoQpZBDO0AQofvqEIQ+QNBr2cLuE0FAKWQoQmcdQ0AOVMTOEmVFQHR/Xqlc8kdAkrUinJLNSkAAAAAAAABOQA==\"},\"shape\":[50],\"dtype\":\"float64\",\"order\":\"little\"}],[\"y\",{\"type\":\"ndarray\",\"array\":{\"type\":\"bytes\",\"data\":\"9Tr44BnO7j/1OvjgGc7uP/U6+OAZzu4/9Tr44BnO7j/1OvjgGc7uP/U6+OAZzu4/9Tr44BnO7j/1OvjgGc7uP/U6+OAZzu4/9Tr44BnO7j/1OvjgGc7uP/U6+OAZzu4/9Tr44BnO7j/1OvjgGc7uP/U6+OAZzu4/9Tr44BnO7j/1OvjgGc7uP/U6+OAZzu4/9Tr44BnO7j/1OvjgGc7uP/U6+OAZzu4/9Tr44BnO7j/1OvjgGc7uP/U6+OAZzu4/9Tr44BnO7j/1OvjgGc7uP/U6+OAZzu4/9Tr44BnO7j/1OvjgGc7uP/U6+OAZzu4/9Tr44BnO7j/1OvjgGc7uP/U6+OAZzu4/9Tr44BnO7j/1OvjgGc7uP/U6+OAZzu4/9Tr44BnO7j/1OvjgGc7uP/U6+OAZzu4/9Tr44BnO7j/1OvjgGc7uP/U6+OAZzu4/9Tr44BnO7j/1OvjgGc7uP/U6+OAZzu4/9Tr44BnO7j/1OvjgGc7uP/U6+OAZzu4/9Tr44BnO7j/1OvjgGc7uPw==\"},\"shape\":[50],\"dtype\":\"float64\",\"order\":\"little\"}]]}}},\"view\":{\"type\":\"object\",\"name\":\"CDSView\",\"id\":\"p1064\",\"attributes\":{\"filter\":{\"type\":\"object\",\"name\":\"AllIndices\",\"id\":\"p1065\"}}},\"glyph\":{\"type\":\"object\",\"name\":\"Line\",\"id\":\"p1060\",\"attributes\":{\"x\":{\"type\":\"field\",\"field\":\"x\"},\"y\":{\"type\":\"field\",\"field\":\"y\"},\"line_color\":\"rgb(255, 103, 0)\",\"line_width\":2}},\"nonselection_glyph\":{\"type\":\"object\",\"name\":\"Line\",\"id\":\"p1061\",\"attributes\":{\"x\":{\"type\":\"field\",\"field\":\"x\"},\"y\":{\"type\":\"field\",\"field\":\"y\"},\"line_color\":\"rgb(255, 103, 0)\",\"line_alpha\":0.1,\"line_width\":2}},\"muted_glyph\":{\"type\":\"object\",\"name\":\"Line\",\"id\":\"p1062\",\"attributes\":{\"x\":{\"type\":\"field\",\"field\":\"x\"},\"y\":{\"type\":\"field\",\"field\":\"y\"},\"line_color\":\"rgb(255, 103, 0)\",\"line_alpha\":0.2,\"line_width\":2}}}},{\"type\":\"object\",\"name\":\"GlyphRenderer\",\"id\":\"p1073\",\"attributes\":{\"data_source\":{\"type\":\"object\",\"name\":\"ColumnDataSource\",\"id\":\"p1067\",\"attributes\":{\"selected\":{\"type\":\"object\",\"name\":\"Selection\",\"id\":\"p1068\",\"attributes\":{\"indices\":[],\"line_indices\":[]}},\"selection_policy\":{\"type\":\"object\",\"name\":\"UnionRenderers\",\"id\":\"p1069\"},\"data\":{\"type\":\"map\",\"entries\":[[\"x\",{\"type\":\"ndarray\",\"array\":{\"type\":\"bytes\",\"data\":\"uB6F61G4zj/4n8gLLTHRP4q2AHwiPtM/E+dhe7WJ1T/mlM3+XRvYPyzliAh4+9o//j/K214z3j9QFG+3xebgPwm4ej/b6uI/3+8/Wn8s5T+iMxiqCbPnP6PRygOyhuo/EbNhLKuw7T+xbMVjoJ3wP2fr9Wv8mPI/Ij01n9zQ9D+aSzfZeEz3P19F113lE/o/rx4xIy0w/T8E+Tyft1UAQFyAq+l/SAJAyGFveMZ2BEDa8hvqo+cGQIxgjIsJowlA5cg2MNuxDEBZDNYPBg8QQBkGM7tf+RFAF3qfMTYeFEBO/L9bg4QWQNuxwSYWNBlALmjT7Ks1HED2D3TlDJMfQCNNEP2VqyFAFHF6MyXHI0DlAJfNDyMmQBEyqO0CxyhAAwkXG5a7K0CwP643ZwovQBM3Q+UcXzFAbG47A41xM0BK0wH/QcM1QHD0LMLHWzhAoPoQpZBDO0AQofvqEIQ+QNBr2cLuE0FAKWQoQmcdQ0AOVMTOEmVFQHR/Xqlc8kdAkrUinJLNSkAAAAAAAABOQA==\"},\"shape\":[50],\"dtype\":\"float64\",\"order\":\"little\"}],[\"y\",{\"type\":\"ndarray\",\"array\":{\"type\":\"bytes\",\"data\":\"9mDgYuVo8D/RB6cC11XwP8rkJG9aQ/A/rbuEI5Ux8D9mQXGHoiDwP4iIgDmVEPA/dboyWngB8D8Z8SOSoebvPwBuYpQ8zO8/E6pFHbmz7z9NVYw6CJ3vP846wDYWiO8/1c7a7Mt07z84ya7hD2PvP6aztCnHUu8/mj2QH9ZD7z+ZTkbyIDbvP/ShtxCMKe8/pAWmd/wd7z9aKn7mVxPvP6PYAAGFCe8/DcECX2sA7z/vjOOP8/fuP6iHqxIH8O4/VGI5RpDo7j9LjolSeuHuP9Jxxg2x2u4/3ZhN3CDU7j+0IjaPts3uP37UfEBfx+4/WQmzLQjB7j9SsHiSnrruP7fYwoIPtO4/YIoyxket7j+CCzy0M6buP7H0BRO/nu4/K0Wx+NSW7j+da4eyX47uP8jsGrFIhe4/q1rdfXh77j84P9661nDuP9HVJTJKZe4/++B4+LhY7j9Jp/anCEvuP2y0aLsePO4/DUp7EuEr7j/Ud0yoNhruPwFz4ooIB+4/0kxnIUPy7T+qokHV19vtPw==\"},\"shape\":[50],\"dtype\":\"float64\",\"order\":\"little\"}]]}}},\"view\":{\"type\":\"object\",\"name\":\"CDSView\",\"id\":\"p1074\",\"attributes\":{\"filter\":{\"type\":\"object\",\"name\":\"AllIndices\",\"id\":\"p1075\"}}},\"glyph\":{\"type\":\"object\",\"name\":\"Line\",\"id\":\"p1070\",\"attributes\":{\"x\":{\"type\":\"field\",\"field\":\"x\"},\"y\":{\"type\":\"field\",\"field\":\"y\"},\"line_color\":\"rgb(222, 49, 99)\",\"line_width\":2}},\"nonselection_glyph\":{\"type\":\"object\",\"name\":\"Line\",\"id\":\"p1071\",\"attributes\":{\"x\":{\"type\":\"field\",\"field\":\"x\"},\"y\":{\"type\":\"field\",\"field\":\"y\"},\"line_color\":\"rgb(222, 49, 99)\",\"line_alpha\":0.1,\"line_width\":2}},\"muted_glyph\":{\"type\":\"object\",\"name\":\"Line\",\"id\":\"p1072\",\"attributes\":{\"x\":{\"type\":\"field\",\"field\":\"x\"},\"y\":{\"type\":\"field\",\"field\":\"y\"},\"line_color\":\"rgb(222, 49, 99)\",\"line_alpha\":0.2,\"line_width\":2}}}}],\"toolbar\":{\"type\":\"object\",\"name\":\"Toolbar\",\"id\":\"p1010\",\"attributes\":{\"tools\":[{\"type\":\"object\",\"name\":\"BoxZoomTool\",\"id\":\"p1025\",\"attributes\":{\"overlay\":{\"type\":\"object\",\"name\":\"BoxAnnotation\",\"id\":\"p1026\",\"attributes\":{\"syncable\":false,\"level\":\"overlay\",\"visible\":false,\"left\":{\"type\":\"number\",\"value\":\"nan\"},\"right\":{\"type\":\"number\",\"value\":\"nan\"},\"top\":{\"type\":\"number\",\"value\":\"nan\"},\"bottom\":{\"type\":\"number\",\"value\":\"nan\"},\"left_units\":\"canvas\",\"right_units\":\"canvas\",\"top_units\":\"canvas\",\"bottom_units\":\"canvas\",\"line_color\":\"black\",\"line_alpha\":1.0,\"line_width\":2,\"line_dash\":[4,4],\"fill_color\":\"lightgrey\",\"fill_alpha\":0.5}}}},{\"type\":\"object\",\"name\":\"PanTool\",\"id\":\"p1031\"},{\"type\":\"object\",\"name\":\"HoverTool\",\"id\":\"p1032\",\"attributes\":{\"renderers\":\"auto\"}},{\"type\":\"object\",\"name\":\"ResetTool\",\"id\":\"p1033\"},{\"type\":\"object\",\"name\":\"SaveTool\",\"id\":\"p1034\"}]}},\"left\":[{\"type\":\"object\",\"name\":\"LinearAxis\",\"id\":\"p1020\",\"attributes\":{\"ticker\":{\"type\":\"object\",\"name\":\"BasicTicker\",\"id\":\"p1021\",\"attributes\":{\"mantissas\":[1,2,5]}},\"formatter\":{\"type\":\"object\",\"name\":\"BasicTickFormatter\",\"id\":\"p1022\"},\"axis_label\":\"Rel. growth rate after mutation\",\"axis_label_text_font_size\":\"8pt\",\"major_label_policy\":{\"type\":\"object\",\"name\":\"AllLabels\",\"id\":\"p1023\"},\"major_label_text_font_size\":\"8pt\"}}],\"below\":[{\"type\":\"object\",\"name\":\"LogAxis\",\"id\":\"p1015\",\"attributes\":{\"ticker\":{\"type\":\"object\",\"name\":\"LogTicker\",\"id\":\"p1077\",\"attributes\":{\"desired_num_ticks\":5,\"mantissas\":[1,5]}},\"formatter\":{\"type\":\"object\",\"name\":\"LogTickFormatter\",\"id\":\"p1017\"},\"axis_label\":\"kcatyz (cat RBS:ribosome \\n dissoc. rate), 1/(nM*h)\",\"axis_label_text_font_size\":\"8pt\",\"major_label_policy\":{\"type\":\"object\",\"name\":\"AllLabels\",\"id\":\"p1018\"},\"major_label_text_font_size\":\"8pt\"}}],\"center\":[{\"type\":\"object\",\"name\":\"Grid\",\"id\":\"p1019\",\"attributes\":{\"axis\":{\"id\":\"p1015\"}}},{\"type\":\"object\",\"name\":\"Grid\",\"id\":\"p1024\",\"attributes\":{\"dimension\":1,\"axis\":{\"id\":\"p1020\"}}},{\"type\":\"object\",\"name\":\"BoxAnnotation\",\"id\":\"p1035\",\"attributes\":{\"left\":0.24,\"right\":0.6616818201723581,\"top\":{\"type\":\"object\",\"name\":\"Node\",\"id\":\"p1038\",\"attributes\":{\"target\":\"frame\",\"symbol\":\"top\"}},\"bottom\":{\"type\":\"object\",\"name\":\"Node\",\"id\":\"p1039\",\"attributes\":{\"target\":\"frame\",\"symbol\":\"bottom\"}},\"fill_color\":\"gray\",\"fill_alpha\":0.1}},{\"type\":\"object\",\"name\":\"BoxAnnotation\",\"id\":\"p1040\",\"attributes\":{\"left\":1.6298574128780599,\"right\":60.0,\"top\":{\"type\":\"object\",\"name\":\"Node\",\"id\":\"p1043\",\"attributes\":{\"target\":\"frame\",\"symbol\":\"top\"}},\"bottom\":{\"type\":\"object\",\"name\":\"Node\",\"id\":\"p1044\",\"attributes\":{\"target\":\"frame\",\"symbol\":\"bottom\"}},\"fill_color\":\"gray\",\"fill_alpha\":0.1}},{\"type\":\"object\",\"name\":\"Span\",\"id\":\"p1045\",\"attributes\":{\"location\":1,\"line_width\":2,\"line_dash\":[6]}},{\"type\":\"object\",\"name\":\"Legend\",\"id\":\"p1055\",\"attributes\":{\"visible\":false,\"location\":\"bottom_right\",\"background_fill_alpha\":1,\"label_text_font_size\":\"8pt\",\"items\":[{\"type\":\"object\",\"name\":\"LegendItem\",\"id\":\"p1056\",\"attributes\":{\"label\":{\"type\":\"value\",\"value\":\"Toggles only\"},\"renderers\":[{\"id\":\"p1052\"}]}},{\"type\":\"object\",\"name\":\"LegendItem\",\"id\":\"p1066\",\"attributes\":{\"label\":{\"type\":\"value\",\"value\":\"Punisher\"},\"renderers\":[{\"id\":\"p1063\"}]}},{\"type\":\"object\",\"name\":\"LegendItem\",\"id\":\"p1076\",\"attributes\":{\"label\":{\"type\":\"value\",\"value\":\"Co-expression\"},\"renderers\":[{\"id\":\"p1073\"}]}}]}}],\"frame_width\":160,\"frame_height\":160,\"output_backend\":\"svg\"}}]}};\n  const render_items = [{\"docid\":\"7d4189fa-c682-4d8d-b6fc-9a55ff204d99\",\"roots\":{\"p1001\":\"ef834b9a-cb0b-4544-819b-05708511e601\"},\"root_ids\":[\"p1001\"]}];\n  void root.Bokeh.embed.embed_items_notebook(docs_json, render_items);\n  }\n  if (root.Bokeh !== undefined) {\n    embed_document(root);\n  } else {\n    let attempts = 0;\n    const timer = setInterval(function(root) {\n      if (root.Bokeh !== undefined) {\n        clearInterval(timer);\n        embed_document(root);\n      } else {\n        attempts++;\n        if (attempts > 100) {\n          clearInterval(timer);\n          console.log(\"Bokeh: ERROR: Unable to run BokehJS code because BokehJS library is missing\");\n        }\n      }\n    }, 10, root)\n  }\n})(window);",
      "application/vnd.bokehjs_exec.v0+json": ""
     },
     "metadata": {
      "application/vnd.bokehjs_exec.v0+json": {
       "id": "p1001"
      }
     },
     "output_type": "display_data"
    }
   ],
   "execution_count": 14
  },
  {
   "metadata": {
    "ExecuteTime": {
     "end_time": "2024-09-25T15:03:29.140916Z",
     "start_time": "2024-09-25T15:03:29.107923Z"
    }
   },
   "cell_type": "code",
   "source": [
    "#\n",
    "# two halves of a toggle mutated\n",
    "twohalfmut_fig= bkplot.figure(\n",
    "    frame_width=160,\n",
    "    frame_height=160,\n",
    "    title='tog11 and tog21 mutated',\n",
    "    x_axis_label=\"kcatyz (cat RBS:ribosome \\n dissoc. rate), 1/(nM*h)\",\n",
    "    y_axis_label=\"Rel. growth rate after mutation\",\n",
    "    x_range=(k_plus_cats[0], k_plus_cats[-1]),\n",
    "    y_range=(0.8,1.1),\n",
    "    x_axis_type=\"log\",\n",
    "    tools=\"box_zoom,pan,hover,reset,save\"\n",
    ")\n",
    "twohalfmut_fig.output_backend = \"svg\"\n",
    "\n",
    "# shade regions where essential gene co-expression fails\n",
    "for fail_region in fail_regions:\n",
    "    twohalfmut_fig.add_layout(bkmodels.BoxAnnotation(left=k_plus_cats[fail_region[0]], right=k_plus_cats[fail_region[1]], fill_color='gray', fill_alpha=0.1))\n",
    "\n",
    "# reference at 1\n",
    "twohalfmut_fig.add_layout(bkmodels.Span(location=1, dimension='width', line_color='black', line_width=2, line_dash='dashed'))\n",
    "\n",
    "# Toggle switches only\n",
    "twohalfmut_fig.line(k_plus_cats,\n",
    "                l_only_twohalfmut / l_only_nomut * np.ones(len(k_plus_cats)),\n",
    "                line_color=bkRGB(72, 209, 204), line_width=2, legend_label='Toggles only')\n",
    "\n",
    "# Punisher\n",
    "twohalfmut_fig.line(k_plus_cats,\n",
    "                l_pun_twohalfmut / l_pun_nomut * np.ones(len(k_plus_cats)),\n",
    "                line_color=bkRGB(255, 103, 0), line_width=2, legend_label='Punisher')\n",
    "\n",
    "# Essential gene co-expression\n",
    "twohalfmut_fig.line(k_plus_cats,\n",
    "                np.divide(ls_add_twohalfmut,ls_add_nomut),\n",
    "                line_color=bkRGB(222, 49, 99), line_width=2, legend_label='Co-expression')\n",
    "\n",
    "# font and axis settings\n",
    "twohalfmut_fig.xaxis.ticker = bkmodels.LogTicker(desired_num_ticks=5)\n",
    "twohalfmut_fig.xaxis.axis_label_text_font_size = font_size\n",
    "twohalfmut_fig.xaxis.major_label_text_font_size = font_size\n",
    "twohalfmut_fig.yaxis.axis_label_text_font_size = font_size\n",
    "twohalfmut_fig.yaxis.major_label_text_font_size = font_size\n",
    "twohalfmut_fig.legend.label_text_font_size = font_size\n",
    "twohalfmut_fig.title.text_font_size = font_size\n",
    "twohalfmut_fig.legend.visible=False\n",
    "twohalfmut_fig.legend.background_fill_alpha = 1\n",
    "twohalfmut_fig.legend.location = \"bottom_right\"\n",
    "\n",
    "bkplot.show(twohalfmut_fig)"
   ],
   "id": "9abdf68d39f43b3d",
   "outputs": [
    {
     "data": {
      "text/html": [
       "\n",
       "  <div id=\"d52023a1-686e-408b-b16b-e6345f6f4922\" data-root-id=\"p1084\" style=\"display: contents;\"></div>\n"
      ]
     },
     "metadata": {},
     "output_type": "display_data"
    },
    {
     "data": {
      "application/javascript": "(function(root) {\n  function embed_document(root) {\n  const docs_json = {\"a815bc21-f7de-4ea8-ad65-17d8d2b73a93\":{\"version\":\"3.4.0\",\"title\":\"Bokeh Application\",\"roots\":[{\"type\":\"object\",\"name\":\"Figure\",\"id\":\"p1084\",\"attributes\":{\"x_range\":{\"type\":\"object\",\"name\":\"Range1d\",\"id\":\"p1094\",\"attributes\":{\"start\":0.24,\"end\":60.0}},\"y_range\":{\"type\":\"object\",\"name\":\"Range1d\",\"id\":\"p1095\",\"attributes\":{\"start\":0.8,\"end\":1.1}},\"x_scale\":{\"type\":\"object\",\"name\":\"LogScale\",\"id\":\"p1096\"},\"y_scale\":{\"type\":\"object\",\"name\":\"LinearScale\",\"id\":\"p1097\"},\"title\":{\"type\":\"object\",\"name\":\"Title\",\"id\":\"p1087\",\"attributes\":{\"text\":\"tog11 and tog21 mutated\",\"text_font_size\":\"8pt\"}},\"renderers\":[{\"type\":\"object\",\"name\":\"GlyphRenderer\",\"id\":\"p1135\",\"attributes\":{\"data_source\":{\"type\":\"object\",\"name\":\"ColumnDataSource\",\"id\":\"p1129\",\"attributes\":{\"selected\":{\"type\":\"object\",\"name\":\"Selection\",\"id\":\"p1130\",\"attributes\":{\"indices\":[],\"line_indices\":[]}},\"selection_policy\":{\"type\":\"object\",\"name\":\"UnionRenderers\",\"id\":\"p1131\"},\"data\":{\"type\":\"map\",\"entries\":[[\"x\",{\"type\":\"ndarray\",\"array\":{\"type\":\"bytes\",\"data\":\"uB6F61G4zj/4n8gLLTHRP4q2AHwiPtM/E+dhe7WJ1T/mlM3+XRvYPyzliAh4+9o//j/K214z3j9QFG+3xebgPwm4ej/b6uI/3+8/Wn8s5T+iMxiqCbPnP6PRygOyhuo/EbNhLKuw7T+xbMVjoJ3wP2fr9Wv8mPI/Ij01n9zQ9D+aSzfZeEz3P19F113lE/o/rx4xIy0w/T8E+Tyft1UAQFyAq+l/SAJAyGFveMZ2BEDa8hvqo+cGQIxgjIsJowlA5cg2MNuxDEBZDNYPBg8QQBkGM7tf+RFAF3qfMTYeFEBO/L9bg4QWQNuxwSYWNBlALmjT7Ks1HED2D3TlDJMfQCNNEP2VqyFAFHF6MyXHI0DlAJfNDyMmQBEyqO0CxyhAAwkXG5a7K0CwP643ZwovQBM3Q+UcXzFAbG47A41xM0BK0wH/QcM1QHD0LMLHWzhAoPoQpZBDO0AQofvqEIQ+QNBr2cLuE0FAKWQoQmcdQ0AOVMTOEmVFQHR/Xqlc8kdAkrUinJLNSkAAAAAAAABOQA==\"},\"shape\":[50],\"dtype\":\"float64\",\"order\":\"little\"}],[\"y\",{\"type\":\"ndarray\",\"array\":{\"type\":\"bytes\",\"data\":\"mLX7c7a37T+YtftztrftP5i1+3O2t+0/mLX7c7a37T+YtftztrftP5i1+3O2t+0/mLX7c7a37T+YtftztrftP5i1+3O2t+0/mLX7c7a37T+YtftztrftP5i1+3O2t+0/mLX7c7a37T+YtftztrftP5i1+3O2t+0/mLX7c7a37T+YtftztrftP5i1+3O2t+0/mLX7c7a37T+YtftztrftP5i1+3O2t+0/mLX7c7a37T+YtftztrftP5i1+3O2t+0/mLX7c7a37T+YtftztrftP5i1+3O2t+0/mLX7c7a37T+YtftztrftP5i1+3O2t+0/mLX7c7a37T+YtftztrftP5i1+3O2t+0/mLX7c7a37T+YtftztrftP5i1+3O2t+0/mLX7c7a37T+YtftztrftP5i1+3O2t+0/mLX7c7a37T+YtftztrftP5i1+3O2t+0/mLX7c7a37T+YtftztrftP5i1+3O2t+0/mLX7c7a37T+YtftztrftP5i1+3O2t+0/mLX7c7a37T+YtftztrftPw==\"},\"shape\":[50],\"dtype\":\"float64\",\"order\":\"little\"}]]}}},\"view\":{\"type\":\"object\",\"name\":\"CDSView\",\"id\":\"p1136\",\"attributes\":{\"filter\":{\"type\":\"object\",\"name\":\"AllIndices\",\"id\":\"p1137\"}}},\"glyph\":{\"type\":\"object\",\"name\":\"Line\",\"id\":\"p1132\",\"attributes\":{\"x\":{\"type\":\"field\",\"field\":\"x\"},\"y\":{\"type\":\"field\",\"field\":\"y\"},\"line_color\":\"rgb(72, 209, 204)\",\"line_width\":2}},\"nonselection_glyph\":{\"type\":\"object\",\"name\":\"Line\",\"id\":\"p1133\",\"attributes\":{\"x\":{\"type\":\"field\",\"field\":\"x\"},\"y\":{\"type\":\"field\",\"field\":\"y\"},\"line_color\":\"rgb(72, 209, 204)\",\"line_alpha\":0.1,\"line_width\":2}},\"muted_glyph\":{\"type\":\"object\",\"name\":\"Line\",\"id\":\"p1134\",\"attributes\":{\"x\":{\"type\":\"field\",\"field\":\"x\"},\"y\":{\"type\":\"field\",\"field\":\"y\"},\"line_color\":\"rgb(72, 209, 204)\",\"line_alpha\":0.2,\"line_width\":2}}}},{\"type\":\"object\",\"name\":\"GlyphRenderer\",\"id\":\"p1146\",\"attributes\":{\"data_source\":{\"type\":\"object\",\"name\":\"ColumnDataSource\",\"id\":\"p1140\",\"attributes\":{\"selected\":{\"type\":\"object\",\"name\":\"Selection\",\"id\":\"p1141\",\"attributes\":{\"indices\":[],\"line_indices\":[]}},\"selection_policy\":{\"type\":\"object\",\"name\":\"UnionRenderers\",\"id\":\"p1142\"},\"data\":{\"type\":\"map\",\"entries\":[[\"x\",{\"type\":\"ndarray\",\"array\":{\"type\":\"bytes\",\"data\":\"uB6F61G4zj/4n8gLLTHRP4q2AHwiPtM/E+dhe7WJ1T/mlM3+XRvYPyzliAh4+9o//j/K214z3j9QFG+3xebgPwm4ej/b6uI/3+8/Wn8s5T+iMxiqCbPnP6PRygOyhuo/EbNhLKuw7T+xbMVjoJ3wP2fr9Wv8mPI/Ij01n9zQ9D+aSzfZeEz3P19F113lE/o/rx4xIy0w/T8E+Tyft1UAQFyAq+l/SAJAyGFveMZ2BEDa8hvqo+cGQIxgjIsJowlA5cg2MNuxDEBZDNYPBg8QQBkGM7tf+RFAF3qfMTYeFEBO/L9bg4QWQNuxwSYWNBlALmjT7Ks1HED2D3TlDJMfQCNNEP2VqyFAFHF6MyXHI0DlAJfNDyMmQBEyqO0CxyhAAwkXG5a7K0CwP643ZwovQBM3Q+UcXzFAbG47A41xM0BK0wH/QcM1QHD0LMLHWzhAoPoQpZBDO0AQofvqEIQ+QNBr2cLuE0FAKWQoQmcdQ0AOVMTOEmVFQHR/Xqlc8kdAkrUinJLNSkAAAAAAAABOQA==\"},\"shape\":[50],\"dtype\":\"float64\",\"order\":\"little\"}],[\"y\",{\"type\":\"ndarray\",\"array\":{\"type\":\"bytes\",\"data\":\"GKptHtzD7T8Yqm0e3MPtPxiqbR7cw+0/GKptHtzD7T8Yqm0e3MPtPxiqbR7cw+0/GKptHtzD7T8Yqm0e3MPtPxiqbR7cw+0/GKptHtzD7T8Yqm0e3MPtPxiqbR7cw+0/GKptHtzD7T8Yqm0e3MPtPxiqbR7cw+0/GKptHtzD7T8Yqm0e3MPtPxiqbR7cw+0/GKptHtzD7T8Yqm0e3MPtPxiqbR7cw+0/GKptHtzD7T8Yqm0e3MPtPxiqbR7cw+0/GKptHtzD7T8Yqm0e3MPtPxiqbR7cw+0/GKptHtzD7T8Yqm0e3MPtPxiqbR7cw+0/GKptHtzD7T8Yqm0e3MPtPxiqbR7cw+0/GKptHtzD7T8Yqm0e3MPtPxiqbR7cw+0/GKptHtzD7T8Yqm0e3MPtPxiqbR7cw+0/GKptHtzD7T8Yqm0e3MPtPxiqbR7cw+0/GKptHtzD7T8Yqm0e3MPtPxiqbR7cw+0/GKptHtzD7T8Yqm0e3MPtPxiqbR7cw+0/GKptHtzD7T8Yqm0e3MPtPw==\"},\"shape\":[50],\"dtype\":\"float64\",\"order\":\"little\"}]]}}},\"view\":{\"type\":\"object\",\"name\":\"CDSView\",\"id\":\"p1147\",\"attributes\":{\"filter\":{\"type\":\"object\",\"name\":\"AllIndices\",\"id\":\"p1148\"}}},\"glyph\":{\"type\":\"object\",\"name\":\"Line\",\"id\":\"p1143\",\"attributes\":{\"x\":{\"type\":\"field\",\"field\":\"x\"},\"y\":{\"type\":\"field\",\"field\":\"y\"},\"line_color\":\"rgb(255, 103, 0)\",\"line_width\":2}},\"nonselection_glyph\":{\"type\":\"object\",\"name\":\"Line\",\"id\":\"p1144\",\"attributes\":{\"x\":{\"type\":\"field\",\"field\":\"x\"},\"y\":{\"type\":\"field\",\"field\":\"y\"},\"line_color\":\"rgb(255, 103, 0)\",\"line_alpha\":0.1,\"line_width\":2}},\"muted_glyph\":{\"type\":\"object\",\"name\":\"Line\",\"id\":\"p1145\",\"attributes\":{\"x\":{\"type\":\"field\",\"field\":\"x\"},\"y\":{\"type\":\"field\",\"field\":\"y\"},\"line_color\":\"rgb(255, 103, 0)\",\"line_alpha\":0.2,\"line_width\":2}}}},{\"type\":\"object\",\"name\":\"GlyphRenderer\",\"id\":\"p1156\",\"attributes\":{\"data_source\":{\"type\":\"object\",\"name\":\"ColumnDataSource\",\"id\":\"p1150\",\"attributes\":{\"selected\":{\"type\":\"object\",\"name\":\"Selection\",\"id\":\"p1151\",\"attributes\":{\"indices\":[],\"line_indices\":[]}},\"selection_policy\":{\"type\":\"object\",\"name\":\"UnionRenderers\",\"id\":\"p1152\"},\"data\":{\"type\":\"map\",\"entries\":[[\"x\",{\"type\":\"ndarray\",\"array\":{\"type\":\"bytes\",\"data\":\"uB6F61G4zj/4n8gLLTHRP4q2AHwiPtM/E+dhe7WJ1T/mlM3+XRvYPyzliAh4+9o//j/K214z3j9QFG+3xebgPwm4ej/b6uI/3+8/Wn8s5T+iMxiqCbPnP6PRygOyhuo/EbNhLKuw7T+xbMVjoJ3wP2fr9Wv8mPI/Ij01n9zQ9D+aSzfZeEz3P19F113lE/o/rx4xIy0w/T8E+Tyft1UAQFyAq+l/SAJAyGFveMZ2BEDa8hvqo+cGQIxgjIsJowlA5cg2MNuxDEBZDNYPBg8QQBkGM7tf+RFAF3qfMTYeFEBO/L9bg4QWQNuxwSYWNBlALmjT7Ks1HED2D3TlDJMfQCNNEP2VqyFAFHF6MyXHI0DlAJfNDyMmQBEyqO0CxyhAAwkXG5a7K0CwP643ZwovQBM3Q+UcXzFAbG47A41xM0BK0wH/QcM1QHD0LMLHWzhAoPoQpZBDO0AQofvqEIQ+QNBr2cLuE0FAKWQoQmcdQ0AOVMTOEmVFQHR/Xqlc8kdAkrUinJLNSkAAAAAAAABOQA==\"},\"shape\":[50],\"dtype\":\"float64\",\"order\":\"little\"}],[\"y\",{\"type\":\"ndarray\",\"array\":{\"type\":\"bytes\",\"data\":\"JmpqiOxo8D9vjB+G7UfwPzeWq6DBKPA/cv/TrnwL8D93lypHS+DvP1ANo6Fyre8/w7acfFl+7z99a3893lLvP76F6trWKu8/qRSVfxMG7z9drGipYOTuP1QtBtiIxe4/gYw53FWp7j8B06PXkY/uP3YKPPoHeO4//aM5CYVi7j/K+Uy5107uPxDQAOXQPO4/7KZJpkMs7j+l0OZYBR3uP4fmZovtDu4/wMb24dUB7j8H5SrvmfXtP+YPogQX6u0/3nNc/ivf7T/HgDIKudTtP/Dx9Wyfyu0/66HZRcHA7T/nVjBSAbftP+HpJrFCre0/U4P0qGij7T+sBkZuVpntPx5klO7uju0/0UPknhSE7T9fYM1PqXjtP5Og+QiObO0/vQtn7aJf7T/+LWMsx1HtP4KIBgHZQu0/CJtyxbUy7T+OWYsdOiHtPx8SGkBCDu0/C3iBZar57D87OJ5iT+PsP4lr23sPy+w/P1rHecuw7D8MUi0MaJTsP+3wEonPdew/ZnuaFfRU7D/yjVJI0jHsPw==\"},\"shape\":[50],\"dtype\":\"float64\",\"order\":\"little\"}]]}}},\"view\":{\"type\":\"object\",\"name\":\"CDSView\",\"id\":\"p1157\",\"attributes\":{\"filter\":{\"type\":\"object\",\"name\":\"AllIndices\",\"id\":\"p1158\"}}},\"glyph\":{\"type\":\"object\",\"name\":\"Line\",\"id\":\"p1153\",\"attributes\":{\"x\":{\"type\":\"field\",\"field\":\"x\"},\"y\":{\"type\":\"field\",\"field\":\"y\"},\"line_color\":\"rgb(222, 49, 99)\",\"line_width\":2}},\"nonselection_glyph\":{\"type\":\"object\",\"name\":\"Line\",\"id\":\"p1154\",\"attributes\":{\"x\":{\"type\":\"field\",\"field\":\"x\"},\"y\":{\"type\":\"field\",\"field\":\"y\"},\"line_color\":\"rgb(222, 49, 99)\",\"line_alpha\":0.1,\"line_width\":2}},\"muted_glyph\":{\"type\":\"object\",\"name\":\"Line\",\"id\":\"p1155\",\"attributes\":{\"x\":{\"type\":\"field\",\"field\":\"x\"},\"y\":{\"type\":\"field\",\"field\":\"y\"},\"line_color\":\"rgb(222, 49, 99)\",\"line_alpha\":0.2,\"line_width\":2}}}}],\"toolbar\":{\"type\":\"object\",\"name\":\"Toolbar\",\"id\":\"p1093\",\"attributes\":{\"tools\":[{\"type\":\"object\",\"name\":\"BoxZoomTool\",\"id\":\"p1108\",\"attributes\":{\"overlay\":{\"type\":\"object\",\"name\":\"BoxAnnotation\",\"id\":\"p1109\",\"attributes\":{\"syncable\":false,\"level\":\"overlay\",\"visible\":false,\"left\":{\"type\":\"number\",\"value\":\"nan\"},\"right\":{\"type\":\"number\",\"value\":\"nan\"},\"top\":{\"type\":\"number\",\"value\":\"nan\"},\"bottom\":{\"type\":\"number\",\"value\":\"nan\"},\"left_units\":\"canvas\",\"right_units\":\"canvas\",\"top_units\":\"canvas\",\"bottom_units\":\"canvas\",\"line_color\":\"black\",\"line_alpha\":1.0,\"line_width\":2,\"line_dash\":[4,4],\"fill_color\":\"lightgrey\",\"fill_alpha\":0.5}}}},{\"type\":\"object\",\"name\":\"PanTool\",\"id\":\"p1114\"},{\"type\":\"object\",\"name\":\"HoverTool\",\"id\":\"p1115\",\"attributes\":{\"renderers\":\"auto\"}},{\"type\":\"object\",\"name\":\"ResetTool\",\"id\":\"p1116\"},{\"type\":\"object\",\"name\":\"SaveTool\",\"id\":\"p1117\"}]}},\"left\":[{\"type\":\"object\",\"name\":\"LinearAxis\",\"id\":\"p1103\",\"attributes\":{\"ticker\":{\"type\":\"object\",\"name\":\"BasicTicker\",\"id\":\"p1104\",\"attributes\":{\"mantissas\":[1,2,5]}},\"formatter\":{\"type\":\"object\",\"name\":\"BasicTickFormatter\",\"id\":\"p1105\"},\"axis_label\":\"Rel. growth rate after mutation\",\"axis_label_text_font_size\":\"8pt\",\"major_label_policy\":{\"type\":\"object\",\"name\":\"AllLabels\",\"id\":\"p1106\"},\"major_label_text_font_size\":\"8pt\"}}],\"below\":[{\"type\":\"object\",\"name\":\"LogAxis\",\"id\":\"p1098\",\"attributes\":{\"ticker\":{\"type\":\"object\",\"name\":\"LogTicker\",\"id\":\"p1160\",\"attributes\":{\"desired_num_ticks\":5,\"mantissas\":[1,5]}},\"formatter\":{\"type\":\"object\",\"name\":\"LogTickFormatter\",\"id\":\"p1100\"},\"axis_label\":\"kcatyz (cat RBS:ribosome \\n dissoc. rate), 1/(nM*h)\",\"axis_label_text_font_size\":\"8pt\",\"major_label_policy\":{\"type\":\"object\",\"name\":\"AllLabels\",\"id\":\"p1101\"},\"major_label_text_font_size\":\"8pt\"}}],\"center\":[{\"type\":\"object\",\"name\":\"Grid\",\"id\":\"p1102\",\"attributes\":{\"axis\":{\"id\":\"p1098\"}}},{\"type\":\"object\",\"name\":\"Grid\",\"id\":\"p1107\",\"attributes\":{\"dimension\":1,\"axis\":{\"id\":\"p1103\"}}},{\"type\":\"object\",\"name\":\"BoxAnnotation\",\"id\":\"p1118\",\"attributes\":{\"left\":0.24,\"right\":0.6616818201723581,\"top\":{\"type\":\"object\",\"name\":\"Node\",\"id\":\"p1121\",\"attributes\":{\"target\":\"frame\",\"symbol\":\"top\"}},\"bottom\":{\"type\":\"object\",\"name\":\"Node\",\"id\":\"p1122\",\"attributes\":{\"target\":\"frame\",\"symbol\":\"bottom\"}},\"fill_color\":\"gray\",\"fill_alpha\":0.1}},{\"type\":\"object\",\"name\":\"BoxAnnotation\",\"id\":\"p1123\",\"attributes\":{\"left\":1.6298574128780599,\"right\":60.0,\"top\":{\"type\":\"object\",\"name\":\"Node\",\"id\":\"p1126\",\"attributes\":{\"target\":\"frame\",\"symbol\":\"top\"}},\"bottom\":{\"type\":\"object\",\"name\":\"Node\",\"id\":\"p1127\",\"attributes\":{\"target\":\"frame\",\"symbol\":\"bottom\"}},\"fill_color\":\"gray\",\"fill_alpha\":0.1}},{\"type\":\"object\",\"name\":\"Span\",\"id\":\"p1128\",\"attributes\":{\"location\":1,\"line_width\":2,\"line_dash\":[6]}},{\"type\":\"object\",\"name\":\"Legend\",\"id\":\"p1138\",\"attributes\":{\"visible\":false,\"location\":\"bottom_right\",\"background_fill_alpha\":1,\"label_text_font_size\":\"8pt\",\"items\":[{\"type\":\"object\",\"name\":\"LegendItem\",\"id\":\"p1139\",\"attributes\":{\"label\":{\"type\":\"value\",\"value\":\"Toggles only\"},\"renderers\":[{\"id\":\"p1135\"}]}},{\"type\":\"object\",\"name\":\"LegendItem\",\"id\":\"p1149\",\"attributes\":{\"label\":{\"type\":\"value\",\"value\":\"Punisher\"},\"renderers\":[{\"id\":\"p1146\"}]}},{\"type\":\"object\",\"name\":\"LegendItem\",\"id\":\"p1159\",\"attributes\":{\"label\":{\"type\":\"value\",\"value\":\"Co-expression\"},\"renderers\":[{\"id\":\"p1156\"}]}}]}}],\"frame_width\":160,\"frame_height\":160,\"output_backend\":\"svg\"}}]}};\n  const render_items = [{\"docid\":\"a815bc21-f7de-4ea8-ad65-17d8d2b73a93\",\"roots\":{\"p1084\":\"d52023a1-686e-408b-b16b-e6345f6f4922\"},\"root_ids\":[\"p1084\"]}];\n  void root.Bokeh.embed.embed_items_notebook(docs_json, render_items);\n  }\n  if (root.Bokeh !== undefined) {\n    embed_document(root);\n  } else {\n    let attempts = 0;\n    const timer = setInterval(function(root) {\n      if (root.Bokeh !== undefined) {\n        clearInterval(timer);\n        embed_document(root);\n      } else {\n        attempts++;\n        if (attempts > 100) {\n          clearInterval(timer);\n          console.log(\"Bokeh: ERROR: Unable to run BokehJS code because BokehJS library is missing\");\n        }\n      }\n    }, 10, root)\n  }\n})(window);",
      "application/vnd.bokehjs_exec.v0+json": ""
     },
     "metadata": {
      "application/vnd.bokehjs_exec.v0+json": {
       "id": "p1084"
      }
     },
     "output_type": "display_data"
    }
   ],
   "execution_count": 15
  },
  {
   "metadata": {
    "ExecuteTime": {
     "end_time": "2024-09-25T15:03:29.178336Z",
     "start_time": "2024-09-25T15:03:29.141809Z"
    }
   },
   "cell_type": "code",
   "source": [
    "#\n",
    "# one toggle mutated\n",
    "onemut_fig= bkplot.figure(\n",
    "    frame_width=160,\n",
    "    frame_height=160,\n",
    "    title='tog11 and tog12 mutated',\n",
    "    x_axis_label=\"kcatyz (cat RBS:ribosome \\n dissoc. rate), 1/(nM*h)\",\n",
    "    y_axis_label=\"Rel. growth rate after mutation\",\n",
    "    x_range=(k_plus_cats[0], k_plus_cats[-1]),\n",
    "    y_range=(0.5,1.25),\n",
    "    x_axis_type=\"log\",\n",
    "    tools=\"box_zoom,pan,hover,reset,save\"\n",
    ")\n",
    "onemut_fig.output_backend = \"svg\"\n",
    "\n",
    "# shade regions where essential gene co-expression fails\n",
    "for fail_region in fail_regions:\n",
    "    onemut_fig.add_layout(bkmodels.BoxAnnotation(left=k_plus_cats[fail_region[0]], right=k_plus_cats[fail_region[1]], fill_color='gray', fill_alpha=0.1))\n",
    "\n",
    "# reference at 1\n",
    "onemut_fig.add_layout(bkmodels.Span(location=1, dimension='width', line_color='black', line_width=2, line_dash='dashed'))\n",
    "\n",
    "# Toggle switches only\n",
    "onemut_fig.line(k_plus_cats,\n",
    "                l_only_onemut / l_only_nomut * np.ones(len(k_plus_cats)),\n",
    "                line_color=bkRGB(72, 209, 204), line_width=2, legend_label='Toggles only')\n",
    "\n",
    "# Punisher\n",
    "onemut_fig.line(k_plus_cats,\n",
    "                l_pun_onemut / l_pun_nomut * np.ones(len(k_plus_cats)),\n",
    "                line_color=bkRGB(255, 103, 0), line_width=2, legend_label='Punisher')\n",
    "\n",
    "# Essential gene co-expression\n",
    "onemut_fig.line(k_plus_cats,\n",
    "                np.divide(ls_add_onemut,ls_add_nomut),\n",
    "                line_color=bkRGB(222, 49, 99), line_width=2, legend_label='Co-expression')\n",
    "\n",
    "# font and axis settings\n",
    "onemut_fig.xaxis.ticker = bkmodels.LogTicker(desired_num_ticks=5)\n",
    "onemut_fig.xaxis.axis_label_text_font_size = font_size\n",
    "onemut_fig.xaxis.major_label_text_font_size = font_size\n",
    "onemut_fig.yaxis.axis_label_text_font_size = font_size\n",
    "onemut_fig.yaxis.major_label_text_font_size = font_size\n",
    "onemut_fig.legend.label_text_font_size = font_size\n",
    "onemut_fig.title.text_font_size = font_size\n",
    "onemut_fig.legend.visible=False\n",
    "onemut_fig.legend.background_fill_alpha = 1\n",
    "onemut_fig.legend.location = \"right\"\n",
    "\n",
    "bkplot.show(onemut_fig)"
   ],
   "id": "60d0e2f8f33dd8be",
   "outputs": [
    {
     "data": {
      "text/html": [
       "\n",
       "  <div id=\"ee43cf74-bc64-411c-8731-a4a945cd9ba4\" data-root-id=\"p1167\" style=\"display: contents;\"></div>\n"
      ]
     },
     "metadata": {},
     "output_type": "display_data"
    },
    {
     "data": {
      "application/javascript": "(function(root) {\n  function embed_document(root) {\n  const docs_json = {\"bda51e1c-fca6-4543-a89e-7fba9ee95396\":{\"version\":\"3.4.0\",\"title\":\"Bokeh Application\",\"roots\":[{\"type\":\"object\",\"name\":\"Figure\",\"id\":\"p1167\",\"attributes\":{\"x_range\":{\"type\":\"object\",\"name\":\"Range1d\",\"id\":\"p1177\",\"attributes\":{\"start\":0.24,\"end\":60.0}},\"y_range\":{\"type\":\"object\",\"name\":\"Range1d\",\"id\":\"p1178\",\"attributes\":{\"start\":0.5,\"end\":1.25}},\"x_scale\":{\"type\":\"object\",\"name\":\"LogScale\",\"id\":\"p1179\"},\"y_scale\":{\"type\":\"object\",\"name\":\"LinearScale\",\"id\":\"p1180\"},\"title\":{\"type\":\"object\",\"name\":\"Title\",\"id\":\"p1170\",\"attributes\":{\"text\":\"tog11 and tog12 mutated\",\"text_font_size\":\"8pt\"}},\"renderers\":[{\"type\":\"object\",\"name\":\"GlyphRenderer\",\"id\":\"p1218\",\"attributes\":{\"data_source\":{\"type\":\"object\",\"name\":\"ColumnDataSource\",\"id\":\"p1212\",\"attributes\":{\"selected\":{\"type\":\"object\",\"name\":\"Selection\",\"id\":\"p1213\",\"attributes\":{\"indices\":[],\"line_indices\":[]}},\"selection_policy\":{\"type\":\"object\",\"name\":\"UnionRenderers\",\"id\":\"p1214\"},\"data\":{\"type\":\"map\",\"entries\":[[\"x\",{\"type\":\"ndarray\",\"array\":{\"type\":\"bytes\",\"data\":\"uB6F61G4zj/4n8gLLTHRP4q2AHwiPtM/E+dhe7WJ1T/mlM3+XRvYPyzliAh4+9o//j/K214z3j9QFG+3xebgPwm4ej/b6uI/3+8/Wn8s5T+iMxiqCbPnP6PRygOyhuo/EbNhLKuw7T+xbMVjoJ3wP2fr9Wv8mPI/Ij01n9zQ9D+aSzfZeEz3P19F113lE/o/rx4xIy0w/T8E+Tyft1UAQFyAq+l/SAJAyGFveMZ2BEDa8hvqo+cGQIxgjIsJowlA5cg2MNuxDEBZDNYPBg8QQBkGM7tf+RFAF3qfMTYeFEBO/L9bg4QWQNuxwSYWNBlALmjT7Ks1HED2D3TlDJMfQCNNEP2VqyFAFHF6MyXHI0DlAJfNDyMmQBEyqO0CxyhAAwkXG5a7K0CwP643ZwovQBM3Q+UcXzFAbG47A41xM0BK0wH/QcM1QHD0LMLHWzhAoPoQpZBDO0AQofvqEIQ+QNBr2cLuE0FAKWQoQmcdQ0AOVMTOEmVFQHR/Xqlc8kdAkrUinJLNSkAAAAAAAABOQA==\"},\"shape\":[50],\"dtype\":\"float64\",\"order\":\"little\"}],[\"y\",{\"type\":\"ndarray\",\"array\":{\"type\":\"bytes\",\"data\":\"V24GyliC8D9XbgbKWILwP1duBspYgvA/V24GyliC8D9XbgbKWILwP1duBspYgvA/V24GyliC8D9XbgbKWILwP1duBspYgvA/V24GyliC8D9XbgbKWILwP1duBspYgvA/V24GyliC8D9XbgbKWILwP1duBspYgvA/V24GyliC8D9XbgbKWILwP1duBspYgvA/V24GyliC8D9XbgbKWILwP1duBspYgvA/V24GyliC8D9XbgbKWILwP1duBspYgvA/V24GyliC8D9XbgbKWILwP1duBspYgvA/V24GyliC8D9XbgbKWILwP1duBspYgvA/V24GyliC8D9XbgbKWILwP1duBspYgvA/V24GyliC8D9XbgbKWILwP1duBspYgvA/V24GyliC8D9XbgbKWILwP1duBspYgvA/V24GyliC8D9XbgbKWILwP1duBspYgvA/V24GyliC8D9XbgbKWILwP1duBspYgvA/V24GyliC8D9XbgbKWILwP1duBspYgvA/V24GyliC8D9XbgbKWILwPw==\"},\"shape\":[50],\"dtype\":\"float64\",\"order\":\"little\"}]]}}},\"view\":{\"type\":\"object\",\"name\":\"CDSView\",\"id\":\"p1219\",\"attributes\":{\"filter\":{\"type\":\"object\",\"name\":\"AllIndices\",\"id\":\"p1220\"}}},\"glyph\":{\"type\":\"object\",\"name\":\"Line\",\"id\":\"p1215\",\"attributes\":{\"x\":{\"type\":\"field\",\"field\":\"x\"},\"y\":{\"type\":\"field\",\"field\":\"y\"},\"line_color\":\"rgb(72, 209, 204)\",\"line_width\":2}},\"nonselection_glyph\":{\"type\":\"object\",\"name\":\"Line\",\"id\":\"p1216\",\"attributes\":{\"x\":{\"type\":\"field\",\"field\":\"x\"},\"y\":{\"type\":\"field\",\"field\":\"y\"},\"line_color\":\"rgb(72, 209, 204)\",\"line_alpha\":0.1,\"line_width\":2}},\"muted_glyph\":{\"type\":\"object\",\"name\":\"Line\",\"id\":\"p1217\",\"attributes\":{\"x\":{\"type\":\"field\",\"field\":\"x\"},\"y\":{\"type\":\"field\",\"field\":\"y\"},\"line_color\":\"rgb(72, 209, 204)\",\"line_alpha\":0.2,\"line_width\":2}}}},{\"type\":\"object\",\"name\":\"GlyphRenderer\",\"id\":\"p1229\",\"attributes\":{\"data_source\":{\"type\":\"object\",\"name\":\"ColumnDataSource\",\"id\":\"p1223\",\"attributes\":{\"selected\":{\"type\":\"object\",\"name\":\"Selection\",\"id\":\"p1224\",\"attributes\":{\"indices\":[],\"line_indices\":[]}},\"selection_policy\":{\"type\":\"object\",\"name\":\"UnionRenderers\",\"id\":\"p1225\"},\"data\":{\"type\":\"map\",\"entries\":[[\"x\",{\"type\":\"ndarray\",\"array\":{\"type\":\"bytes\",\"data\":\"uB6F61G4zj/4n8gLLTHRP4q2AHwiPtM/E+dhe7WJ1T/mlM3+XRvYPyzliAh4+9o//j/K214z3j9QFG+3xebgPwm4ej/b6uI/3+8/Wn8s5T+iMxiqCbPnP6PRygOyhuo/EbNhLKuw7T+xbMVjoJ3wP2fr9Wv8mPI/Ij01n9zQ9D+aSzfZeEz3P19F113lE/o/rx4xIy0w/T8E+Tyft1UAQFyAq+l/SAJAyGFveMZ2BEDa8hvqo+cGQIxgjIsJowlA5cg2MNuxDEBZDNYPBg8QQBkGM7tf+RFAF3qfMTYeFEBO/L9bg4QWQNuxwSYWNBlALmjT7Ks1HED2D3TlDJMfQCNNEP2VqyFAFHF6MyXHI0DlAJfNDyMmQBEyqO0CxyhAAwkXG5a7K0CwP643ZwovQBM3Q+UcXzFAbG47A41xM0BK0wH/QcM1QHD0LMLHWzhAoPoQpZBDO0AQofvqEIQ+QNBr2cLuE0FAKWQoQmcdQ0AOVMTOEmVFQHR/Xqlc8kdAkrUinJLNSkAAAAAAAABOQA==\"},\"shape\":[50],\"dtype\":\"float64\",\"order\":\"little\"}],[\"y\",{\"type\":\"ndarray\",\"array\":{\"type\":\"bytes\",\"data\":\"92hJhqiW4j/3aEmGqJbiP/doSYaoluI/92hJhqiW4j/3aEmGqJbiP/doSYaoluI/92hJhqiW4j/3aEmGqJbiP/doSYaoluI/92hJhqiW4j/3aEmGqJbiP/doSYaoluI/92hJhqiW4j/3aEmGqJbiP/doSYaoluI/92hJhqiW4j/3aEmGqJbiP/doSYaoluI/92hJhqiW4j/3aEmGqJbiP/doSYaoluI/92hJhqiW4j/3aEmGqJbiP/doSYaoluI/92hJhqiW4j/3aEmGqJbiP/doSYaoluI/92hJhqiW4j/3aEmGqJbiP/doSYaoluI/92hJhqiW4j/3aEmGqJbiP/doSYaoluI/92hJhqiW4j/3aEmGqJbiP/doSYaoluI/92hJhqiW4j/3aEmGqJbiP/doSYaoluI/92hJhqiW4j/3aEmGqJbiP/doSYaoluI/92hJhqiW4j/3aEmGqJbiP/doSYaoluI/92hJhqiW4j/3aEmGqJbiP/doSYaoluI/92hJhqiW4j/3aEmGqJbiPw==\"},\"shape\":[50],\"dtype\":\"float64\",\"order\":\"little\"}]]}}},\"view\":{\"type\":\"object\",\"name\":\"CDSView\",\"id\":\"p1230\",\"attributes\":{\"filter\":{\"type\":\"object\",\"name\":\"AllIndices\",\"id\":\"p1231\"}}},\"glyph\":{\"type\":\"object\",\"name\":\"Line\",\"id\":\"p1226\",\"attributes\":{\"x\":{\"type\":\"field\",\"field\":\"x\"},\"y\":{\"type\":\"field\",\"field\":\"y\"},\"line_color\":\"rgb(255, 103, 0)\",\"line_width\":2}},\"nonselection_glyph\":{\"type\":\"object\",\"name\":\"Line\",\"id\":\"p1227\",\"attributes\":{\"x\":{\"type\":\"field\",\"field\":\"x\"},\"y\":{\"type\":\"field\",\"field\":\"y\"},\"line_color\":\"rgb(255, 103, 0)\",\"line_alpha\":0.1,\"line_width\":2}},\"muted_glyph\":{\"type\":\"object\",\"name\":\"Line\",\"id\":\"p1228\",\"attributes\":{\"x\":{\"type\":\"field\",\"field\":\"x\"},\"y\":{\"type\":\"field\",\"field\":\"y\"},\"line_color\":\"rgb(255, 103, 0)\",\"line_alpha\":0.2,\"line_width\":2}}}},{\"type\":\"object\",\"name\":\"GlyphRenderer\",\"id\":\"p1239\",\"attributes\":{\"data_source\":{\"type\":\"object\",\"name\":\"ColumnDataSource\",\"id\":\"p1233\",\"attributes\":{\"selected\":{\"type\":\"object\",\"name\":\"Selection\",\"id\":\"p1234\",\"attributes\":{\"indices\":[],\"line_indices\":[]}},\"selection_policy\":{\"type\":\"object\",\"name\":\"UnionRenderers\",\"id\":\"p1235\"},\"data\":{\"type\":\"map\",\"entries\":[[\"x\",{\"type\":\"ndarray\",\"array\":{\"type\":\"bytes\",\"data\":\"uB6F61G4zj/4n8gLLTHRP4q2AHwiPtM/E+dhe7WJ1T/mlM3+XRvYPyzliAh4+9o//j/K214z3j9QFG+3xebgPwm4ej/b6uI/3+8/Wn8s5T+iMxiqCbPnP6PRygOyhuo/EbNhLKuw7T+xbMVjoJ3wP2fr9Wv8mPI/Ij01n9zQ9D+aSzfZeEz3P19F113lE/o/rx4xIy0w/T8E+Tyft1UAQFyAq+l/SAJAyGFveMZ2BEDa8hvqo+cGQIxgjIsJowlA5cg2MNuxDEBZDNYPBg8QQBkGM7tf+RFAF3qfMTYeFEBO/L9bg4QWQNuxwSYWNBlALmjT7Ks1HED2D3TlDJMfQCNNEP2VqyFAFHF6MyXHI0DlAJfNDyMmQBEyqO0CxyhAAwkXG5a7K0CwP643ZwovQBM3Q+UcXzFAbG47A41xM0BK0wH/QcM1QHD0LMLHWzhAoPoQpZBDO0AQofvqEIQ+QNBr2cLuE0FAKWQoQmcdQ0AOVMTOEmVFQHR/Xqlc8kdAkrUinJLNSkAAAAAAAABOQA==\"},\"shape\":[50],\"dtype\":\"float64\",\"order\":\"little\"}],[\"y\",{\"type\":\"ndarray\",\"array\":{\"type\":\"bytes\",\"data\":\"6TqOEAht7D+tt4j7QL/sP1hIOmhyDu0/xzzvbk9a7T8leDs8oaLtP72/RHBD5+0/McRaRCEo7j9WWU1BM2XuP+PdfVZ9nu4/44EqNA3U7j8mhL3Q+AXvP7T6NQ9dNO8/k3CofVxf7z+KLPwrHofvPzFym5nMq+8/NMwIvJTN7z8DYOkgpezvP8o6f5WWBPA/FPplNq4R8D9A12oPsR3wP+2VF1m2KPA/DaRovtQy8D+QUy0/IjzwP8tcWh20RPA/hEo01J5M8D+kTTQY9lPwPxAAgd7MWvA/w+DRajVh8D/AzUxjQWfwPyRcTukBbfA/WhmZtody8D9vJr0+43fwP1iajtQkffA/Z4Bd01yC8D+vZn/Mm4fwP9ZJVLnyjPA/bpY8MnOS8D8t7L6rL5jwP0lClbo7nvA/EBj4X6yk8D+rAtdfmKvwP/qbLqMYs/A/JY1BqUi78D8kZb4JR8TwPwPJ0Qw2zvA/cO/4XDzZ8D8tKxXYheXwPyA5F4ZE8/A/ZRwhvbEC8T9q9RJ8DxTxPw==\"},\"shape\":[50],\"dtype\":\"float64\",\"order\":\"little\"}]]}}},\"view\":{\"type\":\"object\",\"name\":\"CDSView\",\"id\":\"p1240\",\"attributes\":{\"filter\":{\"type\":\"object\",\"name\":\"AllIndices\",\"id\":\"p1241\"}}},\"glyph\":{\"type\":\"object\",\"name\":\"Line\",\"id\":\"p1236\",\"attributes\":{\"x\":{\"type\":\"field\",\"field\":\"x\"},\"y\":{\"type\":\"field\",\"field\":\"y\"},\"line_color\":\"rgb(222, 49, 99)\",\"line_width\":2}},\"nonselection_glyph\":{\"type\":\"object\",\"name\":\"Line\",\"id\":\"p1237\",\"attributes\":{\"x\":{\"type\":\"field\",\"field\":\"x\"},\"y\":{\"type\":\"field\",\"field\":\"y\"},\"line_color\":\"rgb(222, 49, 99)\",\"line_alpha\":0.1,\"line_width\":2}},\"muted_glyph\":{\"type\":\"object\",\"name\":\"Line\",\"id\":\"p1238\",\"attributes\":{\"x\":{\"type\":\"field\",\"field\":\"x\"},\"y\":{\"type\":\"field\",\"field\":\"y\"},\"line_color\":\"rgb(222, 49, 99)\",\"line_alpha\":0.2,\"line_width\":2}}}}],\"toolbar\":{\"type\":\"object\",\"name\":\"Toolbar\",\"id\":\"p1176\",\"attributes\":{\"tools\":[{\"type\":\"object\",\"name\":\"BoxZoomTool\",\"id\":\"p1191\",\"attributes\":{\"overlay\":{\"type\":\"object\",\"name\":\"BoxAnnotation\",\"id\":\"p1192\",\"attributes\":{\"syncable\":false,\"level\":\"overlay\",\"visible\":false,\"left\":{\"type\":\"number\",\"value\":\"nan\"},\"right\":{\"type\":\"number\",\"value\":\"nan\"},\"top\":{\"type\":\"number\",\"value\":\"nan\"},\"bottom\":{\"type\":\"number\",\"value\":\"nan\"},\"left_units\":\"canvas\",\"right_units\":\"canvas\",\"top_units\":\"canvas\",\"bottom_units\":\"canvas\",\"line_color\":\"black\",\"line_alpha\":1.0,\"line_width\":2,\"line_dash\":[4,4],\"fill_color\":\"lightgrey\",\"fill_alpha\":0.5}}}},{\"type\":\"object\",\"name\":\"PanTool\",\"id\":\"p1197\"},{\"type\":\"object\",\"name\":\"HoverTool\",\"id\":\"p1198\",\"attributes\":{\"renderers\":\"auto\"}},{\"type\":\"object\",\"name\":\"ResetTool\",\"id\":\"p1199\"},{\"type\":\"object\",\"name\":\"SaveTool\",\"id\":\"p1200\"}]}},\"left\":[{\"type\":\"object\",\"name\":\"LinearAxis\",\"id\":\"p1186\",\"attributes\":{\"ticker\":{\"type\":\"object\",\"name\":\"BasicTicker\",\"id\":\"p1187\",\"attributes\":{\"mantissas\":[1,2,5]}},\"formatter\":{\"type\":\"object\",\"name\":\"BasicTickFormatter\",\"id\":\"p1188\"},\"axis_label\":\"Rel. growth rate after mutation\",\"axis_label_text_font_size\":\"8pt\",\"major_label_policy\":{\"type\":\"object\",\"name\":\"AllLabels\",\"id\":\"p1189\"},\"major_label_text_font_size\":\"8pt\"}}],\"below\":[{\"type\":\"object\",\"name\":\"LogAxis\",\"id\":\"p1181\",\"attributes\":{\"ticker\":{\"type\":\"object\",\"name\":\"LogTicker\",\"id\":\"p1243\",\"attributes\":{\"desired_num_ticks\":5,\"mantissas\":[1,5]}},\"formatter\":{\"type\":\"object\",\"name\":\"LogTickFormatter\",\"id\":\"p1183\"},\"axis_label\":\"kcatyz (cat RBS:ribosome \\n dissoc. rate), 1/(nM*h)\",\"axis_label_text_font_size\":\"8pt\",\"major_label_policy\":{\"type\":\"object\",\"name\":\"AllLabels\",\"id\":\"p1184\"},\"major_label_text_font_size\":\"8pt\"}}],\"center\":[{\"type\":\"object\",\"name\":\"Grid\",\"id\":\"p1185\",\"attributes\":{\"axis\":{\"id\":\"p1181\"}}},{\"type\":\"object\",\"name\":\"Grid\",\"id\":\"p1190\",\"attributes\":{\"dimension\":1,\"axis\":{\"id\":\"p1186\"}}},{\"type\":\"object\",\"name\":\"BoxAnnotation\",\"id\":\"p1201\",\"attributes\":{\"left\":0.24,\"right\":0.6616818201723581,\"top\":{\"type\":\"object\",\"name\":\"Node\",\"id\":\"p1204\",\"attributes\":{\"target\":\"frame\",\"symbol\":\"top\"}},\"bottom\":{\"type\":\"object\",\"name\":\"Node\",\"id\":\"p1205\",\"attributes\":{\"target\":\"frame\",\"symbol\":\"bottom\"}},\"fill_color\":\"gray\",\"fill_alpha\":0.1}},{\"type\":\"object\",\"name\":\"BoxAnnotation\",\"id\":\"p1206\",\"attributes\":{\"left\":1.6298574128780599,\"right\":60.0,\"top\":{\"type\":\"object\",\"name\":\"Node\",\"id\":\"p1209\",\"attributes\":{\"target\":\"frame\",\"symbol\":\"top\"}},\"bottom\":{\"type\":\"object\",\"name\":\"Node\",\"id\":\"p1210\",\"attributes\":{\"target\":\"frame\",\"symbol\":\"bottom\"}},\"fill_color\":\"gray\",\"fill_alpha\":0.1}},{\"type\":\"object\",\"name\":\"Span\",\"id\":\"p1211\",\"attributes\":{\"location\":1,\"line_width\":2,\"line_dash\":[6]}},{\"type\":\"object\",\"name\":\"Legend\",\"id\":\"p1221\",\"attributes\":{\"visible\":false,\"location\":\"right\",\"background_fill_alpha\":1,\"label_text_font_size\":\"8pt\",\"items\":[{\"type\":\"object\",\"name\":\"LegendItem\",\"id\":\"p1222\",\"attributes\":{\"label\":{\"type\":\"value\",\"value\":\"Toggles only\"},\"renderers\":[{\"id\":\"p1218\"}]}},{\"type\":\"object\",\"name\":\"LegendItem\",\"id\":\"p1232\",\"attributes\":{\"label\":{\"type\":\"value\",\"value\":\"Punisher\"},\"renderers\":[{\"id\":\"p1229\"}]}},{\"type\":\"object\",\"name\":\"LegendItem\",\"id\":\"p1242\",\"attributes\":{\"label\":{\"type\":\"value\",\"value\":\"Co-expression\"},\"renderers\":[{\"id\":\"p1239\"}]}}]}}],\"frame_width\":160,\"frame_height\":160,\"output_backend\":\"svg\"}}]}};\n  const render_items = [{\"docid\":\"bda51e1c-fca6-4543-a89e-7fba9ee95396\",\"roots\":{\"p1167\":\"ee43cf74-bc64-411c-8731-a4a945cd9ba4\"},\"root_ids\":[\"p1167\"]}];\n  void root.Bokeh.embed.embed_items_notebook(docs_json, render_items);\n  }\n  if (root.Bokeh !== undefined) {\n    embed_document(root);\n  } else {\n    let attempts = 0;\n    const timer = setInterval(function(root) {\n      if (root.Bokeh !== undefined) {\n        clearInterval(timer);\n        embed_document(root);\n      } else {\n        attempts++;\n        if (attempts > 100) {\n          clearInterval(timer);\n          console.log(\"Bokeh: ERROR: Unable to run BokehJS code because BokehJS library is missing\");\n        }\n      }\n    }, 10, root)\n  }\n})(window);",
      "application/vnd.bokehjs_exec.v0+json": ""
     },
     "metadata": {
      "application/vnd.bokehjs_exec.v0+json": {
       "id": "p1167"
      }
     },
     "output_type": "display_data"
    }
   ],
   "execution_count": 16
  },
  {
   "metadata": {
    "ExecuteTime": {
     "end_time": "2024-09-25T15:03:29.215067Z",
     "start_time": "2024-09-25T15:03:29.179178Z"
    }
   },
   "cell_type": "code",
   "source": [
    "#\n",
    "# one toggle and a half mutated\n",
    "oneandhalfmut_fig= bkplot.figure(\n",
    "    frame_width=160,\n",
    "    frame_height=160,\n",
    "    title='tog11, tog12 and tog21 mutated',\n",
    "    x_axis_label=\"kcatyz (cat RBS:ribosome \\n dissoc. rate), 1/(nM*h)\",\n",
    "    y_axis_label=\"Rel. growth rate after mutation\",\n",
    "    x_range=(k_plus_cats[0], k_plus_cats[-1]),\n",
    "    y_range=(0.94,1.03),\n",
    "    x_axis_type=\"log\",\n",
    "    tools=\"box_zoom,pan,hover,reset,save\"\n",
    ")\n",
    "oneandhalfmut_fig.output_backend = \"svg\"\n",
    "\n",
    "# shade regions where essential gene co-expression fails\n",
    "for fail_region in fail_regions:\n",
    "    oneandhalfmut_fig.add_layout(bkmodels.BoxAnnotation(left=k_plus_cats[fail_region[0]], right=k_plus_cats[fail_region[1]], fill_color='gray', fill_alpha=0.1))\n",
    "\n",
    "# reference at 1\n",
    "oneandhalfmut_fig.add_layout(bkmodels.Span(location=1, dimension='width', line_color='black', line_width=2, line_dash='dashed'))\n",
    "\n",
    "# Toggle switches only\n",
    "oneandhalfmut_fig.line(k_plus_cats,\n",
    "                l_only_oneandhalfmut / l_only_nomut * np.ones(len(k_plus_cats)),\n",
    "                line_color=bkRGB(72, 209, 204), line_width=2, legend_label='Toggles only')\n",
    "\n",
    "# Punisher\n",
    "oneandhalfmut_fig.line(k_plus_cats,\n",
    "                l_pun_oneandhalfmut / l_pun_nomut * np.ones(len(k_plus_cats)),\n",
    "                line_color=bkRGB(255, 103, 0), line_width=2, legend_label='Punisher')\n",
    "\n",
    "# Essential gene co-expression\n",
    "oneandhalfmut_fig.line(k_plus_cats,\n",
    "                np.divide(ls_add_oneandhalfmut,ls_add_nomut),\n",
    "                line_color=bkRGB(222, 49, 99), line_width=2, legend_label='Co-expression')\n",
    "\n",
    "# font and axis settings\n",
    "oneandhalfmut_fig.xaxis.ticker = bkmodels.LogTicker(desired_num_ticks=5)\n",
    "oneandhalfmut_fig.xaxis.axis_label_text_font_size = font_size\n",
    "oneandhalfmut_fig.xaxis.major_label_text_font_size = font_size\n",
    "oneandhalfmut_fig.yaxis.axis_label_text_font_size = font_size\n",
    "oneandhalfmut_fig.yaxis.major_label_text_font_size = font_size\n",
    "oneandhalfmut_fig.legend.label_text_font_size = font_size\n",
    "oneandhalfmut_fig.title.text_font_size = font_size\n",
    "oneandhalfmut_fig.legend.visible=False\n",
    "oneandhalfmut_fig.legend.background_fill_alpha = 1\n",
    "oneandhalfmut_fig.legend.location = \"bottom_right\"\n",
    "\n",
    "bkplot.show(oneandhalfmut_fig)"
   ],
   "id": "3a7a31e39c998448",
   "outputs": [
    {
     "data": {
      "text/html": [
       "\n",
       "  <div id=\"d0fdbbce-67e0-4835-a0c8-fb74feb9615e\" data-root-id=\"p1250\" style=\"display: contents;\"></div>\n"
      ]
     },
     "metadata": {},
     "output_type": "display_data"
    },
    {
     "data": {
      "application/javascript": "(function(root) {\n  function embed_document(root) {\n  const docs_json = {\"3ec15efa-6014-42ff-a16c-2700b4ec7547\":{\"version\":\"3.4.0\",\"title\":\"Bokeh Application\",\"roots\":[{\"type\":\"object\",\"name\":\"Figure\",\"id\":\"p1250\",\"attributes\":{\"x_range\":{\"type\":\"object\",\"name\":\"Range1d\",\"id\":\"p1260\",\"attributes\":{\"start\":0.24,\"end\":60.0}},\"y_range\":{\"type\":\"object\",\"name\":\"Range1d\",\"id\":\"p1261\",\"attributes\":{\"start\":0.94,\"end\":1.03}},\"x_scale\":{\"type\":\"object\",\"name\":\"LogScale\",\"id\":\"p1262\"},\"y_scale\":{\"type\":\"object\",\"name\":\"LinearScale\",\"id\":\"p1263\"},\"title\":{\"type\":\"object\",\"name\":\"Title\",\"id\":\"p1253\",\"attributes\":{\"text\":\"tog11, tog12 and tog21 mutated\",\"text_font_size\":\"8pt\"}},\"renderers\":[{\"type\":\"object\",\"name\":\"GlyphRenderer\",\"id\":\"p1301\",\"attributes\":{\"data_source\":{\"type\":\"object\",\"name\":\"ColumnDataSource\",\"id\":\"p1295\",\"attributes\":{\"selected\":{\"type\":\"object\",\"name\":\"Selection\",\"id\":\"p1296\",\"attributes\":{\"indices\":[],\"line_indices\":[]}},\"selection_policy\":{\"type\":\"object\",\"name\":\"UnionRenderers\",\"id\":\"p1297\"},\"data\":{\"type\":\"map\",\"entries\":[[\"x\",{\"type\":\"ndarray\",\"array\":{\"type\":\"bytes\",\"data\":\"uB6F61G4zj/4n8gLLTHRP4q2AHwiPtM/E+dhe7WJ1T/mlM3+XRvYPyzliAh4+9o//j/K214z3j9QFG+3xebgPwm4ej/b6uI/3+8/Wn8s5T+iMxiqCbPnP6PRygOyhuo/EbNhLKuw7T+xbMVjoJ3wP2fr9Wv8mPI/Ij01n9zQ9D+aSzfZeEz3P19F113lE/o/rx4xIy0w/T8E+Tyft1UAQFyAq+l/SAJAyGFveMZ2BEDa8hvqo+cGQIxgjIsJowlA5cg2MNuxDEBZDNYPBg8QQBkGM7tf+RFAF3qfMTYeFEBO/L9bg4QWQNuxwSYWNBlALmjT7Ks1HED2D3TlDJMfQCNNEP2VqyFAFHF6MyXHI0DlAJfNDyMmQBEyqO0CxyhAAwkXG5a7K0CwP643ZwovQBM3Q+UcXzFAbG47A41xM0BK0wH/QcM1QHD0LMLHWzhAoPoQpZBDO0AQofvqEIQ+QNBr2cLuE0FAKWQoQmcdQ0AOVMTOEmVFQHR/Xqlc8kdAkrUinJLNSkAAAAAAAABOQA==\"},\"shape\":[50],\"dtype\":\"float64\",\"order\":\"little\"}],[\"y\",{\"type\":\"ndarray\",\"array\":{\"type\":\"bytes\",\"data\":\"XQ0LMUK67z9dDQsxQrrvP10NCzFCuu8/XQ0LMUK67z9dDQsxQrrvP10NCzFCuu8/XQ0LMUK67z9dDQsxQrrvP10NCzFCuu8/XQ0LMUK67z9dDQsxQrrvP10NCzFCuu8/XQ0LMUK67z9dDQsxQrrvP10NCzFCuu8/XQ0LMUK67z9dDQsxQrrvP10NCzFCuu8/XQ0LMUK67z9dDQsxQrrvP10NCzFCuu8/XQ0LMUK67z9dDQsxQrrvP10NCzFCuu8/XQ0LMUK67z9dDQsxQrrvP10NCzFCuu8/XQ0LMUK67z9dDQsxQrrvP10NCzFCuu8/XQ0LMUK67z9dDQsxQrrvP10NCzFCuu8/XQ0LMUK67z9dDQsxQrrvP10NCzFCuu8/XQ0LMUK67z9dDQsxQrrvP10NCzFCuu8/XQ0LMUK67z9dDQsxQrrvP10NCzFCuu8/XQ0LMUK67z9dDQsxQrrvP10NCzFCuu8/XQ0LMUK67z9dDQsxQrrvP10NCzFCuu8/XQ0LMUK67z9dDQsxQrrvPw==\"},\"shape\":[50],\"dtype\":\"float64\",\"order\":\"little\"}]]}}},\"view\":{\"type\":\"object\",\"name\":\"CDSView\",\"id\":\"p1302\",\"attributes\":{\"filter\":{\"type\":\"object\",\"name\":\"AllIndices\",\"id\":\"p1303\"}}},\"glyph\":{\"type\":\"object\",\"name\":\"Line\",\"id\":\"p1298\",\"attributes\":{\"x\":{\"type\":\"field\",\"field\":\"x\"},\"y\":{\"type\":\"field\",\"field\":\"y\"},\"line_color\":\"rgb(72, 209, 204)\",\"line_width\":2}},\"nonselection_glyph\":{\"type\":\"object\",\"name\":\"Line\",\"id\":\"p1299\",\"attributes\":{\"x\":{\"type\":\"field\",\"field\":\"x\"},\"y\":{\"type\":\"field\",\"field\":\"y\"},\"line_color\":\"rgb(72, 209, 204)\",\"line_alpha\":0.1,\"line_width\":2}},\"muted_glyph\":{\"type\":\"object\",\"name\":\"Line\",\"id\":\"p1300\",\"attributes\":{\"x\":{\"type\":\"field\",\"field\":\"x\"},\"y\":{\"type\":\"field\",\"field\":\"y\"},\"line_color\":\"rgb(72, 209, 204)\",\"line_alpha\":0.2,\"line_width\":2}}}},{\"type\":\"object\",\"name\":\"GlyphRenderer\",\"id\":\"p1312\",\"attributes\":{\"data_source\":{\"type\":\"object\",\"name\":\"ColumnDataSource\",\"id\":\"p1306\",\"attributes\":{\"selected\":{\"type\":\"object\",\"name\":\"Selection\",\"id\":\"p1307\",\"attributes\":{\"indices\":[],\"line_indices\":[]}},\"selection_policy\":{\"type\":\"object\",\"name\":\"UnionRenderers\",\"id\":\"p1308\"},\"data\":{\"type\":\"map\",\"entries\":[[\"x\",{\"type\":\"ndarray\",\"array\":{\"type\":\"bytes\",\"data\":\"uB6F61G4zj/4n8gLLTHRP4q2AHwiPtM/E+dhe7WJ1T/mlM3+XRvYPyzliAh4+9o//j/K214z3j9QFG+3xebgPwm4ej/b6uI/3+8/Wn8s5T+iMxiqCbPnP6PRygOyhuo/EbNhLKuw7T+xbMVjoJ3wP2fr9Wv8mPI/Ij01n9zQ9D+aSzfZeEz3P19F113lE/o/rx4xIy0w/T8E+Tyft1UAQFyAq+l/SAJAyGFveMZ2BEDa8hvqo+cGQIxgjIsJowlA5cg2MNuxDEBZDNYPBg8QQBkGM7tf+RFAF3qfMTYeFEBO/L9bg4QWQNuxwSYWNBlALmjT7Ks1HED2D3TlDJMfQCNNEP2VqyFAFHF6MyXHI0DlAJfNDyMmQBEyqO0CxyhAAwkXG5a7K0CwP643ZwovQBM3Q+UcXzFAbG47A41xM0BK0wH/QcM1QHD0LMLHWzhAoPoQpZBDO0AQofvqEIQ+QNBr2cLuE0FAKWQoQmcdQ0AOVMTOEmVFQHR/Xqlc8kdAkrUinJLNSkAAAAAAAABOQA==\"},\"shape\":[50],\"dtype\":\"float64\",\"order\":\"little\"}],[\"y\",{\"type\":\"ndarray\",\"array\":{\"type\":\"bytes\",\"data\":\"20AtjUfD7z/bQC2NR8PvP9tALY1Hw+8/20AtjUfD7z/bQC2NR8PvP9tALY1Hw+8/20AtjUfD7z/bQC2NR8PvP9tALY1Hw+8/20AtjUfD7z/bQC2NR8PvP9tALY1Hw+8/20AtjUfD7z/bQC2NR8PvP9tALY1Hw+8/20AtjUfD7z/bQC2NR8PvP9tALY1Hw+8/20AtjUfD7z/bQC2NR8PvP9tALY1Hw+8/20AtjUfD7z/bQC2NR8PvP9tALY1Hw+8/20AtjUfD7z/bQC2NR8PvP9tALY1Hw+8/20AtjUfD7z/bQC2NR8PvP9tALY1Hw+8/20AtjUfD7z/bQC2NR8PvP9tALY1Hw+8/20AtjUfD7z/bQC2NR8PvP9tALY1Hw+8/20AtjUfD7z/bQC2NR8PvP9tALY1Hw+8/20AtjUfD7z/bQC2NR8PvP9tALY1Hw+8/20AtjUfD7z/bQC2NR8PvP9tALY1Hw+8/20AtjUfD7z/bQC2NR8PvP9tALY1Hw+8/20AtjUfD7z/bQC2NR8PvPw==\"},\"shape\":[50],\"dtype\":\"float64\",\"order\":\"little\"}]]}}},\"view\":{\"type\":\"object\",\"name\":\"CDSView\",\"id\":\"p1313\",\"attributes\":{\"filter\":{\"type\":\"object\",\"name\":\"AllIndices\",\"id\":\"p1314\"}}},\"glyph\":{\"type\":\"object\",\"name\":\"Line\",\"id\":\"p1309\",\"attributes\":{\"x\":{\"type\":\"field\",\"field\":\"x\"},\"y\":{\"type\":\"field\",\"field\":\"y\"},\"line_color\":\"rgb(255, 103, 0)\",\"line_width\":2}},\"nonselection_glyph\":{\"type\":\"object\",\"name\":\"Line\",\"id\":\"p1310\",\"attributes\":{\"x\":{\"type\":\"field\",\"field\":\"x\"},\"y\":{\"type\":\"field\",\"field\":\"y\"},\"line_color\":\"rgb(255, 103, 0)\",\"line_alpha\":0.1,\"line_width\":2}},\"muted_glyph\":{\"type\":\"object\",\"name\":\"Line\",\"id\":\"p1311\",\"attributes\":{\"x\":{\"type\":\"field\",\"field\":\"x\"},\"y\":{\"type\":\"field\",\"field\":\"y\"},\"line_color\":\"rgb(255, 103, 0)\",\"line_alpha\":0.2,\"line_width\":2}}}},{\"type\":\"object\",\"name\":\"GlyphRenderer\",\"id\":\"p1322\",\"attributes\":{\"data_source\":{\"type\":\"object\",\"name\":\"ColumnDataSource\",\"id\":\"p1316\",\"attributes\":{\"selected\":{\"type\":\"object\",\"name\":\"Selection\",\"id\":\"p1317\",\"attributes\":{\"indices\":[],\"line_indices\":[]}},\"selection_policy\":{\"type\":\"object\",\"name\":\"UnionRenderers\",\"id\":\"p1318\"},\"data\":{\"type\":\"map\",\"entries\":[[\"x\",{\"type\":\"ndarray\",\"array\":{\"type\":\"bytes\",\"data\":\"uB6F61G4zj/4n8gLLTHRP4q2AHwiPtM/E+dhe7WJ1T/mlM3+XRvYPyzliAh4+9o//j/K214z3j9QFG+3xebgPwm4ej/b6uI/3+8/Wn8s5T+iMxiqCbPnP6PRygOyhuo/EbNhLKuw7T+xbMVjoJ3wP2fr9Wv8mPI/Ij01n9zQ9D+aSzfZeEz3P19F113lE/o/rx4xIy0w/T8E+Tyft1UAQFyAq+l/SAJAyGFveMZ2BEDa8hvqo+cGQIxgjIsJowlA5cg2MNuxDEBZDNYPBg8QQBkGM7tf+RFAF3qfMTYeFEBO/L9bg4QWQNuxwSYWNBlALmjT7Ks1HED2D3TlDJMfQCNNEP2VqyFAFHF6MyXHI0DlAJfNDyMmQBEyqO0CxyhAAwkXG5a7K0CwP643ZwovQBM3Q+UcXzFAbG47A41xM0BK0wH/QcM1QHD0LMLHWzhAoPoQpZBDO0AQofvqEIQ+QNBr2cLuE0FAKWQoQmcdQ0AOVMTOEmVFQHR/Xqlc8kdAkrUinJLNSkAAAAAAAABOQA==\"},\"shape\":[50],\"dtype\":\"float64\",\"order\":\"little\"}],[\"y\",{\"type\":\"ndarray\",\"array\":{\"type\":\"bytes\",\"data\":\"YxT5IW297z8wWDnWDdbvP4oAQfk76O8/QxVA0Bn17z9h1ehOqf3vP2qaSRdlAfA/aLIqXZ0C8D84FTkXzQLwP6QKP/I1AvA/yRBsZQ0B8D/Q1lLW/P7vP4mkrT5W++8/C1REbVz37z+5DKyTOPPvP/95WekJ7+8/LpSKlOfq7z+W75BF4ubvP2DMY40F4+8/i4oo+Fjf7z8bo9vz4NvvP+Ap54uf2O8/fFjH/5TV7z8TReg7wNLvPzAQTjkf0O8/VlFtSa/N7z8+W9lRbcvvP3GnUPtVye8/m6921mXH7z8oId55mcXvP5hqOJrtw+8/HJJBH1/C7z/vNgg368DvP0Rd52iPv+8/nQcvqkm+7z/OTpZ1GL3vPwpiwef6u+8/ttjw4fC67z9OJI42+7nvP1Ftp+Abue8/1wPoSla47z8yv6qor7fvP9k4/WYvt+8/5rh7u9+27z/OAjtWzrbvPyLe80ENt+8/lUgA+7O37z8TKnvK4LjvP8iuZ3S6uu8/lKRMSnK97z9XMgu4RsHvPw==\"},\"shape\":[50],\"dtype\":\"float64\",\"order\":\"little\"}]]}}},\"view\":{\"type\":\"object\",\"name\":\"CDSView\",\"id\":\"p1323\",\"attributes\":{\"filter\":{\"type\":\"object\",\"name\":\"AllIndices\",\"id\":\"p1324\"}}},\"glyph\":{\"type\":\"object\",\"name\":\"Line\",\"id\":\"p1319\",\"attributes\":{\"x\":{\"type\":\"field\",\"field\":\"x\"},\"y\":{\"type\":\"field\",\"field\":\"y\"},\"line_color\":\"rgb(222, 49, 99)\",\"line_width\":2}},\"nonselection_glyph\":{\"type\":\"object\",\"name\":\"Line\",\"id\":\"p1320\",\"attributes\":{\"x\":{\"type\":\"field\",\"field\":\"x\"},\"y\":{\"type\":\"field\",\"field\":\"y\"},\"line_color\":\"rgb(222, 49, 99)\",\"line_alpha\":0.1,\"line_width\":2}},\"muted_glyph\":{\"type\":\"object\",\"name\":\"Line\",\"id\":\"p1321\",\"attributes\":{\"x\":{\"type\":\"field\",\"field\":\"x\"},\"y\":{\"type\":\"field\",\"field\":\"y\"},\"line_color\":\"rgb(222, 49, 99)\",\"line_alpha\":0.2,\"line_width\":2}}}}],\"toolbar\":{\"type\":\"object\",\"name\":\"Toolbar\",\"id\":\"p1259\",\"attributes\":{\"tools\":[{\"type\":\"object\",\"name\":\"BoxZoomTool\",\"id\":\"p1274\",\"attributes\":{\"overlay\":{\"type\":\"object\",\"name\":\"BoxAnnotation\",\"id\":\"p1275\",\"attributes\":{\"syncable\":false,\"level\":\"overlay\",\"visible\":false,\"left\":{\"type\":\"number\",\"value\":\"nan\"},\"right\":{\"type\":\"number\",\"value\":\"nan\"},\"top\":{\"type\":\"number\",\"value\":\"nan\"},\"bottom\":{\"type\":\"number\",\"value\":\"nan\"},\"left_units\":\"canvas\",\"right_units\":\"canvas\",\"top_units\":\"canvas\",\"bottom_units\":\"canvas\",\"line_color\":\"black\",\"line_alpha\":1.0,\"line_width\":2,\"line_dash\":[4,4],\"fill_color\":\"lightgrey\",\"fill_alpha\":0.5}}}},{\"type\":\"object\",\"name\":\"PanTool\",\"id\":\"p1280\"},{\"type\":\"object\",\"name\":\"HoverTool\",\"id\":\"p1281\",\"attributes\":{\"renderers\":\"auto\"}},{\"type\":\"object\",\"name\":\"ResetTool\",\"id\":\"p1282\"},{\"type\":\"object\",\"name\":\"SaveTool\",\"id\":\"p1283\"}]}},\"left\":[{\"type\":\"object\",\"name\":\"LinearAxis\",\"id\":\"p1269\",\"attributes\":{\"ticker\":{\"type\":\"object\",\"name\":\"BasicTicker\",\"id\":\"p1270\",\"attributes\":{\"mantissas\":[1,2,5]}},\"formatter\":{\"type\":\"object\",\"name\":\"BasicTickFormatter\",\"id\":\"p1271\"},\"axis_label\":\"Rel. growth rate after mutation\",\"axis_label_text_font_size\":\"8pt\",\"major_label_policy\":{\"type\":\"object\",\"name\":\"AllLabels\",\"id\":\"p1272\"},\"major_label_text_font_size\":\"8pt\"}}],\"below\":[{\"type\":\"object\",\"name\":\"LogAxis\",\"id\":\"p1264\",\"attributes\":{\"ticker\":{\"type\":\"object\",\"name\":\"LogTicker\",\"id\":\"p1326\",\"attributes\":{\"desired_num_ticks\":5,\"mantissas\":[1,5]}},\"formatter\":{\"type\":\"object\",\"name\":\"LogTickFormatter\",\"id\":\"p1266\"},\"axis_label\":\"kcatyz (cat RBS:ribosome \\n dissoc. rate), 1/(nM*h)\",\"axis_label_text_font_size\":\"8pt\",\"major_label_policy\":{\"type\":\"object\",\"name\":\"AllLabels\",\"id\":\"p1267\"},\"major_label_text_font_size\":\"8pt\"}}],\"center\":[{\"type\":\"object\",\"name\":\"Grid\",\"id\":\"p1268\",\"attributes\":{\"axis\":{\"id\":\"p1264\"}}},{\"type\":\"object\",\"name\":\"Grid\",\"id\":\"p1273\",\"attributes\":{\"dimension\":1,\"axis\":{\"id\":\"p1269\"}}},{\"type\":\"object\",\"name\":\"BoxAnnotation\",\"id\":\"p1284\",\"attributes\":{\"left\":0.24,\"right\":0.6616818201723581,\"top\":{\"type\":\"object\",\"name\":\"Node\",\"id\":\"p1287\",\"attributes\":{\"target\":\"frame\",\"symbol\":\"top\"}},\"bottom\":{\"type\":\"object\",\"name\":\"Node\",\"id\":\"p1288\",\"attributes\":{\"target\":\"frame\",\"symbol\":\"bottom\"}},\"fill_color\":\"gray\",\"fill_alpha\":0.1}},{\"type\":\"object\",\"name\":\"BoxAnnotation\",\"id\":\"p1289\",\"attributes\":{\"left\":1.6298574128780599,\"right\":60.0,\"top\":{\"type\":\"object\",\"name\":\"Node\",\"id\":\"p1292\",\"attributes\":{\"target\":\"frame\",\"symbol\":\"top\"}},\"bottom\":{\"type\":\"object\",\"name\":\"Node\",\"id\":\"p1293\",\"attributes\":{\"target\":\"frame\",\"symbol\":\"bottom\"}},\"fill_color\":\"gray\",\"fill_alpha\":0.1}},{\"type\":\"object\",\"name\":\"Span\",\"id\":\"p1294\",\"attributes\":{\"location\":1,\"line_width\":2,\"line_dash\":[6]}},{\"type\":\"object\",\"name\":\"Legend\",\"id\":\"p1304\",\"attributes\":{\"visible\":false,\"location\":\"bottom_right\",\"background_fill_alpha\":1,\"label_text_font_size\":\"8pt\",\"items\":[{\"type\":\"object\",\"name\":\"LegendItem\",\"id\":\"p1305\",\"attributes\":{\"label\":{\"type\":\"value\",\"value\":\"Toggles only\"},\"renderers\":[{\"id\":\"p1301\"}]}},{\"type\":\"object\",\"name\":\"LegendItem\",\"id\":\"p1315\",\"attributes\":{\"label\":{\"type\":\"value\",\"value\":\"Punisher\"},\"renderers\":[{\"id\":\"p1312\"}]}},{\"type\":\"object\",\"name\":\"LegendItem\",\"id\":\"p1325\",\"attributes\":{\"label\":{\"type\":\"value\",\"value\":\"Co-expression\"},\"renderers\":[{\"id\":\"p1322\"}]}}]}}],\"frame_width\":160,\"frame_height\":160,\"output_backend\":\"svg\"}}]}};\n  const render_items = [{\"docid\":\"3ec15efa-6014-42ff-a16c-2700b4ec7547\",\"roots\":{\"p1250\":\"d0fdbbce-67e0-4835-a0c8-fb74feb9615e\"},\"root_ids\":[\"p1250\"]}];\n  void root.Bokeh.embed.embed_items_notebook(docs_json, render_items);\n  }\n  if (root.Bokeh !== undefined) {\n    embed_document(root);\n  } else {\n    let attempts = 0;\n    const timer = setInterval(function(root) {\n      if (root.Bokeh !== undefined) {\n        clearInterval(timer);\n        embed_document(root);\n      } else {\n        attempts++;\n        if (attempts > 100) {\n          clearInterval(timer);\n          console.log(\"Bokeh: ERROR: Unable to run BokehJS code because BokehJS library is missing\");\n        }\n      }\n    }, 10, root)\n  }\n})(window);",
      "application/vnd.bokehjs_exec.v0+json": ""
     },
     "metadata": {
      "application/vnd.bokehjs_exec.v0+json": {
       "id": "p1250"
      }
     },
     "output_type": "display_data"
    }
   ],
   "execution_count": 17
  },
  {
   "metadata": {
    "ExecuteTime": {
     "end_time": "2024-09-25T15:03:29.257180Z",
     "start_time": "2024-09-25T15:03:29.215990Z"
    }
   },
   "cell_type": "code",
   "source": [
    "#\n",
    "# all toggles mutated\n",
    "allmut_fig= bkplot.figure(\n",
    "    frame_width=160,\n",
    "    frame_height=160,\n",
    "    title='all toggle genes mutated',\n",
    "    x_axis_label=\"kcatyz (cat RBS:ribosome \\n dissoc. rate), 1/(nM*h)\",\n",
    "    y_axis_label=\"Rel. growth rate after mutation\",\n",
    "    x_range=(k_plus_cats[0], k_plus_cats[-1]),\n",
    "    y_range=(0.2,1.4),\n",
    "    x_axis_type=\"log\",\n",
    "    tools=\"box_zoom,pan,hover,reset,save\"\n",
    ")\n",
    "allmut_fig.output_backend = \"svg\"\n",
    "\n",
    "# shade regions where essential gene co-expression fails\n",
    "for fail_region in fail_regions:\n",
    "    allmut_fig.add_layout(bkmodels.BoxAnnotation(left=k_plus_cats[fail_region[0]], right=k_plus_cats[fail_region[1]], fill_color='gray', fill_alpha=0.1))\n",
    "\n",
    "# reference at 1\n",
    "allmut_fig.add_layout(bkmodels.Span(location=1, dimension='width', line_color='black', line_width=2, line_dash='dashed'))\n",
    "\n",
    "# Toggle switches only\n",
    "allmut_fig.line(k_plus_cats,\n",
    "                l_only_allmut / l_only_nomut * np.ones(len(k_plus_cats)),\n",
    "                line_color=bkRGB(72, 209, 204), line_width=2, legend_label='Toggles only')\n",
    "\n",
    "# Punisher\n",
    "allmut_fig.line(k_plus_cats,\n",
    "                l_pun_allmut / l_pun_nomut * np.ones(len(k_plus_cats)),\n",
    "                line_color=bkRGB(255, 103, 0), line_width=2, legend_label='Punisher')\n",
    "\n",
    "# Essential gene co-expression\n",
    "allmut_fig.line(k_plus_cats,\n",
    "                np.divide(ls_add_allmut,ls_add_nomut),\n",
    "                line_color=bkRGB(222, 49, 99), line_width=2, legend_label='Co-expression')\n",
    "\n",
    "# font and axis settings\n",
    "allmut_fig.xaxis.ticker = bkmodels.LogTicker(desired_num_ticks=5)\n",
    "allmut_fig.xaxis.axis_label_text_font_size = font_size\n",
    "allmut_fig.xaxis.major_label_text_font_size = font_size\n",
    "allmut_fig.yaxis.axis_label_text_font_size = font_size\n",
    "allmut_fig.yaxis.major_label_text_font_size = font_size\n",
    "allmut_fig.legend.label_text_font_size = font_size\n",
    "allmut_fig.title.text_font_size = font_size\n",
    "# allmut_fig.legend.visible=False\n",
    "allmut_fig.legend.background_fill_alpha = 1\n",
    "allmut_fig.legend.location = \"right\"\n",
    "\n",
    "# show plots\n",
    "bkplot.show(allmut_fig)"
   ],
   "id": "1904d5a1c08c9423",
   "outputs": [
    {
     "data": {
      "text/html": [
       "\n",
       "  <div id=\"ecfb1541-5644-41ff-8e6d-5f6d0df0e0e3\" data-root-id=\"p1333\" style=\"display: contents;\"></div>\n"
      ]
     },
     "metadata": {},
     "output_type": "display_data"
    },
    {
     "data": {
      "application/javascript": "(function(root) {\n  function embed_document(root) {\n  const docs_json = {\"dafdb002-9de0-439b-b0f3-0e953e64aad5\":{\"version\":\"3.4.0\",\"title\":\"Bokeh Application\",\"roots\":[{\"type\":\"object\",\"name\":\"Figure\",\"id\":\"p1333\",\"attributes\":{\"x_range\":{\"type\":\"object\",\"name\":\"Range1d\",\"id\":\"p1343\",\"attributes\":{\"start\":0.24,\"end\":60.0}},\"y_range\":{\"type\":\"object\",\"name\":\"Range1d\",\"id\":\"p1344\",\"attributes\":{\"start\":0.2,\"end\":1.4}},\"x_scale\":{\"type\":\"object\",\"name\":\"LogScale\",\"id\":\"p1345\"},\"y_scale\":{\"type\":\"object\",\"name\":\"LinearScale\",\"id\":\"p1346\"},\"title\":{\"type\":\"object\",\"name\":\"Title\",\"id\":\"p1336\",\"attributes\":{\"text\":\"all toggle genes mutated\",\"text_font_size\":\"8pt\"}},\"renderers\":[{\"type\":\"object\",\"name\":\"GlyphRenderer\",\"id\":\"p1384\",\"attributes\":{\"data_source\":{\"type\":\"object\",\"name\":\"ColumnDataSource\",\"id\":\"p1378\",\"attributes\":{\"selected\":{\"type\":\"object\",\"name\":\"Selection\",\"id\":\"p1379\",\"attributes\":{\"indices\":[],\"line_indices\":[]}},\"selection_policy\":{\"type\":\"object\",\"name\":\"UnionRenderers\",\"id\":\"p1380\"},\"data\":{\"type\":\"map\",\"entries\":[[\"x\",{\"type\":\"ndarray\",\"array\":{\"type\":\"bytes\",\"data\":\"uB6F61G4zj/4n8gLLTHRP4q2AHwiPtM/E+dhe7WJ1T/mlM3+XRvYPyzliAh4+9o//j/K214z3j9QFG+3xebgPwm4ej/b6uI/3+8/Wn8s5T+iMxiqCbPnP6PRygOyhuo/EbNhLKuw7T+xbMVjoJ3wP2fr9Wv8mPI/Ij01n9zQ9D+aSzfZeEz3P19F113lE/o/rx4xIy0w/T8E+Tyft1UAQFyAq+l/SAJAyGFveMZ2BEDa8hvqo+cGQIxgjIsJowlA5cg2MNuxDEBZDNYPBg8QQBkGM7tf+RFAF3qfMTYeFEBO/L9bg4QWQNuxwSYWNBlALmjT7Ks1HED2D3TlDJMfQCNNEP2VqyFAFHF6MyXHI0DlAJfNDyMmQBEyqO0CxyhAAwkXG5a7K0CwP643ZwovQBM3Q+UcXzFAbG47A41xM0BK0wH/QcM1QHD0LMLHWzhAoPoQpZBDO0AQofvqEIQ+QNBr2cLuE0FAKWQoQmcdQ0AOVMTOEmVFQHR/Xqlc8kdAkrUinJLNSkAAAAAAAABOQA==\"},\"shape\":[50],\"dtype\":\"float64\",\"order\":\"little\"}],[\"y\",{\"type\":\"ndarray\",\"array\":{\"type\":\"bytes\",\"data\":\"OAS7VboD8T84BLtVugPxPzgEu1W6A/E/OAS7VboD8T84BLtVugPxPzgEu1W6A/E/OAS7VboD8T84BLtVugPxPzgEu1W6A/E/OAS7VboD8T84BLtVugPxPzgEu1W6A/E/OAS7VboD8T84BLtVugPxPzgEu1W6A/E/OAS7VboD8T84BLtVugPxPzgEu1W6A/E/OAS7VboD8T84BLtVugPxPzgEu1W6A/E/OAS7VboD8T84BLtVugPxPzgEu1W6A/E/OAS7VboD8T84BLtVugPxPzgEu1W6A/E/OAS7VboD8T84BLtVugPxPzgEu1W6A/E/OAS7VboD8T84BLtVugPxPzgEu1W6A/E/OAS7VboD8T84BLtVugPxPzgEu1W6A/E/OAS7VboD8T84BLtVugPxPzgEu1W6A/E/OAS7VboD8T84BLtVugPxPzgEu1W6A/E/OAS7VboD8T84BLtVugPxPzgEu1W6A/E/OAS7VboD8T84BLtVugPxPzgEu1W6A/E/OAS7VboD8T84BLtVugPxPw==\"},\"shape\":[50],\"dtype\":\"float64\",\"order\":\"little\"}]]}}},\"view\":{\"type\":\"object\",\"name\":\"CDSView\",\"id\":\"p1385\",\"attributes\":{\"filter\":{\"type\":\"object\",\"name\":\"AllIndices\",\"id\":\"p1386\"}}},\"glyph\":{\"type\":\"object\",\"name\":\"Line\",\"id\":\"p1381\",\"attributes\":{\"x\":{\"type\":\"field\",\"field\":\"x\"},\"y\":{\"type\":\"field\",\"field\":\"y\"},\"line_color\":\"rgb(72, 209, 204)\",\"line_width\":2}},\"nonselection_glyph\":{\"type\":\"object\",\"name\":\"Line\",\"id\":\"p1382\",\"attributes\":{\"x\":{\"type\":\"field\",\"field\":\"x\"},\"y\":{\"type\":\"field\",\"field\":\"y\"},\"line_color\":\"rgb(72, 209, 204)\",\"line_alpha\":0.1,\"line_width\":2}},\"muted_glyph\":{\"type\":\"object\",\"name\":\"Line\",\"id\":\"p1383\",\"attributes\":{\"x\":{\"type\":\"field\",\"field\":\"x\"},\"y\":{\"type\":\"field\",\"field\":\"y\"},\"line_color\":\"rgb(72, 209, 204)\",\"line_alpha\":0.2,\"line_width\":2}}}},{\"type\":\"object\",\"name\":\"GlyphRenderer\",\"id\":\"p1395\",\"attributes\":{\"data_source\":{\"type\":\"object\",\"name\":\"ColumnDataSource\",\"id\":\"p1389\",\"attributes\":{\"selected\":{\"type\":\"object\",\"name\":\"Selection\",\"id\":\"p1390\",\"attributes\":{\"indices\":[],\"line_indices\":[]}},\"selection_policy\":{\"type\":\"object\",\"name\":\"UnionRenderers\",\"id\":\"p1391\"},\"data\":{\"type\":\"map\",\"entries\":[[\"x\",{\"type\":\"ndarray\",\"array\":{\"type\":\"bytes\",\"data\":\"uB6F61G4zj/4n8gLLTHRP4q2AHwiPtM/E+dhe7WJ1T/mlM3+XRvYPyzliAh4+9o//j/K214z3j9QFG+3xebgPwm4ej/b6uI/3+8/Wn8s5T+iMxiqCbPnP6PRygOyhuo/EbNhLKuw7T+xbMVjoJ3wP2fr9Wv8mPI/Ij01n9zQ9D+aSzfZeEz3P19F113lE/o/rx4xIy0w/T8E+Tyft1UAQFyAq+l/SAJAyGFveMZ2BEDa8hvqo+cGQIxgjIsJowlA5cg2MNuxDEBZDNYPBg8QQBkGM7tf+RFAF3qfMTYeFEBO/L9bg4QWQNuxwSYWNBlALmjT7Ks1HED2D3TlDJMfQCNNEP2VqyFAFHF6MyXHI0DlAJfNDyMmQBEyqO0CxyhAAwkXG5a7K0CwP643ZwovQBM3Q+UcXzFAbG47A41xM0BK0wH/QcM1QHD0LMLHWzhAoPoQpZBDO0AQofvqEIQ+QNBr2cLuE0FAKWQoQmcdQ0AOVMTOEmVFQHR/Xqlc8kdAkrUinJLNSkAAAAAAAABOQA==\"},\"shape\":[50],\"dtype\":\"float64\",\"order\":\"little\"}],[\"y\",{\"type\":\"ndarray\",\"array\":{\"type\":\"bytes\",\"data\":\"+G+Qt/SO4j/4b5C39I7iP/hvkLf0juI/+G+Qt/SO4j/4b5C39I7iP/hvkLf0juI/+G+Qt/SO4j/4b5C39I7iP/hvkLf0juI/+G+Qt/SO4j/4b5C39I7iP/hvkLf0juI/+G+Qt/SO4j/4b5C39I7iP/hvkLf0juI/+G+Qt/SO4j/4b5C39I7iP/hvkLf0juI/+G+Qt/SO4j/4b5C39I7iP/hvkLf0juI/+G+Qt/SO4j/4b5C39I7iP/hvkLf0juI/+G+Qt/SO4j/4b5C39I7iP/hvkLf0juI/+G+Qt/SO4j/4b5C39I7iP/hvkLf0juI/+G+Qt/SO4j/4b5C39I7iP/hvkLf0juI/+G+Qt/SO4j/4b5C39I7iP/hvkLf0juI/+G+Qt/SO4j/4b5C39I7iP/hvkLf0juI/+G+Qt/SO4j/4b5C39I7iP/hvkLf0juI/+G+Qt/SO4j/4b5C39I7iP/hvkLf0juI/+G+Qt/SO4j/4b5C39I7iP/hvkLf0juI/+G+Qt/SO4j/4b5C39I7iPw==\"},\"shape\":[50],\"dtype\":\"float64\",\"order\":\"little\"}]]}}},\"view\":{\"type\":\"object\",\"name\":\"CDSView\",\"id\":\"p1396\",\"attributes\":{\"filter\":{\"type\":\"object\",\"name\":\"AllIndices\",\"id\":\"p1397\"}}},\"glyph\":{\"type\":\"object\",\"name\":\"Line\",\"id\":\"p1392\",\"attributes\":{\"x\":{\"type\":\"field\",\"field\":\"x\"},\"y\":{\"type\":\"field\",\"field\":\"y\"},\"line_color\":\"rgb(255, 103, 0)\",\"line_width\":2}},\"nonselection_glyph\":{\"type\":\"object\",\"name\":\"Line\",\"id\":\"p1393\",\"attributes\":{\"x\":{\"type\":\"field\",\"field\":\"x\"},\"y\":{\"type\":\"field\",\"field\":\"y\"},\"line_color\":\"rgb(255, 103, 0)\",\"line_alpha\":0.1,\"line_width\":2}},\"muted_glyph\":{\"type\":\"object\",\"name\":\"Line\",\"id\":\"p1394\",\"attributes\":{\"x\":{\"type\":\"field\",\"field\":\"x\"},\"y\":{\"type\":\"field\",\"field\":\"y\"},\"line_color\":\"rgb(255, 103, 0)\",\"line_alpha\":0.2,\"line_width\":2}}}},{\"type\":\"object\",\"name\":\"GlyphRenderer\",\"id\":\"p1405\",\"attributes\":{\"data_source\":{\"type\":\"object\",\"name\":\"ColumnDataSource\",\"id\":\"p1399\",\"attributes\":{\"selected\":{\"type\":\"object\",\"name\":\"Selection\",\"id\":\"p1400\",\"attributes\":{\"indices\":[],\"line_indices\":[]}},\"selection_policy\":{\"type\":\"object\",\"name\":\"UnionRenderers\",\"id\":\"p1401\"},\"data\":{\"type\":\"map\",\"entries\":[[\"x\",{\"type\":\"ndarray\",\"array\":{\"type\":\"bytes\",\"data\":\"uB6F61G4zj/4n8gLLTHRP4q2AHwiPtM/E+dhe7WJ1T/mlM3+XRvYPyzliAh4+9o//j/K214z3j9QFG+3xebgPwm4ej/b6uI/3+8/Wn8s5T+iMxiqCbPnP6PRygOyhuo/EbNhLKuw7T+xbMVjoJ3wP2fr9Wv8mPI/Ij01n9zQ9D+aSzfZeEz3P19F113lE/o/rx4xIy0w/T8E+Tyft1UAQFyAq+l/SAJAyGFveMZ2BEDa8hvqo+cGQIxgjIsJowlA5cg2MNuxDEBZDNYPBg8QQBkGM7tf+RFAF3qfMTYeFEBO/L9bg4QWQNuxwSYWNBlALmjT7Ks1HED2D3TlDJMfQCNNEP2VqyFAFHF6MyXHI0DlAJfNDyMmQBEyqO0CxyhAAwkXG5a7K0CwP643ZwovQBM3Q+UcXzFAbG47A41xM0BK0wH/QcM1QHD0LMLHWzhAoPoQpZBDO0AQofvqEIQ+QNBr2cLuE0FAKWQoQmcdQ0AOVMTOEmVFQHR/Xqlc8kdAkrUinJLNSkAAAAAAAABOQA==\"},\"shape\":[50],\"dtype\":\"float64\",\"order\":\"little\"}],[\"y\",{\"type\":\"ndarray\",\"array\":{\"type\":\"bytes\",\"data\":\"9A3xkxfi0j/YqgI3KovSPwnmxCLePNI/B9Cw5mH20T+fhSYU97bRP/V6k6/wfdE/VAU9trFK0T/kOV6+qxzRP0btQ7Nd89A/kALurFLO0D+eNtbhIK3QP/dX27Boj9A/t239wNN00D+ep0A1FF3QP0PLnfLjR9A/ND6i9gM10D/55D+9OyTQP/6Ai7RYFdA/RJ+/vS0I0D9/i0F0JfnPP7+0ckfI5M8/K7O3YAXTzz9Zhcn+pcPPP5tgqaF6ts8/3DbVi1qrzz/5uSlWI6LPP/g195O4ms8/oUgviQOVzz/kkLLx8pDPPwlooth6js8/sp0XgpSNzz+/VutkPo7PP2RglDl8kM8/7nFeF1eUzz/r64Gt3ZnPP7sET44koc8/KtN+kkaqzz+UrHNeZbXPPzOaMQWqws8/83O1zEXSzz8shEIkc+TPP3wdAtB2+c8/NXZeotAI0D/wRRsuqBbQP7lcd654JtA/Apqvs4E40D9Ao381DU3QP9Ohel5xZNA/vw/ctxJ/0D8BpbTRZp3QPw==\"},\"shape\":[50],\"dtype\":\"float64\",\"order\":\"little\"}]]}}},\"view\":{\"type\":\"object\",\"name\":\"CDSView\",\"id\":\"p1406\",\"attributes\":{\"filter\":{\"type\":\"object\",\"name\":\"AllIndices\",\"id\":\"p1407\"}}},\"glyph\":{\"type\":\"object\",\"name\":\"Line\",\"id\":\"p1402\",\"attributes\":{\"x\":{\"type\":\"field\",\"field\":\"x\"},\"y\":{\"type\":\"field\",\"field\":\"y\"},\"line_color\":\"rgb(222, 49, 99)\",\"line_width\":2}},\"nonselection_glyph\":{\"type\":\"object\",\"name\":\"Line\",\"id\":\"p1403\",\"attributes\":{\"x\":{\"type\":\"field\",\"field\":\"x\"},\"y\":{\"type\":\"field\",\"field\":\"y\"},\"line_color\":\"rgb(222, 49, 99)\",\"line_alpha\":0.1,\"line_width\":2}},\"muted_glyph\":{\"type\":\"object\",\"name\":\"Line\",\"id\":\"p1404\",\"attributes\":{\"x\":{\"type\":\"field\",\"field\":\"x\"},\"y\":{\"type\":\"field\",\"field\":\"y\"},\"line_color\":\"rgb(222, 49, 99)\",\"line_alpha\":0.2,\"line_width\":2}}}}],\"toolbar\":{\"type\":\"object\",\"name\":\"Toolbar\",\"id\":\"p1342\",\"attributes\":{\"tools\":[{\"type\":\"object\",\"name\":\"BoxZoomTool\",\"id\":\"p1357\",\"attributes\":{\"overlay\":{\"type\":\"object\",\"name\":\"BoxAnnotation\",\"id\":\"p1358\",\"attributes\":{\"syncable\":false,\"level\":\"overlay\",\"visible\":false,\"left\":{\"type\":\"number\",\"value\":\"nan\"},\"right\":{\"type\":\"number\",\"value\":\"nan\"},\"top\":{\"type\":\"number\",\"value\":\"nan\"},\"bottom\":{\"type\":\"number\",\"value\":\"nan\"},\"left_units\":\"canvas\",\"right_units\":\"canvas\",\"top_units\":\"canvas\",\"bottom_units\":\"canvas\",\"line_color\":\"black\",\"line_alpha\":1.0,\"line_width\":2,\"line_dash\":[4,4],\"fill_color\":\"lightgrey\",\"fill_alpha\":0.5}}}},{\"type\":\"object\",\"name\":\"PanTool\",\"id\":\"p1363\"},{\"type\":\"object\",\"name\":\"HoverTool\",\"id\":\"p1364\",\"attributes\":{\"renderers\":\"auto\"}},{\"type\":\"object\",\"name\":\"ResetTool\",\"id\":\"p1365\"},{\"type\":\"object\",\"name\":\"SaveTool\",\"id\":\"p1366\"}]}},\"left\":[{\"type\":\"object\",\"name\":\"LinearAxis\",\"id\":\"p1352\",\"attributes\":{\"ticker\":{\"type\":\"object\",\"name\":\"BasicTicker\",\"id\":\"p1353\",\"attributes\":{\"mantissas\":[1,2,5]}},\"formatter\":{\"type\":\"object\",\"name\":\"BasicTickFormatter\",\"id\":\"p1354\"},\"axis_label\":\"Rel. growth rate after mutation\",\"axis_label_text_font_size\":\"8pt\",\"major_label_policy\":{\"type\":\"object\",\"name\":\"AllLabels\",\"id\":\"p1355\"},\"major_label_text_font_size\":\"8pt\"}}],\"below\":[{\"type\":\"object\",\"name\":\"LogAxis\",\"id\":\"p1347\",\"attributes\":{\"ticker\":{\"type\":\"object\",\"name\":\"LogTicker\",\"id\":\"p1409\",\"attributes\":{\"desired_num_ticks\":5,\"mantissas\":[1,5]}},\"formatter\":{\"type\":\"object\",\"name\":\"LogTickFormatter\",\"id\":\"p1349\"},\"axis_label\":\"kcatyz (cat RBS:ribosome \\n dissoc. rate), 1/(nM*h)\",\"axis_label_text_font_size\":\"8pt\",\"major_label_policy\":{\"type\":\"object\",\"name\":\"AllLabels\",\"id\":\"p1350\"},\"major_label_text_font_size\":\"8pt\"}}],\"center\":[{\"type\":\"object\",\"name\":\"Grid\",\"id\":\"p1351\",\"attributes\":{\"axis\":{\"id\":\"p1347\"}}},{\"type\":\"object\",\"name\":\"Grid\",\"id\":\"p1356\",\"attributes\":{\"dimension\":1,\"axis\":{\"id\":\"p1352\"}}},{\"type\":\"object\",\"name\":\"BoxAnnotation\",\"id\":\"p1367\",\"attributes\":{\"left\":0.24,\"right\":0.6616818201723581,\"top\":{\"type\":\"object\",\"name\":\"Node\",\"id\":\"p1370\",\"attributes\":{\"target\":\"frame\",\"symbol\":\"top\"}},\"bottom\":{\"type\":\"object\",\"name\":\"Node\",\"id\":\"p1371\",\"attributes\":{\"target\":\"frame\",\"symbol\":\"bottom\"}},\"fill_color\":\"gray\",\"fill_alpha\":0.1}},{\"type\":\"object\",\"name\":\"BoxAnnotation\",\"id\":\"p1372\",\"attributes\":{\"left\":1.6298574128780599,\"right\":60.0,\"top\":{\"type\":\"object\",\"name\":\"Node\",\"id\":\"p1375\",\"attributes\":{\"target\":\"frame\",\"symbol\":\"top\"}},\"bottom\":{\"type\":\"object\",\"name\":\"Node\",\"id\":\"p1376\",\"attributes\":{\"target\":\"frame\",\"symbol\":\"bottom\"}},\"fill_color\":\"gray\",\"fill_alpha\":0.1}},{\"type\":\"object\",\"name\":\"Span\",\"id\":\"p1377\",\"attributes\":{\"location\":1,\"line_width\":2,\"line_dash\":[6]}},{\"type\":\"object\",\"name\":\"Legend\",\"id\":\"p1387\",\"attributes\":{\"location\":\"right\",\"background_fill_alpha\":1,\"label_text_font_size\":\"8pt\",\"items\":[{\"type\":\"object\",\"name\":\"LegendItem\",\"id\":\"p1388\",\"attributes\":{\"label\":{\"type\":\"value\",\"value\":\"Toggles only\"},\"renderers\":[{\"id\":\"p1384\"}]}},{\"type\":\"object\",\"name\":\"LegendItem\",\"id\":\"p1398\",\"attributes\":{\"label\":{\"type\":\"value\",\"value\":\"Punisher\"},\"renderers\":[{\"id\":\"p1395\"}]}},{\"type\":\"object\",\"name\":\"LegendItem\",\"id\":\"p1408\",\"attributes\":{\"label\":{\"type\":\"value\",\"value\":\"Co-expression\"},\"renderers\":[{\"id\":\"p1405\"}]}}]}}],\"frame_width\":160,\"frame_height\":160,\"output_backend\":\"svg\"}}]}};\n  const render_items = [{\"docid\":\"dafdb002-9de0-439b-b0f3-0e953e64aad5\",\"roots\":{\"p1333\":\"ecfb1541-5644-41ff-8e6d-5f6d0df0e0e3\"},\"root_ids\":[\"p1333\"]}];\n  void root.Bokeh.embed.embed_items_notebook(docs_json, render_items);\n  }\n  if (root.Bokeh !== undefined) {\n    embed_document(root);\n  } else {\n    let attempts = 0;\n    const timer = setInterval(function(root) {\n      if (root.Bokeh !== undefined) {\n        clearInterval(timer);\n        embed_document(root);\n      } else {\n        attempts++;\n        if (attempts > 100) {\n          clearInterval(timer);\n          console.log(\"Bokeh: ERROR: Unable to run BokehJS code because BokehJS library is missing\");\n        }\n      }\n    }, 10, root)\n  }\n})(window);",
      "application/vnd.bokehjs_exec.v0+json": ""
     },
     "metadata": {
      "application/vnd.bokehjs_exec.v0+json": {
       "id": "p1333"
      }
     },
     "output_type": "display_data"
    }
   ],
   "execution_count": 18
  },
  {
   "metadata": {
    "ExecuteTime": {
     "end_time": "2024-09-25T15:03:29.313587Z",
     "start_time": "2024-09-25T15:03:29.258089Z"
    }
   },
   "cell_type": "code",
   "source": [
    "# FIGURE 4B - summary of relative growth rates\n",
    "\n",
    "mutation_combinations=['tog11 mutated','tog11 and tog21\\nmutated','tog11 and tog12\\nmutated','tog11, tog12 and\\ntog21 mutated','all toggle\\ngenes mutated']\n",
    "configs=['Toggles only','Punisher','Co-expression (min)']\n",
    "\n",
    "# fruits = ['Apples', 'Pears', 'Nectarines', 'Plums', 'Grapes', 'Strawberries']\n",
    "# years = ['Toggles only', 'Punisher', 'Co-expression (min)']\n",
    "\n",
    "# data = {'fruits' : fruits,\n",
    "#         '2015'   : [2, 1, 4, 3, 2, 4],\n",
    "#         '2016'   : [5, 3, 3, 2, 4, 6],\n",
    "#         '2017'   : [3, 2, 4, 4, 5, 3]}\n",
    "\n",
    "data={'mutations': mutation_combinations,\n",
    "      'Toggles only': [l_only_halfmut / l_only_nomut, l_only_twohalfmut / l_only_nomut, l_only_onemut / l_only_nomut, l_only_oneandhalfmut / l_only_nomut, l_only_allmut / l_only_nomut],\n",
    "      'Punisher': [l_pun_halfmut / l_pun_nomut, l_pun_twohalfmut / l_pun_nomut, l_pun_onemut / l_pun_nomut, l_pun_oneandhalfmut / l_pun_nomut, l_pun_allmut / l_pun_nomut],\n",
    "      'Co-expression (min)': [min(ls_add_halfmut/ls_add_nomut), min(ls_add_twohalfmut/ls_add_nomut), min(ls_add_onemut/ls_add_nomut), min(ls_add_oneandhalfmut/ls_add_nomut), min(ls_add_allmut/ls_add_nomut)],\n",
    "      'Co-expression (max)': [max(ls_add_halfmut/ls_add_nomut), max(ls_add_twohalfmut/ls_add_nomut), max(ls_add_onemut/ls_add_nomut), max(ls_add_oneandhalfmut/ls_add_nomut), max(ls_add_allmut/ls_add_nomut)]}\n",
    "\n",
    "\n",
    "source = bkmodels.ColumnDataSource(data=data)\n",
    "\n",
    "alt_fig= bkplot.figure(\n",
    "    frame_width=560,\n",
    "    frame_height=240,\n",
    "    x_axis_label=\"Relative growth rate after mutation\",\n",
    "    y_range=mutation_combinations,\n",
    "    x_range=(0.2,1.3),\n",
    "    tools=\"box_zoom,pan,hover,reset,save\"\n",
    ")\n",
    "alt_fig.output_backend = \"svg\"\n",
    "\n",
    "alt_fig.hbar(y=bktransform.dodge('mutations', 0.25, range=alt_fig.y_range), right='Toggles only', source=source,\n",
    "       height=0.2, color=bkRGB(72, 209, 204), legend_label='Toggles only')\n",
    "\n",
    "alt_fig.hbar(y=bktransform.dodge('mutations',  0.0,  range=alt_fig.y_range), right='Punisher', source=source,\n",
    "       height=0.2, color=bkRGB(255, 103, 0), legend_label='Punisher')\n",
    "\n",
    "alt_fig.hbar(y=bktransform.dodge('mutations',  -0.25, range=alt_fig.y_range), right='Co-expression (min)', source=source,\n",
    "       height=0.2, color=bkRGB(222, 49, 99), legend_label=\"Co-expression (min)\")\n",
    "\n",
    "alt_fig.hbar(y=bktransform.dodge('mutations',  -0.25, range=alt_fig.y_range), left='Co-expression (min)', right='Co-expression (max)', source=source,\n",
    "       height=0.2, hatch_color=bkRGB(222, 49, 99), hatch_pattern='left_diagonal_line', fill_alpha=0, line_color=bkRGB(222, 49, 99),\n",
    "        legend_label=\"Co-expression (max)\")\n",
    "\n",
    "# add a span at 1\n",
    "alt_fig.add_layout(bkmodels.Span(location=1, dimension='height', line_color='black', line_width=1.5, line_dash='dashed'))\n",
    "\n",
    "# bar settings\n",
    "alt_fig.y_range.range_padding = 0.2\n",
    "alt_fig.ygrid.grid_line_color = None\n",
    "\n",
    "# axis fonts\n",
    "alt_fig.xaxis.axis_label_text_font_size = font_size\n",
    "alt_fig.yaxis.axis_label_text_font_size = font_size\n",
    "alt_fig.xaxis.major_label_text_font_size = font_size\n",
    "alt_fig.yaxis.major_label_text_font_size = font_size\n",
    "\n",
    "# legend settings\n",
    "alt_fig.legend.location = \"bottom_right\"\n",
    "alt_fig.legend.label_text_font_size = font_size\n",
    "alt_fig.legend.background_fill_alpha = 1\n",
    "alt_fig.legend.padding = 2\n",
    "alt_fig.legend.spacing = 1\n",
    "alt_fig.legend.margin = 3\n",
    "\n",
    "bkplot.show(alt_fig)"
   ],
   "id": "d45c88fe3381f762",
   "outputs": [
    {
     "data": {
      "text/html": [
       "\n",
       "  <div id=\"e36b98eb-a5c5-4891-ba53-aca633444179\" data-root-id=\"p1419\" style=\"display: contents;\"></div>\n"
      ]
     },
     "metadata": {},
     "output_type": "display_data"
    },
    {
     "data": {
      "application/javascript": "(function(root) {\n  function embed_document(root) {\n  const docs_json = {\"37ec1670-675e-4a38-a9b4-9f4606008d9a\":{\"version\":\"3.4.0\",\"title\":\"Bokeh Application\",\"roots\":[{\"type\":\"object\",\"name\":\"Figure\",\"id\":\"p1419\",\"attributes\":{\"x_range\":{\"type\":\"object\",\"name\":\"Range1d\",\"id\":\"p1428\",\"attributes\":{\"start\":0.2,\"end\":1.3}},\"y_range\":{\"type\":\"object\",\"name\":\"FactorRange\",\"id\":\"p1429\",\"attributes\":{\"factors\":[\"tog11 mutated\",\"tog11 and tog21\\nmutated\",\"tog11 and tog12\\nmutated\",\"tog11, tog12 and\\ntog21 mutated\",\"all toggle\\ngenes mutated\"],\"range_padding\":0.2}},\"x_scale\":{\"type\":\"object\",\"name\":\"LinearScale\",\"id\":\"p1430\"},\"y_scale\":{\"type\":\"object\",\"name\":\"CategoricalScale\",\"id\":\"p1431\"},\"title\":{\"type\":\"object\",\"name\":\"Title\",\"id\":\"p1426\"},\"renderers\":[{\"type\":\"object\",\"name\":\"GlyphRenderer\",\"id\":\"p1459\",\"attributes\":{\"data_source\":{\"type\":\"object\",\"name\":\"ColumnDataSource\",\"id\":\"p1416\",\"attributes\":{\"selected\":{\"type\":\"object\",\"name\":\"Selection\",\"id\":\"p1417\",\"attributes\":{\"indices\":[],\"line_indices\":[]}},\"selection_policy\":{\"type\":\"object\",\"name\":\"UnionRenderers\",\"id\":\"p1418\"},\"data\":{\"type\":\"map\",\"entries\":[[\"mutations\",[\"tog11 mutated\",\"tog11 and tog21\\nmutated\",\"tog11 and tog12\\nmutated\",\"tog11, tog12 and\\ntog21 mutated\",\"all toggle\\ngenes mutated\"]],[\"Toggles only\",[0.961828956736417,0.9286758675859117,1.0318229571920676,0.9914866407274691,1.0634101246689749]],[\"Punisher\",[0.9626588243425817,0.9301586717895729,0.5808909056461563,0.9925878293379599,0.5799506745565841]],[\"Co-expression (min)\",[0.9330863156474909,0.8810817158268363,0.8883095095969483,0.9910651859464339,0.24650818206940311]],[\"Co-expression (max)\",[1.0256093847620469,1.0256162003266893,1.0673975798266278,1.0006838709972055,0.295049566721189]]]}}},\"view\":{\"type\":\"object\",\"name\":\"CDSView\",\"id\":\"p1460\",\"attributes\":{\"filter\":{\"type\":\"object\",\"name\":\"AllIndices\",\"id\":\"p1461\"}}},\"glyph\":{\"type\":\"object\",\"name\":\"HBar\",\"id\":\"p1456\",\"attributes\":{\"y\":{\"type\":\"field\",\"field\":\"mutations\",\"transform\":{\"type\":\"object\",\"name\":\"Dodge\",\"id\":\"p1452\",\"attributes\":{\"value\":0.25,\"range\":{\"id\":\"p1429\"}}}},\"height\":{\"type\":\"value\",\"value\":0.2},\"right\":{\"type\":\"field\",\"field\":\"Toggles only\"},\"line_color\":{\"type\":\"value\",\"value\":\"rgb(72, 209, 204)\"},\"fill_color\":{\"type\":\"value\",\"value\":\"rgb(72, 209, 204)\"},\"hatch_color\":{\"type\":\"value\",\"value\":\"rgb(72, 209, 204)\"}}},\"nonselection_glyph\":{\"type\":\"object\",\"name\":\"HBar\",\"id\":\"p1457\",\"attributes\":{\"y\":{\"type\":\"field\",\"field\":\"mutations\",\"transform\":{\"id\":\"p1452\"}},\"height\":{\"type\":\"value\",\"value\":0.2},\"right\":{\"type\":\"field\",\"field\":\"Toggles only\"},\"line_color\":{\"type\":\"value\",\"value\":\"rgb(72, 209, 204)\"},\"line_alpha\":{\"type\":\"value\",\"value\":0.1},\"fill_color\":{\"type\":\"value\",\"value\":\"rgb(72, 209, 204)\"},\"fill_alpha\":{\"type\":\"value\",\"value\":0.1},\"hatch_color\":{\"type\":\"value\",\"value\":\"rgb(72, 209, 204)\"},\"hatch_alpha\":{\"type\":\"value\",\"value\":0.1}}},\"muted_glyph\":{\"type\":\"object\",\"name\":\"HBar\",\"id\":\"p1458\",\"attributes\":{\"y\":{\"type\":\"field\",\"field\":\"mutations\",\"transform\":{\"id\":\"p1452\"}},\"height\":{\"type\":\"value\",\"value\":0.2},\"right\":{\"type\":\"field\",\"field\":\"Toggles only\"},\"line_color\":{\"type\":\"value\",\"value\":\"rgb(72, 209, 204)\"},\"line_alpha\":{\"type\":\"value\",\"value\":0.2},\"fill_color\":{\"type\":\"value\",\"value\":\"rgb(72, 209, 204)\"},\"fill_alpha\":{\"type\":\"value\",\"value\":0.2},\"hatch_color\":{\"type\":\"value\",\"value\":\"rgb(72, 209, 204)\"},\"hatch_alpha\":{\"type\":\"value\",\"value\":0.2}}}}},{\"type\":\"object\",\"name\":\"GlyphRenderer\",\"id\":\"p1471\",\"attributes\":{\"data_source\":{\"id\":\"p1416\"},\"view\":{\"type\":\"object\",\"name\":\"CDSView\",\"id\":\"p1472\",\"attributes\":{\"filter\":{\"type\":\"object\",\"name\":\"AllIndices\",\"id\":\"p1473\"}}},\"glyph\":{\"type\":\"object\",\"name\":\"HBar\",\"id\":\"p1468\",\"attributes\":{\"y\":{\"type\":\"field\",\"field\":\"mutations\",\"transform\":{\"type\":\"object\",\"name\":\"Dodge\",\"id\":\"p1464\",\"attributes\":{\"range\":{\"id\":\"p1429\"}}}},\"height\":{\"type\":\"value\",\"value\":0.2},\"right\":{\"type\":\"field\",\"field\":\"Punisher\"},\"line_color\":{\"type\":\"value\",\"value\":\"rgb(255, 103, 0)\"},\"fill_color\":{\"type\":\"value\",\"value\":\"rgb(255, 103, 0)\"},\"hatch_color\":{\"type\":\"value\",\"value\":\"rgb(255, 103, 0)\"}}},\"nonselection_glyph\":{\"type\":\"object\",\"name\":\"HBar\",\"id\":\"p1469\",\"attributes\":{\"y\":{\"type\":\"field\",\"field\":\"mutations\",\"transform\":{\"id\":\"p1464\"}},\"height\":{\"type\":\"value\",\"value\":0.2},\"right\":{\"type\":\"field\",\"field\":\"Punisher\"},\"line_color\":{\"type\":\"value\",\"value\":\"rgb(255, 103, 0)\"},\"line_alpha\":{\"type\":\"value\",\"value\":0.1},\"fill_color\":{\"type\":\"value\",\"value\":\"rgb(255, 103, 0)\"},\"fill_alpha\":{\"type\":\"value\",\"value\":0.1},\"hatch_color\":{\"type\":\"value\",\"value\":\"rgb(255, 103, 0)\"},\"hatch_alpha\":{\"type\":\"value\",\"value\":0.1}}},\"muted_glyph\":{\"type\":\"object\",\"name\":\"HBar\",\"id\":\"p1470\",\"attributes\":{\"y\":{\"type\":\"field\",\"field\":\"mutations\",\"transform\":{\"id\":\"p1464\"}},\"height\":{\"type\":\"value\",\"value\":0.2},\"right\":{\"type\":\"field\",\"field\":\"Punisher\"},\"line_color\":{\"type\":\"value\",\"value\":\"rgb(255, 103, 0)\"},\"line_alpha\":{\"type\":\"value\",\"value\":0.2},\"fill_color\":{\"type\":\"value\",\"value\":\"rgb(255, 103, 0)\"},\"fill_alpha\":{\"type\":\"value\",\"value\":0.2},\"hatch_color\":{\"type\":\"value\",\"value\":\"rgb(255, 103, 0)\"},\"hatch_alpha\":{\"type\":\"value\",\"value\":0.2}}}}},{\"type\":\"object\",\"name\":\"GlyphRenderer\",\"id\":\"p1482\",\"attributes\":{\"data_source\":{\"id\":\"p1416\"},\"view\":{\"type\":\"object\",\"name\":\"CDSView\",\"id\":\"p1483\",\"attributes\":{\"filter\":{\"type\":\"object\",\"name\":\"AllIndices\",\"id\":\"p1484\"}}},\"glyph\":{\"type\":\"object\",\"name\":\"HBar\",\"id\":\"p1479\",\"attributes\":{\"y\":{\"type\":\"field\",\"field\":\"mutations\",\"transform\":{\"type\":\"object\",\"name\":\"Dodge\",\"id\":\"p1475\",\"attributes\":{\"value\":-0.25,\"range\":{\"id\":\"p1429\"}}}},\"height\":{\"type\":\"value\",\"value\":0.2},\"right\":{\"type\":\"field\",\"field\":\"Co-expression (min)\"},\"line_color\":{\"type\":\"value\",\"value\":\"rgb(222, 49, 99)\"},\"fill_color\":{\"type\":\"value\",\"value\":\"rgb(222, 49, 99)\"},\"hatch_color\":{\"type\":\"value\",\"value\":\"rgb(222, 49, 99)\"}}},\"nonselection_glyph\":{\"type\":\"object\",\"name\":\"HBar\",\"id\":\"p1480\",\"attributes\":{\"y\":{\"type\":\"field\",\"field\":\"mutations\",\"transform\":{\"id\":\"p1475\"}},\"height\":{\"type\":\"value\",\"value\":0.2},\"right\":{\"type\":\"field\",\"field\":\"Co-expression (min)\"},\"line_color\":{\"type\":\"value\",\"value\":\"rgb(222, 49, 99)\"},\"line_alpha\":{\"type\":\"value\",\"value\":0.1},\"fill_color\":{\"type\":\"value\",\"value\":\"rgb(222, 49, 99)\"},\"fill_alpha\":{\"type\":\"value\",\"value\":0.1},\"hatch_color\":{\"type\":\"value\",\"value\":\"rgb(222, 49, 99)\"},\"hatch_alpha\":{\"type\":\"value\",\"value\":0.1}}},\"muted_glyph\":{\"type\":\"object\",\"name\":\"HBar\",\"id\":\"p1481\",\"attributes\":{\"y\":{\"type\":\"field\",\"field\":\"mutations\",\"transform\":{\"id\":\"p1475\"}},\"height\":{\"type\":\"value\",\"value\":0.2},\"right\":{\"type\":\"field\",\"field\":\"Co-expression (min)\"},\"line_color\":{\"type\":\"value\",\"value\":\"rgb(222, 49, 99)\"},\"line_alpha\":{\"type\":\"value\",\"value\":0.2},\"fill_color\":{\"type\":\"value\",\"value\":\"rgb(222, 49, 99)\"},\"fill_alpha\":{\"type\":\"value\",\"value\":0.2},\"hatch_color\":{\"type\":\"value\",\"value\":\"rgb(222, 49, 99)\"},\"hatch_alpha\":{\"type\":\"value\",\"value\":0.2}}}}},{\"type\":\"object\",\"name\":\"GlyphRenderer\",\"id\":\"p1493\",\"attributes\":{\"data_source\":{\"id\":\"p1416\"},\"view\":{\"type\":\"object\",\"name\":\"CDSView\",\"id\":\"p1494\",\"attributes\":{\"filter\":{\"type\":\"object\",\"name\":\"AllIndices\",\"id\":\"p1495\"}}},\"glyph\":{\"type\":\"object\",\"name\":\"HBar\",\"id\":\"p1490\",\"attributes\":{\"y\":{\"type\":\"field\",\"field\":\"mutations\",\"transform\":{\"type\":\"object\",\"name\":\"Dodge\",\"id\":\"p1486\",\"attributes\":{\"value\":-0.25,\"range\":{\"id\":\"p1429\"}}}},\"height\":{\"type\":\"value\",\"value\":0.2},\"left\":{\"type\":\"field\",\"field\":\"Co-expression (min)\"},\"right\":{\"type\":\"field\",\"field\":\"Co-expression (max)\"},\"line_color\":{\"type\":\"value\",\"value\":\"rgb(222, 49, 99)\"},\"fill_color\":{\"type\":\"value\",\"value\":\"#1f77b4\"},\"fill_alpha\":{\"type\":\"value\",\"value\":0},\"hatch_color\":{\"type\":\"value\",\"value\":\"rgb(222, 49, 99)\"},\"hatch_pattern\":{\"type\":\"value\",\"value\":\"left_diagonal_line\"}}},\"nonselection_glyph\":{\"type\":\"object\",\"name\":\"HBar\",\"id\":\"p1491\",\"attributes\":{\"y\":{\"type\":\"field\",\"field\":\"mutations\",\"transform\":{\"id\":\"p1486\"}},\"height\":{\"type\":\"value\",\"value\":0.2},\"left\":{\"type\":\"field\",\"field\":\"Co-expression (min)\"},\"right\":{\"type\":\"field\",\"field\":\"Co-expression (max)\"},\"line_color\":{\"type\":\"value\",\"value\":\"rgb(222, 49, 99)\"},\"line_alpha\":{\"type\":\"value\",\"value\":0.1},\"fill_color\":{\"type\":\"value\",\"value\":\"#1f77b4\"},\"fill_alpha\":{\"type\":\"value\",\"value\":0.1},\"hatch_color\":{\"type\":\"value\",\"value\":\"rgb(222, 49, 99)\"},\"hatch_alpha\":{\"type\":\"value\",\"value\":0.1},\"hatch_pattern\":{\"type\":\"value\",\"value\":\"left_diagonal_line\"}}},\"muted_glyph\":{\"type\":\"object\",\"name\":\"HBar\",\"id\":\"p1492\",\"attributes\":{\"y\":{\"type\":\"field\",\"field\":\"mutations\",\"transform\":{\"id\":\"p1486\"}},\"height\":{\"type\":\"value\",\"value\":0.2},\"left\":{\"type\":\"field\",\"field\":\"Co-expression (min)\"},\"right\":{\"type\":\"field\",\"field\":\"Co-expression (max)\"},\"line_color\":{\"type\":\"value\",\"value\":\"rgb(222, 49, 99)\"},\"line_alpha\":{\"type\":\"value\",\"value\":0.2},\"fill_color\":{\"type\":\"value\",\"value\":\"#1f77b4\"},\"fill_alpha\":{\"type\":\"value\",\"value\":0.2},\"hatch_color\":{\"type\":\"value\",\"value\":\"rgb(222, 49, 99)\"},\"hatch_alpha\":{\"type\":\"value\",\"value\":0.2},\"hatch_pattern\":{\"type\":\"value\",\"value\":\"left_diagonal_line\"}}}}}],\"toolbar\":{\"type\":\"object\",\"name\":\"Toolbar\",\"id\":\"p1427\",\"attributes\":{\"tools\":[{\"type\":\"object\",\"name\":\"BoxZoomTool\",\"id\":\"p1442\",\"attributes\":{\"overlay\":{\"type\":\"object\",\"name\":\"BoxAnnotation\",\"id\":\"p1443\",\"attributes\":{\"syncable\":false,\"level\":\"overlay\",\"visible\":false,\"left\":{\"type\":\"number\",\"value\":\"nan\"},\"right\":{\"type\":\"number\",\"value\":\"nan\"},\"top\":{\"type\":\"number\",\"value\":\"nan\"},\"bottom\":{\"type\":\"number\",\"value\":\"nan\"},\"left_units\":\"canvas\",\"right_units\":\"canvas\",\"top_units\":\"canvas\",\"bottom_units\":\"canvas\",\"line_color\":\"black\",\"line_alpha\":1.0,\"line_width\":2,\"line_dash\":[4,4],\"fill_color\":\"lightgrey\",\"fill_alpha\":0.5}}}},{\"type\":\"object\",\"name\":\"PanTool\",\"id\":\"p1448\"},{\"type\":\"object\",\"name\":\"HoverTool\",\"id\":\"p1449\",\"attributes\":{\"renderers\":\"auto\"}},{\"type\":\"object\",\"name\":\"ResetTool\",\"id\":\"p1450\"},{\"type\":\"object\",\"name\":\"SaveTool\",\"id\":\"p1451\"}]}},\"left\":[{\"type\":\"object\",\"name\":\"CategoricalAxis\",\"id\":\"p1437\",\"attributes\":{\"ticker\":{\"type\":\"object\",\"name\":\"CategoricalTicker\",\"id\":\"p1438\"},\"formatter\":{\"type\":\"object\",\"name\":\"CategoricalTickFormatter\",\"id\":\"p1439\"},\"axis_label_text_font_size\":\"8pt\",\"major_label_policy\":{\"type\":\"object\",\"name\":\"AllLabels\",\"id\":\"p1440\"},\"major_label_text_font_size\":\"8pt\"}}],\"below\":[{\"type\":\"object\",\"name\":\"LinearAxis\",\"id\":\"p1432\",\"attributes\":{\"ticker\":{\"type\":\"object\",\"name\":\"BasicTicker\",\"id\":\"p1433\",\"attributes\":{\"mantissas\":[1,2,5]}},\"formatter\":{\"type\":\"object\",\"name\":\"BasicTickFormatter\",\"id\":\"p1434\"},\"axis_label\":\"Relative growth rate after mutation\",\"axis_label_text_font_size\":\"8pt\",\"major_label_policy\":{\"type\":\"object\",\"name\":\"AllLabels\",\"id\":\"p1435\"},\"major_label_text_font_size\":\"8pt\"}}],\"center\":[{\"type\":\"object\",\"name\":\"Grid\",\"id\":\"p1436\",\"attributes\":{\"axis\":{\"id\":\"p1432\"}}},{\"type\":\"object\",\"name\":\"Grid\",\"id\":\"p1441\",\"attributes\":{\"dimension\":1,\"axis\":{\"id\":\"p1437\"},\"grid_line_color\":null}},{\"type\":\"object\",\"name\":\"Legend\",\"id\":\"p1462\",\"attributes\":{\"location\":\"bottom_right\",\"background_fill_alpha\":1,\"label_text_font_size\":\"8pt\",\"margin\":3,\"padding\":2,\"spacing\":1,\"items\":[{\"type\":\"object\",\"name\":\"LegendItem\",\"id\":\"p1463\",\"attributes\":{\"label\":{\"type\":\"value\",\"value\":\"Toggles only\"},\"renderers\":[{\"id\":\"p1459\"}]}},{\"type\":\"object\",\"name\":\"LegendItem\",\"id\":\"p1474\",\"attributes\":{\"label\":{\"type\":\"value\",\"value\":\"Punisher\"},\"renderers\":[{\"id\":\"p1471\"}]}},{\"type\":\"object\",\"name\":\"LegendItem\",\"id\":\"p1485\",\"attributes\":{\"label\":{\"type\":\"value\",\"value\":\"Co-expression (min)\"},\"renderers\":[{\"id\":\"p1482\"}]}},{\"type\":\"object\",\"name\":\"LegendItem\",\"id\":\"p1496\",\"attributes\":{\"label\":{\"type\":\"value\",\"value\":\"Co-expression (max)\"},\"renderers\":[{\"id\":\"p1493\"}]}}]}},{\"type\":\"object\",\"name\":\"Span\",\"id\":\"p1497\",\"attributes\":{\"location\":1,\"dimension\":\"height\",\"line_width\":1.5,\"line_dash\":[6]}}],\"frame_width\":560,\"frame_height\":240,\"output_backend\":\"svg\"}}]}};\n  const render_items = [{\"docid\":\"37ec1670-675e-4a38-a9b4-9f4606008d9a\",\"roots\":{\"p1419\":\"e36b98eb-a5c5-4891-ba53-aca633444179\"},\"root_ids\":[\"p1419\"]}];\n  void root.Bokeh.embed.embed_items_notebook(docs_json, render_items);\n  }\n  if (root.Bokeh !== undefined) {\n    embed_document(root);\n  } else {\n    let attempts = 0;\n    const timer = setInterval(function(root) {\n      if (root.Bokeh !== undefined) {\n        clearInterval(timer);\n        embed_document(root);\n      } else {\n        attempts++;\n        if (attempts > 100) {\n          clearInterval(timer);\n          console.log(\"Bokeh: ERROR: Unable to run BokehJS code because BokehJS library is missing\");\n        }\n      }\n    }, 10, root)\n  }\n})(window);",
      "application/vnd.bokehjs_exec.v0+json": ""
     },
     "metadata": {
      "application/vnd.bokehjs_exec.v0+json": {
       "id": "p1419"
      }
     },
     "output_type": "display_data"
    }
   ],
   "execution_count": 19
  },
  {
   "metadata": {
    "ExecuteTime": {
     "end_time": "2024-09-25T15:03:29.319734Z",
     "start_time": "2024-09-25T15:03:29.316034Z"
    }
   },
   "cell_type": "code",
   "source": [
    "print('Admissible k_cat+ values:')\n",
    "print(k_plus_cats[fail_regions[0][1]],k_plus_cats[fail_regions[1][0]])"
   ],
   "id": "76f149ec56c6be08",
   "outputs": [
    {
     "name": "stdout",
     "output_type": "stream",
     "text": [
      "Admissible k_cat+ values:\n",
      "0.6616818201723581 1.6298574128780599\n"
     ]
    }
   ],
   "execution_count": 20
  }
 ],
 "metadata": {
  "kernelspec": {
   "display_name": "Python 3",
   "language": "python",
   "name": "python3"
  },
  "language_info": {
   "codemirror_mode": {
    "name": "ipython",
    "version": 2
   },
   "file_extension": ".py",
   "mimetype": "text/x-python",
   "name": "python",
   "nbconvert_exporter": "python",
   "pygments_lexer": "ipython2",
   "version": "2.7.6"
  }
 },
 "nbformat": 4,
 "nbformat_minor": 5
}
