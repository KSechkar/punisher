{
 "cells": [
  {
   "cell_type": "code",
   "id": "initial_id",
   "metadata": {
    "collapsed": true,
    "ExecuteTime": {
     "end_time": "2024-09-30T13:55:40.302897Z",
     "start_time": "2024-09-30T13:55:40.281195Z"
    }
   },
   "source": [
    "'''\n",
    "Notebook for supplementary FIG S1: Stochastic simulation of a simple case of the Punisher reacting to the loss of a single synthetic gene.\n",
    "'''\n",
    "# By Kirill Sechkar\n",
    "\n",
    "# PACKAGE IMPORTS \n",
    "import numpy as np\n",
    "import jax\n",
    "import jax.numpy as jnp\n",
    "import functools\n",
    "from diffrax import diffeqsolve, Dopri5, ODETerm, SaveAt, PIDController, SteadyStateEvent\n",
    "import pandas as pd\n",
    "from bokeh import plotting as bkplot, models as bkmodels, layouts as bklayouts, io as bkio\n",
    "from bokeh.colors import RGB as bkRGB\n",
    "import time\n",
    "\n",
    "# set up jax\n",
    "from jax.lib import xla_bridge\n",
    "jax.config.update('jax_platform_name', 'gpu')\n",
    "jax.config.update(\"jax_enable_x64\", True)\n",
    "print(xla_bridge.get_backend().platform)\n",
    "\n",
    "# set up bokeh\n",
    "bkio.reset_output()\n",
    "bkio.output_notebook() \n",
    "\n",
    "# OWN CODE IMPORTS\n",
    "import synthetic_circuits as circuits\n",
    "from cell_model import *"
   ],
   "outputs": [
    {
     "name": "stdout",
     "output_type": "stream",
     "text": [
      "cpu\n"
     ]
    },
    {
     "name": "stderr",
     "output_type": "stream",
     "text": [
      "/tmp/ipykernel_26646/1864747840.py:21: DeprecationWarning: jax.lib.xla_bridge.get_backend is deprecated; use jax.extend.backend.get_backend.\n",
      "  print(xla_bridge.get_backend().platform)\n"
     ]
    },
    {
     "data": {
      "text/html": [
       "    <style>\n",
       "        .bk-notebook-logo {\n",
       "            display: block;\n",
       "            width: 20px;\n",
       "            height: 20px;\n",
       "            background-image: url(data:image/png;base64,iVBORw0KGgoAAAANSUhEUgAAABQAAAAUCAYAAACNiR0NAAAABHNCSVQICAgIfAhkiAAAAAlwSFlzAAALEgAACxIB0t1+/AAAABx0RVh0U29mdHdhcmUAQWRvYmUgRmlyZXdvcmtzIENTNui8sowAAAOkSURBVDiNjZRtaJVlGMd/1/08zzln5zjP1LWcU9N0NkN8m2CYjpgQYQXqSs0I84OLIC0hkEKoPtiH3gmKoiJDU7QpLgoLjLIQCpEsNJ1vqUOdO7ppbuec5+V+rj4ctwzd8IIbbi6u+8f1539dt3A78eXC7QizUF7gyV1fD1Yqg4JWz84yffhm0qkFqBogB9rM8tZdtwVsPUhWhGcFJngGeWrPzHm5oaMmkfEg1usvLFyc8jLRqDOMru7AyC8saQr7GG7f5fvDeH7Ej8CM66nIF+8yngt6HWaKh7k49Soy9nXurCi1o3qUbS3zWfrYeQDTB/Qj6kX6Ybhw4B+bOYoLKCC9H3Nu/leUTZ1JdRWkkn2ldcCamzrcf47KKXdAJllSlxAOkRgyHsGC/zRday5Qld9DyoM4/q/rUoy/CXh3jzOu3bHUVZeU+DEn8FInkPBFlu3+nW3Nw0mk6vCDiWg8CeJaxEwuHS3+z5RgY+YBR6V1Z1nxSOfoaPa4LASWxxdNp+VWTk7+4vzaou8v8PN+xo+KY2xsw6une2frhw05CTYOmQvsEhjhWjn0bmXPjpE1+kplmmkP3suftwTubK9Vq22qKmrBhpY4jvd5afdRA3wGjFAgcnTK2s4hY0/GPNIb0nErGMCRxWOOX64Z8RAC4oCXdklmEvcL8o0BfkNK4lUg9HTl+oPlQxdNo3Mg4Nv175e/1LDGzZen30MEjRUtmXSfiTVu1kK8W4txyV6BMKlbgk3lMwYCiusNy9fVfvvwMxv8Ynl6vxoByANLTWplvuj/nF9m2+PDtt1eiHPBr1oIfhCChQMBw6Aw0UulqTKZdfVvfG7VcfIqLG9bcldL/+pdWTLxLUy8Qq38heUIjh4XlzZxzQm19lLFlr8vdQ97rjZVOLf8nclzckbcD4wxXMidpX30sFd37Fv/GtwwhzhxGVAprjbg0gCAEeIgwCZyTV2Z1REEW8O4py0wsjeloKoMr6iCY6dP92H6Vw/oTyICIthibxjm/DfN9lVz8IqtqKYLUXfoKVMVQVVJOElGjrnnUt9T9wbgp8AyYKaGlqingHZU/uG2NTZSVqwHQTWkx9hxjkpWDaCg6Ckj5qebgBVbT3V3NNXMSiWSDdGV3hrtzla7J+duwPOToIg42ChPQOQjspnSlp1V+Gjdged7+8UN5CRAV7a5EdFNwCjEaBR27b3W890TE7g24NAP/mMDXRWrGoFPQI9ls/MWO2dWFAar/xcOIImbbpA3zgAAAABJRU5ErkJggg==);\n",
       "        }\n",
       "    </style>\n",
       "    <div>\n",
       "        <a href=\"https://bokeh.org\" target=\"_blank\" class=\"bk-notebook-logo\"></a>\n",
       "        <span id=\"f5bd14c9-5bf8-4d1e-8644-29b4e34f2459\">Loading BokehJS ...</span>\n",
       "    </div>\n"
      ]
     },
     "metadata": {},
     "output_type": "display_data"
    },
    {
     "data": {
      "application/javascript": "'use strict';\n(function(root) {\n  function now() {\n    return new Date();\n  }\n\n  const force = true;\n\n  if (typeof root._bokeh_onload_callbacks === \"undefined\" || force === true) {\n    root._bokeh_onload_callbacks = [];\n    root._bokeh_is_loading = undefined;\n  }\n\nconst JS_MIME_TYPE = 'application/javascript';\n  const HTML_MIME_TYPE = 'text/html';\n  const EXEC_MIME_TYPE = 'application/vnd.bokehjs_exec.v0+json';\n  const CLASS_NAME = 'output_bokeh rendered_html';\n\n  /**\n   * Render data to the DOM node\n   */\n  function render(props, node) {\n    const script = document.createElement(\"script\");\n    node.appendChild(script);\n  }\n\n  /**\n   * Handle when an output is cleared or removed\n   */\n  function handleClearOutput(event, handle) {\n    function drop(id) {\n      const view = Bokeh.index.get_by_id(id)\n      if (view != null) {\n        view.model.document.clear()\n        Bokeh.index.delete(view)\n      }\n    }\n\n    const cell = handle.cell;\n\n    const id = cell.output_area._bokeh_element_id;\n    const server_id = cell.output_area._bokeh_server_id;\n\n    // Clean up Bokeh references\n    if (id != null) {\n      drop(id)\n    }\n\n    if (server_id !== undefined) {\n      // Clean up Bokeh references\n      const cmd_clean = \"from bokeh.io.state import curstate; print(curstate().uuid_to_server['\" + server_id + \"'].get_sessions()[0].document.roots[0]._id)\";\n      cell.notebook.kernel.execute(cmd_clean, {\n        iopub: {\n          output: function(msg) {\n            const id = msg.content.text.trim()\n            drop(id)\n          }\n        }\n      });\n      // Destroy server and session\n      const cmd_destroy = \"import bokeh.io.notebook as ion; ion.destroy_server('\" + server_id + \"')\";\n      cell.notebook.kernel.execute(cmd_destroy);\n    }\n  }\n\n  /**\n   * Handle when a new output is added\n   */\n  function handleAddOutput(event, handle) {\n    const output_area = handle.output_area;\n    const output = handle.output;\n\n    // limit handleAddOutput to display_data with EXEC_MIME_TYPE content only\n    if ((output.output_type != \"display_data\") || (!Object.prototype.hasOwnProperty.call(output.data, EXEC_MIME_TYPE))) {\n      return\n    }\n\n    const toinsert = output_area.element.find(\".\" + CLASS_NAME.split(' ')[0]);\n\n    if (output.metadata[EXEC_MIME_TYPE][\"id\"] !== undefined) {\n      toinsert[toinsert.length - 1].firstChild.textContent = output.data[JS_MIME_TYPE];\n      // store reference to embed id on output_area\n      output_area._bokeh_element_id = output.metadata[EXEC_MIME_TYPE][\"id\"];\n    }\n    if (output.metadata[EXEC_MIME_TYPE][\"server_id\"] !== undefined) {\n      const bk_div = document.createElement(\"div\");\n      bk_div.innerHTML = output.data[HTML_MIME_TYPE];\n      const script_attrs = bk_div.children[0].attributes;\n      for (let i = 0; i < script_attrs.length; i++) {\n        toinsert[toinsert.length - 1].firstChild.setAttribute(script_attrs[i].name, script_attrs[i].value);\n        toinsert[toinsert.length - 1].firstChild.textContent = bk_div.children[0].textContent\n      }\n      // store reference to server id on output_area\n      output_area._bokeh_server_id = output.metadata[EXEC_MIME_TYPE][\"server_id\"];\n    }\n  }\n\n  function register_renderer(events, OutputArea) {\n\n    function append_mime(data, metadata, element) {\n      // create a DOM node to render to\n      const toinsert = this.create_output_subarea(\n        metadata,\n        CLASS_NAME,\n        EXEC_MIME_TYPE\n      );\n      this.keyboard_manager.register_events(toinsert);\n      // Render to node\n      const props = {data: data, metadata: metadata[EXEC_MIME_TYPE]};\n      render(props, toinsert[toinsert.length - 1]);\n      element.append(toinsert);\n      return toinsert\n    }\n\n    /* Handle when an output is cleared or removed */\n    events.on('clear_output.CodeCell', handleClearOutput);\n    events.on('delete.Cell', handleClearOutput);\n\n    /* Handle when a new output is added */\n    events.on('output_added.OutputArea', handleAddOutput);\n\n    /**\n     * Register the mime type and append_mime function with output_area\n     */\n    OutputArea.prototype.register_mime_type(EXEC_MIME_TYPE, append_mime, {\n      /* Is output safe? */\n      safe: true,\n      /* Index of renderer in `output_area.display_order` */\n      index: 0\n    });\n  }\n\n  // register the mime type if in Jupyter Notebook environment and previously unregistered\n  if (root.Jupyter !== undefined) {\n    const events = require('base/js/events');\n    const OutputArea = require('notebook/js/outputarea').OutputArea;\n\n    if (OutputArea.prototype.mime_types().indexOf(EXEC_MIME_TYPE) == -1) {\n      register_renderer(events, OutputArea);\n    }\n  }\n  if (typeof (root._bokeh_timeout) === \"undefined\" || force === true) {\n    root._bokeh_timeout = Date.now() + 5000;\n    root._bokeh_failed_load = false;\n  }\n\n  const NB_LOAD_WARNING = {'data': {'text/html':\n     \"<div style='background-color: #fdd'>\\n\"+\n     \"<p>\\n\"+\n     \"BokehJS does not appear to have successfully loaded. If loading BokehJS from CDN, this \\n\"+\n     \"may be due to a slow or bad network connection. Possible fixes:\\n\"+\n     \"</p>\\n\"+\n     \"<ul>\\n\"+\n     \"<li>re-rerun `output_notebook()` to attempt to load from CDN again, or</li>\\n\"+\n     \"<li>use INLINE resources instead, as so:</li>\\n\"+\n     \"</ul>\\n\"+\n     \"<code>\\n\"+\n     \"from bokeh.resources import INLINE\\n\"+\n     \"output_notebook(resources=INLINE)\\n\"+\n     \"</code>\\n\"+\n     \"</div>\"}};\n\n  function display_loaded(error = null) {\n    const el = document.getElementById(\"f5bd14c9-5bf8-4d1e-8644-29b4e34f2459\");\n    if (el != null) {\n      const html = (() => {\n        if (typeof root.Bokeh === \"undefined\") {\n          if (error == null) {\n            return \"BokehJS is loading ...\";\n          } else {\n            return \"BokehJS failed to load.\";\n          }\n        } else {\n          const prefix = `BokehJS ${root.Bokeh.version}`;\n          if (error == null) {\n            return `${prefix} successfully loaded.`;\n          } else {\n            return `${prefix} <b>encountered errors</b> while loading and may not function as expected.`;\n          }\n        }\n      })();\n      el.innerHTML = html;\n\n      if (error != null) {\n        const wrapper = document.createElement(\"div\");\n        wrapper.style.overflow = \"auto\";\n        wrapper.style.height = \"5em\";\n        wrapper.style.resize = \"vertical\";\n        const content = document.createElement(\"div\");\n        content.style.fontFamily = \"monospace\";\n        content.style.whiteSpace = \"pre-wrap\";\n        content.style.backgroundColor = \"rgb(255, 221, 221)\";\n        content.textContent = error.stack ?? error.toString();\n        wrapper.append(content);\n        el.append(wrapper);\n      }\n    } else if (Date.now() < root._bokeh_timeout) {\n      setTimeout(() => display_loaded(error), 100);\n    }\n  }\n\n  function run_callbacks() {\n    try {\n      root._bokeh_onload_callbacks.forEach(function(callback) {\n        if (callback != null)\n          callback();\n      });\n    } finally {\n      delete root._bokeh_onload_callbacks\n    }\n    console.debug(\"Bokeh: all callbacks have finished\");\n  }\n\n  function load_libs(css_urls, js_urls, callback) {\n    if (css_urls == null) css_urls = [];\n    if (js_urls == null) js_urls = [];\n\n    root._bokeh_onload_callbacks.push(callback);\n    if (root._bokeh_is_loading > 0) {\n      console.debug(\"Bokeh: BokehJS is being loaded, scheduling callback at\", now());\n      return null;\n    }\n    if (js_urls == null || js_urls.length === 0) {\n      run_callbacks();\n      return null;\n    }\n    console.debug(\"Bokeh: BokehJS not loaded, scheduling load and callback at\", now());\n    root._bokeh_is_loading = css_urls.length + js_urls.length;\n\n    function on_load() {\n      root._bokeh_is_loading--;\n      if (root._bokeh_is_loading === 0) {\n        console.debug(\"Bokeh: all BokehJS libraries/stylesheets loaded\");\n        run_callbacks()\n      }\n    }\n\n    function on_error(url) {\n      console.error(\"failed to load \" + url);\n    }\n\n    for (let i = 0; i < css_urls.length; i++) {\n      const url = css_urls[i];\n      const element = document.createElement(\"link\");\n      element.onload = on_load;\n      element.onerror = on_error.bind(null, url);\n      element.rel = \"stylesheet\";\n      element.type = \"text/css\";\n      element.href = url;\n      console.debug(\"Bokeh: injecting link tag for BokehJS stylesheet: \", url);\n      document.body.appendChild(element);\n    }\n\n    for (let i = 0; i < js_urls.length; i++) {\n      const url = js_urls[i];\n      const element = document.createElement('script');\n      element.onload = on_load;\n      element.onerror = on_error.bind(null, url);\n      element.async = false;\n      element.src = url;\n      console.debug(\"Bokeh: injecting script tag for BokehJS library: \", url);\n      document.head.appendChild(element);\n    }\n  };\n\n  function inject_raw_css(css) {\n    const element = document.createElement(\"style\");\n    element.appendChild(document.createTextNode(css));\n    document.body.appendChild(element);\n  }\n\n  const js_urls = [\"https://cdn.bokeh.org/bokeh/release/bokeh-3.4.3.min.js\", \"https://cdn.bokeh.org/bokeh/release/bokeh-gl-3.4.3.min.js\", \"https://cdn.bokeh.org/bokeh/release/bokeh-widgets-3.4.3.min.js\", \"https://cdn.bokeh.org/bokeh/release/bokeh-tables-3.4.3.min.js\", \"https://cdn.bokeh.org/bokeh/release/bokeh-mathjax-3.4.3.min.js\"];\n  const css_urls = [];\n\n  const inline_js = [    function(Bokeh) {\n      Bokeh.set_log_level(\"info\");\n    },\nfunction(Bokeh) {\n    }\n  ];\n\n  function run_inline_js() {\n    if (root.Bokeh !== undefined || force === true) {\n      try {\n            for (let i = 0; i < inline_js.length; i++) {\n      inline_js[i].call(root, root.Bokeh);\n    }\n\n      } catch (error) {display_loaded(error);throw error;\n      }if (force === true) {\n        display_loaded();\n      }} else if (Date.now() < root._bokeh_timeout) {\n      setTimeout(run_inline_js, 100);\n    } else if (!root._bokeh_failed_load) {\n      console.log(\"Bokeh: BokehJS failed to load within specified timeout.\");\n      root._bokeh_failed_load = true;\n    } else if (force !== true) {\n      const cell = $(document.getElementById(\"f5bd14c9-5bf8-4d1e-8644-29b4e34f2459\")).parents('.cell').data().cell;\n      cell.output_area.append_execute_result(NB_LOAD_WARNING)\n    }\n  }\n\n  if (root._bokeh_is_loading === 0) {\n    console.debug(\"Bokeh: BokehJS loaded, going straight to plotting\");\n    run_inline_js();\n  } else {\n    load_libs(css_urls, js_urls, function() {\n      console.debug(\"Bokeh: BokehJS plotting callback run at\", now());\n      run_inline_js();\n    });\n  }\n}(window));",
      "application/vnd.bokehjs_load.v0+json": "'use strict';\n(function(root) {\n  function now() {\n    return new Date();\n  }\n\n  const force = true;\n\n  if (typeof root._bokeh_onload_callbacks === \"undefined\" || force === true) {\n    root._bokeh_onload_callbacks = [];\n    root._bokeh_is_loading = undefined;\n  }\n\n\n  if (typeof (root._bokeh_timeout) === \"undefined\" || force === true) {\n    root._bokeh_timeout = Date.now() + 5000;\n    root._bokeh_failed_load = false;\n  }\n\n  const NB_LOAD_WARNING = {'data': {'text/html':\n     \"<div style='background-color: #fdd'>\\n\"+\n     \"<p>\\n\"+\n     \"BokehJS does not appear to have successfully loaded. If loading BokehJS from CDN, this \\n\"+\n     \"may be due to a slow or bad network connection. Possible fixes:\\n\"+\n     \"</p>\\n\"+\n     \"<ul>\\n\"+\n     \"<li>re-rerun `output_notebook()` to attempt to load from CDN again, or</li>\\n\"+\n     \"<li>use INLINE resources instead, as so:</li>\\n\"+\n     \"</ul>\\n\"+\n     \"<code>\\n\"+\n     \"from bokeh.resources import INLINE\\n\"+\n     \"output_notebook(resources=INLINE)\\n\"+\n     \"</code>\\n\"+\n     \"</div>\"}};\n\n  function display_loaded(error = null) {\n    const el = document.getElementById(\"f5bd14c9-5bf8-4d1e-8644-29b4e34f2459\");\n    if (el != null) {\n      const html = (() => {\n        if (typeof root.Bokeh === \"undefined\") {\n          if (error == null) {\n            return \"BokehJS is loading ...\";\n          } else {\n            return \"BokehJS failed to load.\";\n          }\n        } else {\n          const prefix = `BokehJS ${root.Bokeh.version}`;\n          if (error == null) {\n            return `${prefix} successfully loaded.`;\n          } else {\n            return `${prefix} <b>encountered errors</b> while loading and may not function as expected.`;\n          }\n        }\n      })();\n      el.innerHTML = html;\n\n      if (error != null) {\n        const wrapper = document.createElement(\"div\");\n        wrapper.style.overflow = \"auto\";\n        wrapper.style.height = \"5em\";\n        wrapper.style.resize = \"vertical\";\n        const content = document.createElement(\"div\");\n        content.style.fontFamily = \"monospace\";\n        content.style.whiteSpace = \"pre-wrap\";\n        content.style.backgroundColor = \"rgb(255, 221, 221)\";\n        content.textContent = error.stack ?? error.toString();\n        wrapper.append(content);\n        el.append(wrapper);\n      }\n    } else if (Date.now() < root._bokeh_timeout) {\n      setTimeout(() => display_loaded(error), 100);\n    }\n  }\n\n  function run_callbacks() {\n    try {\n      root._bokeh_onload_callbacks.forEach(function(callback) {\n        if (callback != null)\n          callback();\n      });\n    } finally {\n      delete root._bokeh_onload_callbacks\n    }\n    console.debug(\"Bokeh: all callbacks have finished\");\n  }\n\n  function load_libs(css_urls, js_urls, callback) {\n    if (css_urls == null) css_urls = [];\n    if (js_urls == null) js_urls = [];\n\n    root._bokeh_onload_callbacks.push(callback);\n    if (root._bokeh_is_loading > 0) {\n      console.debug(\"Bokeh: BokehJS is being loaded, scheduling callback at\", now());\n      return null;\n    }\n    if (js_urls == null || js_urls.length === 0) {\n      run_callbacks();\n      return null;\n    }\n    console.debug(\"Bokeh: BokehJS not loaded, scheduling load and callback at\", now());\n    root._bokeh_is_loading = css_urls.length + js_urls.length;\n\n    function on_load() {\n      root._bokeh_is_loading--;\n      if (root._bokeh_is_loading === 0) {\n        console.debug(\"Bokeh: all BokehJS libraries/stylesheets loaded\");\n        run_callbacks()\n      }\n    }\n\n    function on_error(url) {\n      console.error(\"failed to load \" + url);\n    }\n\n    for (let i = 0; i < css_urls.length; i++) {\n      const url = css_urls[i];\n      const element = document.createElement(\"link\");\n      element.onload = on_load;\n      element.onerror = on_error.bind(null, url);\n      element.rel = \"stylesheet\";\n      element.type = \"text/css\";\n      element.href = url;\n      console.debug(\"Bokeh: injecting link tag for BokehJS stylesheet: \", url);\n      document.body.appendChild(element);\n    }\n\n    for (let i = 0; i < js_urls.length; i++) {\n      const url = js_urls[i];\n      const element = document.createElement('script');\n      element.onload = on_load;\n      element.onerror = on_error.bind(null, url);\n      element.async = false;\n      element.src = url;\n      console.debug(\"Bokeh: injecting script tag for BokehJS library: \", url);\n      document.head.appendChild(element);\n    }\n  };\n\n  function inject_raw_css(css) {\n    const element = document.createElement(\"style\");\n    element.appendChild(document.createTextNode(css));\n    document.body.appendChild(element);\n  }\n\n  const js_urls = [\"https://cdn.bokeh.org/bokeh/release/bokeh-3.4.3.min.js\", \"https://cdn.bokeh.org/bokeh/release/bokeh-gl-3.4.3.min.js\", \"https://cdn.bokeh.org/bokeh/release/bokeh-widgets-3.4.3.min.js\", \"https://cdn.bokeh.org/bokeh/release/bokeh-tables-3.4.3.min.js\", \"https://cdn.bokeh.org/bokeh/release/bokeh-mathjax-3.4.3.min.js\"];\n  const css_urls = [];\n\n  const inline_js = [    function(Bokeh) {\n      Bokeh.set_log_level(\"info\");\n    },\nfunction(Bokeh) {\n    }\n  ];\n\n  function run_inline_js() {\n    if (root.Bokeh !== undefined || force === true) {\n      try {\n            for (let i = 0; i < inline_js.length; i++) {\n      inline_js[i].call(root, root.Bokeh);\n    }\n\n      } catch (error) {display_loaded(error);throw error;\n      }if (force === true) {\n        display_loaded();\n      }} else if (Date.now() < root._bokeh_timeout) {\n      setTimeout(run_inline_js, 100);\n    } else if (!root._bokeh_failed_load) {\n      console.log(\"Bokeh: BokehJS failed to load within specified timeout.\");\n      root._bokeh_failed_load = true;\n    } else if (force !== true) {\n      const cell = $(document.getElementById(\"f5bd14c9-5bf8-4d1e-8644-29b4e34f2459\")).parents('.cell').data().cell;\n      cell.output_area.append_execute_result(NB_LOAD_WARNING)\n    }\n  }\n\n  if (root._bokeh_is_loading === 0) {\n    console.debug(\"Bokeh: BokehJS loaded, going straight to plotting\");\n    run_inline_js();\n  } else {\n    load_libs(css_urls, js_urls, function() {\n      console.debug(\"Bokeh: BokehJS plotting callback run at\", now());\n      run_inline_js();\n    });\n  }\n}(window));"
     },
     "metadata": {},
     "output_type": "display_data"
    }
   ],
   "execution_count": 2
  },
  {
   "metadata": {
    "ExecuteTime": {
     "end_time": "2024-09-30T13:55:40.306786Z",
     "start_time": "2024-09-30T13:55:40.304043Z"
    }
   },
   "cell_type": "code",
   "source": [
    "# INITIALISE CELL MODEL, LOAD THE CIRCUIT\n",
    "\n",
    "# initialise cell model\n",
    "cellmodel_auxil = CellModelAuxiliary()  # auxiliary tools for simulating the model and plotting simulation outcomes\n",
    "par = cellmodel_auxil.default_params()  # get default parameter values\n",
    "init_conds = cellmodel_auxil.default_init_conds(par)  # get default initial conditions\n",
    "\n",
    "# load synthetic gene circuit\n",
    "ode_with_circuit, circuit_F_calc, circuit_eff_m_het_div_k_het,\\\n",
    "    par, init_conds, circuit_genes, circuit_miscs, circuit_name2pos, circuit_styles, circuit_v = cellmodel_auxil.add_circuit(\n",
    "    circuits.punisher_b_initialise,\n",
    "    circuits.punisher_b_ode,\n",
    "    circuits.punisher_b_F_calc,\n",
    "    circuits.punisher_sep_b_eff_m_het_div_k_het,\n",
    "    par, init_conds,\n",
    "    circuit_v=circuits.punisher_b_v)  # load the circuit"
   ],
   "id": "4b11bd8fa846a96e",
   "outputs": [],
   "execution_count": 3
  },
  {
   "metadata": {
    "ExecuteTime": {
     "end_time": "2024-09-30T13:55:40.327310Z",
     "start_time": "2024-09-30T13:55:40.323836Z"
    }
   },
   "cell_type": "code",
   "source": [
    "# PARAMETERISE THE CIRCUIT\n",
    "\n",
    "# BURDENSOME SYNTHETIC GENE\n",
    "par['c_b'] = 1\n",
    "par['a_b'] = 1e5\n",
    "\n",
    "# PUNISHER\n",
    "# switch gene conc\n",
    "par['c_switch'] = 10.0  # gene concentration (nM)\n",
    "par['a_switch'] = 400.0  # promoter strength (unitless)\n",
    "par['d_switch']=0.01836\n",
    "# integrase - expressed from the switch gene's operon, not its own gene => c_int, a_int irrelevant\n",
    "par['k+_int'] = par['k+_switch']/80.0  # RBS weaker than for the switch gene\n",
    "par['d_int'] = 0.0#0.01836 # rate of integrase degradation per protease molecule (1/nM/h)\n",
    "# CAT (antibiotic resistance) gene\n",
    "init_conds['cat_pb'] = 10.0  # gene concentration (nM) - INITIAL CONDITION< NOT PARAMETER as it can be cut out by the integrase\n",
    "par['a_cat'] = 500.0  # promoter strength (unitless)\n",
    "# synthetic protease gene\n",
    "par['c_prot'] = 10.0  # gene concentration (nM)\n",
    "par['a_prot'] = 25.0  # promoter strength (unitless)\n",
    "init_conds['p_prot'] = 1500.0 # if zero at start, the punisher's triggered prematurely\n",
    "\n",
    "# punisher's transcription regulation function\n",
    "par['K_switch'] = 300.0  # Half-saturation constant for the self-activating switch gene promoter (nM)\n",
    "par['eta_switch'] = 2 # Hill coefficient for the self-activating switch gene promoter (unitless)\n",
    "par['baseline_switch'] = 0.025  # Baseline value of the switch gene's transcription activation function\n",
    "par['p_switch_ac_frac'] = 0.85  # active fraction of protein (i.e. share of molecules bound by the inducer)\n",
    "\n",
    "# CULTURE MEDIUM\n",
    "init_conds['s'] = 0.5\n",
    "par['h_ext'] = 10.5 * (10.0 ** 3)"
   ],
   "id": "4b8dca372274293b",
   "outputs": [],
   "execution_count": 4
  },
  {
   "metadata": {
    "ExecuteTime": {
     "end_time": "2024-09-30T13:55:40.333091Z",
     "start_time": "2024-09-30T13:55:40.328613Z"
    }
   },
   "cell_type": "code",
   "source": [
    "# SET UP THE DETERMINISTIC SIMULATION PARAMETERS\n",
    "\n",
    "# diffrax simulator\n",
    "savetimestep = 0.1  # save time step\n",
    "rtol = 1e-6  # relative tolerance for the ODE solver\n",
    "atol = 1e-6  # absolute tolerance for the ODE solver"
   ],
   "id": "9a2229cf84979d9b",
   "outputs": [],
   "execution_count": 5
  },
  {
   "metadata": {
    "ExecuteTime": {
     "end_time": "2024-09-30T13:55:40.365764Z",
     "start_time": "2024-09-30T13:55:40.334464Z"
    }
   },
   "cell_type": "code",
   "source": [
    "# SET UP THE TAU-LEAPING SIMULATION PARAMETERS\n",
    "\n",
    "tau = 5e-7  # simulation time step\n",
    "tau_odestep = 5e-7  # number of ODE integration steps in a single tau-leap step (smaller than tau)\n",
    "tau_savetimestep = 1e-2  # save time step a multiple of tau\n",
    "\n",
    "key_seeds=jnp.arange(0,50,1) # random number generator seeds - NUMBER OF KEYS DEFINES NUMBER OF TRAJECTORIES"
   ],
   "id": "a4f7c29b22e1544c",
   "outputs": [],
   "execution_count": 6
  },
  {
   "metadata": {
    "ExecuteTime": {
     "end_time": "2024-09-30T13:55:40.371792Z",
     "start_time": "2024-09-30T13:55:40.368095Z"
    }
   },
   "cell_type": "code",
   "source": [
    "# SET UP SIMULATION TIME FRAMES\n",
    "\n",
    "# deterministic simulation to reach the steadyu state\n",
    "tf_det=(0,50+savetimestep/2)\n",
    "# stochastic simulation before synthetic gene loss\n",
    "tf_preloss=(50,55)\n",
    "# stochastic simulation after synthetic gene loss\n",
    "tf_afterloss=(55,90)"
   ],
   "id": "50bb27bc847fe42b",
   "outputs": [],
   "execution_count": 7
  },
  {
   "metadata": {
    "ExecuteTime": {
     "end_time": "2024-09-30T13:55:41.086827Z",
     "start_time": "2024-09-30T13:55:40.373103Z"
    }
   },
   "cell_type": "code",
   "source": [
    "# RUN THE DETERMINISTIC SIMULATION TO GET THE STEADY STATE\n",
    "\n",
    "# initial simulation to get the steady state without gene expression loss\n",
    "sol=ode_sim(par,    # dictionary with model parameters\n",
    "            ode_with_circuit,   #  ODE function for the cell with synthetic circuit\n",
    "            cellmodel_auxil.x0_from_init_conds(init_conds,circuit_genes,circuit_miscs),  # initial condition VECTOR\n",
    "            len(circuit_genes), len(circuit_miscs), circuit_name2pos, # dictionaries with circuit gene and miscellaneous specie names, species name to vector position decoder\n",
    "            cellmodel_auxil.synth_gene_params_for_jax(par,circuit_genes), # synthetic gene parameters for calculating k values\n",
    "            tf_det, jnp.arange(tf_det[0], tf_det[1], savetimestep), # time frame and time axis for saving the system's state\n",
    "            rtol, atol)    # relative and absolute tolerances\n",
    "ts_det=np.array(sol.ts)\n",
    "xs_det=np.array(sol.ys)"
   ],
   "id": "2f190a1229430ac8",
   "outputs": [
    {
     "ename": "ValueError",
     "evalue": "`terms` must be a PyTree of `AbstractTerms` (such as `ODETerm`), with structure <class 'diffrax._term.AbstractTerm'>",
     "output_type": "error",
     "traceback": [
      "\u001B[0;31m---------------------------------------------------------------------------\u001B[0m",
      "\u001B[0;31mValueError\u001B[0m                                Traceback (most recent call last)",
      "Cell \u001B[0;32mIn[8], line 4\u001B[0m\n\u001B[1;32m      1\u001B[0m \u001B[38;5;66;03m# RUN THE DETERMINISTIC SIMULATION TO GET THE STEADY STATE\u001B[39;00m\n\u001B[1;32m      2\u001B[0m \n\u001B[1;32m      3\u001B[0m \u001B[38;5;66;03m# initial simulation to get the steady state without gene expression loss\u001B[39;00m\n\u001B[0;32m----> 4\u001B[0m sol\u001B[38;5;241m=\u001B[39m\u001B[43mode_sim\u001B[49m\u001B[43m(\u001B[49m\u001B[43mpar\u001B[49m\u001B[43m,\u001B[49m\u001B[43m    \u001B[49m\u001B[38;5;66;43;03m# dictionary with model parameters\u001B[39;49;00m\n\u001B[1;32m      5\u001B[0m \u001B[43m            \u001B[49m\u001B[43mode_with_circuit\u001B[49m\u001B[43m,\u001B[49m\u001B[43m   \u001B[49m\u001B[38;5;66;43;03m#  ODE function for the cell with synthetic circuit\u001B[39;49;00m\n\u001B[1;32m      6\u001B[0m \u001B[43m            \u001B[49m\u001B[43mcellmodel_auxil\u001B[49m\u001B[38;5;241;43m.\u001B[39;49m\u001B[43mx0_from_init_conds\u001B[49m\u001B[43m(\u001B[49m\u001B[43minit_conds\u001B[49m\u001B[43m,\u001B[49m\u001B[43mcircuit_genes\u001B[49m\u001B[43m,\u001B[49m\u001B[43mcircuit_miscs\u001B[49m\u001B[43m)\u001B[49m\u001B[43m,\u001B[49m\u001B[43m  \u001B[49m\u001B[38;5;66;43;03m# initial condition VECTOR\u001B[39;49;00m\n\u001B[1;32m      7\u001B[0m \u001B[43m            \u001B[49m\u001B[38;5;28;43mlen\u001B[39;49m\u001B[43m(\u001B[49m\u001B[43mcircuit_genes\u001B[49m\u001B[43m)\u001B[49m\u001B[43m,\u001B[49m\u001B[43m \u001B[49m\u001B[38;5;28;43mlen\u001B[39;49m\u001B[43m(\u001B[49m\u001B[43mcircuit_miscs\u001B[49m\u001B[43m)\u001B[49m\u001B[43m,\u001B[49m\u001B[43m \u001B[49m\u001B[43mcircuit_name2pos\u001B[49m\u001B[43m,\u001B[49m\u001B[43m \u001B[49m\u001B[38;5;66;43;03m# dictionaries with circuit gene and miscellaneous specie names, species name to vector position decoder\u001B[39;49;00m\n\u001B[1;32m      8\u001B[0m \u001B[43m            \u001B[49m\u001B[43mcellmodel_auxil\u001B[49m\u001B[38;5;241;43m.\u001B[39;49m\u001B[43msynth_gene_params_for_jax\u001B[49m\u001B[43m(\u001B[49m\u001B[43mpar\u001B[49m\u001B[43m,\u001B[49m\u001B[43mcircuit_genes\u001B[49m\u001B[43m)\u001B[49m\u001B[43m,\u001B[49m\u001B[43m \u001B[49m\u001B[38;5;66;43;03m# synthetic gene parameters for calculating k values\u001B[39;49;00m\n\u001B[1;32m      9\u001B[0m \u001B[43m            \u001B[49m\u001B[43mtf_det\u001B[49m\u001B[43m,\u001B[49m\u001B[43m \u001B[49m\u001B[43mjnp\u001B[49m\u001B[38;5;241;43m.\u001B[39;49m\u001B[43marange\u001B[49m\u001B[43m(\u001B[49m\u001B[43mtf_det\u001B[49m\u001B[43m[\u001B[49m\u001B[38;5;241;43m0\u001B[39;49m\u001B[43m]\u001B[49m\u001B[43m,\u001B[49m\u001B[43m \u001B[49m\u001B[43mtf_det\u001B[49m\u001B[43m[\u001B[49m\u001B[38;5;241;43m1\u001B[39;49m\u001B[43m]\u001B[49m\u001B[43m,\u001B[49m\u001B[43m \u001B[49m\u001B[43msavetimestep\u001B[49m\u001B[43m)\u001B[49m\u001B[43m,\u001B[49m\u001B[43m \u001B[49m\u001B[38;5;66;43;03m# time frame and time axis for saving the system's state\u001B[39;49;00m\n\u001B[1;32m     10\u001B[0m \u001B[43m            \u001B[49m\u001B[43mrtol\u001B[49m\u001B[43m,\u001B[49m\u001B[43m \u001B[49m\u001B[43matol\u001B[49m\u001B[43m)\u001B[49m    \u001B[38;5;66;03m# relative and absolute tolerances\u001B[39;00m\n\u001B[1;32m     11\u001B[0m ts_det\u001B[38;5;241m=\u001B[39mnp\u001B[38;5;241m.\u001B[39marray(sol\u001B[38;5;241m.\u001B[39mts)\n\u001B[1;32m     12\u001B[0m xs_det\u001B[38;5;241m=\u001B[39mnp\u001B[38;5;241m.\u001B[39marray(sol\u001B[38;5;241m.\u001B[39mys)\n",
      "    \u001B[0;31m[... skipping hidden 11 frame]\u001B[0m\n",
      "File \u001B[0;32m/mnt/c/Users/ersat/CODE/punisher/cell_model.py:1303\u001B[0m, in \u001B[0;36mode_sim\u001B[0;34m(par, ode_with_circuit, x0, num_circuit_genes, num_circuit_miscs, circuit_name2pos, sgp4j, tf, ts, rtol, atol, solver)\u001B[0m\n\u001B[1;32m   1300\u001B[0m saveat \u001B[38;5;241m=\u001B[39m SaveAt(ts\u001B[38;5;241m=\u001B[39mts)\n\u001B[1;32m   1302\u001B[0m \u001B[38;5;66;03m# solve the ODE\u001B[39;00m\n\u001B[0;32m-> 1303\u001B[0m sol \u001B[38;5;241m=\u001B[39m \u001B[43mdiffeqsolve\u001B[49m\u001B[43m(\u001B[49m\u001B[43mterm\u001B[49m\u001B[43m,\u001B[49m\u001B[43m \u001B[49m\u001B[43msolver\u001B[49m\u001B[43m,\u001B[49m\n\u001B[1;32m   1304\u001B[0m \u001B[43m                  \u001B[49m\u001B[43margs\u001B[49m\u001B[38;5;241;43m=\u001B[39;49m\u001B[43margs\u001B[49m\u001B[43m,\u001B[49m\n\u001B[1;32m   1305\u001B[0m \u001B[43m                  \u001B[49m\u001B[43mt0\u001B[49m\u001B[38;5;241;43m=\u001B[39;49m\u001B[43mtf\u001B[49m\u001B[43m[\u001B[49m\u001B[38;5;241;43m0\u001B[39;49m\u001B[43m]\u001B[49m\u001B[43m,\u001B[49m\u001B[43m \u001B[49m\u001B[43mt1\u001B[49m\u001B[38;5;241;43m=\u001B[39;49m\u001B[43mtf\u001B[49m\u001B[43m[\u001B[49m\u001B[38;5;241;43m1\u001B[39;49m\u001B[43m]\u001B[49m\u001B[43m,\u001B[49m\u001B[43m \u001B[49m\u001B[43mdt0\u001B[49m\u001B[38;5;241;43m=\u001B[39;49m\u001B[38;5;241;43m0.1\u001B[39;49m\u001B[43m,\u001B[49m\u001B[43m \u001B[49m\u001B[43my0\u001B[49m\u001B[38;5;241;43m=\u001B[39;49m\u001B[43mx0\u001B[49m\u001B[43m,\u001B[49m\u001B[43m \u001B[49m\u001B[43msaveat\u001B[49m\u001B[38;5;241;43m=\u001B[39;49m\u001B[43msaveat\u001B[49m\u001B[43m,\u001B[49m\n\u001B[1;32m   1306\u001B[0m \u001B[43m                  \u001B[49m\u001B[43mmax_steps\u001B[49m\u001B[38;5;241;43m=\u001B[39;49m\u001B[38;5;28;43;01mNone\u001B[39;49;00m\u001B[43m,\u001B[49m\n\u001B[1;32m   1307\u001B[0m \u001B[43m                  \u001B[49m\u001B[43mstepsize_controller\u001B[49m\u001B[38;5;241;43m=\u001B[39;49m\u001B[43mstepsize_controller\u001B[49m\u001B[43m)\u001B[49m\n\u001B[1;32m   1309\u001B[0m \u001B[38;5;66;03m# convert jax arrays into numpy arrays\u001B[39;00m\n\u001B[1;32m   1310\u001B[0m \u001B[38;5;28;01mreturn\u001B[39;00m sol\n",
      "    \u001B[0;31m[... skipping hidden 15 frame]\u001B[0m\n",
      "File \u001B[0;32m~/anaconda3/envs/breaktheloop/lib/python3.11/site-packages/diffrax/_integrate.py:781\u001B[0m, in \u001B[0;36mdiffeqsolve\u001B[0;34m(terms, solver, t0, t1, dt0, y0, args, saveat, stepsize_controller, adjoint, discrete_terminating_event, max_steps, throw, progress_meter, solver_state, controller_state, made_jump)\u001B[0m\n\u001B[1;32m    777\u001B[0m \u001B[38;5;66;03m# Error checking\u001B[39;00m\n\u001B[1;32m    778\u001B[0m \u001B[38;5;28;01mif\u001B[39;00m \u001B[38;5;129;01mnot\u001B[39;00m _term_compatible(\n\u001B[1;32m    779\u001B[0m     y0, args, terms, solver\u001B[38;5;241m.\u001B[39mterm_structure, solver\u001B[38;5;241m.\u001B[39mterm_compatible_contr_kwargs\n\u001B[1;32m    780\u001B[0m ):\n\u001B[0;32m--> 781\u001B[0m     \u001B[38;5;28;01mraise\u001B[39;00m \u001B[38;5;167;01mValueError\u001B[39;00m(\n\u001B[1;32m    782\u001B[0m         \u001B[38;5;124m\"\u001B[39m\u001B[38;5;124m`terms` must be a PyTree of `AbstractTerms` (such as `ODETerm`), with \u001B[39m\u001B[38;5;124m\"\u001B[39m\n\u001B[1;32m    783\u001B[0m         \u001B[38;5;124mf\u001B[39m\u001B[38;5;124m\"\u001B[39m\u001B[38;5;124mstructure \u001B[39m\u001B[38;5;132;01m{\u001B[39;00msolver\u001B[38;5;241m.\u001B[39mterm_structure\u001B[38;5;132;01m}\u001B[39;00m\u001B[38;5;124m\"\u001B[39m\n\u001B[1;32m    784\u001B[0m     )\n\u001B[1;32m    786\u001B[0m \u001B[38;5;28;01mif\u001B[39;00m is_sde(terms):\n\u001B[1;32m    787\u001B[0m     \u001B[38;5;28;01mif\u001B[39;00m \u001B[38;5;129;01mnot\u001B[39;00m \u001B[38;5;28misinstance\u001B[39m(solver, (AbstractItoSolver, AbstractStratonovichSolver)):\n",
      "\u001B[0;31mValueError\u001B[0m: `terms` must be a PyTree of `AbstractTerms` (such as `ODETerm`), with structure <class 'diffrax._term.AbstractTerm'>"
     ]
    }
   ],
   "execution_count": 8
  },
  {
   "metadata": {
    "ExecuteTime": {
     "end_time": "2024-09-30T13:55:41.088457Z",
     "start_time": "2024-09-30T13:55:41.088221Z"
    }
   },
   "cell_type": "code",
   "source": [
    "# RUN TAU-LEAP SIMULATION\n",
    "\n",
    "mRNA_count_scales, S, x0_tauleap, circuit_synpos2genename, keys0 = tauleap_sim_prep(par, len(circuit_genes),\n",
    "                                                                                    len(circuit_miscs),\n",
    "                                                                                    circuit_name2pos, xs_det[-1,:],\n",
    "                                                                                    key_seeds=key_seeds)\n",
    "ts_jnp_preloss, xs_jnp_preloss, final_keys_preloss = tauleap_sim(par,  # dictionary with model parameters\n",
    "                                                                 circuit_v,  # circuit reaction propensity calculator\n",
    "                                                                 circuit_eff_m_het_div_k_het,\n",
    "                                                                 x0_tauleap,\n",
    "                                                                 # initial condition VECTOR (processed to make sure random variables are appropriate integers)\n",
    "                                                                 len(circuit_genes), len(circuit_miscs),\n",
    "                                                                 circuit_name2pos,\n",
    "                                                                 cellmodel_auxil.synth_gene_params_for_jax(par,\n",
    "                                                                                                           circuit_genes),\n",
    "                                                                 # synthetic gene parameters for calculating k values\n",
    "                                                                 tf_preloss, tau, tau_odestep, tau_savetimestep,\n",
    "                                                                 # simulation parameters: time frame, tau leap step size, number of ode integration steps in a single tau leap step\n",
    "                                                                 mRNA_count_scales, S, circuit_synpos2genename,\n",
    "                                                                 # mRNA count scaling factor, stoichiometry matrix, synthetic gene number in list of synth. genes to name decoder\n",
    "                                                                 keys0,\n",
    "                                                                 avg_dynamics=False)  # starting random number genereation key\n",
    "\n",
    "# concatenate the results with the deterministic simulation\n",
    "ts_preloss = np.concatenate((ts_det, np.array(ts_jnp_preloss)))\n",
    "xs_first_preloss = np.concatenate((xs_det, np.array(xs_jnp_preloss[1])))  # getting the results from the first random number generator key in vmap\n",
    "xss_preloss = np.concatenate((xs_det * np.ones((keys0.shape[0], 1, 1)), np.array(xs_jnp_preloss)),axis=1)  # getting the results from all vmapped trajectories\n",
    "\n",
    "# simulate after synthetic gene expression loss\n",
    "par['func_b'] = 0.0  # burdensome gene no longer present\n",
    "ts_jnp, xs_jnp, final_keys = tauleap_sim(par,  # dictionary with model parameters\n",
    "                                         circuit_v,  # circuit reaction propensity calculator\n",
    "                                         circuit_eff_m_het_div_k_het,\n",
    "                                         xs_jnp_preloss[:,-1,:],\n",
    "                                         # initial condition VECTOR (processed to make sure random variables are appropriate integers)\n",
    "                                         len(circuit_genes), len(circuit_miscs), circuit_name2pos,\n",
    "                                         cellmodel_auxil.synth_gene_params_for_jax(par, circuit_genes),\n",
    "                                         # synthetic gene parameters for calculating k values\n",
    "                                         tf_afterloss, tau, tau_odestep, tau_savetimestep,\n",
    "                                         # simulation parameters: time frame, tau leap step size, number of ode integration steps in a single tau leap step\n",
    "                                         mRNA_count_scales, S, circuit_synpos2genename,\n",
    "                                         # mRNA count scaling factor, stoichiometry matrix, synthetic gene number in list of synth. genes to name decoder\n",
    "                                         keys0=final_keys_preloss,\n",
    "                                         avg_dynamics=False)  # starting random number genereation key\n",
    "# concatenate the results with the deterministic simulation\n",
    "ts = np.concatenate((ts_preloss, np.array(ts_jnp)))\n",
    "xs_first = np.concatenate((xs_first_preloss, np.array(xs_jnp[1])))  # getting the results from the first random number generator key in vmap\n",
    "xss = np.concatenate((xss_preloss, np.array(xs_jnp)), axis=1)  # getting the results from all vmapped trajectories"
   ],
   "id": "6adb98170c1f1d0d",
   "outputs": [],
   "execution_count": null
  },
  {
   "metadata": {},
   "cell_type": "code",
   "source": [
    "# PLOT THE CELL MODEL TRAJECTORIES\n",
    "\n",
    "\n",
    "# native mRNA, tRNA & protein levels, chloramphenicol level\n",
    "nat_mrna_fig, nat_prot_fig, nat_trna_fig, h_fig = cellmodel_auxil.plot_native_concentrations_multiple(ts, xss, par,\n",
    "                                                                                                      circuit_genes,\n",
    "                                                                                                      tspan=(tf_preloss[0],tf_afterloss[-1]),\n",
    "                                                                                                      simtraj_alpha=0.1)  # plot simulation results\n",
    "\n",
    "# cell growth, translation elongation, ribosome synth. regulation, ppGpp level, tRNA aminoacylation, Resource Competition Denominator\n",
    "l_figure, e_figure, Fr_figure, ppGpp_figure, nu_figure, D_figure = cellmodel_auxil.plot_phys_variables_multiple(ts, xss,\n",
    "                                                                                                                par,\n",
    "                                                                                                                circuit_genes,\n",
    "                                                                                                                circuit_miscs,\n",
    "                                                                                                                circuit_name2pos,\n",
    "                                                                                                                circuit_eff_m_het_div_k_het,\n",
    "                                                                                                                tspan=(tf_preloss[0],tf_afterloss[-1]),\n",
    "                                                                                                                simtraj_alpha=0.1)  # plot simulation results\n",
    "# show plots\n",
    "bkplot.show(bklayouts.grid([[nat_mrna_fig, nat_prot_fig, None],\n",
    "                            [nat_trna_fig, h_fig, l_figure],\n",
    "                            [e_figure, Fr_figure, D_figure]]))"
   ],
   "id": "9aca9f3140d57d20",
   "outputs": [],
   "execution_count": null
  },
  {
   "metadata": {
    "ExecuteTime": {
     "end_time": "2024-09-30T13:55:41.090383Z",
     "start_time": "2024-09-30T13:55:41.090298Z"
    }
   },
   "cell_type": "code",
   "source": [
    "# PLOT - SYNTHETIC GENE CIRCUIT\n",
    "\n",
    "# synthetic mRNA and protein levels, different states of CAT gene DNA\n",
    "het_mrna_fig, het_prot_fig, misc_fig = cellmodel_auxil.plot_circuit_concentrations_multiple(ts, xss, par, circuit_genes,\n",
    "                                                                                            circuit_miscs,\n",
    "                                                                                            circuit_name2pos,\n",
    "                                                                                            circuit_styles,\n",
    "                                                                                            tspan=(tf_preloss[0],tf_afterloss[-1]),\n",
    "                                                                                            simtraj_alpha=0.1)  # plot simulation results\n",
    "\n",
    "# synthetic gene regulation\n",
    "F_fig = cellmodel_auxil.plot_circuit_regulation_multiple(ts, xss, par, circuit_F_calc, circuit_genes, circuit_miscs,\n",
    "                                                circuit_name2pos, circuit_styles, tspan=(tf_preloss[0],tf_afterloss[-1]),\n",
    "                                                simtraj_alpha=0.1)  # plot simulation results\n",
    "\n",
    "# show plots\n",
    "bkplot.show(bklayouts.grid([[het_mrna_fig, het_prot_fig, misc_fig],\n",
    "                            [F_fig, None, None]]))"
   ],
   "id": "b5e8403f8ae99bfc",
   "outputs": [],
   "execution_count": null
  },
  {
   "metadata": {},
   "cell_type": "markdown",
   "source": "",
   "id": "ad50e532feec831a"
  },
  {
   "metadata": {},
   "cell_type": "code",
   "source": [
    "# MAKE FIGURE S1 PLOTS: CELL GROWTH RATE\n",
    "\n",
    "# get the growth rate for plotting\n",
    "ls = np.zeros_like(xss[:,:,0])\n",
    "for i in range(0,len(xss)):\n",
    "    _, ls[i, :], _, _, _, _, _, _ =cellmodel_auxil.get_e_l_Fr_nu_psi_T_D_Dnodeg(ts, xss[i, :, :], par, circuit_genes, circuit_miscs, circuit_name2pos,\n",
    "                                                                                circuit_eff_m_het_div_k_het)\n",
    "ls_avg=np.mean(ls,axis=0)\n",
    "\n",
    "# plot the growth rate\n",
    "# initialise\n",
    "figs1a = bkplot.figure(\n",
    "    frame_width=180,\n",
    "    frame_height=120,\n",
    "    x_axis_label=\"Time since mutation, h\",\n",
    "    y_axis_label=\"Cell growth rate, 1/h\",\n",
    "    x_range=(-5,35),\n",
    "    y_range=(0.25, 1.75),\n",
    "    tools=\"box_zoom,pan,hover,reset,save\"\n",
    ")\n",
    "# set svg backend\n",
    "figs1a.output_backend = \"svg\"\n",
    "\n",
    "# add shading to show when synthetic gene expression loss occurs\n",
    "figs1a.add_layout(bkmodels.PolyAnnotation(xs=[0,0,tf_afterloss[1]-tf_afterloss[0],tf_afterloss[1]-tf_afterloss[0]],\n",
    "                                         ys=[0,2,2,0],\n",
    "                                         line_width=0, line_alpha=0,\n",
    "                                         fill_color=bkRGB(100, 100, 100, 0.25)))\n",
    "figs1a.add_layout(bkmodels.Label(x=0, y=1.75,\n",
    "                                x_offset=2, y_offset=-16,\n",
    "                                text='Burdensome gene mutated',\n",
    "                                text_font_size='8pt'))\n",
    "\n",
    "# plot the growth rates\n",
    "for i in range(0,len(xss)):\n",
    "    figs1a.line(ts-tf_afterloss[0],np.array(ls[i]), line_width=1, line_color=bkRGB(0,0,0), line_alpha=0.1)\n",
    "figs1a.line(ts-tf_afterloss[0],ls_avg, line_width=2, line_color=bkRGB(0,0,0), line_alpha=1)\n",
    "\n",
    "# show the plot\n",
    "bkplot.show(figs1a)"
   ],
   "id": "75dec53539bd441a",
   "outputs": [],
   "execution_count": null
  },
  {
   "metadata": {
    "ExecuteTime": {
     "end_time": "2024-09-30T13:55:41.092656Z",
     "start_time": "2024-09-30T13:55:41.092560Z"
    }
   },
   "cell_type": "code",
   "source": [
    "# MAKE FIGURE S1 PLOTS: CAT LEVELS\n",
    "\n",
    "# y range for the plot (in terms of cat prot. conc.)\n",
    "figs1b_y_range = (0, 1.25 * max(np.ravel(xss[:, :, circuit_name2pos['p_cat']])))\n",
    "\n",
    "# initialise\n",
    "figs1b = bkplot.figure(\n",
    "    frame_width=180,\n",
    "    frame_height=120,\n",
    "    x_axis_label=\"Time since mutation, h\",\n",
    "    y_axis_label=\"CAT protein conc., nM\",\n",
    "    x_range=(-5, 35),\n",
    "    y_range=figs1b_y_range,\n",
    "    tools=\"box_zoom,pan,hover,reset,save\"\n",
    ")\n",
    "# set svg backend\n",
    "figs1b.output_backend = \"svg\"\n",
    "\n",
    "# add shading to show when synthetic gene expression loss occurs\n",
    "figs1b.add_layout(bkmodels.PolyAnnotation(xs=[0,0,tf_afterloss[1]-tf_afterloss[0],tf_afterloss[1]-tf_afterloss[0]],\n",
    "                                         ys=[0,figs1b_y_range[1],figs1b_y_range[1],0],\n",
    "                                         line_width=0, line_alpha=0,\n",
    "                                         fill_color=bkRGB(100, 100, 100, 0.25)))\n",
    "figs1b.add_layout(bkmodels.Label(x=0, y=figs1b_y_range[1],\n",
    "                                x_offset=2, y_offset=-16,\n",
    "                                text='Burdensome gene mutated',\n",
    "                                text_font_size='8pt'))\n",
    "\n",
    "# plot the CAT protein levels\n",
    "for i in range(0,len(xss)):\n",
    "    figs1b.line(ts-tf_afterloss[0],np.array(xss[i,:,circuit_name2pos['p_cat']]), \n",
    "                line_width=1, line_color=bkRGB(222, 49, 99), line_alpha=0.05)\n",
    "figs1b.line(ts-tf_afterloss[0],np.mean(xss[:,:,circuit_name2pos['p_cat']],axis=0),\n",
    "            line_width=2, line_color=bkRGB(222, 49, 99), line_alpha=1)\n",
    "\n",
    "# show the plot\n",
    "bkplot.show(figs1b)"
   ],
   "id": "91c0201de4dda16e",
   "outputs": [],
   "execution_count": null
  },
  {
   "metadata": {},
   "cell_type": "code",
   "source": [
    "# MAKE FIGURE S1 PLOTS: INTEGRASE LEVEL\n",
    "\n",
    "# y range for the plot (in terms of integrase prot. conc.)\n",
    "figs1c_y_range = (0, 1.25 * max(np.ravel(xss[:, :, circuit_name2pos['p_int']])))\n",
    "\n",
    "# initialise\n",
    "figs1c = bkplot.figure(\n",
    "    frame_width=180,\n",
    "    frame_height=120,\n",
    "    x_axis_label=\"Time since mutation, h\",\n",
    "    y_axis_label=\"Integrase conc., nM\",\n",
    "    x_range=(-5, 35),\n",
    "    y_range=figs1c_y_range,\n",
    "    tools=\"box_zoom,pan,hover,reset,save\"\n",
    ")\n",
    "# set svg backend\n",
    "figs1c.output_backend = \"svg\"\n",
    "\n",
    "# add shading to show when synthetic gene expression loss occurs\n",
    "figs1c.add_layout(bkmodels.PolyAnnotation(xs=[0,0,tf_afterloss[1]-tf_afterloss[0],tf_afterloss[1]-tf_afterloss[0]],\n",
    "                                         ys=[0,figs1c_y_range[1],figs1c_y_range[1],0],\n",
    "                                         line_width=0, line_alpha=0,\n",
    "                                         fill_color=bkRGB(100, 100, 100, 0.25)))\n",
    "figs1c.add_layout(bkmodels.Label(x=0, y=figs1c_y_range[1],\n",
    "                                x_offset=2, y_offset=-16,\n",
    "                                text='Burdensome gene mutated',\n",
    "                                text_font_size='8pt'))\n",
    "\n",
    "# plot the integrase protein levels\n",
    "for i in range(0,len(xss)):\n",
    "    figs1c.line(ts-tf_afterloss[0],np.array(xss[i,:,circuit_name2pos['p_int']]), \n",
    "                line_width=1, line_color=bkRGB(255, 103, 0), line_alpha=0.05)\n",
    "figs1c.line(ts-tf_afterloss[0],np.mean(xss[:,:,circuit_name2pos['p_int']],axis=0),\n",
    "            line_width=2, line_color=bkRGB(255, 103, 0), line_alpha=1)\n",
    "\n",
    "# show the plot\n",
    "bkplot.show(figs1c)"
   ],
   "id": "71416e9d889a3ca1",
   "outputs": [],
   "execution_count": null
  },
  {
   "metadata": {},
   "cell_type": "code",
   "source": "del ts_det, xs_det, ts_preloss, xs_first_preloss, xss_preloss, ts_jnp_preloss, xs_jnp_preloss, final_keys_preloss, ts_jnp, xs_jnp, final_keys",
   "id": "b242c4245200dbaa",
   "outputs": [],
   "execution_count": null
  }
 ],
 "metadata": {
  "kernelspec": {
   "display_name": "Python 3",
   "language": "python",
   "name": "python3"
  },
  "language_info": {
   "codemirror_mode": {
    "name": "ipython",
    "version": 2
   },
   "file_extension": ".py",
   "mimetype": "text/x-python",
   "name": "python",
   "nbconvert_exporter": "python",
   "pygments_lexer": "ipython2",
   "version": "2.7.6"
  }
 },
 "nbformat": 4,
 "nbformat_minor": 5
}
