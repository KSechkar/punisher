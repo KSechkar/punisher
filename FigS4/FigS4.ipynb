{
 "cells": [
  {
   "cell_type": "code",
   "id": "initial_id",
   "metadata": {
    "collapsed": true,
    "ExecuteTime": {
     "end_time": "2024-08-06T18:39:01.603701Z",
     "start_time": "2024-08-06T18:39:00.704679Z"
    }
   },
   "source": [
    "'''\n",
    "Notebook for FIGS4 - validation of the assumptions required to make analytical derivations\n",
    "'''\n",
    "# By Kirill Sechkar\n",
    "\n",
    "# PACKAGE IMPORTS ------------------------------------------------------------------------------------------------------\n",
    "import numpy as np\n",
    "import jax\n",
    "import jax.numpy as jnp\n",
    "import functools\n",
    "from diffrax import diffeqsolve, Dopri5, ODETerm, SaveAt, PIDController, SteadyStateEvent\n",
    "import pandas as pd\n",
    "import pickle\n",
    "from bokeh import plotting as bkplot, models as bkmodels, layouts as bklayouts, palettes as bkpalettes, transform as bktransform\n",
    "from math import pi\n",
    "from bokeh import plotting as bkplot, models as bkmodels, layouts as bklayouts, io as bkio\n",
    "from bokeh.colors import RGB as bkRGB\n",
    "import time\n",
    "\n",
    "# set up jax\n",
    "from jax.lib import xla_bridge\n",
    "jax.config.update('jax_platform_name', 'cpu')\n",
    "jax.config.update(\"jax_enable_x64\", True)\n",
    "print(xla_bridge.get_backend().platform)\n",
    "\n",
    "# set up bokeh\n",
    "bkio.reset_output()\n",
    "bkio.output_notebook() \n",
    "\n",
    "# OWN CODE IMPORTS -----------------------------------------------------------------------------------------------------\n",
    "import synthetic_circuits as circuits\n",
    "from cell_model import *\n",
    "from get_steady_state import get_steady_state"
   ],
   "outputs": [
    {
     "name": "stderr",
     "output_type": "stream",
     "text": [
      "An NVIDIA GPU may be present on this machine, but a CUDA-enabled jaxlib is not installed. Falling back to cpu.\n"
     ]
    },
    {
     "name": "stdout",
     "output_type": "stream",
     "text": [
      "cpu\n"
     ]
    },
    {
     "data": {
      "text/html": [
       "    <style>\n",
       "        .bk-notebook-logo {\n",
       "            display: block;\n",
       "            width: 20px;\n",
       "            height: 20px;\n",
       "            background-image: url(data:image/png;base64,iVBORw0KGgoAAAANSUhEUgAAABQAAAAUCAYAAACNiR0NAAAABHNCSVQICAgIfAhkiAAAAAlwSFlzAAALEgAACxIB0t1+/AAAABx0RVh0U29mdHdhcmUAQWRvYmUgRmlyZXdvcmtzIENTNui8sowAAAOkSURBVDiNjZRtaJVlGMd/1/08zzln5zjP1LWcU9N0NkN8m2CYjpgQYQXqSs0I84OLIC0hkEKoPtiH3gmKoiJDU7QpLgoLjLIQCpEsNJ1vqUOdO7ppbuec5+V+rj4ctwzd8IIbbi6u+8f1539dt3A78eXC7QizUF7gyV1fD1Yqg4JWz84yffhm0qkFqBogB9rM8tZdtwVsPUhWhGcFJngGeWrPzHm5oaMmkfEg1usvLFyc8jLRqDOMru7AyC8saQr7GG7f5fvDeH7Ej8CM66nIF+8yngt6HWaKh7k49Soy9nXurCi1o3qUbS3zWfrYeQDTB/Qj6kX6Ybhw4B+bOYoLKCC9H3Nu/leUTZ1JdRWkkn2ldcCamzrcf47KKXdAJllSlxAOkRgyHsGC/zRday5Qld9DyoM4/q/rUoy/CXh3jzOu3bHUVZeU+DEn8FInkPBFlu3+nW3Nw0mk6vCDiWg8CeJaxEwuHS3+z5RgY+YBR6V1Z1nxSOfoaPa4LASWxxdNp+VWTk7+4vzaou8v8PN+xo+KY2xsw6une2frhw05CTYOmQvsEhjhWjn0bmXPjpE1+kplmmkP3suftwTubK9Vq22qKmrBhpY4jvd5afdRA3wGjFAgcnTK2s4hY0/GPNIb0nErGMCRxWOOX64Z8RAC4oCXdklmEvcL8o0BfkNK4lUg9HTl+oPlQxdNo3Mg4Nv175e/1LDGzZen30MEjRUtmXSfiTVu1kK8W4txyV6BMKlbgk3lMwYCiusNy9fVfvvwMxv8Ynl6vxoByANLTWplvuj/nF9m2+PDtt1eiHPBr1oIfhCChQMBw6Aw0UulqTKZdfVvfG7VcfIqLG9bcldL/+pdWTLxLUy8Qq38heUIjh4XlzZxzQm19lLFlr8vdQ97rjZVOLf8nclzckbcD4wxXMidpX30sFd37Fv/GtwwhzhxGVAprjbg0gCAEeIgwCZyTV2Z1REEW8O4py0wsjeloKoMr6iCY6dP92H6Vw/oTyICIthibxjm/DfN9lVz8IqtqKYLUXfoKVMVQVVJOElGjrnnUt9T9wbgp8AyYKaGlqingHZU/uG2NTZSVqwHQTWkx9hxjkpWDaCg6Ckj5qebgBVbT3V3NNXMSiWSDdGV3hrtzla7J+duwPOToIg42ChPQOQjspnSlp1V+Gjdged7+8UN5CRAV7a5EdFNwCjEaBR27b3W890TE7g24NAP/mMDXRWrGoFPQI9ls/MWO2dWFAar/xcOIImbbpA3zgAAAABJRU5ErkJggg==);\n",
       "        }\n",
       "    </style>\n",
       "    <div>\n",
       "        <a href=\"https://bokeh.org\" target=\"_blank\" class=\"bk-notebook-logo\"></a>\n",
       "        <span id=\"b67647a5-3a4f-4f3c-a9a4-1157f4b0c5b4\">Loading BokehJS ...</span>\n",
       "    </div>\n"
      ]
     },
     "metadata": {},
     "output_type": "display_data"
    },
    {
     "data": {
      "application/javascript": "'use strict';\n(function(root) {\n  function now() {\n    return new Date();\n  }\n\n  const force = true;\n\n  if (typeof root._bokeh_onload_callbacks === \"undefined\" || force === true) {\n    root._bokeh_onload_callbacks = [];\n    root._bokeh_is_loading = undefined;\n  }\n\nconst JS_MIME_TYPE = 'application/javascript';\n  const HTML_MIME_TYPE = 'text/html';\n  const EXEC_MIME_TYPE = 'application/vnd.bokehjs_exec.v0+json';\n  const CLASS_NAME = 'output_bokeh rendered_html';\n\n  /**\n   * Render data to the DOM node\n   */\n  function render(props, node) {\n    const script = document.createElement(\"script\");\n    node.appendChild(script);\n  }\n\n  /**\n   * Handle when an output is cleared or removed\n   */\n  function handleClearOutput(event, handle) {\n    function drop(id) {\n      const view = Bokeh.index.get_by_id(id)\n      if (view != null) {\n        view.model.document.clear()\n        Bokeh.index.delete(view)\n      }\n    }\n\n    const cell = handle.cell;\n\n    const id = cell.output_area._bokeh_element_id;\n    const server_id = cell.output_area._bokeh_server_id;\n\n    // Clean up Bokeh references\n    if (id != null) {\n      drop(id)\n    }\n\n    if (server_id !== undefined) {\n      // Clean up Bokeh references\n      const cmd_clean = \"from bokeh.io.state import curstate; print(curstate().uuid_to_server['\" + server_id + \"'].get_sessions()[0].document.roots[0]._id)\";\n      cell.notebook.kernel.execute(cmd_clean, {\n        iopub: {\n          output: function(msg) {\n            const id = msg.content.text.trim()\n            drop(id)\n          }\n        }\n      });\n      // Destroy server and session\n      const cmd_destroy = \"import bokeh.io.notebook as ion; ion.destroy_server('\" + server_id + \"')\";\n      cell.notebook.kernel.execute(cmd_destroy);\n    }\n  }\n\n  /**\n   * Handle when a new output is added\n   */\n  function handleAddOutput(event, handle) {\n    const output_area = handle.output_area;\n    const output = handle.output;\n\n    // limit handleAddOutput to display_data with EXEC_MIME_TYPE content only\n    if ((output.output_type != \"display_data\") || (!Object.prototype.hasOwnProperty.call(output.data, EXEC_MIME_TYPE))) {\n      return\n    }\n\n    const toinsert = output_area.element.find(\".\" + CLASS_NAME.split(' ')[0]);\n\n    if (output.metadata[EXEC_MIME_TYPE][\"id\"] !== undefined) {\n      toinsert[toinsert.length - 1].firstChild.textContent = output.data[JS_MIME_TYPE];\n      // store reference to embed id on output_area\n      output_area._bokeh_element_id = output.metadata[EXEC_MIME_TYPE][\"id\"];\n    }\n    if (output.metadata[EXEC_MIME_TYPE][\"server_id\"] !== undefined) {\n      const bk_div = document.createElement(\"div\");\n      bk_div.innerHTML = output.data[HTML_MIME_TYPE];\n      const script_attrs = bk_div.children[0].attributes;\n      for (let i = 0; i < script_attrs.length; i++) {\n        toinsert[toinsert.length - 1].firstChild.setAttribute(script_attrs[i].name, script_attrs[i].value);\n        toinsert[toinsert.length - 1].firstChild.textContent = bk_div.children[0].textContent\n      }\n      // store reference to server id on output_area\n      output_area._bokeh_server_id = output.metadata[EXEC_MIME_TYPE][\"server_id\"];\n    }\n  }\n\n  function register_renderer(events, OutputArea) {\n\n    function append_mime(data, metadata, element) {\n      // create a DOM node to render to\n      const toinsert = this.create_output_subarea(\n        metadata,\n        CLASS_NAME,\n        EXEC_MIME_TYPE\n      );\n      this.keyboard_manager.register_events(toinsert);\n      // Render to node\n      const props = {data: data, metadata: metadata[EXEC_MIME_TYPE]};\n      render(props, toinsert[toinsert.length - 1]);\n      element.append(toinsert);\n      return toinsert\n    }\n\n    /* Handle when an output is cleared or removed */\n    events.on('clear_output.CodeCell', handleClearOutput);\n    events.on('delete.Cell', handleClearOutput);\n\n    /* Handle when a new output is added */\n    events.on('output_added.OutputArea', handleAddOutput);\n\n    /**\n     * Register the mime type and append_mime function with output_area\n     */\n    OutputArea.prototype.register_mime_type(EXEC_MIME_TYPE, append_mime, {\n      /* Is output safe? */\n      safe: true,\n      /* Index of renderer in `output_area.display_order` */\n      index: 0\n    });\n  }\n\n  // register the mime type if in Jupyter Notebook environment and previously unregistered\n  if (root.Jupyter !== undefined) {\n    const events = require('base/js/events');\n    const OutputArea = require('notebook/js/outputarea').OutputArea;\n\n    if (OutputArea.prototype.mime_types().indexOf(EXEC_MIME_TYPE) == -1) {\n      register_renderer(events, OutputArea);\n    }\n  }\n  if (typeof (root._bokeh_timeout) === \"undefined\" || force === true) {\n    root._bokeh_timeout = Date.now() + 5000;\n    root._bokeh_failed_load = false;\n  }\n\n  const NB_LOAD_WARNING = {'data': {'text/html':\n     \"<div style='background-color: #fdd'>\\n\"+\n     \"<p>\\n\"+\n     \"BokehJS does not appear to have successfully loaded. If loading BokehJS from CDN, this \\n\"+\n     \"may be due to a slow or bad network connection. Possible fixes:\\n\"+\n     \"</p>\\n\"+\n     \"<ul>\\n\"+\n     \"<li>re-rerun `output_notebook()` to attempt to load from CDN again, or</li>\\n\"+\n     \"<li>use INLINE resources instead, as so:</li>\\n\"+\n     \"</ul>\\n\"+\n     \"<code>\\n\"+\n     \"from bokeh.resources import INLINE\\n\"+\n     \"output_notebook(resources=INLINE)\\n\"+\n     \"</code>\\n\"+\n     \"</div>\"}};\n\n  function display_loaded(error = null) {\n    const el = document.getElementById(\"b67647a5-3a4f-4f3c-a9a4-1157f4b0c5b4\");\n    if (el != null) {\n      const html = (() => {\n        if (typeof root.Bokeh === \"undefined\") {\n          if (error == null) {\n            return \"BokehJS is loading ...\";\n          } else {\n            return \"BokehJS failed to load.\";\n          }\n        } else {\n          const prefix = `BokehJS ${root.Bokeh.version}`;\n          if (error == null) {\n            return `${prefix} successfully loaded.`;\n          } else {\n            return `${prefix} <b>encountered errors</b> while loading and may not function as expected.`;\n          }\n        }\n      })();\n      el.innerHTML = html;\n\n      if (error != null) {\n        const wrapper = document.createElement(\"div\");\n        wrapper.style.overflow = \"auto\";\n        wrapper.style.height = \"5em\";\n        wrapper.style.resize = \"vertical\";\n        const content = document.createElement(\"div\");\n        content.style.fontFamily = \"monospace\";\n        content.style.whiteSpace = \"pre-wrap\";\n        content.style.backgroundColor = \"rgb(255, 221, 221)\";\n        content.textContent = error.stack ?? error.toString();\n        wrapper.append(content);\n        el.append(wrapper);\n      }\n    } else if (Date.now() < root._bokeh_timeout) {\n      setTimeout(() => display_loaded(error), 100);\n    }\n  }\n\n  function run_callbacks() {\n    try {\n      root._bokeh_onload_callbacks.forEach(function(callback) {\n        if (callback != null)\n          callback();\n      });\n    } finally {\n      delete root._bokeh_onload_callbacks\n    }\n    console.debug(\"Bokeh: all callbacks have finished\");\n  }\n\n  function load_libs(css_urls, js_urls, callback) {\n    if (css_urls == null) css_urls = [];\n    if (js_urls == null) js_urls = [];\n\n    root._bokeh_onload_callbacks.push(callback);\n    if (root._bokeh_is_loading > 0) {\n      console.debug(\"Bokeh: BokehJS is being loaded, scheduling callback at\", now());\n      return null;\n    }\n    if (js_urls == null || js_urls.length === 0) {\n      run_callbacks();\n      return null;\n    }\n    console.debug(\"Bokeh: BokehJS not loaded, scheduling load and callback at\", now());\n    root._bokeh_is_loading = css_urls.length + js_urls.length;\n\n    function on_load() {\n      root._bokeh_is_loading--;\n      if (root._bokeh_is_loading === 0) {\n        console.debug(\"Bokeh: all BokehJS libraries/stylesheets loaded\");\n        run_callbacks()\n      }\n    }\n\n    function on_error(url) {\n      console.error(\"failed to load \" + url);\n    }\n\n    for (let i = 0; i < css_urls.length; i++) {\n      const url = css_urls[i];\n      const element = document.createElement(\"link\");\n      element.onload = on_load;\n      element.onerror = on_error.bind(null, url);\n      element.rel = \"stylesheet\";\n      element.type = \"text/css\";\n      element.href = url;\n      console.debug(\"Bokeh: injecting link tag for BokehJS stylesheet: \", url);\n      document.body.appendChild(element);\n    }\n\n    for (let i = 0; i < js_urls.length; i++) {\n      const url = js_urls[i];\n      const element = document.createElement('script');\n      element.onload = on_load;\n      element.onerror = on_error.bind(null, url);\n      element.async = false;\n      element.src = url;\n      console.debug(\"Bokeh: injecting script tag for BokehJS library: \", url);\n      document.head.appendChild(element);\n    }\n  };\n\n  function inject_raw_css(css) {\n    const element = document.createElement(\"style\");\n    element.appendChild(document.createTextNode(css));\n    document.body.appendChild(element);\n  }\n\n  const js_urls = [\"https://cdn.bokeh.org/bokeh/release/bokeh-3.4.0.min.js\", \"https://cdn.bokeh.org/bokeh/release/bokeh-gl-3.4.0.min.js\", \"https://cdn.bokeh.org/bokeh/release/bokeh-widgets-3.4.0.min.js\", \"https://cdn.bokeh.org/bokeh/release/bokeh-tables-3.4.0.min.js\", \"https://cdn.bokeh.org/bokeh/release/bokeh-mathjax-3.4.0.min.js\"];\n  const css_urls = [];\n\n  const inline_js = [    function(Bokeh) {\n      Bokeh.set_log_level(\"info\");\n    },\nfunction(Bokeh) {\n    }\n  ];\n\n  function run_inline_js() {\n    if (root.Bokeh !== undefined || force === true) {\n      try {\n            for (let i = 0; i < inline_js.length; i++) {\n      inline_js[i].call(root, root.Bokeh);\n    }\n\n      } catch (error) {display_loaded(error);throw error;\n      }if (force === true) {\n        display_loaded();\n      }} else if (Date.now() < root._bokeh_timeout) {\n      setTimeout(run_inline_js, 100);\n    } else if (!root._bokeh_failed_load) {\n      console.log(\"Bokeh: BokehJS failed to load within specified timeout.\");\n      root._bokeh_failed_load = true;\n    } else if (force !== true) {\n      const cell = $(document.getElementById(\"b67647a5-3a4f-4f3c-a9a4-1157f4b0c5b4\")).parents('.cell').data().cell;\n      cell.output_area.append_execute_result(NB_LOAD_WARNING)\n    }\n  }\n\n  if (root._bokeh_is_loading === 0) {\n    console.debug(\"Bokeh: BokehJS loaded, going straight to plotting\");\n    run_inline_js();\n  } else {\n    load_libs(css_urls, js_urls, function() {\n      console.debug(\"Bokeh: BokehJS plotting callback run at\", now());\n      run_inline_js();\n    });\n  }\n}(window));",
      "application/vnd.bokehjs_load.v0+json": "'use strict';\n(function(root) {\n  function now() {\n    return new Date();\n  }\n\n  const force = true;\n\n  if (typeof root._bokeh_onload_callbacks === \"undefined\" || force === true) {\n    root._bokeh_onload_callbacks = [];\n    root._bokeh_is_loading = undefined;\n  }\n\n\n  if (typeof (root._bokeh_timeout) === \"undefined\" || force === true) {\n    root._bokeh_timeout = Date.now() + 5000;\n    root._bokeh_failed_load = false;\n  }\n\n  const NB_LOAD_WARNING = {'data': {'text/html':\n     \"<div style='background-color: #fdd'>\\n\"+\n     \"<p>\\n\"+\n     \"BokehJS does not appear to have successfully loaded. If loading BokehJS from CDN, this \\n\"+\n     \"may be due to a slow or bad network connection. Possible fixes:\\n\"+\n     \"</p>\\n\"+\n     \"<ul>\\n\"+\n     \"<li>re-rerun `output_notebook()` to attempt to load from CDN again, or</li>\\n\"+\n     \"<li>use INLINE resources instead, as so:</li>\\n\"+\n     \"</ul>\\n\"+\n     \"<code>\\n\"+\n     \"from bokeh.resources import INLINE\\n\"+\n     \"output_notebook(resources=INLINE)\\n\"+\n     \"</code>\\n\"+\n     \"</div>\"}};\n\n  function display_loaded(error = null) {\n    const el = document.getElementById(\"b67647a5-3a4f-4f3c-a9a4-1157f4b0c5b4\");\n    if (el != null) {\n      const html = (() => {\n        if (typeof root.Bokeh === \"undefined\") {\n          if (error == null) {\n            return \"BokehJS is loading ...\";\n          } else {\n            return \"BokehJS failed to load.\";\n          }\n        } else {\n          const prefix = `BokehJS ${root.Bokeh.version}`;\n          if (error == null) {\n            return `${prefix} successfully loaded.`;\n          } else {\n            return `${prefix} <b>encountered errors</b> while loading and may not function as expected.`;\n          }\n        }\n      })();\n      el.innerHTML = html;\n\n      if (error != null) {\n        const wrapper = document.createElement(\"div\");\n        wrapper.style.overflow = \"auto\";\n        wrapper.style.height = \"5em\";\n        wrapper.style.resize = \"vertical\";\n        const content = document.createElement(\"div\");\n        content.style.fontFamily = \"monospace\";\n        content.style.whiteSpace = \"pre-wrap\";\n        content.style.backgroundColor = \"rgb(255, 221, 221)\";\n        content.textContent = error.stack ?? error.toString();\n        wrapper.append(content);\n        el.append(wrapper);\n      }\n    } else if (Date.now() < root._bokeh_timeout) {\n      setTimeout(() => display_loaded(error), 100);\n    }\n  }\n\n  function run_callbacks() {\n    try {\n      root._bokeh_onload_callbacks.forEach(function(callback) {\n        if (callback != null)\n          callback();\n      });\n    } finally {\n      delete root._bokeh_onload_callbacks\n    }\n    console.debug(\"Bokeh: all callbacks have finished\");\n  }\n\n  function load_libs(css_urls, js_urls, callback) {\n    if (css_urls == null) css_urls = [];\n    if (js_urls == null) js_urls = [];\n\n    root._bokeh_onload_callbacks.push(callback);\n    if (root._bokeh_is_loading > 0) {\n      console.debug(\"Bokeh: BokehJS is being loaded, scheduling callback at\", now());\n      return null;\n    }\n    if (js_urls == null || js_urls.length === 0) {\n      run_callbacks();\n      return null;\n    }\n    console.debug(\"Bokeh: BokehJS not loaded, scheduling load and callback at\", now());\n    root._bokeh_is_loading = css_urls.length + js_urls.length;\n\n    function on_load() {\n      root._bokeh_is_loading--;\n      if (root._bokeh_is_loading === 0) {\n        console.debug(\"Bokeh: all BokehJS libraries/stylesheets loaded\");\n        run_callbacks()\n      }\n    }\n\n    function on_error(url) {\n      console.error(\"failed to load \" + url);\n    }\n\n    for (let i = 0; i < css_urls.length; i++) {\n      const url = css_urls[i];\n      const element = document.createElement(\"link\");\n      element.onload = on_load;\n      element.onerror = on_error.bind(null, url);\n      element.rel = \"stylesheet\";\n      element.type = \"text/css\";\n      element.href = url;\n      console.debug(\"Bokeh: injecting link tag for BokehJS stylesheet: \", url);\n      document.body.appendChild(element);\n    }\n\n    for (let i = 0; i < js_urls.length; i++) {\n      const url = js_urls[i];\n      const element = document.createElement('script');\n      element.onload = on_load;\n      element.onerror = on_error.bind(null, url);\n      element.async = false;\n      element.src = url;\n      console.debug(\"Bokeh: injecting script tag for BokehJS library: \", url);\n      document.head.appendChild(element);\n    }\n  };\n\n  function inject_raw_css(css) {\n    const element = document.createElement(\"style\");\n    element.appendChild(document.createTextNode(css));\n    document.body.appendChild(element);\n  }\n\n  const js_urls = [\"https://cdn.bokeh.org/bokeh/release/bokeh-3.4.0.min.js\", \"https://cdn.bokeh.org/bokeh/release/bokeh-gl-3.4.0.min.js\", \"https://cdn.bokeh.org/bokeh/release/bokeh-widgets-3.4.0.min.js\", \"https://cdn.bokeh.org/bokeh/release/bokeh-tables-3.4.0.min.js\", \"https://cdn.bokeh.org/bokeh/release/bokeh-mathjax-3.4.0.min.js\"];\n  const css_urls = [];\n\n  const inline_js = [    function(Bokeh) {\n      Bokeh.set_log_level(\"info\");\n    },\nfunction(Bokeh) {\n    }\n  ];\n\n  function run_inline_js() {\n    if (root.Bokeh !== undefined || force === true) {\n      try {\n            for (let i = 0; i < inline_js.length; i++) {\n      inline_js[i].call(root, root.Bokeh);\n    }\n\n      } catch (error) {display_loaded(error);throw error;\n      }if (force === true) {\n        display_loaded();\n      }} else if (Date.now() < root._bokeh_timeout) {\n      setTimeout(run_inline_js, 100);\n    } else if (!root._bokeh_failed_load) {\n      console.log(\"Bokeh: BokehJS failed to load within specified timeout.\");\n      root._bokeh_failed_load = true;\n    } else if (force !== true) {\n      const cell = $(document.getElementById(\"b67647a5-3a4f-4f3c-a9a4-1157f4b0c5b4\")).parents('.cell').data().cell;\n      cell.output_area.append_execute_result(NB_LOAD_WARNING)\n    }\n  }\n\n  if (root._bokeh_is_loading === 0) {\n    console.debug(\"Bokeh: BokehJS loaded, going straight to plotting\");\n    run_inline_js();\n  } else {\n    load_libs(css_urls, js_urls, function() {\n      console.debug(\"Bokeh: BokehJS plotting callback run at\", now());\n      run_inline_js();\n    });\n  }\n}(window));"
     },
     "metadata": {},
     "output_type": "display_data"
    }
   ],
   "execution_count": 1
  },
  {
   "metadata": {
    "ExecuteTime": {
     "end_time": "2024-08-06T18:39:01.607537Z",
     "start_time": "2024-08-06T18:39:01.604750Z"
    }
   },
   "cell_type": "code",
   "source": [
    " # INITIALISE CELL MODEL, LOAD THE CIRCUIT\n",
    "\n",
    "# set up the circuit\n",
    "cellmodel_auxil = CellModelAuxiliary()  # auxiliary tools for simulating the model and plotting simulation outcomes\n",
    "par = cellmodel_auxil.default_params()  # get default parameter values\n",
    "init_conds = cellmodel_auxil.default_init_conds(par)  # get default initial conditions\n",
    "\n",
    "ode_with_circuit, circuit_F_calc, par, init_conds, circuit_genes, circuit_miscs, circuit_name2pos, circuit_styles, _ = cellmodel_auxil.add_circuit(\n",
    "    circuits.oneconstitutive_cat_initialise,\n",
    "    circuits.oneconstitutive_cat_ode,\n",
    "    circuits.oneconstitutive_cat_F_calc,\n",
    "    par, init_conds)  # load the circuit\n"
   ],
   "id": "406773824e976615",
   "outputs": [],
   "execution_count": 2
  },
  {
   "metadata": {
    "ExecuteTime": {
     "end_time": "2024-08-06T18:39:01.611167Z",
     "start_time": "2024-08-06T18:39:01.608439Z"
    }
   },
   "cell_type": "code",
   "source": [
    "# PARAMETERISE CHLORAMPHENICOL RESISTANCE\n",
    "\n",
    "init_conds['cat_pb'] = 10.0  # gene concentration (nM) - INITIAL CONDITION< NOT PARAMETER as it can be cut out by the integrase\n",
    "par['a_cat'] = 500.0  # promoter strength (unitless)\n",
    "par['n_cat'] = 300.0 # number of amino acids in CAT\n",
    "\n",
    "# chloramphenicol concentration in the medium\n",
    "par['h_ext'] = 10.5 * (10.0 ** 3)"
   ],
   "id": "b492785eb4424247",
   "outputs": [],
   "execution_count": 3
  },
  {
   "metadata": {
    "ExecuteTime": {
     "end_time": "2024-08-06T18:39:01.662350Z",
     "start_time": "2024-08-06T18:39:01.612324Z"
    }
   },
   "cell_type": "code",
   "source": [
    "# DEFINE PARAMETER RANGES TO CONSIDER\n",
    "\n",
    "# define range of heterologous gene expression rates\n",
    "num_c_bs = 15\n",
    "\n",
    "c_b_range = jnp.linspace(0,2.5e5/par['a_b'],num_c_bs)    # plasmid concentration range\n",
    "\n",
    "# define range of medium nutrient qualities\n",
    "num_ss = 15\n",
    "s_range = jnp.linspace(0.08,0.5,num_ss)    # protease concentration range"
   ],
   "id": "7e15930ebd105d07",
   "outputs": [],
   "execution_count": 4
  },
  {
   "metadata": {
    "ExecuteTime": {
     "end_time": "2024-08-06T18:39:01.665726Z",
     "start_time": "2024-08-06T18:39:01.663722Z"
    }
   },
   "cell_type": "code",
   "source": [
    "# DEFINE SIMULATION PARAMETERS\n",
    "\n",
    "# define simulation parameters\n",
    "t_to_steady = 50 # simulation time frame - assume that the cell is close to steady state after 50h\n",
    "rtol = 1e-6; atol = 1e-6  # relative and absolute tolerances for the ODE solver"
   ],
   "id": "f85a09f45c9ea62a",
   "outputs": [],
   "execution_count": 5
  },
  {
   "metadata": {
    "ExecuteTime": {
     "end_time": "2024-08-06T18:39:01.705856Z",
     "start_time": "2024-08-06T18:39:01.666906Z"
    }
   },
   "cell_type": "code",
   "source": [
    "# PREPARE FOR VMAPPED SIMULATIONS\n",
    "\n",
    "# make a mesh grid of all possible parameter combinations\n",
    "s_mesh, c_b_mesh = jnp.meshgrid(s_range, c_b_range)\n",
    "s_mesh_ravel = s_mesh.ravel()\n",
    "c_b_mesh_ravel = c_b_mesh.ravel()\n",
    "\n",
    "# vmap axes for parameters\n",
    "par_vmap_axes = {}\n",
    "for parameter in par.keys():\n",
    "    if(parameter=='c_b'):\n",
    "        par_vmap_axes[parameter]=0\n",
    "    else:\n",
    "        par_vmap_axes[parameter]=None\n",
    "init_cond_vmap_axes = {}\n",
    "for init_cond in init_conds.keys():\n",
    "    if(init_cond=='s'):\n",
    "        init_cond_vmap_axes[init_cond]=0\n",
    "    else:\n",
    "        init_cond_vmap_axes[init_cond]=None\n",
    "        \n",
    "# set parameter values to be vectors for vmapping\n",
    "default_s = init_conds['s']\n",
    "default_c_b = par['c_b']\n",
    "init_conds['s'] = s_mesh_ravel\n",
    "par['c_b'] = c_b_mesh_ravel"
   ],
   "id": "b0c86e8f1b611c4b",
   "outputs": [],
   "execution_count": 6
  },
  {
   "metadata": {
    "ExecuteTime": {
     "end_time": "2024-08-06T18:39:09.266533Z",
     "start_time": "2024-08-06T18:39:01.707254Z"
    }
   },
   "cell_type": "code",
   "source": [
    "# RUN SIMULATIONS\n",
    "\n",
    "# repackage synthetic gene parameters into jax arrays for simulation\n",
    "sgp4j=cellmodel_auxil.synth_gene_params_for_jax(par,circuit_genes) \n",
    "\n",
    "get_steadystate_for_par_and_init_conds = lambda par, init_conds: get_steady_state(par,  # dictionary with model parameters\n",
    "                                                        ode_with_circuit,  # ODE function for the cell with synthetic circuit\n",
    "                                                        cellmodel_auxil.x0_from_init_conds(init_conds,circuit_genes,circuit_miscs),  # initial condition vector\n",
    "                                                        len(circuit_genes), len(circuit_miscs), circuit_name2pos,\n",
    "                                                        # dictionaries with circuit gene and miscellaneous specie names, species name to vector position decoder\n",
    "                                                        sgp4j,# synthetic gene parameters for calculating k values\n",
    "                                                        t_to_steady, # simulation time until steday state assumed to be reached\n",
    "                                                        rtol,atol)  # simulation parameters: when to save the system's state, relative and absolute tolerances)   # simulation parameters: time frame, save time step, relative and absolute tolerances\n",
    "vmapped_get_steadystate_for_par_and_init_conds = jax.vmap(get_steadystate_for_par_and_init_conds, in_axes=(par_vmap_axes,init_cond_vmap_axes))\n",
    "sols = vmapped_get_steadystate_for_par_and_init_conds(par,init_conds)\n",
    "ts=np.array(sols.ts)\n",
    "xs=np.array(sols.ys)\n"
   ],
   "id": "d65b7cc1b43d990",
   "outputs": [],
   "execution_count": 7
  },
  {
   "metadata": {
    "ExecuteTime": {
     "end_time": "2024-08-06T18:39:09.573812Z",
     "start_time": "2024-08-06T18:39:09.267434Z"
    }
   },
   "cell_type": "code",
   "source": [
    "# GET PHYSIOLOGICAL VARIABLES FOR SIMULATION OUTCOMES\n",
    "\n",
    "es_ravel=np.zeros_like(np.array(s_mesh_ravel))\n",
    "F_rs_ravel=np.zeros_like(es_ravel)\n",
    "Hs_ravel=np.zeros_like(es_ravel)\n",
    "for i in range(0, sols.ts.shape[0]):\n",
    "    par_i= par.copy()\n",
    "    init_conds_i = init_conds.copy()\n",
    "    init_conds_i['s'] = np.array(s_mesh_ravel)[i]\n",
    "    par_i['c_b'] = np.array(c_b_mesh_ravel)[i]\n",
    "    es_array, _, F_rs_array, _, _, Ts_array, Ds_array, Ds_nodeg_array = cellmodel_auxil.get_e_l_Fr_nu_psi_T_D_Dnodeg(\n",
    "        ts[i,:], xs[i,:,:], par_i,\n",
    "        circuit_genes, circuit_miscs, circuit_name2pos)\n",
    "    es_ravel[i] = es_array[-1]\n",
    "    F_rs_ravel[i] = F_rs_array[-1]\n",
    "    # chloramphenicol concentration\n",
    "    h=xs[i,-1,7]\n",
    "    Hs_ravel[i]=par_i['K_D']/(h+par_i['K_D'])\n",
    "    \n",
    "# record the obtained values\n",
    "es=es_ravel.reshape(len(c_b_range), len(s_range)).T\n",
    "F_rs=F_rs_ravel.reshape(len(c_b_range), len(s_range)).T\n",
    "Hs=Hs_ravel.reshape(len(c_b_range), len(s_range)).T\n",
    "\n",
    "# find percentage changes in physiological variables relative to no burden\n",
    "es_changes=np.zeros_like(es)\n",
    "F_rs_changes=np.zeros_like(F_rs)\n",
    "Hs_changes=np.zeros_like(Hs)\n",
    "for i in range(0, len(s_range)):\n",
    "    for j in range(0, len(c_b_range)):\n",
    "        es_changes[i,j]=np.abs(100*(es[i,j]-es[i,0])/es[i,0])\n",
    "        F_rs_changes[i,j]=np.abs(100*(F_rs[i,j]-F_rs[i,0])/F_rs[i,0])\n",
    "        Hs_changes[i,j]=np.abs(100*(Hs[i,j]-Hs[i,0])/Hs[i,0])"
   ],
   "id": "73ee84d5ad0d7608",
   "outputs": [],
   "execution_count": 8
  },
  {
   "metadata": {
    "ExecuteTime": {
     "end_time": "2024-08-06T18:44:57.463988Z",
     "start_time": "2024-08-06T18:44:52.027560Z"
    }
   },
   "cell_type": "code",
   "source": [
    "# PLOT HEATMAPS OF CHANGES IN E, T, F_r\n",
    "\n",
    "# specify heatmap settings\n",
    "dimensions = (360,280)  # dimensions of the plot (width, height)\n",
    "colourbar_range = (0, 10)\n",
    "\n",
    "# consider changes in different variables in turns\n",
    "var_changes = [es_changes, F_rs_changes, Hs_changes]\n",
    "var_descriptions = ['ε', 'F_r', 'H']\n",
    "\n",
    "# make axis labels\n",
    "prot_labels = []\n",
    "for i in range(0, len(s_range)):\n",
    "    if(i==0 or i==int(len(s_range+1)/2) or i==len(s_range)-1):\n",
    "        prot_labels.append(str(s_range[i]))\n",
    "    else:\n",
    "        prot_labels.append('')\n",
    "xtra_labels = []\n",
    "for i in range(0, len(c_b_range)):\n",
    "    if(i==0 or i==int((len(c_b_range)+1)/2) or i==len(c_b_range)-1):\n",
    "        xtra_labels.append(str(c_b_range[i]))\n",
    "    else:\n",
    "        xtra_labels.append('')\n",
    "\n",
    "# plot\n",
    "figs = []\n",
    "for var_cntr in range(0, len(var_changes)):   \n",
    "    # make a dataframe for plotting\n",
    "    str_b=[np.format_float_scientific(x*par['a_b'], precision=2) for x in c_b_range]\n",
    "    df_2d = pd.DataFrame(var_changes[var_cntr], columns=str_b)\n",
    "    df_2d.columns = df_2d.columns.astype('str')\n",
    "    df_2d['s'] = [np.format_float_scientific(x,precision=2) for x in s_range]\n",
    "    df_2d['s'] = df_2d['s'].astype('str')\n",
    "    df_2d = df_2d.set_index('s')\n",
    "    df_2d.columns.name = 'a_b'\n",
    "    changes_df = pd.DataFrame(df_2d.stack(), columns=[var_descriptions[var_cntr]]).reset_index()\n",
    "\n",
    "    # set up the graph\n",
    "    figs.append(bkplot.figure(\n",
    "        x_axis_label='σ (medium nutr. qual.)',\n",
    "        y_axis_label='αb (synth. gene transc. rate), nM',\n",
    "        x_range=list(df_2d.index),\n",
    "        y_range=list(df_2d.columns),\n",
    "        width=dimensions[0], height=dimensions[1],\n",
    "        tools=\"box_zoom,pan,hover,reset,save\",\n",
    "        tooltips=[('σ = ','@{s}'),\n",
    "                  ('αb = ','@{a_b}'),\n",
    "                  (var_descriptions[var_cntr]+' change=', '@'+var_descriptions[var_cntr])],\n",
    "        title=var_descriptions[var_cntr]+' % change',\n",
    "    ))\n",
    "    # svg backend\n",
    "    figs[-1].output_backend = \"svg\"\n",
    "    figs[-1].grid.grid_line_color = None\n",
    "    figs[-1].axis.axis_line_color = None\n",
    "    figs[-1].axis.major_tick_line_color = None\n",
    "    figs[-1].axis.major_label_text_font_size = \"8pt\"\n",
    "    figs[-1].axis.major_label_standoff = 0\n",
    "    figs[-1].xaxis.major_label_orientation = pi/2\n",
    "\n",
    "    # plot the heatmap\n",
    "    rects = figs[-1].rect(x=\"s\", y=\"a_b\", source=changes_df,\n",
    "                       width=1, height=1,\n",
    "                       fill_color=bktransform.linear_cmap(var_descriptions[var_cntr], bkpalettes.Plasma256, low=colourbar_range[0],high=colourbar_range[1]),\n",
    "                       line_color=None)\n",
    "    # add colour bar\n",
    "    figs[-1].add_layout(rects.construct_color_bar(\n",
    "        major_label_text_font_size=\"8pt\",\n",
    "        ticker=bkmodels.BasicTicker(desired_num_ticks=3),\n",
    "        formatter=bkmodels.PrintfTickFormatter(format=\"%.0f%%\"),\n",
    "        label_standoff=6,\n",
    "        border_line_color=None,\n",
    "        padding=5\n",
    "    ), 'right')\n",
    "\n",
    "# show plots\n",
    "bkplot.show(bklayouts.row(figs))"
   ],
   "id": "e173872b71f99c22",
   "outputs": [
    {
     "data": {
      "text/html": [
       "\n",
       "  <div id=\"d1b74b98-4380-4e9f-9477-2505c40b753b\" data-root-id=\"p1476\" style=\"display: contents;\"></div>\n"
      ]
     },
     "metadata": {},
     "output_type": "display_data"
    },
    {
     "data": {
      "application/javascript": "(function(root) {\n  function embed_document(root) {\n  const docs_json = {\"084ea429-51b4-4b73-ac39-183be5f8e319\":{\"version\":\"3.4.0\",\"title\":\"Bokeh Application\",\"roots\":[{\"type\":\"object\",\"name\":\"Row\",\"id\":\"p1476\",\"attributes\":{\"children\":[{\"type\":\"object\",\"name\":\"Figure\",\"id\":\"p1323\",\"attributes\":{\"width\":360,\"height\":280,\"x_range\":{\"type\":\"object\",\"name\":\"FactorRange\",\"id\":\"p1333\",\"attributes\":{\"factors\":[\"8.e-02\",\"1.1e-01\",\"1.4e-01\",\"1.7e-01\",\"2.e-01\",\"2.3e-01\",\"2.6e-01\",\"2.9e-01\",\"3.2e-01\",\"3.5e-01\",\"3.8e-01\",\"4.1e-01\",\"4.4e-01\",\"4.7e-01\",\"5.e-01\"]}},\"y_range\":{\"type\":\"object\",\"name\":\"FactorRange\",\"id\":\"p1334\",\"attributes\":{\"factors\":[\"0.e+00\",\"1.79e+04\",\"3.57e+04\",\"5.36e+04\",\"7.14e+04\",\"8.93e+04\",\"1.07e+05\",\"1.25e+05\",\"1.43e+05\",\"1.61e+05\",\"1.79e+05\",\"1.96e+05\",\"2.14e+05\",\"2.32e+05\",\"2.5e+05\"]}},\"x_scale\":{\"type\":\"object\",\"name\":\"CategoricalScale\",\"id\":\"p1335\"},\"y_scale\":{\"type\":\"object\",\"name\":\"CategoricalScale\",\"id\":\"p1336\"},\"title\":{\"type\":\"object\",\"name\":\"Title\",\"id\":\"p1326\",\"attributes\":{\"text\":\"e % change\"}},\"renderers\":[{\"type\":\"object\",\"name\":\"GlyphRenderer\",\"id\":\"p1367\",\"attributes\":{\"data_source\":{\"type\":\"object\",\"name\":\"ColumnDataSource\",\"id\":\"p1358\",\"attributes\":{\"selected\":{\"type\":\"object\",\"name\":\"Selection\",\"id\":\"p1359\",\"attributes\":{\"indices\":[],\"line_indices\":[]}},\"selection_policy\":{\"type\":\"object\",\"name\":\"UnionRenderers\",\"id\":\"p1360\"},\"data\":{\"type\":\"map\",\"entries\":[[\"index\",{\"type\":\"ndarray\",\"array\":{\"type\":\"bytes\",\"data\":\"AAAAAAEAAAACAAAAAwAAAAQAAAAFAAAABgAAAAcAAAAIAAAACQAAAAoAAAALAAAADAAAAA0AAAAOAAAADwAAABAAAAARAAAAEgAAABMAAAAUAAAAFQAAABYAAAAXAAAAGAAAABkAAAAaAAAAGwAAABwAAAAdAAAAHgAAAB8AAAAgAAAAIQAAACIAAAAjAAAAJAAAACUAAAAmAAAAJwAAACgAAAApAAAAKgAAACsAAAAsAAAALQAAAC4AAAAvAAAAMAAAADEAAAAyAAAAMwAAADQAAAA1AAAANgAAADcAAAA4AAAAOQAAADoAAAA7AAAAPAAAAD0AAAA+AAAAPwAAAEAAAABBAAAAQgAAAEMAAABEAAAARQAAAEYAAABHAAAASAAAAEkAAABKAAAASwAAAEwAAABNAAAATgAAAE8AAABQAAAAUQAAAFIAAABTAAAAVAAAAFUAAABWAAAAVwAAAFgAAABZAAAAWgAAAFsAAABcAAAAXQAAAF4AAABfAAAAYAAAAGEAAABiAAAAYwAAAGQAAABlAAAAZgAAAGcAAABoAAAAaQAAAGoAAABrAAAAbAAAAG0AAABuAAAAbwAAAHAAAABxAAAAcgAAAHMAAAB0AAAAdQAAAHYAAAB3AAAAeAAAAHkAAAB6AAAAewAAAHwAAAB9AAAAfgAAAH8AAACAAAAAgQAAAIIAAACDAAAAhAAAAIUAAACGAAAAhwAAAIgAAACJAAAAigAAAIsAAACMAAAAjQAAAI4AAACPAAAAkAAAAJEAAACSAAAAkwAAAJQAAACVAAAAlgAAAJcAAACYAAAAmQAAAJoAAACbAAAAnAAAAJ0AAACeAAAAnwAAAKAAAAChAAAAogAAAKMAAACkAAAApQAAAKYAAACnAAAAqAAAAKkAAACqAAAAqwAAAKwAAACtAAAArgAAAK8AAACwAAAAsQAAALIAAACzAAAAtAAAALUAAAC2AAAAtwAAALgAAAC5AAAAugAAALsAAAC8AAAAvQAAAL4AAAC/AAAAwAAAAMEAAADCAAAAwwAAAMQAAADFAAAAxgAAAMcAAADIAAAAyQAAAMoAAADLAAAAzAAAAM0AAADOAAAAzwAAANAAAADRAAAA0gAAANMAAADUAAAA1QAAANYAAADXAAAA2AAAANkAAADaAAAA2wAAANwAAADdAAAA3gAAAN8AAADgAAAA\"},\"shape\":[225],\"dtype\":\"int32\",\"order\":\"little\"}],[\"s\",{\"type\":\"ndarray\",\"array\":[\"8.e-02\",\"8.e-02\",\"8.e-02\",\"8.e-02\",\"8.e-02\",\"8.e-02\",\"8.e-02\",\"8.e-02\",\"8.e-02\",\"8.e-02\",\"8.e-02\",\"8.e-02\",\"8.e-02\",\"8.e-02\",\"8.e-02\",\"1.1e-01\",\"1.1e-01\",\"1.1e-01\",\"1.1e-01\",\"1.1e-01\",\"1.1e-01\",\"1.1e-01\",\"1.1e-01\",\"1.1e-01\",\"1.1e-01\",\"1.1e-01\",\"1.1e-01\",\"1.1e-01\",\"1.1e-01\",\"1.1e-01\",\"1.4e-01\",\"1.4e-01\",\"1.4e-01\",\"1.4e-01\",\"1.4e-01\",\"1.4e-01\",\"1.4e-01\",\"1.4e-01\",\"1.4e-01\",\"1.4e-01\",\"1.4e-01\",\"1.4e-01\",\"1.4e-01\",\"1.4e-01\",\"1.4e-01\",\"1.7e-01\",\"1.7e-01\",\"1.7e-01\",\"1.7e-01\",\"1.7e-01\",\"1.7e-01\",\"1.7e-01\",\"1.7e-01\",\"1.7e-01\",\"1.7e-01\",\"1.7e-01\",\"1.7e-01\",\"1.7e-01\",\"1.7e-01\",\"1.7e-01\",\"2.e-01\",\"2.e-01\",\"2.e-01\",\"2.e-01\",\"2.e-01\",\"2.e-01\",\"2.e-01\",\"2.e-01\",\"2.e-01\",\"2.e-01\",\"2.e-01\",\"2.e-01\",\"2.e-01\",\"2.e-01\",\"2.e-01\",\"2.3e-01\",\"2.3e-01\",\"2.3e-01\",\"2.3e-01\",\"2.3e-01\",\"2.3e-01\",\"2.3e-01\",\"2.3e-01\",\"2.3e-01\",\"2.3e-01\",\"2.3e-01\",\"2.3e-01\",\"2.3e-01\",\"2.3e-01\",\"2.3e-01\",\"2.6e-01\",\"2.6e-01\",\"2.6e-01\",\"2.6e-01\",\"2.6e-01\",\"2.6e-01\",\"2.6e-01\",\"2.6e-01\",\"2.6e-01\",\"2.6e-01\",\"2.6e-01\",\"2.6e-01\",\"2.6e-01\",\"2.6e-01\",\"2.6e-01\",\"2.9e-01\",\"2.9e-01\",\"2.9e-01\",\"2.9e-01\",\"2.9e-01\",\"2.9e-01\",\"2.9e-01\",\"2.9e-01\",\"2.9e-01\",\"2.9e-01\",\"2.9e-01\",\"2.9e-01\",\"2.9e-01\",\"2.9e-01\",\"2.9e-01\",\"3.2e-01\",\"3.2e-01\",\"3.2e-01\",\"3.2e-01\",\"3.2e-01\",\"3.2e-01\",\"3.2e-01\",\"3.2e-01\",\"3.2e-01\",\"3.2e-01\",\"3.2e-01\",\"3.2e-01\",\"3.2e-01\",\"3.2e-01\",\"3.2e-01\",\"3.5e-01\",\"3.5e-01\",\"3.5e-01\",\"3.5e-01\",\"3.5e-01\",\"3.5e-01\",\"3.5e-01\",\"3.5e-01\",\"3.5e-01\",\"3.5e-01\",\"3.5e-01\",\"3.5e-01\",\"3.5e-01\",\"3.5e-01\",\"3.5e-01\",\"3.8e-01\",\"3.8e-01\",\"3.8e-01\",\"3.8e-01\",\"3.8e-01\",\"3.8e-01\",\"3.8e-01\",\"3.8e-01\",\"3.8e-01\",\"3.8e-01\",\"3.8e-01\",\"3.8e-01\",\"3.8e-01\",\"3.8e-01\",\"3.8e-01\",\"4.1e-01\",\"4.1e-01\",\"4.1e-01\",\"4.1e-01\",\"4.1e-01\",\"4.1e-01\",\"4.1e-01\",\"4.1e-01\",\"4.1e-01\",\"4.1e-01\",\"4.1e-01\",\"4.1e-01\",\"4.1e-01\",\"4.1e-01\",\"4.1e-01\",\"4.4e-01\",\"4.4e-01\",\"4.4e-01\",\"4.4e-01\",\"4.4e-01\",\"4.4e-01\",\"4.4e-01\",\"4.4e-01\",\"4.4e-01\",\"4.4e-01\",\"4.4e-01\",\"4.4e-01\",\"4.4e-01\",\"4.4e-01\",\"4.4e-01\",\"4.7e-01\",\"4.7e-01\",\"4.7e-01\",\"4.7e-01\",\"4.7e-01\",\"4.7e-01\",\"4.7e-01\",\"4.7e-01\",\"4.7e-01\",\"4.7e-01\",\"4.7e-01\",\"4.7e-01\",\"4.7e-01\",\"4.7e-01\",\"4.7e-01\",\"5.e-01\",\"5.e-01\",\"5.e-01\",\"5.e-01\",\"5.e-01\",\"5.e-01\",\"5.e-01\",\"5.e-01\",\"5.e-01\",\"5.e-01\",\"5.e-01\",\"5.e-01\",\"5.e-01\",\"5.e-01\",\"5.e-01\"],\"shape\":[225],\"dtype\":\"object\",\"order\":\"little\"}],[\"a_b\",{\"type\":\"ndarray\",\"array\":[\"0.e+00\",\"1.79e+04\",\"3.57e+04\",\"5.36e+04\",\"7.14e+04\",\"8.93e+04\",\"1.07e+05\",\"1.25e+05\",\"1.43e+05\",\"1.61e+05\",\"1.79e+05\",\"1.96e+05\",\"2.14e+05\",\"2.32e+05\",\"2.5e+05\",\"0.e+00\",\"1.79e+04\",\"3.57e+04\",\"5.36e+04\",\"7.14e+04\",\"8.93e+04\",\"1.07e+05\",\"1.25e+05\",\"1.43e+05\",\"1.61e+05\",\"1.79e+05\",\"1.96e+05\",\"2.14e+05\",\"2.32e+05\",\"2.5e+05\",\"0.e+00\",\"1.79e+04\",\"3.57e+04\",\"5.36e+04\",\"7.14e+04\",\"8.93e+04\",\"1.07e+05\",\"1.25e+05\",\"1.43e+05\",\"1.61e+05\",\"1.79e+05\",\"1.96e+05\",\"2.14e+05\",\"2.32e+05\",\"2.5e+05\",\"0.e+00\",\"1.79e+04\",\"3.57e+04\",\"5.36e+04\",\"7.14e+04\",\"8.93e+04\",\"1.07e+05\",\"1.25e+05\",\"1.43e+05\",\"1.61e+05\",\"1.79e+05\",\"1.96e+05\",\"2.14e+05\",\"2.32e+05\",\"2.5e+05\",\"0.e+00\",\"1.79e+04\",\"3.57e+04\",\"5.36e+04\",\"7.14e+04\",\"8.93e+04\",\"1.07e+05\",\"1.25e+05\",\"1.43e+05\",\"1.61e+05\",\"1.79e+05\",\"1.96e+05\",\"2.14e+05\",\"2.32e+05\",\"2.5e+05\",\"0.e+00\",\"1.79e+04\",\"3.57e+04\",\"5.36e+04\",\"7.14e+04\",\"8.93e+04\",\"1.07e+05\",\"1.25e+05\",\"1.43e+05\",\"1.61e+05\",\"1.79e+05\",\"1.96e+05\",\"2.14e+05\",\"2.32e+05\",\"2.5e+05\",\"0.e+00\",\"1.79e+04\",\"3.57e+04\",\"5.36e+04\",\"7.14e+04\",\"8.93e+04\",\"1.07e+05\",\"1.25e+05\",\"1.43e+05\",\"1.61e+05\",\"1.79e+05\",\"1.96e+05\",\"2.14e+05\",\"2.32e+05\",\"2.5e+05\",\"0.e+00\",\"1.79e+04\",\"3.57e+04\",\"5.36e+04\",\"7.14e+04\",\"8.93e+04\",\"1.07e+05\",\"1.25e+05\",\"1.43e+05\",\"1.61e+05\",\"1.79e+05\",\"1.96e+05\",\"2.14e+05\",\"2.32e+05\",\"2.5e+05\",\"0.e+00\",\"1.79e+04\",\"3.57e+04\",\"5.36e+04\",\"7.14e+04\",\"8.93e+04\",\"1.07e+05\",\"1.25e+05\",\"1.43e+05\",\"1.61e+05\",\"1.79e+05\",\"1.96e+05\",\"2.14e+05\",\"2.32e+05\",\"2.5e+05\",\"0.e+00\",\"1.79e+04\",\"3.57e+04\",\"5.36e+04\",\"7.14e+04\",\"8.93e+04\",\"1.07e+05\",\"1.25e+05\",\"1.43e+05\",\"1.61e+05\",\"1.79e+05\",\"1.96e+05\",\"2.14e+05\",\"2.32e+05\",\"2.5e+05\",\"0.e+00\",\"1.79e+04\",\"3.57e+04\",\"5.36e+04\",\"7.14e+04\",\"8.93e+04\",\"1.07e+05\",\"1.25e+05\",\"1.43e+05\",\"1.61e+05\",\"1.79e+05\",\"1.96e+05\",\"2.14e+05\",\"2.32e+05\",\"2.5e+05\",\"0.e+00\",\"1.79e+04\",\"3.57e+04\",\"5.36e+04\",\"7.14e+04\",\"8.93e+04\",\"1.07e+05\",\"1.25e+05\",\"1.43e+05\",\"1.61e+05\",\"1.79e+05\",\"1.96e+05\",\"2.14e+05\",\"2.32e+05\",\"2.5e+05\",\"0.e+00\",\"1.79e+04\",\"3.57e+04\",\"5.36e+04\",\"7.14e+04\",\"8.93e+04\",\"1.07e+05\",\"1.25e+05\",\"1.43e+05\",\"1.61e+05\",\"1.79e+05\",\"1.96e+05\",\"2.14e+05\",\"2.32e+05\",\"2.5e+05\",\"0.e+00\",\"1.79e+04\",\"3.57e+04\",\"5.36e+04\",\"7.14e+04\",\"8.93e+04\",\"1.07e+05\",\"1.25e+05\",\"1.43e+05\",\"1.61e+05\",\"1.79e+05\",\"1.96e+05\",\"2.14e+05\",\"2.32e+05\",\"2.5e+05\",\"0.e+00\",\"1.79e+04\",\"3.57e+04\",\"5.36e+04\",\"7.14e+04\",\"8.93e+04\",\"1.07e+05\",\"1.25e+05\",\"1.43e+05\",\"1.61e+05\",\"1.79e+05\",\"1.96e+05\",\"2.14e+05\",\"2.32e+05\",\"2.5e+05\"],\"shape\":[225],\"dtype\":\"object\",\"order\":\"little\"}],[\"e\",{\"type\":\"ndarray\",\"array\":{\"type\":\"bytes\",\"data\":\"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\"},\"shape\":[225],\"dtype\":\"float64\",\"order\":\"little\"}]]}}},\"view\":{\"type\":\"object\",\"name\":\"CDSView\",\"id\":\"p1368\",\"attributes\":{\"filter\":{\"type\":\"object\",\"name\":\"AllIndices\",\"id\":\"p1369\"}}},\"glyph\":{\"type\":\"object\",\"name\":\"Rect\",\"id\":\"p1364\",\"attributes\":{\"x\":{\"type\":\"field\",\"field\":\"s\"},\"y\":{\"type\":\"field\",\"field\":\"a_b\"},\"width\":{\"type\":\"value\",\"value\":1},\"height\":{\"type\":\"value\",\"value\":1},\"line_color\":{\"type\":\"value\",\"value\":null},\"fill_color\":{\"type\":\"field\",\"field\":\"e\",\"transform\":{\"type\":\"object\",\"name\":\"LinearColorMapper\",\"id\":\"p1357\",\"attributes\":{\"palette\":[\"#0C0786\",\"#100787\",\"#130689\",\"#15068A\",\"#18068B\",\"#1B068C\",\"#1D068D\",\"#1F058E\",\"#21058F\",\"#230590\",\"#250591\",\"#270592\",\"#290593\",\"#2B0594\",\"#2D0494\",\"#2F0495\",\"#310496\",\"#330497\",\"#340498\",\"#360498\",\"#380499\",\"#3A049A\",\"#3B039A\",\"#3D039B\",\"#3F039C\",\"#40039C\",\"#42039D\",\"#44039E\",\"#45039E\",\"#47029F\",\"#49029F\",\"#4A02A0\",\"#4C02A1\",\"#4E02A1\",\"#4F02A2\",\"#5101A2\",\"#5201A3\",\"#5401A3\",\"#5601A3\",\"#5701A4\",\"#5901A4\",\"#5A00A5\",\"#5C00A5\",\"#5E00A5\",\"#5F00A6\",\"#6100A6\",\"#6200A6\",\"#6400A7\",\"#6500A7\",\"#6700A7\",\"#6800A7\",\"#6A00A7\",\"#6C00A8\",\"#6D00A8\",\"#6F00A8\",\"#7000A8\",\"#7200A8\",\"#7300A8\",\"#7500A8\",\"#7601A8\",\"#7801A8\",\"#7901A8\",\"#7B02A8\",\"#7C02A7\",\"#7E03A7\",\"#7F03A7\",\"#8104A7\",\"#8204A7\",\"#8405A6\",\"#8506A6\",\"#8607A6\",\"#8807A5\",\"#8908A5\",\"#8B09A4\",\"#8C0AA4\",\"#8E0CA4\",\"#8F0DA3\",\"#900EA3\",\"#920FA2\",\"#9310A1\",\"#9511A1\",\"#9612A0\",\"#9713A0\",\"#99149F\",\"#9A159E\",\"#9B179E\",\"#9D189D\",\"#9E199C\",\"#9F1A9B\",\"#A01B9B\",\"#A21C9A\",\"#A31D99\",\"#A41E98\",\"#A51F97\",\"#A72197\",\"#A82296\",\"#A92395\",\"#AA2494\",\"#AC2593\",\"#AD2692\",\"#AE2791\",\"#AF2890\",\"#B02A8F\",\"#B12B8F\",\"#B22C8E\",\"#B42D8D\",\"#B52E8C\",\"#B62F8B\",\"#B7308A\",\"#B83289\",\"#B93388\",\"#BA3487\",\"#BB3586\",\"#BC3685\",\"#BD3784\",\"#BE3883\",\"#BF3982\",\"#C03B81\",\"#C13C80\",\"#C23D80\",\"#C33E7F\",\"#C43F7E\",\"#C5407D\",\"#C6417C\",\"#C7427B\",\"#C8447A\",\"#C94579\",\"#CA4678\",\"#CB4777\",\"#CC4876\",\"#CD4975\",\"#CE4A75\",\"#CF4B74\",\"#D04D73\",\"#D14E72\",\"#D14F71\",\"#D25070\",\"#D3516F\",\"#D4526E\",\"#D5536D\",\"#D6556D\",\"#D7566C\",\"#D7576B\",\"#D8586A\",\"#D95969\",\"#DA5A68\",\"#DB5B67\",\"#DC5D66\",\"#DC5E66\",\"#DD5F65\",\"#DE6064\",\"#DF6163\",\"#DF6262\",\"#E06461\",\"#E16560\",\"#E26660\",\"#E3675F\",\"#E3685E\",\"#E46A5D\",\"#E56B5C\",\"#E56C5B\",\"#E66D5A\",\"#E76E5A\",\"#E87059\",\"#E87158\",\"#E97257\",\"#EA7356\",\"#EA7455\",\"#EB7654\",\"#EC7754\",\"#EC7853\",\"#ED7952\",\"#ED7B51\",\"#EE7C50\",\"#EF7D4F\",\"#EF7E4E\",\"#F0804D\",\"#F0814D\",\"#F1824C\",\"#F2844B\",\"#F2854A\",\"#F38649\",\"#F38748\",\"#F48947\",\"#F48A47\",\"#F58B46\",\"#F58D45\",\"#F68E44\",\"#F68F43\",\"#F69142\",\"#F79241\",\"#F79341\",\"#F89540\",\"#F8963F\",\"#F8983E\",\"#F9993D\",\"#F99A3C\",\"#FA9C3B\",\"#FA9D3A\",\"#FA9F3A\",\"#FAA039\",\"#FBA238\",\"#FBA337\",\"#FBA436\",\"#FCA635\",\"#FCA735\",\"#FCA934\",\"#FCAA33\",\"#FCAC32\",\"#FCAD31\",\"#FDAF31\",\"#FDB030\",\"#FDB22F\",\"#FDB32E\",\"#FDB52D\",\"#FDB62D\",\"#FDB82C\",\"#FDB92B\",\"#FDBB2B\",\"#FDBC2A\",\"#FDBE29\",\"#FDC029\",\"#FDC128\",\"#FDC328\",\"#FDC427\",\"#FDC626\",\"#FCC726\",\"#FCC926\",\"#FCCB25\",\"#FCCC25\",\"#FCCE25\",\"#FBD024\",\"#FBD124\",\"#FBD324\",\"#FAD524\",\"#FAD624\",\"#FAD824\",\"#F9D924\",\"#F9DB24\",\"#F8DD24\",\"#F8DF24\",\"#F7E024\",\"#F7E225\",\"#F6E425\",\"#F6E525\",\"#F5E726\",\"#F5E926\",\"#F4EA26\",\"#F3EC26\",\"#F3EE26\",\"#F2F026\",\"#F2F126\",\"#F1F326\",\"#F0F525\",\"#F0F623\",\"#EFF821\"],\"low\":0,\"high\":10}}}}},\"nonselection_glyph\":{\"type\":\"object\",\"name\":\"Rect\",\"id\":\"p1365\",\"attributes\":{\"x\":{\"type\":\"field\",\"field\":\"s\"},\"y\":{\"type\":\"field\",\"field\":\"a_b\"},\"width\":{\"type\":\"value\",\"value\":1},\"height\":{\"type\":\"value\",\"value\":1},\"line_color\":{\"type\":\"value\",\"value\":null},\"line_alpha\":{\"type\":\"value\",\"value\":0.1},\"fill_color\":{\"type\":\"field\",\"field\":\"e\",\"transform\":{\"id\":\"p1357\"}},\"fill_alpha\":{\"type\":\"value\",\"value\":0.1},\"hatch_alpha\":{\"type\":\"value\",\"value\":0.1}}},\"muted_glyph\":{\"type\":\"object\",\"name\":\"Rect\",\"id\":\"p1366\",\"attributes\":{\"x\":{\"type\":\"field\",\"field\":\"s\"},\"y\":{\"type\":\"field\",\"field\":\"a_b\"},\"width\":{\"type\":\"value\",\"value\":1},\"height\":{\"type\":\"value\",\"value\":1},\"line_color\":{\"type\":\"value\",\"value\":null},\"line_alpha\":{\"type\":\"value\",\"value\":0.2},\"fill_color\":{\"type\":\"field\",\"field\":\"e\",\"transform\":{\"id\":\"p1357\"}},\"fill_alpha\":{\"type\":\"value\",\"value\":0.2},\"hatch_alpha\":{\"type\":\"value\",\"value\":0.2}}}}}],\"toolbar\":{\"type\":\"object\",\"name\":\"Toolbar\",\"id\":\"p1332\",\"attributes\":{\"tools\":[{\"type\":\"object\",\"name\":\"BoxZoomTool\",\"id\":\"p1347\",\"attributes\":{\"overlay\":{\"type\":\"object\",\"name\":\"BoxAnnotation\",\"id\":\"p1348\",\"attributes\":{\"syncable\":false,\"level\":\"overlay\",\"visible\":false,\"left\":{\"type\":\"number\",\"value\":\"nan\"},\"right\":{\"type\":\"number\",\"value\":\"nan\"},\"top\":{\"type\":\"number\",\"value\":\"nan\"},\"bottom\":{\"type\":\"number\",\"value\":\"nan\"},\"left_units\":\"canvas\",\"right_units\":\"canvas\",\"top_units\":\"canvas\",\"bottom_units\":\"canvas\",\"line_color\":\"black\",\"line_alpha\":1.0,\"line_width\":2,\"line_dash\":[4,4],\"fill_color\":\"lightgrey\",\"fill_alpha\":0.5}}}},{\"type\":\"object\",\"name\":\"PanTool\",\"id\":\"p1353\"},{\"type\":\"object\",\"name\":\"HoverTool\",\"id\":\"p1354\",\"attributes\":{\"renderers\":\"auto\",\"tooltips\":[[\"\\u03c3 = \",\"@{s}\"],[\"\\u03b1b = \",\"@{a_b}\"],[\"e change=\",\"@e\"]]}},{\"type\":\"object\",\"name\":\"ResetTool\",\"id\":\"p1355\"},{\"type\":\"object\",\"name\":\"SaveTool\",\"id\":\"p1356\"}]}},\"left\":[{\"type\":\"object\",\"name\":\"CategoricalAxis\",\"id\":\"p1342\",\"attributes\":{\"ticker\":{\"type\":\"object\",\"name\":\"CategoricalTicker\",\"id\":\"p1343\"},\"formatter\":{\"type\":\"object\",\"name\":\"CategoricalTickFormatter\",\"id\":\"p1344\"},\"axis_label\":\"\\u03b1b (synth. gene transc. rate), nM\",\"major_label_standoff\":0,\"major_label_policy\":{\"type\":\"object\",\"name\":\"AllLabels\",\"id\":\"p1345\"},\"major_label_text_font_size\":\"8pt\",\"axis_line_color\":null,\"major_tick_line_color\":null}}],\"right\":[{\"type\":\"object\",\"name\":\"ColorBar\",\"id\":\"p1372\",\"attributes\":{\"ticker\":{\"type\":\"object\",\"name\":\"BasicTicker\",\"id\":\"p1370\",\"attributes\":{\"desired_num_ticks\":3,\"mantissas\":[1,2,5]}},\"formatter\":{\"type\":\"object\",\"name\":\"PrintfTickFormatter\",\"id\":\"p1371\",\"attributes\":{\"format\":\"%.0f%%\"}},\"major_label_policy\":{\"type\":\"object\",\"name\":\"NoOverlap\",\"id\":\"p1373\"},\"padding\":5,\"major_label_text_font_size\":\"8pt\",\"label_standoff\":6,\"color_mapper\":{\"id\":\"p1357\"}}}],\"below\":[{\"type\":\"object\",\"name\":\"CategoricalAxis\",\"id\":\"p1337\",\"attributes\":{\"ticker\":{\"type\":\"object\",\"name\":\"CategoricalTicker\",\"id\":\"p1338\"},\"formatter\":{\"type\":\"object\",\"name\":\"CategoricalTickFormatter\",\"id\":\"p1339\"},\"axis_label\":\"\\u03c3 (medium nutr. qual.)\",\"major_label_standoff\":0,\"major_label_orientation\":1.5707963267948966,\"major_label_policy\":{\"type\":\"object\",\"name\":\"AllLabels\",\"id\":\"p1340\"},\"major_label_text_font_size\":\"8pt\",\"axis_line_color\":null,\"major_tick_line_color\":null}}],\"center\":[{\"type\":\"object\",\"name\":\"Grid\",\"id\":\"p1341\",\"attributes\":{\"axis\":{\"id\":\"p1337\"},\"grid_line_color\":null}},{\"type\":\"object\",\"name\":\"Grid\",\"id\":\"p1346\",\"attributes\":{\"dimension\":1,\"axis\":{\"id\":\"p1342\"},\"grid_line_color\":null}}],\"output_backend\":\"svg\"}},{\"type\":\"object\",\"name\":\"Figure\",\"id\":\"p1374\",\"attributes\":{\"width\":360,\"height\":280,\"x_range\":{\"type\":\"object\",\"name\":\"FactorRange\",\"id\":\"p1384\",\"attributes\":{\"factors\":[\"8.e-02\",\"1.1e-01\",\"1.4e-01\",\"1.7e-01\",\"2.e-01\",\"2.3e-01\",\"2.6e-01\",\"2.9e-01\",\"3.2e-01\",\"3.5e-01\",\"3.8e-01\",\"4.1e-01\",\"4.4e-01\",\"4.7e-01\",\"5.e-01\"]}},\"y_range\":{\"type\":\"object\",\"name\":\"FactorRange\",\"id\":\"p1385\",\"attributes\":{\"factors\":[\"0.e+00\",\"1.79e+04\",\"3.57e+04\",\"5.36e+04\",\"7.14e+04\",\"8.93e+04\",\"1.07e+05\",\"1.25e+05\",\"1.43e+05\",\"1.61e+05\",\"1.79e+05\",\"1.96e+05\",\"2.14e+05\",\"2.32e+05\",\"2.5e+05\"]}},\"x_scale\":{\"type\":\"object\",\"name\":\"CategoricalScale\",\"id\":\"p1386\"},\"y_scale\":{\"type\":\"object\",\"name\":\"CategoricalScale\",\"id\":\"p1387\"},\"title\":{\"type\":\"object\",\"name\":\"Title\",\"id\":\"p1377\",\"attributes\":{\"text\":\"F_r % change\"}},\"renderers\":[{\"type\":\"object\",\"name\":\"GlyphRenderer\",\"id\":\"p1418\",\"attributes\":{\"data_source\":{\"type\":\"object\",\"name\":\"ColumnDataSource\",\"id\":\"p1409\",\"attributes\":{\"selected\":{\"type\":\"object\",\"name\":\"Selection\",\"id\":\"p1410\",\"attributes\":{\"indices\":[],\"line_indices\":[]}},\"selection_policy\":{\"type\":\"object\",\"name\":\"UnionRenderers\",\"id\":\"p1411\"},\"data\":{\"type\":\"map\",\"entries\":[[\"index\",{\"type\":\"ndarray\",\"array\":{\"type\":\"bytes\",\"data\":\"AAAAAAEAAAACAAAAAwAAAAQAAAAFAAAABgAAAAcAAAAIAAAACQAAAAoAAAALAAAADAAAAA0AAAAOAAAADwAAABAAAAARAAAAEgAAABMAAAAUAAAAFQAAABYAAAAXAAAAGAAAABkAAAAaAAAAGwAAABwAAAAdAAAAHgAAAB8AAAAgAAAAIQAAACIAAAAjAAAAJAAAACUAAAAmAAAAJwAAACgAAAApAAAAKgAAACsAAAAsAAAALQAAAC4AAAAvAAAAMAAAADEAAAAyAAAAMwAAADQAAAA1AAAANgAAADcAAAA4AAAAOQAAADoAAAA7AAAAPAAAAD0AAAA+AAAAPwAAAEAAAABBAAAAQgAAAEMAAABEAAAARQAAAEYAAABHAAAASAAAAEkAAABKAAAASwAAAEwAAABNAAAATgAAAE8AAABQAAAAUQAAAFIAAABTAAAAVAAAAFUAAABWAAAAVwAAAFgAAABZAAAAWgAAAFsAAABcAAAAXQAAAF4AAABfAAAAYAAAAGEAAABiAAAAYwAAAGQAAABlAAAAZgAAAGcAAABoAAAAaQAAAGoAAABrAAAAbAAAAG0AAABuAAAAbwAAAHAAAABxAAAAcgAAAHMAAAB0AAAAdQAAAHYAAAB3AAAAeAAAAHkAAAB6AAAAewAAAHwAAAB9AAAAfgAAAH8AAACAAAAAgQAAAIIAAACDAAAAhAAAAIUAAACGAAAAhwAAAIgAAACJAAAAigAAAIsAAACMAAAAjQAAAI4AAACPAAAAkAAAAJEAAACSAAAAkwAAAJQAAACVAAAAlgAAAJcAAACYAAAAmQAAAJoAAACbAAAAnAAAAJ0AAACeAAAAnwAAAKAAAAChAAAAogAAAKMAAACkAAAApQAAAKYAAACnAAAAqAAAAKkAAACqAAAAqwAAAKwAAACtAAAArgAAAK8AAACwAAAAsQAAALIAAACzAAAAtAAAALUAAAC2AAAAtwAAALgAAAC5AAAAugAAALsAAAC8AAAAvQAAAL4AAAC/AAAAwAAAAMEAAADCAAAAwwAAAMQAAADFAAAAxgAAAMcAAADIAAAAyQAAAMoAAADLAAAAzAAAAM0AAADOAAAAzwAAANAAAADRAAAA0gAAANMAAADUAAAA1QAAANYAAADXAAAA2AAAANkAAADaAAAA2wAAANwAAADdAAAA3gAAAN8AAADgAAAA\"},\"shape\":[225],\"dtype\":\"int32\",\"order\":\"little\"}],[\"s\",{\"type\":\"ndarray\",\"array\":[\"8.e-02\",\"8.e-02\",\"8.e-02\",\"8.e-02\",\"8.e-02\",\"8.e-02\",\"8.e-02\",\"8.e-02\",\"8.e-02\",\"8.e-02\",\"8.e-02\",\"8.e-02\",\"8.e-02\",\"8.e-02\",\"8.e-02\",\"1.1e-01\",\"1.1e-01\",\"1.1e-01\",\"1.1e-01\",\"1.1e-01\",\"1.1e-01\",\"1.1e-01\",\"1.1e-01\",\"1.1e-01\",\"1.1e-01\",\"1.1e-01\",\"1.1e-01\",\"1.1e-01\",\"1.1e-01\",\"1.1e-01\",\"1.4e-01\",\"1.4e-01\",\"1.4e-01\",\"1.4e-01\",\"1.4e-01\",\"1.4e-01\",\"1.4e-01\",\"1.4e-01\",\"1.4e-01\",\"1.4e-01\",\"1.4e-01\",\"1.4e-01\",\"1.4e-01\",\"1.4e-01\",\"1.4e-01\",\"1.7e-01\",\"1.7e-01\",\"1.7e-01\",\"1.7e-01\",\"1.7e-01\",\"1.7e-01\",\"1.7e-01\",\"1.7e-01\",\"1.7e-01\",\"1.7e-01\",\"1.7e-01\",\"1.7e-01\",\"1.7e-01\",\"1.7e-01\",\"1.7e-01\",\"2.e-01\",\"2.e-01\",\"2.e-01\",\"2.e-01\",\"2.e-01\",\"2.e-01\",\"2.e-01\",\"2.e-01\",\"2.e-01\",\"2.e-01\",\"2.e-01\",\"2.e-01\",\"2.e-01\",\"2.e-01\",\"2.e-01\",\"2.3e-01\",\"2.3e-01\",\"2.3e-01\",\"2.3e-01\",\"2.3e-01\",\"2.3e-01\",\"2.3e-01\",\"2.3e-01\",\"2.3e-01\",\"2.3e-01\",\"2.3e-01\",\"2.3e-01\",\"2.3e-01\",\"2.3e-01\",\"2.3e-01\",\"2.6e-01\",\"2.6e-01\",\"2.6e-01\",\"2.6e-01\",\"2.6e-01\",\"2.6e-01\",\"2.6e-01\",\"2.6e-01\",\"2.6e-01\",\"2.6e-01\",\"2.6e-01\",\"2.6e-01\",\"2.6e-01\",\"2.6e-01\",\"2.6e-01\",\"2.9e-01\",\"2.9e-01\",\"2.9e-01\",\"2.9e-01\",\"2.9e-01\",\"2.9e-01\",\"2.9e-01\",\"2.9e-01\",\"2.9e-01\",\"2.9e-01\",\"2.9e-01\",\"2.9e-01\",\"2.9e-01\",\"2.9e-01\",\"2.9e-01\",\"3.2e-01\",\"3.2e-01\",\"3.2e-01\",\"3.2e-01\",\"3.2e-01\",\"3.2e-01\",\"3.2e-01\",\"3.2e-01\",\"3.2e-01\",\"3.2e-01\",\"3.2e-01\",\"3.2e-01\",\"3.2e-01\",\"3.2e-01\",\"3.2e-01\",\"3.5e-01\",\"3.5e-01\",\"3.5e-01\",\"3.5e-01\",\"3.5e-01\",\"3.5e-01\",\"3.5e-01\",\"3.5e-01\",\"3.5e-01\",\"3.5e-01\",\"3.5e-01\",\"3.5e-01\",\"3.5e-01\",\"3.5e-01\",\"3.5e-01\",\"3.8e-01\",\"3.8e-01\",\"3.8e-01\",\"3.8e-01\",\"3.8e-01\",\"3.8e-01\",\"3.8e-01\",\"3.8e-01\",\"3.8e-01\",\"3.8e-01\",\"3.8e-01\",\"3.8e-01\",\"3.8e-01\",\"3.8e-01\",\"3.8e-01\",\"4.1e-01\",\"4.1e-01\",\"4.1e-01\",\"4.1e-01\",\"4.1e-01\",\"4.1e-01\",\"4.1e-01\",\"4.1e-01\",\"4.1e-01\",\"4.1e-01\",\"4.1e-01\",\"4.1e-01\",\"4.1e-01\",\"4.1e-01\",\"4.1e-01\",\"4.4e-01\",\"4.4e-01\",\"4.4e-01\",\"4.4e-01\",\"4.4e-01\",\"4.4e-01\",\"4.4e-01\",\"4.4e-01\",\"4.4e-01\",\"4.4e-01\",\"4.4e-01\",\"4.4e-01\",\"4.4e-01\",\"4.4e-01\",\"4.4e-01\",\"4.7e-01\",\"4.7e-01\",\"4.7e-01\",\"4.7e-01\",\"4.7e-01\",\"4.7e-01\",\"4.7e-01\",\"4.7e-01\",\"4.7e-01\",\"4.7e-01\",\"4.7e-01\",\"4.7e-01\",\"4.7e-01\",\"4.7e-01\",\"4.7e-01\",\"5.e-01\",\"5.e-01\",\"5.e-01\",\"5.e-01\",\"5.e-01\",\"5.e-01\",\"5.e-01\",\"5.e-01\",\"5.e-01\",\"5.e-01\",\"5.e-01\",\"5.e-01\",\"5.e-01\",\"5.e-01\",\"5.e-01\"],\"shape\":[225],\"dtype\":\"object\",\"order\":\"little\"}],[\"a_b\",{\"type\":\"ndarray\",\"array\":[\"0.e+00\",\"1.79e+04\",\"3.57e+04\",\"5.36e+04\",\"7.14e+04\",\"8.93e+04\",\"1.07e+05\",\"1.25e+05\",\"1.43e+05\",\"1.61e+05\",\"1.79e+05\",\"1.96e+05\",\"2.14e+05\",\"2.32e+05\",\"2.5e+05\",\"0.e+00\",\"1.79e+04\",\"3.57e+04\",\"5.36e+04\",\"7.14e+04\",\"8.93e+04\",\"1.07e+05\",\"1.25e+05\",\"1.43e+05\",\"1.61e+05\",\"1.79e+05\",\"1.96e+05\",\"2.14e+05\",\"2.32e+05\",\"2.5e+05\",\"0.e+00\",\"1.79e+04\",\"3.57e+04\",\"5.36e+04\",\"7.14e+04\",\"8.93e+04\",\"1.07e+05\",\"1.25e+05\",\"1.43e+05\",\"1.61e+05\",\"1.79e+05\",\"1.96e+05\",\"2.14e+05\",\"2.32e+05\",\"2.5e+05\",\"0.e+00\",\"1.79e+04\",\"3.57e+04\",\"5.36e+04\",\"7.14e+04\",\"8.93e+04\",\"1.07e+05\",\"1.25e+05\",\"1.43e+05\",\"1.61e+05\",\"1.79e+05\",\"1.96e+05\",\"2.14e+05\",\"2.32e+05\",\"2.5e+05\",\"0.e+00\",\"1.79e+04\",\"3.57e+04\",\"5.36e+04\",\"7.14e+04\",\"8.93e+04\",\"1.07e+05\",\"1.25e+05\",\"1.43e+05\",\"1.61e+05\",\"1.79e+05\",\"1.96e+05\",\"2.14e+05\",\"2.32e+05\",\"2.5e+05\",\"0.e+00\",\"1.79e+04\",\"3.57e+04\",\"5.36e+04\",\"7.14e+04\",\"8.93e+04\",\"1.07e+05\",\"1.25e+05\",\"1.43e+05\",\"1.61e+05\",\"1.79e+05\",\"1.96e+05\",\"2.14e+05\",\"2.32e+05\",\"2.5e+05\",\"0.e+00\",\"1.79e+04\",\"3.57e+04\",\"5.36e+04\",\"7.14e+04\",\"8.93e+04\",\"1.07e+05\",\"1.25e+05\",\"1.43e+05\",\"1.61e+05\",\"1.79e+05\",\"1.96e+05\",\"2.14e+05\",\"2.32e+05\",\"2.5e+05\",\"0.e+00\",\"1.79e+04\",\"3.57e+04\",\"5.36e+04\",\"7.14e+04\",\"8.93e+04\",\"1.07e+05\",\"1.25e+05\",\"1.43e+05\",\"1.61e+05\",\"1.79e+05\",\"1.96e+05\",\"2.14e+05\",\"2.32e+05\",\"2.5e+05\",\"0.e+00\",\"1.79e+04\",\"3.57e+04\",\"5.36e+04\",\"7.14e+04\",\"8.93e+04\",\"1.07e+05\",\"1.25e+05\",\"1.43e+05\",\"1.61e+05\",\"1.79e+05\",\"1.96e+05\",\"2.14e+05\",\"2.32e+05\",\"2.5e+05\",\"0.e+00\",\"1.79e+04\",\"3.57e+04\",\"5.36e+04\",\"7.14e+04\",\"8.93e+04\",\"1.07e+05\",\"1.25e+05\",\"1.43e+05\",\"1.61e+05\",\"1.79e+05\",\"1.96e+05\",\"2.14e+05\",\"2.32e+05\",\"2.5e+05\",\"0.e+00\",\"1.79e+04\",\"3.57e+04\",\"5.36e+04\",\"7.14e+04\",\"8.93e+04\",\"1.07e+05\",\"1.25e+05\",\"1.43e+05\",\"1.61e+05\",\"1.79e+05\",\"1.96e+05\",\"2.14e+05\",\"2.32e+05\",\"2.5e+05\",\"0.e+00\",\"1.79e+04\",\"3.57e+04\",\"5.36e+04\",\"7.14e+04\",\"8.93e+04\",\"1.07e+05\",\"1.25e+05\",\"1.43e+05\",\"1.61e+05\",\"1.79e+05\",\"1.96e+05\",\"2.14e+05\",\"2.32e+05\",\"2.5e+05\",\"0.e+00\",\"1.79e+04\",\"3.57e+04\",\"5.36e+04\",\"7.14e+04\",\"8.93e+04\",\"1.07e+05\",\"1.25e+05\",\"1.43e+05\",\"1.61e+05\",\"1.79e+05\",\"1.96e+05\",\"2.14e+05\",\"2.32e+05\",\"2.5e+05\",\"0.e+00\",\"1.79e+04\",\"3.57e+04\",\"5.36e+04\",\"7.14e+04\",\"8.93e+04\",\"1.07e+05\",\"1.25e+05\",\"1.43e+05\",\"1.61e+05\",\"1.79e+05\",\"1.96e+05\",\"2.14e+05\",\"2.32e+05\",\"2.5e+05\",\"0.e+00\",\"1.79e+04\",\"3.57e+04\",\"5.36e+04\",\"7.14e+04\",\"8.93e+04\",\"1.07e+05\",\"1.25e+05\",\"1.43e+05\",\"1.61e+05\",\"1.79e+05\",\"1.96e+05\",\"2.14e+05\",\"2.32e+05\",\"2.5e+05\"],\"shape\":[225],\"dtype\":\"object\",\"order\":\"little\"}],[\"F_r\",{\"type\":\"ndarray\",\"array\":{\"type\":\"bytes\",\"data\":\"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\"},\"shape\":[225],\"dtype\":\"float64\",\"order\":\"little\"}]]}}},\"view\":{\"type\":\"object\",\"name\":\"CDSView\",\"id\":\"p1419\",\"attributes\":{\"filter\":{\"type\":\"object\",\"name\":\"AllIndices\",\"id\":\"p1420\"}}},\"glyph\":{\"type\":\"object\",\"name\":\"Rect\",\"id\":\"p1415\",\"attributes\":{\"x\":{\"type\":\"field\",\"field\":\"s\"},\"y\":{\"type\":\"field\",\"field\":\"a_b\"},\"width\":{\"type\":\"value\",\"value\":1},\"height\":{\"type\":\"value\",\"value\":1},\"line_color\":{\"type\":\"value\",\"value\":null},\"fill_color\":{\"type\":\"field\",\"field\":\"F_r\",\"transform\":{\"type\":\"object\",\"name\":\"LinearColorMapper\",\"id\":\"p1408\",\"attributes\":{\"palette\":[\"#0C0786\",\"#100787\",\"#130689\",\"#15068A\",\"#18068B\",\"#1B068C\",\"#1D068D\",\"#1F058E\",\"#21058F\",\"#230590\",\"#250591\",\"#270592\",\"#290593\",\"#2B0594\",\"#2D0494\",\"#2F0495\",\"#310496\",\"#330497\",\"#340498\",\"#360498\",\"#380499\",\"#3A049A\",\"#3B039A\",\"#3D039B\",\"#3F039C\",\"#40039C\",\"#42039D\",\"#44039E\",\"#45039E\",\"#47029F\",\"#49029F\",\"#4A02A0\",\"#4C02A1\",\"#4E02A1\",\"#4F02A2\",\"#5101A2\",\"#5201A3\",\"#5401A3\",\"#5601A3\",\"#5701A4\",\"#5901A4\",\"#5A00A5\",\"#5C00A5\",\"#5E00A5\",\"#5F00A6\",\"#6100A6\",\"#6200A6\",\"#6400A7\",\"#6500A7\",\"#6700A7\",\"#6800A7\",\"#6A00A7\",\"#6C00A8\",\"#6D00A8\",\"#6F00A8\",\"#7000A8\",\"#7200A8\",\"#7300A8\",\"#7500A8\",\"#7601A8\",\"#7801A8\",\"#7901A8\",\"#7B02A8\",\"#7C02A7\",\"#7E03A7\",\"#7F03A7\",\"#8104A7\",\"#8204A7\",\"#8405A6\",\"#8506A6\",\"#8607A6\",\"#8807A5\",\"#8908A5\",\"#8B09A4\",\"#8C0AA4\",\"#8E0CA4\",\"#8F0DA3\",\"#900EA3\",\"#920FA2\",\"#9310A1\",\"#9511A1\",\"#9612A0\",\"#9713A0\",\"#99149F\",\"#9A159E\",\"#9B179E\",\"#9D189D\",\"#9E199C\",\"#9F1A9B\",\"#A01B9B\",\"#A21C9A\",\"#A31D99\",\"#A41E98\",\"#A51F97\",\"#A72197\",\"#A82296\",\"#A92395\",\"#AA2494\",\"#AC2593\",\"#AD2692\",\"#AE2791\",\"#AF2890\",\"#B02A8F\",\"#B12B8F\",\"#B22C8E\",\"#B42D8D\",\"#B52E8C\",\"#B62F8B\",\"#B7308A\",\"#B83289\",\"#B93388\",\"#BA3487\",\"#BB3586\",\"#BC3685\",\"#BD3784\",\"#BE3883\",\"#BF3982\",\"#C03B81\",\"#C13C80\",\"#C23D80\",\"#C33E7F\",\"#C43F7E\",\"#C5407D\",\"#C6417C\",\"#C7427B\",\"#C8447A\",\"#C94579\",\"#CA4678\",\"#CB4777\",\"#CC4876\",\"#CD4975\",\"#CE4A75\",\"#CF4B74\",\"#D04D73\",\"#D14E72\",\"#D14F71\",\"#D25070\",\"#D3516F\",\"#D4526E\",\"#D5536D\",\"#D6556D\",\"#D7566C\",\"#D7576B\",\"#D8586A\",\"#D95969\",\"#DA5A68\",\"#DB5B67\",\"#DC5D66\",\"#DC5E66\",\"#DD5F65\",\"#DE6064\",\"#DF6163\",\"#DF6262\",\"#E06461\",\"#E16560\",\"#E26660\",\"#E3675F\",\"#E3685E\",\"#E46A5D\",\"#E56B5C\",\"#E56C5B\",\"#E66D5A\",\"#E76E5A\",\"#E87059\",\"#E87158\",\"#E97257\",\"#EA7356\",\"#EA7455\",\"#EB7654\",\"#EC7754\",\"#EC7853\",\"#ED7952\",\"#ED7B51\",\"#EE7C50\",\"#EF7D4F\",\"#EF7E4E\",\"#F0804D\",\"#F0814D\",\"#F1824C\",\"#F2844B\",\"#F2854A\",\"#F38649\",\"#F38748\",\"#F48947\",\"#F48A47\",\"#F58B46\",\"#F58D45\",\"#F68E44\",\"#F68F43\",\"#F69142\",\"#F79241\",\"#F79341\",\"#F89540\",\"#F8963F\",\"#F8983E\",\"#F9993D\",\"#F99A3C\",\"#FA9C3B\",\"#FA9D3A\",\"#FA9F3A\",\"#FAA039\",\"#FBA238\",\"#FBA337\",\"#FBA436\",\"#FCA635\",\"#FCA735\",\"#FCA934\",\"#FCAA33\",\"#FCAC32\",\"#FCAD31\",\"#FDAF31\",\"#FDB030\",\"#FDB22F\",\"#FDB32E\",\"#FDB52D\",\"#FDB62D\",\"#FDB82C\",\"#FDB92B\",\"#FDBB2B\",\"#FDBC2A\",\"#FDBE29\",\"#FDC029\",\"#FDC128\",\"#FDC328\",\"#FDC427\",\"#FDC626\",\"#FCC726\",\"#FCC926\",\"#FCCB25\",\"#FCCC25\",\"#FCCE25\",\"#FBD024\",\"#FBD124\",\"#FBD324\",\"#FAD524\",\"#FAD624\",\"#FAD824\",\"#F9D924\",\"#F9DB24\",\"#F8DD24\",\"#F8DF24\",\"#F7E024\",\"#F7E225\",\"#F6E425\",\"#F6E525\",\"#F5E726\",\"#F5E926\",\"#F4EA26\",\"#F3EC26\",\"#F3EE26\",\"#F2F026\",\"#F2F126\",\"#F1F326\",\"#F0F525\",\"#F0F623\",\"#EFF821\"],\"low\":0,\"high\":10}}}}},\"nonselection_glyph\":{\"type\":\"object\",\"name\":\"Rect\",\"id\":\"p1416\",\"attributes\":{\"x\":{\"type\":\"field\",\"field\":\"s\"},\"y\":{\"type\":\"field\",\"field\":\"a_b\"},\"width\":{\"type\":\"value\",\"value\":1},\"height\":{\"type\":\"value\",\"value\":1},\"line_color\":{\"type\":\"value\",\"value\":null},\"line_alpha\":{\"type\":\"value\",\"value\":0.1},\"fill_color\":{\"type\":\"field\",\"field\":\"F_r\",\"transform\":{\"id\":\"p1408\"}},\"fill_alpha\":{\"type\":\"value\",\"value\":0.1},\"hatch_alpha\":{\"type\":\"value\",\"value\":0.1}}},\"muted_glyph\":{\"type\":\"object\",\"name\":\"Rect\",\"id\":\"p1417\",\"attributes\":{\"x\":{\"type\":\"field\",\"field\":\"s\"},\"y\":{\"type\":\"field\",\"field\":\"a_b\"},\"width\":{\"type\":\"value\",\"value\":1},\"height\":{\"type\":\"value\",\"value\":1},\"line_color\":{\"type\":\"value\",\"value\":null},\"line_alpha\":{\"type\":\"value\",\"value\":0.2},\"fill_color\":{\"type\":\"field\",\"field\":\"F_r\",\"transform\":{\"id\":\"p1408\"}},\"fill_alpha\":{\"type\":\"value\",\"value\":0.2},\"hatch_alpha\":{\"type\":\"value\",\"value\":0.2}}}}}],\"toolbar\":{\"type\":\"object\",\"name\":\"Toolbar\",\"id\":\"p1383\",\"attributes\":{\"tools\":[{\"type\":\"object\",\"name\":\"BoxZoomTool\",\"id\":\"p1398\",\"attributes\":{\"overlay\":{\"type\":\"object\",\"name\":\"BoxAnnotation\",\"id\":\"p1399\",\"attributes\":{\"syncable\":false,\"level\":\"overlay\",\"visible\":false,\"left\":{\"type\":\"number\",\"value\":\"nan\"},\"right\":{\"type\":\"number\",\"value\":\"nan\"},\"top\":{\"type\":\"number\",\"value\":\"nan\"},\"bottom\":{\"type\":\"number\",\"value\":\"nan\"},\"left_units\":\"canvas\",\"right_units\":\"canvas\",\"top_units\":\"canvas\",\"bottom_units\":\"canvas\",\"line_color\":\"black\",\"line_alpha\":1.0,\"line_width\":2,\"line_dash\":[4,4],\"fill_color\":\"lightgrey\",\"fill_alpha\":0.5}}}},{\"type\":\"object\",\"name\":\"PanTool\",\"id\":\"p1404\"},{\"type\":\"object\",\"name\":\"HoverTool\",\"id\":\"p1405\",\"attributes\":{\"renderers\":\"auto\",\"tooltips\":[[\"\\u03c3 = \",\"@{s}\"],[\"\\u03b1b = \",\"@{a_b}\"],[\"F_r change=\",\"@F_r\"]]}},{\"type\":\"object\",\"name\":\"ResetTool\",\"id\":\"p1406\"},{\"type\":\"object\",\"name\":\"SaveTool\",\"id\":\"p1407\"}]}},\"left\":[{\"type\":\"object\",\"name\":\"CategoricalAxis\",\"id\":\"p1393\",\"attributes\":{\"ticker\":{\"type\":\"object\",\"name\":\"CategoricalTicker\",\"id\":\"p1394\"},\"formatter\":{\"type\":\"object\",\"name\":\"CategoricalTickFormatter\",\"id\":\"p1395\"},\"axis_label\":\"\\u03b1b (synth. gene transc. rate), nM\",\"major_label_standoff\":0,\"major_label_policy\":{\"type\":\"object\",\"name\":\"AllLabels\",\"id\":\"p1396\"},\"major_label_text_font_size\":\"8pt\",\"axis_line_color\":null,\"major_tick_line_color\":null}}],\"right\":[{\"type\":\"object\",\"name\":\"ColorBar\",\"id\":\"p1423\",\"attributes\":{\"ticker\":{\"type\":\"object\",\"name\":\"BasicTicker\",\"id\":\"p1421\",\"attributes\":{\"desired_num_ticks\":3,\"mantissas\":[1,2,5]}},\"formatter\":{\"type\":\"object\",\"name\":\"PrintfTickFormatter\",\"id\":\"p1422\",\"attributes\":{\"format\":\"%.0f%%\"}},\"major_label_policy\":{\"type\":\"object\",\"name\":\"NoOverlap\",\"id\":\"p1424\"},\"padding\":5,\"major_label_text_font_size\":\"8pt\",\"label_standoff\":6,\"color_mapper\":{\"id\":\"p1408\"}}}],\"below\":[{\"type\":\"object\",\"name\":\"CategoricalAxis\",\"id\":\"p1388\",\"attributes\":{\"ticker\":{\"type\":\"object\",\"name\":\"CategoricalTicker\",\"id\":\"p1389\"},\"formatter\":{\"type\":\"object\",\"name\":\"CategoricalTickFormatter\",\"id\":\"p1390\"},\"axis_label\":\"\\u03c3 (medium nutr. qual.)\",\"major_label_standoff\":0,\"major_label_orientation\":1.5707963267948966,\"major_label_policy\":{\"type\":\"object\",\"name\":\"AllLabels\",\"id\":\"p1391\"},\"major_label_text_font_size\":\"8pt\",\"axis_line_color\":null,\"major_tick_line_color\":null}}],\"center\":[{\"type\":\"object\",\"name\":\"Grid\",\"id\":\"p1392\",\"attributes\":{\"axis\":{\"id\":\"p1388\"},\"grid_line_color\":null}},{\"type\":\"object\",\"name\":\"Grid\",\"id\":\"p1397\",\"attributes\":{\"dimension\":1,\"axis\":{\"id\":\"p1393\"},\"grid_line_color\":null}}],\"output_backend\":\"svg\"}},{\"type\":\"object\",\"name\":\"Figure\",\"id\":\"p1425\",\"attributes\":{\"width\":360,\"height\":280,\"x_range\":{\"type\":\"object\",\"name\":\"FactorRange\",\"id\":\"p1435\",\"attributes\":{\"factors\":[\"8.e-02\",\"1.1e-01\",\"1.4e-01\",\"1.7e-01\",\"2.e-01\",\"2.3e-01\",\"2.6e-01\",\"2.9e-01\",\"3.2e-01\",\"3.5e-01\",\"3.8e-01\",\"4.1e-01\",\"4.4e-01\",\"4.7e-01\",\"5.e-01\"]}},\"y_range\":{\"type\":\"object\",\"name\":\"FactorRange\",\"id\":\"p1436\",\"attributes\":{\"factors\":[\"0.e+00\",\"1.79e+04\",\"3.57e+04\",\"5.36e+04\",\"7.14e+04\",\"8.93e+04\",\"1.07e+05\",\"1.25e+05\",\"1.43e+05\",\"1.61e+05\",\"1.79e+05\",\"1.96e+05\",\"2.14e+05\",\"2.32e+05\",\"2.5e+05\"]}},\"x_scale\":{\"type\":\"object\",\"name\":\"CategoricalScale\",\"id\":\"p1437\"},\"y_scale\":{\"type\":\"object\",\"name\":\"CategoricalScale\",\"id\":\"p1438\"},\"title\":{\"type\":\"object\",\"name\":\"Title\",\"id\":\"p1428\",\"attributes\":{\"text\":\"H % change\"}},\"renderers\":[{\"type\":\"object\",\"name\":\"GlyphRenderer\",\"id\":\"p1469\",\"attributes\":{\"data_source\":{\"type\":\"object\",\"name\":\"ColumnDataSource\",\"id\":\"p1460\",\"attributes\":{\"selected\":{\"type\":\"object\",\"name\":\"Selection\",\"id\":\"p1461\",\"attributes\":{\"indices\":[],\"line_indices\":[]}},\"selection_policy\":{\"type\":\"object\",\"name\":\"UnionRenderers\",\"id\":\"p1462\"},\"data\":{\"type\":\"map\",\"entries\":[[\"index\",{\"type\":\"ndarray\",\"array\":{\"type\":\"bytes\",\"data\":\"AAAAAAEAAAACAAAAAwAAAAQAAAAFAAAABgAAAAcAAAAIAAAACQAAAAoAAAALAAAADAAAAA0AAAAOAAAADwAAABAAAAARAAAAEgAAABMAAAAUAAAAFQAAABYAAAAXAAAAGAAAABkAAAAaAAAAGwAAABwAAAAdAAAAHgAAAB8AAAAgAAAAIQAAACIAAAAjAAAAJAAAACUAAAAmAAAAJwAAACgAAAApAAAAKgAAACsAAAAsAAAALQAAAC4AAAAvAAAAMAAAADEAAAAyAAAAMwAAADQAAAA1AAAANgAAADcAAAA4AAAAOQAAADoAAAA7AAAAPAAAAD0AAAA+AAAAPwAAAEAAAABBAAAAQgAAAEMAAABEAAAARQAAAEYAAABHAAAASAAAAEkAAABKAAAASwAAAEwAAABNAAAATgAAAE8AAABQAAAAUQAAAFIAAABTAAAAVAAAAFUAAABWAAAAVwAAAFgAAABZAAAAWgAAAFsAAABcAAAAXQAAAF4AAABfAAAAYAAAAGEAAABiAAAAYwAAAGQAAABlAAAAZgAAAGcAAABoAAAAaQAAAGoAAABrAAAAbAAAAG0AAABuAAAAbwAAAHAAAABxAAAAcgAAAHMAAAB0AAAAdQAAAHYAAAB3AAAAeAAAAHkAAAB6AAAAewAAAHwAAAB9AAAAfgAAAH8AAACAAAAAgQAAAIIAAACDAAAAhAAAAIUAAACGAAAAhwAAAIgAAACJAAAAigAAAIsAAACMAAAAjQAAAI4AAACPAAAAkAAAAJEAAACSAAAAkwAAAJQAAACVAAAAlgAAAJcAAACYAAAAmQAAAJoAAACbAAAAnAAAAJ0AAACeAAAAnwAAAKAAAAChAAAAogAAAKMAAACkAAAApQAAAKYAAACnAAAAqAAAAKkAAACqAAAAqwAAAKwAAACtAAAArgAAAK8AAACwAAAAsQAAALIAAACzAAAAtAAAALUAAAC2AAAAtwAAALgAAAC5AAAAugAAALsAAAC8AAAAvQAAAL4AAAC/AAAAwAAAAMEAAADCAAAAwwAAAMQAAADFAAAAxgAAAMcAAADIAAAAyQAAAMoAAADLAAAAzAAAAM0AAADOAAAAzwAAANAAAADRAAAA0gAAANMAAADUAAAA1QAAANYAAADXAAAA2AAAANkAAADaAAAA2wAAANwAAADdAAAA3gAAAN8AAADgAAAA\"},\"shape\":[225],\"dtype\":\"int32\",\"order\":\"little\"}],[\"s\",{\"type\":\"ndarray\",\"array\":[\"8.e-02\",\"8.e-02\",\"8.e-02\",\"8.e-02\",\"8.e-02\",\"8.e-02\",\"8.e-02\",\"8.e-02\",\"8.e-02\",\"8.e-02\",\"8.e-02\",\"8.e-02\",\"8.e-02\",\"8.e-02\",\"8.e-02\",\"1.1e-01\",\"1.1e-01\",\"1.1e-01\",\"1.1e-01\",\"1.1e-01\",\"1.1e-01\",\"1.1e-01\",\"1.1e-01\",\"1.1e-01\",\"1.1e-01\",\"1.1e-01\",\"1.1e-01\",\"1.1e-01\",\"1.1e-01\",\"1.1e-01\",\"1.4e-01\",\"1.4e-01\",\"1.4e-01\",\"1.4e-01\",\"1.4e-01\",\"1.4e-01\",\"1.4e-01\",\"1.4e-01\",\"1.4e-01\",\"1.4e-01\",\"1.4e-01\",\"1.4e-01\",\"1.4e-01\",\"1.4e-01\",\"1.4e-01\",\"1.7e-01\",\"1.7e-01\",\"1.7e-01\",\"1.7e-01\",\"1.7e-01\",\"1.7e-01\",\"1.7e-01\",\"1.7e-01\",\"1.7e-01\",\"1.7e-01\",\"1.7e-01\",\"1.7e-01\",\"1.7e-01\",\"1.7e-01\",\"1.7e-01\",\"2.e-01\",\"2.e-01\",\"2.e-01\",\"2.e-01\",\"2.e-01\",\"2.e-01\",\"2.e-01\",\"2.e-01\",\"2.e-01\",\"2.e-01\",\"2.e-01\",\"2.e-01\",\"2.e-01\",\"2.e-01\",\"2.e-01\",\"2.3e-01\",\"2.3e-01\",\"2.3e-01\",\"2.3e-01\",\"2.3e-01\",\"2.3e-01\",\"2.3e-01\",\"2.3e-01\",\"2.3e-01\",\"2.3e-01\",\"2.3e-01\",\"2.3e-01\",\"2.3e-01\",\"2.3e-01\",\"2.3e-01\",\"2.6e-01\",\"2.6e-01\",\"2.6e-01\",\"2.6e-01\",\"2.6e-01\",\"2.6e-01\",\"2.6e-01\",\"2.6e-01\",\"2.6e-01\",\"2.6e-01\",\"2.6e-01\",\"2.6e-01\",\"2.6e-01\",\"2.6e-01\",\"2.6e-01\",\"2.9e-01\",\"2.9e-01\",\"2.9e-01\",\"2.9e-01\",\"2.9e-01\",\"2.9e-01\",\"2.9e-01\",\"2.9e-01\",\"2.9e-01\",\"2.9e-01\",\"2.9e-01\",\"2.9e-01\",\"2.9e-01\",\"2.9e-01\",\"2.9e-01\",\"3.2e-01\",\"3.2e-01\",\"3.2e-01\",\"3.2e-01\",\"3.2e-01\",\"3.2e-01\",\"3.2e-01\",\"3.2e-01\",\"3.2e-01\",\"3.2e-01\",\"3.2e-01\",\"3.2e-01\",\"3.2e-01\",\"3.2e-01\",\"3.2e-01\",\"3.5e-01\",\"3.5e-01\",\"3.5e-01\",\"3.5e-01\",\"3.5e-01\",\"3.5e-01\",\"3.5e-01\",\"3.5e-01\",\"3.5e-01\",\"3.5e-01\",\"3.5e-01\",\"3.5e-01\",\"3.5e-01\",\"3.5e-01\",\"3.5e-01\",\"3.8e-01\",\"3.8e-01\",\"3.8e-01\",\"3.8e-01\",\"3.8e-01\",\"3.8e-01\",\"3.8e-01\",\"3.8e-01\",\"3.8e-01\",\"3.8e-01\",\"3.8e-01\",\"3.8e-01\",\"3.8e-01\",\"3.8e-01\",\"3.8e-01\",\"4.1e-01\",\"4.1e-01\",\"4.1e-01\",\"4.1e-01\",\"4.1e-01\",\"4.1e-01\",\"4.1e-01\",\"4.1e-01\",\"4.1e-01\",\"4.1e-01\",\"4.1e-01\",\"4.1e-01\",\"4.1e-01\",\"4.1e-01\",\"4.1e-01\",\"4.4e-01\",\"4.4e-01\",\"4.4e-01\",\"4.4e-01\",\"4.4e-01\",\"4.4e-01\",\"4.4e-01\",\"4.4e-01\",\"4.4e-01\",\"4.4e-01\",\"4.4e-01\",\"4.4e-01\",\"4.4e-01\",\"4.4e-01\",\"4.4e-01\",\"4.7e-01\",\"4.7e-01\",\"4.7e-01\",\"4.7e-01\",\"4.7e-01\",\"4.7e-01\",\"4.7e-01\",\"4.7e-01\",\"4.7e-01\",\"4.7e-01\",\"4.7e-01\",\"4.7e-01\",\"4.7e-01\",\"4.7e-01\",\"4.7e-01\",\"5.e-01\",\"5.e-01\",\"5.e-01\",\"5.e-01\",\"5.e-01\",\"5.e-01\",\"5.e-01\",\"5.e-01\",\"5.e-01\",\"5.e-01\",\"5.e-01\",\"5.e-01\",\"5.e-01\",\"5.e-01\",\"5.e-01\"],\"shape\":[225],\"dtype\":\"object\",\"order\":\"little\"}],[\"a_b\",{\"type\":\"ndarray\",\"array\":[\"0.e+00\",\"1.79e+04\",\"3.57e+04\",\"5.36e+04\",\"7.14e+04\",\"8.93e+04\",\"1.07e+05\",\"1.25e+05\",\"1.43e+05\",\"1.61e+05\",\"1.79e+05\",\"1.96e+05\",\"2.14e+05\",\"2.32e+05\",\"2.5e+05\",\"0.e+00\",\"1.79e+04\",\"3.57e+04\",\"5.36e+04\",\"7.14e+04\",\"8.93e+04\",\"1.07e+05\",\"1.25e+05\",\"1.43e+05\",\"1.61e+05\",\"1.79e+05\",\"1.96e+05\",\"2.14e+05\",\"2.32e+05\",\"2.5e+05\",\"0.e+00\",\"1.79e+04\",\"3.57e+04\",\"5.36e+04\",\"7.14e+04\",\"8.93e+04\",\"1.07e+05\",\"1.25e+05\",\"1.43e+05\",\"1.61e+05\",\"1.79e+05\",\"1.96e+05\",\"2.14e+05\",\"2.32e+05\",\"2.5e+05\",\"0.e+00\",\"1.79e+04\",\"3.57e+04\",\"5.36e+04\",\"7.14e+04\",\"8.93e+04\",\"1.07e+05\",\"1.25e+05\",\"1.43e+05\",\"1.61e+05\",\"1.79e+05\",\"1.96e+05\",\"2.14e+05\",\"2.32e+05\",\"2.5e+05\",\"0.e+00\",\"1.79e+04\",\"3.57e+04\",\"5.36e+04\",\"7.14e+04\",\"8.93e+04\",\"1.07e+05\",\"1.25e+05\",\"1.43e+05\",\"1.61e+05\",\"1.79e+05\",\"1.96e+05\",\"2.14e+05\",\"2.32e+05\",\"2.5e+05\",\"0.e+00\",\"1.79e+04\",\"3.57e+04\",\"5.36e+04\",\"7.14e+04\",\"8.93e+04\",\"1.07e+05\",\"1.25e+05\",\"1.43e+05\",\"1.61e+05\",\"1.79e+05\",\"1.96e+05\",\"2.14e+05\",\"2.32e+05\",\"2.5e+05\",\"0.e+00\",\"1.79e+04\",\"3.57e+04\",\"5.36e+04\",\"7.14e+04\",\"8.93e+04\",\"1.07e+05\",\"1.25e+05\",\"1.43e+05\",\"1.61e+05\",\"1.79e+05\",\"1.96e+05\",\"2.14e+05\",\"2.32e+05\",\"2.5e+05\",\"0.e+00\",\"1.79e+04\",\"3.57e+04\",\"5.36e+04\",\"7.14e+04\",\"8.93e+04\",\"1.07e+05\",\"1.25e+05\",\"1.43e+05\",\"1.61e+05\",\"1.79e+05\",\"1.96e+05\",\"2.14e+05\",\"2.32e+05\",\"2.5e+05\",\"0.e+00\",\"1.79e+04\",\"3.57e+04\",\"5.36e+04\",\"7.14e+04\",\"8.93e+04\",\"1.07e+05\",\"1.25e+05\",\"1.43e+05\",\"1.61e+05\",\"1.79e+05\",\"1.96e+05\",\"2.14e+05\",\"2.32e+05\",\"2.5e+05\",\"0.e+00\",\"1.79e+04\",\"3.57e+04\",\"5.36e+04\",\"7.14e+04\",\"8.93e+04\",\"1.07e+05\",\"1.25e+05\",\"1.43e+05\",\"1.61e+05\",\"1.79e+05\",\"1.96e+05\",\"2.14e+05\",\"2.32e+05\",\"2.5e+05\",\"0.e+00\",\"1.79e+04\",\"3.57e+04\",\"5.36e+04\",\"7.14e+04\",\"8.93e+04\",\"1.07e+05\",\"1.25e+05\",\"1.43e+05\",\"1.61e+05\",\"1.79e+05\",\"1.96e+05\",\"2.14e+05\",\"2.32e+05\",\"2.5e+05\",\"0.e+00\",\"1.79e+04\",\"3.57e+04\",\"5.36e+04\",\"7.14e+04\",\"8.93e+04\",\"1.07e+05\",\"1.25e+05\",\"1.43e+05\",\"1.61e+05\",\"1.79e+05\",\"1.96e+05\",\"2.14e+05\",\"2.32e+05\",\"2.5e+05\",\"0.e+00\",\"1.79e+04\",\"3.57e+04\",\"5.36e+04\",\"7.14e+04\",\"8.93e+04\",\"1.07e+05\",\"1.25e+05\",\"1.43e+05\",\"1.61e+05\",\"1.79e+05\",\"1.96e+05\",\"2.14e+05\",\"2.32e+05\",\"2.5e+05\",\"0.e+00\",\"1.79e+04\",\"3.57e+04\",\"5.36e+04\",\"7.14e+04\",\"8.93e+04\",\"1.07e+05\",\"1.25e+05\",\"1.43e+05\",\"1.61e+05\",\"1.79e+05\",\"1.96e+05\",\"2.14e+05\",\"2.32e+05\",\"2.5e+05\",\"0.e+00\",\"1.79e+04\",\"3.57e+04\",\"5.36e+04\",\"7.14e+04\",\"8.93e+04\",\"1.07e+05\",\"1.25e+05\",\"1.43e+05\",\"1.61e+05\",\"1.79e+05\",\"1.96e+05\",\"2.14e+05\",\"2.32e+05\",\"2.5e+05\"],\"shape\":[225],\"dtype\":\"object\",\"order\":\"little\"}],[\"H\",{\"type\":\"ndarray\",\"array\":{\"type\":\"bytes\",\"data\":\"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\"},\"shape\":[225],\"dtype\":\"float64\",\"order\":\"little\"}]]}}},\"view\":{\"type\":\"object\",\"name\":\"CDSView\",\"id\":\"p1470\",\"attributes\":{\"filter\":{\"type\":\"object\",\"name\":\"AllIndices\",\"id\":\"p1471\"}}},\"glyph\":{\"type\":\"object\",\"name\":\"Rect\",\"id\":\"p1466\",\"attributes\":{\"x\":{\"type\":\"field\",\"field\":\"s\"},\"y\":{\"type\":\"field\",\"field\":\"a_b\"},\"width\":{\"type\":\"value\",\"value\":1},\"height\":{\"type\":\"value\",\"value\":1},\"line_color\":{\"type\":\"value\",\"value\":null},\"fill_color\":{\"type\":\"field\",\"field\":\"H\",\"transform\":{\"type\":\"object\",\"name\":\"LinearColorMapper\",\"id\":\"p1459\",\"attributes\":{\"palette\":[\"#0C0786\",\"#100787\",\"#130689\",\"#15068A\",\"#18068B\",\"#1B068C\",\"#1D068D\",\"#1F058E\",\"#21058F\",\"#230590\",\"#250591\",\"#270592\",\"#290593\",\"#2B0594\",\"#2D0494\",\"#2F0495\",\"#310496\",\"#330497\",\"#340498\",\"#360498\",\"#380499\",\"#3A049A\",\"#3B039A\",\"#3D039B\",\"#3F039C\",\"#40039C\",\"#42039D\",\"#44039E\",\"#45039E\",\"#47029F\",\"#49029F\",\"#4A02A0\",\"#4C02A1\",\"#4E02A1\",\"#4F02A2\",\"#5101A2\",\"#5201A3\",\"#5401A3\",\"#5601A3\",\"#5701A4\",\"#5901A4\",\"#5A00A5\",\"#5C00A5\",\"#5E00A5\",\"#5F00A6\",\"#6100A6\",\"#6200A6\",\"#6400A7\",\"#6500A7\",\"#6700A7\",\"#6800A7\",\"#6A00A7\",\"#6C00A8\",\"#6D00A8\",\"#6F00A8\",\"#7000A8\",\"#7200A8\",\"#7300A8\",\"#7500A8\",\"#7601A8\",\"#7801A8\",\"#7901A8\",\"#7B02A8\",\"#7C02A7\",\"#7E03A7\",\"#7F03A7\",\"#8104A7\",\"#8204A7\",\"#8405A6\",\"#8506A6\",\"#8607A6\",\"#8807A5\",\"#8908A5\",\"#8B09A4\",\"#8C0AA4\",\"#8E0CA4\",\"#8F0DA3\",\"#900EA3\",\"#920FA2\",\"#9310A1\",\"#9511A1\",\"#9612A0\",\"#9713A0\",\"#99149F\",\"#9A159E\",\"#9B179E\",\"#9D189D\",\"#9E199C\",\"#9F1A9B\",\"#A01B9B\",\"#A21C9A\",\"#A31D99\",\"#A41E98\",\"#A51F97\",\"#A72197\",\"#A82296\",\"#A92395\",\"#AA2494\",\"#AC2593\",\"#AD2692\",\"#AE2791\",\"#AF2890\",\"#B02A8F\",\"#B12B8F\",\"#B22C8E\",\"#B42D8D\",\"#B52E8C\",\"#B62F8B\",\"#B7308A\",\"#B83289\",\"#B93388\",\"#BA3487\",\"#BB3586\",\"#BC3685\",\"#BD3784\",\"#BE3883\",\"#BF3982\",\"#C03B81\",\"#C13C80\",\"#C23D80\",\"#C33E7F\",\"#C43F7E\",\"#C5407D\",\"#C6417C\",\"#C7427B\",\"#C8447A\",\"#C94579\",\"#CA4678\",\"#CB4777\",\"#CC4876\",\"#CD4975\",\"#CE4A75\",\"#CF4B74\",\"#D04D73\",\"#D14E72\",\"#D14F71\",\"#D25070\",\"#D3516F\",\"#D4526E\",\"#D5536D\",\"#D6556D\",\"#D7566C\",\"#D7576B\",\"#D8586A\",\"#D95969\",\"#DA5A68\",\"#DB5B67\",\"#DC5D66\",\"#DC5E66\",\"#DD5F65\",\"#DE6064\",\"#DF6163\",\"#DF6262\",\"#E06461\",\"#E16560\",\"#E26660\",\"#E3675F\",\"#E3685E\",\"#E46A5D\",\"#E56B5C\",\"#E56C5B\",\"#E66D5A\",\"#E76E5A\",\"#E87059\",\"#E87158\",\"#E97257\",\"#EA7356\",\"#EA7455\",\"#EB7654\",\"#EC7754\",\"#EC7853\",\"#ED7952\",\"#ED7B51\",\"#EE7C50\",\"#EF7D4F\",\"#EF7E4E\",\"#F0804D\",\"#F0814D\",\"#F1824C\",\"#F2844B\",\"#F2854A\",\"#F38649\",\"#F38748\",\"#F48947\",\"#F48A47\",\"#F58B46\",\"#F58D45\",\"#F68E44\",\"#F68F43\",\"#F69142\",\"#F79241\",\"#F79341\",\"#F89540\",\"#F8963F\",\"#F8983E\",\"#F9993D\",\"#F99A3C\",\"#FA9C3B\",\"#FA9D3A\",\"#FA9F3A\",\"#FAA039\",\"#FBA238\",\"#FBA337\",\"#FBA436\",\"#FCA635\",\"#FCA735\",\"#FCA934\",\"#FCAA33\",\"#FCAC32\",\"#FCAD31\",\"#FDAF31\",\"#FDB030\",\"#FDB22F\",\"#FDB32E\",\"#FDB52D\",\"#FDB62D\",\"#FDB82C\",\"#FDB92B\",\"#FDBB2B\",\"#FDBC2A\",\"#FDBE29\",\"#FDC029\",\"#FDC128\",\"#FDC328\",\"#FDC427\",\"#FDC626\",\"#FCC726\",\"#FCC926\",\"#FCCB25\",\"#FCCC25\",\"#FCCE25\",\"#FBD024\",\"#FBD124\",\"#FBD324\",\"#FAD524\",\"#FAD624\",\"#FAD824\",\"#F9D924\",\"#F9DB24\",\"#F8DD24\",\"#F8DF24\",\"#F7E024\",\"#F7E225\",\"#F6E425\",\"#F6E525\",\"#F5E726\",\"#F5E926\",\"#F4EA26\",\"#F3EC26\",\"#F3EE26\",\"#F2F026\",\"#F2F126\",\"#F1F326\",\"#F0F525\",\"#F0F623\",\"#EFF821\"],\"low\":0,\"high\":10}}}}},\"nonselection_glyph\":{\"type\":\"object\",\"name\":\"Rect\",\"id\":\"p1467\",\"attributes\":{\"x\":{\"type\":\"field\",\"field\":\"s\"},\"y\":{\"type\":\"field\",\"field\":\"a_b\"},\"width\":{\"type\":\"value\",\"value\":1},\"height\":{\"type\":\"value\",\"value\":1},\"line_color\":{\"type\":\"value\",\"value\":null},\"line_alpha\":{\"type\":\"value\",\"value\":0.1},\"fill_color\":{\"type\":\"field\",\"field\":\"H\",\"transform\":{\"id\":\"p1459\"}},\"fill_alpha\":{\"type\":\"value\",\"value\":0.1},\"hatch_alpha\":{\"type\":\"value\",\"value\":0.1}}},\"muted_glyph\":{\"type\":\"object\",\"name\":\"Rect\",\"id\":\"p1468\",\"attributes\":{\"x\":{\"type\":\"field\",\"field\":\"s\"},\"y\":{\"type\":\"field\",\"field\":\"a_b\"},\"width\":{\"type\":\"value\",\"value\":1},\"height\":{\"type\":\"value\",\"value\":1},\"line_color\":{\"type\":\"value\",\"value\":null},\"line_alpha\":{\"type\":\"value\",\"value\":0.2},\"fill_color\":{\"type\":\"field\",\"field\":\"H\",\"transform\":{\"id\":\"p1459\"}},\"fill_alpha\":{\"type\":\"value\",\"value\":0.2},\"hatch_alpha\":{\"type\":\"value\",\"value\":0.2}}}}}],\"toolbar\":{\"type\":\"object\",\"name\":\"Toolbar\",\"id\":\"p1434\",\"attributes\":{\"tools\":[{\"type\":\"object\",\"name\":\"BoxZoomTool\",\"id\":\"p1449\",\"attributes\":{\"overlay\":{\"type\":\"object\",\"name\":\"BoxAnnotation\",\"id\":\"p1450\",\"attributes\":{\"syncable\":false,\"level\":\"overlay\",\"visible\":false,\"left\":{\"type\":\"number\",\"value\":\"nan\"},\"right\":{\"type\":\"number\",\"value\":\"nan\"},\"top\":{\"type\":\"number\",\"value\":\"nan\"},\"bottom\":{\"type\":\"number\",\"value\":\"nan\"},\"left_units\":\"canvas\",\"right_units\":\"canvas\",\"top_units\":\"canvas\",\"bottom_units\":\"canvas\",\"line_color\":\"black\",\"line_alpha\":1.0,\"line_width\":2,\"line_dash\":[4,4],\"fill_color\":\"lightgrey\",\"fill_alpha\":0.5}}}},{\"type\":\"object\",\"name\":\"PanTool\",\"id\":\"p1455\"},{\"type\":\"object\",\"name\":\"HoverTool\",\"id\":\"p1456\",\"attributes\":{\"renderers\":\"auto\",\"tooltips\":[[\"\\u03c3 = \",\"@{s}\"],[\"\\u03b1b = \",\"@{a_b}\"],[\"H change=\",\"@H\"]]}},{\"type\":\"object\",\"name\":\"ResetTool\",\"id\":\"p1457\"},{\"type\":\"object\",\"name\":\"SaveTool\",\"id\":\"p1458\"}]}},\"left\":[{\"type\":\"object\",\"name\":\"CategoricalAxis\",\"id\":\"p1444\",\"attributes\":{\"ticker\":{\"type\":\"object\",\"name\":\"CategoricalTicker\",\"id\":\"p1445\"},\"formatter\":{\"type\":\"object\",\"name\":\"CategoricalTickFormatter\",\"id\":\"p1446\"},\"axis_label\":\"\\u03b1b (synth. gene transc. rate), nM\",\"major_label_standoff\":0,\"major_label_policy\":{\"type\":\"object\",\"name\":\"AllLabels\",\"id\":\"p1447\"},\"major_label_text_font_size\":\"8pt\",\"axis_line_color\":null,\"major_tick_line_color\":null}}],\"right\":[{\"type\":\"object\",\"name\":\"ColorBar\",\"id\":\"p1474\",\"attributes\":{\"ticker\":{\"type\":\"object\",\"name\":\"BasicTicker\",\"id\":\"p1472\",\"attributes\":{\"desired_num_ticks\":3,\"mantissas\":[1,2,5]}},\"formatter\":{\"type\":\"object\",\"name\":\"PrintfTickFormatter\",\"id\":\"p1473\",\"attributes\":{\"format\":\"%.0f%%\"}},\"major_label_policy\":{\"type\":\"object\",\"name\":\"NoOverlap\",\"id\":\"p1475\"},\"padding\":5,\"major_label_text_font_size\":\"8pt\",\"label_standoff\":6,\"color_mapper\":{\"id\":\"p1459\"}}}],\"below\":[{\"type\":\"object\",\"name\":\"CategoricalAxis\",\"id\":\"p1439\",\"attributes\":{\"ticker\":{\"type\":\"object\",\"name\":\"CategoricalTicker\",\"id\":\"p1440\"},\"formatter\":{\"type\":\"object\",\"name\":\"CategoricalTickFormatter\",\"id\":\"p1441\"},\"axis_label\":\"\\u03c3 (medium nutr. qual.)\",\"major_label_standoff\":0,\"major_label_orientation\":1.5707963267948966,\"major_label_policy\":{\"type\":\"object\",\"name\":\"AllLabels\",\"id\":\"p1442\"},\"major_label_text_font_size\":\"8pt\",\"axis_line_color\":null,\"major_tick_line_color\":null}}],\"center\":[{\"type\":\"object\",\"name\":\"Grid\",\"id\":\"p1443\",\"attributes\":{\"axis\":{\"id\":\"p1439\"},\"grid_line_color\":null}},{\"type\":\"object\",\"name\":\"Grid\",\"id\":\"p1448\",\"attributes\":{\"dimension\":1,\"axis\":{\"id\":\"p1444\"},\"grid_line_color\":null}}],\"output_backend\":\"svg\"}}]}}]}};\n  const render_items = [{\"docid\":\"084ea429-51b4-4b73-ac39-183be5f8e319\",\"roots\":{\"p1476\":\"d1b74b98-4380-4e9f-9477-2505c40b753b\"},\"root_ids\":[\"p1476\"]}];\n  void root.Bokeh.embed.embed_items_notebook(docs_json, render_items);\n  }\n  if (root.Bokeh !== undefined) {\n    embed_document(root);\n  } else {\n    let attempts = 0;\n    const timer = setInterval(function(root) {\n      if (root.Bokeh !== undefined) {\n        clearInterval(timer);\n        embed_document(root);\n      } else {\n        attempts++;\n        if (attempts > 100) {\n          clearInterval(timer);\n          console.log(\"Bokeh: ERROR: Unable to run BokehJS code because BokehJS library is missing\");\n        }\n      }\n    }, 10, root)\n  }\n})(window);",
      "application/vnd.bokehjs_exec.v0+json": ""
     },
     "metadata": {
      "application/vnd.bokehjs_exec.v0+json": {
       "id": "p1476"
      }
     },
     "output_type": "display_data"
    }
   ],
   "execution_count": 12
  },
  {
   "metadata": {
    "ExecuteTime": {
     "end_time": "2024-08-06T18:44:01.503344Z",
     "start_time": "2024-08-06T18:44:01.478242Z"
    }
   },
   "cell_type": "code",
   "source": [
    "# save one plot for the colour bar\n",
    "\n",
    "bkplot.output_file('hmap_for_bar.html')\n",
    "bkplot.save(figs[0])"
   ],
   "id": "9e23e1b7ddc24d3",
   "outputs": [
    {
     "data": {
      "text/plain": [
       "'/mnt/c/Users/ersat/CODE/punisher/FigS4/hmap_for_bar.html'"
      ]
     },
     "execution_count": 11,
     "metadata": {},
     "output_type": "execute_result"
    }
   ],
   "execution_count": 11
  }
 ],
 "metadata": {
  "kernelspec": {
   "display_name": "Python 3",
   "language": "python",
   "name": "python3"
  },
  "language_info": {
   "codemirror_mode": {
    "name": "ipython",
    "version": 2
   },
   "file_extension": ".py",
   "mimetype": "text/x-python",
   "name": "python",
   "nbconvert_exporter": "python",
   "pygments_lexer": "ipython2",
   "version": "2.7.6"
  }
 },
 "nbformat": 4,
 "nbformat_minor": 5
}
