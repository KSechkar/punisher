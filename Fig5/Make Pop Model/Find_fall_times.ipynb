{
 "cells": [
  {
   "cell_type": "code",
   "source": [
    "'''\n",
    "FIND_FALL_TIMES.PY: Find times taken to fall to low switch protein levels when the switch gene is mutated\n",
    "'''\n",
    "# By Kirill Sechkar\n",
    "\n",
    "# PACKAGE IMPORTS \n",
    "import numpy as np\n",
    "import jax\n",
    "import jax.numpy as jnp\n",
    "import functools\n",
    "from diffrax import diffeqsolve, Dopri5, ODETerm, SaveAt, PIDController, SteadyStateEvent\n",
    "import pandas as pd\n",
    "from bokeh import plotting as bkplot, models as bkmodels, layouts as bklayouts, io as bkio\n",
    "from bokeh.colors import RGB as bkRGB\n",
    "import time\n",
    "\n",
    "# set up jax\n",
    "from jax.lib import xla_bridge\n",
    "jax.config.update('jax_platform_name', 'gpu')\n",
    "jax.config.update(\"jax_enable_x64\", True)\n",
    "print(xla_bridge.get_backend().platform)\n",
    "\n",
    "# set up bokeh\n",
    "bkio.reset_output()\n",
    "bkio.output_notebook() \n",
    "\n",
    "# OWN CODE IMPORTS\n",
    "import synthetic_circuits as circuits\n",
    "from cell_model import *\n",
    "from get_steady_state import values_for_analytical\n",
    "from Fig2.design_guidance_tools import F_real_calc,F_req_calc, pint_from_pswitch_and_xi\n",
    "from switching_time_estimation_tools import *"
   ],
   "metadata": {
    "collapsed": false,
    "ExecuteTime": {
     "end_time": "2024-06-13T12:40:16.588055Z",
     "start_time": "2024-06-13T12:40:15.775829Z"
    }
   },
   "outputs": [
    {
     "name": "stderr",
     "output_type": "stream",
     "text": [
      "An NVIDIA GPU may be present on this machine, but a CUDA-enabled jaxlib is not installed. Falling back to cpu.\n"
     ]
    },
    {
     "name": "stdout",
     "output_type": "stream",
     "text": [
      "cpu\n"
     ]
    },
    {
     "data": {
      "text/html": [
       "    <style>\n",
       "        .bk-notebook-logo {\n",
       "            display: block;\n",
       "            width: 20px;\n",
       "            height: 20px;\n",
       "            background-image: url(data:image/png;base64,iVBORw0KGgoAAAANSUhEUgAAABQAAAAUCAYAAACNiR0NAAAABHNCSVQICAgIfAhkiAAAAAlwSFlzAAALEgAACxIB0t1+/AAAABx0RVh0U29mdHdhcmUAQWRvYmUgRmlyZXdvcmtzIENTNui8sowAAAOkSURBVDiNjZRtaJVlGMd/1/08zzln5zjP1LWcU9N0NkN8m2CYjpgQYQXqSs0I84OLIC0hkEKoPtiH3gmKoiJDU7QpLgoLjLIQCpEsNJ1vqUOdO7ppbuec5+V+rj4ctwzd8IIbbi6u+8f1539dt3A78eXC7QizUF7gyV1fD1Yqg4JWz84yffhm0qkFqBogB9rM8tZdtwVsPUhWhGcFJngGeWrPzHm5oaMmkfEg1usvLFyc8jLRqDOMru7AyC8saQr7GG7f5fvDeH7Ej8CM66nIF+8yngt6HWaKh7k49Soy9nXurCi1o3qUbS3zWfrYeQDTB/Qj6kX6Ybhw4B+bOYoLKCC9H3Nu/leUTZ1JdRWkkn2ldcCamzrcf47KKXdAJllSlxAOkRgyHsGC/zRday5Qld9DyoM4/q/rUoy/CXh3jzOu3bHUVZeU+DEn8FInkPBFlu3+nW3Nw0mk6vCDiWg8CeJaxEwuHS3+z5RgY+YBR6V1Z1nxSOfoaPa4LASWxxdNp+VWTk7+4vzaou8v8PN+xo+KY2xsw6une2frhw05CTYOmQvsEhjhWjn0bmXPjpE1+kplmmkP3suftwTubK9Vq22qKmrBhpY4jvd5afdRA3wGjFAgcnTK2s4hY0/GPNIb0nErGMCRxWOOX64Z8RAC4oCXdklmEvcL8o0BfkNK4lUg9HTl+oPlQxdNo3Mg4Nv175e/1LDGzZen30MEjRUtmXSfiTVu1kK8W4txyV6BMKlbgk3lMwYCiusNy9fVfvvwMxv8Ynl6vxoByANLTWplvuj/nF9m2+PDtt1eiHPBr1oIfhCChQMBw6Aw0UulqTKZdfVvfG7VcfIqLG9bcldL/+pdWTLxLUy8Qq38heUIjh4XlzZxzQm19lLFlr8vdQ97rjZVOLf8nclzckbcD4wxXMidpX30sFd37Fv/GtwwhzhxGVAprjbg0gCAEeIgwCZyTV2Z1REEW8O4py0wsjeloKoMr6iCY6dP92H6Vw/oTyICIthibxjm/DfN9lVz8IqtqKYLUXfoKVMVQVVJOElGjrnnUt9T9wbgp8AyYKaGlqingHZU/uG2NTZSVqwHQTWkx9hxjkpWDaCg6Ckj5qebgBVbT3V3NNXMSiWSDdGV3hrtzla7J+duwPOToIg42ChPQOQjspnSlp1V+Gjdged7+8UN5CRAV7a5EdFNwCjEaBR27b3W890TE7g24NAP/mMDXRWrGoFPQI9ls/MWO2dWFAar/xcOIImbbpA3zgAAAABJRU5ErkJggg==);\n",
       "        }\n",
       "    </style>\n",
       "    <div>\n",
       "        <a href=\"https://bokeh.org\" target=\"_blank\" class=\"bk-notebook-logo\"></a>\n",
       "        <span id=\"a310c203-2d31-4c96-81dc-84734ce87c7c\">Loading BokehJS ...</span>\n",
       "    </div>\n"
      ]
     },
     "metadata": {},
     "output_type": "display_data"
    },
    {
     "data": {
      "application/javascript": "'use strict';\n(function(root) {\n  function now() {\n    return new Date();\n  }\n\n  const force = true;\n\n  if (typeof root._bokeh_onload_callbacks === \"undefined\" || force === true) {\n    root._bokeh_onload_callbacks = [];\n    root._bokeh_is_loading = undefined;\n  }\n\nconst JS_MIME_TYPE = 'application/javascript';\n  const HTML_MIME_TYPE = 'text/html';\n  const EXEC_MIME_TYPE = 'application/vnd.bokehjs_exec.v0+json';\n  const CLASS_NAME = 'output_bokeh rendered_html';\n\n  /**\n   * Render data to the DOM node\n   */\n  function render(props, node) {\n    const script = document.createElement(\"script\");\n    node.appendChild(script);\n  }\n\n  /**\n   * Handle when an output is cleared or removed\n   */\n  function handleClearOutput(event, handle) {\n    function drop(id) {\n      const view = Bokeh.index.get_by_id(id)\n      if (view != null) {\n        view.model.document.clear()\n        Bokeh.index.delete(view)\n      }\n    }\n\n    const cell = handle.cell;\n\n    const id = cell.output_area._bokeh_element_id;\n    const server_id = cell.output_area._bokeh_server_id;\n\n    // Clean up Bokeh references\n    if (id != null) {\n      drop(id)\n    }\n\n    if (server_id !== undefined) {\n      // Clean up Bokeh references\n      const cmd_clean = \"from bokeh.io.state import curstate; print(curstate().uuid_to_server['\" + server_id + \"'].get_sessions()[0].document.roots[0]._id)\";\n      cell.notebook.kernel.execute(cmd_clean, {\n        iopub: {\n          output: function(msg) {\n            const id = msg.content.text.trim()\n            drop(id)\n          }\n        }\n      });\n      // Destroy server and session\n      const cmd_destroy = \"import bokeh.io.notebook as ion; ion.destroy_server('\" + server_id + \"')\";\n      cell.notebook.kernel.execute(cmd_destroy);\n    }\n  }\n\n  /**\n   * Handle when a new output is added\n   */\n  function handleAddOutput(event, handle) {\n    const output_area = handle.output_area;\n    const output = handle.output;\n\n    // limit handleAddOutput to display_data with EXEC_MIME_TYPE content only\n    if ((output.output_type != \"display_data\") || (!Object.prototype.hasOwnProperty.call(output.data, EXEC_MIME_TYPE))) {\n      return\n    }\n\n    const toinsert = output_area.element.find(\".\" + CLASS_NAME.split(' ')[0]);\n\n    if (output.metadata[EXEC_MIME_TYPE][\"id\"] !== undefined) {\n      toinsert[toinsert.length - 1].firstChild.textContent = output.data[JS_MIME_TYPE];\n      // store reference to embed id on output_area\n      output_area._bokeh_element_id = output.metadata[EXEC_MIME_TYPE][\"id\"];\n    }\n    if (output.metadata[EXEC_MIME_TYPE][\"server_id\"] !== undefined) {\n      const bk_div = document.createElement(\"div\");\n      bk_div.innerHTML = output.data[HTML_MIME_TYPE];\n      const script_attrs = bk_div.children[0].attributes;\n      for (let i = 0; i < script_attrs.length; i++) {\n        toinsert[toinsert.length - 1].firstChild.setAttribute(script_attrs[i].name, script_attrs[i].value);\n        toinsert[toinsert.length - 1].firstChild.textContent = bk_div.children[0].textContent\n      }\n      // store reference to server id on output_area\n      output_area._bokeh_server_id = output.metadata[EXEC_MIME_TYPE][\"server_id\"];\n    }\n  }\n\n  function register_renderer(events, OutputArea) {\n\n    function append_mime(data, metadata, element) {\n      // create a DOM node to render to\n      const toinsert = this.create_output_subarea(\n        metadata,\n        CLASS_NAME,\n        EXEC_MIME_TYPE\n      );\n      this.keyboard_manager.register_events(toinsert);\n      // Render to node\n      const props = {data: data, metadata: metadata[EXEC_MIME_TYPE]};\n      render(props, toinsert[toinsert.length - 1]);\n      element.append(toinsert);\n      return toinsert\n    }\n\n    /* Handle when an output is cleared or removed */\n    events.on('clear_output.CodeCell', handleClearOutput);\n    events.on('delete.Cell', handleClearOutput);\n\n    /* Handle when a new output is added */\n    events.on('output_added.OutputArea', handleAddOutput);\n\n    /**\n     * Register the mime type and append_mime function with output_area\n     */\n    OutputArea.prototype.register_mime_type(EXEC_MIME_TYPE, append_mime, {\n      /* Is output safe? */\n      safe: true,\n      /* Index of renderer in `output_area.display_order` */\n      index: 0\n    });\n  }\n\n  // register the mime type if in Jupyter Notebook environment and previously unregistered\n  if (root.Jupyter !== undefined) {\n    const events = require('base/js/events');\n    const OutputArea = require('notebook/js/outputarea').OutputArea;\n\n    if (OutputArea.prototype.mime_types().indexOf(EXEC_MIME_TYPE) == -1) {\n      register_renderer(events, OutputArea);\n    }\n  }\n  if (typeof (root._bokeh_timeout) === \"undefined\" || force === true) {\n    root._bokeh_timeout = Date.now() + 5000;\n    root._bokeh_failed_load = false;\n  }\n\n  const NB_LOAD_WARNING = {'data': {'text/html':\n     \"<div style='background-color: #fdd'>\\n\"+\n     \"<p>\\n\"+\n     \"BokehJS does not appear to have successfully loaded. If loading BokehJS from CDN, this \\n\"+\n     \"may be due to a slow or bad network connection. Possible fixes:\\n\"+\n     \"</p>\\n\"+\n     \"<ul>\\n\"+\n     \"<li>re-rerun `output_notebook()` to attempt to load from CDN again, or</li>\\n\"+\n     \"<li>use INLINE resources instead, as so:</li>\\n\"+\n     \"</ul>\\n\"+\n     \"<code>\\n\"+\n     \"from bokeh.resources import INLINE\\n\"+\n     \"output_notebook(resources=INLINE)\\n\"+\n     \"</code>\\n\"+\n     \"</div>\"}};\n\n  function display_loaded(error = null) {\n    const el = document.getElementById(\"a310c203-2d31-4c96-81dc-84734ce87c7c\");\n    if (el != null) {\n      const html = (() => {\n        if (typeof root.Bokeh === \"undefined\") {\n          if (error == null) {\n            return \"BokehJS is loading ...\";\n          } else {\n            return \"BokehJS failed to load.\";\n          }\n        } else {\n          const prefix = `BokehJS ${root.Bokeh.version}`;\n          if (error == null) {\n            return `${prefix} successfully loaded.`;\n          } else {\n            return `${prefix} <b>encountered errors</b> while loading and may not function as expected.`;\n          }\n        }\n      })();\n      el.innerHTML = html;\n\n      if (error != null) {\n        const wrapper = document.createElement(\"div\");\n        wrapper.style.overflow = \"auto\";\n        wrapper.style.height = \"5em\";\n        wrapper.style.resize = \"vertical\";\n        const content = document.createElement(\"div\");\n        content.style.fontFamily = \"monospace\";\n        content.style.whiteSpace = \"pre-wrap\";\n        content.style.backgroundColor = \"rgb(255, 221, 221)\";\n        content.textContent = error.stack ?? error.toString();\n        wrapper.append(content);\n        el.append(wrapper);\n      }\n    } else if (Date.now() < root._bokeh_timeout) {\n      setTimeout(() => display_loaded(error), 100);\n    }\n  }\n\n  function run_callbacks() {\n    try {\n      root._bokeh_onload_callbacks.forEach(function(callback) {\n        if (callback != null)\n          callback();\n      });\n    } finally {\n      delete root._bokeh_onload_callbacks\n    }\n    console.debug(\"Bokeh: all callbacks have finished\");\n  }\n\n  function load_libs(css_urls, js_urls, callback) {\n    if (css_urls == null) css_urls = [];\n    if (js_urls == null) js_urls = [];\n\n    root._bokeh_onload_callbacks.push(callback);\n    if (root._bokeh_is_loading > 0) {\n      console.debug(\"Bokeh: BokehJS is being loaded, scheduling callback at\", now());\n      return null;\n    }\n    if (js_urls == null || js_urls.length === 0) {\n      run_callbacks();\n      return null;\n    }\n    console.debug(\"Bokeh: BokehJS not loaded, scheduling load and callback at\", now());\n    root._bokeh_is_loading = css_urls.length + js_urls.length;\n\n    function on_load() {\n      root._bokeh_is_loading--;\n      if (root._bokeh_is_loading === 0) {\n        console.debug(\"Bokeh: all BokehJS libraries/stylesheets loaded\");\n        run_callbacks()\n      }\n    }\n\n    function on_error(url) {\n      console.error(\"failed to load \" + url);\n    }\n\n    for (let i = 0; i < css_urls.length; i++) {\n      const url = css_urls[i];\n      const element = document.createElement(\"link\");\n      element.onload = on_load;\n      element.onerror = on_error.bind(null, url);\n      element.rel = \"stylesheet\";\n      element.type = \"text/css\";\n      element.href = url;\n      console.debug(\"Bokeh: injecting link tag for BokehJS stylesheet: \", url);\n      document.body.appendChild(element);\n    }\n\n    for (let i = 0; i < js_urls.length; i++) {\n      const url = js_urls[i];\n      const element = document.createElement('script');\n      element.onload = on_load;\n      element.onerror = on_error.bind(null, url);\n      element.async = false;\n      element.src = url;\n      console.debug(\"Bokeh: injecting script tag for BokehJS library: \", url);\n      document.head.appendChild(element);\n    }\n  };\n\n  function inject_raw_css(css) {\n    const element = document.createElement(\"style\");\n    element.appendChild(document.createTextNode(css));\n    document.body.appendChild(element);\n  }\n\n  const js_urls = [\"https://cdn.bokeh.org/bokeh/release/bokeh-3.4.0.min.js\", \"https://cdn.bokeh.org/bokeh/release/bokeh-gl-3.4.0.min.js\", \"https://cdn.bokeh.org/bokeh/release/bokeh-widgets-3.4.0.min.js\", \"https://cdn.bokeh.org/bokeh/release/bokeh-tables-3.4.0.min.js\", \"https://cdn.bokeh.org/bokeh/release/bokeh-mathjax-3.4.0.min.js\"];\n  const css_urls = [];\n\n  const inline_js = [    function(Bokeh) {\n      Bokeh.set_log_level(\"info\");\n    },\nfunction(Bokeh) {\n    }\n  ];\n\n  function run_inline_js() {\n    if (root.Bokeh !== undefined || force === true) {\n      try {\n            for (let i = 0; i < inline_js.length; i++) {\n      inline_js[i].call(root, root.Bokeh);\n    }\n\n      } catch (error) {display_loaded(error);throw error;\n      }if (force === true) {\n        display_loaded();\n      }} else if (Date.now() < root._bokeh_timeout) {\n      setTimeout(run_inline_js, 100);\n    } else if (!root._bokeh_failed_load) {\n      console.log(\"Bokeh: BokehJS failed to load within specified timeout.\");\n      root._bokeh_failed_load = true;\n    } else if (force !== true) {\n      const cell = $(document.getElementById(\"a310c203-2d31-4c96-81dc-84734ce87c7c\")).parents('.cell').data().cell;\n      cell.output_area.append_execute_result(NB_LOAD_WARNING)\n    }\n  }\n\n  if (root._bokeh_is_loading === 0) {\n    console.debug(\"Bokeh: BokehJS loaded, going straight to plotting\");\n    run_inline_js();\n  } else {\n    load_libs(css_urls, js_urls, function() {\n      console.debug(\"Bokeh: BokehJS plotting callback run at\", now());\n      run_inline_js();\n    });\n  }\n}(window));",
      "application/vnd.bokehjs_load.v0+json": "'use strict';\n(function(root) {\n  function now() {\n    return new Date();\n  }\n\n  const force = true;\n\n  if (typeof root._bokeh_onload_callbacks === \"undefined\" || force === true) {\n    root._bokeh_onload_callbacks = [];\n    root._bokeh_is_loading = undefined;\n  }\n\n\n  if (typeof (root._bokeh_timeout) === \"undefined\" || force === true) {\n    root._bokeh_timeout = Date.now() + 5000;\n    root._bokeh_failed_load = false;\n  }\n\n  const NB_LOAD_WARNING = {'data': {'text/html':\n     \"<div style='background-color: #fdd'>\\n\"+\n     \"<p>\\n\"+\n     \"BokehJS does not appear to have successfully loaded. If loading BokehJS from CDN, this \\n\"+\n     \"may be due to a slow or bad network connection. Possible fixes:\\n\"+\n     \"</p>\\n\"+\n     \"<ul>\\n\"+\n     \"<li>re-rerun `output_notebook()` to attempt to load from CDN again, or</li>\\n\"+\n     \"<li>use INLINE resources instead, as so:</li>\\n\"+\n     \"</ul>\\n\"+\n     \"<code>\\n\"+\n     \"from bokeh.resources import INLINE\\n\"+\n     \"output_notebook(resources=INLINE)\\n\"+\n     \"</code>\\n\"+\n     \"</div>\"}};\n\n  function display_loaded(error = null) {\n    const el = document.getElementById(\"a310c203-2d31-4c96-81dc-84734ce87c7c\");\n    if (el != null) {\n      const html = (() => {\n        if (typeof root.Bokeh === \"undefined\") {\n          if (error == null) {\n            return \"BokehJS is loading ...\";\n          } else {\n            return \"BokehJS failed to load.\";\n          }\n        } else {\n          const prefix = `BokehJS ${root.Bokeh.version}`;\n          if (error == null) {\n            return `${prefix} successfully loaded.`;\n          } else {\n            return `${prefix} <b>encountered errors</b> while loading and may not function as expected.`;\n          }\n        }\n      })();\n      el.innerHTML = html;\n\n      if (error != null) {\n        const wrapper = document.createElement(\"div\");\n        wrapper.style.overflow = \"auto\";\n        wrapper.style.height = \"5em\";\n        wrapper.style.resize = \"vertical\";\n        const content = document.createElement(\"div\");\n        content.style.fontFamily = \"monospace\";\n        content.style.whiteSpace = \"pre-wrap\";\n        content.style.backgroundColor = \"rgb(255, 221, 221)\";\n        content.textContent = error.stack ?? error.toString();\n        wrapper.append(content);\n        el.append(wrapper);\n      }\n    } else if (Date.now() < root._bokeh_timeout) {\n      setTimeout(() => display_loaded(error), 100);\n    }\n  }\n\n  function run_callbacks() {\n    try {\n      root._bokeh_onload_callbacks.forEach(function(callback) {\n        if (callback != null)\n          callback();\n      });\n    } finally {\n      delete root._bokeh_onload_callbacks\n    }\n    console.debug(\"Bokeh: all callbacks have finished\");\n  }\n\n  function load_libs(css_urls, js_urls, callback) {\n    if (css_urls == null) css_urls = [];\n    if (js_urls == null) js_urls = [];\n\n    root._bokeh_onload_callbacks.push(callback);\n    if (root._bokeh_is_loading > 0) {\n      console.debug(\"Bokeh: BokehJS is being loaded, scheduling callback at\", now());\n      return null;\n    }\n    if (js_urls == null || js_urls.length === 0) {\n      run_callbacks();\n      return null;\n    }\n    console.debug(\"Bokeh: BokehJS not loaded, scheduling load and callback at\", now());\n    root._bokeh_is_loading = css_urls.length + js_urls.length;\n\n    function on_load() {\n      root._bokeh_is_loading--;\n      if (root._bokeh_is_loading === 0) {\n        console.debug(\"Bokeh: all BokehJS libraries/stylesheets loaded\");\n        run_callbacks()\n      }\n    }\n\n    function on_error(url) {\n      console.error(\"failed to load \" + url);\n    }\n\n    for (let i = 0; i < css_urls.length; i++) {\n      const url = css_urls[i];\n      const element = document.createElement(\"link\");\n      element.onload = on_load;\n      element.onerror = on_error.bind(null, url);\n      element.rel = \"stylesheet\";\n      element.type = \"text/css\";\n      element.href = url;\n      console.debug(\"Bokeh: injecting link tag for BokehJS stylesheet: \", url);\n      document.body.appendChild(element);\n    }\n\n    for (let i = 0; i < js_urls.length; i++) {\n      const url = js_urls[i];\n      const element = document.createElement('script');\n      element.onload = on_load;\n      element.onerror = on_error.bind(null, url);\n      element.async = false;\n      element.src = url;\n      console.debug(\"Bokeh: injecting script tag for BokehJS library: \", url);\n      document.head.appendChild(element);\n    }\n  };\n\n  function inject_raw_css(css) {\n    const element = document.createElement(\"style\");\n    element.appendChild(document.createTextNode(css));\n    document.body.appendChild(element);\n  }\n\n  const js_urls = [\"https://cdn.bokeh.org/bokeh/release/bokeh-3.4.0.min.js\", \"https://cdn.bokeh.org/bokeh/release/bokeh-gl-3.4.0.min.js\", \"https://cdn.bokeh.org/bokeh/release/bokeh-widgets-3.4.0.min.js\", \"https://cdn.bokeh.org/bokeh/release/bokeh-tables-3.4.0.min.js\", \"https://cdn.bokeh.org/bokeh/release/bokeh-mathjax-3.4.0.min.js\"];\n  const css_urls = [];\n\n  const inline_js = [    function(Bokeh) {\n      Bokeh.set_log_level(\"info\");\n    },\nfunction(Bokeh) {\n    }\n  ];\n\n  function run_inline_js() {\n    if (root.Bokeh !== undefined || force === true) {\n      try {\n            for (let i = 0; i < inline_js.length; i++) {\n      inline_js[i].call(root, root.Bokeh);\n    }\n\n      } catch (error) {display_loaded(error);throw error;\n      }if (force === true) {\n        display_loaded();\n      }} else if (Date.now() < root._bokeh_timeout) {\n      setTimeout(run_inline_js, 100);\n    } else if (!root._bokeh_failed_load) {\n      console.log(\"Bokeh: BokehJS failed to load within specified timeout.\");\n      root._bokeh_failed_load = true;\n    } else if (force !== true) {\n      const cell = $(document.getElementById(\"a310c203-2d31-4c96-81dc-84734ce87c7c\")).parents('.cell').data().cell;\n      cell.output_area.append_execute_result(NB_LOAD_WARNING)\n    }\n  }\n\n  if (root._bokeh_is_loading === 0) {\n    console.debug(\"Bokeh: BokehJS loaded, going straight to plotting\");\n    run_inline_js();\n  } else {\n    load_libs(css_urls, js_urls, function() {\n      console.debug(\"Bokeh: BokehJS plotting callback run at\", now());\n      run_inline_js();\n    });\n  }\n}(window));"
     },
     "metadata": {},
     "output_type": "display_data"
    }
   ],
   "execution_count": 1
  },
  {
   "metadata": {
    "ExecuteTime": {
     "end_time": "2024-06-13T12:40:16.592124Z",
     "start_time": "2024-06-13T12:40:16.589375Z"
    }
   },
   "cell_type": "code",
   "source": [
    "# INITIALISE CELL MODEL, LOAD THE CIRCUIT\n",
    "\n",
    "# initialise cell model\n",
    "cellmodel_auxil = CellModelAuxiliary()  # auxiliary tools for simulating the model and plotting simulation outcomes\n",
    "par = cellmodel_auxil.default_params()  # get default parameter values\n",
    "init_conds = cellmodel_auxil.default_init_conds(par)  # get default initial conditions\n",
    "\n",
    "# load synthetic gene circuit\n",
    "ode_with_circuit, circuit_F_calc, par, init_conds, circuit_genes, circuit_miscs, circuit_name2pos, circuit_styles, circuit_v = cellmodel_auxil.add_circuit(\n",
    "    circuits.punisher_xtra_initialise,\n",
    "    circuits.punisher_xtra_ode,\n",
    "    circuits.punisher_xtra_F_calc,\n",
    "    par, init_conds,\n",
    "    circuit_v=circuits.punisher_xtra_v)  # load the circuit"
   ],
   "outputs": [],
   "execution_count": 2
  },
  {
   "cell_type": "code",
   "source": [
    "# PARAMETERISE THE CIRCUIT\n",
    "\n",
    "# BURDENSOME SYNTHETIC GENE\n",
    "par['c_xtra'] = 1\n",
    "par['a_xtra'] = 1e5\n",
    "\n",
    "# PUNISHER\n",
    "# switch gene conc\n",
    "par['c_switch'] = 10.0  # gene concentration (nM)\n",
    "par['a_switch'] = 400.0  # promoter strength (unitless)\n",
    "par['d_switch']=0.01836\n",
    "# integrase - expressed from the switch gene's operon, not its own gene => c_int, a_int irrelevant\n",
    "par['k+_int'] = par['k+_switch']/80.0  # RBS weaker than for the switch gene\n",
    "par['d_int'] = 0.0#0.01836 # rate of integrase degradation per protease molecule (1/nM/h)\n",
    "# CAT (antibiotic resistance) gene\n",
    "init_conds['cat_pb'] = 10.0  # gene concentration (nM) - INITIAL CONDITION< NOT PARAMETER as it can be cut out by the integrase\n",
    "par['a_cat'] = 500.0  # promoter strength (unitless)\n",
    "# synthetic protease gene\n",
    "par['c_prot'] = 10.0  # gene concentration (nM)\n",
    "par['a_prot'] = 25.0  # promoter strength (unitless)\n",
    "init_conds['p_prot'] = 1500.0 # if zero at start, the punisher's triggered prematurely\n",
    "\n",
    "# punisher's transcription regulation function\n",
    "par['K_switch'] = 300.0  # Half-saturation constant for the self-activating switch gene promoter (nM)\n",
    "par['eta_switch'] = 2 # Hill coefficient for the self-activating switch gene promoter (unitless)\n",
    "par['baseline_switch'] = 0.025  # Baseline value of the switch gene's transcription activation function\n",
    "par['baseline_switch_alt'] = 0\n",
    "par['p_switch_ac_frac'] = 0.85  # active fraction of protein (i.e. share of molecules bound by the inducer)\n",
    "\n",
    "# CULTURE MEDIUM\n",
    "init_conds['s'] = 0.5\n",
    "par['h_ext'] = 10.5 * (10.0 ** 3)\n",
    "\n",
    "# LOOKING AT TRANSITIONS WITH CAT AWLAYS PRESENT => INTEGRASE INACTIVE\n",
    "par['k_sxf']=0.0"
   ],
   "metadata": {
    "collapsed": false,
    "ExecuteTime": {
     "end_time": "2024-06-13T12:40:16.596601Z",
     "start_time": "2024-06-13T12:40:16.593070Z"
    }
   },
   "outputs": [],
   "execution_count": 3
  },
  {
   "metadata": {
    "ExecuteTime": {
     "end_time": "2024-06-13T12:40:16.600729Z",
     "start_time": "2024-06-13T12:40:16.597774Z"
    }
   },
   "cell_type": "code",
   "source": [
    "# SET DETERMINISTIC SIMULATION PARAMETERS\n",
    "\n",
    "# diffrax simulator\n",
    "savetimestep = 0.1  # save time step\n",
    "rtol = 1e-6  # relative tolerance for the ODE solver\n",
    "atol = 1e-6  # absolute tolerance for the ODE solver"
   ],
   "outputs": [],
   "execution_count": 4
  },
  {
   "cell_type": "code",
   "source": [
    "# SET TAU-LEAP SIMULATION PARAMETERS\n",
    "\n",
    "tau = 5e-7  # simulation time step\n",
    "tau_odestep = 5e-7  # number of ODE integration steps in a single tau-leap step (smaller than tau)\n",
    "tau_savetimestep = 1e-2  # save time step a multiple of tau\n",
    "key_seeds=np.arange(0,30000,1) # random number generator seeds - NUMBER OF KEYS DEFINES NUMBER OF TRAJECTORIES\n",
    "key_seeds_no_xtra=key_seeds.copy()  # same number of trajectories for the case with the xtra gene absent\n",
    "tau_leap_sim_duration=10 # duration of the tau-leap simulation (h)"
   ],
   "metadata": {
    "collapsed": false,
    "ExecuteTime": {
     "end_time": "2024-06-13T12:40:16.604277Z",
     "start_time": "2024-06-13T12:40:16.601812Z"
    }
   },
   "outputs": [],
   "execution_count": 5
  },
  {
   "cell_type": "code",
   "source": [
    "# get the cellular variables in steady state without burden\n",
    "e, F_r, h, xis, Ps = values_for_analytical(par, ode_with_circuit, init_conds,\n",
    "                                          circuit_genes, circuit_miscs,\n",
    "                                          circuit_name2pos,\n",
    "                                          circuit_F_calc)\n",
    "# record the cellular variables\n",
    "cellvars = {'e': e, 'F_r': F_r, # translation elongation rate and ribosome trnscription regulation\n",
    "            'h': h, # intacellular chlorampenicol concentration\n",
    "            # burden values\n",
    "            'xi_a': xis['a'], 'xi_r': xis['r'], 'xi_other_genes': xis['other'], 'xi_cat': xis['cat'],\n",
    "            'xi_switch_max': xis['switch (max)'], 'xi_int_max': xis['int (max)'], 'xi_prot': xis['prot'],\n",
    "            # protein degradation correction factors for the switch protein and the integrase\n",
    "            'P_switch': Ps['switch'], 'P_int': Ps['int']}\n",
    "xi_total = xis['a'] + xis['r'] + xis['other'] + xis['cat'] + xis['switch (max)'] + xis['int (max)'] + xis['prot'] # total burden\n",
    "xi_no_xtra = xi_total - xis['other'] # burden without the burdensome gene"
   ],
   "metadata": {
    "collapsed": false,
    "ExecuteTime": {
     "end_time": "2024-06-13T12:40:25.418668Z",
     "start_time": "2024-06-13T12:40:16.605142Z"
    }
   },
   "outputs": [],
   "execution_count": 6
  },
  {
   "cell_type": "code",
   "source": [
    "# DEFINE SWITCH STATES FOR ALL GENES PRESENT\n",
    "# greatest possible p_switch level - for zero extra burden so that it's max across all conditions\n",
    "p_switch_upper_bound = np.ceil(cellvars['xi_switch_max'] * (1/(1+cellvars['P_switch'])) / (\n",
    "        cellvars['xi_switch_max'] + cellvars['xi_int_max'] + cellvars['xi_prot'] + cellvars['xi_cat'] + cellvars['xi_a'] + cellvars['xi_r']\n",
    "        ) * par['M'] * (1 - par['phi_q']) / par['n_switch'])  # upper bound for p_switch (to get the high equilibrium)\n",
    "\n",
    "# axis of p_switch values - there can only be an integer number of proteins\n",
    "p_switches=np.arange(0,p_switch_upper_bound+0.1,1)\n",
    "\n",
    "# define function for calculating the squared difference between the required and actual F values\n",
    "sqdiff = lambda p_switch: (F_real_calc(p_switch, par) - F_req_calc(p_switch, xi_total, par, cellvars)) ** 2\n",
    "\n",
    "# find the squared differences\n",
    "sqdiffs=np.zeros_like(p_switches)\n",
    "for i in range(0,len(p_switches)):\n",
    "    sqdiffs[i]=sqdiff(p_switches[i])\n",
    "\n",
    "# find the local minima and maxima in squared differences\n",
    "loc_minima=[]\n",
    "loc_maxima=[]\n",
    "for i in range(1,len(p_switches)-1):\n",
    "    # detect a local minimum\n",
    "    if(sqdiffs[i]<=sqdiffs[i-1] and sqdiffs[i]<=sqdiffs[i+1]):\n",
    "        loc_minima.append(p_switches[i])\n",
    "    # detect a local maximum\n",
    "    elif(sqdiffs[i]>=sqdiffs[i-1] and sqdiffs[i]>=sqdiffs[i+1]):\n",
    "        loc_maxima.append(p_switches[i])\n",
    "\n",
    "# print results\n",
    "print('Local minima in squared difference:',loc_minima)\n",
    "print('Local maxima in squared difference:',loc_maxima)\n",
    "\n",
    "# based on our prior findings, with burden present we expect two stable equilibria and one unstable equilibrium between them\n",
    "# this corresponds to three local minima and two local maxima in the squared difference between F values\n",
    "if (len(loc_minima)==3 and len(loc_maxima)==2):\n",
    "    p_switch_low=loc_minima[0]  # low state standing for low-concentration stable equilibrium\n",
    "    p_switch_high=loc_minima[2] # high state standing for high-concentration stable equilibrium\n",
    "    p_switch_boundary=loc_minima[1] # boundary between states standing for unstable equilibrium\n",
    "    print('Low state representative p_switch:',p_switch_low)\n",
    "    print('High state representative p_switch:',p_switch_high)\n",
    "    print('Boundary between states:',p_switch_boundary)\n",
    "else:\n",
    "    print('Something weird is going on')"
   ],
   "metadata": {
    "collapsed": false,
    "ExecuteTime": {
     "end_time": "2024-06-13T12:40:25.426125Z",
     "start_time": "2024-06-13T12:40:25.419623Z"
    }
   },
   "outputs": [
    {
     "name": "stdout",
     "output_type": "stream",
     "text": [
      "Local minima in squared difference: [35.0, 102.0, 878.0]\n",
      "Local maxima in squared difference: [67.0, 461.0]\n",
      "Low state representative p_switch: 35.0\n",
      "High state representative p_switch: 878.0\n",
      "Boundary between states: 102.0\n"
     ]
    }
   ],
   "execution_count": 7
  },
  {
   "metadata": {
    "ExecuteTime": {
     "end_time": "2024-06-13T12:40:25.439373Z",
     "start_time": "2024-06-13T12:40:25.426969Z"
    }
   },
   "cell_type": "code",
   "source": [
    "# INTEGRASE CONCENTRATIONS FROM SWITCH PROTEIN CONCENTRATION\n",
    "p_int_low=pint_from_pswitch_and_xi(p_switch_low,xis['a'] + xis['r'] + xis['other'] + xis['cat'] + xis['prot'],par, cellvars)\n",
    "p_int_high=pint_from_pswitch_and_xi(p_switch_high,xis['a'] + xis['r'] + xis['other'] + xis['cat'] + xis['prot'],par, cellvars)\n",
    "print('Integrase concentration at low state:',p_int_low)\n",
    "print('Integrase concentration at high state:',p_int_high)"
   ],
   "outputs": [
    {
     "name": "stdout",
     "output_type": "stream",
     "text": [
      "Integrase concentration at low state: 3.5086100980161605\n",
      "Integrase concentration at high state: 87.91830437347966\n"
     ]
    }
   ],
   "execution_count": 8
  },
  {
   "cell_type": "code",
   "source": [
    "# SIMULATE FOR XTRA GENE PRESENT\n",
    "\n",
    "# GET HIGH-EXPRESSION DETERMINISTIC STEADY STATE FOR ALL GENES PRESENT\n",
    "init_conds['p_switch'] = p_switch_upper_bound # to get high equilibrium, start at the upper bound\n",
    "init_conds['m_switch']=3000.0 # high mRNA concentration\n",
    "# initial simulation to get the steady state without gene expression loss\n",
    "tf = (0, 50)  # simulation time frame\n",
    "sol=ode_sim(par,    # dictionary with model parameters\n",
    "            ode_with_circuit,   #  ODE function for the cell with synthetic circuit\n",
    "            cellmodel_auxil.x0_from_init_conds(init_conds,circuit_genes,circuit_miscs),  # initial condition VECTOR\n",
    "            len(circuit_genes), len(circuit_miscs), circuit_name2pos, # dictionaries with circuit gene and miscellaneous specie names, species name to vector position decoder\n",
    "            cellmodel_auxil.synth_gene_params_for_jax(par,circuit_genes), # synthetic gene parameters for calculating k values\n",
    "            tf, jnp.arange(tf[0], tf[1]+savetimestep/2, savetimestep), # time frame and time axis for saving the system's state\n",
    "            rtol, atol)    # relative and absolute tolerances\n",
    "ts_det=np.array(sol.ts)\n",
    "xs_det=np.array(sol.ys)\n",
    "# get the steady state from the deterministic simulation\n",
    "det_steady_x = xs_det[-1, :]\n",
    "\n",
    "print('Integrase level in steady state:',det_steady_x[circuit_name2pos['p_int']])"
   ],
   "metadata": {
    "collapsed": false,
    "ExecuteTime": {
     "end_time": "2024-06-13T12:40:31.921272Z",
     "start_time": "2024-06-13T12:40:25.440258Z"
    }
   },
   "outputs": [
    {
     "name": "stdout",
     "output_type": "stream",
     "text": [
      "Integrase level in steady state: 87.76746492743526\n"
     ]
    }
   ],
   "execution_count": 9
  },
  {
   "metadata": {
    "ExecuteTime": {
     "end_time": "2024-06-13T12:40:31.924904Z",
     "start_time": "2024-06-13T12:40:31.922535Z"
    }
   },
   "cell_type": "code",
   "source": [
    "# SWITCH CONDITION DEFINITION\n",
    "\n",
    "# condition for falling to a state\n",
    "def switch_condition_fall(x,next_x,switch_boundary,p_pos):\n",
    "    return jnp.logical_and(x[p_pos]>switch_boundary,\n",
    "                           next_x[p_pos]<=switch_boundary)"
   ],
   "outputs": [],
   "execution_count": 10
  },
  {
   "metadata": {
    "ExecuteTime": {
     "end_time": "2024-06-13T12:54:02.746162Z",
     "start_time": "2024-06-13T12:40:31.925930Z"
    }
   },
   "cell_type": "code",
   "source": [
    "# MEMORY-EFFICIENT FALL TIME DETERMINATION\n",
    "\n",
    "# we consider state switched when we come within  10% OF CHARACTERISTIC PROTEIN CONCENTRATION\n",
    "sc_high_to_low=lambda x, next_x: switch_condition_fall(x,next_x,1.1*p_int_low,circuit_name2pos['p_int']) # high to low switching\n",
    "sc_low_to_zero=lambda x, next_x: switch_condition_fall(x,next_x,0,circuit_name2pos['p_int']) # low to zero switching\n",
    "\n",
    "# no switch gene present\n",
    "par_no_switch=par.copy()\n",
    "par_no_switch['func_switch'] = 0.0\n",
    "\n",
    "tf_hybrid = (ts_det[-1], ts_det[-1] + tau_leap_sim_duration)  # simulation time frame\n",
    "mRNA_count_scales, S, x0_tauleap, circuit_synpos2genename, keys0 = tauleap_sim_prep(par_no_switch, len(circuit_genes),\n",
    "                                                                                    len(circuit_miscs),\n",
    "                                                                                    circuit_name2pos, det_steady_x,\n",
    "                                                                                    key_seeds=key_seeds)\n",
    "\n",
    "high_to_low_fall_times_since_stochstart, low_to_zero_fall_times_since_stochstart, \\\n",
    "            final_keys_hybrid = tauleap_sim_switch(par_no_switch,  # dictionary with model parameters\n",
    "                                                    circuit_v,  # circuit reaction propensity calculator\n",
    "                                                    x0_tauleap, # initial condition VECTOR (processed to make sure random variables are appropriate integers)\n",
    "                                                    len(circuit_genes), len(circuit_miscs),\n",
    "                                                    circuit_name2pos,\n",
    "                                                    cellmodel_auxil.synth_gene_params_for_jax(par,\n",
    "                                                                                       circuit_genes), # synthetic gene parameters for calculating k values\n",
    "                                                    tf_hybrid, tau, tau_odestep, tau_savetimestep, # simulation parameters: time frame, tau leap step size, number of ode integration steps in a single tau leap step\n",
    "                                                    mRNA_count_scales, S, circuit_synpos2genename, # mRNA count scaling factor, stoichiometry matrix, synthetic gene number in list of synth. genes to name decoder\n",
    "                                                    keys0, # starting random number genereation key\n",
    "                                                    sc_high_to_low, sc_low_to_zero\n",
    "                                                    )  \n",
    "\n",
    "# record switching times in numpy arrays\n",
    "high_to_low_fall_times=np.array(high_to_low_fall_times_since_stochstart) # we need times of falling to zero since REACHING THE LOW STATE\n",
    "low_to_zero_fall_times=np.array(low_to_zero_fall_times_since_stochstart - high_to_low_fall_times) # we need times of falling to zero since REACHING THE LOW STATE\n",
    "low_to_zero_fall_times[low_to_zero_fall_times<0]=0 # if the low state is never reached, the recorded fall time is zero\n",
    "\n",
    "# print results\n",
    "print('High-to-low fall times:',high_to_low_fall_times)\n",
    "print('Low-to-zero fall times:',low_to_zero_fall_times)\n",
    "\n",
    "# clean memory\n",
    "del final_keys_hybrid"
   ],
   "outputs": [
    {
     "name": "stdout",
     "output_type": "stream",
     "text": [
      "High-to-low fall times: [3.1  2.02 2.37 2.83 2.47 2.43 2.76 2.43 2.45 1.79]\n",
      "Low-to-zero fall times: [0.92 3.31 1.27 0.41 0.84 1.61 4.18 0.47 1.13 0.74]\n"
     ]
    }
   ],
   "execution_count": 11
  },
  {
   "metadata": {
    "ExecuteTime": {
     "end_time": "2024-06-13T12:54:03.382296Z",
     "start_time": "2024-06-13T12:54:02.747284Z"
    }
   },
   "cell_type": "code",
   "source": [
    "# ESTIMATE SWITCHING TIMES AND CONFIDENCE INTERVALS\n",
    "\n",
    "# high-to-low fall times\n",
    "N=len(key_seeds) # number of samples\n",
    "T=tau_leap_sim_duration # total simulation time\n",
    "print('Number of samples:',N)\n",
    "print('')\n",
    "print('Sampling time interval for high-to-low fall times:',T)\n",
    "high_to_low_mle=find_mle(high_to_low_fall_times,N,T) # maximum likelihood estimate\n",
    "high_to_low_leftconfint, high_to_low_rightconfint=np.array(find_confint(high_to_low_mle,N,T,0.05)) # 95% confidence interval\n",
    "print('High-to-low fall times MLE:',high_to_low_mle)\n",
    "print('High-to-low fall times 95% confidence interval:',high_to_low_leftconfint, high_to_low_rightconfint)\n",
    "\n",
    "print('')\n",
    "# low-to-zero fall times\n",
    "# in the case of fall times, construct sampling time interval artificially and artificially censor the sample\n",
    "T_low_to_zero=tau_leap_sim_duration - max(high_to_low_fall_times) # shortest-possible time interval\n",
    "low_to_zero_fall_times[low_to_zero_fall_times>=T_low_to_zero]=0 # artificially censor the sample\n",
    "print('Arificially constructed sampling time interval for low-to-zero fall times:',T_low_to_zero)\n",
    "\n",
    "low_to_zero_mle=find_mle(low_to_zero_fall_times,N,T_low_to_zero) # maximum likelihood estimate\n",
    "low_to_zero_leftconfint, low_to_zero_rightconfint=np.array(find_confint(low_to_zero_mle,N,T_low_to_zero,0.05)) # 95% confidence interval\n",
    "print('Low-to-zero fall times MLE:',low_to_zero_mle)\n",
    "print('Low-to-zero fall times 95% confidence interval:',low_to_zero_leftconfint, low_to_zero_rightconfint)"
   ],
   "outputs": [
    {
     "name": "stdout",
     "output_type": "stream",
     "text": [
      "Number of samples: 10\n",
      "\n",
      "Sampling time interval for high-to-low fall times: 10\n",
      "High-to-low fall times MLE: 2.465\n",
      "High-to-low fall times 95% confidence interval: 1.5179573513554385 5.487048365153598\n",
      "\n",
      "Arificially constructed sampling time interval for low-to-zero fall times: 6.9\n",
      "Low-to-zero fall times MLE: 1.488\n",
      "Low-to-zero fall times 95% confidence interval: 0.9176130268027187 3.3570638862316624\n"
     ]
    }
   ],
   "execution_count": 12
  },
  {
   "cell_type": "code",
   "source": [
    "# PLOT SWITCH TIMES\n",
    "hist_bins=100\n",
    "\n",
    "# HISTOGRAM OF FALL TIMES: HIGH TO LOW\n",
    "falltime_htl_hist_withburden=bkplot.figure(title='Distribution of high-to-low fall times',\n",
    "                                   x_axis_label='Fall time [h]',\n",
    "                                   y_axis_label='Frequency',\n",
    "                                   width=400,height=300)\n",
    "# get numpy histogram\n",
    "ft_htl_hist_withburden, ftl_htl_edges_withburden=np.histogram(high_to_low_fall_times,bins=hist_bins,density=False)\n",
    "# plot histogram\n",
    "falltime_htl_hist_withburden.quad(top=ft_htl_hist_withburden, bottom=0,\n",
    "                              left=ftl_htl_edges_withburden[:-1], right=ftl_htl_edges_withburden[1:],\n",
    "                            color='magenta')\n",
    "# mark mean fall time\n",
    "falltime_htl_hist_withburden.add_layout(bkmodels.Span(location=high_to_low_mle, dimension='height',\n",
    "                                              line_dash='dashed', line_color='navy', line_width=2, line_alpha=0.5))\n",
    "# mark 95% confidence interval for fall times\n",
    "falltime_htl_hist_withburden.add_layout(bkmodels.BoxAnnotation(left=high_to_low_leftconfint, right=high_to_low_rightconfint,\n",
    "                                                       fill_color='navy', fill_alpha=0.1)) # range\n",
    "\n",
    "# HISTOGRAM OF FALL TIMES: LOW TO ZERO\n",
    "falltime_lt0_hist_withburden=bkplot.figure(title='Distribution of low-to-zero fall times',\n",
    "                                   x_axis_label='Fall time [h]',\n",
    "                                   y_axis_label='Frequency',\n",
    "                                   width=400,height=300)\n",
    "# get numpy histogram\n",
    "ft_lt0_hist_withburden, ftl_lt0_edges_withburden=np.histogram(low_to_zero_fall_times,bins=hist_bins,density=False)\n",
    "# plot histogram\n",
    "falltime_lt0_hist_withburden.quad(top=ft_lt0_hist_withburden, bottom=0,\n",
    "                              left=ftl_lt0_edges_withburden[:-1], right=ftl_lt0_edges_withburden[1:],\n",
    "                            color='navy')\n",
    "# mark mean fall time\n",
    "falltime_lt0_hist_withburden.add_layout(bkmodels.Span(location=low_to_zero_mle, dimension='height',\n",
    "                                              line_dash='dashed', line_color='magenta', line_width=2, line_alpha=0.5))\n",
    "# mark 95% confidence interval for fall times\n",
    "falltime_lt0_hist_withburden.add_layout(bkmodels.BoxAnnotation(left=low_to_zero_leftconfint, right=low_to_zero_rightconfint,\n",
    "                                                       fill_color='magenta', fill_alpha=0.1)) # range\n",
    "\n",
    "# show plot\n",
    "hist_grid=bklayouts.grid([[falltime_htl_hist_withburden, falltime_lt0_hist_withburden]])\n",
    "\n",
    "bkplot.show(hist_grid)"
   ],
   "metadata": {
    "collapsed": false,
    "ExecuteTime": {
     "end_time": "2024-06-13T12:54:03.439701Z",
     "start_time": "2024-06-13T12:54:03.383304Z"
    }
   },
   "outputs": [
    {
     "data": {
      "text/html": [
       "\n",
       "  <div id=\"a62c80ab-50e2-48d1-8470-c195cbff4165\" data-root-id=\"p1097\" style=\"display: contents;\"></div>\n"
      ]
     },
     "metadata": {},
     "output_type": "display_data"
    },
    {
     "data": {
      "application/javascript": "(function(root) {\n  function embed_document(root) {\n  const docs_json = {\"dc695570-e5f7-4aff-8abe-9b899209eed3\":{\"version\":\"3.4.0\",\"title\":\"Bokeh Application\",\"roots\":[{\"type\":\"object\",\"name\":\"GridBox\",\"id\":\"p1097\",\"attributes\":{\"rows\":null,\"cols\":null,\"children\":[[{\"type\":\"object\",\"name\":\"Figure\",\"id\":\"p1001\",\"attributes\":{\"width\":400,\"height\":300,\"x_range\":{\"type\":\"object\",\"name\":\"DataRange1d\",\"id\":\"p1002\"},\"y_range\":{\"type\":\"object\",\"name\":\"DataRange1d\",\"id\":\"p1003\"},\"x_scale\":{\"type\":\"object\",\"name\":\"LinearScale\",\"id\":\"p1011\"},\"y_scale\":{\"type\":\"object\",\"name\":\"LinearScale\",\"id\":\"p1012\"},\"title\":{\"type\":\"object\",\"name\":\"Title\",\"id\":\"p1004\",\"attributes\":{\"text\":\"Distribution of high-to-low fall times\"}},\"renderers\":[{\"type\":\"object\",\"name\":\"GlyphRenderer\",\"id\":\"p1040\",\"attributes\":{\"data_source\":{\"type\":\"object\",\"name\":\"ColumnDataSource\",\"id\":\"p1034\",\"attributes\":{\"selected\":{\"type\":\"object\",\"name\":\"Selection\",\"id\":\"p1035\",\"attributes\":{\"indices\":[],\"line_indices\":[]}},\"selection_policy\":{\"type\":\"object\",\"name\":\"UnionRenderers\",\"id\":\"p1036\"},\"data\":{\"type\":\"map\",\"entries\":[[\"top\",{\"type\":\"ndarray\",\"array\":{\"type\":\"bytes\",\"data\":\"AQAAAAAAAAAAAAAAAAAAAAAAAAAAAAAAAAAAAAAAAAAAAAAAAAAAAAAAAAAAAAAAAAAAAAAAAAAAAAAAAAAAAAAAAAABAAAAAAAAAAAAAAAAAAAAAAAAAAAAAAAAAAAAAAAAAAAAAAAAAAAAAAAAAAAAAAAAAAAAAAAAAAAAAAAAAAAAAAAAAAAAAAAAAAAAAAAAAAAAAAAAAAAAAAAAAAAAAAAAAAAAAAAAAAAAAAABAAAAAAAAAAAAAAAAAAAAAgAAAAAAAAABAAAAAQAAAAAAAAAAAAAAAAAAAAAAAAAAAAAAAAAAAAAAAAAAAAAAAAAAAAAAAAAAAAAAAAAAAAAAAAAAAAAAAAAAAAAAAAAAAAAAAAAAAAAAAAAAAAAAAAAAAAAAAAABAAAAAAAAAAAAAAAAAAAAAAAAAAEAAAAAAAAAAAAAAAAAAAAAAAAAAAAAAAAAAAAAAAAAAAAAAAAAAAAAAAAAAAAAAAAAAAAAAAAAAAAAAAAAAAAAAAAAAAAAAAAAAAAAAAAAAQAAAA==\"},\"shape\":[100],\"dtype\":\"int32\",\"order\":\"little\"}],[\"left\",{\"type\":\"ndarray\",\"array\":{\"type\":\"bytes\",\"data\":\"pHA9Ctej/D9+rrZif9n8P1fsL7snD/0/MCqpE9BE/T8KaCJseHr9P+Slm8QgsP0/veMUHcnl/T+WIY51cRv+P3BfB84ZUf4/Sp2AJsKG/j8j2/l+arz+P/wYc9cS8v4/1lbsL7sn/z+wlGWIY13/P4nS3uALk/8/YhBYObTI/z88TtGRXP7/PwtGJXUCGgBA+ORhodY0AEDkg57Nqk8AQNEi2/l+agBAvsEXJlOFAECqYFRSJ6AAQJf/kH77ugBAhJ7Nqs/VAEBxPQrXo/AAQF7cRgN4CwFASnuDL0wmAUA3GsBbIEEBQCS5/If0WwFAEFg5tMh2AUD99nXgnJEBQOqVsgxxrAFA1zTvOEXHAUDE0ytlGeIBQLByaJHt/AFAnRGlvcEXAkCKsOHplTICQHZPHhZqTQJAY+5aQj5oAkBQjZduEoMCQD0s1JrmnQJAKssQx7q4AkAWak3zjtMCQAMJih9j7gJA8KfGSzcJA0DcRgN4CyQDQMnlP6TfPgNAtoR80LNZA0CjI7n8h3QDQJDC9ShcjwNAfGEyVTCqA0BpAG+BBMUDQFafq63Y3wNAQj7o2az6A0Av3SQGgRUEQBx8YTJVMARACRueXilLBED2udqK/WUEQOJYF7fRgARAz/dT46WbBEC8lpAPerYEQKg1zTtO0QRAldQJaCLsBECCc0aU9gYFQG8Sg8DKIQVAXLG/7J48BUBIUPwYc1cFQDXvOEVHcgVAIo51cRuNBUAOLbKd76cFQPvL7snDwgVA6Gor9pfdBUDVCWgibPgFQMKopE5AEwZArkfhehQuBkCb5h2n6EgGQIiFWtO8YwZAdCSX/5B+BkBhw9MrZZkGQE5iEFg5tAZAOwFNhA3PBkAooImw4ekGQBQ/xty1BAdAAd4CCYofB0DufD81XjoHQNobfGEyVQdAx7q4jQZwB0C0WfW52ooHQKH4MeaupQdAjpduEoPAB0B6Nqs+V9sHQGfV52or9gdAVHQkl/8QCEBAE2HD0ysIQC2yne+nRghAGlHaG3xhCEAH8BZIUHwIQPSOU3QklwhA4C2QoPixCEA=\"},\"shape\":[100],\"dtype\":\"float64\",\"order\":\"little\"}],[\"right\",{\"type\":\"ndarray\",\"array\":{\"type\":\"bytes\",\"data\":\"fq62Yn/Z/D9X7C+7Jw/9PzAqqRPQRP0/CmgibHh6/T/kpZvEILD9P73jFB3J5f0/liGOdXEb/j9wXwfOGVH+P0qdgCbChv4/I9v5fmq8/j/8GHPXEvL+P9ZW7C+7J/8/sJRliGNd/z+J0t7gC5P/P2IQWDm0yP8/PE7RkVz+/z8LRiV1AhoAQPjkYaHWNABA5IOezapPAEDRItv5fmoAQL7BFyZThQBAqmBUUiegAECX/5B++7oAQISezarP1QBAcT0K16PwAEBe3EYDeAsBQEp7gy9MJgFANxrAWyBBAUAkufyH9FsBQBBYObTIdgFA/fZ14JyRAUDqlbIMcawBQNc07zhFxwFAxNMrZRniAUCwcmiR7fwBQJ0Rpb3BFwJAirDh6ZUyAkB2Tx4Wak0CQGPuWkI+aAJAUI2XbhKDAkA9LNSa5p0CQCrLEMe6uAJAFmpN847TAkADCYofY+4CQPCnxks3CQNA3EYDeAskA0DJ5T+k3z4DQLaEfNCzWQNAoyO5/Id0A0CQwvUoXI8DQHxhMlUwqgNAaQBvgQTFA0BWn6ut2N8DQEI+6Nms+gNAL90kBoEVBEAcfGEyVTAEQAkbnl4pSwRA9rnaiv1lBEDiWBe30YAEQM/3U+OlmwRAvJaQD3q2BECoNc07TtEEQJXUCWgi7ARAgnNGlPYGBUBvEoPAyiEFQFyxv+yePAVASFD8GHNXBUA17zhFR3IFQCKOdXEbjQVADi2yne+nBUD7y+7Jw8IFQOhqK/aX3QVA1QloImz4BUDCqKROQBMGQK5H4XoULgZAm+Ydp+hIBkCIhVrTvGMGQHQkl/+QfgZAYcPTK2WZBkBOYhBYObQGQDsBTYQNzwZAKKCJsOHpBkAUP8bctQQHQAHeAgmKHwdA7nw/NV46B0DaG3xhMlUHQMe6uI0GcAdAtFn1udqKB0Ch+DHmrqUHQI6XbhKDwAdAejarPlfbB0Bn1edqK/YHQFR0JJf/EAhAQBNhw9MrCEAtsp3vp0YIQBpR2ht8YQhAB/AWSFB8CED0jlN0JJcIQOAtkKD4sQhAzczMzMzMCEA=\"},\"shape\":[100],\"dtype\":\"float64\",\"order\":\"little\"}]]}}},\"view\":{\"type\":\"object\",\"name\":\"CDSView\",\"id\":\"p1041\",\"attributes\":{\"filter\":{\"type\":\"object\",\"name\":\"AllIndices\",\"id\":\"p1042\"}}},\"glyph\":{\"type\":\"object\",\"name\":\"Quad\",\"id\":\"p1037\",\"attributes\":{\"left\":{\"type\":\"field\",\"field\":\"left\"},\"right\":{\"type\":\"field\",\"field\":\"right\"},\"bottom\":{\"type\":\"value\",\"value\":0},\"top\":{\"type\":\"field\",\"field\":\"top\"},\"line_color\":{\"type\":\"value\",\"value\":\"magenta\"},\"fill_color\":{\"type\":\"value\",\"value\":\"magenta\"},\"hatch_color\":{\"type\":\"value\",\"value\":\"magenta\"}}},\"nonselection_glyph\":{\"type\":\"object\",\"name\":\"Quad\",\"id\":\"p1038\",\"attributes\":{\"left\":{\"type\":\"field\",\"field\":\"left\"},\"right\":{\"type\":\"field\",\"field\":\"right\"},\"bottom\":{\"type\":\"value\",\"value\":0},\"top\":{\"type\":\"field\",\"field\":\"top\"},\"line_color\":{\"type\":\"value\",\"value\":\"magenta\"},\"line_alpha\":{\"type\":\"value\",\"value\":0.1},\"fill_color\":{\"type\":\"value\",\"value\":\"magenta\"},\"fill_alpha\":{\"type\":\"value\",\"value\":0.1},\"hatch_color\":{\"type\":\"value\",\"value\":\"magenta\"},\"hatch_alpha\":{\"type\":\"value\",\"value\":0.1}}},\"muted_glyph\":{\"type\":\"object\",\"name\":\"Quad\",\"id\":\"p1039\",\"attributes\":{\"left\":{\"type\":\"field\",\"field\":\"left\"},\"right\":{\"type\":\"field\",\"field\":\"right\"},\"bottom\":{\"type\":\"value\",\"value\":0},\"top\":{\"type\":\"field\",\"field\":\"top\"},\"line_color\":{\"type\":\"value\",\"value\":\"magenta\"},\"line_alpha\":{\"type\":\"value\",\"value\":0.2},\"fill_color\":{\"type\":\"value\",\"value\":\"magenta\"},\"fill_alpha\":{\"type\":\"value\",\"value\":0.2},\"hatch_color\":{\"type\":\"value\",\"value\":\"magenta\"},\"hatch_alpha\":{\"type\":\"value\",\"value\":0.2}}}}}],\"toolbar\":{\"type\":\"object\",\"name\":\"Toolbar\",\"id\":\"p1010\",\"attributes\":{\"tools\":[{\"type\":\"object\",\"name\":\"PanTool\",\"id\":\"p1023\"},{\"type\":\"object\",\"name\":\"WheelZoomTool\",\"id\":\"p1024\",\"attributes\":{\"renderers\":\"auto\"}},{\"type\":\"object\",\"name\":\"BoxZoomTool\",\"id\":\"p1025\",\"attributes\":{\"overlay\":{\"type\":\"object\",\"name\":\"BoxAnnotation\",\"id\":\"p1026\",\"attributes\":{\"syncable\":false,\"level\":\"overlay\",\"visible\":false,\"left\":{\"type\":\"number\",\"value\":\"nan\"},\"right\":{\"type\":\"number\",\"value\":\"nan\"},\"top\":{\"type\":\"number\",\"value\":\"nan\"},\"bottom\":{\"type\":\"number\",\"value\":\"nan\"},\"left_units\":\"canvas\",\"right_units\":\"canvas\",\"top_units\":\"canvas\",\"bottom_units\":\"canvas\",\"line_color\":\"black\",\"line_alpha\":1.0,\"line_width\":2,\"line_dash\":[4,4],\"fill_color\":\"lightgrey\",\"fill_alpha\":0.5}}}},{\"type\":\"object\",\"name\":\"SaveTool\",\"id\":\"p1031\"},{\"type\":\"object\",\"name\":\"ResetTool\",\"id\":\"p1032\"},{\"type\":\"object\",\"name\":\"HelpTool\",\"id\":\"p1033\"}]}},\"left\":[{\"type\":\"object\",\"name\":\"LinearAxis\",\"id\":\"p1018\",\"attributes\":{\"ticker\":{\"type\":\"object\",\"name\":\"BasicTicker\",\"id\":\"p1019\",\"attributes\":{\"mantissas\":[1,2,5]}},\"formatter\":{\"type\":\"object\",\"name\":\"BasicTickFormatter\",\"id\":\"p1020\"},\"axis_label\":\"Frequency\",\"major_label_policy\":{\"type\":\"object\",\"name\":\"AllLabels\",\"id\":\"p1021\"}}}],\"below\":[{\"type\":\"object\",\"name\":\"LinearAxis\",\"id\":\"p1013\",\"attributes\":{\"ticker\":{\"type\":\"object\",\"name\":\"BasicTicker\",\"id\":\"p1014\",\"attributes\":{\"mantissas\":[1,2,5]}},\"formatter\":{\"type\":\"object\",\"name\":\"BasicTickFormatter\",\"id\":\"p1015\"},\"axis_label\":\"Fall time [h]\",\"major_label_policy\":{\"type\":\"object\",\"name\":\"AllLabels\",\"id\":\"p1016\"}}}],\"center\":[{\"type\":\"object\",\"name\":\"Grid\",\"id\":\"p1017\",\"attributes\":{\"axis\":{\"id\":\"p1013\"}}},{\"type\":\"object\",\"name\":\"Grid\",\"id\":\"p1022\",\"attributes\":{\"dimension\":1,\"axis\":{\"id\":\"p1018\"}}},{\"type\":\"object\",\"name\":\"Span\",\"id\":\"p1043\",\"attributes\":{\"location\":2.465,\"dimension\":\"height\",\"line_color\":\"navy\",\"line_alpha\":0.5,\"line_width\":2,\"line_dash\":[6]}},{\"type\":\"object\",\"name\":\"BoxAnnotation\",\"id\":\"p1044\",\"attributes\":{\"left\":1.5179573513554385,\"right\":5.487048365153598,\"top\":{\"type\":\"object\",\"name\":\"Node\",\"id\":\"p1047\",\"attributes\":{\"target\":\"frame\",\"symbol\":\"top\"}},\"bottom\":{\"type\":\"object\",\"name\":\"Node\",\"id\":\"p1048\",\"attributes\":{\"target\":\"frame\",\"symbol\":\"bottom\"}},\"fill_color\":\"navy\",\"fill_alpha\":0.1}}]}},0,0,1,1],[{\"type\":\"object\",\"name\":\"Figure\",\"id\":\"p1049\",\"attributes\":{\"width\":400,\"height\":300,\"x_range\":{\"type\":\"object\",\"name\":\"DataRange1d\",\"id\":\"p1050\"},\"y_range\":{\"type\":\"object\",\"name\":\"DataRange1d\",\"id\":\"p1051\"},\"x_scale\":{\"type\":\"object\",\"name\":\"LinearScale\",\"id\":\"p1059\"},\"y_scale\":{\"type\":\"object\",\"name\":\"LinearScale\",\"id\":\"p1060\"},\"title\":{\"type\":\"object\",\"name\":\"Title\",\"id\":\"p1052\",\"attributes\":{\"text\":\"Distribution of low-to-zero fall times\"}},\"renderers\":[{\"type\":\"object\",\"name\":\"GlyphRenderer\",\"id\":\"p1088\",\"attributes\":{\"data_source\":{\"type\":\"object\",\"name\":\"ColumnDataSource\",\"id\":\"p1082\",\"attributes\":{\"selected\":{\"type\":\"object\",\"name\":\"Selection\",\"id\":\"p1083\",\"attributes\":{\"indices\":[],\"line_indices\":[]}},\"selection_policy\":{\"type\":\"object\",\"name\":\"UnionRenderers\",\"id\":\"p1084\"},\"data\":{\"type\":\"map\",\"entries\":[[\"top\",{\"type\":\"ndarray\",\"array\":{\"type\":\"bytes\",\"data\":\"AQAAAAEAAAAAAAAAAAAAAAAAAAAAAAAAAAAAAAAAAAABAAAAAAAAAAAAAAABAAAAAAAAAAEAAAAAAAAAAAAAAAAAAAAAAAAAAAAAAAEAAAAAAAAAAAAAAAEAAAAAAAAAAAAAAAAAAAAAAAAAAAAAAAAAAAAAAAAAAAAAAAEAAAAAAAAAAAAAAAAAAAAAAAAAAAAAAAAAAAAAAAAAAAAAAAAAAAAAAAAAAAAAAAAAAAAAAAAAAAAAAAAAAAAAAAAAAAAAAAAAAAAAAAAAAAAAAAAAAAAAAAAAAAAAAAAAAAAAAAAAAAAAAAAAAAAAAAAAAAAAAAAAAAAAAAAAAAAAAAAAAAAAAAAAAAAAAAAAAAAAAAAAAAAAAAAAAAAAAAAAAAAAAAAAAAAAAAAAAAAAAAEAAAAAAAAAAAAAAAAAAAAAAAAAAAAAAAAAAAAAAAAAAAAAAAAAAAAAAAAAAAAAAAAAAAAAAAAAAAAAAAAAAAAAAAAAAAAAAAAAAAAAAAAAAAAAAAAAAAAAAAAAAQAAAA==\"},\"shape\":[100],\"dtype\":\"int32\",\"order\":\"little\"}],[\"left\",{\"type\":\"ndarray\",\"array\":{\"type\":\"bytes\",\"data\":\"QArXo3A92j8v1JrmHafcPx6eXinLEN8/BjQRNjy94D/+GHPXEvLhP/X91HjpJuM/7OI2GsBb5D/kx5i7lpDlP9us+lxtxeY/0pFc/kP65z/Kdr6fGi/pP8FbIEHxY+o/uECC4seY6z+wJeSDns3sP6cKRiV1Au4/n++nxks37z9L6gQ0ETbwP8bctYR80PA/Qs9m1edq8T++wRcmUwXyPzq0yHa+n/I/tqZ5xyk68z8xmSoYldTzP62L22gAb/Q/KH6MuWsJ9T+kcD0K16P1PyBj7lpCPvY/nFWfq63Y9j8XSFD8GHP3P5M6AU2EDfg/Dy2yne+n+D+KH2PuWkL5PwYSFD/G3Pk/ggTFjzF3+j/99nXgnBH7P3npJjEIrPs/9dvXgXNG/D9wzojS3uD8P+zAOSNKe/0/aLPqc7UV/j/kpZvEILD+P1+YTBWMSv8/24r9Zffk/z+sPldbsT8AQOm3rwPnjABAJzEIrBzaAEBlqmBUUicBQKIjufyHdAFA4JwRpb3BAUAeFmpN8w4CQFyPwvUoXAJAmggbnl6pAkDYgXNGlPYCQBb7y+7JQwNAVHQkl/+QA0CR7Xw/Nd4DQM9m1edqKwRADeAtkKB4BEBLWYY41sUEQInS3uALEwVAx0s3iUFgBUAExY8xd60FQEI+6Nms+gVAgLdAguJHBkC+MJkqGJUGQPyp8dJN4gZAOiNKe4MvB0B4nKIjuXwHQLUV+8vuyQdA845TdCQXCEAxCKwcWmQIQG+BBMWPsQhArfpcbcX+CEDrc7UV+0sJQCjtDb4wmQlAZmZmZmbmCUCk374OnDMKQOJYF7fRgApAINJvXwfOCkBeS8gHPRsLQJzEILByaAtA2T15WKi1C0AXt9EA3gIMQFUwKqkTUAxAk6mCUUmdDEDRItv5fuoMQA+cM6K0Nw1ATBWMSuqEDUCKjuTyH9INQMgHPZtVHw5ABoGVQ4tsDkBE+u3rwLkOQIJzRpT2Bg9Av+yePCxUD0D9ZffkYaEPQDvfT42X7g9APCzUmuYdEEDcaABvgUQQQHqlLEMcaxBAGuJYF7eREEA=\"},\"shape\":[100],\"dtype\":\"float64\",\"order\":\"little\"}],[\"right\",{\"type\":\"ndarray\",\"array\":{\"type\":\"bytes\",\"data\":\"L9Sa5h2n3D8enl4pyxDfPwY0ETY8veA//hhz1xLy4T/1/dR46SbjP+ziNhrAW+Q/5MeYu5aQ5T/brPpcbcXmP9KRXP5D+uc/yna+nxov6T/BWyBB8WPqP7hAguLHmOs/sCXkg57N7D+nCkYldQLuP5/vp8ZLN+8/S+oENBE28D/G3LWEfNDwP0LPZtXnavE/vsEXJlMF8j86tMh2vp/yP7ameccpOvM/MZkqGJXU8z+ti9toAG/0Pyh+jLlrCfU/pHA9Ctej9T8gY+5aQj72P5xVn6ut2PY/F0hQ/Bhz9z+TOgFNhA34Pw8tsp3vp/g/ih9j7lpC+T8GEhQ/xtz5P4IExY8xd/o//fZ14JwR+z956SYxCKz7P/Xb14FzRvw/cM6I0t7g/D/swDkjSnv9P2iz6nO1Ff4/5KWbxCCw/j9fmEwVjEr/P9uK/WX35P8/rD5XW7E/AEDpt68D54wAQCcxCKwc2gBAZapgVFInAUCiI7n8h3QBQOCcEaW9wQFAHhZqTfMOAkBcj8L1KFwCQJoIG55eqQJA2IFzRpT2AkAW+8vuyUMDQFR0JJf/kANAke18PzXeA0DPZtXnaisEQA3gLZCgeARAS1mGONbFBECJ0t7gCxMFQMdLN4lBYAVABMWPMXetBUBCPujZrPoFQIC3QILiRwZAvjCZKhiVBkD8qfHSTeIGQDojSnuDLwdAeJyiI7l8B0C1FfvL7skHQPOOU3QkFwhAMQisHFpkCEBvgQTFj7EIQK36XG3F/ghA63O1FftLCUAo7Q2+MJkJQGZmZmZm5glApN++DpwzCkDiWBe30YAKQCDSb18HzgpAXkvIBz0bC0CcxCCwcmgLQNk9eViotQtAF7fRAN4CDEBVMCqpE1AMQJOpglFJnQxA0SLb+X7qDEAPnDOitDcNQEwVjErqhA1Aio7k8h/SDUDIBz2bVR8OQAaBlUOLbA5ARPrt68C5DkCCc0aU9gYPQL/snjwsVA9A/WX35GGhD0A730+Nl+4PQDws1JrmHRBA3GgAb4FEEEB6pSxDHGsQQBriWBe3kRBAuB6F61G4EEA=\"},\"shape\":[100],\"dtype\":\"float64\",\"order\":\"little\"}]]}}},\"view\":{\"type\":\"object\",\"name\":\"CDSView\",\"id\":\"p1089\",\"attributes\":{\"filter\":{\"type\":\"object\",\"name\":\"AllIndices\",\"id\":\"p1090\"}}},\"glyph\":{\"type\":\"object\",\"name\":\"Quad\",\"id\":\"p1085\",\"attributes\":{\"left\":{\"type\":\"field\",\"field\":\"left\"},\"right\":{\"type\":\"field\",\"field\":\"right\"},\"bottom\":{\"type\":\"value\",\"value\":0},\"top\":{\"type\":\"field\",\"field\":\"top\"},\"line_color\":{\"type\":\"value\",\"value\":\"navy\"},\"fill_color\":{\"type\":\"value\",\"value\":\"navy\"},\"hatch_color\":{\"type\":\"value\",\"value\":\"navy\"}}},\"nonselection_glyph\":{\"type\":\"object\",\"name\":\"Quad\",\"id\":\"p1086\",\"attributes\":{\"left\":{\"type\":\"field\",\"field\":\"left\"},\"right\":{\"type\":\"field\",\"field\":\"right\"},\"bottom\":{\"type\":\"value\",\"value\":0},\"top\":{\"type\":\"field\",\"field\":\"top\"},\"line_color\":{\"type\":\"value\",\"value\":\"navy\"},\"line_alpha\":{\"type\":\"value\",\"value\":0.1},\"fill_color\":{\"type\":\"value\",\"value\":\"navy\"},\"fill_alpha\":{\"type\":\"value\",\"value\":0.1},\"hatch_color\":{\"type\":\"value\",\"value\":\"navy\"},\"hatch_alpha\":{\"type\":\"value\",\"value\":0.1}}},\"muted_glyph\":{\"type\":\"object\",\"name\":\"Quad\",\"id\":\"p1087\",\"attributes\":{\"left\":{\"type\":\"field\",\"field\":\"left\"},\"right\":{\"type\":\"field\",\"field\":\"right\"},\"bottom\":{\"type\":\"value\",\"value\":0},\"top\":{\"type\":\"field\",\"field\":\"top\"},\"line_color\":{\"type\":\"value\",\"value\":\"navy\"},\"line_alpha\":{\"type\":\"value\",\"value\":0.2},\"fill_color\":{\"type\":\"value\",\"value\":\"navy\"},\"fill_alpha\":{\"type\":\"value\",\"value\":0.2},\"hatch_color\":{\"type\":\"value\",\"value\":\"navy\"},\"hatch_alpha\":{\"type\":\"value\",\"value\":0.2}}}}}],\"toolbar\":{\"type\":\"object\",\"name\":\"Toolbar\",\"id\":\"p1058\",\"attributes\":{\"tools\":[{\"type\":\"object\",\"name\":\"PanTool\",\"id\":\"p1071\"},{\"type\":\"object\",\"name\":\"WheelZoomTool\",\"id\":\"p1072\",\"attributes\":{\"renderers\":\"auto\"}},{\"type\":\"object\",\"name\":\"BoxZoomTool\",\"id\":\"p1073\",\"attributes\":{\"overlay\":{\"type\":\"object\",\"name\":\"BoxAnnotation\",\"id\":\"p1074\",\"attributes\":{\"syncable\":false,\"level\":\"overlay\",\"visible\":false,\"left\":{\"type\":\"number\",\"value\":\"nan\"},\"right\":{\"type\":\"number\",\"value\":\"nan\"},\"top\":{\"type\":\"number\",\"value\":\"nan\"},\"bottom\":{\"type\":\"number\",\"value\":\"nan\"},\"left_units\":\"canvas\",\"right_units\":\"canvas\",\"top_units\":\"canvas\",\"bottom_units\":\"canvas\",\"line_color\":\"black\",\"line_alpha\":1.0,\"line_width\":2,\"line_dash\":[4,4],\"fill_color\":\"lightgrey\",\"fill_alpha\":0.5}}}},{\"type\":\"object\",\"name\":\"SaveTool\",\"id\":\"p1079\"},{\"type\":\"object\",\"name\":\"ResetTool\",\"id\":\"p1080\"},{\"type\":\"object\",\"name\":\"HelpTool\",\"id\":\"p1081\"}]}},\"left\":[{\"type\":\"object\",\"name\":\"LinearAxis\",\"id\":\"p1066\",\"attributes\":{\"ticker\":{\"type\":\"object\",\"name\":\"BasicTicker\",\"id\":\"p1067\",\"attributes\":{\"mantissas\":[1,2,5]}},\"formatter\":{\"type\":\"object\",\"name\":\"BasicTickFormatter\",\"id\":\"p1068\"},\"axis_label\":\"Frequency\",\"major_label_policy\":{\"type\":\"object\",\"name\":\"AllLabels\",\"id\":\"p1069\"}}}],\"below\":[{\"type\":\"object\",\"name\":\"LinearAxis\",\"id\":\"p1061\",\"attributes\":{\"ticker\":{\"type\":\"object\",\"name\":\"BasicTicker\",\"id\":\"p1062\",\"attributes\":{\"mantissas\":[1,2,5]}},\"formatter\":{\"type\":\"object\",\"name\":\"BasicTickFormatter\",\"id\":\"p1063\"},\"axis_label\":\"Fall time [h]\",\"major_label_policy\":{\"type\":\"object\",\"name\":\"AllLabels\",\"id\":\"p1064\"}}}],\"center\":[{\"type\":\"object\",\"name\":\"Grid\",\"id\":\"p1065\",\"attributes\":{\"axis\":{\"id\":\"p1061\"}}},{\"type\":\"object\",\"name\":\"Grid\",\"id\":\"p1070\",\"attributes\":{\"dimension\":1,\"axis\":{\"id\":\"p1066\"}}},{\"type\":\"object\",\"name\":\"Span\",\"id\":\"p1091\",\"attributes\":{\"location\":1.488,\"dimension\":\"height\",\"line_color\":\"magenta\",\"line_alpha\":0.5,\"line_width\":2,\"line_dash\":[6]}},{\"type\":\"object\",\"name\":\"BoxAnnotation\",\"id\":\"p1092\",\"attributes\":{\"left\":0.9176130268027187,\"right\":3.3570638862316624,\"top\":{\"type\":\"object\",\"name\":\"Node\",\"id\":\"p1095\",\"attributes\":{\"target\":\"frame\",\"symbol\":\"top\"}},\"bottom\":{\"type\":\"object\",\"name\":\"Node\",\"id\":\"p1096\",\"attributes\":{\"target\":\"frame\",\"symbol\":\"bottom\"}},\"fill_color\":\"magenta\",\"fill_alpha\":0.1}}]}},0,1,1,1]]}}]}};\n  const render_items = [{\"docid\":\"dc695570-e5f7-4aff-8abe-9b899209eed3\",\"roots\":{\"p1097\":\"a62c80ab-50e2-48d1-8470-c195cbff4165\"},\"root_ids\":[\"p1097\"]}];\n  void root.Bokeh.embed.embed_items_notebook(docs_json, render_items);\n  }\n  if (root.Bokeh !== undefined) {\n    embed_document(root);\n  } else {\n    let attempts = 0;\n    const timer = setInterval(function(root) {\n      if (root.Bokeh !== undefined) {\n        clearInterval(timer);\n        embed_document(root);\n      } else {\n        attempts++;\n        if (attempts > 100) {\n          clearInterval(timer);\n          console.log(\"Bokeh: ERROR: Unable to run BokehJS code because BokehJS library is missing\");\n        }\n      }\n    }, 10, root)\n  }\n})(window);",
      "application/vnd.bokehjs_exec.v0+json": ""
     },
     "metadata": {
      "application/vnd.bokehjs_exec.v0+json": {
       "id": "p1097"
      }
     },
     "output_type": "display_data"
    }
   ],
   "execution_count": 13
  },
  {
   "metadata": {
    "ExecuteTime": {
     "end_time": "2024-06-13T12:54:03.442806Z",
     "start_time": "2024-06-13T12:54:03.440509Z"
    }
   },
   "cell_type": "code",
   "source": [
    "# THE CASE WITH XTRA GENE MUTATED\n",
    "\n",
    "par_no_xtra=par.copy() # parameters for the case with the xtra gene absent\n",
    "par_no_xtra['func_xtra']=0.0 # xtra gene concentration\n",
    "\n",
    "cellvars_no_xtra=cellvars.copy() # cellular variables for the case with the xtra gene absent\n",
    "cellvars_no_xtra['xi_xtra']=0.0 # no  burdensome gene"
   ],
   "outputs": [],
   "execution_count": 14
  },
  {
   "metadata": {
    "ExecuteTime": {
     "end_time": "2024-06-13T12:54:03.449274Z",
     "start_time": "2024-06-13T12:54:03.443947Z"
    }
   },
   "cell_type": "code",
   "source": [
    " # GET THE HIGH STATE WITH THE XTRA GENE ABSENT (LOW STATE REUSED)\n",
    "\n",
    "# axis of p_switch values - there can only be an integer number of proteins\n",
    "p_switches=np.arange(0,p_switch_upper_bound+0.1,1)\n",
    "\n",
    "# define function for calculating the squared difference between the required and actual F values\n",
    "sqdiff_no_xtra = lambda p_switch: (F_real_calc(p_switch, par_no_xtra) - F_req_calc(p_switch, xi_no_xtra, par_no_xtra, cellvars_no_xtra)) ** 2\n",
    "\n",
    "# find the squared differences\n",
    "sqdiffs=np.zeros_like(p_switches)\n",
    "for i in range(0,len(p_switches)):\n",
    "    sqdiffs[i]=sqdiff_no_xtra(p_switches[i])\n",
    "\n",
    "# find the local minima and maxima in squared differences\n",
    "loc_minima=[]\n",
    "loc_maxima=[]\n",
    "for i in range(1,len(p_switches)-1):\n",
    "    # detect a local minimum\n",
    "    if(sqdiffs[i]<=sqdiffs[i-1] and sqdiffs[i]<=sqdiffs[i+1]):\n",
    "        loc_minima.append(p_switches[i])\n",
    "    # detect a local maximum\n",
    "    elif(sqdiffs[i]>=sqdiffs[i-1] and sqdiffs[i]>=sqdiffs[i+1]):\n",
    "        loc_maxima.append(p_switches[i])\n",
    "\n",
    "# print results\n",
    "print('Local minima in squared difference:',loc_minima)\n",
    "print('Local maxima in squared difference:',loc_maxima)\n",
    "\n",
    "# based on our prior findings, with burden present we expect one stable equilibrium, one pseudo-equilibrium and one local maximum in squared differences\n",
    "# this corresponds to three local minima and two local maxima in the squared difference between F values\n",
    "if (len(loc_minima)==2 and len(loc_maxima)==1):\n",
    "    p_switch_high_no_xtra=loc_minima[1] # REDEFINE high state standing for high-concentration stable equilibrium\n",
    "    print('High state representative p_switch:',p_switch_high_no_xtra)\n",
    "else:\n",
    "    print('Something weird is going on')"
   ],
   "outputs": [
    {
     "name": "stdout",
     "output_type": "stream",
     "text": [
      "Local minima in squared difference: [58.0, 1044.0]\n",
      "Local maxima in squared difference: [501.0]\n",
      "High state representative p_switch: 1044.0\n"
     ]
    }
   ],
   "execution_count": 15
  },
  {
   "metadata": {
    "ExecuteTime": {
     "end_time": "2024-06-13T12:54:03.453301Z",
     "start_time": "2024-06-13T12:54:03.450262Z"
    }
   },
   "cell_type": "code",
   "source": [
    "# INTEGRASE CONCENTRATIONS FROM SWITCH PROTEIN CONCENTRATIONS\n",
    "\n",
    "p_int_low_no_xtra=p_int_low # low state reused\n",
    "p_int_high_no_xtra=pint_from_pswitch_and_xi(p_switch_high_no_xtra,xis['a'] + xis['r'] + xis['cat'] + xis['prot'],par_no_xtra, cellvars_no_xtra) # high state is new\n",
    "print('Integrase concentration at low state:',p_int_low_no_xtra)\n",
    "print('Integrase concentration at high state:',p_int_high_no_xtra)"
   ],
   "outputs": [
    {
     "name": "stdout",
     "output_type": "stream",
     "text": [
      "Integrase concentration at low state: 3.5086100980161605\n",
      "Integrase concentration at high state: 104.63004474352397\n"
     ]
    }
   ],
   "execution_count": 16
  },
  {
   "cell_type": "code",
   "source": [
    "# GET DETERMINISTIC STEADY STATE\n",
    "\n",
    "# initial simulation to get the steady state without gene expression loss\n",
    "init_conds['p_switch'] = p_switch_upper_bound # to get high equilibrium, start at the upper bound\n",
    "init_conds['m_switch']=3000.0 # high mRNA concentration\n",
    "tf = (0, 50)  # simulation time frame\n",
    "sol=ode_sim(par_no_xtra,    # dictionary with model parameters\n",
    "            ode_with_circuit,   #  ODE function for the cell with synthetic circuit\n",
    "            cellmodel_auxil.x0_from_init_conds(init_conds,circuit_genes,circuit_miscs),  # initial condition VECTOR\n",
    "            len(circuit_genes), len(circuit_miscs), circuit_name2pos, # dictionaries with circuit gene and miscellaneous specie names, species name to vector position decoder\n",
    "            cellmodel_auxil.synth_gene_params_for_jax(par_no_xtra,circuit_genes), # synthetic gene parameters for calculating k values\n",
    "            tf, jnp.arange(tf[0], tf[1]+savetimestep/2, savetimestep), # time frame and time axis for saving the system's state\n",
    "            rtol, atol)    # relative and absolute tolerances\n",
    "ts_det_no_xtra=np.array(sol.ts)\n",
    "xs_det_no_xtra=np.array(sol.ys)\n",
    "# get the steady state from the deterministic simulation\n",
    "det_steady_x_no_xtra = xs_det_no_xtra[-1, :]\n",
    "\n",
    "print('Integrase level in steady state:',det_steady_x_no_xtra[circuit_name2pos['p_int']])"
   ],
   "metadata": {
    "collapsed": false,
    "ExecuteTime": {
     "end_time": "2024-06-13T12:54:03.480086Z",
     "start_time": "2024-06-13T12:54:03.454579Z"
    }
   },
   "outputs": [
    {
     "name": "stdout",
     "output_type": "stream",
     "text": [
      "Integrase level in steady state: 104.55510428705826\n"
     ]
    }
   ],
   "execution_count": 17
  },
  {
   "metadata": {
    "ExecuteTime": {
     "end_time": "2024-06-13T13:06:57.671789Z",
     "start_time": "2024-06-13T12:54:03.481059Z"
    }
   },
   "cell_type": "code",
   "source": [
    "# MEMORY-EFFICIENT SWITCH TIME DETERMINATION\n",
    "\n",
    "# we consider state switched when the CHARACTERIC PROTEIN CONCENTRATION is reached\n",
    "sc_high_to_low_no_xtra=sc_high_to_low # high to low switching - same condition because the LOW state is reused\n",
    "sc_low_to_zero_no_xtra=sc_low_to_zero # low to zero switching - same condition because ZERO is zero in any case\n",
    "\n",
    "par_no_xtra_no_switch=par_no_switch.copy()\n",
    "par_no_xtra_no_switch['func_xtra'] = 0.0\n",
    "\n",
    "tf_hybrid_no_xtra = (ts_det_no_xtra[-1], ts_det_no_xtra[-1] + tau_leap_sim_duration)  # simulation time frame\n",
    "mRNA_count_scales_no_xtra, S_no_xtra, x0_tauleap_no_xtra, circuit_synpos2genename_no_xtra, keys0_no_xtra = tauleap_sim_prep(par_no_xtra_no_switch, len(circuit_genes),\n",
    "                                                                                    len(circuit_miscs),\n",
    "                                                                                    circuit_name2pos, det_steady_x_no_xtra,\n",
    "                                                                                    key_seeds=key_seeds)\n",
    "\n",
    "high_to_low_fall_times_no_xtra_since_stochastart_no_xtra, low_to_zero_fall_times_since_stochstart_no_xtra, \\\n",
    "            final_keys_hybrid_no_xtra = tauleap_sim_switch(par_no_xtra_no_switch,  # dictionary with model parameters\n",
    "                                                    circuit_v,  # circuit reaction propensity calculator\n",
    "                                                    x0_tauleap_no_xtra, # initial condition VECTOR (processed to make sure random variables are appropriate integers)\n",
    "                                                    len(circuit_genes), len(circuit_miscs),\n",
    "                                                    circuit_name2pos,\n",
    "                                                    cellmodel_auxil.synth_gene_params_for_jax(par_no_xtra_no_switch,\n",
    "                                                                                       circuit_genes), # synthetic gene parameters for calculating k values\n",
    "                                                    tf_hybrid_no_xtra, tau, tau_odestep, tau_savetimestep, # simulation parameters: time frame, tau leap step size, number of ode integration steps in a single tau leap step\n",
    "                                                    mRNA_count_scales_no_xtra, S_no_xtra, circuit_synpos2genename_no_xtra, # mRNA count scaling factor, stoichiometry matrix, synthetic gene number in list of synth. genes to name decoder\n",
    "                                                    keys0_no_xtra, # starting random number genereation key\n",
    "                                                    sc_high_to_low_no_xtra, sc_low_to_zero_no_xtra\n",
    "                                                    )\n",
    "\n",
    "# record switching times in numpy arrays\n",
    "high_to_low_fall_times_no_xtra=np.array(high_to_low_fall_times_no_xtra_since_stochastart_no_xtra) # we need times of falling to zero since REACHING THE LOW STATE\n",
    "low_to_zero_fall_times_no_xtra=np.array(low_to_zero_fall_times_since_stochstart_no_xtra - high_to_low_fall_times_no_xtra) # we need times of falling to zero since REACHING THE LOW STATE\n",
    "low_to_zero_fall_times_no_xtra[low_to_zero_fall_times_no_xtra<0]=0 # if the low state is never reached, the recorded fall time is zero\n",
    "\n",
    "print('High-to-low fall times:',high_to_low_fall_times_no_xtra)\n",
    "print('Low-to-zero fall times:',low_to_zero_fall_times_no_xtra)\n",
    "\n",
    "del final_keys_hybrid_no_xtra"
   ],
   "outputs": [
    {
     "name": "stdout",
     "output_type": "stream",
     "text": [
      "High-to-low fall times: [2.67 2.02 2.24 2.61 2.17 2.04 2.34 2.39 2.15 1.79]\n",
      "Low-to-zero fall times: [1.35 3.31 1.24 0.48 0.62 2.   1.27 0.51 0.9  0.74]\n"
     ]
    }
   ],
   "execution_count": 18
  },
  {
   "metadata": {
    "ExecuteTime": {
     "end_time": "2024-06-13T13:06:57.962134Z",
     "start_time": "2024-06-13T13:06:57.673059Z"
    }
   },
   "cell_type": "code",
   "source": [
    "# ESTIMATE SWITCHING TIMES AND CONFIDENCE INTERVALS\n",
    "\n",
    "# high-to-low fall times\n",
    "N=len(key_seeds) # number of samples\n",
    "T=tau_leap_sim_duration # total simulation time\n",
    "print('Number of samples:',N)\n",
    "print('')\n",
    "print('Sampling time interval for high-to-low fall times:',T)\n",
    "high_to_low_mle_no_xtra=find_mle(high_to_low_fall_times_no_xtra,N,T) # maximum likelihood estimate\n",
    "high_to_low_leftconfint_no_xtra, high_to_low_rightconfint_no_xtra=np.array(find_confint(high_to_low_mle_no_xtra,N,T,0.05)) # 95% confidence interval\n",
    "print('High-to-low fall times MLE:',high_to_low_mle_no_xtra)\n",
    "print('High-to-low fall times 95% confidence interval:',high_to_low_leftconfint_no_xtra, high_to_low_rightconfint_no_xtra)\n",
    "\n",
    "print('')\n",
    "# low-to-zero fall times\n",
    "# in the case of fall times, construct sampling time interval artificially and artificially censor the sample\n",
    "T_low_to_zero_no_xtra=tau_leap_sim_duration - max(high_to_low_fall_times_no_xtra) # shortest-possible time interval\n",
    "low_to_zero_fall_times_no_xtra[low_to_zero_fall_times_no_xtra>=T_low_to_zero_no_xtra]=0 # artificially censor the sample\n",
    "print('Arificially constructed sampling time interval for low-to-zero fall times:',T_low_to_zero_no_xtra)\n",
    "\n",
    "low_to_zero_mle_no_xtra=find_mle(low_to_zero_fall_times_no_xtra,N,T_low_to_zero_no_xtra) # maximum likelihood estimate\n",
    "low_to_zero_leftconfint_no_xtra, low_to_zero_rightconfint_no_xtra=np.array(find_confint(low_to_zero_mle_no_xtra,N,T_low_to_zero_no_xtra,0.05)) # 95% confidence interval\n",
    "print('Low-to-zero fall times MLE:',low_to_zero_mle_no_xtra)\n",
    "print('Low-to-zero fall times 95% confidence interval:',low_to_zero_leftconfint_no_xtra, low_to_zero_rightconfint_no_xtra)"
   ],
   "outputs": [
    {
     "name": "stdout",
     "output_type": "stream",
     "text": [
      "Number of samples: 10\n",
      "\n",
      "Sampling time interval for high-to-low fall times: 10\n",
      "High-to-low fall times MLE: 2.242\n",
      "High-to-low fall times 95% confidence interval: 1.382146531051808 5.037222136126125\n",
      "\n",
      "Arificially constructed sampling time interval for low-to-zero fall times: 6.9\n",
      "Low-to-zero fall times MLE: 1.2420000000000002\n",
      "Low-to-zero fall times 95% confidence interval: 0.7666269667011583 2.885455272412109\n"
     ]
    }
   ],
   "execution_count": 19
  },
  {
   "cell_type": "code",
   "source": [
    "# PLOT SWITCH TIMES\n",
    "\n",
    "hist_bins=100\n",
    "\n",
    "# HISTOGRAM OF FALL TIMES: HIGH TO LOW\n",
    "falltime_htl_hist_noburden=bkplot.figure(title='Distribution of high-to-low fall times',\n",
    "                                   x_axis_label='Fall time [h]',\n",
    "                                   y_axis_label='Frequency',\n",
    "                                   width=400,height=300)\n",
    "# get numpy histogram\n",
    "ft_htl_hist_noburden, ftl_htl_edges_noburden=np.histogram(high_to_low_fall_times_no_xtra,bins=hist_bins,density=False)\n",
    "# plot histogram\n",
    "falltime_htl_hist_noburden.quad(top=ft_htl_hist_noburden, bottom=0,\n",
    "                              left=ftl_htl_edges_noburden[:-1], right=ftl_htl_edges_noburden[1:],\n",
    "                            color='magenta')\n",
    "# mark mean fall time\n",
    "falltime_htl_hist_noburden.add_layout(bkmodels.Span(location=high_to_low_mle_no_xtra, dimension='height',\n",
    "                                              line_dash='dashed', line_color='navy', line_width=2, line_alpha=0.5))\n",
    "# mark 95% confidence interval for fall times\n",
    "falltime_htl_hist_noburden.add_layout(bkmodels.BoxAnnotation(left=high_to_low_leftconfint_no_xtra, right=high_to_low_rightconfint_no_xtra,\n",
    "                                                       fill_color='navy', fill_alpha=0.1)) # range\n",
    "\n",
    "# HISTOGRAM OF FALL TIMES: LOW TO ZERO\n",
    "falltime_lt0_hist_noburden=bkplot.figure(title='Distribution of low-to-zero fall times',\n",
    "                                   x_axis_label='Fall time [h]',\n",
    "                                   y_axis_label='Frequency',\n",
    "                                   width=400,height=300)\n",
    "# get numpy histogram\n",
    "ft_lt0_hist_noburden, ftl_lt0_edges_noburden=np.histogram(low_to_zero_fall_times_no_xtra,bins=hist_bins,density=False)\n",
    "# plot histogram\n",
    "falltime_lt0_hist_noburden.quad(top=ft_lt0_hist_noburden, bottom=0,\n",
    "                              left=ftl_lt0_edges_noburden[:-1], right=ftl_lt0_edges_noburden[1:],\n",
    "                            color='navy')\n",
    "# mark mean fall time\n",
    "falltime_lt0_hist_noburden.add_layout(bkmodels.Span(location=low_to_zero_mle_no_xtra, dimension='height',\n",
    "                                              line_dash='dashed', line_color='magenta', line_width=2, line_alpha=0.5))\n",
    "# mark 95% confidence interval for fall times\n",
    "falltime_lt0_hist_noburden.add_layout(bkmodels.BoxAnnotation(left=low_to_zero_leftconfint_no_xtra, right=low_to_zero_rightconfint_no_xtra,\n",
    "                                                       fill_color='magenta', fill_alpha=0.1)) # range\n",
    "\n",
    "# show plot\n",
    "hist_grid=bklayouts.grid([[falltime_htl_hist_noburden], [falltime_lt0_hist_noburden]])\n",
    "# bkplot.show(bklayouts.grid([[state_fig_noburden, hist_grid],\n",
    "#                             [state_fig_noburden_discrete, None]]))\n",
    "bkplot.show(hist_grid)"
   ],
   "metadata": {
    "collapsed": false,
    "ExecuteTime": {
     "end_time": "2024-06-13T13:06:58.017894Z",
     "start_time": "2024-06-13T13:06:57.963146Z"
    }
   },
   "outputs": [
    {
     "data": {
      "text/html": [
       "\n",
       "  <div id=\"b51d59b6-a70b-414e-ae48-29a0c4642046\" data-root-id=\"p1200\" style=\"display: contents;\"></div>\n"
      ]
     },
     "metadata": {},
     "output_type": "display_data"
    },
    {
     "data": {
      "application/javascript": "(function(root) {\n  function embed_document(root) {\n  const docs_json = {\"08b6b69e-bc24-4bf5-bd73-a238f38d7974\":{\"version\":\"3.4.0\",\"title\":\"Bokeh Application\",\"roots\":[{\"type\":\"object\",\"name\":\"GridBox\",\"id\":\"p1200\",\"attributes\":{\"rows\":null,\"cols\":null,\"children\":[[{\"type\":\"object\",\"name\":\"Figure\",\"id\":\"p1104\",\"attributes\":{\"width\":400,\"height\":300,\"x_range\":{\"type\":\"object\",\"name\":\"DataRange1d\",\"id\":\"p1105\"},\"y_range\":{\"type\":\"object\",\"name\":\"DataRange1d\",\"id\":\"p1106\"},\"x_scale\":{\"type\":\"object\",\"name\":\"LinearScale\",\"id\":\"p1114\"},\"y_scale\":{\"type\":\"object\",\"name\":\"LinearScale\",\"id\":\"p1115\"},\"title\":{\"type\":\"object\",\"name\":\"Title\",\"id\":\"p1107\",\"attributes\":{\"text\":\"Distribution of high-to-low fall times\"}},\"renderers\":[{\"type\":\"object\",\"name\":\"GlyphRenderer\",\"id\":\"p1143\",\"attributes\":{\"data_source\":{\"type\":\"object\",\"name\":\"ColumnDataSource\",\"id\":\"p1137\",\"attributes\":{\"selected\":{\"type\":\"object\",\"name\":\"Selection\",\"id\":\"p1138\",\"attributes\":{\"indices\":[],\"line_indices\":[]}},\"selection_policy\":{\"type\":\"object\",\"name\":\"UnionRenderers\",\"id\":\"p1139\"},\"data\":{\"type\":\"map\",\"entries\":[[\"top\",{\"type\":\"ndarray\",\"array\":{\"type\":\"bytes\",\"data\":\"AQAAAAAAAAAAAAAAAAAAAAAAAAAAAAAAAAAAAAAAAAAAAAAAAAAAAAAAAAAAAAAAAAAAAAAAAAAAAAAAAAAAAAAAAAAAAAAAAAAAAAAAAAAAAAAAAAAAAAAAAAAAAAAAAAAAAAAAAAABAAAAAAAAAAEAAAAAAAAAAAAAAAAAAAAAAAAAAAAAAAAAAAAAAAAAAAAAAAAAAAAAAAAAAAAAAAEAAAAAAAAAAAAAAAEAAAAAAAAAAAAAAAAAAAAAAAAAAAAAAAAAAAAAAAAAAQAAAAAAAAAAAAAAAAAAAAAAAAAAAAAAAAAAAAAAAAAAAAAAAAAAAAAAAAABAAAAAAAAAAAAAAAAAAAAAAAAAAAAAAABAAAAAAAAAAAAAAAAAAAAAAAAAAAAAAAAAAAAAAAAAAAAAAAAAAAAAAAAAAAAAAAAAAAAAAAAAAAAAAAAAAAAAAAAAAAAAAAAAAAAAAAAAAAAAAAAAAAAAAAAAAAAAAAAAAAAAQAAAAAAAAAAAAAAAAAAAAAAAAAAAAAAAQAAAA==\"},\"shape\":[100],\"dtype\":\"int32\",\"order\":\"little\"}],[\"left\",{\"type\":\"ndarray\",\"array\":{\"type\":\"bytes\",\"data\":\"pHA9Ctej/D+At0CC4sf8P13+Q/rt6/w/OUVHcvkP/T8VjErqBDT9P/LSTWIQWP0/zhlR2ht8/T+qYFRSJ6D9P4enV8oyxP0/Y+5aQj7o/T9ANV66SQz+Pxx8YTJVMP4/+MJkqmBU/j/VCWgibHj+P7FQa5p3nP4/jZduEoPA/j9q3nGKjuT+P0YldQKaCP8/Imx4eqUs/z//snvysFD/P9v5fmq8dP8/uECC4seY/z+Uh4Va07z/P3DOiNLe4P8/pgpGJXUCAEAUrkfhehQAQINRSZ2AJgBA8fRKWYY4AEBfmEwVjEoAQM07TtGRXABAO99PjZduAECqglFJnYAAQBgmUwWjkgBAhslUwaikAED0bFZ9rrYAQGIQWDm0yABA0LNZ9bnaAEA/V1uxv+wAQK36XG3F/gBAG55eKcsQAUCJQWDl0CIBQPfkYaHWNAFAZohjXdxGAUDUK2UZ4lgBQELPZtXnagFAsHJoke18AUAeFmpN844BQIy5awn5oAFA+1xtxf6yAUBpAG+BBMUBQNejcD0K1wFARUdy+Q/pAUCz6nO1FfsBQCKOdXEbDQJAkDF3LSEfAkD+1HjpJjECQGx4eqUsQwJA2ht8YTJVAkBIv30dOGcCQLZif9k9eQJAJQaBlUOLAkCTqYJRSZ0CQAFNhA1PrwJAb/CFyVTBAkDek4eFWtMCQEw3iUFg5QJAutqK/WX3AkAofoy5awkDQJYhjnVxGwNABMWPMXctA0ByaJHtfD8DQOELk6mCUQNAT6+UZYhjA0C9UpYhjnUDQCv2l92ThwNAmpmZmZmZA0AIPZtVn6sDQHbgnBGlvQNA5IOezarPA0BSJ6CJsOEDQMDKoUW28wNALm6jAbwFBECdEaW9wRcEQAu1pnnHKQRAeVioNc07BEDn+6nx0k0EQFafq63YXwRAxEKtad5xBEAy5q4l5IMEQKCJsOHplQRADi2yne+nBEB80LNZ9bkEQOpztRX7ywRAWRe30QDeBEDHuriNBvAEQDVeukkMAgVAowG8BRIUBUASpb3BFyYFQIBIv30dOAVA7uvAOSNKBUA=\"},\"shape\":[100],\"dtype\":\"float64\",\"order\":\"little\"}],[\"right\",{\"type\":\"ndarray\",\"array\":{\"type\":\"bytes\",\"data\":\"gLdAguLH/D9d/kP67ev8PzlFR3L5D/0/FYxK6gQ0/T/y0k1iEFj9P84ZUdobfP0/qmBUUieg/T+Hp1fKMsT9P2PuWkI+6P0/QDVeukkM/j8cfGEyVTD+P/jCZKpgVP4/1QloImx4/j+xUGuad5z+P42XbhKDwP4/at5xio7k/j9GJXUCmgj/PyJseHqlLP8//7J78rBQ/z/b+X5qvHT/P7hAguLHmP8/lIeFWtO8/z9wzojS3uD/P6YKRiV1AgBAFK5H4XoUAECDUUmdgCYAQPH0SlmGOABAX5hMFYxKAEDNO07RkVwAQDvfT42XbgBAqoJRSZ2AAEAYJlMFo5IAQIbJVMGopABA9GxWfa62AEBiEFg5tMgAQNCzWfW52gBAP1dbsb/sAECt+lxtxf4AQBueXinLEAFAiUFg5dAiAUD35GGh1jQBQGaIY13cRgFA1CtlGeJYAUBCz2bV52oBQLByaJHtfAFAHhZqTfOOAUCMuWsJ+aABQPtcbcX+sgFAaQBvgQTFAUDXo3A9CtcBQEVHcvkP6QFAs+pztRX7AUAijnVxGw0CQJAxdy0hHwJA/tR46SYxAkBseHqlLEMCQNobfGEyVQJASL99HThnAkC2Yn/ZPXkCQCUGgZVDiwJAk6mCUUmdAkABTYQNT68CQG/whclUwQJA3pOHhVrTAkBMN4lBYOUCQLraiv1l9wJAKH6MuWsJA0CWIY51cRsDQATFjzF3LQNAcmiR7Xw/A0DhC5OpglEDQE+vlGWIYwNAvVKWIY51A0Ar9pfdk4cDQJqZmZmZmQNACD2bVZ+rA0B24JwRpb0DQOSDns2qzwNAUiegibDhA0DAyqFFtvMDQC5uowG8BQRAnRGlvcEXBEALtaZ5xykEQHlYqDXNOwRA5/up8dJNBEBWn6ut2F8EQMRCrWnecQRAMuauJeSDBECgibDh6ZUEQA4tsp3vpwRAfNCzWfW5BEDqc7UV+8sEQFkXt9EA3gRAx7q4jQbwBEA1XrpJDAIFQKMBvAUSFAVAEqW9wRcmBUCASL99HTgFQO7rwDkjSgVAXI/C9ShcBUA=\"},\"shape\":[100],\"dtype\":\"float64\",\"order\":\"little\"}]]}}},\"view\":{\"type\":\"object\",\"name\":\"CDSView\",\"id\":\"p1144\",\"attributes\":{\"filter\":{\"type\":\"object\",\"name\":\"AllIndices\",\"id\":\"p1145\"}}},\"glyph\":{\"type\":\"object\",\"name\":\"Quad\",\"id\":\"p1140\",\"attributes\":{\"left\":{\"type\":\"field\",\"field\":\"left\"},\"right\":{\"type\":\"field\",\"field\":\"right\"},\"bottom\":{\"type\":\"value\",\"value\":0},\"top\":{\"type\":\"field\",\"field\":\"top\"},\"line_color\":{\"type\":\"value\",\"value\":\"magenta\"},\"fill_color\":{\"type\":\"value\",\"value\":\"magenta\"},\"hatch_color\":{\"type\":\"value\",\"value\":\"magenta\"}}},\"nonselection_glyph\":{\"type\":\"object\",\"name\":\"Quad\",\"id\":\"p1141\",\"attributes\":{\"left\":{\"type\":\"field\",\"field\":\"left\"},\"right\":{\"type\":\"field\",\"field\":\"right\"},\"bottom\":{\"type\":\"value\",\"value\":0},\"top\":{\"type\":\"field\",\"field\":\"top\"},\"line_color\":{\"type\":\"value\",\"value\":\"magenta\"},\"line_alpha\":{\"type\":\"value\",\"value\":0.1},\"fill_color\":{\"type\":\"value\",\"value\":\"magenta\"},\"fill_alpha\":{\"type\":\"value\",\"value\":0.1},\"hatch_color\":{\"type\":\"value\",\"value\":\"magenta\"},\"hatch_alpha\":{\"type\":\"value\",\"value\":0.1}}},\"muted_glyph\":{\"type\":\"object\",\"name\":\"Quad\",\"id\":\"p1142\",\"attributes\":{\"left\":{\"type\":\"field\",\"field\":\"left\"},\"right\":{\"type\":\"field\",\"field\":\"right\"},\"bottom\":{\"type\":\"value\",\"value\":0},\"top\":{\"type\":\"field\",\"field\":\"top\"},\"line_color\":{\"type\":\"value\",\"value\":\"magenta\"},\"line_alpha\":{\"type\":\"value\",\"value\":0.2},\"fill_color\":{\"type\":\"value\",\"value\":\"magenta\"},\"fill_alpha\":{\"type\":\"value\",\"value\":0.2},\"hatch_color\":{\"type\":\"value\",\"value\":\"magenta\"},\"hatch_alpha\":{\"type\":\"value\",\"value\":0.2}}}}}],\"toolbar\":{\"type\":\"object\",\"name\":\"Toolbar\",\"id\":\"p1113\",\"attributes\":{\"tools\":[{\"type\":\"object\",\"name\":\"PanTool\",\"id\":\"p1126\"},{\"type\":\"object\",\"name\":\"WheelZoomTool\",\"id\":\"p1127\",\"attributes\":{\"renderers\":\"auto\"}},{\"type\":\"object\",\"name\":\"BoxZoomTool\",\"id\":\"p1128\",\"attributes\":{\"overlay\":{\"type\":\"object\",\"name\":\"BoxAnnotation\",\"id\":\"p1129\",\"attributes\":{\"syncable\":false,\"level\":\"overlay\",\"visible\":false,\"left\":{\"type\":\"number\",\"value\":\"nan\"},\"right\":{\"type\":\"number\",\"value\":\"nan\"},\"top\":{\"type\":\"number\",\"value\":\"nan\"},\"bottom\":{\"type\":\"number\",\"value\":\"nan\"},\"left_units\":\"canvas\",\"right_units\":\"canvas\",\"top_units\":\"canvas\",\"bottom_units\":\"canvas\",\"line_color\":\"black\",\"line_alpha\":1.0,\"line_width\":2,\"line_dash\":[4,4],\"fill_color\":\"lightgrey\",\"fill_alpha\":0.5}}}},{\"type\":\"object\",\"name\":\"SaveTool\",\"id\":\"p1134\"},{\"type\":\"object\",\"name\":\"ResetTool\",\"id\":\"p1135\"},{\"type\":\"object\",\"name\":\"HelpTool\",\"id\":\"p1136\"}]}},\"left\":[{\"type\":\"object\",\"name\":\"LinearAxis\",\"id\":\"p1121\",\"attributes\":{\"ticker\":{\"type\":\"object\",\"name\":\"BasicTicker\",\"id\":\"p1122\",\"attributes\":{\"mantissas\":[1,2,5]}},\"formatter\":{\"type\":\"object\",\"name\":\"BasicTickFormatter\",\"id\":\"p1123\"},\"axis_label\":\"Frequency\",\"major_label_policy\":{\"type\":\"object\",\"name\":\"AllLabels\",\"id\":\"p1124\"}}}],\"below\":[{\"type\":\"object\",\"name\":\"LinearAxis\",\"id\":\"p1116\",\"attributes\":{\"ticker\":{\"type\":\"object\",\"name\":\"BasicTicker\",\"id\":\"p1117\",\"attributes\":{\"mantissas\":[1,2,5]}},\"formatter\":{\"type\":\"object\",\"name\":\"BasicTickFormatter\",\"id\":\"p1118\"},\"axis_label\":\"Fall time [h]\",\"major_label_policy\":{\"type\":\"object\",\"name\":\"AllLabels\",\"id\":\"p1119\"}}}],\"center\":[{\"type\":\"object\",\"name\":\"Grid\",\"id\":\"p1120\",\"attributes\":{\"axis\":{\"id\":\"p1116\"}}},{\"type\":\"object\",\"name\":\"Grid\",\"id\":\"p1125\",\"attributes\":{\"dimension\":1,\"axis\":{\"id\":\"p1121\"}}},{\"type\":\"object\",\"name\":\"Span\",\"id\":\"p1146\",\"attributes\":{\"location\":2.242,\"dimension\":\"height\",\"line_color\":\"navy\",\"line_alpha\":0.5,\"line_width\":2,\"line_dash\":[6]}},{\"type\":\"object\",\"name\":\"BoxAnnotation\",\"id\":\"p1147\",\"attributes\":{\"left\":1.382146531051808,\"right\":5.037222136126125,\"top\":{\"type\":\"object\",\"name\":\"Node\",\"id\":\"p1150\",\"attributes\":{\"target\":\"frame\",\"symbol\":\"top\"}},\"bottom\":{\"type\":\"object\",\"name\":\"Node\",\"id\":\"p1151\",\"attributes\":{\"target\":\"frame\",\"symbol\":\"bottom\"}},\"fill_color\":\"navy\",\"fill_alpha\":0.1}}]}},0,0,1,1],[{\"type\":\"object\",\"name\":\"Figure\",\"id\":\"p1152\",\"attributes\":{\"width\":400,\"height\":300,\"x_range\":{\"type\":\"object\",\"name\":\"DataRange1d\",\"id\":\"p1153\"},\"y_range\":{\"type\":\"object\",\"name\":\"DataRange1d\",\"id\":\"p1154\"},\"x_scale\":{\"type\":\"object\",\"name\":\"LinearScale\",\"id\":\"p1162\"},\"y_scale\":{\"type\":\"object\",\"name\":\"LinearScale\",\"id\":\"p1163\"},\"title\":{\"type\":\"object\",\"name\":\"Title\",\"id\":\"p1155\",\"attributes\":{\"text\":\"Distribution of low-to-zero fall times\"}},\"renderers\":[{\"type\":\"object\",\"name\":\"GlyphRenderer\",\"id\":\"p1191\",\"attributes\":{\"data_source\":{\"type\":\"object\",\"name\":\"ColumnDataSource\",\"id\":\"p1185\",\"attributes\":{\"selected\":{\"type\":\"object\",\"name\":\"Selection\",\"id\":\"p1186\",\"attributes\":{\"indices\":[],\"line_indices\":[]}},\"selection_policy\":{\"type\":\"object\",\"name\":\"UnionRenderers\",\"id\":\"p1187\"},\"data\":{\"type\":\"map\",\"entries\":[[\"top\",{\"type\":\"ndarray\",\"array\":{\"type\":\"bytes\",\"data\":\"AQAAAAEAAAAAAAAAAAAAAAEAAAAAAAAAAAAAAAAAAAAAAAAAAQAAAAAAAAAAAAAAAAAAAAAAAAABAAAAAAAAAAAAAAAAAAAAAAAAAAAAAAAAAAAAAAAAAAAAAAAAAAAAAAAAAAAAAAABAAAAAQAAAAAAAAAAAAAAAQAAAAAAAAAAAAAAAAAAAAAAAAAAAAAAAAAAAAAAAAAAAAAAAAAAAAAAAAAAAAAAAAAAAAAAAAAAAAAAAAAAAAAAAAAAAAAAAAAAAAAAAAAAAAAAAAAAAAAAAAABAAAAAAAAAAAAAAAAAAAAAAAAAAAAAAAAAAAAAAAAAAAAAAAAAAAAAAAAAAAAAAAAAAAAAAAAAAAAAAAAAAAAAAAAAAAAAAAAAAAAAAAAAAAAAAAAAAAAAAAAAAAAAAAAAAAAAAAAAAAAAAAAAAAAAAAAAAAAAAAAAAAAAAAAAAAAAAAAAAAAAAAAAAAAAAAAAAAAAAAAAAAAAAAAAAAAAAAAAAAAAAAAAAAAAAAAAAAAAAAAAAAAAQAAAA==\"},\"shape\":[100],\"dtype\":\"int32\",\"order\":\"little\"}],[\"left\",{\"type\":\"ndarray\",\"array\":{\"type\":\"bytes\",\"data\":\"uB6F61G43j9O0ZFc/kPgP0ATYcPTK+E/MlUwKqkT4j8kl/+QfvviPxbZzvdT4+M/CBueXinL5D/7XG3F/rLlP+2ePCzUmuY/3+ALk6mC5z/RItv5fmroP8NkqmBUUuk/taZ5xyk66j+n6Egu/yHrP5oqGJXUCew/jGzn+6nx7D9+rrZif9ntP3DwhclUwe4/YjJVMCqp7z8qOpLLf0jwPyPb+X5qvPA/HHxhMlUw8T8VHcnlP6TxPw6+MJkqGPI/B1+YTBWM8j8AAAAAAADzP/mgZ7Pqc/M/8kHPZtXn8z/s4jYawFv0P+SDns2qz/Q/3iQGgZVD9T/WxW00gLf1P9Bm1edqK/Y/yAc9m1Wf9j/CqKROQBP3P7pJDAIrh/c/tOpztRX79z+ti9toAG/4P6YsQxzr4vg/n82qz9VW+T+YbhKDwMr5P5EPejarPvo/irDh6ZWy+j+DUUmdgCb7P3zysFBrmvs/dZMYBFYO/D9uNIC3QIL8P2fV52or9vw/YHZPHhZq/T9ZF7fRAN79P1K4HoXrUf4/S1mGONbF/j9E+u3rwDn/Pz2bVZ+rrf8/HJ5eKcsQAECYbhKDwEoAQBQ/xty1hABAkQ96Nqu+AEAO4C2QoPgAQIqw4emVMgFABoGVQ4tsAUCDUUmdgKYBQAAi/fZ14AFAfPKwUGsaAkD4wmSqYFQCQHWTGARWjgJA8mPMXUvIAkBuNIC3QAIDQOoENBE2PANAZ9Xnait2A0DkpZvEILADQGB2Tx4W6gNA3UYDeAskBEBZF7fRAF4EQNbnaiv2lwRAUrgehevRBEDPiNLe4AsFQEtZhjjWRQVAyCk6kst/BUBE+u3rwLkFQMHKoUW28wVAPZtVn6stBkC6awn5oGcGQDY8vVKWoQZAswxxrIvbBkAv3SQGgRUHQKyt2F92TwdAKX6MuWuJB0ClTkATYcMHQCIf9GxW/QdAnu+nxks3CEAbwFsgQXEIQJeQD3o2qwhAFGHD0yvlCECQMXctIR8JQA0CK4cWWQlAidLe4AuTCUAGo5I6Ac0JQIJzRpT2BgpA/0P67etACkA=\"},\"shape\":[100],\"dtype\":\"float64\",\"order\":\"little\"}],[\"right\",{\"type\":\"ndarray\",\"array\":{\"type\":\"bytes\",\"data\":\"TtGRXP5D4D9AE2HD0yvhPzJVMCqpE+I/JJf/kH774j8W2c73U+PjPwgbnl4py+Q/+1xtxf6y5T/tnjws1JrmP9/gC5Opguc/0SLb+X5q6D/DZKpgVFLpP7WmeccpOuo/p+hILv8h6z+aKhiV1AnsP4xs5/up8ew/fq62Yn/Z7T9w8IXJVMHuP2IyVTAqqe8/KjqSy39I8D8j2/l+arzwPxx8YTJVMPE/FR3J5T+k8T8OvjCZKhjyPwdfmEwVjPI/AAAAAAAA8z/5oGez6nPzP/JBz2bV5/M/7OI2GsBb9D/kg57Nqs/0P94kBoGVQ/U/1sVtNIC39T/QZtXnaiv2P8gHPZtVn/Y/wqikTkAT9z+6SQwCK4f3P7Tqc7UV+/c/rYvbaABv+D+mLEMc6+L4P5/Nqs/VVvk/mG4Sg8DK+T+RD3o2qz76P4qw4emVsvo/g1FJnYAm+z988rBQa5r7P3WTGARWDvw/bjSAt0CC/D9n1edqK/b8P2B2Tx4Wav0/WRe30QDe/T9SuB6F61H+P0tZhjjWxf4/RPrt68A5/z89m1Wfq63/PxyeXinLEABAmG4Sg8BKAEAUP8bctYQAQJEPejarvgBADuAtkKD4AECKsOHplTIBQAaBlUOLbAFAg1FJnYCmAUAAIv32deABQHzysFBrGgJA+MJkqmBUAkB1kxgEVo4CQPJjzF1LyAJAbjSAt0ACA0DqBDQRNjwDQGfV52ordgNA5KWbxCCwA0Bgdk8eFuoDQN1GA3gLJARAWRe30QBeBEDW52or9pcEQFK4HoXr0QRAz4jS3uALBUBLWYY41kUFQMgpOpLLfwVARPrt68C5BUDByqFFtvMFQD2bVZ+rLQZAumsJ+aBnBkA2PL1SlqEGQLMMcayL2wZAL90kBoEVB0Csrdhfdk8HQCl+jLlriQdApU5AE2HDB0AiH/RsVv0HQJ7vp8ZLNwhAG8BbIEFxCECXkA96NqsIQBRhw9Mr5QhAkDF3LSEfCUANAiuHFlkJQInS3uALkwlABqOSOgHNCUCCc0aU9gYKQP9D+u3rQApAexSuR+F6CkA=\"},\"shape\":[100],\"dtype\":\"float64\",\"order\":\"little\"}]]}}},\"view\":{\"type\":\"object\",\"name\":\"CDSView\",\"id\":\"p1192\",\"attributes\":{\"filter\":{\"type\":\"object\",\"name\":\"AllIndices\",\"id\":\"p1193\"}}},\"glyph\":{\"type\":\"object\",\"name\":\"Quad\",\"id\":\"p1188\",\"attributes\":{\"left\":{\"type\":\"field\",\"field\":\"left\"},\"right\":{\"type\":\"field\",\"field\":\"right\"},\"bottom\":{\"type\":\"value\",\"value\":0},\"top\":{\"type\":\"field\",\"field\":\"top\"},\"line_color\":{\"type\":\"value\",\"value\":\"navy\"},\"fill_color\":{\"type\":\"value\",\"value\":\"navy\"},\"hatch_color\":{\"type\":\"value\",\"value\":\"navy\"}}},\"nonselection_glyph\":{\"type\":\"object\",\"name\":\"Quad\",\"id\":\"p1189\",\"attributes\":{\"left\":{\"type\":\"field\",\"field\":\"left\"},\"right\":{\"type\":\"field\",\"field\":\"right\"},\"bottom\":{\"type\":\"value\",\"value\":0},\"top\":{\"type\":\"field\",\"field\":\"top\"},\"line_color\":{\"type\":\"value\",\"value\":\"navy\"},\"line_alpha\":{\"type\":\"value\",\"value\":0.1},\"fill_color\":{\"type\":\"value\",\"value\":\"navy\"},\"fill_alpha\":{\"type\":\"value\",\"value\":0.1},\"hatch_color\":{\"type\":\"value\",\"value\":\"navy\"},\"hatch_alpha\":{\"type\":\"value\",\"value\":0.1}}},\"muted_glyph\":{\"type\":\"object\",\"name\":\"Quad\",\"id\":\"p1190\",\"attributes\":{\"left\":{\"type\":\"field\",\"field\":\"left\"},\"right\":{\"type\":\"field\",\"field\":\"right\"},\"bottom\":{\"type\":\"value\",\"value\":0},\"top\":{\"type\":\"field\",\"field\":\"top\"},\"line_color\":{\"type\":\"value\",\"value\":\"navy\"},\"line_alpha\":{\"type\":\"value\",\"value\":0.2},\"fill_color\":{\"type\":\"value\",\"value\":\"navy\"},\"fill_alpha\":{\"type\":\"value\",\"value\":0.2},\"hatch_color\":{\"type\":\"value\",\"value\":\"navy\"},\"hatch_alpha\":{\"type\":\"value\",\"value\":0.2}}}}}],\"toolbar\":{\"type\":\"object\",\"name\":\"Toolbar\",\"id\":\"p1161\",\"attributes\":{\"tools\":[{\"type\":\"object\",\"name\":\"PanTool\",\"id\":\"p1174\"},{\"type\":\"object\",\"name\":\"WheelZoomTool\",\"id\":\"p1175\",\"attributes\":{\"renderers\":\"auto\"}},{\"type\":\"object\",\"name\":\"BoxZoomTool\",\"id\":\"p1176\",\"attributes\":{\"overlay\":{\"type\":\"object\",\"name\":\"BoxAnnotation\",\"id\":\"p1177\",\"attributes\":{\"syncable\":false,\"level\":\"overlay\",\"visible\":false,\"left\":{\"type\":\"number\",\"value\":\"nan\"},\"right\":{\"type\":\"number\",\"value\":\"nan\"},\"top\":{\"type\":\"number\",\"value\":\"nan\"},\"bottom\":{\"type\":\"number\",\"value\":\"nan\"},\"left_units\":\"canvas\",\"right_units\":\"canvas\",\"top_units\":\"canvas\",\"bottom_units\":\"canvas\",\"line_color\":\"black\",\"line_alpha\":1.0,\"line_width\":2,\"line_dash\":[4,4],\"fill_color\":\"lightgrey\",\"fill_alpha\":0.5}}}},{\"type\":\"object\",\"name\":\"SaveTool\",\"id\":\"p1182\"},{\"type\":\"object\",\"name\":\"ResetTool\",\"id\":\"p1183\"},{\"type\":\"object\",\"name\":\"HelpTool\",\"id\":\"p1184\"}]}},\"left\":[{\"type\":\"object\",\"name\":\"LinearAxis\",\"id\":\"p1169\",\"attributes\":{\"ticker\":{\"type\":\"object\",\"name\":\"BasicTicker\",\"id\":\"p1170\",\"attributes\":{\"mantissas\":[1,2,5]}},\"formatter\":{\"type\":\"object\",\"name\":\"BasicTickFormatter\",\"id\":\"p1171\"},\"axis_label\":\"Frequency\",\"major_label_policy\":{\"type\":\"object\",\"name\":\"AllLabels\",\"id\":\"p1172\"}}}],\"below\":[{\"type\":\"object\",\"name\":\"LinearAxis\",\"id\":\"p1164\",\"attributes\":{\"ticker\":{\"type\":\"object\",\"name\":\"BasicTicker\",\"id\":\"p1165\",\"attributes\":{\"mantissas\":[1,2,5]}},\"formatter\":{\"type\":\"object\",\"name\":\"BasicTickFormatter\",\"id\":\"p1166\"},\"axis_label\":\"Fall time [h]\",\"major_label_policy\":{\"type\":\"object\",\"name\":\"AllLabels\",\"id\":\"p1167\"}}}],\"center\":[{\"type\":\"object\",\"name\":\"Grid\",\"id\":\"p1168\",\"attributes\":{\"axis\":{\"id\":\"p1164\"}}},{\"type\":\"object\",\"name\":\"Grid\",\"id\":\"p1173\",\"attributes\":{\"dimension\":1,\"axis\":{\"id\":\"p1169\"}}},{\"type\":\"object\",\"name\":\"Span\",\"id\":\"p1194\",\"attributes\":{\"location\":1.2420000000000002,\"dimension\":\"height\",\"line_color\":\"magenta\",\"line_alpha\":0.5,\"line_width\":2,\"line_dash\":[6]}},{\"type\":\"object\",\"name\":\"BoxAnnotation\",\"id\":\"p1195\",\"attributes\":{\"left\":0.7666269667011583,\"right\":2.885455272412109,\"top\":{\"type\":\"object\",\"name\":\"Node\",\"id\":\"p1198\",\"attributes\":{\"target\":\"frame\",\"symbol\":\"top\"}},\"bottom\":{\"type\":\"object\",\"name\":\"Node\",\"id\":\"p1199\",\"attributes\":{\"target\":\"frame\",\"symbol\":\"bottom\"}},\"fill_color\":\"magenta\",\"fill_alpha\":0.1}}]}},1,0,1,1]]}}]}};\n  const render_items = [{\"docid\":\"08b6b69e-bc24-4bf5-bd73-a238f38d7974\",\"roots\":{\"p1200\":\"b51d59b6-a70b-414e-ae48-29a0c4642046\"},\"root_ids\":[\"p1200\"]}];\n  void root.Bokeh.embed.embed_items_notebook(docs_json, render_items);\n  }\n  if (root.Bokeh !== undefined) {\n    embed_document(root);\n  } else {\n    let attempts = 0;\n    const timer = setInterval(function(root) {\n      if (root.Bokeh !== undefined) {\n        clearInterval(timer);\n        embed_document(root);\n      } else {\n        attempts++;\n        if (attempts > 100) {\n          clearInterval(timer);\n          console.log(\"Bokeh: ERROR: Unable to run BokehJS code because BokehJS library is missing\");\n        }\n      }\n    }, 10, root)\n  }\n})(window);",
      "application/vnd.bokehjs_exec.v0+json": ""
     },
     "metadata": {
      "application/vnd.bokehjs_exec.v0+json": {
       "id": "p1200"
      }
     },
     "output_type": "display_data"
    }
   ],
   "execution_count": 20
  }
 ],
 "metadata": {
  "kernelspec": {
   "display_name": "Python 3",
   "language": "python",
   "name": "python3"
  },
  "language_info": {
   "codemirror_mode": {
    "name": "ipython",
    "version": 2
   },
   "file_extension": ".py",
   "mimetype": "text/x-python",
   "name": "python",
   "nbconvert_exporter": "python",
   "pygments_lexer": "ipython2",
   "version": "2.7.6"
  }
 },
 "nbformat": 4,
 "nbformat_minor": 0
}
