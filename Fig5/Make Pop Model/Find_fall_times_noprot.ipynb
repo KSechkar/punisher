{
 "cells": [
  {
   "cell_type": "code",
   "source": [
    "'''\n",
    "FIND_FALL_TIMES_NOPROT.PY: Find times taken to fall to low switch protein levels when the switch gene is mutated, with the synthetic protease ALSO ALSO MUTATED\n",
    "'''\n",
    "# By Kirill Sechkar\n",
    "\n",
    "# PACKAGE IMPORTS \n",
    "import numpy as np\n",
    "import jax\n",
    "import jax.numpy as jnp\n",
    "import functools\n",
    "from diffrax import diffeqsolve, Dopri5, ODETerm, SaveAt, PIDController, SteadyStateEvent\n",
    "import pandas as pd\n",
    "from bokeh import plotting as bkplot, models as bkmodels, layouts as bklayouts, io as bkio\n",
    "from bokeh.colors import RGB as bkRGB\n",
    "import time\n",
    "\n",
    "# set up jax\n",
    "from jax.lib import xla_bridge\n",
    "jax.config.update('jax_platform_name', 'gpu')\n",
    "jax.config.update(\"jax_enable_x64\", True)\n",
    "print(xla_bridge.get_backend().platform)\n",
    "\n",
    "# set up bokeh\n",
    "bkio.reset_output()\n",
    "bkio.output_notebook() \n",
    "\n",
    "# OWN CODE IMPORTS\n",
    "import synthetic_circuits as circuits\n",
    "from cell_model import *\n",
    "from get_steady_state import values_for_analytical\n",
    "from Fig2.design_guidance_tools import F_real_calc,F_req_calc\n",
    "from switching_time_estimation_tools import *"
   ],
   "metadata": {
    "collapsed": false,
    "ExecuteTime": {
     "end_time": "2024-06-13T11:01:19.181957Z",
     "start_time": "2024-06-13T11:01:18.042421Z"
    }
   },
   "outputs": [
    {
     "name": "stderr",
     "output_type": "stream",
     "text": [
      "An NVIDIA GPU may be present on this machine, but a CUDA-enabled jaxlib is not installed. Falling back to cpu.\n"
     ]
    },
    {
     "name": "stdout",
     "output_type": "stream",
     "text": [
      "cpu\n"
     ]
    },
    {
     "data": {
      "text/html": [
       "    <style>\n",
       "        .bk-notebook-logo {\n",
       "            display: block;\n",
       "            width: 20px;\n",
       "            height: 20px;\n",
       "            background-image: url(data:image/png;base64,iVBORw0KGgoAAAANSUhEUgAAABQAAAAUCAYAAACNiR0NAAAABHNCSVQICAgIfAhkiAAAAAlwSFlzAAALEgAACxIB0t1+/AAAABx0RVh0U29mdHdhcmUAQWRvYmUgRmlyZXdvcmtzIENTNui8sowAAAOkSURBVDiNjZRtaJVlGMd/1/08zzln5zjP1LWcU9N0NkN8m2CYjpgQYQXqSs0I84OLIC0hkEKoPtiH3gmKoiJDU7QpLgoLjLIQCpEsNJ1vqUOdO7ppbuec5+V+rj4ctwzd8IIbbi6u+8f1539dt3A78eXC7QizUF7gyV1fD1Yqg4JWz84yffhm0qkFqBogB9rM8tZdtwVsPUhWhGcFJngGeWrPzHm5oaMmkfEg1usvLFyc8jLRqDOMru7AyC8saQr7GG7f5fvDeH7Ej8CM66nIF+8yngt6HWaKh7k49Soy9nXurCi1o3qUbS3zWfrYeQDTB/Qj6kX6Ybhw4B+bOYoLKCC9H3Nu/leUTZ1JdRWkkn2ldcCamzrcf47KKXdAJllSlxAOkRgyHsGC/zRday5Qld9DyoM4/q/rUoy/CXh3jzOu3bHUVZeU+DEn8FInkPBFlu3+nW3Nw0mk6vCDiWg8CeJaxEwuHS3+z5RgY+YBR6V1Z1nxSOfoaPa4LASWxxdNp+VWTk7+4vzaou8v8PN+xo+KY2xsw6une2frhw05CTYOmQvsEhjhWjn0bmXPjpE1+kplmmkP3suftwTubK9Vq22qKmrBhpY4jvd5afdRA3wGjFAgcnTK2s4hY0/GPNIb0nErGMCRxWOOX64Z8RAC4oCXdklmEvcL8o0BfkNK4lUg9HTl+oPlQxdNo3Mg4Nv175e/1LDGzZen30MEjRUtmXSfiTVu1kK8W4txyV6BMKlbgk3lMwYCiusNy9fVfvvwMxv8Ynl6vxoByANLTWplvuj/nF9m2+PDtt1eiHPBr1oIfhCChQMBw6Aw0UulqTKZdfVvfG7VcfIqLG9bcldL/+pdWTLxLUy8Qq38heUIjh4XlzZxzQm19lLFlr8vdQ97rjZVOLf8nclzckbcD4wxXMidpX30sFd37Fv/GtwwhzhxGVAprjbg0gCAEeIgwCZyTV2Z1REEW8O4py0wsjeloKoMr6iCY6dP92H6Vw/oTyICIthibxjm/DfN9lVz8IqtqKYLUXfoKVMVQVVJOElGjrnnUt9T9wbgp8AyYKaGlqingHZU/uG2NTZSVqwHQTWkx9hxjkpWDaCg6Ckj5qebgBVbT3V3NNXMSiWSDdGV3hrtzla7J+duwPOToIg42ChPQOQjspnSlp1V+Gjdged7+8UN5CRAV7a5EdFNwCjEaBR27b3W890TE7g24NAP/mMDXRWrGoFPQI9ls/MWO2dWFAar/xcOIImbbpA3zgAAAABJRU5ErkJggg==);\n",
       "        }\n",
       "    </style>\n",
       "    <div>\n",
       "        <a href=\"https://bokeh.org\" target=\"_blank\" class=\"bk-notebook-logo\"></a>\n",
       "        <span id=\"f128a925-2453-45e9-9c54-e9e36a2bb2aa\">Loading BokehJS ...</span>\n",
       "    </div>\n"
      ]
     },
     "metadata": {},
     "output_type": "display_data"
    },
    {
     "data": {
      "application/javascript": "'use strict';\n(function(root) {\n  function now() {\n    return new Date();\n  }\n\n  const force = true;\n\n  if (typeof root._bokeh_onload_callbacks === \"undefined\" || force === true) {\n    root._bokeh_onload_callbacks = [];\n    root._bokeh_is_loading = undefined;\n  }\n\nconst JS_MIME_TYPE = 'application/javascript';\n  const HTML_MIME_TYPE = 'text/html';\n  const EXEC_MIME_TYPE = 'application/vnd.bokehjs_exec.v0+json';\n  const CLASS_NAME = 'output_bokeh rendered_html';\n\n  /**\n   * Render data to the DOM node\n   */\n  function render(props, node) {\n    const script = document.createElement(\"script\");\n    node.appendChild(script);\n  }\n\n  /**\n   * Handle when an output is cleared or removed\n   */\n  function handleClearOutput(event, handle) {\n    function drop(id) {\n      const view = Bokeh.index.get_by_id(id)\n      if (view != null) {\n        view.model.document.clear()\n        Bokeh.index.delete(view)\n      }\n    }\n\n    const cell = handle.cell;\n\n    const id = cell.output_area._bokeh_element_id;\n    const server_id = cell.output_area._bokeh_server_id;\n\n    // Clean up Bokeh references\n    if (id != null) {\n      drop(id)\n    }\n\n    if (server_id !== undefined) {\n      // Clean up Bokeh references\n      const cmd_clean = \"from bokeh.io.state import curstate; print(curstate().uuid_to_server['\" + server_id + \"'].get_sessions()[0].document.roots[0]._id)\";\n      cell.notebook.kernel.execute(cmd_clean, {\n        iopub: {\n          output: function(msg) {\n            const id = msg.content.text.trim()\n            drop(id)\n          }\n        }\n      });\n      // Destroy server and session\n      const cmd_destroy = \"import bokeh.io.notebook as ion; ion.destroy_server('\" + server_id + \"')\";\n      cell.notebook.kernel.execute(cmd_destroy);\n    }\n  }\n\n  /**\n   * Handle when a new output is added\n   */\n  function handleAddOutput(event, handle) {\n    const output_area = handle.output_area;\n    const output = handle.output;\n\n    // limit handleAddOutput to display_data with EXEC_MIME_TYPE content only\n    if ((output.output_type != \"display_data\") || (!Object.prototype.hasOwnProperty.call(output.data, EXEC_MIME_TYPE))) {\n      return\n    }\n\n    const toinsert = output_area.element.find(\".\" + CLASS_NAME.split(' ')[0]);\n\n    if (output.metadata[EXEC_MIME_TYPE][\"id\"] !== undefined) {\n      toinsert[toinsert.length - 1].firstChild.textContent = output.data[JS_MIME_TYPE];\n      // store reference to embed id on output_area\n      output_area._bokeh_element_id = output.metadata[EXEC_MIME_TYPE][\"id\"];\n    }\n    if (output.metadata[EXEC_MIME_TYPE][\"server_id\"] !== undefined) {\n      const bk_div = document.createElement(\"div\");\n      bk_div.innerHTML = output.data[HTML_MIME_TYPE];\n      const script_attrs = bk_div.children[0].attributes;\n      for (let i = 0; i < script_attrs.length; i++) {\n        toinsert[toinsert.length - 1].firstChild.setAttribute(script_attrs[i].name, script_attrs[i].value);\n        toinsert[toinsert.length - 1].firstChild.textContent = bk_div.children[0].textContent\n      }\n      // store reference to server id on output_area\n      output_area._bokeh_server_id = output.metadata[EXEC_MIME_TYPE][\"server_id\"];\n    }\n  }\n\n  function register_renderer(events, OutputArea) {\n\n    function append_mime(data, metadata, element) {\n      // create a DOM node to render to\n      const toinsert = this.create_output_subarea(\n        metadata,\n        CLASS_NAME,\n        EXEC_MIME_TYPE\n      );\n      this.keyboard_manager.register_events(toinsert);\n      // Render to node\n      const props = {data: data, metadata: metadata[EXEC_MIME_TYPE]};\n      render(props, toinsert[toinsert.length - 1]);\n      element.append(toinsert);\n      return toinsert\n    }\n\n    /* Handle when an output is cleared or removed */\n    events.on('clear_output.CodeCell', handleClearOutput);\n    events.on('delete.Cell', handleClearOutput);\n\n    /* Handle when a new output is added */\n    events.on('output_added.OutputArea', handleAddOutput);\n\n    /**\n     * Register the mime type and append_mime function with output_area\n     */\n    OutputArea.prototype.register_mime_type(EXEC_MIME_TYPE, append_mime, {\n      /* Is output safe? */\n      safe: true,\n      /* Index of renderer in `output_area.display_order` */\n      index: 0\n    });\n  }\n\n  // register the mime type if in Jupyter Notebook environment and previously unregistered\n  if (root.Jupyter !== undefined) {\n    const events = require('base/js/events');\n    const OutputArea = require('notebook/js/outputarea').OutputArea;\n\n    if (OutputArea.prototype.mime_types().indexOf(EXEC_MIME_TYPE) == -1) {\n      register_renderer(events, OutputArea);\n    }\n  }\n  if (typeof (root._bokeh_timeout) === \"undefined\" || force === true) {\n    root._bokeh_timeout = Date.now() + 5000;\n    root._bokeh_failed_load = false;\n  }\n\n  const NB_LOAD_WARNING = {'data': {'text/html':\n     \"<div style='background-color: #fdd'>\\n\"+\n     \"<p>\\n\"+\n     \"BokehJS does not appear to have successfully loaded. If loading BokehJS from CDN, this \\n\"+\n     \"may be due to a slow or bad network connection. Possible fixes:\\n\"+\n     \"</p>\\n\"+\n     \"<ul>\\n\"+\n     \"<li>re-rerun `output_notebook()` to attempt to load from CDN again, or</li>\\n\"+\n     \"<li>use INLINE resources instead, as so:</li>\\n\"+\n     \"</ul>\\n\"+\n     \"<code>\\n\"+\n     \"from bokeh.resources import INLINE\\n\"+\n     \"output_notebook(resources=INLINE)\\n\"+\n     \"</code>\\n\"+\n     \"</div>\"}};\n\n  function display_loaded(error = null) {\n    const el = document.getElementById(\"f128a925-2453-45e9-9c54-e9e36a2bb2aa\");\n    if (el != null) {\n      const html = (() => {\n        if (typeof root.Bokeh === \"undefined\") {\n          if (error == null) {\n            return \"BokehJS is loading ...\";\n          } else {\n            return \"BokehJS failed to load.\";\n          }\n        } else {\n          const prefix = `BokehJS ${root.Bokeh.version}`;\n          if (error == null) {\n            return `${prefix} successfully loaded.`;\n          } else {\n            return `${prefix} <b>encountered errors</b> while loading and may not function as expected.`;\n          }\n        }\n      })();\n      el.innerHTML = html;\n\n      if (error != null) {\n        const wrapper = document.createElement(\"div\");\n        wrapper.style.overflow = \"auto\";\n        wrapper.style.height = \"5em\";\n        wrapper.style.resize = \"vertical\";\n        const content = document.createElement(\"div\");\n        content.style.fontFamily = \"monospace\";\n        content.style.whiteSpace = \"pre-wrap\";\n        content.style.backgroundColor = \"rgb(255, 221, 221)\";\n        content.textContent = error.stack ?? error.toString();\n        wrapper.append(content);\n        el.append(wrapper);\n      }\n    } else if (Date.now() < root._bokeh_timeout) {\n      setTimeout(() => display_loaded(error), 100);\n    }\n  }\n\n  function run_callbacks() {\n    try {\n      root._bokeh_onload_callbacks.forEach(function(callback) {\n        if (callback != null)\n          callback();\n      });\n    } finally {\n      delete root._bokeh_onload_callbacks\n    }\n    console.debug(\"Bokeh: all callbacks have finished\");\n  }\n\n  function load_libs(css_urls, js_urls, callback) {\n    if (css_urls == null) css_urls = [];\n    if (js_urls == null) js_urls = [];\n\n    root._bokeh_onload_callbacks.push(callback);\n    if (root._bokeh_is_loading > 0) {\n      console.debug(\"Bokeh: BokehJS is being loaded, scheduling callback at\", now());\n      return null;\n    }\n    if (js_urls == null || js_urls.length === 0) {\n      run_callbacks();\n      return null;\n    }\n    console.debug(\"Bokeh: BokehJS not loaded, scheduling load and callback at\", now());\n    root._bokeh_is_loading = css_urls.length + js_urls.length;\n\n    function on_load() {\n      root._bokeh_is_loading--;\n      if (root._bokeh_is_loading === 0) {\n        console.debug(\"Bokeh: all BokehJS libraries/stylesheets loaded\");\n        run_callbacks()\n      }\n    }\n\n    function on_error(url) {\n      console.error(\"failed to load \" + url);\n    }\n\n    for (let i = 0; i < css_urls.length; i++) {\n      const url = css_urls[i];\n      const element = document.createElement(\"link\");\n      element.onload = on_load;\n      element.onerror = on_error.bind(null, url);\n      element.rel = \"stylesheet\";\n      element.type = \"text/css\";\n      element.href = url;\n      console.debug(\"Bokeh: injecting link tag for BokehJS stylesheet: \", url);\n      document.body.appendChild(element);\n    }\n\n    for (let i = 0; i < js_urls.length; i++) {\n      const url = js_urls[i];\n      const element = document.createElement('script');\n      element.onload = on_load;\n      element.onerror = on_error.bind(null, url);\n      element.async = false;\n      element.src = url;\n      console.debug(\"Bokeh: injecting script tag for BokehJS library: \", url);\n      document.head.appendChild(element);\n    }\n  };\n\n  function inject_raw_css(css) {\n    const element = document.createElement(\"style\");\n    element.appendChild(document.createTextNode(css));\n    document.body.appendChild(element);\n  }\n\n  const js_urls = [\"https://cdn.bokeh.org/bokeh/release/bokeh-3.4.0.min.js\", \"https://cdn.bokeh.org/bokeh/release/bokeh-gl-3.4.0.min.js\", \"https://cdn.bokeh.org/bokeh/release/bokeh-widgets-3.4.0.min.js\", \"https://cdn.bokeh.org/bokeh/release/bokeh-tables-3.4.0.min.js\", \"https://cdn.bokeh.org/bokeh/release/bokeh-mathjax-3.4.0.min.js\"];\n  const css_urls = [];\n\n  const inline_js = [    function(Bokeh) {\n      Bokeh.set_log_level(\"info\");\n    },\nfunction(Bokeh) {\n    }\n  ];\n\n  function run_inline_js() {\n    if (root.Bokeh !== undefined || force === true) {\n      try {\n            for (let i = 0; i < inline_js.length; i++) {\n      inline_js[i].call(root, root.Bokeh);\n    }\n\n      } catch (error) {display_loaded(error);throw error;\n      }if (force === true) {\n        display_loaded();\n      }} else if (Date.now() < root._bokeh_timeout) {\n      setTimeout(run_inline_js, 100);\n    } else if (!root._bokeh_failed_load) {\n      console.log(\"Bokeh: BokehJS failed to load within specified timeout.\");\n      root._bokeh_failed_load = true;\n    } else if (force !== true) {\n      const cell = $(document.getElementById(\"f128a925-2453-45e9-9c54-e9e36a2bb2aa\")).parents('.cell').data().cell;\n      cell.output_area.append_execute_result(NB_LOAD_WARNING)\n    }\n  }\n\n  if (root._bokeh_is_loading === 0) {\n    console.debug(\"Bokeh: BokehJS loaded, going straight to plotting\");\n    run_inline_js();\n  } else {\n    load_libs(css_urls, js_urls, function() {\n      console.debug(\"Bokeh: BokehJS plotting callback run at\", now());\n      run_inline_js();\n    });\n  }\n}(window));",
      "application/vnd.bokehjs_load.v0+json": "'use strict';\n(function(root) {\n  function now() {\n    return new Date();\n  }\n\n  const force = true;\n\n  if (typeof root._bokeh_onload_callbacks === \"undefined\" || force === true) {\n    root._bokeh_onload_callbacks = [];\n    root._bokeh_is_loading = undefined;\n  }\n\n\n  if (typeof (root._bokeh_timeout) === \"undefined\" || force === true) {\n    root._bokeh_timeout = Date.now() + 5000;\n    root._bokeh_failed_load = false;\n  }\n\n  const NB_LOAD_WARNING = {'data': {'text/html':\n     \"<div style='background-color: #fdd'>\\n\"+\n     \"<p>\\n\"+\n     \"BokehJS does not appear to have successfully loaded. If loading BokehJS from CDN, this \\n\"+\n     \"may be due to a slow or bad network connection. Possible fixes:\\n\"+\n     \"</p>\\n\"+\n     \"<ul>\\n\"+\n     \"<li>re-rerun `output_notebook()` to attempt to load from CDN again, or</li>\\n\"+\n     \"<li>use INLINE resources instead, as so:</li>\\n\"+\n     \"</ul>\\n\"+\n     \"<code>\\n\"+\n     \"from bokeh.resources import INLINE\\n\"+\n     \"output_notebook(resources=INLINE)\\n\"+\n     \"</code>\\n\"+\n     \"</div>\"}};\n\n  function display_loaded(error = null) {\n    const el = document.getElementById(\"f128a925-2453-45e9-9c54-e9e36a2bb2aa\");\n    if (el != null) {\n      const html = (() => {\n        if (typeof root.Bokeh === \"undefined\") {\n          if (error == null) {\n            return \"BokehJS is loading ...\";\n          } else {\n            return \"BokehJS failed to load.\";\n          }\n        } else {\n          const prefix = `BokehJS ${root.Bokeh.version}`;\n          if (error == null) {\n            return `${prefix} successfully loaded.`;\n          } else {\n            return `${prefix} <b>encountered errors</b> while loading and may not function as expected.`;\n          }\n        }\n      })();\n      el.innerHTML = html;\n\n      if (error != null) {\n        const wrapper = document.createElement(\"div\");\n        wrapper.style.overflow = \"auto\";\n        wrapper.style.height = \"5em\";\n        wrapper.style.resize = \"vertical\";\n        const content = document.createElement(\"div\");\n        content.style.fontFamily = \"monospace\";\n        content.style.whiteSpace = \"pre-wrap\";\n        content.style.backgroundColor = \"rgb(255, 221, 221)\";\n        content.textContent = error.stack ?? error.toString();\n        wrapper.append(content);\n        el.append(wrapper);\n      }\n    } else if (Date.now() < root._bokeh_timeout) {\n      setTimeout(() => display_loaded(error), 100);\n    }\n  }\n\n  function run_callbacks() {\n    try {\n      root._bokeh_onload_callbacks.forEach(function(callback) {\n        if (callback != null)\n          callback();\n      });\n    } finally {\n      delete root._bokeh_onload_callbacks\n    }\n    console.debug(\"Bokeh: all callbacks have finished\");\n  }\n\n  function load_libs(css_urls, js_urls, callback) {\n    if (css_urls == null) css_urls = [];\n    if (js_urls == null) js_urls = [];\n\n    root._bokeh_onload_callbacks.push(callback);\n    if (root._bokeh_is_loading > 0) {\n      console.debug(\"Bokeh: BokehJS is being loaded, scheduling callback at\", now());\n      return null;\n    }\n    if (js_urls == null || js_urls.length === 0) {\n      run_callbacks();\n      return null;\n    }\n    console.debug(\"Bokeh: BokehJS not loaded, scheduling load and callback at\", now());\n    root._bokeh_is_loading = css_urls.length + js_urls.length;\n\n    function on_load() {\n      root._bokeh_is_loading--;\n      if (root._bokeh_is_loading === 0) {\n        console.debug(\"Bokeh: all BokehJS libraries/stylesheets loaded\");\n        run_callbacks()\n      }\n    }\n\n    function on_error(url) {\n      console.error(\"failed to load \" + url);\n    }\n\n    for (let i = 0; i < css_urls.length; i++) {\n      const url = css_urls[i];\n      const element = document.createElement(\"link\");\n      element.onload = on_load;\n      element.onerror = on_error.bind(null, url);\n      element.rel = \"stylesheet\";\n      element.type = \"text/css\";\n      element.href = url;\n      console.debug(\"Bokeh: injecting link tag for BokehJS stylesheet: \", url);\n      document.body.appendChild(element);\n    }\n\n    for (let i = 0; i < js_urls.length; i++) {\n      const url = js_urls[i];\n      const element = document.createElement('script');\n      element.onload = on_load;\n      element.onerror = on_error.bind(null, url);\n      element.async = false;\n      element.src = url;\n      console.debug(\"Bokeh: injecting script tag for BokehJS library: \", url);\n      document.head.appendChild(element);\n    }\n  };\n\n  function inject_raw_css(css) {\n    const element = document.createElement(\"style\");\n    element.appendChild(document.createTextNode(css));\n    document.body.appendChild(element);\n  }\n\n  const js_urls = [\"https://cdn.bokeh.org/bokeh/release/bokeh-3.4.0.min.js\", \"https://cdn.bokeh.org/bokeh/release/bokeh-gl-3.4.0.min.js\", \"https://cdn.bokeh.org/bokeh/release/bokeh-widgets-3.4.0.min.js\", \"https://cdn.bokeh.org/bokeh/release/bokeh-tables-3.4.0.min.js\", \"https://cdn.bokeh.org/bokeh/release/bokeh-mathjax-3.4.0.min.js\"];\n  const css_urls = [];\n\n  const inline_js = [    function(Bokeh) {\n      Bokeh.set_log_level(\"info\");\n    },\nfunction(Bokeh) {\n    }\n  ];\n\n  function run_inline_js() {\n    if (root.Bokeh !== undefined || force === true) {\n      try {\n            for (let i = 0; i < inline_js.length; i++) {\n      inline_js[i].call(root, root.Bokeh);\n    }\n\n      } catch (error) {display_loaded(error);throw error;\n      }if (force === true) {\n        display_loaded();\n      }} else if (Date.now() < root._bokeh_timeout) {\n      setTimeout(run_inline_js, 100);\n    } else if (!root._bokeh_failed_load) {\n      console.log(\"Bokeh: BokehJS failed to load within specified timeout.\");\n      root._bokeh_failed_load = true;\n    } else if (force !== true) {\n      const cell = $(document.getElementById(\"f128a925-2453-45e9-9c54-e9e36a2bb2aa\")).parents('.cell').data().cell;\n      cell.output_area.append_execute_result(NB_LOAD_WARNING)\n    }\n  }\n\n  if (root._bokeh_is_loading === 0) {\n    console.debug(\"Bokeh: BokehJS loaded, going straight to plotting\");\n    run_inline_js();\n  } else {\n    load_libs(css_urls, js_urls, function() {\n      console.debug(\"Bokeh: BokehJS plotting callback run at\", now());\n      run_inline_js();\n    });\n  }\n}(window));"
     },
     "metadata": {},
     "output_type": "display_data"
    }
   ],
   "execution_count": 1
  },
  {
   "metadata": {
    "ExecuteTime": {
     "end_time": "2024-06-13T11:01:19.185151Z",
     "start_time": "2024-06-13T11:01:19.182897Z"
    }
   },
   "cell_type": "code",
   "source": [
    "# INITIALISE CELL MODEL, LOAD THE CIRCUIT\n",
    "\n",
    "# initialise cell model\n",
    "cellmodel_auxil = CellModelAuxiliary()  # auxiliary tools for simulating the model and plotting simulation outcomes\n",
    "par = cellmodel_auxil.default_params()  # get default parameter values\n",
    "init_conds = cellmodel_auxil.default_init_conds(par)  # get default initial conditions\n",
    "\n",
    "# load synthetic gene circuit\n",
    "ode_with_circuit, circuit_F_calc, par, init_conds, circuit_genes, circuit_miscs, circuit_name2pos, circuit_styles, circuit_v = cellmodel_auxil.add_circuit(\n",
    "    circuits.punisher_xtra_initialise,\n",
    "    circuits.punisher_xtra_ode,\n",
    "    circuits.punisher_xtra_F_calc,\n",
    "    par, init_conds,\n",
    "    circuit_v=circuits.punisher_xtra_v)  # load the circuit"
   ],
   "outputs": [],
   "execution_count": 2
  },
  {
   "cell_type": "code",
   "source": [
    "# PARAMETERISE THE CIRCUIT\n",
    "\n",
    "# BURDENSOME SYNTHETIC GENE\n",
    "par['c_xtra'] = 1\n",
    "par['a_xtra'] = 1e5\n",
    "\n",
    "# PUNISHER\n",
    "# switch gene conc\n",
    "par['c_switch'] = 10.0  # gene concentration (nM)\n",
    "par['a_switch'] = 400.0  # promoter strength (unitless)\n",
    "par['d_switch']=0.01836\n",
    "# integrase - expressed from the switch gene's operon, not its own gene => c_int, a_int irrelevant\n",
    "par['k+_int'] = par['k+_switch']/80.0  # RBS weaker than for the switch gene\n",
    "par['d_int'] = 0.0#0.01836 # rate of integrase degradation per protease molecule (1/nM/h)\n",
    "# CAT (antibiotic resistance) gene\n",
    "init_conds['cat_pb'] = 10.0  # gene concentration (nM) - INITIAL CONDITION< NOT PARAMETER as it can be cut out by the integrase\n",
    "par['a_cat'] = 500.0  # promoter strength (unitless)\n",
    "# synthetic protease gene\n",
    "par['c_prot'] = 10.0  # gene concentration (nM)\n",
    "par['a_prot'] = 25.0  # promoter strength (unitless)\n",
    "init_conds['p_prot'] = 1500.0 # if zero at start, the punisher's triggered prematurely\n",
    "\n",
    "# punisher's transcription regulation function\n",
    "par['K_switch'] = 300.0  # Half-saturation constant for the self-activating switch gene promoter (nM)\n",
    "par['eta_switch'] = 2 # Hill coefficient for the self-activating switch gene promoter (unitless)\n",
    "par['baseline_switch'] = 0.025  # Baseline value of the switch gene's transcription activation function\n",
    "par['baseline_switch_alt'] = 0\n",
    "par['p_switch_ac_frac'] = 0.85  # active fraction of protein (i.e. share of molecules bound by the inducer)\n",
    "\n",
    "# CULTURE MEDIUM\n",
    "init_conds['s'] = 0.5\n",
    "par['h_ext'] = 10.5 * (10.0 ** 3)\n",
    "\n",
    "# LOOKING AT TRANSITIONS WITH CAT AWLAYS PRESENT => INTEGRASE INACTIVE\n",
    "par['k_sxf']=0.0"
   ],
   "metadata": {
    "collapsed": false,
    "ExecuteTime": {
     "end_time": "2024-06-13T11:01:19.196318Z",
     "start_time": "2024-06-13T11:01:19.186655Z"
    }
   },
   "outputs": [],
   "execution_count": 3
  },
  {
   "metadata": {
    "ExecuteTime": {
     "end_time": "2024-06-13T11:01:19.205367Z",
     "start_time": "2024-06-13T11:01:19.197309Z"
    }
   },
   "cell_type": "code",
   "source": [
    "# SET DETERMINISTIC SIMULATION PARAMETERS\n",
    "\n",
    "# diffrax simulator\n",
    "savetimestep = 0.1  # save time step\n",
    "rtol = 1e-6  # relative tolerance for the ODE solver\n",
    "atol = 1e-6  # absolute tolerance for the ODE solver"
   ],
   "outputs": [],
   "execution_count": 4
  },
  {
   "cell_type": "code",
   "source": [
    "# SET TAU-LEAP SIMULATION PARAMETERS\n",
    "\n",
    "tau = 5e-7  # simulation time step\n",
    "tau_odestep = 5e-7  # number of ODE integration steps in a single tau-leap step (smaller than tau)\n",
    "tau_savetimestep = 1e-2  # save time step a multiple of tau\n",
    "key_seeds=np.arange(0,30000,1) # random number generator seeds - NUMBER OF KEYS DEFINES NUMBER OF TRAJECTORIES\n",
    "key_seeds_no_xtra=key_seeds.copy()  # same number of trajectories for the case with the xtra gene absent\n",
    "tau_leap_sim_duration=10 # duration of the tau-leap simulation (h)"
   ],
   "metadata": {
    "collapsed": false,
    "ExecuteTime": {
     "end_time": "2024-06-13T11:01:19.214066Z",
     "start_time": "2024-06-13T11:01:19.206273Z"
    }
   },
   "outputs": [],
   "execution_count": 5
  },
  {
   "cell_type": "code",
   "source": [
    "# DEFINE SWITCH STATES FOR ALL GENES PRESENT: LOW STATE FROM THE CASE *WITH* PROTEASE\n",
    "\n",
    "# get the cellular variables in steady state without burden\n",
    "e, F_r, h, xis, Ps = values_for_analytical(par, ode_with_circuit, init_conds,\n",
    "                                          circuit_genes, circuit_miscs,\n",
    "                                          circuit_name2pos,\n",
    "                                          circuit_F_calc)\n",
    "# record the cellular variables\n",
    "cellvars = {'e': e, 'F_r': F_r, # translation elongation rate and ribosome trnscription regulation\n",
    "            'h': h, # intacellular chlorampenicol concentration\n",
    "            # burden values\n",
    "            'xi_a': xis['a'], 'xi_r': xis['r'], 'xi_other_genes': xis['other'], 'xi_cat': xis['cat'],\n",
    "            'xi_switch_max': xis['switch (max)'], 'xi_int_max': xis['int (max)'], 'xi_prot': xis['prot'],\n",
    "            # protein degradation correction factors for the switch protein and the integrase\n",
    "            'P_switch': Ps['switch'], 'P_int': Ps['int']}\n",
    "xi_total = xis['a'] + xis['r'] + xis['other'] + xis['cat'] + xis['switch (max)'] + xis['int (max)'] + xis['prot'] # total burden\n",
    "xi_no_xtra = xi_total - xis['other'] # burden without the burdensome gene\n",
    "\n",
    "# greatest possible p_switch level - for zero extra burden so that it's max across all conditions\n",
    "p_switch_upper_bound = np.ceil(cellvars['xi_switch_max'] * (1/(1+cellvars['P_switch'])) / (\n",
    "        cellvars['xi_switch_max'] + cellvars['xi_int_max'] + cellvars['xi_prot'] + cellvars['xi_cat'] + cellvars['xi_a'] + cellvars['xi_r']\n",
    "        ) * par['M'] * (1 - par['phi_q']) / par['n_switch'])  # upper bound for p_switch (to get the high equilibrium)\n",
    "\n",
    "# axis of p_switch values - there can only be an integer number of proteins\n",
    "p_switches=np.arange(0,p_switch_upper_bound+0.1,1)\n",
    "\n",
    "# define function for calculating the squared difference between the required and actual F values\n",
    "sqdiff = lambda p_switch: (F_real_calc(p_switch, par) - F_req_calc(p_switch, xi_total, par, cellvars)) ** 2\n",
    "\n",
    "# find the squared differences\n",
    "sqdiffs=np.zeros_like(p_switches)\n",
    "for i in range(0,len(p_switches)):\n",
    "    sqdiffs[i]=sqdiff(p_switches[i])\n",
    "\n",
    "# find the local minima and maxima in squared differences\n",
    "loc_minima=[]\n",
    "loc_maxima=[]\n",
    "for i in range(1,len(p_switches)-1):\n",
    "    # detect a local minimum\n",
    "    if(sqdiffs[i]<=sqdiffs[i-1] and sqdiffs[i]<=sqdiffs[i+1]):\n",
    "        loc_minima.append(p_switches[i])\n",
    "    # detect a local maximum\n",
    "    elif(sqdiffs[i]>=sqdiffs[i-1] and sqdiffs[i]>=sqdiffs[i+1]):\n",
    "        loc_maxima.append(p_switches[i])\n",
    "\n",
    "# print results\n",
    "print('Case with the protease present...')\n",
    "print('Local minima in squared difference:',loc_minima)\n",
    "print('Local maxima in squared difference:',loc_maxima)\n",
    "\n",
    "# based on our prior findings, with burden present we expect two stable equilibria and one unstable equilibrium between them\n",
    "# this corresponds to three local minima and two local maxima in the squared difference between F values\n",
    "if (len(loc_minima)==3 and len(loc_maxima)==2):\n",
    "    p_switch_low=loc_minima[0]  # low state standing for low-concentration stable equilibrium - WILL BE USED FURTHER ON\n",
    "    p_switch_high_wprot=loc_minima[2] # high state standing for high-concentration stable equilibrium\n",
    "    p_switch_boundary_wprot=loc_minima[1] # boundary between states standing for unstable equilibrium\n",
    "    print('Low state representative p_switch:',p_switch_low)\n",
    "    print('High state representative p_switch:',p_switch_high_wprot)\n",
    "    print('Boundary between states:',p_switch_boundary_wprot)\n",
    "else:\n",
    "    print('Something weird is going on')"
   ],
   "metadata": {
    "collapsed": false,
    "ExecuteTime": {
     "end_time": "2024-06-13T11:01:28.108003Z",
     "start_time": "2024-06-13T11:01:19.214960Z"
    }
   },
   "outputs": [
    {
     "name": "stdout",
     "output_type": "stream",
     "text": [
      "Case with the protease present...\n",
      "Local minima in squared difference: [35.0, 102.0, 878.0]\n",
      "Local maxima in squared difference: [67.0, 461.0]\n",
      "Low state representative p_switch: 35.0\n",
      "High state representative p_switch: 878.0\n",
      "Boundary between states: 102.0\n"
     ]
    }
   ],
   "execution_count": 6
  },
  {
   "metadata": {
    "ExecuteTime": {
     "end_time": "2024-06-13T11:01:36.709966Z",
     "start_time": "2024-06-13T11:01:28.109059Z"
    }
   },
   "cell_type": "code",
   "source": [
    "# DEFINE SWITCH STATES FOR ALL GENES PRESENT: HIGH STATE FROM THE CASE *WITHOUT* PROTEASE\n",
    "\n",
    "# system parameters but protease absent\n",
    "par_noprot=par.copy()\n",
    "par_noprot['func_prot']=0.0\n",
    "\n",
    "# get the cellular variables in steady state without burden\n",
    "e, F_r, h, xis_noprot, Ps_noprot = values_for_analytical(par_noprot, ode_with_circuit, init_conds,\n",
    "                                          circuit_genes, circuit_miscs,\n",
    "                                          circuit_name2pos,\n",
    "                                          circuit_F_calc)\n",
    "# record the cellular variables\n",
    "cellvars_noprot = {'e': e, 'F_r': F_r, # translation elongation rate and ribosome trnscription regulation\n",
    "            'h': h, # intacellular chlorampenicol concentration\n",
    "            # burden values\n",
    "            'xi_a': xis_noprot['a'], 'xi_r': xis_noprot['r'], 'xi_other_genes': xis_noprot['other'], 'xi_cat': xis_noprot['cat'],\n",
    "            'xi_switch_max': xis_noprot['switch (max)'], 'xi_int_max': xis_noprot['int (max)'], 'xi_prot': xis_noprot['prot'],\n",
    "            # protein degradation correction factors for the switch protein and the integrase\n",
    "            'P_switch': Ps_noprot['switch'], 'P_int': Ps_noprot['int']}\n",
    "xi_total_noprot = xis_noprot['a'] + xis_noprot['r'] + xis_noprot['other'] + xis_noprot['cat'] + xis_noprot['switch (max)'] + xis_noprot['int (max)'] + xis_noprot['prot'] # total burden\n",
    "xi_no_xtra_noprot = xi_total_noprot - xis_noprot['other'] # burden without the burdensome gene\n",
    "\n",
    "# greatest possible p_switch level - for zero extra burden so that it's max across all conditions\n",
    "p_switch_upper_bound_noprot = np.ceil(cellvars_noprot['xi_switch_max'] * (1/(1+cellvars_noprot['P_switch'])) / (\n",
    "        xi_no_xtra_noprot\n",
    "        ) * par['M'] * (1 - par['phi_q']) / par['n_switch'])  # upper bound for p_switch (to get the high equilibrium)\n",
    "\n",
    "# axis of p_switch values - there can only be an integer number of proteins\n",
    "p_switches_noprot=np.arange(0,p_switch_upper_bound_noprot+0.1,1)\n",
    "\n",
    "# define function for calculating the squared difference between the required and actual F values\n",
    "sqdiff_noprot = lambda p_switch: (F_real_calc(p_switch, par_noprot) - F_req_calc(p_switch, xi_total_noprot, par_noprot, cellvars_noprot)) ** 2\n",
    "\n",
    "# find the squared differences\n",
    "sqdiffs_noprot=np.zeros_like(p_switches_noprot)\n",
    "for i in range(0,len(p_switches_noprot)):\n",
    "    sqdiffs_noprot[i]=sqdiff_noprot(p_switches_noprot[i])\n",
    "\n",
    "# find the local minima and maxima in squared differences\n",
    "loc_minima_noprot=[]\n",
    "loc_maxima_noprot=[]\n",
    "for i in range(1,len(p_switches_noprot)-1):\n",
    "    # detect a local minimum\n",
    "    if(sqdiffs_noprot[i]<=sqdiffs_noprot[i-1] and sqdiffs_noprot[i]<=sqdiffs_noprot[i+1]):\n",
    "        loc_minima_noprot.append(p_switches_noprot[i])\n",
    "    # detect a local maximum\n",
    "    elif(sqdiffs_noprot[i]>=sqdiffs_noprot[i-1] and sqdiffs_noprot[i]>=sqdiffs_noprot[i+1]):\n",
    "        loc_maxima_noprot.append(p_switches_noprot[i])\n",
    "\n",
    "# print results\n",
    "print('Local minima in squared difference:',loc_minima_noprot)\n",
    "print('Local maxima in squared difference:',loc_maxima_noprot)\n",
    "\n",
    "# based on our prior findings, with extra burden absent we expect a high-conc. stable equilibrium and a pseudo-equilibrium at low conc.\n",
    "# this corresponds to two local minima and a local maximum in the squared difference between F values\n",
    "if (len(loc_minima_noprot)==2 and len(loc_maxima_noprot)==1):\n",
    "    p_switch_low_noprot=loc_minima_noprot[0]  # low state standing for low-concentration pseudo-equilibrium\n",
    "    p_switch_high_noprot=loc_minima_noprot[1] # high state standing for high-concentration stable equilibrium - will be used further on\n",
    "    p_switch_boundary_noprot=loc_maxima_noprot[0] # assuming the same boundary as with burden present\n",
    "\n",
    "    print('Low state representative p_switch:',p_switch_low_noprot)\n",
    "    print('High state representative p_switch:',p_switch_high_noprot)\n",
    "    print('Boundary between states:',p_switch_boundary_noprot)\n",
    "else:\n",
    "    print('Something weird is going on')\n"
   ],
   "outputs": [
    {
     "name": "stdout",
     "output_type": "stream",
     "text": [
      "Local minima in squared difference: [8.0, 8084.0]\n",
      "Local maxima in squared difference: [1185.0]\n",
      "Low state representative p_switch: 8.0\n",
      "High state representative p_switch: 8084.0\n",
      "Boundary between states: 1185.0\n"
     ]
    }
   ],
   "execution_count": 7
  },
  {
   "metadata": {
    "ExecuteTime": {
     "end_time": "2024-06-13T11:01:36.713949Z",
     "start_time": "2024-06-13T11:01:36.711457Z"
    }
   },
   "cell_type": "code",
   "source": [
    "# SUMMARISE THE STATES IDENTIFIED:\n",
    "\n",
    "print('Low state representative p_switch (from the case with protease): ', p_switch_low)\n",
    "print('High state representative p_switch (from the case with NO protease): ', p_switch_high_noprot)"
   ],
   "outputs": [
    {
     "name": "stdout",
     "output_type": "stream",
     "text": [
      "Low state representative p_switch (from the case with protease):  35.0\n",
      "High state representative p_switch (from the case with NO protease):  8084.0\n"
     ]
    }
   ],
   "execution_count": 8
  },
  {
   "cell_type": "code",
   "source": [
    "# SIMULATE FOR XTRA GENE PRESENT\n",
    "\n",
    "# GET HIGH-EXPRESSION DETERMINISTIC STEADY STATE FOR ALL GENES PRESENT, SAVE FOR THE PROTEASE\n",
    "# initial simulation to get the steady state without gene expression loss\n",
    "# there's only a single high-expression equilibrium present, so default initial condition is fine\n",
    "tf = (0, 50)  # simulation time frame\n",
    "sol=ode_sim(par_noprot,    # dictionary with model parameters\n",
    "            ode_with_circuit,   #  ODE function for the cell with synthetic circuit\n",
    "            cellmodel_auxil.x0_from_init_conds(init_conds,circuit_genes,circuit_miscs),  # initial condition VECTOR\n",
    "            len(circuit_genes), len(circuit_miscs), circuit_name2pos, # dictionaries with circuit gene and miscellaneous specie names, species name to vector position decoder\n",
    "            cellmodel_auxil.synth_gene_params_for_jax(par,circuit_genes), # synthetic gene parameters for calculating k values\n",
    "            tf, jnp.arange(tf[0], tf[1]+savetimestep/2, savetimestep), # time frame and time axis for saving the system's state\n",
    "            rtol, atol)    # relative and absolute tolerances\n",
    "ts_det=np.array(sol.ts)\n",
    "xs_det=np.array(sol.ys)\n",
    "# get the steady state from the deterministic simulation\n",
    "det_steady_x = xs_det[-1, :]\n",
    "\n",
    "print('Integrase level in steady state:',det_steady_x[circuit_name2pos['p_int']])"
   ],
   "metadata": {
    "collapsed": false,
    "ExecuteTime": {
     "end_time": "2024-06-13T11:01:43.190395Z",
     "start_time": "2024-06-13T11:01:36.714927Z"
    }
   },
   "outputs": [
    {
     "name": "stdout",
     "output_type": "stream",
     "text": [
      "Integrase level in steady state: 100.8940064579702\n"
     ]
    }
   ],
   "execution_count": 9
  },
  {
   "metadata": {
    "ExecuteTime": {
     "end_time": "2024-06-13T11:01:43.193738Z",
     "start_time": "2024-06-13T11:01:43.191284Z"
    }
   },
   "cell_type": "code",
   "source": [
    "# SWITCH CONDITION DEFINITION\n",
    "\n",
    "# condition for falling to a state\n",
    "def switch_condition_fall(x,next_x,switch_boundary,pswitch_pos):\n",
    "    return jnp.logical_and(x[pswitch_pos]>switch_boundary,\n",
    "                           next_x[pswitch_pos]<=switch_boundary)"
   ],
   "outputs": [],
   "execution_count": 10
  },
  {
   "metadata": {
    "ExecuteTime": {
     "end_time": "2024-06-13T11:05:33.274337Z",
     "start_time": "2024-06-13T11:01:43.194765Z"
    }
   },
   "cell_type": "code",
   "source": [
    "# MEMORY-EFFICIENT FALL TIME DETERMINATION\n",
    "\n",
    "# we consider state switched when we come within  10% OF CHARACTERISTIC PROTEIN CONCENTRATION\n",
    "sc_high_to_low=lambda x, next_x: switch_condition_fall(x,next_x,1.1*p_switch_low,circuit_name2pos['p_switch']) # high to low switching\n",
    "sc_low_to_zero=lambda x, next_x: switch_condition_fall(x,next_x,0,circuit_name2pos['p_switch']) # low to zero switching\n",
    "\n",
    "# no switch gene present\n",
    "par_noprot_no_switch=par_noprot.copy()\n",
    "par_noprot_no_switch['func_switch'] = 0.0\n",
    "\n",
    "tf_hybrid = (ts_det[-1], ts_det[-1] + tau_leap_sim_duration)  # simulation time frame\n",
    "mRNA_count_scales, S, x0_tauleap, circuit_synpos2genename, keys0 = tauleap_sim_prep(par_noprot_no_switch, len(circuit_genes),\n",
    "                                                                                    len(circuit_miscs),\n",
    "                                                                                    circuit_name2pos, det_steady_x,\n",
    "                                                                                    key_seeds=key_seeds)\n",
    "\n",
    "high_to_low_fall_times_since_stochstart, low_to_zero_fall_times_since_stochstart, \\\n",
    "            final_keys_hybrid = tauleap_sim_switch(par_noprot_no_switch,  # dictionary with model parameters\n",
    "                                                    circuit_v,  # circuit reaction propensity calculator\n",
    "                                                    x0_tauleap, # initial condition VECTOR (processed to make sure random variables are appropriate integers)\n",
    "                                                    len(circuit_genes), len(circuit_miscs),\n",
    "                                                    circuit_name2pos,\n",
    "                                                    cellmodel_auxil.synth_gene_params_for_jax(par,\n",
    "                                                                                       circuit_genes), # synthetic gene parameters for calculating k values\n",
    "                                                    tf_hybrid, tau, tau_odestep, tau_savetimestep, # simulation parameters: time frame, tau leap step size, number of ode integration steps in a single tau leap step\n",
    "                                                    mRNA_count_scales, S, circuit_synpos2genename, # mRNA count scaling factor, stoichiometry matrix, synthetic gene number in list of synth. genes to name decoder\n",
    "                                                    keys0, # starting random number genereation key\n",
    "                                                    sc_high_to_low, sc_low_to_zero\n",
    "                                                    )  \n",
    "\n",
    "# record switching times in numpy arrays\n",
    "high_to_low_fall_times=np.array(high_to_low_fall_times_since_stochstart) # we need times of falling to zero since REACHING THE LOW STATE\n",
    "low_to_zero_fall_times=np.array(low_to_zero_fall_times_since_stochstart - high_to_low_fall_times) # we need times of falling to zero since REACHING THE LOW STATE\n",
    "\n",
    "# print results\n",
    "print('High-to-low fall times:',high_to_low_fall_times)\n",
    "print('Low-to-zero fall times:',low_to_zero_fall_times)\n",
    "\n",
    "# clean memory\n",
    "del final_keys_hybrid"
   ],
   "outputs": [
    {
     "name": "stdout",
     "output_type": "stream",
     "text": [
      "High-to-low fall times: [4.13 4.1  4.17]\n",
      "Low-to-zero fall times: [3.17 4.97 1.62]\n"
     ]
    }
   ],
   "execution_count": 11
  },
  {
   "metadata": {
    "ExecuteTime": {
     "end_time": "2024-06-13T11:05:34.013471Z",
     "start_time": "2024-06-13T11:05:33.275352Z"
    }
   },
   "cell_type": "code",
   "source": [
    "# ESTIMATE SWITCHING TIMES AND CONFIDENCE INTERVALS\n",
    "\n",
    "# high-to-low fall times\n",
    "N=len(key_seeds) # number of samples\n",
    "T=tau_leap_sim_duration # total simulation time\n",
    "print('Number of samples:',N)\n",
    "print('')\n",
    "print('Sampling time interval for high-to-low fall times:',T)\n",
    "high_to_low_mle=find_mle(high_to_low_fall_times,N,T) # maximum likelihood estimate\n",
    "high_to_low_leftconfint, high_to_low_rightconfint=np.array(find_confint(high_to_low_mle,N,T,0.05)) # 95% confidence interval\n",
    "print('High-to-low fall times MLE:',high_to_low_mle)\n",
    "print('High-to-low fall times 95% confidence interval:',high_to_low_leftconfint, high_to_low_rightconfint)\n",
    "\n",
    "print('')\n",
    "# low-to-zero fall times\n",
    "# in the case of fall times, construct sampling time interval artificially and artificially censor the sample\n",
    "T_low_to_zero=tau_leap_sim_duration - max(high_to_low_fall_times) # shortest-possible time interval\n",
    "low_to_zero_fall_times[low_to_zero_fall_times>=T_low_to_zero]=0 # artificially censor the sample\n",
    "print('Arificially constructed sampling time interval for low-to-zero fall times:',T_low_to_zero)\n",
    "\n",
    "low_to_zero_mle=find_mle(low_to_zero_fall_times,N,T_low_to_zero) # maximum likelihood estimate\n",
    "low_to_zero_leftconfint, low_to_zero_rightconfint=np.array(find_confint(low_to_zero_mle,N,T_low_to_zero,0.05)) # 95% confidence interval\n",
    "print('Low-to-zero fall times MLE:',low_to_zero_mle)\n",
    "print('Low-to-zero fall times 95% confidence interval:',low_to_zero_leftconfint, low_to_zero_rightconfint)"
   ],
   "outputs": [
    {
     "name": "stdout",
     "output_type": "stream",
     "text": [
      "Number of samples: 3\n",
      "\n",
      "Sampling time interval for high-to-low fall times: 10\n",
      "High-to-low fall times MLE: 4.133333333333334\n",
      "High-to-low fall times 95% confidence interval: 1.9008445857950806 17.41796959432456\n",
      "\n",
      "Arificially constructed sampling time interval for low-to-zero fall times: 5.83\n",
      "Low-to-zero fall times MLE: 3.253333333333334\n",
      "Low-to-zero fall times 95% confidence interval: 1.44247420423584 13.643614292078528\n"
     ]
    }
   ],
   "execution_count": 12
  },
  {
   "cell_type": "code",
   "source": [
    "# PLOT SWITCH TIMES\n",
    "hist_bins=100\n",
    "\n",
    "# HISTOGRAM OF FALL TIMES: HIGH TO LOW\n",
    "falltime_htl_hist_withburden=bkplot.figure(title='Distribution of high-to-low fall times',\n",
    "                                   x_axis_label='Fall time [h]',\n",
    "                                   y_axis_label='Frequency',\n",
    "                                   width=400,height=300)\n",
    "# get numpy histogram\n",
    "ft_htl_hist_withburden, ftl_htl_edges_withburden=np.histogram(high_to_low_fall_times,bins=hist_bins,density=False)\n",
    "# plot histogram\n",
    "falltime_htl_hist_withburden.quad(top=ft_htl_hist_withburden, bottom=0,\n",
    "                              left=ftl_htl_edges_withburden[:-1], right=ftl_htl_edges_withburden[1:],\n",
    "                            color='magenta')\n",
    "# mark mean fall time\n",
    "falltime_htl_hist_withburden.add_layout(bkmodels.Span(location=high_to_low_mle, dimension='height',\n",
    "                                              line_dash='dashed', line_color='navy', line_width=2, line_alpha=0.5))\n",
    "# mark 95% confidence interval for fall times\n",
    "falltime_htl_hist_withburden.add_layout(bkmodels.BoxAnnotation(left=high_to_low_leftconfint, right=high_to_low_rightconfint,\n",
    "                                                       fill_color='navy', fill_alpha=0.1)) # range\n",
    "\n",
    "# HISTOGRAM OF FALL TIMES: LOW TO ZERO\n",
    "falltime_lt0_hist_withburden=bkplot.figure(title='Distribution of low-to-zero fall times',\n",
    "                                   x_axis_label='Fall time [h]',\n",
    "                                   y_axis_label='Frequency',\n",
    "                                   width=400,height=300)\n",
    "# get numpy histogram\n",
    "ft_lt0_hist_withburden, ftl_lt0_edges_withburden=np.histogram(low_to_zero_fall_times,bins=hist_bins,density=False)\n",
    "# plot histogram\n",
    "falltime_lt0_hist_withburden.quad(top=ft_lt0_hist_withburden, bottom=0,\n",
    "                              left=ftl_lt0_edges_withburden[:-1], right=ftl_lt0_edges_withburden[1:],\n",
    "                            color='navy')\n",
    "# mark mean fall time\n",
    "falltime_lt0_hist_withburden.add_layout(bkmodels.Span(location=low_to_zero_mle, dimension='height',\n",
    "                                              line_dash='dashed', line_color='magenta', line_width=2, line_alpha=0.5))\n",
    "# mark 95% confidence interval for fall times\n",
    "falltime_lt0_hist_withburden.add_layout(bkmodels.BoxAnnotation(left=low_to_zero_leftconfint, right=low_to_zero_rightconfint,\n",
    "                                                       fill_color='magenta', fill_alpha=0.1)) # range\n",
    "\n",
    "# show plot\n",
    "hist_grid=bklayouts.grid([[falltime_htl_hist_withburden, falltime_lt0_hist_withburden]])\n",
    "\n",
    "bkplot.show(hist_grid)"
   ],
   "metadata": {
    "collapsed": false,
    "ExecuteTime": {
     "end_time": "2024-06-13T11:05:34.078401Z",
     "start_time": "2024-06-13T11:05:34.015102Z"
    }
   },
   "outputs": [
    {
     "data": {
      "text/html": [
       "\n",
       "  <div id=\"de11bfff-91d4-46da-a94d-dae4b703276f\" data-root-id=\"p1097\" style=\"display: contents;\"></div>\n"
      ]
     },
     "metadata": {},
     "output_type": "display_data"
    },
    {
     "data": {
      "application/javascript": "(function(root) {\n  function embed_document(root) {\n  const docs_json = {\"b204c16b-4650-48ba-bfae-a778bf9e4e54\":{\"version\":\"3.4.0\",\"title\":\"Bokeh Application\",\"roots\":[{\"type\":\"object\",\"name\":\"GridBox\",\"id\":\"p1097\",\"attributes\":{\"rows\":null,\"cols\":null,\"children\":[[{\"type\":\"object\",\"name\":\"Figure\",\"id\":\"p1001\",\"attributes\":{\"width\":400,\"height\":300,\"x_range\":{\"type\":\"object\",\"name\":\"DataRange1d\",\"id\":\"p1002\"},\"y_range\":{\"type\":\"object\",\"name\":\"DataRange1d\",\"id\":\"p1003\"},\"x_scale\":{\"type\":\"object\",\"name\":\"LinearScale\",\"id\":\"p1011\"},\"y_scale\":{\"type\":\"object\",\"name\":\"LinearScale\",\"id\":\"p1012\"},\"title\":{\"type\":\"object\",\"name\":\"Title\",\"id\":\"p1004\",\"attributes\":{\"text\":\"Distribution of high-to-low fall times\"}},\"renderers\":[{\"type\":\"object\",\"name\":\"GlyphRenderer\",\"id\":\"p1040\",\"attributes\":{\"data_source\":{\"type\":\"object\",\"name\":\"ColumnDataSource\",\"id\":\"p1034\",\"attributes\":{\"selected\":{\"type\":\"object\",\"name\":\"Selection\",\"id\":\"p1035\",\"attributes\":{\"indices\":[],\"line_indices\":[]}},\"selection_policy\":{\"type\":\"object\",\"name\":\"UnionRenderers\",\"id\":\"p1036\"},\"data\":{\"type\":\"map\",\"entries\":[[\"top\",{\"type\":\"ndarray\",\"array\":{\"type\":\"bytes\",\"data\":\"AQAAAAAAAAAAAAAAAAAAAAAAAAAAAAAAAAAAAAAAAAAAAAAAAAAAAAAAAAAAAAAAAAAAAAAAAAAAAAAAAAAAAAAAAAAAAAAAAAAAAAAAAAAAAAAAAAAAAAAAAAAAAAAAAAAAAAAAAAAAAAAAAAAAAAAAAAAAAAAAAAAAAAAAAAAAAAAAAAAAAAAAAAAAAAAAAAAAAAAAAAAAAAAAAAAAAAAAAAAAAAAAAQAAAAAAAAAAAAAAAAAAAAAAAAAAAAAAAAAAAAAAAAAAAAAAAAAAAAAAAAAAAAAAAAAAAAAAAAAAAAAAAAAAAAAAAAAAAAAAAAAAAAAAAAAAAAAAAAAAAAAAAAAAAAAAAAAAAAAAAAAAAAAAAAAAAAAAAAAAAAAAAAAAAAAAAAAAAAAAAAAAAAAAAAAAAAAAAAAAAAAAAAAAAAAAAAAAAAAAAAAAAAAAAAAAAAAAAAAAAAAAAAAAAAAAAAAAAAAAAAAAAAAAAAAAAAAAAAAAAAAAAAAAAAAAAAAAAAAAAAAAAAAAAQAAAA==\"},\"shape\":[100],\"dtype\":\"int32\",\"order\":\"little\"}],[\"left\",{\"type\":\"ndarray\",\"array\":{\"type\":\"bytes\",\"data\":\"ZmZmZmZmEEAs1JrmHWcQQPJBz2bVZxBAuK8D54xoEEB9HThnRGkQQEOLbOf7aRBACfmgZ7NqEEDPZtXnamsQQJXUCWgibBBAW0I+6NlsEEAgsHJokW0QQOYdp+hIbhBArIvbaABvEEBy+Q/pt28QQDhnRGlvcBBA/tR46SZxEEDDQq1p3nEQQImw4emVchBATx4Wak1zEEAVjErqBHQQQNv5fmq8dBBAoWez6nN1EEBm1edqK3YQQCxDHOvidhBA8rBQa5p3EEC4HoXrUXgQQH6MuWsJeRBARPrt68B5EEAKaCJseHoQQM/VVuwvexBAlUOLbOd7EEBbsb/snnwQQCEf9GxWfRBA54wo7Q1+EECt+lxtxX4QQHJoke18fxBAONbFbTSAEED+Q/rt64AQQMSxLm6jgRBAih9j7lqCEEBQjZduEoMQQBX7y+7JgxBA22gAb4GEEECh1jTvOIUQQGdEaW/whRBALbKd76eGEEDzH9JvX4cQQLiNBvAWiBBAfvs6cM6IEEBEaW/whYkQQArXo3A9ihBA0ETY8PSKEECWsgxxrIsQQFwgQfFjjBBAIY51cRuNEEDn+6nx0o0QQK1p3nGKjhBAc9cS8kGPEEA5RUdy+Y8QQP+ye/KwkBBAxCCwcmiREECKjuTyH5IQQFD8GHPXkhBAFmpN846TEEDc14FzRpQQQKJFtvP9lBBAZ7Pqc7WVEEAtIR/0bJYQQPOOU3QklxBAufyH9NuXEEB/arx0k5gQQEXY8PRKmRBACkYldQKaEEDQs1n1uZoQQJYhjnVxmxBAXI/C9SicEEAi/fZ14JwQQOhqK/aXnRBArthfdk+eEEBzRpT2Bp8QQDm0yHa+nxBA/yH99nWgEEDFjzF3LaEQQIv9ZffkoRBAUWuad5yiEEAW2c73U6MQQNxGA3gLpBBAorQ3+MKkEEBoImx4eqUQQC6QoPgxphBA9P3UeOmmEEC5awn5oKcQQH/ZPXlYqBBARUdy+Q+pEEALtaZ5x6kQQNEi2/l+qhBAl5APejarEEBc/kP67asQQCJseHqlrBBA6Nms+lytEEA=\"},\"shape\":[100],\"dtype\":\"float64\",\"order\":\"little\"}],[\"right\",{\"type\":\"ndarray\",\"array\":{\"type\":\"bytes\",\"data\":\"LNSa5h1nEEDyQc9m1WcQQLivA+eMaBBAfR04Z0RpEEBDi2zn+2kQQAn5oGezahBAz2bV52prEECV1AloImwQQFtCPujZbBBAILByaJFtEEDmHafoSG4QQKyL22gAbxBAcvkP6bdvEEA4Z0Rpb3AQQP7UeOkmcRBAw0Ktad5xEECJsOHplXIQQE8eFmpNcxBAFYxK6gR0EEDb+X5qvHQQQKFns+pzdRBAZtXnait2EEAsQxzr4nYQQPKwUGuadxBAuB6F61F4EEB+jLlrCXkQQET67evAeRBACmgibHh6EEDP1VbsL3sQQJVDi2znexBAW7G/7J58EEAhH/RsVn0QQOeMKO0NfhBArfpcbcV+EEByaJHtfH8QQDjWxW00gBBA/kP67euAEEDEsS5uo4EQQIofY+5aghBAUI2XbhKDEEAV+8vuyYMQQNtoAG+BhBBAodY07ziFEEBnRGlv8IUQQC2yne+nhhBA8x/Sb1+HEEC4jQbwFogQQH77OnDOiBBARGlv8IWJEEAK16NwPYoQQNBE2PD0ihBAlrIMcayLEEBcIEHxY4wQQCGOdXEbjRBA5/up8dKNEECtad5xio4QQHPXEvJBjxBAOUVHcvmPEED/snvysJAQQMQgsHJokRBAio7k8h+SEEBQ/Bhz15IQQBZqTfOOkxBA3NeBc0aUEECiRbbz/ZQQQGez6nO1lRBALSEf9GyWEEDzjlN0JJcQQLn8h/TblxBAf2q8dJOYEEBF2PD0SpkQQApGJXUCmhBA0LNZ9bmaEECWIY51cZsQQFyPwvUonBBAIv32deCcEEDoaiv2l50QQK7YX3ZPnhBAc0aU9gafEEA5tMh2vp8QQP8h/fZ1oBBAxY8xdy2hEECL/WX35KEQQFFrmnecohBAFtnO91OjEEDcRgN4C6QQQKK0N/jCpBBAaCJseHqlEEAukKD4MaYQQPT91HjpphBAuWsJ+aCnEEB/2T15WKgQQEVHcvkPqRBAC7WmecepEEDRItv5fqoQQJeQD3o2qxBAXP5D+u2rEEAibHh6pawQQOjZrPpcrRBArkfhehSuEEA=\"},\"shape\":[100],\"dtype\":\"float64\",\"order\":\"little\"}]]}}},\"view\":{\"type\":\"object\",\"name\":\"CDSView\",\"id\":\"p1041\",\"attributes\":{\"filter\":{\"type\":\"object\",\"name\":\"AllIndices\",\"id\":\"p1042\"}}},\"glyph\":{\"type\":\"object\",\"name\":\"Quad\",\"id\":\"p1037\",\"attributes\":{\"left\":{\"type\":\"field\",\"field\":\"left\"},\"right\":{\"type\":\"field\",\"field\":\"right\"},\"bottom\":{\"type\":\"value\",\"value\":0},\"top\":{\"type\":\"field\",\"field\":\"top\"},\"line_color\":{\"type\":\"value\",\"value\":\"magenta\"},\"fill_color\":{\"type\":\"value\",\"value\":\"magenta\"},\"hatch_color\":{\"type\":\"value\",\"value\":\"magenta\"}}},\"nonselection_glyph\":{\"type\":\"object\",\"name\":\"Quad\",\"id\":\"p1038\",\"attributes\":{\"left\":{\"type\":\"field\",\"field\":\"left\"},\"right\":{\"type\":\"field\",\"field\":\"right\"},\"bottom\":{\"type\":\"value\",\"value\":0},\"top\":{\"type\":\"field\",\"field\":\"top\"},\"line_color\":{\"type\":\"value\",\"value\":\"magenta\"},\"line_alpha\":{\"type\":\"value\",\"value\":0.1},\"fill_color\":{\"type\":\"value\",\"value\":\"magenta\"},\"fill_alpha\":{\"type\":\"value\",\"value\":0.1},\"hatch_color\":{\"type\":\"value\",\"value\":\"magenta\"},\"hatch_alpha\":{\"type\":\"value\",\"value\":0.1}}},\"muted_glyph\":{\"type\":\"object\",\"name\":\"Quad\",\"id\":\"p1039\",\"attributes\":{\"left\":{\"type\":\"field\",\"field\":\"left\"},\"right\":{\"type\":\"field\",\"field\":\"right\"},\"bottom\":{\"type\":\"value\",\"value\":0},\"top\":{\"type\":\"field\",\"field\":\"top\"},\"line_color\":{\"type\":\"value\",\"value\":\"magenta\"},\"line_alpha\":{\"type\":\"value\",\"value\":0.2},\"fill_color\":{\"type\":\"value\",\"value\":\"magenta\"},\"fill_alpha\":{\"type\":\"value\",\"value\":0.2},\"hatch_color\":{\"type\":\"value\",\"value\":\"magenta\"},\"hatch_alpha\":{\"type\":\"value\",\"value\":0.2}}}}}],\"toolbar\":{\"type\":\"object\",\"name\":\"Toolbar\",\"id\":\"p1010\",\"attributes\":{\"tools\":[{\"type\":\"object\",\"name\":\"PanTool\",\"id\":\"p1023\"},{\"type\":\"object\",\"name\":\"WheelZoomTool\",\"id\":\"p1024\",\"attributes\":{\"renderers\":\"auto\"}},{\"type\":\"object\",\"name\":\"BoxZoomTool\",\"id\":\"p1025\",\"attributes\":{\"overlay\":{\"type\":\"object\",\"name\":\"BoxAnnotation\",\"id\":\"p1026\",\"attributes\":{\"syncable\":false,\"level\":\"overlay\",\"visible\":false,\"left\":{\"type\":\"number\",\"value\":\"nan\"},\"right\":{\"type\":\"number\",\"value\":\"nan\"},\"top\":{\"type\":\"number\",\"value\":\"nan\"},\"bottom\":{\"type\":\"number\",\"value\":\"nan\"},\"left_units\":\"canvas\",\"right_units\":\"canvas\",\"top_units\":\"canvas\",\"bottom_units\":\"canvas\",\"line_color\":\"black\",\"line_alpha\":1.0,\"line_width\":2,\"line_dash\":[4,4],\"fill_color\":\"lightgrey\",\"fill_alpha\":0.5}}}},{\"type\":\"object\",\"name\":\"SaveTool\",\"id\":\"p1031\"},{\"type\":\"object\",\"name\":\"ResetTool\",\"id\":\"p1032\"},{\"type\":\"object\",\"name\":\"HelpTool\",\"id\":\"p1033\"}]}},\"left\":[{\"type\":\"object\",\"name\":\"LinearAxis\",\"id\":\"p1018\",\"attributes\":{\"ticker\":{\"type\":\"object\",\"name\":\"BasicTicker\",\"id\":\"p1019\",\"attributes\":{\"mantissas\":[1,2,5]}},\"formatter\":{\"type\":\"object\",\"name\":\"BasicTickFormatter\",\"id\":\"p1020\"},\"axis_label\":\"Frequency\",\"major_label_policy\":{\"type\":\"object\",\"name\":\"AllLabels\",\"id\":\"p1021\"}}}],\"below\":[{\"type\":\"object\",\"name\":\"LinearAxis\",\"id\":\"p1013\",\"attributes\":{\"ticker\":{\"type\":\"object\",\"name\":\"BasicTicker\",\"id\":\"p1014\",\"attributes\":{\"mantissas\":[1,2,5]}},\"formatter\":{\"type\":\"object\",\"name\":\"BasicTickFormatter\",\"id\":\"p1015\"},\"axis_label\":\"Fall time [h]\",\"major_label_policy\":{\"type\":\"object\",\"name\":\"AllLabels\",\"id\":\"p1016\"}}}],\"center\":[{\"type\":\"object\",\"name\":\"Grid\",\"id\":\"p1017\",\"attributes\":{\"axis\":{\"id\":\"p1013\"}}},{\"type\":\"object\",\"name\":\"Grid\",\"id\":\"p1022\",\"attributes\":{\"dimension\":1,\"axis\":{\"id\":\"p1018\"}}},{\"type\":\"object\",\"name\":\"Span\",\"id\":\"p1043\",\"attributes\":{\"location\":4.133333333333334,\"dimension\":\"height\",\"line_color\":\"navy\",\"line_alpha\":0.5,\"line_width\":2,\"line_dash\":[6]}},{\"type\":\"object\",\"name\":\"BoxAnnotation\",\"id\":\"p1044\",\"attributes\":{\"left\":1.9008445857950806,\"right\":17.41796959432456,\"top\":{\"type\":\"object\",\"name\":\"Node\",\"id\":\"p1047\",\"attributes\":{\"target\":\"frame\",\"symbol\":\"top\"}},\"bottom\":{\"type\":\"object\",\"name\":\"Node\",\"id\":\"p1048\",\"attributes\":{\"target\":\"frame\",\"symbol\":\"bottom\"}},\"fill_color\":\"navy\",\"fill_alpha\":0.1}}]}},0,0,1,1],[{\"type\":\"object\",\"name\":\"Figure\",\"id\":\"p1049\",\"attributes\":{\"width\":400,\"height\":300,\"x_range\":{\"type\":\"object\",\"name\":\"DataRange1d\",\"id\":\"p1050\"},\"y_range\":{\"type\":\"object\",\"name\":\"DataRange1d\",\"id\":\"p1051\"},\"x_scale\":{\"type\":\"object\",\"name\":\"LinearScale\",\"id\":\"p1059\"},\"y_scale\":{\"type\":\"object\",\"name\":\"LinearScale\",\"id\":\"p1060\"},\"title\":{\"type\":\"object\",\"name\":\"Title\",\"id\":\"p1052\",\"attributes\":{\"text\":\"Distribution of low-to-zero fall times\"}},\"renderers\":[{\"type\":\"object\",\"name\":\"GlyphRenderer\",\"id\":\"p1088\",\"attributes\":{\"data_source\":{\"type\":\"object\",\"name\":\"ColumnDataSource\",\"id\":\"p1082\",\"attributes\":{\"selected\":{\"type\":\"object\",\"name\":\"Selection\",\"id\":\"p1083\",\"attributes\":{\"indices\":[],\"line_indices\":[]}},\"selection_policy\":{\"type\":\"object\",\"name\":\"UnionRenderers\",\"id\":\"p1084\"},\"data\":{\"type\":\"map\",\"entries\":[[\"top\",{\"type\":\"ndarray\",\"array\":{\"type\":\"bytes\",\"data\":\"AQAAAAAAAAAAAAAAAAAAAAAAAAAAAAAAAAAAAAAAAAAAAAAAAAAAAAAAAAAAAAAAAAAAAAAAAAAAAAAAAAAAAAAAAAAAAAAAAAAAAAAAAAAAAAAAAAAAAAAAAAAAAAAAAAAAAAAAAAAAAAAAAAAAAAAAAAAAAAAAAAAAAAAAAAAAAAAAAAAAAAAAAAAAAAAAAAAAAAAAAAAAAAAAAAAAAAAAAAAAAAAAAAAAAAAAAAAAAAAAAAAAAAEAAAAAAAAAAAAAAAAAAAAAAAAAAAAAAAAAAAAAAAAAAAAAAAAAAAAAAAAAAAAAAAAAAAAAAAAAAAAAAAAAAAAAAAAAAAAAAAAAAAAAAAAAAAAAAAAAAAAAAAAAAAAAAAAAAAAAAAAAAAAAAAAAAAAAAAAAAAAAAAAAAAAAAAAAAAAAAAAAAAAAAAAAAAAAAAAAAAAAAAAAAAAAAAAAAAAAAAAAAAAAAAAAAAAAAAAAAAAAAAAAAAAAAAAAAAAAAAAAAAAAAAAAAAAAAAAAAAAAAAAAAQAAAA==\"},\"shape\":[100],\"dtype\":\"int32\",\"order\":\"little\"}],[\"left\",{\"type\":\"ndarray\",\"array\":{\"type\":\"bytes\",\"data\":\"7FG4HoXr+T/c+X5qvHT6P8uhRbbz/fo/u0kMAiuH+z+q8dJNYhD8P5qZmZmZmfw/ikFg5dAi/T956SYxCKz9P2mR7Xw/Nf4/WDm0yHa+/j9I4XoUrkf/PziJQWDl0P8/lBgEVg4tAECMbOf7qXEAQIPAyqFFtgBAexSuR+H6AEBzaJHtfD8BQGu8dJMYhAFAYhBYObTIAUBaZDvfTw0CQFK4HoXrUQJASgwCK4eWAkBCYOXQItsCQDq0yHa+HwNAMgisHFpkA0ApXI/C9agDQCGwcmiR7QNAGQRWDi0yBEARWDm0yHYEQAisHFpkuwRAAAAAAAAABUD4U+Olm0QFQPCnxks3iQVA6Pup8dLNBUDgT42XbhIGQNijcD0KVwZAz/dT46WbBkDHSzeJQeAGQL+fGi/dJAdAtvP91HhpB0CuR+F6FK4HQKabxCCw8gdAnu+nxks3CECWQ4ts53sIQI6XbhKDwAhAhutRuB4FCUB+PzVeukkJQHWTGARWjglAbef7qfHSCUBlO99PjRcKQFyPwvUoXApAVOOlm8SgCkBMN4lBYOUKQESLbOf7KQtAPN9PjZduC0A0MzMzM7MLQCyHFtnO9wtAJNv5fmo8DEAbL90kBoEMQBODwMqhxQxAC9ejcD0KDUADK4cW2U4NQPp+arx0kw1A8tJNYhDYDUDqJjEIrBwOQOJ6FK5HYQ5A2s73U+OlDkDRItv5fuoOQMl2vp8aLw9AwcqhRbZzD0C5HoXrUbgPQLFyaJHt/A9AVOOlm8QgEEBQjZduEkMQQEw3iUFgZRBASOF6FK6HEEBEi2zn+6kQQEA1XrpJzBBAPN9PjZfuEEA4iUFg5RARQDQzMzMzMxFAMN0kBoFVEUAshxbZzncRQCcxCKwcmhFAI9v5fmq8EUAfhetRuN4RQBsv3SQGARJAF9nO91MjEkATg8DKoUUSQA4tsp3vZxJACtejcD2KEkAGgZVDi6wSQAIrhxbZzhJA/tR46SbxEkD6fmq8dBMTQPYoXI/CNRNA8tJNYhBYE0DufD81XnoTQOomMQisnBNA5tAi2/m+E0A=\"},\"shape\":[100],\"dtype\":\"float64\",\"order\":\"little\"}],[\"right\",{\"type\":\"ndarray\",\"array\":{\"type\":\"bytes\",\"data\":\"3Pl+arx0+j/LoUW28/36P7tJDAIrh/s/qvHSTWIQ/D+amZmZmZn8P4pBYOXQIv0/eekmMQis/T9pke18PzX+P1g5tMh2vv4/SOF6FK5H/z84iUFg5dD/P5QYBFYOLQBAjGzn+6lxAECDwMqhRbYAQHsUrkfh+gBAc2iR7Xw/AUBrvHSTGIQBQGIQWDm0yAFAWmQ7308NAkBSuB6F61ECQEoMAiuHlgJAQmDl0CLbAkA6tMh2vh8DQDIIrBxaZANAKVyPwvWoA0AhsHJoke0DQBkEVg4tMgRAEVg5tMh2BEAIrBxaZLsEQAAAAAAAAAVA+FPjpZtEBUDwp8ZLN4kFQOj7qfHSzQVA4E+Nl24SBkDYo3A9ClcGQM/3U+OlmwZAx0s3iUHgBkC/nxov3SQHQLbz/dR4aQdArkfhehSuB0Cmm8QgsPIHQJ7vp8ZLNwhAlkOLbOd7CECOl24Sg8AIQIbrUbgeBQlAfj81XrpJCUB1kxgEVo4JQG3n+6nx0glAZTvfT40XCkBcj8L1KFwKQFTjpZvEoApATDeJQWDlCkBEi2zn+ykLQDzfT42XbgtANDMzMzOzC0AshxbZzvcLQCTb+X5qPAxAGy/dJAaBDEATg8DKocUMQAvXo3A9Cg1AAyuHFtlODUD6fmq8dJMNQPLSTWIQ2A1A6iYxCKwcDkDiehSuR2EOQNrO91PjpQ5A0SLb+X7qDkDJdr6fGi8PQMHKoUW2cw9AuR6F61G4D0CxcmiR7fwPQFTjpZvEIBBAUI2XbhJDEEBMN4lBYGUQQEjhehSuhxBARIts5/upEEBANV66ScwQQDzfT42X7hBAOIlBYOUQEUA0MzMzMzMRQDDdJAaBVRFALIcW2c53EUAnMQisHJoRQCPb+X5qvBFAH4XrUbjeEUAbL90kBgESQBfZzvdTIxJAE4PAyqFFEkAOLbKd72cSQArXo3A9ihJABoGVQ4usEkACK4cW2c4SQP7UeOkm8RJA+n5qvHQTE0D2KFyPwjUTQPLSTWIQWBNA7nw/NV56E0DqJjEIrJwTQObQItv5vhNA4noUrkfhE0A=\"},\"shape\":[100],\"dtype\":\"float64\",\"order\":\"little\"}]]}}},\"view\":{\"type\":\"object\",\"name\":\"CDSView\",\"id\":\"p1089\",\"attributes\":{\"filter\":{\"type\":\"object\",\"name\":\"AllIndices\",\"id\":\"p1090\"}}},\"glyph\":{\"type\":\"object\",\"name\":\"Quad\",\"id\":\"p1085\",\"attributes\":{\"left\":{\"type\":\"field\",\"field\":\"left\"},\"right\":{\"type\":\"field\",\"field\":\"right\"},\"bottom\":{\"type\":\"value\",\"value\":0},\"top\":{\"type\":\"field\",\"field\":\"top\"},\"line_color\":{\"type\":\"value\",\"value\":\"navy\"},\"fill_color\":{\"type\":\"value\",\"value\":\"navy\"},\"hatch_color\":{\"type\":\"value\",\"value\":\"navy\"}}},\"nonselection_glyph\":{\"type\":\"object\",\"name\":\"Quad\",\"id\":\"p1086\",\"attributes\":{\"left\":{\"type\":\"field\",\"field\":\"left\"},\"right\":{\"type\":\"field\",\"field\":\"right\"},\"bottom\":{\"type\":\"value\",\"value\":0},\"top\":{\"type\":\"field\",\"field\":\"top\"},\"line_color\":{\"type\":\"value\",\"value\":\"navy\"},\"line_alpha\":{\"type\":\"value\",\"value\":0.1},\"fill_color\":{\"type\":\"value\",\"value\":\"navy\"},\"fill_alpha\":{\"type\":\"value\",\"value\":0.1},\"hatch_color\":{\"type\":\"value\",\"value\":\"navy\"},\"hatch_alpha\":{\"type\":\"value\",\"value\":0.1}}},\"muted_glyph\":{\"type\":\"object\",\"name\":\"Quad\",\"id\":\"p1087\",\"attributes\":{\"left\":{\"type\":\"field\",\"field\":\"left\"},\"right\":{\"type\":\"field\",\"field\":\"right\"},\"bottom\":{\"type\":\"value\",\"value\":0},\"top\":{\"type\":\"field\",\"field\":\"top\"},\"line_color\":{\"type\":\"value\",\"value\":\"navy\"},\"line_alpha\":{\"type\":\"value\",\"value\":0.2},\"fill_color\":{\"type\":\"value\",\"value\":\"navy\"},\"fill_alpha\":{\"type\":\"value\",\"value\":0.2},\"hatch_color\":{\"type\":\"value\",\"value\":\"navy\"},\"hatch_alpha\":{\"type\":\"value\",\"value\":0.2}}}}}],\"toolbar\":{\"type\":\"object\",\"name\":\"Toolbar\",\"id\":\"p1058\",\"attributes\":{\"tools\":[{\"type\":\"object\",\"name\":\"PanTool\",\"id\":\"p1071\"},{\"type\":\"object\",\"name\":\"WheelZoomTool\",\"id\":\"p1072\",\"attributes\":{\"renderers\":\"auto\"}},{\"type\":\"object\",\"name\":\"BoxZoomTool\",\"id\":\"p1073\",\"attributes\":{\"overlay\":{\"type\":\"object\",\"name\":\"BoxAnnotation\",\"id\":\"p1074\",\"attributes\":{\"syncable\":false,\"level\":\"overlay\",\"visible\":false,\"left\":{\"type\":\"number\",\"value\":\"nan\"},\"right\":{\"type\":\"number\",\"value\":\"nan\"},\"top\":{\"type\":\"number\",\"value\":\"nan\"},\"bottom\":{\"type\":\"number\",\"value\":\"nan\"},\"left_units\":\"canvas\",\"right_units\":\"canvas\",\"top_units\":\"canvas\",\"bottom_units\":\"canvas\",\"line_color\":\"black\",\"line_alpha\":1.0,\"line_width\":2,\"line_dash\":[4,4],\"fill_color\":\"lightgrey\",\"fill_alpha\":0.5}}}},{\"type\":\"object\",\"name\":\"SaveTool\",\"id\":\"p1079\"},{\"type\":\"object\",\"name\":\"ResetTool\",\"id\":\"p1080\"},{\"type\":\"object\",\"name\":\"HelpTool\",\"id\":\"p1081\"}]}},\"left\":[{\"type\":\"object\",\"name\":\"LinearAxis\",\"id\":\"p1066\",\"attributes\":{\"ticker\":{\"type\":\"object\",\"name\":\"BasicTicker\",\"id\":\"p1067\",\"attributes\":{\"mantissas\":[1,2,5]}},\"formatter\":{\"type\":\"object\",\"name\":\"BasicTickFormatter\",\"id\":\"p1068\"},\"axis_label\":\"Frequency\",\"major_label_policy\":{\"type\":\"object\",\"name\":\"AllLabels\",\"id\":\"p1069\"}}}],\"below\":[{\"type\":\"object\",\"name\":\"LinearAxis\",\"id\":\"p1061\",\"attributes\":{\"ticker\":{\"type\":\"object\",\"name\":\"BasicTicker\",\"id\":\"p1062\",\"attributes\":{\"mantissas\":[1,2,5]}},\"formatter\":{\"type\":\"object\",\"name\":\"BasicTickFormatter\",\"id\":\"p1063\"},\"axis_label\":\"Fall time [h]\",\"major_label_policy\":{\"type\":\"object\",\"name\":\"AllLabels\",\"id\":\"p1064\"}}}],\"center\":[{\"type\":\"object\",\"name\":\"Grid\",\"id\":\"p1065\",\"attributes\":{\"axis\":{\"id\":\"p1061\"}}},{\"type\":\"object\",\"name\":\"Grid\",\"id\":\"p1070\",\"attributes\":{\"dimension\":1,\"axis\":{\"id\":\"p1066\"}}},{\"type\":\"object\",\"name\":\"Span\",\"id\":\"p1091\",\"attributes\":{\"location\":3.253333333333334,\"dimension\":\"height\",\"line_color\":\"magenta\",\"line_alpha\":0.5,\"line_width\":2,\"line_dash\":[6]}},{\"type\":\"object\",\"name\":\"BoxAnnotation\",\"id\":\"p1092\",\"attributes\":{\"left\":1.44247420423584,\"right\":13.643614292078528,\"top\":{\"type\":\"object\",\"name\":\"Node\",\"id\":\"p1095\",\"attributes\":{\"target\":\"frame\",\"symbol\":\"top\"}},\"bottom\":{\"type\":\"object\",\"name\":\"Node\",\"id\":\"p1096\",\"attributes\":{\"target\":\"frame\",\"symbol\":\"bottom\"}},\"fill_color\":\"magenta\",\"fill_alpha\":0.1}}]}},0,1,1,1]]}}]}};\n  const render_items = [{\"docid\":\"b204c16b-4650-48ba-bfae-a778bf9e4e54\",\"roots\":{\"p1097\":\"de11bfff-91d4-46da-a94d-dae4b703276f\"},\"root_ids\":[\"p1097\"]}];\n  void root.Bokeh.embed.embed_items_notebook(docs_json, render_items);\n  }\n  if (root.Bokeh !== undefined) {\n    embed_document(root);\n  } else {\n    let attempts = 0;\n    const timer = setInterval(function(root) {\n      if (root.Bokeh !== undefined) {\n        clearInterval(timer);\n        embed_document(root);\n      } else {\n        attempts++;\n        if (attempts > 100) {\n          clearInterval(timer);\n          console.log(\"Bokeh: ERROR: Unable to run BokehJS code because BokehJS library is missing\");\n        }\n      }\n    }, 10, root)\n  }\n})(window);",
      "application/vnd.bokehjs_exec.v0+json": ""
     },
     "metadata": {
      "application/vnd.bokehjs_exec.v0+json": {
       "id": "p1097"
      }
     },
     "output_type": "display_data"
    }
   ],
   "execution_count": 13
  },
  {
   "metadata": {
    "ExecuteTime": {
     "end_time": "2024-06-13T11:05:34.098134Z",
     "start_time": "2024-06-13T11:05:34.079373Z"
    }
   },
   "cell_type": "code",
   "source": [
    "# THE CASE WITH XTRA GENE MUTATED\n",
    "\n",
    "par_noprot_no_xtra=par_noprot.copy()\n",
    "par_noprot_no_xtra['func_xtra'] = 0.0\n",
    "\n",
    "cellvars_noprot_no_xtra = cellvars_noprot.copy()\n",
    "cellvars_noprot_no_xtra['xi_other_genes'] = 0.0\n",
    "\n",
    "# define function for calculating the squared difference between the required and actual F values\n",
    "sqdiff_noprot_no_xtra = lambda p_switch: (F_real_calc(p_switch, par_noprot_no_xtra) - F_req_calc(p_switch, xi_no_xtra, par_noprot_no_xtra, cellvars_noprot_no_xtra)) ** 2\n",
    "\n",
    "# find the squared differences\n",
    "sqdiffs=np.zeros_like(p_switches_noprot)\n",
    "for i in range(0,len(p_switches_noprot)):\n",
    "    sqdiffs[i]=sqdiff_noprot_no_xtra(p_switches_noprot[i])\n",
    "\n",
    "# find the local minima and maxima in squared differences\n",
    "loc_minima=[]\n",
    "loc_maxima=[]\n",
    "for i in range(1,len(p_switches_noprot)-1):\n",
    "    # detect a local minimum\n",
    "    if(sqdiffs[i]<=sqdiffs[i-1] and sqdiffs[i]<=sqdiffs[i+1]):\n",
    "        loc_minima.append(p_switches_noprot[i])\n",
    "    # detect a local maximum\n",
    "    elif(sqdiffs[i]>=sqdiffs[i-1] and sqdiffs[i]>=sqdiffs[i+1]):\n",
    "        loc_maxima.append(p_switches_noprot[i])\n",
    "\n",
    "# print results\n",
    "print('Local minima in squared difference:',loc_minima)\n",
    "print('Local maxima in squared difference:',loc_maxima)\n",
    "\n",
    "# based on our prior findings, with burden present we expect one stable equilibrium, one pseudo-equilibrium and one local maximum in squared differences\n",
    "# this corresponds to three local minima and two local maxima in the squared difference between F values\n",
    "if (len(loc_minima)==2 and len(loc_maxima)==1):\n",
    "    p_switch_high_noprot_no_xtra=loc_minima[1] # REDEFINE high state standing for high-concentration stable equilibrium\n",
    "    print('High state representative p_switch:',p_switch_high_noprot_no_xtra)\n",
    "else:\n",
    "    print('Something weird is going on')"
   ],
   "outputs": [
    {
     "name": "stdout",
     "output_type": "stream",
     "text": [
      "Local minima in squared difference: [7.0, 9234.0]\n",
      "Local maxima in squared difference: [1246.0]\n",
      "High state representative p_switch: 9234.0\n"
     ]
    }
   ],
   "execution_count": 14
  },
  {
   "metadata": {
    "ExecuteTime": {
     "end_time": "2024-06-13T11:05:34.108375Z",
     "start_time": "2024-06-13T11:05:34.099220Z"
    }
   },
   "cell_type": "code",
   "source": [
    "# SUMMARISE THE STATES IDENTIFIED:\n",
    "\n",
    "print('Low state representative p_switch (from the case with protease and with burden): ', p_switch_low)\n",
    "print('High state representative p_switch (from the case with NO protease and NO burden): ', p_switch_high_noprot_no_xtra)"
   ],
   "outputs": [
    {
     "name": "stdout",
     "output_type": "stream",
     "text": [
      "Low state representative p_switch (from the case with protease and with burden):  35.0\n",
      "High state representative p_switch (from the case with NO protease and NO burden):  9234.0\n"
     ]
    }
   ],
   "execution_count": 15
  },
  {
   "cell_type": "code",
   "source": [
    "# GET DETERMINISTIC STEADY STATE\n",
    "\n",
    "# initial simulation to get the steady state without gene expression loss\n",
    "tf = (0, 50)  # simulation time frame\n",
    "# there's only a single high-expression equilibrium present, so default initial condition is fine\n",
    "sol=ode_sim(par_noprot_no_xtra,    # dictionary with model parameters\n",
    "            ode_with_circuit,   #  ODE function for the cell with synthetic circuit\n",
    "            cellmodel_auxil.x0_from_init_conds(init_conds,circuit_genes,circuit_miscs),  # initial condition VECTOR\n",
    "            len(circuit_genes), len(circuit_miscs), circuit_name2pos, # dictionaries with circuit gene and miscellaneous specie names, species name to vector position decoder\n",
    "            cellmodel_auxil.synth_gene_params_for_jax(par_noprot_no_xtra,circuit_genes), # synthetic gene parameters for calculating k values\n",
    "            tf, jnp.arange(tf[0], tf[1]+savetimestep/2, savetimestep), # time frame and time axis for saving the system's state\n",
    "            rtol, atol)    # relative and absolute tolerances\n",
    "ts_det_no_xtra=np.array(sol.ts)\n",
    "xs_det_no_xtra=np.array(sol.ys)\n",
    "# get the steady state from the deterministic simulation\n",
    "det_steady_x_no_xtra = xs_det_no_xtra[-1, :]\n",
    "\n",
    "print('Integrase level in steady state:',det_steady_x_no_xtra[circuit_name2pos['p_int']])"
   ],
   "metadata": {
    "collapsed": false,
    "ExecuteTime": {
     "end_time": "2024-06-13T11:05:34.142775Z",
     "start_time": "2024-06-13T11:05:34.109285Z"
    }
   },
   "outputs": [
    {
     "name": "stdout",
     "output_type": "stream",
     "text": [
      "Integrase level in steady state: 115.39340961144892\n"
     ]
    }
   ],
   "execution_count": 16
  },
  {
   "metadata": {
    "ExecuteTime": {
     "end_time": "2024-06-13T11:09:17.599263Z",
     "start_time": "2024-06-13T11:05:34.143682Z"
    }
   },
   "cell_type": "code",
   "source": [
    "# MEMORY-EFFICIENT SWITCH TIME DETERMINATION\n",
    "\n",
    "# we consider state switched when the CHARACTERIC PROTEIN CONCENTRATION is reached\n",
    "sc_high_to_low_no_xtra=sc_high_to_low # high to low switching - same condition because the LOW state is reused\n",
    "sc_low_to_zero_no_xtra=sc_low_to_zero # low to zero switching - same condition because ZERO is zero in any case\n",
    "\n",
    "# no switch gene present\n",
    "par_noprot_no_xtra_no_switch=par_noprot_no_xtra.copy()\n",
    "par_noprot_no_xtra_no_switch['func_switch'] = 0.0\n",
    "\n",
    "tf_hybrid_no_xtra = (ts_det_no_xtra[-1], ts_det_no_xtra[-1] + tau_leap_sim_duration)  # simulation time frame\n",
    "mRNA_count_scales_no_xtra, S_no_xtra, x0_tauleap_no_xtra, circuit_synpos2genename_no_xtra, keys0_no_xtra = tauleap_sim_prep(par_noprot_no_xtra_no_switch, len(circuit_genes),\n",
    "                                                                                    len(circuit_miscs),\n",
    "                                                                                    circuit_name2pos, det_steady_x_no_xtra,\n",
    "                                                                                    key_seeds=key_seeds)\n",
    "\n",
    "high_to_low_fall_times_no_xtra_since_stochastart_no_xtra, low_to_zero_fall_times_since_stochstart_no_xtra, \\\n",
    "            final_keys_hybrid_no_xtra = tauleap_sim_switch(par_noprot_no_xtra_no_switch,  # dictionary with model parameters\n",
    "                                                    circuit_v,  # circuit reaction propensity calculator\n",
    "                                                    x0_tauleap_no_xtra, # initial condition VECTOR (processed to make sure random variables are appropriate integers)\n",
    "                                                    len(circuit_genes), len(circuit_miscs),\n",
    "                                                    circuit_name2pos,\n",
    "                                                    cellmodel_auxil.synth_gene_params_for_jax(par_noprot_no_xtra_no_switch,\n",
    "                                                                                       circuit_genes), # synthetic gene parameters for calculating k values\n",
    "                                                    tf_hybrid_no_xtra, tau, tau_odestep, tau_savetimestep, # simulation parameters: time frame, tau leap step size, number of ode integration steps in a single tau leap step\n",
    "                                                    mRNA_count_scales_no_xtra, S_no_xtra, circuit_synpos2genename_no_xtra, # mRNA count scaling factor, stoichiometry matrix, synthetic gene number in list of synth. genes to name decoder\n",
    "                                                    keys0_no_xtra, # starting random number genereation key\n",
    "                                                    sc_high_to_low_no_xtra, sc_low_to_zero_no_xtra\n",
    "                                                    )\n",
    "\n",
    "# record switching times in numpy arrays\n",
    "high_to_low_fall_times_no_xtra=np.array(high_to_low_fall_times_no_xtra_since_stochastart_no_xtra) # we need times of falling to zero since REACHING THE LOW STATE\n",
    "low_to_zero_fall_times_no_xtra=np.array(low_to_zero_fall_times_since_stochstart_no_xtra - high_to_low_fall_times_no_xtra) # we need times of falling to zero since REACHING THE LOW STATE\n",
    "\n",
    "print('High-to-low fall times:',high_to_low_fall_times_no_xtra)\n",
    "print('Low-to-zero fall times:',low_to_zero_fall_times_no_xtra)\n",
    "\n",
    "del final_keys_hybrid_no_xtra"
   ],
   "outputs": [
    {
     "name": "stdout",
     "output_type": "stream",
     "text": [
      "High-to-low fall times: [3.74 3.65 3.78]\n",
      "Low-to-zero fall times: [2.23 1.76 1.87]\n"
     ]
    }
   ],
   "execution_count": 17
  },
  {
   "metadata": {
    "ExecuteTime": {
     "end_time": "2024-06-13T11:09:17.882265Z",
     "start_time": "2024-06-13T11:09:17.600525Z"
    }
   },
   "cell_type": "code",
   "source": [
    "# ESTIMATE SWITCHING TIMES AND CONFIDENCE INTERVALS\n",
    "\n",
    "# high-to-low fall times\n",
    "N=len(key_seeds) # number of samples\n",
    "T=tau_leap_sim_duration # total simulation time\n",
    "print('Number of samples:',N)\n",
    "print('')\n",
    "print('Sampling time interval for high-to-low fall times:',T)\n",
    "high_to_low_mle_no_xtra=find_mle(high_to_low_fall_times_no_xtra,N,T) # maximum likelihood estimate\n",
    "high_to_low_leftconfint_no_xtra, high_to_low_rightconfint_no_xtra=np.array(find_confint(high_to_low_mle_no_xtra,N,T,0.05)) # 95% confidence interval\n",
    "print('High-to-low fall times MLE:',high_to_low_mle_no_xtra)\n",
    "print('High-to-low fall times 95% confidence interval:',high_to_low_leftconfint_no_xtra, high_to_low_rightconfint_no_xtra)\n",
    "\n",
    "print('')\n",
    "# low-to-zero fall times\n",
    "# in the case of fall times, construct sampling time interval artificially and artificially censor the sample\n",
    "T_low_to_zero_no_xtra=tau_leap_sim_duration - max(high_to_low_fall_times_no_xtra) # shortest-possible time interval\n",
    "low_to_zero_fall_times_no_xtra[low_to_zero_fall_times_no_xtra>=T_low_to_zero_no_xtra]=0 # artificially censor the sample\n",
    "print('Arificially constructed sampling time interval for low-to-zero fall times:',T_low_to_zero)\n",
    "\n",
    "low_to_zero_mle_no_xtra=find_mle(low_to_zero_fall_times_no_xtra,N,T_low_to_zero_no_xtra) # maximum likelihood estimate\n",
    "low_to_zero_leftconfint_no_xtra, low_to_zero_rightconfint_no_xtra=np.array(find_confint(low_to_zero_mle_no_xtra,N,T_low_to_zero_no_xtra,0.05)) # 95% confidence interval\n",
    "print('Low-to-zero fall times MLE:',low_to_zero_mle_no_xtra)\n",
    "print('Low-to-zero fall times 95% confidence interval:',low_to_zero_leftconfint_no_xtra, low_to_zero_rightconfint_no_xtra)"
   ],
   "outputs": [
    {
     "name": "stdout",
     "output_type": "stream",
     "text": [
      "Number of samples: 3\n",
      "\n",
      "Sampling time interval for high-to-low fall times: 10\n",
      "High-to-low fall times MLE: 3.723333333333334\n",
      "High-to-low fall times 95% confidence interval: 1.72495233049436 15.833822292988327\n",
      "\n",
      "Arificially constructed sampling time interval for low-to-zero fall times: 5.83\n",
      "Low-to-zero fall times MLE: 1.9533333333333331\n",
      "Low-to-zero fall times 95% confidence interval: 0.9116733722658028 8.500940813639687\n"
     ]
    }
   ],
   "execution_count": 18
  },
  {
   "cell_type": "code",
   "source": [
    "# PLOT SWITCH TIMES\n",
    "\n",
    "hist_bins=100\n",
    "\n",
    "# HISTOGRAM OF FALL TIMES: HIGH TO LOW\n",
    "falltime_htl_hist_noburden=bkplot.figure(title='Distribution of high-to-low fall times',\n",
    "                                   x_axis_label='Fall time [h]',\n",
    "                                   y_axis_label='Frequency',\n",
    "                                   width=400,height=300)\n",
    "# get numpy histogram\n",
    "ft_htl_hist_noburden, ftl_htl_edges_noburden=np.histogram(high_to_low_fall_times_no_xtra,bins=hist_bins,density=False)\n",
    "# plot histogram\n",
    "falltime_htl_hist_noburden.quad(top=ft_htl_hist_noburden, bottom=0,\n",
    "                              left=ftl_htl_edges_noburden[:-1], right=ftl_htl_edges_noburden[1:],\n",
    "                            color='magenta')\n",
    "# mark mean fall time\n",
    "falltime_htl_hist_noburden.add_layout(bkmodels.Span(location=high_to_low_mle_no_xtra, dimension='height',\n",
    "                                              line_dash='dashed', line_color='navy', line_width=2, line_alpha=0.5))\n",
    "# mark 95% confidence interval for fall times\n",
    "falltime_htl_hist_noburden.add_layout(bkmodels.BoxAnnotation(left=high_to_low_leftconfint_no_xtra, right=high_to_low_rightconfint_no_xtra,\n",
    "                                                       fill_color='navy', fill_alpha=0.1)) # range\n",
    "\n",
    "# HISTOGRAM OF FALL TIMES: LOW TO ZERO\n",
    "falltime_lt0_hist_noburden=bkplot.figure(title='Distribution of low-to-zero fall times',\n",
    "                                   x_axis_label='Fall time [h]',\n",
    "                                   y_axis_label='Frequency',\n",
    "                                   width=400,height=300)\n",
    "# get numpy histogram\n",
    "ft_lt0_hist_noburden, ftl_lt0_edges_noburden=np.histogram(low_to_zero_fall_times_no_xtra,bins=hist_bins,density=False)\n",
    "# plot histogram\n",
    "falltime_lt0_hist_noburden.quad(top=ft_lt0_hist_noburden, bottom=0,\n",
    "                              left=ftl_lt0_edges_noburden[:-1], right=ftl_lt0_edges_noburden[1:],\n",
    "                            color='navy')\n",
    "# mark mean fall time\n",
    "falltime_lt0_hist_noburden.add_layout(bkmodels.Span(location=low_to_zero_mle_no_xtra, dimension='height',\n",
    "                                              line_dash='dashed', line_color='magenta', line_width=2, line_alpha=0.5))\n",
    "# mark 95% confidence interval for fall times\n",
    "falltime_lt0_hist_noburden.add_layout(bkmodels.BoxAnnotation(left=low_to_zero_leftconfint_no_xtra, right=low_to_zero_rightconfint_no_xtra,\n",
    "                                                       fill_color='magenta', fill_alpha=0.1)) # range\n",
    "\n",
    "# show plot\n",
    "hist_grid=bklayouts.grid([[falltime_htl_hist_noburden], [falltime_lt0_hist_noburden]])\n",
    "# bkplot.show(bklayouts.grid([[state_fig_noburden, hist_grid],\n",
    "#                             [state_fig_noburden_discrete, None]]))\n",
    "bkplot.show(hist_grid)"
   ],
   "metadata": {
    "collapsed": false,
    "ExecuteTime": {
     "end_time": "2024-06-13T11:09:17.934261Z",
     "start_time": "2024-06-13T11:09:17.883252Z"
    }
   },
   "outputs": [
    {
     "data": {
      "text/html": [
       "\n",
       "  <div id=\"b83d2db5-4e2c-47fb-b0f5-b10a50744abc\" data-root-id=\"p1200\" style=\"display: contents;\"></div>\n"
      ]
     },
     "metadata": {},
     "output_type": "display_data"
    },
    {
     "data": {
      "application/javascript": "(function(root) {\n  function embed_document(root) {\n  const docs_json = {\"d12ff912-7e47-4484-8caf-75e93931fffc\":{\"version\":\"3.4.0\",\"title\":\"Bokeh Application\",\"roots\":[{\"type\":\"object\",\"name\":\"GridBox\",\"id\":\"p1200\",\"attributes\":{\"rows\":null,\"cols\":null,\"children\":[[{\"type\":\"object\",\"name\":\"Figure\",\"id\":\"p1104\",\"attributes\":{\"width\":400,\"height\":300,\"x_range\":{\"type\":\"object\",\"name\":\"DataRange1d\",\"id\":\"p1105\"},\"y_range\":{\"type\":\"object\",\"name\":\"DataRange1d\",\"id\":\"p1106\"},\"x_scale\":{\"type\":\"object\",\"name\":\"LinearScale\",\"id\":\"p1114\"},\"y_scale\":{\"type\":\"object\",\"name\":\"LinearScale\",\"id\":\"p1115\"},\"title\":{\"type\":\"object\",\"name\":\"Title\",\"id\":\"p1107\",\"attributes\":{\"text\":\"Distribution of high-to-low fall times\"}},\"renderers\":[{\"type\":\"object\",\"name\":\"GlyphRenderer\",\"id\":\"p1143\",\"attributes\":{\"data_source\":{\"type\":\"object\",\"name\":\"ColumnDataSource\",\"id\":\"p1137\",\"attributes\":{\"selected\":{\"type\":\"object\",\"name\":\"Selection\",\"id\":\"p1138\",\"attributes\":{\"indices\":[],\"line_indices\":[]}},\"selection_policy\":{\"type\":\"object\",\"name\":\"UnionRenderers\",\"id\":\"p1139\"},\"data\":{\"type\":\"map\",\"entries\":[[\"top\",{\"type\":\"ndarray\",\"array\":{\"type\":\"bytes\",\"data\":\"AQAAAAAAAAAAAAAAAAAAAAAAAAAAAAAAAAAAAAAAAAAAAAAAAAAAAAAAAAAAAAAAAAAAAAAAAAAAAAAAAAAAAAAAAAAAAAAAAAAAAAAAAAAAAAAAAAAAAAAAAAAAAAAAAAAAAAAAAAAAAAAAAAAAAAAAAAAAAAAAAAAAAAAAAAAAAAAAAAAAAAAAAAAAAAAAAAAAAAAAAAAAAAAAAAAAAAAAAAAAAAAAAAAAAAAAAAAAAAAAAAAAAAAAAAAAAAAAAAAAAAAAAAAAAAAAAAAAAAAAAAAAAAAAAAAAAAAAAAAAAAAAAAAAAAAAAAAAAAAAAAAAAAAAAAAAAAAAAAAAAAAAAAAAAAAAAAAAAAAAAAAAAAAAAQAAAAAAAAAAAAAAAAAAAAAAAAAAAAAAAAAAAAAAAAAAAAAAAAAAAAAAAAAAAAAAAAAAAAAAAAAAAAAAAAAAAAAAAAAAAAAAAAAAAAAAAAAAAAAAAAAAAAAAAAAAAAAAAAAAAAAAAAAAAAAAAAAAAAAAAAAAAAAAAQAAAA==\"},\"shape\":[100],\"dtype\":\"int32\",\"order\":\"little\"}],[\"left\",{\"type\":\"ndarray\",\"array\":{\"type\":\"bytes\",\"data\":\"MzMzMzMzDUASFD/G3DUNQPH0SlmGOA1Az9VW7C87DUCutmJ/2T0NQI2XbhKDQA1AbHh6pSxDDUBLWYY41kUNQCo6kst/SA1ACBueXilLDUDn+6nx0k0NQMbctYR8UA1Apb3BFyZTDUCEns2qz1UNQGN/2T15WA1AQWDl0CJbDUAgQfFjzF0NQP8h/fZ1YA1A3gIJih9jDUC94xQdyWUNQJzEILByaA1AeqUsQxxrDUBZhjjWxW0NQDhnRGlvcA1AF0hQ/BhzDUD2KFyPwnUNQNUJaCJseA1As+pztRV7DUCSy39Iv30NQHGsi9togA1AUI2XbhKDDUAvbqMBvIUNQA5Pr5RliA1A7C+7Jw+LDUDLEMe6uI0NQKrx0k1ikA1AidLe4AuTDUBos+pztZUNQEeU9gZfmA1AJXUCmgibDUAEVg4tsp0NQOM2GsBboA1AwhcmUwWjDUCh+DHmrqUNQIDZPXlYqA1AXrpJDAKrDUA9m1Wfq60NQBx8YTJVsA1A+1xtxf6yDUDaPXlYqLUNQLgehetRuA1Al/+Qfvu6DUB24JwRpb0NQFXBqKROwA1ANKK0N/jCDUATg8DKocUNQPJjzF1LyA1A0ETY8PTKDUCvJeSDns0NQI4G8BZI0A1Abef7qfHSDUBMyAc9m9UNQCqpE9BE2A1ACYofY+7aDUDoaiv2l90NQMdLN4lB4A1ApixDHOviDUCFDU+vlOUNQGPuWkI+6A1AQs9m1efqDUAhsHJoke0NQACRfvs68A1A33GKjuTyDUC+UpYhjvUNQJwzorQ3+A1AexSuR+H6DUBa9bnaiv0NQDnWxW00AA5AGLfRAN4CDkD3l92ThwUOQNV46SYxCA5AtFn1udoKDkCTOgFNhA0OQHIbDeAtEA5AUfwYc9cSDkAw3SQGgRUOQA6+MJkqGA5A7Z48LNQaDkDMf0i/fR0OQKtgVFInIA5AikFg5dAiDkBpImx4eiUOQEcDeAskKA5AJuSDns0qDkAFxY8xdy0OQOSlm8QgMA5Aw4anV8oyDkCiZ7PqczUOQIBIv30dOA5AXynLEMc6DkA=\"},\"shape\":[100],\"dtype\":\"float64\",\"order\":\"little\"}],[\"right\",{\"type\":\"ndarray\",\"array\":{\"type\":\"bytes\",\"data\":\"EhQ/xtw1DUDx9EpZhjgNQM/VVuwvOw1ArrZif9k9DUCNl24Sg0ANQGx4eqUsQw1AS1mGONZFDUAqOpLLf0gNQAgbnl4pSw1A5/up8dJNDUDG3LWEfFANQKW9wRcmUw1AhJ7Nqs9VDUBjf9k9eVgNQEFg5dAiWw1AIEHxY8xdDUD/If32dWANQN4CCYofYw1AveMUHcllDUCcxCCwcmgNQHqlLEMcaw1AWYY41sVtDUA4Z0Rpb3ANQBdIUPwYcw1A9ihcj8J1DUDVCWgibHgNQLPqc7UVew1Akst/SL99DUBxrIvbaIANQFCNl24Sgw1AL26jAbyFDUAOT6+UZYgNQOwvuycPiw1AyxDHuriNDUCq8dJNYpANQInS3uALkw1AaLPqc7WVDUBHlPYGX5gNQCV1ApoImw1ABFYOLbKdDUDjNhrAW6ANQMIXJlMFow1Aofgx5q6lDUCA2T15WKgNQF66SQwCqw1APZtVn6utDUAcfGEyVbANQPtcbcX+sg1A2j15WKi1DUC4HoXrUbgNQJf/kH77ug1AduCcEaW9DUBVwaikTsANQDSitDf4wg1AE4PAyqHFDUDyY8xdS8gNQNBE2PD0yg1AryXkg57NDUCOBvAWSNANQG3n+6nx0g1ATMgHPZvVDUAqqRPQRNgNQAmKH2Pu2g1A6Gor9pfdDUDHSzeJQeANQKYsQxzr4g1AhQ1Pr5TlDUBj7lpCPugNQELPZtXn6g1AIbByaJHtDUAAkX77OvANQN9xio7k8g1AvlKWIY71DUCcM6K0N/gNQHsUrkfh+g1AWvW52or9DUA51sVtNAAOQBi30QDeAg5A95fdk4cFDkDVeOkmMQgOQLRZ9bnaCg5AkzoBTYQNDkByGw3gLRAOQFH8GHPXEg5AMN0kBoEVDkAOvjCZKhgOQO2ePCzUGg5AzH9Iv30dDkCrYFRSJyAOQIpBYOXQIg5AaSJseHolDkBHA3gLJCgOQCbkg57NKg5ABcWPMXctDkDkpZvEIDAOQMOGp1fKMg5Aomez6nM1DkCASL99HTgOQF8pyxDHOg5APgrXo3A9DkA=\"},\"shape\":[100],\"dtype\":\"float64\",\"order\":\"little\"}]]}}},\"view\":{\"type\":\"object\",\"name\":\"CDSView\",\"id\":\"p1144\",\"attributes\":{\"filter\":{\"type\":\"object\",\"name\":\"AllIndices\",\"id\":\"p1145\"}}},\"glyph\":{\"type\":\"object\",\"name\":\"Quad\",\"id\":\"p1140\",\"attributes\":{\"left\":{\"type\":\"field\",\"field\":\"left\"},\"right\":{\"type\":\"field\",\"field\":\"right\"},\"bottom\":{\"type\":\"value\",\"value\":0},\"top\":{\"type\":\"field\",\"field\":\"top\"},\"line_color\":{\"type\":\"value\",\"value\":\"magenta\"},\"fill_color\":{\"type\":\"value\",\"value\":\"magenta\"},\"hatch_color\":{\"type\":\"value\",\"value\":\"magenta\"}}},\"nonselection_glyph\":{\"type\":\"object\",\"name\":\"Quad\",\"id\":\"p1141\",\"attributes\":{\"left\":{\"type\":\"field\",\"field\":\"left\"},\"right\":{\"type\":\"field\",\"field\":\"right\"},\"bottom\":{\"type\":\"value\",\"value\":0},\"top\":{\"type\":\"field\",\"field\":\"top\"},\"line_color\":{\"type\":\"value\",\"value\":\"magenta\"},\"line_alpha\":{\"type\":\"value\",\"value\":0.1},\"fill_color\":{\"type\":\"value\",\"value\":\"magenta\"},\"fill_alpha\":{\"type\":\"value\",\"value\":0.1},\"hatch_color\":{\"type\":\"value\",\"value\":\"magenta\"},\"hatch_alpha\":{\"type\":\"value\",\"value\":0.1}}},\"muted_glyph\":{\"type\":\"object\",\"name\":\"Quad\",\"id\":\"p1142\",\"attributes\":{\"left\":{\"type\":\"field\",\"field\":\"left\"},\"right\":{\"type\":\"field\",\"field\":\"right\"},\"bottom\":{\"type\":\"value\",\"value\":0},\"top\":{\"type\":\"field\",\"field\":\"top\"},\"line_color\":{\"type\":\"value\",\"value\":\"magenta\"},\"line_alpha\":{\"type\":\"value\",\"value\":0.2},\"fill_color\":{\"type\":\"value\",\"value\":\"magenta\"},\"fill_alpha\":{\"type\":\"value\",\"value\":0.2},\"hatch_color\":{\"type\":\"value\",\"value\":\"magenta\"},\"hatch_alpha\":{\"type\":\"value\",\"value\":0.2}}}}}],\"toolbar\":{\"type\":\"object\",\"name\":\"Toolbar\",\"id\":\"p1113\",\"attributes\":{\"tools\":[{\"type\":\"object\",\"name\":\"PanTool\",\"id\":\"p1126\"},{\"type\":\"object\",\"name\":\"WheelZoomTool\",\"id\":\"p1127\",\"attributes\":{\"renderers\":\"auto\"}},{\"type\":\"object\",\"name\":\"BoxZoomTool\",\"id\":\"p1128\",\"attributes\":{\"overlay\":{\"type\":\"object\",\"name\":\"BoxAnnotation\",\"id\":\"p1129\",\"attributes\":{\"syncable\":false,\"level\":\"overlay\",\"visible\":false,\"left\":{\"type\":\"number\",\"value\":\"nan\"},\"right\":{\"type\":\"number\",\"value\":\"nan\"},\"top\":{\"type\":\"number\",\"value\":\"nan\"},\"bottom\":{\"type\":\"number\",\"value\":\"nan\"},\"left_units\":\"canvas\",\"right_units\":\"canvas\",\"top_units\":\"canvas\",\"bottom_units\":\"canvas\",\"line_color\":\"black\",\"line_alpha\":1.0,\"line_width\":2,\"line_dash\":[4,4],\"fill_color\":\"lightgrey\",\"fill_alpha\":0.5}}}},{\"type\":\"object\",\"name\":\"SaveTool\",\"id\":\"p1134\"},{\"type\":\"object\",\"name\":\"ResetTool\",\"id\":\"p1135\"},{\"type\":\"object\",\"name\":\"HelpTool\",\"id\":\"p1136\"}]}},\"left\":[{\"type\":\"object\",\"name\":\"LinearAxis\",\"id\":\"p1121\",\"attributes\":{\"ticker\":{\"type\":\"object\",\"name\":\"BasicTicker\",\"id\":\"p1122\",\"attributes\":{\"mantissas\":[1,2,5]}},\"formatter\":{\"type\":\"object\",\"name\":\"BasicTickFormatter\",\"id\":\"p1123\"},\"axis_label\":\"Frequency\",\"major_label_policy\":{\"type\":\"object\",\"name\":\"AllLabels\",\"id\":\"p1124\"}}}],\"below\":[{\"type\":\"object\",\"name\":\"LinearAxis\",\"id\":\"p1116\",\"attributes\":{\"ticker\":{\"type\":\"object\",\"name\":\"BasicTicker\",\"id\":\"p1117\",\"attributes\":{\"mantissas\":[1,2,5]}},\"formatter\":{\"type\":\"object\",\"name\":\"BasicTickFormatter\",\"id\":\"p1118\"},\"axis_label\":\"Fall time [h]\",\"major_label_policy\":{\"type\":\"object\",\"name\":\"AllLabels\",\"id\":\"p1119\"}}}],\"center\":[{\"type\":\"object\",\"name\":\"Grid\",\"id\":\"p1120\",\"attributes\":{\"axis\":{\"id\":\"p1116\"}}},{\"type\":\"object\",\"name\":\"Grid\",\"id\":\"p1125\",\"attributes\":{\"dimension\":1,\"axis\":{\"id\":\"p1121\"}}},{\"type\":\"object\",\"name\":\"Span\",\"id\":\"p1146\",\"attributes\":{\"location\":3.723333333333334,\"dimension\":\"height\",\"line_color\":\"navy\",\"line_alpha\":0.5,\"line_width\":2,\"line_dash\":[6]}},{\"type\":\"object\",\"name\":\"BoxAnnotation\",\"id\":\"p1147\",\"attributes\":{\"left\":1.72495233049436,\"right\":15.833822292988327,\"top\":{\"type\":\"object\",\"name\":\"Node\",\"id\":\"p1150\",\"attributes\":{\"target\":\"frame\",\"symbol\":\"top\"}},\"bottom\":{\"type\":\"object\",\"name\":\"Node\",\"id\":\"p1151\",\"attributes\":{\"target\":\"frame\",\"symbol\":\"bottom\"}},\"fill_color\":\"navy\",\"fill_alpha\":0.1}}]}},0,0,1,1],[{\"type\":\"object\",\"name\":\"Figure\",\"id\":\"p1152\",\"attributes\":{\"width\":400,\"height\":300,\"x_range\":{\"type\":\"object\",\"name\":\"DataRange1d\",\"id\":\"p1153\"},\"y_range\":{\"type\":\"object\",\"name\":\"DataRange1d\",\"id\":\"p1154\"},\"x_scale\":{\"type\":\"object\",\"name\":\"LinearScale\",\"id\":\"p1162\"},\"y_scale\":{\"type\":\"object\",\"name\":\"LinearScale\",\"id\":\"p1163\"},\"title\":{\"type\":\"object\",\"name\":\"Title\",\"id\":\"p1155\",\"attributes\":{\"text\":\"Distribution of low-to-zero fall times\"}},\"renderers\":[{\"type\":\"object\",\"name\":\"GlyphRenderer\",\"id\":\"p1191\",\"attributes\":{\"data_source\":{\"type\":\"object\",\"name\":\"ColumnDataSource\",\"id\":\"p1185\",\"attributes\":{\"selected\":{\"type\":\"object\",\"name\":\"Selection\",\"id\":\"p1186\",\"attributes\":{\"indices\":[],\"line_indices\":[]}},\"selection_policy\":{\"type\":\"object\",\"name\":\"UnionRenderers\",\"id\":\"p1187\"},\"data\":{\"type\":\"map\",\"entries\":[[\"top\",{\"type\":\"ndarray\",\"array\":{\"type\":\"bytes\",\"data\":\"AQAAAAAAAAAAAAAAAAAAAAAAAAAAAAAAAAAAAAAAAAAAAAAAAAAAAAAAAAAAAAAAAAAAAAAAAAAAAAAAAAAAAAAAAAAAAAAAAAAAAAAAAAAAAAAAAAAAAAAAAAABAAAAAAAAAAAAAAAAAAAAAAAAAAAAAAAAAAAAAAAAAAAAAAAAAAAAAAAAAAAAAAAAAAAAAAAAAAAAAAAAAAAAAAAAAAAAAAAAAAAAAAAAAAAAAAAAAAAAAAAAAAAAAAAAAAAAAAAAAAAAAAAAAAAAAAAAAAAAAAAAAAAAAAAAAAAAAAAAAAAAAAAAAAAAAAAAAAAAAAAAAAAAAAAAAAAAAAAAAAAAAAAAAAAAAAAAAAAAAAAAAAAAAAAAAAAAAAAAAAAAAAAAAAAAAAAAAAAAAAAAAAAAAAAAAAAAAAAAAAAAAAAAAAAAAAAAAAAAAAAAAAAAAAAAAAAAAAAAAAAAAAAAAAAAAAAAAAAAAAAAAAAAAAAAAAAAAAAAAAAAAAAAAAAAAAAAAAAAAAAAAAAAAQAAAA==\"},\"shape\":[100],\"dtype\":\"int32\",\"order\":\"little\"}],[\"left\",{\"type\":\"ndarray\",\"array\":{\"type\":\"bytes\",\"data\":\"KlyPwvUo/D/rBDQRNjz8P62t2F92T/w/blZ9rrZi/D8v/yH99nX8P/Cnxks3ifw/slBrmnec/D9z+Q/pt6/8PzSitDf4wvw/9kpZhjjW/D+38/3UeOn8P3icoiO5/Pw/OkVHcvkP/T/77evAOSP9P7yWkA96Nv0/fj81XrpJ/T8/6Nms+lz9PwCRfvs6cP0/wTkjSnuD/T+D4seYu5b9P0SLbOf7qf0/BTQRNjy9/T/H3LWEfND9P4iFWtO84/0/SS7/If32/T8K16NwPQr+P8x/SL99Hf4/jSjtDb4w/j9O0ZFc/kP+PxB6Nqs+V/4/0SLb+X5q/j+Sy39Iv33+P1R0JJf/kP4/FR3J5T+k/j/WxW00gLf+P5huEoPAyv4/WRe30QDe/j8awFsgQfH+P9toAG+BBP8/nRGlvcEX/z9eukkMAiv/Px9j7lpCPv8/4QuTqYJR/z+itDf4wmT/P2Nd3EYDeP8/JAaBlUOL/z/mriXkg57/P6dXyjLEsf8/aABvgQTF/z8qqRPQRNj/P+tRuB6F6/8/rPpcbcX+/z+30QDeAgkAQBgmUwWjEgBAeHqlLEMcAEDZzvdT4yUAQDkjSnuDLwBAmnecoiM5AED7y+7Jw0IAQFsgQfFjTABAvHSTGARWAEAdyeU/pF8AQH0dOGdEaQBA3nGKjuRyAEA/xty1hHwAQJ8aL90khgBAAG+BBMWPAEBhw9MrZZkAQMEXJlMFowBAImx4eqWsAECCwMqhRbYAQOMUHcnlvwBARGlv8IXJAECkvcEXJtMAQAUSFD/G3ABAZmZmZmbmAEDGuriNBvAAQCcPC7Wm+QBAiGNd3EYDAUDot68D5wwBQEkMAiuHFgFAqmBUUicgAUAKtaZ5xykBQGsJ+aBnMwFAzF1LyAc9AUAssp3vp0YBQI0G8BZIUAFA7lpCPuhZAUBOr5RliGMBQK8D54wobQFAEFg5tMh2AUBwrIvbaIABQNEA3gIJigFAMlUwKqmTAUCSqYJRSZ0BQPP91HjppgFAVFInoImwAUC0pnnHKboBQBX7y+7JwwFAdU8eFmrNAUA=\"},\"shape\":[100],\"dtype\":\"float64\",\"order\":\"little\"}],[\"right\",{\"type\":\"ndarray\",\"array\":{\"type\":\"bytes\",\"data\":\"6wQ0ETY8/D+trdhfdk/8P25Wfa62Yvw/L/8h/fZ1/D/wp8ZLN4n8P7JQa5p3nPw/c/kP6bev/D80orQ3+ML8P/ZKWYY41vw/t/P91Hjp/D94nKIjufz8PzpFR3L5D/0/++3rwDkj/T+8lpAPejb9P34/NV66Sf0/P+jZrPpc/T8AkX77OnD9P8E5I0p7g/0/g+LHmLuW/T9Ei2zn+6n9PwU0ETY8vf0/x9y1hHzQ/T+IhVrTvOP9P0ku/yH99v0/CtejcD0K/j/Mf0i/fR3+P40o7Q2+MP4/TtGRXP5D/j8QejarPlf+P9Ei2/l+av4/kst/SL99/j9UdCSX/5D+PxUdyeU/pP4/1sVtNIC3/j+YbhKDwMr+P1kXt9EA3v4/GsBbIEHx/j/baABvgQT/P50Rpb3BF/8/XrpJDAIr/z8fY+5aQj7/P+ELk6mCUf8/orQ3+MJk/z9jXdxGA3j/PyQGgZVDi/8/5q4l5IOe/z+nV8oyxLH/P2gAb4EExf8/KqkT0ETY/z/rUbgehev/P6z6XG3F/v8/t9EA3gIJAEAYJlMFoxIAQHh6pSxDHABA2c73U+MlAEA5I0p7gy8AQJp3nKIjOQBA+8vuycNCAEBbIEHxY0wAQLx0kxgEVgBAHcnlP6RfAEB9HThnRGkAQN5xio7kcgBAP8bctYR8AECfGi/dJIYAQABvgQTFjwBAYcPTK2WZAEDBFyZTBaMAQCJseHqlrABAgsDKoUW2AEDjFB3J5b8AQERpb/CFyQBApL3BFybTAEAFEhQ/xtwAQGZmZmZm5gBAxrq4jQbwAEAnDwu1pvkAQIhjXdxGAwFA6LevA+cMAUBJDAIrhxYBQKpgVFInIAFACrWmeccpAUBrCfmgZzMBQMxdS8gHPQFALLKd76dGAUCNBvAWSFABQO5aQj7oWQFATq+UZYhjAUCvA+eMKG0BQBBYObTIdgFAcKyL22iAAUDRAN4CCYoBQDJVMCqpkwFAkqmCUUmdAUDz/dR46aYBQFRSJ6CJsAFAtKZ5xym6AUAV+8vuycMBQHVPHhZqzQFA1qNwPQrXAUA=\"},\"shape\":[100],\"dtype\":\"float64\",\"order\":\"little\"}]]}}},\"view\":{\"type\":\"object\",\"name\":\"CDSView\",\"id\":\"p1192\",\"attributes\":{\"filter\":{\"type\":\"object\",\"name\":\"AllIndices\",\"id\":\"p1193\"}}},\"glyph\":{\"type\":\"object\",\"name\":\"Quad\",\"id\":\"p1188\",\"attributes\":{\"left\":{\"type\":\"field\",\"field\":\"left\"},\"right\":{\"type\":\"field\",\"field\":\"right\"},\"bottom\":{\"type\":\"value\",\"value\":0},\"top\":{\"type\":\"field\",\"field\":\"top\"},\"line_color\":{\"type\":\"value\",\"value\":\"navy\"},\"fill_color\":{\"type\":\"value\",\"value\":\"navy\"},\"hatch_color\":{\"type\":\"value\",\"value\":\"navy\"}}},\"nonselection_glyph\":{\"type\":\"object\",\"name\":\"Quad\",\"id\":\"p1189\",\"attributes\":{\"left\":{\"type\":\"field\",\"field\":\"left\"},\"right\":{\"type\":\"field\",\"field\":\"right\"},\"bottom\":{\"type\":\"value\",\"value\":0},\"top\":{\"type\":\"field\",\"field\":\"top\"},\"line_color\":{\"type\":\"value\",\"value\":\"navy\"},\"line_alpha\":{\"type\":\"value\",\"value\":0.1},\"fill_color\":{\"type\":\"value\",\"value\":\"navy\"},\"fill_alpha\":{\"type\":\"value\",\"value\":0.1},\"hatch_color\":{\"type\":\"value\",\"value\":\"navy\"},\"hatch_alpha\":{\"type\":\"value\",\"value\":0.1}}},\"muted_glyph\":{\"type\":\"object\",\"name\":\"Quad\",\"id\":\"p1190\",\"attributes\":{\"left\":{\"type\":\"field\",\"field\":\"left\"},\"right\":{\"type\":\"field\",\"field\":\"right\"},\"bottom\":{\"type\":\"value\",\"value\":0},\"top\":{\"type\":\"field\",\"field\":\"top\"},\"line_color\":{\"type\":\"value\",\"value\":\"navy\"},\"line_alpha\":{\"type\":\"value\",\"value\":0.2},\"fill_color\":{\"type\":\"value\",\"value\":\"navy\"},\"fill_alpha\":{\"type\":\"value\",\"value\":0.2},\"hatch_color\":{\"type\":\"value\",\"value\":\"navy\"},\"hatch_alpha\":{\"type\":\"value\",\"value\":0.2}}}}}],\"toolbar\":{\"type\":\"object\",\"name\":\"Toolbar\",\"id\":\"p1161\",\"attributes\":{\"tools\":[{\"type\":\"object\",\"name\":\"PanTool\",\"id\":\"p1174\"},{\"type\":\"object\",\"name\":\"WheelZoomTool\",\"id\":\"p1175\",\"attributes\":{\"renderers\":\"auto\"}},{\"type\":\"object\",\"name\":\"BoxZoomTool\",\"id\":\"p1176\",\"attributes\":{\"overlay\":{\"type\":\"object\",\"name\":\"BoxAnnotation\",\"id\":\"p1177\",\"attributes\":{\"syncable\":false,\"level\":\"overlay\",\"visible\":false,\"left\":{\"type\":\"number\",\"value\":\"nan\"},\"right\":{\"type\":\"number\",\"value\":\"nan\"},\"top\":{\"type\":\"number\",\"value\":\"nan\"},\"bottom\":{\"type\":\"number\",\"value\":\"nan\"},\"left_units\":\"canvas\",\"right_units\":\"canvas\",\"top_units\":\"canvas\",\"bottom_units\":\"canvas\",\"line_color\":\"black\",\"line_alpha\":1.0,\"line_width\":2,\"line_dash\":[4,4],\"fill_color\":\"lightgrey\",\"fill_alpha\":0.5}}}},{\"type\":\"object\",\"name\":\"SaveTool\",\"id\":\"p1182\"},{\"type\":\"object\",\"name\":\"ResetTool\",\"id\":\"p1183\"},{\"type\":\"object\",\"name\":\"HelpTool\",\"id\":\"p1184\"}]}},\"left\":[{\"type\":\"object\",\"name\":\"LinearAxis\",\"id\":\"p1169\",\"attributes\":{\"ticker\":{\"type\":\"object\",\"name\":\"BasicTicker\",\"id\":\"p1170\",\"attributes\":{\"mantissas\":[1,2,5]}},\"formatter\":{\"type\":\"object\",\"name\":\"BasicTickFormatter\",\"id\":\"p1171\"},\"axis_label\":\"Frequency\",\"major_label_policy\":{\"type\":\"object\",\"name\":\"AllLabels\",\"id\":\"p1172\"}}}],\"below\":[{\"type\":\"object\",\"name\":\"LinearAxis\",\"id\":\"p1164\",\"attributes\":{\"ticker\":{\"type\":\"object\",\"name\":\"BasicTicker\",\"id\":\"p1165\",\"attributes\":{\"mantissas\":[1,2,5]}},\"formatter\":{\"type\":\"object\",\"name\":\"BasicTickFormatter\",\"id\":\"p1166\"},\"axis_label\":\"Fall time [h]\",\"major_label_policy\":{\"type\":\"object\",\"name\":\"AllLabels\",\"id\":\"p1167\"}}}],\"center\":[{\"type\":\"object\",\"name\":\"Grid\",\"id\":\"p1168\",\"attributes\":{\"axis\":{\"id\":\"p1164\"}}},{\"type\":\"object\",\"name\":\"Grid\",\"id\":\"p1173\",\"attributes\":{\"dimension\":1,\"axis\":{\"id\":\"p1169\"}}},{\"type\":\"object\",\"name\":\"Span\",\"id\":\"p1194\",\"attributes\":{\"location\":1.9533333333333331,\"dimension\":\"height\",\"line_color\":\"magenta\",\"line_alpha\":0.5,\"line_width\":2,\"line_dash\":[6]}},{\"type\":\"object\",\"name\":\"BoxAnnotation\",\"id\":\"p1195\",\"attributes\":{\"left\":0.9116733722658028,\"right\":8.500940813639687,\"top\":{\"type\":\"object\",\"name\":\"Node\",\"id\":\"p1198\",\"attributes\":{\"target\":\"frame\",\"symbol\":\"top\"}},\"bottom\":{\"type\":\"object\",\"name\":\"Node\",\"id\":\"p1199\",\"attributes\":{\"target\":\"frame\",\"symbol\":\"bottom\"}},\"fill_color\":\"magenta\",\"fill_alpha\":0.1}}]}},1,0,1,1]]}}]}};\n  const render_items = [{\"docid\":\"d12ff912-7e47-4484-8caf-75e93931fffc\",\"roots\":{\"p1200\":\"b83d2db5-4e2c-47fb-b0f5-b10a50744abc\"},\"root_ids\":[\"p1200\"]}];\n  void root.Bokeh.embed.embed_items_notebook(docs_json, render_items);\n  }\n  if (root.Bokeh !== undefined) {\n    embed_document(root);\n  } else {\n    let attempts = 0;\n    const timer = setInterval(function(root) {\n      if (root.Bokeh !== undefined) {\n        clearInterval(timer);\n        embed_document(root);\n      } else {\n        attempts++;\n        if (attempts > 100) {\n          clearInterval(timer);\n          console.log(\"Bokeh: ERROR: Unable to run BokehJS code because BokehJS library is missing\");\n        }\n      }\n    }, 10, root)\n  }\n})(window);",
      "application/vnd.bokehjs_exec.v0+json": ""
     },
     "metadata": {
      "application/vnd.bokehjs_exec.v0+json": {
       "id": "p1200"
      }
     },
     "output_type": "display_data"
    }
   ],
   "execution_count": 19
  }
 ],
 "metadata": {
  "kernelspec": {
   "display_name": "Python 3",
   "language": "python",
   "name": "python3"
  },
  "language_info": {
   "codemirror_mode": {
    "name": "ipython",
    "version": 2
   },
   "file_extension": ".py",
   "mimetype": "text/x-python",
   "name": "python",
   "nbconvert_exporter": "python",
   "pygments_lexer": "ipython2",
   "version": "2.7.6"
  }
 },
 "nbformat": 4,
 "nbformat_minor": 0
}
