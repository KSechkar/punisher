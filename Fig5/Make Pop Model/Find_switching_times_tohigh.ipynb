{
 "cells": [
  {
   "cell_type": "code",
   "source": [
    "'''\n",
    "FIND_SWITCHING_TIMES_TOHIGH.PY: Find times taken by the switch to transition between states\n",
    "'''\n",
    "# By Kirill Sechkar\n",
    "\n",
    "# PACKAGE IMPORTS \n",
    "import numpy as np\n",
    "import jax\n",
    "import jax.numpy as jnp\n",
    "import functools\n",
    "from diffrax import diffeqsolve, Dopri5, ODETerm, SaveAt, PIDController, SteadyStateEvent\n",
    "import pandas as pd\n",
    "from bokeh import plotting as bkplot, models as bkmodels, layouts as bklayouts, io as bkio\n",
    "from bokeh.colors import RGB as bkRGB\n",
    "import time\n",
    "\n",
    "# set up jax\n",
    "from jax.lib import xla_bridge\n",
    "jax.config.update('jax_platform_name', 'gpu')\n",
    "jax.config.update(\"jax_enable_x64\", True)\n",
    "print(xla_bridge.get_backend().platform)\n",
    "\n",
    "# set up bokeh\n",
    "bkio.reset_output()\n",
    "bkio.output_notebook() \n",
    "\n",
    "# OWN CODE IMPORTS\n",
    "import synthetic_circuits as circuits\n",
    "from cell_model import *\n",
    "from get_steady_state import values_for_analytical\n",
    "from Fig2.design_guidance_tools import F_real_calc,F_req_calc, pint_from_pswitch_and_xi\n",
    "from switching_time_estimation_tools import *"
   ],
   "metadata": {
    "collapsed": false,
    "ExecuteTime": {
     "end_time": "2024-06-08T12:51:41.436915Z",
     "start_time": "2024-06-08T12:51:41.301306Z"
    }
   },
   "outputs": [
    {
     "name": "stdout",
     "output_type": "stream",
     "text": [
      "cpu\n"
     ]
    },
    {
     "data": {
      "text/html": [
       "    <style>\n",
       "        .bk-notebook-logo {\n",
       "            display: block;\n",
       "            width: 20px;\n",
       "            height: 20px;\n",
       "            background-image: url(data:image/png;base64,iVBORw0KGgoAAAANSUhEUgAAABQAAAAUCAYAAACNiR0NAAAABHNCSVQICAgIfAhkiAAAAAlwSFlzAAALEgAACxIB0t1+/AAAABx0RVh0U29mdHdhcmUAQWRvYmUgRmlyZXdvcmtzIENTNui8sowAAAOkSURBVDiNjZRtaJVlGMd/1/08zzln5zjP1LWcU9N0NkN8m2CYjpgQYQXqSs0I84OLIC0hkEKoPtiH3gmKoiJDU7QpLgoLjLIQCpEsNJ1vqUOdO7ppbuec5+V+rj4ctwzd8IIbbi6u+8f1539dt3A78eXC7QizUF7gyV1fD1Yqg4JWz84yffhm0qkFqBogB9rM8tZdtwVsPUhWhGcFJngGeWrPzHm5oaMmkfEg1usvLFyc8jLRqDOMru7AyC8saQr7GG7f5fvDeH7Ej8CM66nIF+8yngt6HWaKh7k49Soy9nXurCi1o3qUbS3zWfrYeQDTB/Qj6kX6Ybhw4B+bOYoLKCC9H3Nu/leUTZ1JdRWkkn2ldcCamzrcf47KKXdAJllSlxAOkRgyHsGC/zRday5Qld9DyoM4/q/rUoy/CXh3jzOu3bHUVZeU+DEn8FInkPBFlu3+nW3Nw0mk6vCDiWg8CeJaxEwuHS3+z5RgY+YBR6V1Z1nxSOfoaPa4LASWxxdNp+VWTk7+4vzaou8v8PN+xo+KY2xsw6une2frhw05CTYOmQvsEhjhWjn0bmXPjpE1+kplmmkP3suftwTubK9Vq22qKmrBhpY4jvd5afdRA3wGjFAgcnTK2s4hY0/GPNIb0nErGMCRxWOOX64Z8RAC4oCXdklmEvcL8o0BfkNK4lUg9HTl+oPlQxdNo3Mg4Nv175e/1LDGzZen30MEjRUtmXSfiTVu1kK8W4txyV6BMKlbgk3lMwYCiusNy9fVfvvwMxv8Ynl6vxoByANLTWplvuj/nF9m2+PDtt1eiHPBr1oIfhCChQMBw6Aw0UulqTKZdfVvfG7VcfIqLG9bcldL/+pdWTLxLUy8Qq38heUIjh4XlzZxzQm19lLFlr8vdQ97rjZVOLf8nclzckbcD4wxXMidpX30sFd37Fv/GtwwhzhxGVAprjbg0gCAEeIgwCZyTV2Z1REEW8O4py0wsjeloKoMr6iCY6dP92H6Vw/oTyICIthibxjm/DfN9lVz8IqtqKYLUXfoKVMVQVVJOElGjrnnUt9T9wbgp8AyYKaGlqingHZU/uG2NTZSVqwHQTWkx9hxjkpWDaCg6Ckj5qebgBVbT3V3NNXMSiWSDdGV3hrtzla7J+duwPOToIg42ChPQOQjspnSlp1V+Gjdged7+8UN5CRAV7a5EdFNwCjEaBR27b3W890TE7g24NAP/mMDXRWrGoFPQI9ls/MWO2dWFAar/xcOIImbbpA3zgAAAABJRU5ErkJggg==);\n",
       "        }\n",
       "    </style>\n",
       "    <div>\n",
       "        <a href=\"https://bokeh.org\" target=\"_blank\" class=\"bk-notebook-logo\"></a>\n",
       "        <span id=\"eff44d56-83ba-440b-8dac-e7ec3efdee0c\">Loading BokehJS ...</span>\n",
       "    </div>\n"
      ]
     },
     "metadata": {},
     "output_type": "display_data"
    },
    {
     "data": {
      "application/javascript": "'use strict';\n(function(root) {\n  function now() {\n    return new Date();\n  }\n\n  const force = true;\n\n  if (typeof root._bokeh_onload_callbacks === \"undefined\" || force === true) {\n    root._bokeh_onload_callbacks = [];\n    root._bokeh_is_loading = undefined;\n  }\n\nconst JS_MIME_TYPE = 'application/javascript';\n  const HTML_MIME_TYPE = 'text/html';\n  const EXEC_MIME_TYPE = 'application/vnd.bokehjs_exec.v0+json';\n  const CLASS_NAME = 'output_bokeh rendered_html';\n\n  /**\n   * Render data to the DOM node\n   */\n  function render(props, node) {\n    const script = document.createElement(\"script\");\n    node.appendChild(script);\n  }\n\n  /**\n   * Handle when an output is cleared or removed\n   */\n  function handleClearOutput(event, handle) {\n    function drop(id) {\n      const view = Bokeh.index.get_by_id(id)\n      if (view != null) {\n        view.model.document.clear()\n        Bokeh.index.delete(view)\n      }\n    }\n\n    const cell = handle.cell;\n\n    const id = cell.output_area._bokeh_element_id;\n    const server_id = cell.output_area._bokeh_server_id;\n\n    // Clean up Bokeh references\n    if (id != null) {\n      drop(id)\n    }\n\n    if (server_id !== undefined) {\n      // Clean up Bokeh references\n      const cmd_clean = \"from bokeh.io.state import curstate; print(curstate().uuid_to_server['\" + server_id + \"'].get_sessions()[0].document.roots[0]._id)\";\n      cell.notebook.kernel.execute(cmd_clean, {\n        iopub: {\n          output: function(msg) {\n            const id = msg.content.text.trim()\n            drop(id)\n          }\n        }\n      });\n      // Destroy server and session\n      const cmd_destroy = \"import bokeh.io.notebook as ion; ion.destroy_server('\" + server_id + \"')\";\n      cell.notebook.kernel.execute(cmd_destroy);\n    }\n  }\n\n  /**\n   * Handle when a new output is added\n   */\n  function handleAddOutput(event, handle) {\n    const output_area = handle.output_area;\n    const output = handle.output;\n\n    // limit handleAddOutput to display_data with EXEC_MIME_TYPE content only\n    if ((output.output_type != \"display_data\") || (!Object.prototype.hasOwnProperty.call(output.data, EXEC_MIME_TYPE))) {\n      return\n    }\n\n    const toinsert = output_area.element.find(\".\" + CLASS_NAME.split(' ')[0]);\n\n    if (output.metadata[EXEC_MIME_TYPE][\"id\"] !== undefined) {\n      toinsert[toinsert.length - 1].firstChild.textContent = output.data[JS_MIME_TYPE];\n      // store reference to embed id on output_area\n      output_area._bokeh_element_id = output.metadata[EXEC_MIME_TYPE][\"id\"];\n    }\n    if (output.metadata[EXEC_MIME_TYPE][\"server_id\"] !== undefined) {\n      const bk_div = document.createElement(\"div\");\n      bk_div.innerHTML = output.data[HTML_MIME_TYPE];\n      const script_attrs = bk_div.children[0].attributes;\n      for (let i = 0; i < script_attrs.length; i++) {\n        toinsert[toinsert.length - 1].firstChild.setAttribute(script_attrs[i].name, script_attrs[i].value);\n        toinsert[toinsert.length - 1].firstChild.textContent = bk_div.children[0].textContent\n      }\n      // store reference to server id on output_area\n      output_area._bokeh_server_id = output.metadata[EXEC_MIME_TYPE][\"server_id\"];\n    }\n  }\n\n  function register_renderer(events, OutputArea) {\n\n    function append_mime(data, metadata, element) {\n      // create a DOM node to render to\n      const toinsert = this.create_output_subarea(\n        metadata,\n        CLASS_NAME,\n        EXEC_MIME_TYPE\n      );\n      this.keyboard_manager.register_events(toinsert);\n      // Render to node\n      const props = {data: data, metadata: metadata[EXEC_MIME_TYPE]};\n      render(props, toinsert[toinsert.length - 1]);\n      element.append(toinsert);\n      return toinsert\n    }\n\n    /* Handle when an output is cleared or removed */\n    events.on('clear_output.CodeCell', handleClearOutput);\n    events.on('delete.Cell', handleClearOutput);\n\n    /* Handle when a new output is added */\n    events.on('output_added.OutputArea', handleAddOutput);\n\n    /**\n     * Register the mime type and append_mime function with output_area\n     */\n    OutputArea.prototype.register_mime_type(EXEC_MIME_TYPE, append_mime, {\n      /* Is output safe? */\n      safe: true,\n      /* Index of renderer in `output_area.display_order` */\n      index: 0\n    });\n  }\n\n  // register the mime type if in Jupyter Notebook environment and previously unregistered\n  if (root.Jupyter !== undefined) {\n    const events = require('base/js/events');\n    const OutputArea = require('notebook/js/outputarea').OutputArea;\n\n    if (OutputArea.prototype.mime_types().indexOf(EXEC_MIME_TYPE) == -1) {\n      register_renderer(events, OutputArea);\n    }\n  }\n  if (typeof (root._bokeh_timeout) === \"undefined\" || force === true) {\n    root._bokeh_timeout = Date.now() + 5000;\n    root._bokeh_failed_load = false;\n  }\n\n  const NB_LOAD_WARNING = {'data': {'text/html':\n     \"<div style='background-color: #fdd'>\\n\"+\n     \"<p>\\n\"+\n     \"BokehJS does not appear to have successfully loaded. If loading BokehJS from CDN, this \\n\"+\n     \"may be due to a slow or bad network connection. Possible fixes:\\n\"+\n     \"</p>\\n\"+\n     \"<ul>\\n\"+\n     \"<li>re-rerun `output_notebook()` to attempt to load from CDN again, or</li>\\n\"+\n     \"<li>use INLINE resources instead, as so:</li>\\n\"+\n     \"</ul>\\n\"+\n     \"<code>\\n\"+\n     \"from bokeh.resources import INLINE\\n\"+\n     \"output_notebook(resources=INLINE)\\n\"+\n     \"</code>\\n\"+\n     \"</div>\"}};\n\n  function display_loaded(error = null) {\n    const el = document.getElementById(\"eff44d56-83ba-440b-8dac-e7ec3efdee0c\");\n    if (el != null) {\n      const html = (() => {\n        if (typeof root.Bokeh === \"undefined\") {\n          if (error == null) {\n            return \"BokehJS is loading ...\";\n          } else {\n            return \"BokehJS failed to load.\";\n          }\n        } else {\n          const prefix = `BokehJS ${root.Bokeh.version}`;\n          if (error == null) {\n            return `${prefix} successfully loaded.`;\n          } else {\n            return `${prefix} <b>encountered errors</b> while loading and may not function as expected.`;\n          }\n        }\n      })();\n      el.innerHTML = html;\n\n      if (error != null) {\n        const wrapper = document.createElement(\"div\");\n        wrapper.style.overflow = \"auto\";\n        wrapper.style.height = \"5em\";\n        wrapper.style.resize = \"vertical\";\n        const content = document.createElement(\"div\");\n        content.style.fontFamily = \"monospace\";\n        content.style.whiteSpace = \"pre-wrap\";\n        content.style.backgroundColor = \"rgb(255, 221, 221)\";\n        content.textContent = error.stack ?? error.toString();\n        wrapper.append(content);\n        el.append(wrapper);\n      }\n    } else if (Date.now() < root._bokeh_timeout) {\n      setTimeout(() => display_loaded(error), 100);\n    }\n  }\n\n  function run_callbacks() {\n    try {\n      root._bokeh_onload_callbacks.forEach(function(callback) {\n        if (callback != null)\n          callback();\n      });\n    } finally {\n      delete root._bokeh_onload_callbacks\n    }\n    console.debug(\"Bokeh: all callbacks have finished\");\n  }\n\n  function load_libs(css_urls, js_urls, callback) {\n    if (css_urls == null) css_urls = [];\n    if (js_urls == null) js_urls = [];\n\n    root._bokeh_onload_callbacks.push(callback);\n    if (root._bokeh_is_loading > 0) {\n      console.debug(\"Bokeh: BokehJS is being loaded, scheduling callback at\", now());\n      return null;\n    }\n    if (js_urls == null || js_urls.length === 0) {\n      run_callbacks();\n      return null;\n    }\n    console.debug(\"Bokeh: BokehJS not loaded, scheduling load and callback at\", now());\n    root._bokeh_is_loading = css_urls.length + js_urls.length;\n\n    function on_load() {\n      root._bokeh_is_loading--;\n      if (root._bokeh_is_loading === 0) {\n        console.debug(\"Bokeh: all BokehJS libraries/stylesheets loaded\");\n        run_callbacks()\n      }\n    }\n\n    function on_error(url) {\n      console.error(\"failed to load \" + url);\n    }\n\n    for (let i = 0; i < css_urls.length; i++) {\n      const url = css_urls[i];\n      const element = document.createElement(\"link\");\n      element.onload = on_load;\n      element.onerror = on_error.bind(null, url);\n      element.rel = \"stylesheet\";\n      element.type = \"text/css\";\n      element.href = url;\n      console.debug(\"Bokeh: injecting link tag for BokehJS stylesheet: \", url);\n      document.body.appendChild(element);\n    }\n\n    for (let i = 0; i < js_urls.length; i++) {\n      const url = js_urls[i];\n      const element = document.createElement('script');\n      element.onload = on_load;\n      element.onerror = on_error.bind(null, url);\n      element.async = false;\n      element.src = url;\n      console.debug(\"Bokeh: injecting script tag for BokehJS library: \", url);\n      document.head.appendChild(element);\n    }\n  };\n\n  function inject_raw_css(css) {\n    const element = document.createElement(\"style\");\n    element.appendChild(document.createTextNode(css));\n    document.body.appendChild(element);\n  }\n\n  const js_urls = [\"https://cdn.bokeh.org/bokeh/release/bokeh-3.4.0.min.js\", \"https://cdn.bokeh.org/bokeh/release/bokeh-gl-3.4.0.min.js\", \"https://cdn.bokeh.org/bokeh/release/bokeh-widgets-3.4.0.min.js\", \"https://cdn.bokeh.org/bokeh/release/bokeh-tables-3.4.0.min.js\", \"https://cdn.bokeh.org/bokeh/release/bokeh-mathjax-3.4.0.min.js\"];\n  const css_urls = [];\n\n  const inline_js = [    function(Bokeh) {\n      Bokeh.set_log_level(\"info\");\n    },\nfunction(Bokeh) {\n    }\n  ];\n\n  function run_inline_js() {\n    if (root.Bokeh !== undefined || force === true) {\n      try {\n            for (let i = 0; i < inline_js.length; i++) {\n      inline_js[i].call(root, root.Bokeh);\n    }\n\n      } catch (error) {display_loaded(error);throw error;\n      }if (force === true) {\n        display_loaded();\n      }} else if (Date.now() < root._bokeh_timeout) {\n      setTimeout(run_inline_js, 100);\n    } else if (!root._bokeh_failed_load) {\n      console.log(\"Bokeh: BokehJS failed to load within specified timeout.\");\n      root._bokeh_failed_load = true;\n    } else if (force !== true) {\n      const cell = $(document.getElementById(\"eff44d56-83ba-440b-8dac-e7ec3efdee0c\")).parents('.cell').data().cell;\n      cell.output_area.append_execute_result(NB_LOAD_WARNING)\n    }\n  }\n\n  if (root._bokeh_is_loading === 0) {\n    console.debug(\"Bokeh: BokehJS loaded, going straight to plotting\");\n    run_inline_js();\n  } else {\n    load_libs(css_urls, js_urls, function() {\n      console.debug(\"Bokeh: BokehJS plotting callback run at\", now());\n      run_inline_js();\n    });\n  }\n}(window));",
      "application/vnd.bokehjs_load.v0+json": "'use strict';\n(function(root) {\n  function now() {\n    return new Date();\n  }\n\n  const force = true;\n\n  if (typeof root._bokeh_onload_callbacks === \"undefined\" || force === true) {\n    root._bokeh_onload_callbacks = [];\n    root._bokeh_is_loading = undefined;\n  }\n\n\n  if (typeof (root._bokeh_timeout) === \"undefined\" || force === true) {\n    root._bokeh_timeout = Date.now() + 5000;\n    root._bokeh_failed_load = false;\n  }\n\n  const NB_LOAD_WARNING = {'data': {'text/html':\n     \"<div style='background-color: #fdd'>\\n\"+\n     \"<p>\\n\"+\n     \"BokehJS does not appear to have successfully loaded. If loading BokehJS from CDN, this \\n\"+\n     \"may be due to a slow or bad network connection. Possible fixes:\\n\"+\n     \"</p>\\n\"+\n     \"<ul>\\n\"+\n     \"<li>re-rerun `output_notebook()` to attempt to load from CDN again, or</li>\\n\"+\n     \"<li>use INLINE resources instead, as so:</li>\\n\"+\n     \"</ul>\\n\"+\n     \"<code>\\n\"+\n     \"from bokeh.resources import INLINE\\n\"+\n     \"output_notebook(resources=INLINE)\\n\"+\n     \"</code>\\n\"+\n     \"</div>\"}};\n\n  function display_loaded(error = null) {\n    const el = document.getElementById(\"eff44d56-83ba-440b-8dac-e7ec3efdee0c\");\n    if (el != null) {\n      const html = (() => {\n        if (typeof root.Bokeh === \"undefined\") {\n          if (error == null) {\n            return \"BokehJS is loading ...\";\n          } else {\n            return \"BokehJS failed to load.\";\n          }\n        } else {\n          const prefix = `BokehJS ${root.Bokeh.version}`;\n          if (error == null) {\n            return `${prefix} successfully loaded.`;\n          } else {\n            return `${prefix} <b>encountered errors</b> while loading and may not function as expected.`;\n          }\n        }\n      })();\n      el.innerHTML = html;\n\n      if (error != null) {\n        const wrapper = document.createElement(\"div\");\n        wrapper.style.overflow = \"auto\";\n        wrapper.style.height = \"5em\";\n        wrapper.style.resize = \"vertical\";\n        const content = document.createElement(\"div\");\n        content.style.fontFamily = \"monospace\";\n        content.style.whiteSpace = \"pre-wrap\";\n        content.style.backgroundColor = \"rgb(255, 221, 221)\";\n        content.textContent = error.stack ?? error.toString();\n        wrapper.append(content);\n        el.append(wrapper);\n      }\n    } else if (Date.now() < root._bokeh_timeout) {\n      setTimeout(() => display_loaded(error), 100);\n    }\n  }\n\n  function run_callbacks() {\n    try {\n      root._bokeh_onload_callbacks.forEach(function(callback) {\n        if (callback != null)\n          callback();\n      });\n    } finally {\n      delete root._bokeh_onload_callbacks\n    }\n    console.debug(\"Bokeh: all callbacks have finished\");\n  }\n\n  function load_libs(css_urls, js_urls, callback) {\n    if (css_urls == null) css_urls = [];\n    if (js_urls == null) js_urls = [];\n\n    root._bokeh_onload_callbacks.push(callback);\n    if (root._bokeh_is_loading > 0) {\n      console.debug(\"Bokeh: BokehJS is being loaded, scheduling callback at\", now());\n      return null;\n    }\n    if (js_urls == null || js_urls.length === 0) {\n      run_callbacks();\n      return null;\n    }\n    console.debug(\"Bokeh: BokehJS not loaded, scheduling load and callback at\", now());\n    root._bokeh_is_loading = css_urls.length + js_urls.length;\n\n    function on_load() {\n      root._bokeh_is_loading--;\n      if (root._bokeh_is_loading === 0) {\n        console.debug(\"Bokeh: all BokehJS libraries/stylesheets loaded\");\n        run_callbacks()\n      }\n    }\n\n    function on_error(url) {\n      console.error(\"failed to load \" + url);\n    }\n\n    for (let i = 0; i < css_urls.length; i++) {\n      const url = css_urls[i];\n      const element = document.createElement(\"link\");\n      element.onload = on_load;\n      element.onerror = on_error.bind(null, url);\n      element.rel = \"stylesheet\";\n      element.type = \"text/css\";\n      element.href = url;\n      console.debug(\"Bokeh: injecting link tag for BokehJS stylesheet: \", url);\n      document.body.appendChild(element);\n    }\n\n    for (let i = 0; i < js_urls.length; i++) {\n      const url = js_urls[i];\n      const element = document.createElement('script');\n      element.onload = on_load;\n      element.onerror = on_error.bind(null, url);\n      element.async = false;\n      element.src = url;\n      console.debug(\"Bokeh: injecting script tag for BokehJS library: \", url);\n      document.head.appendChild(element);\n    }\n  };\n\n  function inject_raw_css(css) {\n    const element = document.createElement(\"style\");\n    element.appendChild(document.createTextNode(css));\n    document.body.appendChild(element);\n  }\n\n  const js_urls = [\"https://cdn.bokeh.org/bokeh/release/bokeh-3.4.0.min.js\", \"https://cdn.bokeh.org/bokeh/release/bokeh-gl-3.4.0.min.js\", \"https://cdn.bokeh.org/bokeh/release/bokeh-widgets-3.4.0.min.js\", \"https://cdn.bokeh.org/bokeh/release/bokeh-tables-3.4.0.min.js\", \"https://cdn.bokeh.org/bokeh/release/bokeh-mathjax-3.4.0.min.js\"];\n  const css_urls = [];\n\n  const inline_js = [    function(Bokeh) {\n      Bokeh.set_log_level(\"info\");\n    },\nfunction(Bokeh) {\n    }\n  ];\n\n  function run_inline_js() {\n    if (root.Bokeh !== undefined || force === true) {\n      try {\n            for (let i = 0; i < inline_js.length; i++) {\n      inline_js[i].call(root, root.Bokeh);\n    }\n\n      } catch (error) {display_loaded(error);throw error;\n      }if (force === true) {\n        display_loaded();\n      }} else if (Date.now() < root._bokeh_timeout) {\n      setTimeout(run_inline_js, 100);\n    } else if (!root._bokeh_failed_load) {\n      console.log(\"Bokeh: BokehJS failed to load within specified timeout.\");\n      root._bokeh_failed_load = true;\n    } else if (force !== true) {\n      const cell = $(document.getElementById(\"eff44d56-83ba-440b-8dac-e7ec3efdee0c\")).parents('.cell').data().cell;\n      cell.output_area.append_execute_result(NB_LOAD_WARNING)\n    }\n  }\n\n  if (root._bokeh_is_loading === 0) {\n    console.debug(\"Bokeh: BokehJS loaded, going straight to plotting\");\n    run_inline_js();\n  } else {\n    load_libs(css_urls, js_urls, function() {\n      console.debug(\"Bokeh: BokehJS plotting callback run at\", now());\n      run_inline_js();\n    });\n  }\n}(window));"
     },
     "metadata": {},
     "output_type": "display_data"
    }
   ],
   "execution_count": 24
  },
  {
   "metadata": {
    "ExecuteTime": {
     "end_time": "2024-06-08T12:51:41.447067Z",
     "start_time": "2024-06-08T12:51:41.440717Z"
    }
   },
   "cell_type": "code",
   "source": [
    "# INITIALISE CELL MODEL, LOAD THE CIRCUIT\n",
    "\n",
    "# initialise cell model\n",
    "cellmodel_auxil = CellModelAuxiliary()  # auxiliary tools for simulating the model and plotting simulation outcomes\n",
    "par = cellmodel_auxil.default_params()  # get default parameter values\n",
    "init_conds = cellmodel_auxil.default_init_conds(par)  # get default initial conditions\n",
    "\n",
    "# load synthetic gene circuit\n",
    "ode_with_circuit, circuit_F_calc, circuit_eff_m_het_div_k_het,\\\n",
    "    par, init_conds, circuit_genes, circuit_miscs, circuit_name2pos, circuit_styles, circuit_v = cellmodel_auxil.add_circuit(\n",
    "    circuits.punisher_b_initialise,\n",
    "    circuits.punisher_b_ode,\n",
    "    circuits.punisher_b_F_calc,\n",
    "    circuits.punisher_b_eff_m_het_div_k_het,\n",
    "    par, init_conds,\n",
    "    circuit_v=circuits.punisher_b_v)  # load the circuit"
   ],
   "outputs": [],
   "execution_count": 25
  },
  {
   "metadata": {
    "ExecuteTime": {
     "end_time": "2024-06-08T12:51:41.455218Z",
     "start_time": "2024-06-08T12:51:41.448946Z"
    }
   },
   "cell_type": "code",
   "source": [
    "# PARAMETERISE THE CIRCUIT\n",
    "\n",
    "# BURDENSOME SYNTHETIC GENE\n",
    "par['c_b'] = 1\n",
    "par['a_b'] = 1e5\n",
    "\n",
    "# PUNISHER\n",
    "# switch gene conc\n",
    "par['c_switch'] = 10.0  # gene concentration (nM)\n",
    "par['a_switch'] = 400.0  # promoter strength (unitless)\n",
    "par['d_switch']=0.01836\n",
    "# integrase - expressed from the switch gene's operon, not its own gene => c_int, a_int irrelevant\n",
    "par['k+_int'] = par['k+_switch']/80.0  # RBS weaker than for the switch gene\n",
    "par['d_int'] = 0.0#0.01836 # rate of integrase degradation per protease molecule (1/nM/h)\n",
    "# CAT (antibiotic resistance) gene\n",
    "init_conds['cat_pb'] = 10.0  # gene concentration (nM) - INITIAL CONDITION< NOT PARAMETER as it can be cut out by the integrase\n",
    "par['a_cat'] = 500.0  # promoter strength (unitless)\n",
    "# synthetic protease gene\n",
    "par['c_prot'] = 10.0  # gene concentration (nM)\n",
    "par['a_prot'] = 25.0  # promoter strength (unitless)\n",
    "init_conds['p_prot'] = 1500.0 # if zero at start, the punisher's triggered prematurely\n",
    "\n",
    "# punisher's transcription regulation function\n",
    "par['K_switch'] = 300.0  # Half-saturation constant for the self-activating switch gene promoter (nM)\n",
    "par['eta_switch'] = 2 # Hill coefficient for the self-activating switch gene promoter (unitless)\n",
    "par['baseline_switch'] = 0.025  # Baseline value of the switch gene's transcription activation function\n",
    "par['baseline_switch_alt'] = 0\n",
    "par['p_switch_ac_frac'] = 0.85  # active fraction of protein (i.e. share of molecules bound by the inducer)\n",
    "\n",
    "# CULTURE MEDIUM\n",
    "init_conds['s'] = 0.5\n",
    "par['h_ext'] = 10.5 * (10.0 ** 3)\n",
    "\n",
    "# LOOKING AT TRANSITIONS WITH CAT AWLAYS PRESENT => INTEGRASE INACTIVE\n",
    "par['k_sxf']=0.0"
   ],
   "outputs": [],
   "execution_count": 26
  },
  {
   "metadata": {
    "ExecuteTime": {
     "end_time": "2024-06-08T12:51:41.459996Z",
     "start_time": "2024-06-08T12:51:41.457105Z"
    }
   },
   "cell_type": "code",
   "source": [
    "# SET DETERMINISTIC SIMULATION PARAMETERS\n",
    "\n",
    "# diffrax simulator\n",
    "savetimestep = 0.1  # save time step\n",
    "rtol = 1e-6  # relative tolerance for the ODE solver\n",
    "atol = 1e-6  # absolute tolerance for the ODE solver"
   ],
   "outputs": [],
   "execution_count": 27
  },
  {
   "cell_type": "code",
   "source": [
    "# SET TAU-LEAP SIMULATION PARAMETERS\n",
    "\n",
    "tau = 5e-7  # simulation time step\n",
    "tau_odestep = 5e-7  # number of ODE integration steps in a single tau-leap step (smaller than tau)\n",
    "tau_savetimestep = 1e-2  # save time step a multiple of tau\n",
    "key_seeds=np.arange(0,30000,1) # random number generator seeds - NUMBER OF KEYS DEFINES NUMBER OF TRAJECTORIES\n",
    "key_seeds_no_b=key_seeds.copy()  # same number of trajectories for the case with the xtra gene absent\n",
    "tau_leap_sim_duration=10 # duration of the tau-leap simulation (h)"
   ],
   "metadata": {
    "collapsed": false,
    "ExecuteTime": {
     "end_time": "2024-06-08T12:51:41.466399Z",
     "start_time": "2024-06-08T12:51:41.461061Z"
    }
   },
   "outputs": [],
   "execution_count": 28
  },
  {
   "cell_type": "code",
   "source": [
    "# get the cellular variables in steady state without burden\n",
    "e, F_r, h, xis, Ps = values_for_analytical(par, ode_with_circuit, init_conds,\n",
    "                                           circuit_genes, circuit_miscs,\n",
    "                                           circuit_name2pos,\n",
    "                                           circuit_F_calc,\n",
    "                                           circuit_eff_m_het_div_k_het)\n",
    "# record the cellular variables\n",
    "cellvars = {'e': e, 'F_r': F_r,  # translation elongation rate and ribosome trnscription regulation\n",
    "            'h': h,  # intacellular chlorampenicol concentration\n",
    "            # burden values\n",
    "            'xi_a': xis['a'], 'xi_r': xis['r'], 'xi_other_genes': xis['other'], 'xi_cat': xis['cat'],\n",
    "            'xi_switch_max': xis['switch (max)'], 'xi_int_max': xis['int (max)'], 'xi_prot': xis['prot'],\n",
    "            # protein degradation correction factors for the switch protein and the integrase\n",
    "            'chi_switch': Ps['switch'], 'chi_int': Ps['int']}\n",
    "xi_total = xis['a'] + xis['r'] + xis['other'] + xis['cat'] + xis['switch (max)'] + xis['int (max)'] + xis['prot'] # total burden\n",
    "xi_no_b = xi_total - xis['other'] # burden without the burdensome gene"
   ],
   "metadata": {
    "collapsed": false,
    "ExecuteTime": {
     "end_time": "2024-06-08T12:51:51.308415Z",
     "start_time": "2024-06-08T12:51:41.467674Z"
    }
   },
   "outputs": [],
   "execution_count": 29
  },
  {
   "cell_type": "code",
   "source": [
    "# DEFINE SWITCH STATES FOR ALL GENES PRESENT\n",
    "# greatest possible p_switch level - for zero extra burden so that it's max across all conditions\n",
    "p_switch_upper_bound = np.ceil(cellvars['xi_switch_max'] * (1/(1+cellvars['chi_switch'])) / (\n",
    "        cellvars['xi_switch_max'] + cellvars['xi_int_max'] + cellvars['xi_prot'] + cellvars['xi_cat'] + cellvars['xi_a'] + cellvars['xi_r']\n",
    "        ) * par['M'] * (1 - par['phi_q']) / par['n_switch'])  # upper bound for p_switch (to get the high equilibrium)\n",
    "\n",
    "# axis of p_switch values - there can only be an integer number of proteins\n",
    "p_switches=np.arange(0,p_switch_upper_bound+0.1,1)\n",
    "\n",
    "# define function for calculating the squared difference between the required and actual F values\n",
    "sqdiff = lambda p_switch: (F_real_calc(p_switch, par) - F_req_calc(p_switch, xi_total, par, cellvars)) ** 2\n",
    "\n",
    "# find the squared differences\n",
    "sqdiffs=np.zeros_like(p_switches)\n",
    "for i in range(0,len(p_switches)):\n",
    "    sqdiffs[i]=sqdiff(p_switches[i])\n",
    "\n",
    "# find the local minima and maxima in squared differences\n",
    "loc_minima=[]\n",
    "loc_maxima=[]\n",
    "for i in range(1,len(p_switches)-1):\n",
    "    # detect a local minimum\n",
    "    if(sqdiffs[i]<=sqdiffs[i-1] and sqdiffs[i]<=sqdiffs[i+1]):\n",
    "        loc_minima.append(p_switches[i])\n",
    "    # detect a local maximum\n",
    "    elif(sqdiffs[i]>=sqdiffs[i-1] and sqdiffs[i]>=sqdiffs[i+1]):\n",
    "        loc_maxima.append(p_switches[i])\n",
    "\n",
    "# print results\n",
    "print('Local minima in squared difference:',loc_minima)\n",
    "print('Local maxima in squared difference:',loc_maxima)\n",
    "\n",
    "# based on our prior findings, with burden present we expect two stable equilibria and one unstable equilibrium between them\n",
    "# this corresponds to three local minima and two local maxima in the squared difference between F values\n",
    "if (len(loc_minima)==3 and len(loc_maxima)==2):\n",
    "    p_switch_low=loc_minima[0]  # low state standing for low-concentration stable equilibrium\n",
    "    p_switch_high=loc_minima[2] # high state standing for high-concentration stable equilibrium\n",
    "    p_switch_boundary=loc_minima[1] # boundary between states standing for unstable equilibrium\n",
    "    print('Low state representative p_switch:',p_switch_low)\n",
    "    print('High state representative p_switch:',p_switch_high)\n",
    "    print('Boundary between states:',p_switch_boundary)\n",
    "else:\n",
    "    print('Something weird is going on')"
   ],
   "metadata": {
    "collapsed": false,
    "ExecuteTime": {
     "end_time": "2024-06-08T12:51:51.315846Z",
     "start_time": "2024-06-08T12:51:51.309416Z"
    }
   },
   "outputs": [
    {
     "name": "stdout",
     "output_type": "stream",
     "text": [
      "Local minima in squared difference: [35.0, 102.0, 878.0]\n",
      "Local maxima in squared difference: [67.0, 461.0]\n",
      "Low state representative p_switch: 35.0\n",
      "High state representative p_switch: 878.0\n",
      "Boundary between states: 102.0\n"
     ]
    }
   ],
   "execution_count": 30
  },
  {
   "cell_type": "code",
   "source": [
    "# SIMULATE FOR XTRA GENE PRESENT\n",
    "\n",
    "# GET LOW-EXPRESSION DETERMINISTIC STEADY STATE FOR ALL GENES PRESENT\n",
    "init_conds['p_switch'] = 0 # to get low equilibrium, start at zero\n",
    "# initial simulation to get the steady state without gene expression loss\n",
    "tf = (0, 50)  # simulation time frame\n",
    "sol=ode_sim(par,    # dictionary with model parameters\n",
    "            ode_with_circuit,   #  ODE function for the cell with synthetic circuit\n",
    "            cellmodel_auxil.x0_from_init_conds(init_conds,circuit_genes,circuit_miscs),  # initial condition VECTOR\n",
    "            len(circuit_genes), len(circuit_miscs), circuit_name2pos, # dictionaries with circuit gene and miscellaneous specie names, species name to vector position decoder\n",
    "            cellmodel_auxil.synth_gene_params_for_jax(par,circuit_genes), # synthetic gene parameters for calculating k values\n",
    "            tf, jnp.arange(tf[0], tf[1]+savetimestep/2, savetimestep), # time frame and time axis for saving the system's state\n",
    "            rtol, atol)    # relative and absolute tolerances\n",
    "ts_det=np.array(sol.ts)\n",
    "xs_det=np.array(sol.ys)\n",
    "# get the steady state from the deterministic simulation\n",
    "det_steady_x = xs_det[-1, :]"
   ],
   "metadata": {
    "collapsed": false,
    "ExecuteTime": {
     "end_time": "2024-06-08T12:51:57.526565Z",
     "start_time": "2024-06-08T12:51:51.316766Z"
    }
   },
   "outputs": [],
   "execution_count": 31
  },
  {
   "metadata": {
    "ExecuteTime": {
     "end_time": "2024-06-08T12:51:57.530870Z",
     "start_time": "2024-06-08T12:51:57.527659Z"
    }
   },
   "cell_type": "code",
   "source": [
    "# INTEGRASE CONCENTRATIONS FROM SWITCH PROTEIN CONCENTRATION\n",
    "p_int_low=pint_from_pswitch_and_xi(p_switch_low,xis['a'] + xis['r'] + xis['other'] + xis['cat'] + xis['prot'],par, cellvars)\n",
    "p_int_high=pint_from_pswitch_and_xi(p_switch_high,xis['a'] + xis['r'] + xis['other'] + xis['cat'] + xis['prot'],par, cellvars)\n",
    "print('Integrase concentration at low state:',p_int_low)\n",
    "print('Integrase concentration at high state:',p_int_high)"
   ],
   "outputs": [
    {
     "name": "stdout",
     "output_type": "stream",
     "text": [
      "Integrase concentration at low state: 3.5086100980161605\n",
      "Integrase concentration at high state: 87.91830437347966\n"
     ]
    }
   ],
   "execution_count": 32
  },
  {
   "metadata": {
    "ExecuteTime": {
     "end_time": "2024-06-08T12:51:57.535375Z",
     "start_time": "2024-06-08T12:51:57.532925Z"
    }
   },
   "cell_type": "code",
   "source": [
    "# SWITCH CONDITION DEFINITION\n",
    "\n",
    "# condition for RISING to a higher state\n",
    "def switch_condition_rise(x,next_x,switch_boundary,p_pos):\n",
    "    return jnp.logical_and(x[p_pos]<switch_boundary,\n",
    "                           next_x[p_pos]>=switch_boundary)"
   ],
   "outputs": [],
   "execution_count": 33
  },
  {
   "metadata": {
    "ExecuteTime": {
     "end_time": "2024-06-08T12:51:57.538764Z",
     "start_time": "2024-06-08T12:51:57.536552Z"
    }
   },
   "cell_type": "code",
   "source": [
    "# MEMORY-EFFICIENT SWITCH TIME DETERMINATION\n",
    "\n",
    "# we consider state switched when we come within  10% OF CHARACTERISTIC PROTEIN CONCENTRATION\n",
    "sc_low_to_high=lambda x, next_x: switch_condition_rise(x,next_x,0.9*p_int_high,circuit_name2pos['p_int']) # high to low switching\n",
    "sc_unnecessary=lambda x, next_x: jnp.zeros_like(x[circuit_name2pos['p_int']],dtype=bool) # second switch condition check unnecessary here"
   ],
   "outputs": [],
   "execution_count": 34
  },
  {
   "metadata": {
    "ExecuteTime": {
     "end_time": "2024-06-08T13:05:09.016862Z",
     "start_time": "2024-06-08T12:51:57.539639Z"
    }
   },
   "cell_type": "code",
   "source": [
    "tf_hybrid = (ts_det[-1], ts_det[-1] + tau_leap_sim_duration)  # simulation time frame\n",
    "mRNA_count_scales, S, x0_tauleap, circuit_synpos2genename, keys0 = tauleap_sim_prep(par, len(circuit_genes),\n",
    "                                                                                    len(circuit_miscs),\n",
    "                                                                                    circuit_name2pos, det_steady_x,\n",
    "                                                                                    key_seeds=key_seeds)\n",
    "\n",
    "low_to_high_switch_times_since_stochstart, _, \\\n",
    "            final_keys_hybrid = tauleap_sim_switch(par,  # dictionary with model parameters\n",
    "                                                    circuit_v,  # circuit reaction propensity calculator\n",
    "                                                    circuit_eff_m_het_div_k_het, # calculate the total effective mRNA conc./k value for all synthetic genes\n",
    "                                                    x0_tauleap, # initial condition VECTOR (processed to make sure random variables are appropriate integers)\n",
    "                                                    len(circuit_genes), len(circuit_miscs),\n",
    "                                                    circuit_name2pos,\n",
    "                                                    cellmodel_auxil.synth_gene_params_for_jax(par,\n",
    "                                                                                       circuit_genes), # synthetic gene parameters for calculating k values\n",
    "                                                    tf_hybrid, tau, tau_odestep, tau_savetimestep, # simulation parameters: time frame, tau leap step size, number of ode integration steps in a single tau leap step\n",
    "                                                    mRNA_count_scales, S, circuit_synpos2genename, # mRNA count scaling factor, stoichiometry matrix, synthetic gene number in list of synth. genes to name decoder\n",
    "                                                    keys0, # starting random number genereation key\n",
    "                                                    sc_low_to_high, sc_unnecessary\n",
    "                                                    )  \n",
    "\n",
    "# record switching times in numpy arrays\n",
    "low_to_high_switch_times=np.array(low_to_high_switch_times_since_stochstart) # we need times of falling to zero since REACHING THE LOW STATE\n",
    "\n",
    "# print results\n",
    "print('Low-to-high switch times:',low_to_high_switch_times)\n",
    "\n",
    "# clean memory\n",
    "del final_keys_hybrid"
   ],
   "outputs": [
    {
     "name": "stdout",
     "output_type": "stream",
     "text": [
      "Low-to-high switch times: [4.25 3.93 0.   5.22 0.   9.05 0.   0.   9.19 0.  ]\n"
     ]
    }
   ],
   "execution_count": 35
  },
  {
   "metadata": {
    "ExecuteTime": {
     "end_time": "2024-06-08T13:05:09.217954Z",
     "start_time": "2024-06-08T13:05:09.018815Z"
    }
   },
   "cell_type": "code",
   "source": [
    "# ESTIMATE SWITCHING TIMES AND CONFIDENCE INTERVALS\n",
    "\n",
    "# low-to-high switch times\n",
    "N=len(key_seeds) # number of samples\n",
    "T=tau_leap_sim_duration # total simulation time\n",
    "print('Number of samples:',N)\n",
    "print('')\n",
    "print('Sampling time interval for low-to-high switch times:',T)\n",
    "high_to_low_mle=find_mle(low_to_high_switch_times,N,T) # maximum likelihood estimate\n",
    "high_to_low_leftconfint, high_to_low_rightconfint=np.array(find_confint(high_to_low_mle,N,T,0.05)) # 95% confidence interval\n",
    "print('Low-to-high switch times MLE:',high_to_low_mle)\n",
    "print('Low-to-high switch times 95% confidence interval:',high_to_low_leftconfint, high_to_low_rightconfint)"
   ],
   "outputs": [
    {
     "name": "stdout",
     "output_type": "stream",
     "text": [
      "Number of samples: 10\n",
      "\n",
      "Sampling time interval for low-to-high switch times: 10\n",
      "Low-to-high switch times MLE: 16.328\n",
      "Low-to-high switch times 95% confidence interval: 7.645510221141436 42.532143005737794\n"
     ]
    }
   ],
   "execution_count": 36
  },
  {
   "cell_type": "code",
   "source": [
    "# PLOT SWITCH TRAJECTORIES\n",
    "hist_bins=100\n",
    "\n",
    "# HISTOGRAM OF FALL TIMES: HIGH TO LOW\n",
    "falltime_htl_hist_withburden=bkplot.figure(title='Distribution of low-to-high switch times',\n",
    "                                   x_axis_label='Fall time [h]',\n",
    "                                   y_axis_label='Frequency',\n",
    "                                   width=400,height=300)\n",
    "# get numpy histogram\n",
    "ft_htl_hist_withburden, ftl_htl_edges_withburden=np.histogram(low_to_high_switch_times,bins=hist_bins,density=False)\n",
    "# plot histogram\n",
    "falltime_htl_hist_withburden.quad(top=ft_htl_hist_withburden, bottom=0,\n",
    "                              left=ftl_htl_edges_withburden[:-1], right=ftl_htl_edges_withburden[1:],\n",
    "                            color='magenta')\n",
    "# mark mean fall time\n",
    "falltime_htl_hist_withburden.add_layout(bkmodels.Span(location=high_to_low_mle, dimension='height',\n",
    "                                              line_dash='dashed', line_color='navy', line_width=2, line_alpha=0.5))\n",
    "# mark 95% confidence interval for fall times\n",
    "falltime_htl_hist_withburden.add_layout(bkmodels.BoxAnnotation(left=high_to_low_leftconfint, right=high_to_low_rightconfint,\n",
    "                                                       fill_color='navy', fill_alpha=0.1)) # range\n",
    "\n",
    "# show plot\n",
    "bkplot.show(falltime_htl_hist_withburden)"
   ],
   "metadata": {
    "collapsed": false,
    "ExecuteTime": {
     "end_time": "2024-06-08T13:05:09.265500Z",
     "start_time": "2024-06-08T13:05:09.218904Z"
    }
   },
   "outputs": [
    {
     "data": {
      "text/html": [
       "\n",
       "  <div id=\"fb7fa7a3-dcf9-4918-a172-4c972366f9bd\" data-root-id=\"p1103\" style=\"display: contents;\"></div>\n"
      ]
     },
     "metadata": {},
     "output_type": "display_data"
    },
    {
     "data": {
      "application/javascript": "(function(root) {\n  function embed_document(root) {\n  const docs_json = {\"5f02987b-21b9-401b-8cc4-ff201eed2053\":{\"version\":\"3.4.0\",\"title\":\"Bokeh Application\",\"roots\":[{\"type\":\"object\",\"name\":\"Figure\",\"id\":\"p1103\",\"attributes\":{\"width\":400,\"height\":300,\"x_range\":{\"type\":\"object\",\"name\":\"DataRange1d\",\"id\":\"p1104\"},\"y_range\":{\"type\":\"object\",\"name\":\"DataRange1d\",\"id\":\"p1105\"},\"x_scale\":{\"type\":\"object\",\"name\":\"LinearScale\",\"id\":\"p1113\"},\"y_scale\":{\"type\":\"object\",\"name\":\"LinearScale\",\"id\":\"p1114\"},\"title\":{\"type\":\"object\",\"name\":\"Title\",\"id\":\"p1106\",\"attributes\":{\"text\":\"Distribution of low-to-high switch times\"}},\"renderers\":[{\"type\":\"object\",\"name\":\"GlyphRenderer\",\"id\":\"p1142\",\"attributes\":{\"data_source\":{\"type\":\"object\",\"name\":\"ColumnDataSource\",\"id\":\"p1136\",\"attributes\":{\"selected\":{\"type\":\"object\",\"name\":\"Selection\",\"id\":\"p1137\",\"attributes\":{\"indices\":[],\"line_indices\":[]}},\"selection_policy\":{\"type\":\"object\",\"name\":\"UnionRenderers\",\"id\":\"p1138\"},\"data\":{\"type\":\"map\",\"entries\":[[\"top\",{\"type\":\"ndarray\",\"array\":{\"type\":\"bytes\",\"data\":\"BQAAAAAAAAAAAAAAAAAAAAAAAAAAAAAAAAAAAAAAAAAAAAAAAAAAAAAAAAAAAAAAAAAAAAAAAAAAAAAAAAAAAAAAAAAAAAAAAAAAAAAAAAAAAAAAAAAAAAAAAAAAAAAAAAAAAAAAAAAAAAAAAAAAAAAAAAAAAAAAAAAAAAAAAAAAAAAAAAAAAAAAAAAAAAAAAAAAAAAAAAAAAAAAAAAAAAAAAAAAAAAAAQAAAAAAAAAAAAAAAAAAAAEAAAAAAAAAAAAAAAAAAAAAAAAAAAAAAAAAAAAAAAAAAAAAAAAAAAABAAAAAAAAAAAAAAAAAAAAAAAAAAAAAAAAAAAAAAAAAAAAAAAAAAAAAAAAAAAAAAAAAAAAAAAAAAAAAAAAAAAAAAAAAAAAAAAAAAAAAAAAAAAAAAAAAAAAAAAAAAAAAAAAAAAAAAAAAAAAAAAAAAAAAAAAAAAAAAAAAAAAAAAAAAAAAAAAAAAAAAAAAAAAAAAAAAAAAAAAAAAAAAAAAAAAAAAAAAAAAAABAAAAAQAAAA==\"},\"shape\":[100],\"dtype\":\"int32\",\"order\":\"little\"}],[\"left\",{\"type\":\"ndarray\",\"array\":{\"type\":\"bytes\",\"data\":\"AAAAAAAAAABJnYAmwoa3P0mdgCbChsc/93XgnBGl0T9JnYAmwobXP5vEILByaN0/93XgnBGl4T+gibDh6ZXkP0mdgCbChuc/8rBQa5p36j+bxCCwcmjtPyJseHqlLPA/93XgnBGl8T/Lf0i/fR3zP6CJsOHplfQ/dJMYBFYO9j9JnYAmwob3Px6n6Egu//g/8rBQa5p3+j/HuriNBvD7P5vEILByaP0/cM6I0t7g/j8ibHh6pSwAQAxxrIvb6ABA93XgnBGlAUDhehSuR2ECQMt/SL99HQNAtoR80LPZA0CgibDh6ZUEQIqO5PIfUgVAdJMYBFYOBkBfmEwVjMoGQEmdgCbChgdAM6K0N/hCCEAep+hILv8IQAisHFpkuwlA8rBQa5p3CkDctYR80DMLQMe6uI0G8AtAsb/snjysDECbxCCwcmgNQIbJVMGoJA5AcM6I0t7gDkBa07zjFJ0PQCJseHqlLBBAl24Sg8CKEEAMcayL2+gQQIJzRpT2RhFA93XgnBGlEUBseHqlLAMSQOF6FK5HYRJAVn2utmK/EkDLf0i/fR0TQECC4seYexNAtoR80LPZE0ArhxbZzjcUQKCJsOHplRRAFYxK6gT0FECKjuTyH1IVQP+Qfvs6sBVAdJMYBFYOFkDqlbIMcWwWQF+YTBWMyhZA1JrmHacoF0BJnYAmwoYXQL6fGi/d5BdAM6K0N/hCGECopE5AE6EYQB6n6Egu/xhAk6mCUUldGUAIrBxaZLsZQH2utmJ/GRpA8rBQa5p3GkBns+pztdUaQNy1hHzQMxtAUrgeheuRG0DHuriNBvAbQDy9UpYhThxAsb/snjysHEAmwoanVwodQJvEILByaB1AEMe6uI3GHUCGyVTBqCQeQPvL7snDgh5AcM6I0t7gHkDl0CLb+T4fQFrTvOMUnR9Az9VW7C/7H0AibHh6pSwgQF1txf6yWyBAl24Sg8CKIEDSb18HzrkgQAxxrIvb6CBAR3L5D+kXIUCCc0aU9kYhQLx0kxgEdiFA93XgnBGlIUAxdy0hH9QhQGx4eqUsAyJApnnHKToyIkA=\"},\"shape\":[100],\"dtype\":\"float64\",\"order\":\"little\"}],[\"right\",{\"type\":\"ndarray\",\"array\":{\"type\":\"bytes\",\"data\":\"SZ2AJsKGtz9JnYAmwobHP/d14JwRpdE/SZ2AJsKG1z+bxCCwcmjdP/d14JwRpeE/oImw4emV5D9JnYAmwobnP/KwUGuad+o/m8QgsHJo7T8ibHh6pSzwP/d14JwRpfE/y39Iv30d8z+gibDh6ZX0P3STGARWDvY/SZ2AJsKG9z8ep+hILv/4P/KwUGuad/o/x7q4jQbw+z+bxCCwcmj9P3DOiNLe4P4/Imx4eqUsAEAMcayL2+gAQPd14JwRpQFA4XoUrkdhAkDLf0i/fR0DQLaEfNCz2QNAoImw4emVBECKjuTyH1IFQHSTGARWDgZAX5hMFYzKBkBJnYAmwoYHQDOitDf4QghAHqfoSC7/CEAIrBxaZLsJQPKwUGuadwpA3LWEfNAzC0DHuriNBvALQLG/7J48rAxAm8QgsHJoDUCGyVTBqCQOQHDOiNLe4A5AWtO84xSdD0AibHh6pSwQQJduEoPAihBADHGsi9voEECCc0aU9kYRQPd14JwRpRFAbHh6pSwDEkDhehSuR2ESQFZ9rrZivxJAy39Iv30dE0BAguLHmHsTQLaEfNCz2RNAK4cW2c43FECgibDh6ZUUQBWMSuoE9BRAio7k8h9SFUD/kH77OrAVQHSTGARWDhZA6pWyDHFsFkBfmEwVjMoWQNSa5h2nKBdASZ2AJsKGF0C+nxov3eQXQDOitDf4QhhAqKROQBOhGEAep+hILv8YQJOpglFJXRlACKwcWmS7GUB9rrZifxkaQPKwUGuadxpAZ7Pqc7XVGkDctYR80DMbQFK4HoXrkRtAx7q4jQbwG0A8vVKWIU4cQLG/7J48rBxAJsKGp1cKHUCbxCCwcmgdQBDHuriNxh1AhslUwagkHkD7y+7Jw4IeQHDOiNLe4B5A5dAi2/k+H0Ba07zjFJ0fQM/VVuwv+x9AImx4eqUsIEBdbcX+slsgQJduEoPAiiBA0m9fB865IEAMcayL2+ggQEdy+Q/pFyFAgnNGlPZGIUC8dJMYBHYhQPd14JwRpSFAMXctIR/UIUBseHqlLAMiQKZ5xyk6MiJA4XoUrkdhIkA=\"},\"shape\":[100],\"dtype\":\"float64\",\"order\":\"little\"}]]}}},\"view\":{\"type\":\"object\",\"name\":\"CDSView\",\"id\":\"p1143\",\"attributes\":{\"filter\":{\"type\":\"object\",\"name\":\"AllIndices\",\"id\":\"p1144\"}}},\"glyph\":{\"type\":\"object\",\"name\":\"Quad\",\"id\":\"p1139\",\"attributes\":{\"left\":{\"type\":\"field\",\"field\":\"left\"},\"right\":{\"type\":\"field\",\"field\":\"right\"},\"bottom\":{\"type\":\"value\",\"value\":0},\"top\":{\"type\":\"field\",\"field\":\"top\"},\"line_color\":{\"type\":\"value\",\"value\":\"magenta\"},\"fill_color\":{\"type\":\"value\",\"value\":\"magenta\"},\"hatch_color\":{\"type\":\"value\",\"value\":\"magenta\"}}},\"nonselection_glyph\":{\"type\":\"object\",\"name\":\"Quad\",\"id\":\"p1140\",\"attributes\":{\"left\":{\"type\":\"field\",\"field\":\"left\"},\"right\":{\"type\":\"field\",\"field\":\"right\"},\"bottom\":{\"type\":\"value\",\"value\":0},\"top\":{\"type\":\"field\",\"field\":\"top\"},\"line_color\":{\"type\":\"value\",\"value\":\"magenta\"},\"line_alpha\":{\"type\":\"value\",\"value\":0.1},\"fill_color\":{\"type\":\"value\",\"value\":\"magenta\"},\"fill_alpha\":{\"type\":\"value\",\"value\":0.1},\"hatch_color\":{\"type\":\"value\",\"value\":\"magenta\"},\"hatch_alpha\":{\"type\":\"value\",\"value\":0.1}}},\"muted_glyph\":{\"type\":\"object\",\"name\":\"Quad\",\"id\":\"p1141\",\"attributes\":{\"left\":{\"type\":\"field\",\"field\":\"left\"},\"right\":{\"type\":\"field\",\"field\":\"right\"},\"bottom\":{\"type\":\"value\",\"value\":0},\"top\":{\"type\":\"field\",\"field\":\"top\"},\"line_color\":{\"type\":\"value\",\"value\":\"magenta\"},\"line_alpha\":{\"type\":\"value\",\"value\":0.2},\"fill_color\":{\"type\":\"value\",\"value\":\"magenta\"},\"fill_alpha\":{\"type\":\"value\",\"value\":0.2},\"hatch_color\":{\"type\":\"value\",\"value\":\"magenta\"},\"hatch_alpha\":{\"type\":\"value\",\"value\":0.2}}}}}],\"toolbar\":{\"type\":\"object\",\"name\":\"Toolbar\",\"id\":\"p1112\",\"attributes\":{\"tools\":[{\"type\":\"object\",\"name\":\"PanTool\",\"id\":\"p1125\"},{\"type\":\"object\",\"name\":\"WheelZoomTool\",\"id\":\"p1126\",\"attributes\":{\"renderers\":\"auto\"}},{\"type\":\"object\",\"name\":\"BoxZoomTool\",\"id\":\"p1127\",\"attributes\":{\"overlay\":{\"type\":\"object\",\"name\":\"BoxAnnotation\",\"id\":\"p1128\",\"attributes\":{\"syncable\":false,\"level\":\"overlay\",\"visible\":false,\"left\":{\"type\":\"number\",\"value\":\"nan\"},\"right\":{\"type\":\"number\",\"value\":\"nan\"},\"top\":{\"type\":\"number\",\"value\":\"nan\"},\"bottom\":{\"type\":\"number\",\"value\":\"nan\"},\"left_units\":\"canvas\",\"right_units\":\"canvas\",\"top_units\":\"canvas\",\"bottom_units\":\"canvas\",\"line_color\":\"black\",\"line_alpha\":1.0,\"line_width\":2,\"line_dash\":[4,4],\"fill_color\":\"lightgrey\",\"fill_alpha\":0.5}}}},{\"type\":\"object\",\"name\":\"SaveTool\",\"id\":\"p1133\"},{\"type\":\"object\",\"name\":\"ResetTool\",\"id\":\"p1134\"},{\"type\":\"object\",\"name\":\"HelpTool\",\"id\":\"p1135\"}]}},\"left\":[{\"type\":\"object\",\"name\":\"LinearAxis\",\"id\":\"p1120\",\"attributes\":{\"ticker\":{\"type\":\"object\",\"name\":\"BasicTicker\",\"id\":\"p1121\",\"attributes\":{\"mantissas\":[1,2,5]}},\"formatter\":{\"type\":\"object\",\"name\":\"BasicTickFormatter\",\"id\":\"p1122\"},\"axis_label\":\"Frequency\",\"major_label_policy\":{\"type\":\"object\",\"name\":\"AllLabels\",\"id\":\"p1123\"}}}],\"below\":[{\"type\":\"object\",\"name\":\"LinearAxis\",\"id\":\"p1115\",\"attributes\":{\"ticker\":{\"type\":\"object\",\"name\":\"BasicTicker\",\"id\":\"p1116\",\"attributes\":{\"mantissas\":[1,2,5]}},\"formatter\":{\"type\":\"object\",\"name\":\"BasicTickFormatter\",\"id\":\"p1117\"},\"axis_label\":\"Fall time [h]\",\"major_label_policy\":{\"type\":\"object\",\"name\":\"AllLabels\",\"id\":\"p1118\"}}}],\"center\":[{\"type\":\"object\",\"name\":\"Grid\",\"id\":\"p1119\",\"attributes\":{\"axis\":{\"id\":\"p1115\"}}},{\"type\":\"object\",\"name\":\"Grid\",\"id\":\"p1124\",\"attributes\":{\"dimension\":1,\"axis\":{\"id\":\"p1120\"}}},{\"type\":\"object\",\"name\":\"Span\",\"id\":\"p1145\",\"attributes\":{\"location\":16.328,\"dimension\":\"height\",\"line_color\":\"navy\",\"line_alpha\":0.5,\"line_width\":2,\"line_dash\":[6]}},{\"type\":\"object\",\"name\":\"BoxAnnotation\",\"id\":\"p1146\",\"attributes\":{\"left\":7.645510221141436,\"right\":42.532143005737794,\"top\":{\"type\":\"object\",\"name\":\"Node\",\"id\":\"p1149\",\"attributes\":{\"target\":\"frame\",\"symbol\":\"top\"}},\"bottom\":{\"type\":\"object\",\"name\":\"Node\",\"id\":\"p1150\",\"attributes\":{\"target\":\"frame\",\"symbol\":\"bottom\"}},\"fill_color\":\"navy\",\"fill_alpha\":0.1}}]}}]}};\n  const render_items = [{\"docid\":\"5f02987b-21b9-401b-8cc4-ff201eed2053\",\"roots\":{\"p1103\":\"fb7fa7a3-dcf9-4918-a172-4c972366f9bd\"},\"root_ids\":[\"p1103\"]}];\n  void root.Bokeh.embed.embed_items_notebook(docs_json, render_items);\n  }\n  if (root.Bokeh !== undefined) {\n    embed_document(root);\n  } else {\n    let attempts = 0;\n    const timer = setInterval(function(root) {\n      if (root.Bokeh !== undefined) {\n        clearInterval(timer);\n        embed_document(root);\n      } else {\n        attempts++;\n        if (attempts > 100) {\n          clearInterval(timer);\n          console.log(\"Bokeh: ERROR: Unable to run BokehJS code because BokehJS library is missing\");\n        }\n      }\n    }, 10, root)\n  }\n})(window);",
      "application/vnd.bokehjs_exec.v0+json": ""
     },
     "metadata": {
      "application/vnd.bokehjs_exec.v0+json": {
       "id": "p1103"
      }
     },
     "output_type": "display_data"
    }
   ],
   "execution_count": 37
  },
  {
   "metadata": {
    "ExecuteTime": {
     "end_time": "2024-06-08T13:05:09.269281Z",
     "start_time": "2024-06-08T13:05:09.266359Z"
    }
   },
   "cell_type": "code",
   "source": [
    "# THE CASE WITH XTRA GENE MUTATED\n",
    "\n",
    "par_no_b=par.copy() # parameters for the case with the xtra gene absent\n",
    "par_no_b['func_b']=0.0 # xtra gene concentration\n",
    "\n",
    "cellvars_no_b=cellvars.copy() # cellular variables for the case with the xtra gene absent\n",
    "cellvars_no_b['xi_b']=0 # no  burdensome gene"
   ],
   "outputs": [],
   "execution_count": 38
  },
  {
   "metadata": {
    "ExecuteTime": {
     "end_time": "2024-06-08T13:05:09.276038Z",
     "start_time": "2024-06-08T13:05:09.270221Z"
    }
   },
   "cell_type": "code",
   "source": [
    "# GET THE HIGH STATE WITH THE XTRA GENE ABSENT (LOW STATE REUSED)\n",
    "\n",
    "# axis of p_switch values - there can only be an integer number of proteins\n",
    "p_switches=np.arange(0,p_switch_upper_bound+0.1,1)\n",
    "\n",
    "# define function for calculating the squared difference between the required and actual F values\n",
    "sqdiff_no_b = lambda p_switch: (F_real_calc(p_switch, par_no_b) - F_req_calc(p_switch, xi_no_b, par_no_b, cellvars_no_b)) ** 2\n",
    "\n",
    "# find the squared differences\n",
    "sqdiffs=np.zeros_like(p_switches)\n",
    "for i in range(0,len(p_switches)):\n",
    "    sqdiffs[i]=sqdiff_no_b(p_switches[i])\n",
    "\n",
    "# find the local minima and maxima in squared differences\n",
    "loc_minima=[]\n",
    "loc_maxima=[]\n",
    "for i in range(1,len(p_switches)-1):\n",
    "    # detect a local minimum\n",
    "    if(sqdiffs[i]<=sqdiffs[i-1] and sqdiffs[i]<=sqdiffs[i+1]):\n",
    "        loc_minima.append(p_switches[i])\n",
    "    # detect a local maximum\n",
    "    elif(sqdiffs[i]>=sqdiffs[i-1] and sqdiffs[i]>=sqdiffs[i+1]):\n",
    "        loc_maxima.append(p_switches[i])\n",
    "\n",
    "# print results\n",
    "print('Local minima in squared difference:',loc_minima)\n",
    "print('Local maxima in squared difference:',loc_maxima)\n",
    "\n",
    "# based on our prior findings, with burden present we expect one stable equilibrium, one pseudo-equilibrium and one local maximum in squared differences\n",
    "# this corresponds to three local minima and two local maxima in the squared difference between F values\n",
    "if (len(loc_minima)==2 and len(loc_maxima)==1):\n",
    "    p_switch_high_no_b=loc_minima[1] # REDEFINE high state standing for high-concentration stable equilibrium\n",
    "    print('High state representative p_switch:',p_switch_high_no_b)\n",
    "else:\n",
    "    print('Something weird is going on')"
   ],
   "outputs": [
    {
     "name": "stdout",
     "output_type": "stream",
     "text": [
      "Local minima in squared difference: [58.0, 1044.0]\n",
      "Local maxima in squared difference: [501.0]\n",
      "High state representative p_switch: 1044.0\n"
     ]
    }
   ],
   "execution_count": 39
  },
  {
   "metadata": {
    "ExecuteTime": {
     "end_time": "2024-06-08T13:05:09.279652Z",
     "start_time": "2024-06-08T13:05:09.276920Z"
    }
   },
   "cell_type": "code",
   "source": [
    "# INTEGRASE CONCENTRATIONS FROM SWITCH PROTEIN CONCENTRATIONS\n",
    "\n",
    "p_int_low_no_b=p_int_low # low state integrase concentration is the same as the low state is reused\n",
    "p_int_high_no_b=pint_from_pswitch_and_xi(p_switch_high_no_b,xis['a'] + xis['r'] + xis['cat'] + xis['prot'],par_no_b, cellvars_no_b)\n",
    "print('Integrase concentration at low state:',p_int_low_no_b)\n",
    "print('Integrase concentration at high state:',p_int_high_no_b)"
   ],
   "outputs": [
    {
     "name": "stdout",
     "output_type": "stream",
     "text": [
      "Integrase concentration at low state: 4.010225208880506\n",
      "Integrase concentration at high state: 104.63004474352397\n"
     ]
    }
   ],
   "execution_count": 40
  },
  {
   "cell_type": "code",
   "source": [
    "# GET DETERMINISTIC STEADY STATE\n",
    "\n",
    "# taken from the case with burden\n",
    "ts_det_no_b=ts_det.copy()\n",
    "xs_det_no_b=xs_det.copy()\n",
    "det_steady_x_no_b=det_steady_x.copy()"
   ],
   "metadata": {
    "collapsed": false,
    "ExecuteTime": {
     "end_time": "2024-06-08T13:05:09.284578Z",
     "start_time": "2024-06-08T13:05:09.280384Z"
    }
   },
   "outputs": [],
   "execution_count": 41
  },
  {
   "metadata": {
    "ExecuteTime": {
     "end_time": "2024-06-08T13:20:58.407300Z",
     "start_time": "2024-06-08T13:05:09.285578Z"
    }
   },
   "cell_type": "code",
   "source": [
    "# MEMORY-EFFICIENT SWITCH TIME DETERMINATION\n",
    "\n",
    "# we consider state switched when we come within  10% OF CHARACTERISTIC PROTEIN CONCENTRATION\n",
    "# IMPORTANT: switch states assumed to be the same between the cases with and without the xtra gene\n",
    "sc_low_to_high_no_b=lambda x, next_x: switch_condition_rise(x,next_x,0.9*p_int_high_no_b,circuit_name2pos['p_int']) # low to (new) high switching\n",
    "\n",
    "tf_hybrid_no_b = (ts_det_no_b[-1], ts_det_no_b[-1] + tau_leap_sim_duration)  # simulation time frame\n",
    "mRNA_count_scales_no_b, S_no_b, x0_tauleap_no_b, circuit_synpos2genename_no_b, keys0_no_b = tauleap_sim_prep(par_no_b, len(circuit_genes),\n",
    "                                                                                    len(circuit_miscs),\n",
    "                                                                                    circuit_name2pos, det_steady_x_no_b,\n",
    "                                                                                    key_seeds=key_seeds_no_b)   \n",
    "\n",
    "low_to_high_switch_times_no_b_since_stochastart_no_b, _, \\\n",
    "            final_keys_hybrid_no_b = tauleap_sim_switch(par_no_b,  # dictionary with model parameters\n",
    "                                                    circuit_v,  # circuit reaction propensity calculator\n",
    "                                                    circuit_eff_m_het_div_k_het, # calculate the total effective mRNA conc./k value for all synthetic genes\n",
    "                                                    x0_tauleap_no_b, # initial condition VECTOR (processed to make sure random variables are appropriate integers)\n",
    "                                                    len(circuit_genes), len(circuit_miscs),\n",
    "                                                    circuit_name2pos,\n",
    "                                                    cellmodel_auxil.synth_gene_params_for_jax(par_no_b,\n",
    "                                                                                       circuit_genes), # synthetic gene parameters for calculating k values\n",
    "                                                    tf_hybrid_no_b, tau, tau_odestep, tau_savetimestep, # simulation parameters: time frame, tau leap step size, number of ode integration steps in a single tau leap step\n",
    "                                                    mRNA_count_scales_no_b, S_no_b, circuit_synpos2genename_no_b, # mRNA count scaling factor, stoichiometry matrix, synthetic gene number in list of synth. genes to name decoder\n",
    "                                                    keys0_no_b, # starting random number genereation key\n",
    "                                                    sc_low_to_high_no_b, sc_unnecessary\n",
    "                                                    )\n",
    "\n",
    "# record switching times in numpy arrays\n",
    "low_to_high_switch_times_no_b=np.array(low_to_high_switch_times_no_b_since_stochastart_no_b) # we need times of falling to zero since REACHING THE LOW STATE\n",
    "\n",
    "print('Low-to-high switch times:',low_to_high_switch_times_no_b)\n",
    "\n",
    "del final_keys_hybrid_no_b"
   ],
   "outputs": [
    {
     "name": "stdout",
     "output_type": "stream",
     "text": [
      "Low-to-high switch times: [3.52 3.86 0.   2.93 5.93 3.75 3.23 0.   4.33 2.84]\n"
     ]
    }
   ],
   "execution_count": 42
  },
  {
   "metadata": {
    "ExecuteTime": {
     "end_time": "2024-06-08T13:20:58.785854Z",
     "start_time": "2024-06-08T13:20:58.409286Z"
    }
   },
   "cell_type": "code",
   "source": [
    "# ESTIMATE SWITCHING TIMES AND CONFIDENCE INTERVALS\n",
    "\n",
    "# low-to-high switch times\n",
    "N=len(key_seeds) # number of samples\n",
    "T=tau_leap_sim_duration # total simulation time\n",
    "print('Number of samples:',N)\n",
    "print('')\n",
    "print('Sampling time interval for low-to-high switch times:',T)\n",
    "high_to_low_mle_no_b=find_mle(low_to_high_switch_times_no_b,N,T) # maximum likelihood estimate\n",
    "high_to_low_leftconfint_no_b, high_to_low_rightconfint_no_b=np.array(find_confint(high_to_low_mle_no_b,N,T,0.05)) # 95% confidence interval\n",
    "print('Low-to-high switch times MLE:',high_to_low_mle_no_b)\n",
    "print('Low-to-high switch times 95% confidence interval:',high_to_low_leftconfint_no_b, high_to_low_rightconfint_no_b)"
   ],
   "outputs": [
    {
     "name": "stdout",
     "output_type": "stream",
     "text": [
      "Number of samples: 10\n",
      "\n",
      "Sampling time interval for low-to-high switch times: 10\n",
      "Low-to-high switch times MLE: 6.29875\n",
      "Low-to-high switch times 95% confidence interval: 3.6345914578149463 13.889287482647369\n"
     ]
    }
   ],
   "execution_count": 43
  },
  {
   "cell_type": "code",
   "source": [
    "# PLOT SWITCH TIMES\n",
    "hist_bins=100\n",
    "\n",
    "# HISTOGRAM OF FALL TIMES: HIGH TO LOW\n",
    "falltime_htl_hist_noburden=bkplot.figure(title='Distribution of low-to-high switch times',\n",
    "                                   x_axis_label='Fall time [h]',\n",
    "                                   y_axis_label='Frequency',\n",
    "                                   width=400,height=300)\n",
    "# get numpy histogram\n",
    "ft_htl_hist_noburden, ftl_htl_edges_noburden=np.histogram(low_to_high_switch_times_no_b,bins=hist_bins,density=False)\n",
    "# plot histogram\n",
    "falltime_htl_hist_noburden.quad(top=ft_htl_hist_noburden, bottom=0,\n",
    "                              left=ftl_htl_edges_noburden[:-1], right=ftl_htl_edges_noburden[1:],\n",
    "                            color='magenta')\n",
    "# mark mean fall time\n",
    "falltime_htl_hist_noburden.add_layout(bkmodels.Span(location=high_to_low_mle_no_b, dimension='height',\n",
    "                                              line_dash='dashed', line_color='navy', line_width=2, line_alpha=0.5))\n",
    "# mark 95% confidence interval for fall times\n",
    "falltime_htl_hist_noburden.add_layout(bkmodels.BoxAnnotation(left=high_to_low_leftconfint_no_b, right=high_to_low_rightconfint_no_b,\n",
    "                                                       fill_color='navy', fill_alpha=0.1)) # range\n",
    "\n",
    "# show plot\n",
    "bkplot.show(falltime_htl_hist_noburden)"
   ],
   "metadata": {
    "collapsed": false,
    "ExecuteTime": {
     "end_time": "2024-06-08T13:20:58.818630Z",
     "start_time": "2024-06-08T13:20:58.787172Z"
    }
   },
   "outputs": [
    {
     "data": {
      "text/html": [
       "\n",
       "  <div id=\"a894674c-b726-4c36-b9db-f7d938216e17\" data-root-id=\"p1154\" style=\"display: contents;\"></div>\n"
      ]
     },
     "metadata": {},
     "output_type": "display_data"
    },
    {
     "data": {
      "application/javascript": "(function(root) {\n  function embed_document(root) {\n  const docs_json = {\"992f0df3-f678-4568-a1dd-416de28a91af\":{\"version\":\"3.4.0\",\"title\":\"Bokeh Application\",\"roots\":[{\"type\":\"object\",\"name\":\"Figure\",\"id\":\"p1154\",\"attributes\":{\"width\":400,\"height\":300,\"x_range\":{\"type\":\"object\",\"name\":\"DataRange1d\",\"id\":\"p1155\"},\"y_range\":{\"type\":\"object\",\"name\":\"DataRange1d\",\"id\":\"p1156\"},\"x_scale\":{\"type\":\"object\",\"name\":\"LinearScale\",\"id\":\"p1164\"},\"y_scale\":{\"type\":\"object\",\"name\":\"LinearScale\",\"id\":\"p1165\"},\"title\":{\"type\":\"object\",\"name\":\"Title\",\"id\":\"p1157\",\"attributes\":{\"text\":\"Distribution of low-to-high switch times\"}},\"renderers\":[{\"type\":\"object\",\"name\":\"GlyphRenderer\",\"id\":\"p1193\",\"attributes\":{\"data_source\":{\"type\":\"object\",\"name\":\"ColumnDataSource\",\"id\":\"p1187\",\"attributes\":{\"selected\":{\"type\":\"object\",\"name\":\"Selection\",\"id\":\"p1188\",\"attributes\":{\"indices\":[],\"line_indices\":[]}},\"selection_policy\":{\"type\":\"object\",\"name\":\"UnionRenderers\",\"id\":\"p1189\"},\"data\":{\"type\":\"map\",\"entries\":[[\"top\",{\"type\":\"ndarray\",\"array\":{\"type\":\"bytes\",\"data\":\"AgAAAAAAAAAAAAAAAAAAAAAAAAAAAAAAAAAAAAAAAAAAAAAAAAAAAAAAAAAAAAAAAAAAAAAAAAAAAAAAAAAAAAAAAAAAAAAAAAAAAAAAAAAAAAAAAAAAAAAAAAAAAAAAAAAAAAAAAAAAAAAAAAAAAAAAAAAAAAAAAAAAAAAAAAAAAAAAAAAAAAAAAAAAAAAAAAAAAAAAAAAAAAAAAAAAAAAAAAAAAAAAAAAAAAAAAAAAAAAAAAAAAAAAAAABAAAAAAAAAAEAAAAAAAAAAAAAAAAAAAAAAAAAAQAAAAAAAAAAAAAAAAAAAAAAAAABAAAAAAAAAAAAAAAAAAAAAQAAAAAAAAABAAAAAAAAAAAAAAAAAAAAAAAAAAAAAAAAAAAAAAAAAAEAAAAAAAAAAAAAAAAAAAAAAAAAAAAAAAAAAAAAAAAAAAAAAAAAAAAAAAAAAAAAAAAAAAAAAAAAAAAAAAAAAAAAAAAAAAAAAAAAAAAAAAAAAAAAAAAAAAAAAAAAAAAAAAAAAAAAAAAAAQAAAA==\"},\"shape\":[100],\"dtype\":\"int32\",\"order\":\"little\"}],[\"left\",{\"type\":\"ndarray\",\"array\":{\"type\":\"bytes\",\"data\":\"AAAAAAAAAADNO07RkVyuP807TtGRXL4/2qz6XG3Fxj/NO07RkVzOP2Dl0CLb+dI/2qz6XG3F1j9TdCSX/5DaP807TtGRXN4/owG8BRIU4T9g5dAi2/niPx3J5T+k3+Q/2qz6XG3F5j+XkA96NqvoP1N0JJf/kOo/EFg5tMh27D/NO07RkVzuP8WPMXctIfA/owG8BRIU8T+Cc0aU9gbyP2Dl0CLb+fI/P1dbsb/s8z8dyeU/pN/0P/s6cM6I0vU/2qz6XG3F9j+4HoXrUbj3P5eQD3o2q/g/dQKaCBue+T9TdCSX/5D6PzLmriXkg/s/EFg5tMh2/D/vycNCrWn9P807TtGRXP4/q63YX3ZP/z/FjzF3LSEAQLTIdr6fmgBAowG8BRIUAUCTOgFNhI0BQIJzRpT2BgJAcayL22iAAkBg5dAi2/kCQE8eFmpNcwNAP1dbsb/sA0AukKD4MWYEQB3J5T+k3wRADAIrhxZZBUD7OnDOiNIFQOtztRX7SwZA2qz6XG3FBkDJ5T+k3z4HQLgehetRuAdAp1fKMsQxCECXkA96NqsIQIbJVMGoJAlAdQKaCBueCUBkO99PjRcKQFN0JJf/kApAQ61p3nEKC0Ay5q4l5IMLQCEf9GxW/QtAEFg5tMh2DED/kH77OvAMQO/Jw0KtaQ1A3gIJih/jDUDNO07RkVwOQLx0kxgE1g5Aq63YX3ZPD0Cb5h2n6MgPQMWPMXctIRBAPSzUmuZdEEC0yHa+n5oQQCxlGeJY1xBAowG8BRIUEUAbnl4py1ARQJM6AU2EjRFACtejcD3KEUCCc0aU9gYSQPkP6bevQxJAcayL22iAEkDpSC7/Ib0SQGDl0CLb+RJA2IFzRpQ2E0BPHhZqTXMTQMe6uI0GsBNAP1dbsb/sE0C28/3UeCkUQC6QoPgxZhRApSxDHOuiFEAdyeU/pN8UQJVliGNdHBVADAIrhxZZFUCEns2qz5UVQPs6cM6I0hVAc9cS8kEPFkDrc7UV+0sWQGIQWDm0iBZA2qz6XG3FFkBRSZ2AJgIXQMnlP6TfPhdAQYLix5h7F0A=\"},\"shape\":[100],\"dtype\":\"float64\",\"order\":\"little\"}],[\"right\",{\"type\":\"ndarray\",\"array\":{\"type\":\"bytes\",\"data\":\"zTtO0ZFcrj/NO07RkVy+P9qs+lxtxcY/zTtO0ZFczj9g5dAi2/nSP9qs+lxtxdY/U3Qkl/+Q2j/NO07RkVzeP6MBvAUSFOE/YOXQItv54j8dyeU/pN/kP9qs+lxtxeY/l5APejar6D9TdCSX/5DqPxBYObTIduw/zTtO0ZFc7j/FjzF3LSHwP6MBvAUSFPE/gnNGlPYG8j9g5dAi2/nyPz9XW7G/7PM/HcnlP6Tf9D/7OnDOiNL1P9qs+lxtxfY/uB6F61G49z+XkA96Nqv4P3UCmggbnvk/U3Qkl/+Q+j8y5q4l5IP7PxBYObTIdvw/78nDQq1p/T/NO07RkVz+P6ut2F92T/8/xY8xdy0hAEC0yHa+n5oAQKMBvAUSFAFAkzoBTYSNAUCCc0aU9gYCQHGsi9togAJAYOXQItv5AkBPHhZqTXMDQD9XW7G/7ANALpCg+DFmBEAdyeU/pN8EQAwCK4cWWQVA+zpwzojSBUDrc7UV+0sGQNqs+lxtxQZAyeU/pN8+B0C4HoXrUbgHQKdXyjLEMQhAl5APejarCECGyVTBqCQJQHUCmggbnglAZDvfT40XCkBTdCSX/5AKQEOtad5xCgtAMuauJeSDC0AhH/RsVv0LQBBYObTIdgxA/5B++zrwDEDvycNCrWkNQN4CCYof4w1AzTtO0ZFcDkC8dJMYBNYOQKut2F92Tw9Am+Ydp+jID0DFjzF3LSEQQD0s1JrmXRBAtMh2vp+aEEAsZRniWNcQQKMBvAUSFBFAG55eKctQEUCTOgFNhI0RQArXo3A9yhFAgnNGlPYGEkD5D+m3r0MSQHGsi9togBJA6Ugu/yG9EkBg5dAi2/kSQNiBc0aUNhNATx4Wak1zE0DHuriNBrATQD9XW7G/7BNAtvP91HgpFEAukKD4MWYUQKUsQxzrohRAHcnlP6TfFECVZYhjXRwVQAwCK4cWWRVAhJ7Nqs+VFUD7OnDOiNIVQHPXEvJBDxZA63O1FftLFkBiEFg5tIgWQNqs+lxtxRZAUUmdgCYCF0DJ5T+k3z4XQEGC4seYexdAuB6F61G4F0A=\"},\"shape\":[100],\"dtype\":\"float64\",\"order\":\"little\"}]]}}},\"view\":{\"type\":\"object\",\"name\":\"CDSView\",\"id\":\"p1194\",\"attributes\":{\"filter\":{\"type\":\"object\",\"name\":\"AllIndices\",\"id\":\"p1195\"}}},\"glyph\":{\"type\":\"object\",\"name\":\"Quad\",\"id\":\"p1190\",\"attributes\":{\"left\":{\"type\":\"field\",\"field\":\"left\"},\"right\":{\"type\":\"field\",\"field\":\"right\"},\"bottom\":{\"type\":\"value\",\"value\":0},\"top\":{\"type\":\"field\",\"field\":\"top\"},\"line_color\":{\"type\":\"value\",\"value\":\"magenta\"},\"fill_color\":{\"type\":\"value\",\"value\":\"magenta\"},\"hatch_color\":{\"type\":\"value\",\"value\":\"magenta\"}}},\"nonselection_glyph\":{\"type\":\"object\",\"name\":\"Quad\",\"id\":\"p1191\",\"attributes\":{\"left\":{\"type\":\"field\",\"field\":\"left\"},\"right\":{\"type\":\"field\",\"field\":\"right\"},\"bottom\":{\"type\":\"value\",\"value\":0},\"top\":{\"type\":\"field\",\"field\":\"top\"},\"line_color\":{\"type\":\"value\",\"value\":\"magenta\"},\"line_alpha\":{\"type\":\"value\",\"value\":0.1},\"fill_color\":{\"type\":\"value\",\"value\":\"magenta\"},\"fill_alpha\":{\"type\":\"value\",\"value\":0.1},\"hatch_color\":{\"type\":\"value\",\"value\":\"magenta\"},\"hatch_alpha\":{\"type\":\"value\",\"value\":0.1}}},\"muted_glyph\":{\"type\":\"object\",\"name\":\"Quad\",\"id\":\"p1192\",\"attributes\":{\"left\":{\"type\":\"field\",\"field\":\"left\"},\"right\":{\"type\":\"field\",\"field\":\"right\"},\"bottom\":{\"type\":\"value\",\"value\":0},\"top\":{\"type\":\"field\",\"field\":\"top\"},\"line_color\":{\"type\":\"value\",\"value\":\"magenta\"},\"line_alpha\":{\"type\":\"value\",\"value\":0.2},\"fill_color\":{\"type\":\"value\",\"value\":\"magenta\"},\"fill_alpha\":{\"type\":\"value\",\"value\":0.2},\"hatch_color\":{\"type\":\"value\",\"value\":\"magenta\"},\"hatch_alpha\":{\"type\":\"value\",\"value\":0.2}}}}}],\"toolbar\":{\"type\":\"object\",\"name\":\"Toolbar\",\"id\":\"p1163\",\"attributes\":{\"tools\":[{\"type\":\"object\",\"name\":\"PanTool\",\"id\":\"p1176\"},{\"type\":\"object\",\"name\":\"WheelZoomTool\",\"id\":\"p1177\",\"attributes\":{\"renderers\":\"auto\"}},{\"type\":\"object\",\"name\":\"BoxZoomTool\",\"id\":\"p1178\",\"attributes\":{\"overlay\":{\"type\":\"object\",\"name\":\"BoxAnnotation\",\"id\":\"p1179\",\"attributes\":{\"syncable\":false,\"level\":\"overlay\",\"visible\":false,\"left\":{\"type\":\"number\",\"value\":\"nan\"},\"right\":{\"type\":\"number\",\"value\":\"nan\"},\"top\":{\"type\":\"number\",\"value\":\"nan\"},\"bottom\":{\"type\":\"number\",\"value\":\"nan\"},\"left_units\":\"canvas\",\"right_units\":\"canvas\",\"top_units\":\"canvas\",\"bottom_units\":\"canvas\",\"line_color\":\"black\",\"line_alpha\":1.0,\"line_width\":2,\"line_dash\":[4,4],\"fill_color\":\"lightgrey\",\"fill_alpha\":0.5}}}},{\"type\":\"object\",\"name\":\"SaveTool\",\"id\":\"p1184\"},{\"type\":\"object\",\"name\":\"ResetTool\",\"id\":\"p1185\"},{\"type\":\"object\",\"name\":\"HelpTool\",\"id\":\"p1186\"}]}},\"left\":[{\"type\":\"object\",\"name\":\"LinearAxis\",\"id\":\"p1171\",\"attributes\":{\"ticker\":{\"type\":\"object\",\"name\":\"BasicTicker\",\"id\":\"p1172\",\"attributes\":{\"mantissas\":[1,2,5]}},\"formatter\":{\"type\":\"object\",\"name\":\"BasicTickFormatter\",\"id\":\"p1173\"},\"axis_label\":\"Frequency\",\"major_label_policy\":{\"type\":\"object\",\"name\":\"AllLabels\",\"id\":\"p1174\"}}}],\"below\":[{\"type\":\"object\",\"name\":\"LinearAxis\",\"id\":\"p1166\",\"attributes\":{\"ticker\":{\"type\":\"object\",\"name\":\"BasicTicker\",\"id\":\"p1167\",\"attributes\":{\"mantissas\":[1,2,5]}},\"formatter\":{\"type\":\"object\",\"name\":\"BasicTickFormatter\",\"id\":\"p1168\"},\"axis_label\":\"Fall time [h]\",\"major_label_policy\":{\"type\":\"object\",\"name\":\"AllLabels\",\"id\":\"p1169\"}}}],\"center\":[{\"type\":\"object\",\"name\":\"Grid\",\"id\":\"p1170\",\"attributes\":{\"axis\":{\"id\":\"p1166\"}}},{\"type\":\"object\",\"name\":\"Grid\",\"id\":\"p1175\",\"attributes\":{\"dimension\":1,\"axis\":{\"id\":\"p1171\"}}},{\"type\":\"object\",\"name\":\"Span\",\"id\":\"p1196\",\"attributes\":{\"location\":6.29875,\"dimension\":\"height\",\"line_color\":\"navy\",\"line_alpha\":0.5,\"line_width\":2,\"line_dash\":[6]}},{\"type\":\"object\",\"name\":\"BoxAnnotation\",\"id\":\"p1197\",\"attributes\":{\"left\":3.6345914578149463,\"right\":13.889287482647369,\"top\":{\"type\":\"object\",\"name\":\"Node\",\"id\":\"p1200\",\"attributes\":{\"target\":\"frame\",\"symbol\":\"top\"}},\"bottom\":{\"type\":\"object\",\"name\":\"Node\",\"id\":\"p1201\",\"attributes\":{\"target\":\"frame\",\"symbol\":\"bottom\"}},\"fill_color\":\"navy\",\"fill_alpha\":0.1}}]}}]}};\n  const render_items = [{\"docid\":\"992f0df3-f678-4568-a1dd-416de28a91af\",\"roots\":{\"p1154\":\"a894674c-b726-4c36-b9db-f7d938216e17\"},\"root_ids\":[\"p1154\"]}];\n  void root.Bokeh.embed.embed_items_notebook(docs_json, render_items);\n  }\n  if (root.Bokeh !== undefined) {\n    embed_document(root);\n  } else {\n    let attempts = 0;\n    const timer = setInterval(function(root) {\n      if (root.Bokeh !== undefined) {\n        clearInterval(timer);\n        embed_document(root);\n      } else {\n        attempts++;\n        if (attempts > 100) {\n          clearInterval(timer);\n          console.log(\"Bokeh: ERROR: Unable to run BokehJS code because BokehJS library is missing\");\n        }\n      }\n    }, 10, root)\n  }\n})(window);",
      "application/vnd.bokehjs_exec.v0+json": ""
     },
     "metadata": {
      "application/vnd.bokehjs_exec.v0+json": {
       "id": "p1154"
      }
     },
     "output_type": "display_data"
    }
   ],
   "execution_count": 44
  },
  {
   "metadata": {
    "ExecuteTime": {
     "end_time": "2024-06-08T13:20:58.832437Z",
     "start_time": "2024-06-08T13:20:58.820087Z"
    }
   },
   "cell_type": "code",
   "source": [
    "# SAVE SWITCH TIMES\n",
    "\n",
    "# save the switching times\n",
    "saved_switchtimes={'low_to_high_switch_times_withburden':low_to_high_switch_times,\n",
    "                   'low_to_high_switch_times_no_b':low_to_high_switch_times_no_b}\n",
    "np.save('low_to_high_switch_times_withburden.npy',saved_switchtimes)"
   ],
   "outputs": [],
   "execution_count": 45
  },
  {
   "cell_type": "code",
   "source": [
    "# CLEAR CACHES TO PREVENT CPU/GPU ERRORS\n",
    "# jax.clear_caches()"
   ],
   "metadata": {
    "collapsed": false,
    "ExecuteTime": {
     "end_time": "2024-06-08T13:20:58.835345Z",
     "start_time": "2024-06-08T13:20:58.833484Z"
    }
   },
   "outputs": [],
   "execution_count": 46
  }
 ],
 "metadata": {
  "kernelspec": {
   "display_name": "Python 3",
   "language": "python",
   "name": "python3"
  },
  "language_info": {
   "codemirror_mode": {
    "name": "ipython",
    "version": 2
   },
   "file_extension": ".py",
   "mimetype": "text/x-python",
   "name": "python",
   "nbconvert_exporter": "python",
   "pygments_lexer": "ipython2",
   "version": "2.7.6"
  }
 },
 "nbformat": 4,
 "nbformat_minor": 0
}
