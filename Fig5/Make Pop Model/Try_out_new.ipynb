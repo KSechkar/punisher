{
 "cells": [
  {
   "cell_type": "code",
   "source": [
    "'''\n",
    "FIND_SWITCHING_TIMES_TOHIGH.PY: Find times taken by the switch to transition between states\n",
    "'''\n",
    "# By Kirill Sechkar\n",
    "\n",
    "# PACKAGE IMPORTS \n",
    "import numpy as np\n",
    "import jax\n",
    "import jax.numpy as jnp\n",
    "import functools\n",
    "from diffrax import diffeqsolve, Dopri5, ODETerm, SaveAt, PIDController, SteadyStateEvent\n",
    "import pandas as pd\n",
    "from bokeh import plotting as bkplot, models as bkmodels, layouts as bklayouts, io as bkio\n",
    "from bokeh.colors import RGB as bkRGB\n",
    "import time\n",
    "\n",
    "# set up jax\n",
    "from jax.lib import xla_bridge\n",
    "jax.config.update('jax_platform_name', 'cpu')\n",
    "jax.config.update(\"jax_enable_x64\", True)\n",
    "print(xla_bridge.get_backend().platform)\n",
    "\n",
    "# set up bokeh\n",
    "bkio.reset_output()\n",
    "bkio.output_notebook() \n",
    "\n",
    "# OWN CODE IMPORTS\n",
    "import synthetic_circuits as circuits\n",
    "from cell_model import *\n",
    "from get_steady_state import values_for_analytical\n",
    "from Fig2.design_guidance_tools import F_real_calc,F_req_calc, pint_from_pswitch_and_xi\n",
    "from switching_time_estimation_tools import *"
   ],
   "metadata": {
    "collapsed": false,
    "ExecuteTime": {
     "end_time": "2024-06-05T15:12:56.554790Z",
     "start_time": "2024-06-05T15:12:55.814878Z"
    }
   },
   "outputs": [
    {
     "name": "stderr",
     "output_type": "stream",
     "text": [
      "An NVIDIA GPU may be present on this machine, but a CUDA-enabled jaxlib is not installed. Falling back to cpu.\n"
     ]
    },
    {
     "name": "stdout",
     "output_type": "stream",
     "text": [
      "cpu\n"
     ]
    },
    {
     "data": {
      "text/html": [
       "    <style>\n",
       "        .bk-notebook-logo {\n",
       "            display: block;\n",
       "            width: 20px;\n",
       "            height: 20px;\n",
       "            background-image: url(data:image/png;base64,iVBORw0KGgoAAAANSUhEUgAAABQAAAAUCAYAAACNiR0NAAAABHNCSVQICAgIfAhkiAAAAAlwSFlzAAALEgAACxIB0t1+/AAAABx0RVh0U29mdHdhcmUAQWRvYmUgRmlyZXdvcmtzIENTNui8sowAAAOkSURBVDiNjZRtaJVlGMd/1/08zzln5zjP1LWcU9N0NkN8m2CYjpgQYQXqSs0I84OLIC0hkEKoPtiH3gmKoiJDU7QpLgoLjLIQCpEsNJ1vqUOdO7ppbuec5+V+rj4ctwzd8IIbbi6u+8f1539dt3A78eXC7QizUF7gyV1fD1Yqg4JWz84yffhm0qkFqBogB9rM8tZdtwVsPUhWhGcFJngGeWrPzHm5oaMmkfEg1usvLFyc8jLRqDOMru7AyC8saQr7GG7f5fvDeH7Ej8CM66nIF+8yngt6HWaKh7k49Soy9nXurCi1o3qUbS3zWfrYeQDTB/Qj6kX6Ybhw4B+bOYoLKCC9H3Nu/leUTZ1JdRWkkn2ldcCamzrcf47KKXdAJllSlxAOkRgyHsGC/zRday5Qld9DyoM4/q/rUoy/CXh3jzOu3bHUVZeU+DEn8FInkPBFlu3+nW3Nw0mk6vCDiWg8CeJaxEwuHS3+z5RgY+YBR6V1Z1nxSOfoaPa4LASWxxdNp+VWTk7+4vzaou8v8PN+xo+KY2xsw6une2frhw05CTYOmQvsEhjhWjn0bmXPjpE1+kplmmkP3suftwTubK9Vq22qKmrBhpY4jvd5afdRA3wGjFAgcnTK2s4hY0/GPNIb0nErGMCRxWOOX64Z8RAC4oCXdklmEvcL8o0BfkNK4lUg9HTl+oPlQxdNo3Mg4Nv175e/1LDGzZen30MEjRUtmXSfiTVu1kK8W4txyV6BMKlbgk3lMwYCiusNy9fVfvvwMxv8Ynl6vxoByANLTWplvuj/nF9m2+PDtt1eiHPBr1oIfhCChQMBw6Aw0UulqTKZdfVvfG7VcfIqLG9bcldL/+pdWTLxLUy8Qq38heUIjh4XlzZxzQm19lLFlr8vdQ97rjZVOLf8nclzckbcD4wxXMidpX30sFd37Fv/GtwwhzhxGVAprjbg0gCAEeIgwCZyTV2Z1REEW8O4py0wsjeloKoMr6iCY6dP92H6Vw/oTyICIthibxjm/DfN9lVz8IqtqKYLUXfoKVMVQVVJOElGjrnnUt9T9wbgp8AyYKaGlqingHZU/uG2NTZSVqwHQTWkx9hxjkpWDaCg6Ckj5qebgBVbT3V3NNXMSiWSDdGV3hrtzla7J+duwPOToIg42ChPQOQjspnSlp1V+Gjdged7+8UN5CRAV7a5EdFNwCjEaBR27b3W890TE7g24NAP/mMDXRWrGoFPQI9ls/MWO2dWFAar/xcOIImbbpA3zgAAAABJRU5ErkJggg==);\n",
       "        }\n",
       "    </style>\n",
       "    <div>\n",
       "        <a href=\"https://bokeh.org\" target=\"_blank\" class=\"bk-notebook-logo\"></a>\n",
       "        <span id=\"cd79e226-6cdb-429d-91f7-1fd312fdcc7e\">Loading BokehJS ...</span>\n",
       "    </div>\n"
      ]
     },
     "metadata": {},
     "output_type": "display_data"
    },
    {
     "data": {
      "application/javascript": "'use strict';\n(function(root) {\n  function now() {\n    return new Date();\n  }\n\n  const force = true;\n\n  if (typeof root._bokeh_onload_callbacks === \"undefined\" || force === true) {\n    root._bokeh_onload_callbacks = [];\n    root._bokeh_is_loading = undefined;\n  }\n\nconst JS_MIME_TYPE = 'application/javascript';\n  const HTML_MIME_TYPE = 'text/html';\n  const EXEC_MIME_TYPE = 'application/vnd.bokehjs_exec.v0+json';\n  const CLASS_NAME = 'output_bokeh rendered_html';\n\n  /**\n   * Render data to the DOM node\n   */\n  function render(props, node) {\n    const script = document.createElement(\"script\");\n    node.appendChild(script);\n  }\n\n  /**\n   * Handle when an output is cleared or removed\n   */\n  function handleClearOutput(event, handle) {\n    function drop(id) {\n      const view = Bokeh.index.get_by_id(id)\n      if (view != null) {\n        view.model.document.clear()\n        Bokeh.index.delete(view)\n      }\n    }\n\n    const cell = handle.cell;\n\n    const id = cell.output_area._bokeh_element_id;\n    const server_id = cell.output_area._bokeh_server_id;\n\n    // Clean up Bokeh references\n    if (id != null) {\n      drop(id)\n    }\n\n    if (server_id !== undefined) {\n      // Clean up Bokeh references\n      const cmd_clean = \"from bokeh.io.state import curstate; print(curstate().uuid_to_server['\" + server_id + \"'].get_sessions()[0].document.roots[0]._id)\";\n      cell.notebook.kernel.execute(cmd_clean, {\n        iopub: {\n          output: function(msg) {\n            const id = msg.content.text.trim()\n            drop(id)\n          }\n        }\n      });\n      // Destroy server and session\n      const cmd_destroy = \"import bokeh.io.notebook as ion; ion.destroy_server('\" + server_id + \"')\";\n      cell.notebook.kernel.execute(cmd_destroy);\n    }\n  }\n\n  /**\n   * Handle when a new output is added\n   */\n  function handleAddOutput(event, handle) {\n    const output_area = handle.output_area;\n    const output = handle.output;\n\n    // limit handleAddOutput to display_data with EXEC_MIME_TYPE content only\n    if ((output.output_type != \"display_data\") || (!Object.prototype.hasOwnProperty.call(output.data, EXEC_MIME_TYPE))) {\n      return\n    }\n\n    const toinsert = output_area.element.find(\".\" + CLASS_NAME.split(' ')[0]);\n\n    if (output.metadata[EXEC_MIME_TYPE][\"id\"] !== undefined) {\n      toinsert[toinsert.length - 1].firstChild.textContent = output.data[JS_MIME_TYPE];\n      // store reference to embed id on output_area\n      output_area._bokeh_element_id = output.metadata[EXEC_MIME_TYPE][\"id\"];\n    }\n    if (output.metadata[EXEC_MIME_TYPE][\"server_id\"] !== undefined) {\n      const bk_div = document.createElement(\"div\");\n      bk_div.innerHTML = output.data[HTML_MIME_TYPE];\n      const script_attrs = bk_div.children[0].attributes;\n      for (let i = 0; i < script_attrs.length; i++) {\n        toinsert[toinsert.length - 1].firstChild.setAttribute(script_attrs[i].name, script_attrs[i].value);\n        toinsert[toinsert.length - 1].firstChild.textContent = bk_div.children[0].textContent\n      }\n      // store reference to server id on output_area\n      output_area._bokeh_server_id = output.metadata[EXEC_MIME_TYPE][\"server_id\"];\n    }\n  }\n\n  function register_renderer(events, OutputArea) {\n\n    function append_mime(data, metadata, element) {\n      // create a DOM node to render to\n      const toinsert = this.create_output_subarea(\n        metadata,\n        CLASS_NAME,\n        EXEC_MIME_TYPE\n      );\n      this.keyboard_manager.register_events(toinsert);\n      // Render to node\n      const props = {data: data, metadata: metadata[EXEC_MIME_TYPE]};\n      render(props, toinsert[toinsert.length - 1]);\n      element.append(toinsert);\n      return toinsert\n    }\n\n    /* Handle when an output is cleared or removed */\n    events.on('clear_output.CodeCell', handleClearOutput);\n    events.on('delete.Cell', handleClearOutput);\n\n    /* Handle when a new output is added */\n    events.on('output_added.OutputArea', handleAddOutput);\n\n    /**\n     * Register the mime type and append_mime function with output_area\n     */\n    OutputArea.prototype.register_mime_type(EXEC_MIME_TYPE, append_mime, {\n      /* Is output safe? */\n      safe: true,\n      /* Index of renderer in `output_area.display_order` */\n      index: 0\n    });\n  }\n\n  // register the mime type if in Jupyter Notebook environment and previously unregistered\n  if (root.Jupyter !== undefined) {\n    const events = require('base/js/events');\n    const OutputArea = require('notebook/js/outputarea').OutputArea;\n\n    if (OutputArea.prototype.mime_types().indexOf(EXEC_MIME_TYPE) == -1) {\n      register_renderer(events, OutputArea);\n    }\n  }\n  if (typeof (root._bokeh_timeout) === \"undefined\" || force === true) {\n    root._bokeh_timeout = Date.now() + 5000;\n    root._bokeh_failed_load = false;\n  }\n\n  const NB_LOAD_WARNING = {'data': {'text/html':\n     \"<div style='background-color: #fdd'>\\n\"+\n     \"<p>\\n\"+\n     \"BokehJS does not appear to have successfully loaded. If loading BokehJS from CDN, this \\n\"+\n     \"may be due to a slow or bad network connection. Possible fixes:\\n\"+\n     \"</p>\\n\"+\n     \"<ul>\\n\"+\n     \"<li>re-rerun `output_notebook()` to attempt to load from CDN again, or</li>\\n\"+\n     \"<li>use INLINE resources instead, as so:</li>\\n\"+\n     \"</ul>\\n\"+\n     \"<code>\\n\"+\n     \"from bokeh.resources import INLINE\\n\"+\n     \"output_notebook(resources=INLINE)\\n\"+\n     \"</code>\\n\"+\n     \"</div>\"}};\n\n  function display_loaded(error = null) {\n    const el = document.getElementById(\"cd79e226-6cdb-429d-91f7-1fd312fdcc7e\");\n    if (el != null) {\n      const html = (() => {\n        if (typeof root.Bokeh === \"undefined\") {\n          if (error == null) {\n            return \"BokehJS is loading ...\";\n          } else {\n            return \"BokehJS failed to load.\";\n          }\n        } else {\n          const prefix = `BokehJS ${root.Bokeh.version}`;\n          if (error == null) {\n            return `${prefix} successfully loaded.`;\n          } else {\n            return `${prefix} <b>encountered errors</b> while loading and may not function as expected.`;\n          }\n        }\n      })();\n      el.innerHTML = html;\n\n      if (error != null) {\n        const wrapper = document.createElement(\"div\");\n        wrapper.style.overflow = \"auto\";\n        wrapper.style.height = \"5em\";\n        wrapper.style.resize = \"vertical\";\n        const content = document.createElement(\"div\");\n        content.style.fontFamily = \"monospace\";\n        content.style.whiteSpace = \"pre-wrap\";\n        content.style.backgroundColor = \"rgb(255, 221, 221)\";\n        content.textContent = error.stack ?? error.toString();\n        wrapper.append(content);\n        el.append(wrapper);\n      }\n    } else if (Date.now() < root._bokeh_timeout) {\n      setTimeout(() => display_loaded(error), 100);\n    }\n  }\n\n  function run_callbacks() {\n    try {\n      root._bokeh_onload_callbacks.forEach(function(callback) {\n        if (callback != null)\n          callback();\n      });\n    } finally {\n      delete root._bokeh_onload_callbacks\n    }\n    console.debug(\"Bokeh: all callbacks have finished\");\n  }\n\n  function load_libs(css_urls, js_urls, callback) {\n    if (css_urls == null) css_urls = [];\n    if (js_urls == null) js_urls = [];\n\n    root._bokeh_onload_callbacks.push(callback);\n    if (root._bokeh_is_loading > 0) {\n      console.debug(\"Bokeh: BokehJS is being loaded, scheduling callback at\", now());\n      return null;\n    }\n    if (js_urls == null || js_urls.length === 0) {\n      run_callbacks();\n      return null;\n    }\n    console.debug(\"Bokeh: BokehJS not loaded, scheduling load and callback at\", now());\n    root._bokeh_is_loading = css_urls.length + js_urls.length;\n\n    function on_load() {\n      root._bokeh_is_loading--;\n      if (root._bokeh_is_loading === 0) {\n        console.debug(\"Bokeh: all BokehJS libraries/stylesheets loaded\");\n        run_callbacks()\n      }\n    }\n\n    function on_error(url) {\n      console.error(\"failed to load \" + url);\n    }\n\n    for (let i = 0; i < css_urls.length; i++) {\n      const url = css_urls[i];\n      const element = document.createElement(\"link\");\n      element.onload = on_load;\n      element.onerror = on_error.bind(null, url);\n      element.rel = \"stylesheet\";\n      element.type = \"text/css\";\n      element.href = url;\n      console.debug(\"Bokeh: injecting link tag for BokehJS stylesheet: \", url);\n      document.body.appendChild(element);\n    }\n\n    for (let i = 0; i < js_urls.length; i++) {\n      const url = js_urls[i];\n      const element = document.createElement('script');\n      element.onload = on_load;\n      element.onerror = on_error.bind(null, url);\n      element.async = false;\n      element.src = url;\n      console.debug(\"Bokeh: injecting script tag for BokehJS library: \", url);\n      document.head.appendChild(element);\n    }\n  };\n\n  function inject_raw_css(css) {\n    const element = document.createElement(\"style\");\n    element.appendChild(document.createTextNode(css));\n    document.body.appendChild(element);\n  }\n\n  const js_urls = [\"https://cdn.bokeh.org/bokeh/release/bokeh-3.4.0.min.js\", \"https://cdn.bokeh.org/bokeh/release/bokeh-gl-3.4.0.min.js\", \"https://cdn.bokeh.org/bokeh/release/bokeh-widgets-3.4.0.min.js\", \"https://cdn.bokeh.org/bokeh/release/bokeh-tables-3.4.0.min.js\", \"https://cdn.bokeh.org/bokeh/release/bokeh-mathjax-3.4.0.min.js\"];\n  const css_urls = [];\n\n  const inline_js = [    function(Bokeh) {\n      Bokeh.set_log_level(\"info\");\n    },\nfunction(Bokeh) {\n    }\n  ];\n\n  function run_inline_js() {\n    if (root.Bokeh !== undefined || force === true) {\n      try {\n            for (let i = 0; i < inline_js.length; i++) {\n      inline_js[i].call(root, root.Bokeh);\n    }\n\n      } catch (error) {display_loaded(error);throw error;\n      }if (force === true) {\n        display_loaded();\n      }} else if (Date.now() < root._bokeh_timeout) {\n      setTimeout(run_inline_js, 100);\n    } else if (!root._bokeh_failed_load) {\n      console.log(\"Bokeh: BokehJS failed to load within specified timeout.\");\n      root._bokeh_failed_load = true;\n    } else if (force !== true) {\n      const cell = $(document.getElementById(\"cd79e226-6cdb-429d-91f7-1fd312fdcc7e\")).parents('.cell').data().cell;\n      cell.output_area.append_execute_result(NB_LOAD_WARNING)\n    }\n  }\n\n  if (root._bokeh_is_loading === 0) {\n    console.debug(\"Bokeh: BokehJS loaded, going straight to plotting\");\n    run_inline_js();\n  } else {\n    load_libs(css_urls, js_urls, function() {\n      console.debug(\"Bokeh: BokehJS plotting callback run at\", now());\n      run_inline_js();\n    });\n  }\n}(window));",
      "application/vnd.bokehjs_load.v0+json": "'use strict';\n(function(root) {\n  function now() {\n    return new Date();\n  }\n\n  const force = true;\n\n  if (typeof root._bokeh_onload_callbacks === \"undefined\" || force === true) {\n    root._bokeh_onload_callbacks = [];\n    root._bokeh_is_loading = undefined;\n  }\n\n\n  if (typeof (root._bokeh_timeout) === \"undefined\" || force === true) {\n    root._bokeh_timeout = Date.now() + 5000;\n    root._bokeh_failed_load = false;\n  }\n\n  const NB_LOAD_WARNING = {'data': {'text/html':\n     \"<div style='background-color: #fdd'>\\n\"+\n     \"<p>\\n\"+\n     \"BokehJS does not appear to have successfully loaded. If loading BokehJS from CDN, this \\n\"+\n     \"may be due to a slow or bad network connection. Possible fixes:\\n\"+\n     \"</p>\\n\"+\n     \"<ul>\\n\"+\n     \"<li>re-rerun `output_notebook()` to attempt to load from CDN again, or</li>\\n\"+\n     \"<li>use INLINE resources instead, as so:</li>\\n\"+\n     \"</ul>\\n\"+\n     \"<code>\\n\"+\n     \"from bokeh.resources import INLINE\\n\"+\n     \"output_notebook(resources=INLINE)\\n\"+\n     \"</code>\\n\"+\n     \"</div>\"}};\n\n  function display_loaded(error = null) {\n    const el = document.getElementById(\"cd79e226-6cdb-429d-91f7-1fd312fdcc7e\");\n    if (el != null) {\n      const html = (() => {\n        if (typeof root.Bokeh === \"undefined\") {\n          if (error == null) {\n            return \"BokehJS is loading ...\";\n          } else {\n            return \"BokehJS failed to load.\";\n          }\n        } else {\n          const prefix = `BokehJS ${root.Bokeh.version}`;\n          if (error == null) {\n            return `${prefix} successfully loaded.`;\n          } else {\n            return `${prefix} <b>encountered errors</b> while loading and may not function as expected.`;\n          }\n        }\n      })();\n      el.innerHTML = html;\n\n      if (error != null) {\n        const wrapper = document.createElement(\"div\");\n        wrapper.style.overflow = \"auto\";\n        wrapper.style.height = \"5em\";\n        wrapper.style.resize = \"vertical\";\n        const content = document.createElement(\"div\");\n        content.style.fontFamily = \"monospace\";\n        content.style.whiteSpace = \"pre-wrap\";\n        content.style.backgroundColor = \"rgb(255, 221, 221)\";\n        content.textContent = error.stack ?? error.toString();\n        wrapper.append(content);\n        el.append(wrapper);\n      }\n    } else if (Date.now() < root._bokeh_timeout) {\n      setTimeout(() => display_loaded(error), 100);\n    }\n  }\n\n  function run_callbacks() {\n    try {\n      root._bokeh_onload_callbacks.forEach(function(callback) {\n        if (callback != null)\n          callback();\n      });\n    } finally {\n      delete root._bokeh_onload_callbacks\n    }\n    console.debug(\"Bokeh: all callbacks have finished\");\n  }\n\n  function load_libs(css_urls, js_urls, callback) {\n    if (css_urls == null) css_urls = [];\n    if (js_urls == null) js_urls = [];\n\n    root._bokeh_onload_callbacks.push(callback);\n    if (root._bokeh_is_loading > 0) {\n      console.debug(\"Bokeh: BokehJS is being loaded, scheduling callback at\", now());\n      return null;\n    }\n    if (js_urls == null || js_urls.length === 0) {\n      run_callbacks();\n      return null;\n    }\n    console.debug(\"Bokeh: BokehJS not loaded, scheduling load and callback at\", now());\n    root._bokeh_is_loading = css_urls.length + js_urls.length;\n\n    function on_load() {\n      root._bokeh_is_loading--;\n      if (root._bokeh_is_loading === 0) {\n        console.debug(\"Bokeh: all BokehJS libraries/stylesheets loaded\");\n        run_callbacks()\n      }\n    }\n\n    function on_error(url) {\n      console.error(\"failed to load \" + url);\n    }\n\n    for (let i = 0; i < css_urls.length; i++) {\n      const url = css_urls[i];\n      const element = document.createElement(\"link\");\n      element.onload = on_load;\n      element.onerror = on_error.bind(null, url);\n      element.rel = \"stylesheet\";\n      element.type = \"text/css\";\n      element.href = url;\n      console.debug(\"Bokeh: injecting link tag for BokehJS stylesheet: \", url);\n      document.body.appendChild(element);\n    }\n\n    for (let i = 0; i < js_urls.length; i++) {\n      const url = js_urls[i];\n      const element = document.createElement('script');\n      element.onload = on_load;\n      element.onerror = on_error.bind(null, url);\n      element.async = false;\n      element.src = url;\n      console.debug(\"Bokeh: injecting script tag for BokehJS library: \", url);\n      document.head.appendChild(element);\n    }\n  };\n\n  function inject_raw_css(css) {\n    const element = document.createElement(\"style\");\n    element.appendChild(document.createTextNode(css));\n    document.body.appendChild(element);\n  }\n\n  const js_urls = [\"https://cdn.bokeh.org/bokeh/release/bokeh-3.4.0.min.js\", \"https://cdn.bokeh.org/bokeh/release/bokeh-gl-3.4.0.min.js\", \"https://cdn.bokeh.org/bokeh/release/bokeh-widgets-3.4.0.min.js\", \"https://cdn.bokeh.org/bokeh/release/bokeh-tables-3.4.0.min.js\", \"https://cdn.bokeh.org/bokeh/release/bokeh-mathjax-3.4.0.min.js\"];\n  const css_urls = [];\n\n  const inline_js = [    function(Bokeh) {\n      Bokeh.set_log_level(\"info\");\n    },\nfunction(Bokeh) {\n    }\n  ];\n\n  function run_inline_js() {\n    if (root.Bokeh !== undefined || force === true) {\n      try {\n            for (let i = 0; i < inline_js.length; i++) {\n      inline_js[i].call(root, root.Bokeh);\n    }\n\n      } catch (error) {display_loaded(error);throw error;\n      }if (force === true) {\n        display_loaded();\n      }} else if (Date.now() < root._bokeh_timeout) {\n      setTimeout(run_inline_js, 100);\n    } else if (!root._bokeh_failed_load) {\n      console.log(\"Bokeh: BokehJS failed to load within specified timeout.\");\n      root._bokeh_failed_load = true;\n    } else if (force !== true) {\n      const cell = $(document.getElementById(\"cd79e226-6cdb-429d-91f7-1fd312fdcc7e\")).parents('.cell').data().cell;\n      cell.output_area.append_execute_result(NB_LOAD_WARNING)\n    }\n  }\n\n  if (root._bokeh_is_loading === 0) {\n    console.debug(\"Bokeh: BokehJS loaded, going straight to plotting\");\n    run_inline_js();\n  } else {\n    load_libs(css_urls, js_urls, function() {\n      console.debug(\"Bokeh: BokehJS plotting callback run at\", now());\n      run_inline_js();\n    });\n  }\n}(window));"
     },
     "metadata": {},
     "output_type": "display_data"
    }
   ],
   "execution_count": 1
  },
  {
   "metadata": {
    "ExecuteTime": {
     "end_time": "2024-06-05T15:12:56.558425Z",
     "start_time": "2024-06-05T15:12:56.556039Z"
    }
   },
   "cell_type": "code",
   "source": [
    "# INITIALISE CELL MODEL, LOAD THE CIRCUIT\n",
    "\n",
    "# initialise cell model\n",
    "cellmodel_auxil = CellModelAuxiliary()  # auxiliary tools for simulating the model and plotting simulation outcomes\n",
    "par = cellmodel_auxil.default_params()  # get default parameter values\n",
    "init_conds = cellmodel_auxil.default_init_conds(par)  # get default initial conditions\n",
    "\n",
    "# load synthetic gene circuit\n",
    "ode_with_circuit, circuit_F_calc, par, init_conds, circuit_genes, circuit_miscs, circuit_name2pos, circuit_styles, circuit_v = cellmodel_auxil.add_circuit(\n",
    "    circuits.punisher_xtra_initialise,\n",
    "    circuits.punisher_xtra_ode,\n",
    "    circuits.punisher_xtra_F_calc,\n",
    "    par, init_conds,\n",
    "    circuit_v=circuits.punisher_xtra_v)  # load the circuit"
   ],
   "outputs": [],
   "execution_count": 2
  },
  {
   "metadata": {
    "ExecuteTime": {
     "end_time": "2024-06-05T15:12:56.563015Z",
     "start_time": "2024-06-05T15:12:56.559385Z"
    }
   },
   "cell_type": "code",
   "source": [
    "# PARAMETERISE THE CIRCUIT\n",
    "\n",
    "# BURDENSOME SYNTHETIC GENE\n",
    "par['c_xtra'] = 1\n",
    "par['a_xtra'] = 1e5\n",
    "\n",
    "# PUNISHER\n",
    "# switch gene conc\n",
    "par['c_switch'] = 10.0  # gene concentration (nM)\n",
    "par['a_switch'] = 200.0  # promoter strength (unitless)\n",
    "par['d_switch']=0.01836\n",
    "#integrase - expressed from the switch gene's operon, not its own gene => c_int, a_int irrelevant\n",
    "par['k+_int'] = par['k+_switch']/40.0  # RBS weaker than for the switch gene\n",
    "par['d_int'] = 0 # rate of integrase degradation per protease molecule (1/nM/h)\n",
    "# CAT (antibiotic resistance) gene\n",
    "init_conds['cat_pb'] = 10.0  # gene concentration (nM) - INITIAL CONDITION< NOT PARAMETER as it can be cut out by the integrase\n",
    "par['a_cat'] = 500.0  # promoter strength (unitless)\n",
    "# synthetic protease gene\n",
    "par['c_prot'] = 10.0  # gene concentration (nM)\n",
    "par['a_prot'] = 50.0  # promoter strength (unitless)\n",
    "init_conds['p_prot'] = 1500.0 # if zero at start, the punisher's triggered prematurely\n",
    "\n",
    "# punisher's transcription regulation function\n",
    "par['K_switch'] = 70.0  # Half-saturation constant for the self-activating switch gene promoter (nM)\n",
    "par['eta_switch'] = 2 # Hill coefficient for the self-activating switch gene promoter (unitless)\n",
    "par['baseline_switch'] = 0.025  # Baseline value of the switch gene's transcription activation function\n",
    "par['baseline_switch_alt'] = 0\n",
    "par['p_switch_ac_frac'] = 0.8  # active fraction of protein (i.e. share of molecules bound by the inducer)\n",
    "\n",
    "# CULTURE MEDIUM\n",
    "init_conds['s'] = 0.5\n",
    "par['h_ext'] = 10.5 * (10.0 ** 3)\n",
    "\n",
    "# LOOKING AT TRANSITIONS WITH CAT AWLAYS PRESENT => INTEGRASE INACTIVE\n",
    "par['k_sxf']=0.0"
   ],
   "outputs": [],
   "execution_count": 3
  },
  {
   "metadata": {
    "ExecuteTime": {
     "end_time": "2024-06-05T15:12:56.566729Z",
     "start_time": "2024-06-05T15:12:56.564559Z"
    }
   },
   "cell_type": "code",
   "source": [
    "# SET DETERMINISTIC SIMULATION PARAMETERS\n",
    "\n",
    "# diffrax simulator\n",
    "savetimestep = 0.1  # save time step\n",
    "rtol = 1e-6  # relative tolerance for the ODE solver\n",
    "atol = 1e-6  # absolute tolerance for the ODE solver"
   ],
   "outputs": [],
   "execution_count": 4
  },
  {
   "cell_type": "code",
   "source": [
    "# SET TAU-LEAP SIMULATION PARAMETERS\n",
    "\n",
    "tau = 5e-7  # simulation time step\n",
    "tau_odestep = 5e-7  # number of ODE integration steps in a single tau-leap step (smaller than tau)\n",
    "tau_savetimestep = 1e-2  # save time step a multiple of tau\n",
    "key_seeds=[0,1]#np.arange(0,30000,1) # random number generator seeds - NUMBER OF KEYS DEFINES NUMBER OF TRAJECTORIES\n",
    "key_seeds_no_xtra=key_seeds.copy()  # same number of trajectories for the case with the xtra gene absent\n",
    "tau_leap_sim_duration=10 # duration of the tau-leap simulation (h)"
   ],
   "metadata": {
    "collapsed": false,
    "ExecuteTime": {
     "end_time": "2024-06-05T15:12:56.570012Z",
     "start_time": "2024-06-05T15:12:56.567605Z"
    }
   },
   "outputs": [],
   "execution_count": 5
  },
  {
   "cell_type": "code",
   "source": [
    "# get the cellular variables in steady state without burden\n",
    "e, F_r, h, xis, Ps = values_for_analytical(par, ode_with_circuit, init_conds,\n",
    "                                          circuit_genes, circuit_miscs,\n",
    "                                          circuit_name2pos,\n",
    "                                          circuit_F_calc)\n",
    "# record the cellular variables\n",
    "cellvars = {'e': e, 'F_r': F_r, # translation elongation rate and ribosome trnscription regulation\n",
    "            'h': h, # intacellular chlorampenicol concentration\n",
    "            # burden values\n",
    "            'xi_a': xis['a'], 'xi_r': xis['r'], 'xi_other_genes': xis['other'], 'xi_cat': xis['cat'],\n",
    "            'xi_switch_max': xis['switch (max)'], 'xi_int_max': xis['int (max)'], 'xi_prot': xis['prot'],\n",
    "            # protein degradation correction factors for the switch protein and the integrase\n",
    "            'P_switch': Ps['switch'], 'P_int': Ps['int']}\n",
    "xi_total = xis['a'] + xis['r'] + xis['other'] + xis['cat'] + xis['switch (max)'] + xis['int (max)'] + xis['prot'] # total burden\n",
    "xi_no_xtra = xi_total - xis['other'] # burden without the burdensome gene"
   ],
   "metadata": {
    "collapsed": false,
    "ExecuteTime": {
     "end_time": "2024-06-05T15:13:04.979713Z",
     "start_time": "2024-06-05T15:12:56.570792Z"
    }
   },
   "outputs": [],
   "execution_count": 6
  },
  {
   "cell_type": "code",
   "source": [
    "# DEFINE SWITCH STATES FOR ALL GENES PRESENT\n",
    "# greatest possible p_switch level - for zero extra burden so that it's max across all conditions\n",
    "p_switch_upper_bound = np.ceil(cellvars['xi_switch_max'] * (1/(1+cellvars['P_switch'])) / (\n",
    "        cellvars['xi_switch_max'] + cellvars['xi_int_max'] + cellvars['xi_prot'] + cellvars['xi_cat'] + cellvars['xi_a'] + cellvars['xi_r']\n",
    "        ) * par['M'] * (1 - par['phi_q']) / par['n_switch'])  # upper bound for p_switch (to get the high equilibrium)\n",
    "\n",
    "# axis of p_switch values - there can only be an integer number of proteins\n",
    "p_switches=np.arange(0,p_switch_upper_bound+0.1,1)\n",
    "\n",
    "# define function for calculating the squared difference between the required and actual F values\n",
    "sqdiff = lambda p_switch: (F_real_calc(p_switch, par) - F_req_calc(p_switch, xi_total, par, cellvars)) ** 2\n",
    "\n",
    "# find the squared differences\n",
    "sqdiffs=np.zeros_like(p_switches)\n",
    "for i in range(0,len(p_switches)):\n",
    "    sqdiffs[i]=sqdiff(p_switches[i])\n",
    "\n",
    "# find the local minima and maxima in squared differences\n",
    "loc_minima=[]\n",
    "loc_maxima=[]\n",
    "for i in range(1,len(p_switches)-1):\n",
    "    # detect a local minimum\n",
    "    if(sqdiffs[i]<=sqdiffs[i-1] and sqdiffs[i]<=sqdiffs[i+1]):\n",
    "        loc_minima.append(p_switches[i])\n",
    "    # detect a local maximum\n",
    "    elif(sqdiffs[i]>=sqdiffs[i-1] and sqdiffs[i]>=sqdiffs[i+1]):\n",
    "        loc_maxima.append(p_switches[i])\n",
    "\n",
    "# print results\n",
    "print('Local minima in squared difference:',loc_minima)\n",
    "print('Local maxima in squared difference:',loc_maxima)\n",
    "\n",
    "# based on our prior findings, with burden present we expect two stable equilibria and one unstable equilibrium between them\n",
    "# this corresponds to three local minima and two local maxima in the squared difference between F values\n",
    "if (len(loc_minima)==3 and len(loc_maxima)==2):\n",
    "    p_switch_low=loc_minima[0]  # low state standing for low-concentration stable equilibrium\n",
    "    p_switch_high=loc_minima[2] # high state standing for high-concentration stable equilibrium\n",
    "    p_switch_boundary=loc_minima[1] # boundary between states standing for unstable equilibrium\n",
    "    print('Low state representative p_switch:',p_switch_low)\n",
    "    print('High state representative p_switch:',p_switch_high)\n",
    "    print('Boundary between states:',p_switch_boundary)\n",
    "else:\n",
    "    print('Something weird is going on')"
   ],
   "metadata": {
    "collapsed": false,
    "ExecuteTime": {
     "end_time": "2024-06-05T15:13:04.985708Z",
     "start_time": "2024-06-05T15:13:04.980860Z"
    }
   },
   "outputs": [
    {
     "name": "stdout",
     "output_type": "stream",
     "text": [
      "Local minima in squared difference: [11.0, 20.0, 241.0]\n",
      "Local maxima in squared difference: [15.0, 120.0]\n",
      "Low state representative p_switch: 11.0\n",
      "High state representative p_switch: 241.0\n",
      "Boundary between states: 20.0\n"
     ]
    }
   ],
   "execution_count": 7
  },
  {
   "cell_type": "code",
   "source": [
    "# SIMULATE FOR XTRA GENE PRESENT\n",
    "\n",
    "# GET LOW-EXPRESSION DETERMINISTIC STEADY STATE FOR ALL GENES PRESENT\n",
    "init_conds['p_switch'] = 0 # to get low equilibrium, start at zero\n",
    "# initial simulation to get the steady state without gene expression loss\n",
    "tf = (0, 50)  # simulation time frame\n",
    "sol=ode_sim(par,    # dictionary with model parameters\n",
    "            ode_with_circuit,   #  ODE function for the cell with synthetic circuit\n",
    "            cellmodel_auxil.x0_from_init_conds(init_conds,circuit_genes,circuit_miscs),  # initial condition VECTOR\n",
    "            len(circuit_genes), len(circuit_miscs), circuit_name2pos, # dictionaries with circuit gene and miscellaneous specie names, species name to vector position decoder\n",
    "            cellmodel_auxil.synth_gene_params_for_jax(par,circuit_genes), # synthetic gene parameters for calculating k values\n",
    "            tf, jnp.arange(tf[0], tf[1]+savetimestep/2, savetimestep), # time frame and time axis for saving the system's state\n",
    "            rtol, atol)    # relative and absolute tolerances\n",
    "ts_det=np.array(sol.ts)\n",
    "xs_det=np.array(sol.ys)\n",
    "# get the steady state from the deterministic simulation\n",
    "det_steady_x = xs_det[-1, :]"
   ],
   "metadata": {
    "collapsed": false,
    "ExecuteTime": {
     "end_time": "2024-06-05T15:13:11.131346Z",
     "start_time": "2024-06-05T15:13:04.986728Z"
    }
   },
   "outputs": [],
   "execution_count": 8
  },
  {
   "metadata": {
    "ExecuteTime": {
     "end_time": "2024-06-05T15:14:40.645247Z",
     "start_time": "2024-06-05T15:14:40.642092Z"
    }
   },
   "cell_type": "code",
   "source": [
    "# INTEGRASE CONCENTRATIONS FROM SWITCH PROTEIN CONCENTRATION\n",
    "p_int_low=pint_from_pswitch_and_xi(p_switch_low,xis['a'] + xis['r'] + xis['other'] + xis['cat'] + xis['prot'],par, cellvars)\n",
    "p_int_high=pint_from_pswitch_and_xi(p_switch_high,xis['a'] + xis['r'] + xis['other'] + xis['cat'] + xis['prot'],par, cellvars)\n",
    "print('Integrase concentration at low state:',p_int_low)\n",
    "print('Integrase concentration at high state:',p_int_high)"
   ],
   "outputs": [
    {
     "name": "stdout",
     "output_type": "stream",
     "text": [
      "Integrase concentration at low state: 4.094744138435376\n",
      "Integrase concentration at high state: 90.36172965262294\n"
     ]
    }
   ],
   "execution_count": 11
  },
  {
   "metadata": {
    "ExecuteTime": {
     "end_time": "2024-06-05T15:15:26.510099Z",
     "start_time": "2024-06-05T15:15:26.507451Z"
    }
   },
   "cell_type": "code",
   "source": [
    "# SWITCH CONDITION DEFINITION\n",
    "\n",
    "# condition for RISING to a higher state\n",
    "def switch_condition_rise(x,next_x,switch_boundary,p_pos):\n",
    "    return jnp.logical_and(x[p_pos]<switch_boundary,\n",
    "                           next_x[p_pos]>=switch_boundary)"
   ],
   "outputs": [],
   "execution_count": 12
  },
  {
   "metadata": {
    "ExecuteTime": {
     "end_time": "2024-06-05T15:15:28.171971Z",
     "start_time": "2024-06-05T15:15:28.169363Z"
    }
   },
   "cell_type": "code",
   "source": [
    "# MEMORY-EFFICIENT SWITCH TIME DETERMINATION\n",
    "\n",
    "# we consider state switched when we come within  10% OF CHARACTERISTIC PROTEIN CONCENTRATION\n",
    "sc_low_to_high=lambda x, next_x: switch_condition_rise(x,next_x,0.9*p_int_high,circuit_name2pos['p_int']) # high to low switching\n",
    "sc_unnecessary=lambda x, next_x: jnp.zeros_like(x[circuit_name2pos['p_int']],dtype=bool) # second switch condition check unnecessary here"
   ],
   "outputs": [],
   "execution_count": 13
  },
  {
   "metadata": {
    "ExecuteTime": {
     "end_time": "2024-06-05T15:17:57.980653Z",
     "start_time": "2024-06-05T15:15:29.962960Z"
    }
   },
   "cell_type": "code",
   "source": [
    "tf_hybrid = (ts_det[-1], ts_det[-1] + tau_leap_sim_duration)  # simulation time frame\n",
    "mRNA_count_scales, S, x0_tauleap, circuit_synpos2genename, keys0 = tauleap_sim_prep(par, len(circuit_genes),\n",
    "                                                                                    len(circuit_miscs),\n",
    "                                                                                    circuit_name2pos, det_steady_x,\n",
    "                                                                                    key_seeds=key_seeds)\n",
    "\n",
    "low_to_high_switch_times_since_stochstart, _, \\\n",
    "            final_keys_hybrid = tauleap_sim_switch(par,  # dictionary with model parameters\n",
    "                                                    circuit_v,  # circuit reaction propensity calculator\n",
    "                                                    x0_tauleap, # initial condition VECTOR (processed to make sure random variables are appropriate integers)\n",
    "                                                    len(circuit_genes), len(circuit_miscs),\n",
    "                                                    circuit_name2pos,\n",
    "                                                    cellmodel_auxil.synth_gene_params_for_jax(par,\n",
    "                                                                                       circuit_genes), # synthetic gene parameters for calculating k values\n",
    "                                                    tf_hybrid, tau, tau_odestep, tau_savetimestep, # simulation parameters: time frame, tau leap step size, number of ode integration steps in a single tau leap step\n",
    "                                                    mRNA_count_scales, S, circuit_synpos2genename, # mRNA count scaling factor, stoichiometry matrix, synthetic gene number in list of synth. genes to name decoder\n",
    "                                                    keys0, # starting random number genereation key\n",
    "                                                    sc_low_to_high, sc_unnecessary\n",
    "                                                    )  \n",
    "\n",
    "# record switching times in numpy arrays\n",
    "low_to_high_switch_times=np.array(low_to_high_switch_times_since_stochstart) # we need times of falling to zero since REACHING THE LOW STATE\n",
    "\n",
    "# print results\n",
    "print('Low-to-high switch times:',low_to_high_switch_times)\n",
    "\n",
    "# clean memory\n",
    "del final_keys_hybrid"
   ],
   "outputs": [
    {
     "name": "stdout",
     "output_type": "stream",
     "text": [
      "Low-to-high switch times: [0.   2.44]\n"
     ]
    }
   ],
   "execution_count": 14
  },
  {
   "metadata": {
    "ExecuteTime": {
     "end_time": "2024-06-05T15:18:33.694484Z",
     "start_time": "2024-06-05T15:18:32.969870Z"
    }
   },
   "cell_type": "code",
   "source": [
    "# ESTIMATE SWITCHING TIMES AND CONFIDENCE INTERVALS\n",
    "\n",
    "# low-to-high switch times\n",
    "N=len(key_seeds) # number of samples\n",
    "T=tau_leap_sim_duration # total simulation time\n",
    "print('Number of samples:',N)\n",
    "print('')\n",
    "print('Sampling time interval for low-to-high switch times:',T)\n",
    "high_to_low_mle=find_mle(low_to_high_switch_times,N,T) # maximum likelihood estimate\n",
    "high_to_low_leftconfint, high_to_low_rightconfint=np.array(find_confint(high_to_low_mle,N,T,0.05)) # 95% confidence interval\n",
    "print('Low-to-high switch times MLE:',high_to_low_mle)\n",
    "print('Low-to-high switch times 95% confidence interval:',high_to_low_leftconfint, high_to_low_rightconfint)"
   ],
   "outputs": [
    {
     "name": "stdout",
     "output_type": "stream",
     "text": [
      "Number of samples: 2\n",
      "\n",
      "Sampling time interval for low-to-high switch times: 10\n",
      "Low-to-high switch times MLE: 12.44\n",
      "Low-to-high switch times 95% confidence interval: 3.8991734469387875 80.15769291953058\n"
     ]
    }
   ],
   "execution_count": 15
  },
  {
   "cell_type": "code",
   "source": [
    "# PLOT SWITCH TRAJECTORIES\n",
    "hist_bins=100\n",
    "\n",
    "# HISTOGRAM OF FALL TIMES: HIGH TO LOW\n",
    "falltime_htl_hist_withburden=bkplot.figure(title='Distribution of low-to-high switch times',\n",
    "                                   x_axis_label='Fall time [h]',\n",
    "                                   y_axis_label='Frequency',\n",
    "                                   width=400,height=300)\n",
    "# get numpy histogram\n",
    "ft_htl_hist_withburden, ftl_htl_edges_withburden=np.histogram(low_to_high_switch_times,bins=hist_bins,density=False)\n",
    "# plot histogram\n",
    "falltime_htl_hist_withburden.quad(top=ft_htl_hist_withburden, bottom=0,\n",
    "                              left=ftl_htl_edges_withburden[:-1], right=ftl_htl_edges_withburden[1:],\n",
    "                            color='magenta')\n",
    "# mark mean fall time\n",
    "falltime_htl_hist_withburden.add_layout(bkmodels.Span(location=high_to_low_mle, dimension='height',\n",
    "                                              line_dash='dashed', line_color='navy', line_width=2, line_alpha=0.5))\n",
    "# mark 95% confidence interval for fall times\n",
    "falltime_htl_hist_withburden.add_layout(bkmodels.BoxAnnotation(left=high_to_low_leftconfint, right=high_to_low_rightconfint,\n",
    "                                                       fill_color='navy', fill_alpha=0.1)) # range\n",
    "\n",
    "# show plot\n",
    "bkplot.show(falltime_htl_hist_withburden)"
   ],
   "metadata": {
    "collapsed": false,
    "ExecuteTime": {
     "end_time": "2024-06-05T15:18:36.900594Z",
     "start_time": "2024-06-05T15:18:36.869257Z"
    }
   },
   "outputs": [
    {
     "data": {
      "text/html": [
       "\n",
       "  <div id=\"eb499fc1-1457-4d9f-b441-c0942a9d2438\" data-root-id=\"p1001\" style=\"display: contents;\"></div>\n"
      ]
     },
     "metadata": {},
     "output_type": "display_data"
    },
    {
     "data": {
      "application/javascript": "(function(root) {\n  function embed_document(root) {\n  const docs_json = {\"074f0125-fd4c-4439-b77c-337d91bc0342\":{\"version\":\"3.4.0\",\"title\":\"Bokeh Application\",\"roots\":[{\"type\":\"object\",\"name\":\"Figure\",\"id\":\"p1001\",\"attributes\":{\"width\":400,\"height\":300,\"x_range\":{\"type\":\"object\",\"name\":\"DataRange1d\",\"id\":\"p1002\"},\"y_range\":{\"type\":\"object\",\"name\":\"DataRange1d\",\"id\":\"p1003\"},\"x_scale\":{\"type\":\"object\",\"name\":\"LinearScale\",\"id\":\"p1011\"},\"y_scale\":{\"type\":\"object\",\"name\":\"LinearScale\",\"id\":\"p1012\"},\"title\":{\"type\":\"object\",\"name\":\"Title\",\"id\":\"p1004\",\"attributes\":{\"text\":\"Distribution of low-to-high switch times\"}},\"renderers\":[{\"type\":\"object\",\"name\":\"GlyphRenderer\",\"id\":\"p1040\",\"attributes\":{\"data_source\":{\"type\":\"object\",\"name\":\"ColumnDataSource\",\"id\":\"p1034\",\"attributes\":{\"selected\":{\"type\":\"object\",\"name\":\"Selection\",\"id\":\"p1035\",\"attributes\":{\"indices\":[],\"line_indices\":[]}},\"selection_policy\":{\"type\":\"object\",\"name\":\"UnionRenderers\",\"id\":\"p1036\"},\"data\":{\"type\":\"map\",\"entries\":[[\"top\",{\"type\":\"ndarray\",\"array\":{\"type\":\"bytes\",\"data\":\"AQAAAAAAAAAAAAAAAAAAAAAAAAAAAAAAAAAAAAAAAAAAAAAAAAAAAAAAAAAAAAAAAAAAAAAAAAAAAAAAAAAAAAAAAAAAAAAAAAAAAAAAAAAAAAAAAAAAAAAAAAAAAAAAAAAAAAAAAAAAAAAAAAAAAAAAAAAAAAAAAAAAAAAAAAAAAAAAAAAAAAAAAAAAAAAAAAAAAAAAAAAAAAAAAAAAAAAAAAAAAAAAAAAAAAAAAAAAAAAAAAAAAAAAAAAAAAAAAAAAAAAAAAAAAAAAAAAAAAAAAAAAAAAAAAAAAAAAAAAAAAAAAAAAAAAAAAAAAAAAAAAAAAAAAAAAAAAAAAAAAAAAAAAAAAAAAAAAAAAAAAAAAAAAAAAAAAAAAAAAAAAAAAAAAAAAAAAAAAAAAAAAAAAAAAAAAAAAAAAAAAAAAAAAAAAAAAAAAAAAAAAAAAAAAAAAAAAAAAAAAAAAAAAAAAAAAAAAAAAAAAAAAAAAAAAAAAAAAAAAAAAAAAAAAAAAAAAAAAAAAAAAAAAAAQAAAA==\"},\"shape\":[100],\"dtype\":\"int32\",\"order\":\"little\"}],[\"left\",{\"type\":\"ndarray\",\"array\":{\"type\":\"bytes\",\"data\":\"AAAAAAAAAAAG8BZIUPyYPwbwFkhQ/Kg/BDQRNjy9sj8G8BZIUPy4PwisHFpkO78/BDQRNjy9wj8FEhQ/xtzFPwbwFkhQ/Mg/B84ZUdobzD8IrBxaZDvPPwTFjzF3LdE/BDQRNjy90j8Fo5I6AU3UPwUSFD/G3NU/BoGVQ4ts1z8G8BZIUPzYPwZfmEwVjNo/B84ZUdob3D8HPZtVn6vdPwisHFpkO98/hA1Pr5Rl4D8ExY8xdy3hP4R80LNZ9eE/BDQRNjy94j+F61G4HoXjPwWjkjoBTeQ/hVrTvOMU5T8FEhQ/xtzlP4XJVMGopOY/BoGVQ4ts5z+GONbFbTToPwbwFkhQ/Og/hqdXyjLE6T8GX5hMFYzqP4cW2c73U+s/B84ZUdob7D+HhVrTvOPsPwc9m1Wfq+0/h/Tb14Fz7j8IrBxaZDvvP8SxLm6jAfA/hA1Pr5Rl8D9EaW/whcnwPwTFjzF3LfE/xCCwcmiR8T+EfNCzWfXxP0TY8PRKWfI/BDQRNjy98j/FjzF3LSHzP4XrUbgehfM/RUdy+Q/p8z8Fo5I6AU30P8X+snvysPQ/hVrTvOMU9T9FtvP91Hj1PwUSFD/G3PU/xW00gLdA9j+FyVTBqKT2P0YldQKaCPc/BoGVQ4ts9z/G3LWEfND3P4Y41sVtNPg/RpT2Bl+Y+D8G8BZIUPz4P8ZLN4lBYPk/hqdXyjLE+T9GA3gLJCj6PwZfmEwVjPo/xrq4jQbw+j+HFtnO91P7P0dy+Q/pt/s/B84ZUdob/D/HKTqSy3/8P4eFWtO84/w/R+F6FK5H/T8HPZtVn6v9P8eYu5aQD/4/h/Tb14Fz/j9HUPwYc9f+PwisHFpkO/8/yAc9m1Wf/z/EsS5uowEAQKTfvg6cMwBAhA1Pr5RlAEBkO99PjZcAQERpb/CFyQBAJJf/kH77AEAExY8xdy0BQOTyH9JvXwFAxCCwcmiRAUCkTkATYcMBQIR80LNZ9QFAZKpgVFInAkBE2PD0SlkCQCQGgZVDiwJABDQRNjy9AkDlYaHWNO8CQMWPMXctIQNApb3BFyZTA0A=\"},\"shape\":[100],\"dtype\":\"float64\",\"order\":\"little\"}],[\"right\",{\"type\":\"ndarray\",\"array\":{\"type\":\"bytes\",\"data\":\"BvAWSFD8mD8G8BZIUPyoPwQ0ETY8vbI/BvAWSFD8uD8IrBxaZDu/PwQ0ETY8vcI/BRIUP8bcxT8G8BZIUPzIPwfOGVHaG8w/CKwcWmQ7zz8ExY8xdy3RPwQ0ETY8vdI/BaOSOgFN1D8FEhQ/xtzVPwaBlUOLbNc/BvAWSFD82D8GX5hMFYzaPwfOGVHaG9w/Bz2bVZ+r3T8IrBxaZDvfP4QNT6+UZeA/BMWPMXct4T+EfNCzWfXhPwQ0ETY8veI/hetRuB6F4z8Fo5I6AU3kP4Va07zjFOU/BRIUP8bc5T+FyVTBqKTmPwaBlUOLbOc/hjjWxW006D8G8BZIUPzoP4anV8oyxOk/Bl+YTBWM6j+HFtnO91PrPwfOGVHaG+w/h4Va07zj7D8HPZtVn6vtP4f029eBc+4/CKwcWmQ77z/EsS5uowHwP4QNT6+UZfA/RGlv8IXJ8D8ExY8xdy3xP8QgsHJokfE/hHzQs1n18T9E2PD0SlnyPwQ0ETY8vfI/xY8xdy0h8z+F61G4HoXzP0VHcvkP6fM/BaOSOgFN9D/F/rJ78rD0P4Va07zjFPU/Rbbz/dR49T8FEhQ/xtz1P8VtNIC3QPY/hclUwaik9j9GJXUCmgj3PwaBlUOLbPc/xty1hHzQ9z+GONbFbTT4P0aU9gZfmPg/BvAWSFD8+D/GSzeJQWD5P4anV8oyxPk/RgN4CyQo+j8GX5hMFYz6P8a6uI0G8Po/hxbZzvdT+z9HcvkP6bf7PwfOGVHaG/w/xyk6kst//D+HhVrTvOP8P0fhehSuR/0/Bz2bVZ+r/T/HmLuWkA/+P4f029eBc/4/R1D8GHPX/j8IrBxaZDv/P8gHPZtVn/8/xLEubqMBAECk374OnDMAQIQNT6+UZQBAZDvfT42XAEBEaW/whckAQCSX/5B++wBABMWPMXctAUDk8h/Sb18BQMQgsHJokQFApE5AE2HDAUCEfNCzWfUBQGSqYFRSJwJARNjw9EpZAkAkBoGVQ4sCQAQ0ETY8vQJA5WGh1jTvAkDFjzF3LSEDQKW9wRcmUwNAhetRuB6FA0A=\"},\"shape\":[100],\"dtype\":\"float64\",\"order\":\"little\"}]]}}},\"view\":{\"type\":\"object\",\"name\":\"CDSView\",\"id\":\"p1041\",\"attributes\":{\"filter\":{\"type\":\"object\",\"name\":\"AllIndices\",\"id\":\"p1042\"}}},\"glyph\":{\"type\":\"object\",\"name\":\"Quad\",\"id\":\"p1037\",\"attributes\":{\"left\":{\"type\":\"field\",\"field\":\"left\"},\"right\":{\"type\":\"field\",\"field\":\"right\"},\"bottom\":{\"type\":\"value\",\"value\":0},\"top\":{\"type\":\"field\",\"field\":\"top\"},\"line_color\":{\"type\":\"value\",\"value\":\"magenta\"},\"fill_color\":{\"type\":\"value\",\"value\":\"magenta\"},\"hatch_color\":{\"type\":\"value\",\"value\":\"magenta\"}}},\"nonselection_glyph\":{\"type\":\"object\",\"name\":\"Quad\",\"id\":\"p1038\",\"attributes\":{\"left\":{\"type\":\"field\",\"field\":\"left\"},\"right\":{\"type\":\"field\",\"field\":\"right\"},\"bottom\":{\"type\":\"value\",\"value\":0},\"top\":{\"type\":\"field\",\"field\":\"top\"},\"line_color\":{\"type\":\"value\",\"value\":\"magenta\"},\"line_alpha\":{\"type\":\"value\",\"value\":0.1},\"fill_color\":{\"type\":\"value\",\"value\":\"magenta\"},\"fill_alpha\":{\"type\":\"value\",\"value\":0.1},\"hatch_color\":{\"type\":\"value\",\"value\":\"magenta\"},\"hatch_alpha\":{\"type\":\"value\",\"value\":0.1}}},\"muted_glyph\":{\"type\":\"object\",\"name\":\"Quad\",\"id\":\"p1039\",\"attributes\":{\"left\":{\"type\":\"field\",\"field\":\"left\"},\"right\":{\"type\":\"field\",\"field\":\"right\"},\"bottom\":{\"type\":\"value\",\"value\":0},\"top\":{\"type\":\"field\",\"field\":\"top\"},\"line_color\":{\"type\":\"value\",\"value\":\"magenta\"},\"line_alpha\":{\"type\":\"value\",\"value\":0.2},\"fill_color\":{\"type\":\"value\",\"value\":\"magenta\"},\"fill_alpha\":{\"type\":\"value\",\"value\":0.2},\"hatch_color\":{\"type\":\"value\",\"value\":\"magenta\"},\"hatch_alpha\":{\"type\":\"value\",\"value\":0.2}}}}}],\"toolbar\":{\"type\":\"object\",\"name\":\"Toolbar\",\"id\":\"p1010\",\"attributes\":{\"tools\":[{\"type\":\"object\",\"name\":\"PanTool\",\"id\":\"p1023\"},{\"type\":\"object\",\"name\":\"WheelZoomTool\",\"id\":\"p1024\",\"attributes\":{\"renderers\":\"auto\"}},{\"type\":\"object\",\"name\":\"BoxZoomTool\",\"id\":\"p1025\",\"attributes\":{\"overlay\":{\"type\":\"object\",\"name\":\"BoxAnnotation\",\"id\":\"p1026\",\"attributes\":{\"syncable\":false,\"level\":\"overlay\",\"visible\":false,\"left\":{\"type\":\"number\",\"value\":\"nan\"},\"right\":{\"type\":\"number\",\"value\":\"nan\"},\"top\":{\"type\":\"number\",\"value\":\"nan\"},\"bottom\":{\"type\":\"number\",\"value\":\"nan\"},\"left_units\":\"canvas\",\"right_units\":\"canvas\",\"top_units\":\"canvas\",\"bottom_units\":\"canvas\",\"line_color\":\"black\",\"line_alpha\":1.0,\"line_width\":2,\"line_dash\":[4,4],\"fill_color\":\"lightgrey\",\"fill_alpha\":0.5}}}},{\"type\":\"object\",\"name\":\"SaveTool\",\"id\":\"p1031\"},{\"type\":\"object\",\"name\":\"ResetTool\",\"id\":\"p1032\"},{\"type\":\"object\",\"name\":\"HelpTool\",\"id\":\"p1033\"}]}},\"left\":[{\"type\":\"object\",\"name\":\"LinearAxis\",\"id\":\"p1018\",\"attributes\":{\"ticker\":{\"type\":\"object\",\"name\":\"BasicTicker\",\"id\":\"p1019\",\"attributes\":{\"mantissas\":[1,2,5]}},\"formatter\":{\"type\":\"object\",\"name\":\"BasicTickFormatter\",\"id\":\"p1020\"},\"axis_label\":\"Frequency\",\"major_label_policy\":{\"type\":\"object\",\"name\":\"AllLabels\",\"id\":\"p1021\"}}}],\"below\":[{\"type\":\"object\",\"name\":\"LinearAxis\",\"id\":\"p1013\",\"attributes\":{\"ticker\":{\"type\":\"object\",\"name\":\"BasicTicker\",\"id\":\"p1014\",\"attributes\":{\"mantissas\":[1,2,5]}},\"formatter\":{\"type\":\"object\",\"name\":\"BasicTickFormatter\",\"id\":\"p1015\"},\"axis_label\":\"Fall time [h]\",\"major_label_policy\":{\"type\":\"object\",\"name\":\"AllLabels\",\"id\":\"p1016\"}}}],\"center\":[{\"type\":\"object\",\"name\":\"Grid\",\"id\":\"p1017\",\"attributes\":{\"axis\":{\"id\":\"p1013\"}}},{\"type\":\"object\",\"name\":\"Grid\",\"id\":\"p1022\",\"attributes\":{\"dimension\":1,\"axis\":{\"id\":\"p1018\"}}},{\"type\":\"object\",\"name\":\"Span\",\"id\":\"p1043\",\"attributes\":{\"location\":12.44,\"dimension\":\"height\",\"line_color\":\"navy\",\"line_alpha\":0.5,\"line_width\":2,\"line_dash\":[6]}},{\"type\":\"object\",\"name\":\"BoxAnnotation\",\"id\":\"p1044\",\"attributes\":{\"left\":3.8991734469387875,\"right\":80.15769291953058,\"top\":{\"type\":\"object\",\"name\":\"Node\",\"id\":\"p1047\",\"attributes\":{\"target\":\"frame\",\"symbol\":\"top\"}},\"bottom\":{\"type\":\"object\",\"name\":\"Node\",\"id\":\"p1048\",\"attributes\":{\"target\":\"frame\",\"symbol\":\"bottom\"}},\"fill_color\":\"navy\",\"fill_alpha\":0.1}}]}}]}};\n  const render_items = [{\"docid\":\"074f0125-fd4c-4439-b77c-337d91bc0342\",\"roots\":{\"p1001\":\"eb499fc1-1457-4d9f-b441-c0942a9d2438\"},\"root_ids\":[\"p1001\"]}];\n  void root.Bokeh.embed.embed_items_notebook(docs_json, render_items);\n  }\n  if (root.Bokeh !== undefined) {\n    embed_document(root);\n  } else {\n    let attempts = 0;\n    const timer = setInterval(function(root) {\n      if (root.Bokeh !== undefined) {\n        clearInterval(timer);\n        embed_document(root);\n      } else {\n        attempts++;\n        if (attempts > 100) {\n          clearInterval(timer);\n          console.log(\"Bokeh: ERROR: Unable to run BokehJS code because BokehJS library is missing\");\n        }\n      }\n    }, 10, root)\n  }\n})(window);",
      "application/vnd.bokehjs_exec.v0+json": ""
     },
     "metadata": {
      "application/vnd.bokehjs_exec.v0+json": {
       "id": "p1001"
      }
     },
     "output_type": "display_data"
    }
   ],
   "execution_count": 16
  },
  {
   "metadata": {
    "ExecuteTime": {
     "end_time": "2024-06-05T15:18:40.022264Z",
     "start_time": "2024-06-05T15:18:40.019637Z"
    }
   },
   "cell_type": "code",
   "source": [
    "# THE CASE WITH XTRA GENE MUTATED\n",
    "\n",
    "par_no_xtra=par.copy() # parameters for the case with the xtra gene absent\n",
    "par_no_xtra['func_xtra']=0.0 # xtra gene concentration\n",
    "\n",
    "cellvars_no_xtra=cellvars.copy() # cellular variables for the case with the xtra gene absent\n",
    "cellvars_no_xtra['xi_xtra']=0 # no  burdensome gene"
   ],
   "outputs": [],
   "execution_count": 17
  },
  {
   "metadata": {
    "ExecuteTime": {
     "end_time": "2024-06-05T15:18:43.082961Z",
     "start_time": "2024-06-05T15:18:43.078285Z"
    }
   },
   "cell_type": "code",
   "source": [
    "# GET THE HIGH STATE WITH THE XTRA GENE ABSENT (LOW STATE REUSED)\n",
    "\n",
    "# axis of p_switch values - there can only be an integer number of proteins\n",
    "p_switches=np.arange(0,p_switch_upper_bound+0.1,1)\n",
    "\n",
    "# define function for calculating the squared difference between the required and actual F values\n",
    "sqdiff_no_xtra = lambda p_switch: (F_real_calc(p_switch, par_no_xtra) - F_req_calc(p_switch, xi_no_xtra, par_no_xtra, cellvars_no_xtra)) ** 2\n",
    "\n",
    "# find the squared differences\n",
    "sqdiffs=np.zeros_like(p_switches)\n",
    "for i in range(0,len(p_switches)):\n",
    "    sqdiffs[i]=sqdiff_no_xtra(p_switches[i])\n",
    "\n",
    "# find the local minima and maxima in squared differences\n",
    "loc_minima=[]\n",
    "loc_maxima=[]\n",
    "for i in range(1,len(p_switches)-1):\n",
    "    # detect a local minimum\n",
    "    if(sqdiffs[i]<=sqdiffs[i-1] and sqdiffs[i]<=sqdiffs[i+1]):\n",
    "        loc_minima.append(p_switches[i])\n",
    "    # detect a local maximum\n",
    "    elif(sqdiffs[i]>=sqdiffs[i-1] and sqdiffs[i]>=sqdiffs[i+1]):\n",
    "        loc_maxima.append(p_switches[i])\n",
    "\n",
    "# print results\n",
    "print('Local minima in squared difference:',loc_minima)\n",
    "print('Local maxima in squared difference:',loc_maxima)\n",
    "\n",
    "# based on our prior findings, with burden present we expect one stable equilibrium, one pseudo-equilibrium and one local maximum in squared differences\n",
    "# this corresponds to three local minima and two local maxima in the squared difference between F values\n",
    "if (len(loc_minima)==2 and len(loc_maxima)==1):\n",
    "    p_switch_high_no_xtra=loc_minima[1] # REDEFINE high state standing for high-concentration stable equilibrium\n",
    "    print('High state representative p_switch:',p_switch_high_no_xtra)\n",
    "else:\n",
    "    print('Something weird is going on')"
   ],
   "outputs": [
    {
     "name": "stdout",
     "output_type": "stream",
     "text": [
      "Local minima in squared difference: [13.0, 285.0]\n",
      "Local maxima in squared difference: [130.0]\n",
      "High state representative p_switch: 285.0\n"
     ]
    }
   ],
   "execution_count": 18
  },
  {
   "metadata": {
    "ExecuteTime": {
     "end_time": "2024-06-05T15:18:55.410867Z",
     "start_time": "2024-06-05T15:18:55.407735Z"
    }
   },
   "cell_type": "code",
   "source": [
    "# INTEGRASE CONCENTRATIONS FROM SWITCH PROTEIN CONCENTRATIONS\n",
    "\n",
    "p_int_low_no_xtra=pint_from_pswitch_and_xi(p_switch_low,xis['a'] + xis['r'] + xis['cat'] + xis['prot'],par_no_xtra, cellvars_no_xtra)\n",
    "p_int_high_no_xtra=pint_from_pswitch_and_xi(p_switch_high_no_xtra,xis['a'] + xis['r'] + xis['cat'] + xis['prot'],par_no_xtra, cellvars_no_xtra)\n",
    "print('Integrase concentration at low state:',p_int_low_no_xtra)\n",
    "print('Integrase concentration at high state:',p_int_high_no_xtra)"
   ],
   "outputs": [
    {
     "name": "stdout",
     "output_type": "stream",
     "text": [
      "Integrase concentration at low state: 4.681625346628652\n",
      "Integrase concentration at high state: 106.7590686313525\n"
     ]
    }
   ],
   "execution_count": 20
  },
  {
   "cell_type": "code",
   "source": [
    "# GET DETERMINISTIC STEADY STATE\n",
    "\n",
    "# taken from the case with burden\n",
    "ts_det_no_xtra=ts_det.copy()\n",
    "xs_det_no_xtra=xs_det.copy()\n",
    "det_steady_x_no_xtra=det_steady_x.copy()"
   ],
   "metadata": {
    "collapsed": false,
    "ExecuteTime": {
     "end_time": "2024-06-05T15:18:57.722294Z",
     "start_time": "2024-06-05T15:18:57.719742Z"
    }
   },
   "outputs": [],
   "execution_count": 21
  },
  {
   "metadata": {
    "ExecuteTime": {
     "end_time": "2024-06-05T15:24:06.005166Z",
     "start_time": "2024-06-05T15:21:42.090993Z"
    }
   },
   "cell_type": "code",
   "source": [
    "# MEMORY-EFFICIENT SWITCH TIME DETERMINATION\n",
    "\n",
    "# we consider state switched when we come within  10% OF CHARACTERISTIC PROTEIN CONCENTRATION\n",
    "# IMPORTANT: switch states assumed to be the same between the cases with and without the xtra gene\n",
    "sc_low_to_high_no_xtra=lambda x, next_x: switch_condition_rise(x,next_x,0.9*p_int_high_no_xtra,circuit_name2pos['p_int']) # low to (new) high switching\n",
    "\n",
    "tf_hybrid_no_xtra = (ts_det_no_xtra[-1], ts_det_no_xtra[-1] + tau_leap_sim_duration)  # simulation time frame\n",
    "mRNA_count_scales_no_xtra, S_no_xtra, x0_tauleap_no_xtra, circuit_synpos2genename_no_xtra, keys0_no_xtra = tauleap_sim_prep(par_no_xtra, len(circuit_genes),\n",
    "                                                                                    len(circuit_miscs),\n",
    "                                                                                    circuit_name2pos, det_steady_x_no_xtra,\n",
    "                                                                                    key_seeds=key_seeds_no_xtra)   \n",
    "\n",
    "low_to_high_switch_times_no_xtra_since_stochastart_no_xtra, _, \\\n",
    "            final_keys_hybrid_no_xtra = tauleap_sim_switch(par_no_xtra,  # dictionary with model parameters\n",
    "                                                    circuit_v,  # circuit reaction propensity calculator\n",
    "                                                    x0_tauleap_no_xtra, # initial condition VECTOR (processed to make sure random variables are appropriate integers)\n",
    "                                                    len(circuit_genes), len(circuit_miscs),\n",
    "                                                    circuit_name2pos,\n",
    "                                                    cellmodel_auxil.synth_gene_params_for_jax(par_no_xtra,\n",
    "                                                                                       circuit_genes), # synthetic gene parameters for calculating k values\n",
    "                                                    tf_hybrid_no_xtra, tau, tau_odestep, tau_savetimestep, # simulation parameters: time frame, tau leap step size, number of ode integration steps in a single tau leap step\n",
    "                                                    mRNA_count_scales_no_xtra, S_no_xtra, circuit_synpos2genename_no_xtra, # mRNA count scaling factor, stoichiometry matrix, synthetic gene number in list of synth. genes to name decoder\n",
    "                                                    keys0_no_xtra, # starting random number genereation key\n",
    "                                                    sc_low_to_high_no_xtra, sc_unnecessary\n",
    "                                                    )\n",
    "\n",
    "# record switching times in numpy arrays\n",
    "low_to_high_switch_times_no_xtra=np.array(low_to_high_switch_times_no_xtra_since_stochastart_no_xtra) # we need times of falling to zero since REACHING THE LOW STATE\n",
    "\n",
    "print('Low-to-high switch times:',low_to_high_switch_times_no_xtra)\n",
    "\n",
    "del final_keys_hybrid_no_xtra"
   ],
   "outputs": [
    {
     "name": "stdout",
     "output_type": "stream",
     "text": [
      "Low-to-high switch times: [2.15 2.4 ]\n"
     ]
    }
   ],
   "execution_count": 23
  },
  {
   "metadata": {},
   "cell_type": "code",
   "source": [
    "# ESTIMATE SWITCHING TIMES AND CONFIDENCE INTERVALS\n",
    "\n",
    "# low-to-high switch times\n",
    "N=len(key_seeds) # number of samples\n",
    "T=tau_leap_sim_duration # total simulation time\n",
    "print('Number of samples:',N)\n",
    "print('')\n",
    "print('Sampling time interval for low-to-high switch times:',T)\n",
    "high_to_low_mle_no_xtra=find_mle(low_to_high_switch_times_no_xtra,N,T) # maximum likelihood estimate\n",
    "high_to_low_leftconfint_no_xtra, high_to_low_rightconfint_no_xtra=np.array(find_confint(high_to_low_mle_no_xtra,N,T,0.05)) # 95% confidence interval\n",
    "print('Low-to-high switch times MLE:',high_to_low_mle_no_xtra)\n",
    "print('Low-to-high switch times 95% confidence interval:',high_to_low_leftconfint_no_xtra, high_to_low_rightconfint_no_xtra)"
   ],
   "outputs": [],
   "execution_count": null
  },
  {
   "cell_type": "code",
   "source": [
    "# PLOT SWITCH TIMES\n",
    "hist_bins=100\n",
    "\n",
    "# HISTOGRAM OF FALL TIMES: HIGH TO LOW\n",
    "falltime_htl_hist_noburden=bkplot.figure(title='Distribution of low-to-high switch times',\n",
    "                                   x_axis_label='Fall time [h]',\n",
    "                                   y_axis_label='Frequency',\n",
    "                                   width=400,height=300)\n",
    "# get numpy histogram\n",
    "ft_htl_hist_noburden, ftl_htl_edges_noburden=np.histogram(low_to_high_switch_times_no_xtra,bins=hist_bins,density=False)\n",
    "# plot histogram\n",
    "falltime_htl_hist_noburden.quad(top=ft_htl_hist_noburden, bottom=0,\n",
    "                              left=ftl_htl_edges_noburden[:-1], right=ftl_htl_edges_noburden[1:],\n",
    "                            color='magenta')\n",
    "# mark mean fall time\n",
    "falltime_htl_hist_noburden.add_layout(bkmodels.Span(location=high_to_low_mle_no_xtra, dimension='height',\n",
    "                                              line_dash='dashed', line_color='navy', line_width=2, line_alpha=0.5))\n",
    "# mark 95% confidence interval for fall times\n",
    "falltime_htl_hist_noburden.add_layout(bkmodels.BoxAnnotation(left=high_to_low_leftconfint_no_xtra, right=high_to_low_rightconfint_no_xtra,\n",
    "                                                       fill_color='navy', fill_alpha=0.1)) # range\n",
    "\n",
    "# show plot\n",
    "bkplot.show(falltime_htl_hist_noburden)"
   ],
   "metadata": {
    "collapsed": false
   },
   "outputs": [],
   "execution_count": null
  },
  {
   "metadata": {},
   "cell_type": "code",
   "source": [
    "# SAVE SWITCH TIMES\n",
    "\n",
    "# save the switching times\n",
    "saved_switchtimes={'low_to_high_switch_times_withburden':low_to_high_switch_times,\n",
    "                   'low_to_high_switch_times_no_xtra':low_to_high_switch_times_no_xtra}\n",
    "np.save('low_to_high_switch_times_withburden.npy',saved_switchtimes)"
   ],
   "outputs": [],
   "execution_count": null
  },
  {
   "cell_type": "code",
   "source": [
    "# CLEAR CACHES TO PREVENT CPU/GPU ERRORS\n",
    "# jax.clear_caches()"
   ],
   "metadata": {
    "collapsed": false
   },
   "outputs": [],
   "execution_count": null
  }
 ],
 "metadata": {
  "kernelspec": {
   "display_name": "Python 3",
   "language": "python",
   "name": "python3"
  },
  "language_info": {
   "codemirror_mode": {
    "name": "ipython",
    "version": 2
   },
   "file_extension": ".py",
   "mimetype": "text/x-python",
   "name": "python",
   "nbconvert_exporter": "python",
   "pygments_lexer": "ipython2",
   "version": "2.7.6"
  }
 },
 "nbformat": 4,
 "nbformat_minor": 0
}
